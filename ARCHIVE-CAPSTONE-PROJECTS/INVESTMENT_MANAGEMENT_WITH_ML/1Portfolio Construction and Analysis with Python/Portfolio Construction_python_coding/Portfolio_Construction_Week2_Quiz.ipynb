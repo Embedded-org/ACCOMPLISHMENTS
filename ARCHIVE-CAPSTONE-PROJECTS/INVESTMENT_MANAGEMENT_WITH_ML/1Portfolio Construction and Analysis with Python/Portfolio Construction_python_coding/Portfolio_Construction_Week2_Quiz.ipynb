{
  "nbformat": 4,
  "nbformat_minor": 0,
  "metadata": {
    "colab": {
      "name": "Portfolio Construction_Week2_Quiz.ipynb",
      "provenance": [],
      "collapsed_sections": []
    },
    "kernelspec": {
      "name": "python3",
      "display_name": "Python 3"
    }
  },
  "cells": [
    {
      "cell_type": "code",
      "metadata": {
        "id": "LoNMy9W0zVdY",
        "colab_type": "code",
        "colab": {}
      },
      "source": [
        "import pandas as pd\n",
        "import numpy as np"
      ],
      "execution_count": 1,
      "outputs": []
    },
    {
      "cell_type": "code",
      "metadata": {
        "id": "jkKoG7oTz1Hc",
        "colab_type": "code",
        "colab": {}
      },
      "source": [
        "def skewness(r):\n",
        "    \"\"\"\n",
        "    Alternative to scipy.stats.skew()\n",
        "    Computes the skewness of the supplied Series or DataFrame\n",
        "    Returns a float or a Series\n",
        "    \"\"\"\n",
        "    demeaned_r = r - r.mean()\n",
        "    # use the population standard deviation, so set dof=0\n",
        "    sigma_r = r.std(ddof=0)\n",
        "    exp = (demeaned_r**3).mean()\n",
        "    return exp/sigma_r**3\n",
        "\n",
        "\n",
        "def kurtosis(r):\n",
        "    \"\"\"\n",
        "    Alternative to scipy.stats.kurtosis()\n",
        "    Computes the kurtosis of the supplied Series or DataFrame\n",
        "    Returns a float or a Series\n",
        "    \"\"\"\n",
        "    demeaned_r = r - r.mean()\n",
        "    # use the population standard deviation, so set dof=0\n",
        "    sigma_r = r.std(ddof=0)\n",
        "    exp = (demeaned_r**4).mean()\n",
        "    return exp/sigma_r**4\n",
        "\n",
        "from scipy.stats import norm\n",
        "def var_gaussian(r, level=5, modified=False):\n",
        "    \"\"\"\n",
        "    Returns the Parametric Gauusian VaR of a Series or DataFrame\n",
        "    If \"modified\" is True, then the modified VaR is returned,\n",
        "    using the Cornish-Fisher modification\n",
        "    \"\"\"\n",
        "    # compute the Z score assuming it was Gaussian\n",
        "    z = norm.ppf(level/100)\n",
        "    if modified:\n",
        "        # modify the Z score based on observed skewness and kurtosis\n",
        "        s = skewness(r)\n",
        "        k = kurtosis(r)\n",
        "        z = (z +\n",
        "                (z**2 - 1)*s/6 +\n",
        "                (z**3 -3*z)*(k-3)/24 -\n",
        "                (2*z**3 - 5*z)*(s**2)/36\n",
        "            )\n",
        "    return -(r.mean() + z*r.std(ddof=0))\n",
        "\n",
        "def var_historic(r, level=5):\n",
        "    \"\"\"\n",
        "    Returns the historic Value at Risk at a specified level\n",
        "    i.e. returns the number such that \"level\" percent of the returns\n",
        "    fall below that number, and the (100-level) percent are above\n",
        "    \"\"\"\n",
        "    if isinstance(r, pd.DataFrame):\n",
        "        return r.aggregate(var_historic, level=level)\n",
        "    elif isinstance(r, pd.Series):\n",
        "        return -np.percentile(r, level)\n",
        "    else:\n",
        "        raise TypeError(\"Expected r to be a Series or DataFrame\")\n",
        "        \n",
        "def portfolio_return(weights, returns):\n",
        "    \"\"\"\n",
        "    Computes the return on a portfolio from constituent returns and weights\n",
        "    weights are a numpy array or Nx1 matrix and returns are a numpy array or Nx1 matrix\n",
        "    \"\"\"\n",
        "    return weights.T @ returns\n",
        "\n",
        "def portfolio_vol(weights, covmat):\n",
        "    \"\"\"\n",
        "    Computes the vol of a portfolio from a covariance matrix and constituent weights\n",
        "    weights are a numpy array or N x 1 maxtrix and covmat is an N x N matrix\n",
        "    \"\"\"\n",
        "    return (weights.T @ covmat @ weights)**0.5\n",
        "\n",
        "\n",
        "from scipy.optimize import minimize\n",
        "\n",
        "def msr(riskfree_rate, er, cov):\n",
        "    \"\"\"\n",
        "    Returns the weights of the portfolio that gives you the maximum sharpe ratio\n",
        "    given the riskfree rate and expected returns and a covariance matrix\n",
        "    \"\"\"\n",
        "    n = er.shape[0]\n",
        "    init_guess = np.repeat(1/n, n)\n",
        "    bounds = ((0.0, 1.0),) * n # an N-tuple of 2-tuples!\n",
        "    # construct the constraints\n",
        "    weights_sum_to_1 = {'type': 'eq',\n",
        "                        'fun': lambda weights: np.sum(weights) - 1\n",
        "    }\n",
        "    def neg_sharpe(weights, riskfree_rate, er, cov):\n",
        "        \"\"\"\n",
        "        Returns the negative of the sharpe ratio\n",
        "        of the given portfolio\n",
        "        \"\"\"\n",
        "        r = portfolio_return(weights, er)\n",
        "        vol = portfolio_vol(weights, cov)\n",
        "        return -(r - riskfree_rate)/vol\n",
        "    \n",
        "    weights = minimize(neg_sharpe, init_guess,\n",
        "                       args=(riskfree_rate, er, cov), method='SLSQP',\n",
        "                       options={'disp': False},\n",
        "                       constraints=(weights_sum_to_1,),\n",
        "                       bounds=bounds)\n",
        "    return weights.x\n",
        "\n",
        "def annualize_rets(r, periods_per_year):\n",
        "    \"\"\"\n",
        "    Annualizes a set of returns\n",
        "    We should infer the periods per year\n",
        "    but that is currently left as an exercise\n",
        "    to the reader :-)\n",
        "    \"\"\"\n",
        "    compounded_growth = (1+r).prod()\n",
        "    n_periods = r.shape[0]\n",
        "    return compounded_growth**(periods_per_year/n_periods)-1\n",
        "\n",
        "def annualize_vol(r, periods_per_year):\n",
        "    \"\"\"\n",
        "    Annualizes the vol of a set of returns\n",
        "    We should infer the periods per year\n",
        "    but that is currently left as an exercise\n",
        "    to the reader :-)\n",
        "    \"\"\"\n",
        "    return r.std()*(periods_per_year**0.5)\n",
        "\n",
        "def gmv(cov):\n",
        "    \"\"\"\n",
        "    Returns the weights of the Global Minimum Volatility portfolio\n",
        "    given a covariance matrix\n",
        "    \"\"\"\n",
        "    n = cov.shape[0]\n",
        "    return msr(0, np.repeat(1, n), cov)"
      ],
      "execution_count": 2,
      "outputs": []
    },
    {
      "cell_type": "code",
      "metadata": {
        "id": "Xidjbi5Vz_Mj",
        "colab_type": "code",
        "colab": {}
      },
      "source": [
        "df = pd.read_csv('data/edhec-hedgefundindices.csv', index_col = 0)\n",
        "\n",
        "df.index = pd.to_datetime(df.index, format=\"%d/%m/%Y\").to_period('M')\n",
        "\n",
        "ind = pd.read_csv(\"data/ind30_m_vw_rets.csv\", \n",
        "                    header=0, index_col=0)/ 100\n",
        "ind.index = pd.to_datetime(ind.index, format=\"%Y%m\").to_period('M')\n",
        "ind.columns = ind.columns.str.strip()\n",
        "\n",
        "ind_cols = [\"Books\", \"Steel\", \"Oil\",  \"Mines\"]\n",
        "rets = annualize_rets(ind.loc['2013':'2017', ind_cols], 12)\n",
        "cov = ind.loc[\"2013\":\"2017\", ind_cols].cov()"
      ],
      "execution_count": 5,
      "outputs": []
    },
    {
      "cell_type": "code",
      "metadata": {
        "id": "_KtZySG10ZDx",
        "colab_type": "code",
        "colab": {
          "base_uri": "https://localhost:8080/",
          "height": 34
        },
        "outputId": "452ad892-1223-4faa-c036-553afd4f436c"
      },
      "source": [
        "#%% quiz answers\n",
        "\n",
        "# 1. \n",
        "var_gaussian(df.loc['2000-01':, 'Distressed Securities'], level = 1)\n",
        "# 3.1\n"
      ],
      "execution_count": 6,
      "outputs": [
        {
          "output_type": "execute_result",
          "data": {
            "text/plain": [
              "3.1430176939280443"
            ]
          },
          "metadata": {
            "tags": []
          },
          "execution_count": 6
        }
      ]
    },
    {
      "cell_type": "code",
      "metadata": {
        "id": "9dvpKTv-0pTK",
        "colab_type": "code",
        "colab": {
          "base_uri": "https://localhost:8080/",
          "height": 34
        },
        "outputId": "be89df64-c7f2-46b8-e718-5c58887de3b3"
      },
      "source": [
        "# 2.\n",
        "var_gaussian(df.loc['2000-01':, 'Distressed Securities'], level = 1, \n",
        "             modified = True)\n",
        "# 4.96"
      ],
      "execution_count": 7,
      "outputs": [
        {
          "output_type": "execute_result",
          "data": {
            "text/plain": [
              "4.966909110627923"
            ]
          },
          "metadata": {
            "tags": []
          },
          "execution_count": 7
        }
      ]
    },
    {
      "cell_type": "code",
      "metadata": {
        "id": "dkGq9ioV0sYg",
        "colab_type": "code",
        "colab": {
          "base_uri": "https://localhost:8080/",
          "height": 34
        },
        "outputId": "b395c1e8-b567-4ced-cf84-2e2b385002e1"
      },
      "source": [
        "# 3.\n",
        "var_historic(df.loc['2000-01':, 'Distressed Securities'], level = 1)\n",
        "# 4.3"
      ],
      "execution_count": 8,
      "outputs": [
        {
          "output_type": "execute_result",
          "data": {
            "text/plain": [
              "4.264199999999999"
            ]
          },
          "metadata": {
            "tags": []
          },
          "execution_count": 8
        }
      ]
    },
    {
      "cell_type": "code",
      "metadata": {
        "id": "PKgugLVI0vCo",
        "colab_type": "code",
        "colab": {
          "base_uri": "https://localhost:8080/",
          "height": 173
        },
        "outputId": "11b60529-8070-4d02-e2e3-d7735d9b3b99"
      },
      "source": [
        "# 5. \n",
        "msr_w = msr(.1, rets, cov)\n",
        "df_w = pd.DataFrame({'ind':rets.index, 'msr_w': msr_w})\n",
        "df_w.sort_values(by = 'msr_w').tail()\n",
        "# 100"
      ],
      "execution_count": 9,
      "outputs": [
        {
          "output_type": "execute_result",
          "data": {
            "text/html": [
              "<div>\n",
              "<style scoped>\n",
              "    .dataframe tbody tr th:only-of-type {\n",
              "        vertical-align: middle;\n",
              "    }\n",
              "\n",
              "    .dataframe tbody tr th {\n",
              "        vertical-align: top;\n",
              "    }\n",
              "\n",
              "    .dataframe thead th {\n",
              "        text-align: right;\n",
              "    }\n",
              "</style>\n",
              "<table border=\"1\" class=\"dataframe\">\n",
              "  <thead>\n",
              "    <tr style=\"text-align: right;\">\n",
              "      <th></th>\n",
              "      <th>ind</th>\n",
              "      <th>msr_w</th>\n",
              "    </tr>\n",
              "  </thead>\n",
              "  <tbody>\n",
              "    <tr>\n",
              "      <th>0</th>\n",
              "      <td>Books</td>\n",
              "      <td>0.000000e+00</td>\n",
              "    </tr>\n",
              "    <tr>\n",
              "      <th>2</th>\n",
              "      <td>Oil</td>\n",
              "      <td>6.002143e-16</td>\n",
              "    </tr>\n",
              "    <tr>\n",
              "      <th>3</th>\n",
              "      <td>Mines</td>\n",
              "      <td>7.355228e-16</td>\n",
              "    </tr>\n",
              "    <tr>\n",
              "      <th>1</th>\n",
              "      <td>Steel</td>\n",
              "      <td>1.000000e+00</td>\n",
              "    </tr>\n",
              "  </tbody>\n",
              "</table>\n",
              "</div>"
            ],
            "text/plain": [
              "     ind         msr_w\n",
              "0  Books  0.000000e+00\n",
              "2    Oil  6.002143e-16\n",
              "3  Mines  7.355228e-16\n",
              "1  Steel  1.000000e+00"
            ]
          },
          "metadata": {
            "tags": []
          },
          "execution_count": 9
        }
      ]
    },
    {
      "cell_type": "code",
      "metadata": {
        "id": "nWeJvE5501xl",
        "colab_type": "code",
        "colab": {
          "base_uri": "https://localhost:8080/",
          "height": 173
        },
        "outputId": "034c142b-ac2f-4c37-8378-75d413b398cd"
      },
      "source": [
        "df_w.sort_values(by = 'msr_w').tail()"
      ],
      "execution_count": 10,
      "outputs": [
        {
          "output_type": "execute_result",
          "data": {
            "text/html": [
              "<div>\n",
              "<style scoped>\n",
              "    .dataframe tbody tr th:only-of-type {\n",
              "        vertical-align: middle;\n",
              "    }\n",
              "\n",
              "    .dataframe tbody tr th {\n",
              "        vertical-align: top;\n",
              "    }\n",
              "\n",
              "    .dataframe thead th {\n",
              "        text-align: right;\n",
              "    }\n",
              "</style>\n",
              "<table border=\"1\" class=\"dataframe\">\n",
              "  <thead>\n",
              "    <tr style=\"text-align: right;\">\n",
              "      <th></th>\n",
              "      <th>ind</th>\n",
              "      <th>msr_w</th>\n",
              "    </tr>\n",
              "  </thead>\n",
              "  <tbody>\n",
              "    <tr>\n",
              "      <th>0</th>\n",
              "      <td>Books</td>\n",
              "      <td>0.000000e+00</td>\n",
              "    </tr>\n",
              "    <tr>\n",
              "      <th>2</th>\n",
              "      <td>Oil</td>\n",
              "      <td>6.002143e-16</td>\n",
              "    </tr>\n",
              "    <tr>\n",
              "      <th>3</th>\n",
              "      <td>Mines</td>\n",
              "      <td>7.355228e-16</td>\n",
              "    </tr>\n",
              "    <tr>\n",
              "      <th>1</th>\n",
              "      <td>Steel</td>\n",
              "      <td>1.000000e+00</td>\n",
              "    </tr>\n",
              "  </tbody>\n",
              "</table>\n",
              "</div>"
            ],
            "text/plain": [
              "     ind         msr_w\n",
              "0  Books  0.000000e+00\n",
              "2    Oil  6.002143e-16\n",
              "3  Mines  7.355228e-16\n",
              "1  Steel  1.000000e+00"
            ]
          },
          "metadata": {
            "tags": []
          },
          "execution_count": 10
        }
      ]
    },
    {
      "cell_type": "code",
      "metadata": {
        "id": "1knwJTez6x9P",
        "colab_type": "code",
        "colab": {
          "base_uri": "https://localhost:8080/",
          "height": 173
        },
        "outputId": "d7e61b19-7649-40ae-e42a-4fa68a2d2085"
      },
      "source": [
        "df_w.sort_values('msr_w', ascending=False)"
      ],
      "execution_count": 11,
      "outputs": [
        {
          "output_type": "execute_result",
          "data": {
            "text/html": [
              "<div>\n",
              "<style scoped>\n",
              "    .dataframe tbody tr th:only-of-type {\n",
              "        vertical-align: middle;\n",
              "    }\n",
              "\n",
              "    .dataframe tbody tr th {\n",
              "        vertical-align: top;\n",
              "    }\n",
              "\n",
              "    .dataframe thead th {\n",
              "        text-align: right;\n",
              "    }\n",
              "</style>\n",
              "<table border=\"1\" class=\"dataframe\">\n",
              "  <thead>\n",
              "    <tr style=\"text-align: right;\">\n",
              "      <th></th>\n",
              "      <th>ind</th>\n",
              "      <th>msr_w</th>\n",
              "    </tr>\n",
              "  </thead>\n",
              "  <tbody>\n",
              "    <tr>\n",
              "      <th>1</th>\n",
              "      <td>Steel</td>\n",
              "      <td>1.000000e+00</td>\n",
              "    </tr>\n",
              "    <tr>\n",
              "      <th>3</th>\n",
              "      <td>Mines</td>\n",
              "      <td>7.355228e-16</td>\n",
              "    </tr>\n",
              "    <tr>\n",
              "      <th>2</th>\n",
              "      <td>Oil</td>\n",
              "      <td>6.002143e-16</td>\n",
              "    </tr>\n",
              "    <tr>\n",
              "      <th>0</th>\n",
              "      <td>Books</td>\n",
              "      <td>0.000000e+00</td>\n",
              "    </tr>\n",
              "  </tbody>\n",
              "</table>\n",
              "</div>"
            ],
            "text/plain": [
              "     ind         msr_w\n",
              "1  Steel  1.000000e+00\n",
              "3  Mines  7.355228e-16\n",
              "2    Oil  6.002143e-16\n",
              "0  Books  0.000000e+00"
            ]
          },
          "metadata": {
            "tags": []
          },
          "execution_count": 11
        }
      ]
    },
    {
      "cell_type": "code",
      "metadata": {
        "id": "_2-vdky663wA",
        "colab_type": "code",
        "colab": {
          "base_uri": "https://localhost:8080/",
          "height": 173
        },
        "outputId": "87ad02a1-b21d-4abb-aff3-50e749740f94"
      },
      "source": [
        "# 8. \n",
        "df_w['gmv'] = gmv(cov)\n",
        "df_w.sort_values('gmv')\n",
        "# 47.7\n",
        "\n"
      ],
      "execution_count": 13,
      "outputs": [
        {
          "output_type": "execute_result",
          "data": {
            "text/html": [
              "<div>\n",
              "<style scoped>\n",
              "    .dataframe tbody tr th:only-of-type {\n",
              "        vertical-align: middle;\n",
              "    }\n",
              "\n",
              "    .dataframe tbody tr th {\n",
              "        vertical-align: top;\n",
              "    }\n",
              "\n",
              "    .dataframe thead th {\n",
              "        text-align: right;\n",
              "    }\n",
              "</style>\n",
              "<table border=\"1\" class=\"dataframe\">\n",
              "  <thead>\n",
              "    <tr style=\"text-align: right;\">\n",
              "      <th></th>\n",
              "      <th>ind</th>\n",
              "      <th>msr_w</th>\n",
              "      <th>gmv</th>\n",
              "    </tr>\n",
              "  </thead>\n",
              "  <tbody>\n",
              "    <tr>\n",
              "      <th>1</th>\n",
              "      <td>Steel</td>\n",
              "      <td>1.000000e+00</td>\n",
              "      <td>4.336809e-19</td>\n",
              "    </tr>\n",
              "    <tr>\n",
              "      <th>3</th>\n",
              "      <td>Mines</td>\n",
              "      <td>7.355228e-16</td>\n",
              "      <td>8.886310e-02</td>\n",
              "    </tr>\n",
              "    <tr>\n",
              "      <th>2</th>\n",
              "      <td>Oil</td>\n",
              "      <td>6.002143e-16</td>\n",
              "      <td>4.341120e-01</td>\n",
              "    </tr>\n",
              "    <tr>\n",
              "      <th>0</th>\n",
              "      <td>Books</td>\n",
              "      <td>0.000000e+00</td>\n",
              "      <td>4.770249e-01</td>\n",
              "    </tr>\n",
              "  </tbody>\n",
              "</table>\n",
              "</div>"
            ],
            "text/plain": [
              "     ind         msr_w           gmv\n",
              "1  Steel  1.000000e+00  4.336809e-19\n",
              "3  Mines  7.355228e-16  8.886310e-02\n",
              "2    Oil  6.002143e-16  4.341120e-01\n",
              "0  Books  0.000000e+00  4.770249e-01"
            ]
          },
          "metadata": {
            "tags": []
          },
          "execution_count": 13
        }
      ]
    },
    {
      "cell_type": "code",
      "metadata": {
        "id": "Fy2DBPQs6_XH",
        "colab_type": "code",
        "colab": {
          "base_uri": "https://localhost:8080/",
          "height": 173
        },
        "outputId": "15457fcb-ed96-48fe-903e-58ff1802b903"
      },
      "source": [
        "# 9.\n",
        "df_w.sort_values('gmv')\n",
        "# Books\n"
      ],
      "execution_count": 17,
      "outputs": [
        {
          "output_type": "execute_result",
          "data": {
            "text/html": [
              "<div>\n",
              "<style scoped>\n",
              "    .dataframe tbody tr th:only-of-type {\n",
              "        vertical-align: middle;\n",
              "    }\n",
              "\n",
              "    .dataframe tbody tr th {\n",
              "        vertical-align: top;\n",
              "    }\n",
              "\n",
              "    .dataframe thead th {\n",
              "        text-align: right;\n",
              "    }\n",
              "</style>\n",
              "<table border=\"1\" class=\"dataframe\">\n",
              "  <thead>\n",
              "    <tr style=\"text-align: right;\">\n",
              "      <th></th>\n",
              "      <th>ind</th>\n",
              "      <th>msr_w</th>\n",
              "      <th>gmv</th>\n",
              "    </tr>\n",
              "  </thead>\n",
              "  <tbody>\n",
              "    <tr>\n",
              "      <th>1</th>\n",
              "      <td>Steel</td>\n",
              "      <td>1.000000e+00</td>\n",
              "      <td>4.336809e-19</td>\n",
              "    </tr>\n",
              "    <tr>\n",
              "      <th>3</th>\n",
              "      <td>Mines</td>\n",
              "      <td>7.355228e-16</td>\n",
              "      <td>8.886310e-02</td>\n",
              "    </tr>\n",
              "    <tr>\n",
              "      <th>2</th>\n",
              "      <td>Oil</td>\n",
              "      <td>6.002143e-16</td>\n",
              "      <td>4.341120e-01</td>\n",
              "    </tr>\n",
              "    <tr>\n",
              "      <th>0</th>\n",
              "      <td>Books</td>\n",
              "      <td>0.000000e+00</td>\n",
              "      <td>4.770249e-01</td>\n",
              "    </tr>\n",
              "  </tbody>\n",
              "</table>\n",
              "</div>"
            ],
            "text/plain": [
              "     ind         msr_w           gmv\n",
              "1  Steel  1.000000e+00  4.336809e-19\n",
              "3  Mines  7.355228e-16  8.886310e-02\n",
              "2    Oil  6.002143e-16  4.341120e-01\n",
              "0  Books  0.000000e+00  4.770249e-01"
            ]
          },
          "metadata": {
            "tags": []
          },
          "execution_count": 17
        }
      ]
    },
    {
      "cell_type": "code",
      "metadata": {
        "id": "R1tagJ_n7VXh",
        "colab_type": "code",
        "colab": {
          "base_uri": "https://localhost:8080/",
          "height": 173
        },
        "outputId": "14bfd496-3d49-421e-a1d7-2f68a0fda4f5"
      },
      "source": [
        "# 10.\n",
        "df_w.sort_values('gmv')\n",
        "# 3\n"
      ],
      "execution_count": 18,
      "outputs": [
        {
          "output_type": "execute_result",
          "data": {
            "text/html": [
              "<div>\n",
              "<style scoped>\n",
              "    .dataframe tbody tr th:only-of-type {\n",
              "        vertical-align: middle;\n",
              "    }\n",
              "\n",
              "    .dataframe tbody tr th {\n",
              "        vertical-align: top;\n",
              "    }\n",
              "\n",
              "    .dataframe thead th {\n",
              "        text-align: right;\n",
              "    }\n",
              "</style>\n",
              "<table border=\"1\" class=\"dataframe\">\n",
              "  <thead>\n",
              "    <tr style=\"text-align: right;\">\n",
              "      <th></th>\n",
              "      <th>ind</th>\n",
              "      <th>msr_w</th>\n",
              "      <th>gmv</th>\n",
              "    </tr>\n",
              "  </thead>\n",
              "  <tbody>\n",
              "    <tr>\n",
              "      <th>1</th>\n",
              "      <td>Steel</td>\n",
              "      <td>1.000000e+00</td>\n",
              "      <td>4.336809e-19</td>\n",
              "    </tr>\n",
              "    <tr>\n",
              "      <th>3</th>\n",
              "      <td>Mines</td>\n",
              "      <td>7.355228e-16</td>\n",
              "      <td>8.886310e-02</td>\n",
              "    </tr>\n",
              "    <tr>\n",
              "      <th>2</th>\n",
              "      <td>Oil</td>\n",
              "      <td>6.002143e-16</td>\n",
              "      <td>4.341120e-01</td>\n",
              "    </tr>\n",
              "    <tr>\n",
              "      <th>0</th>\n",
              "      <td>Books</td>\n",
              "      <td>0.000000e+00</td>\n",
              "      <td>4.770249e-01</td>\n",
              "    </tr>\n",
              "  </tbody>\n",
              "</table>\n",
              "</div>"
            ],
            "text/plain": [
              "     ind         msr_w           gmv\n",
              "1  Steel  1.000000e+00  4.336809e-19\n",
              "3  Mines  7.355228e-16  8.886310e-02\n",
              "2    Oil  6.002143e-16  4.341120e-01\n",
              "0  Books  0.000000e+00  4.770249e-01"
            ]
          },
          "metadata": {
            "tags": []
          },
          "execution_count": 18
        }
      ]
    },
    {
      "cell_type": "code",
      "metadata": {
        "id": "5KOKjsxJ7cRx",
        "colab_type": "code",
        "colab": {
          "base_uri": "https://localhost:8080/",
          "height": 34
        },
        "outputId": "fb69c3f9-93ff-4e9a-b7d4-ba75379c51d6"
      },
      "source": [
        "# 11.\n",
        "cov18 = ind.loc['2018':, ind_cols].cov()\n",
        "\n",
        "port_var = msr_w.T @ cov18 @ msr_w \n",
        "\n",
        "port_var = np.dot(np.dot(msr_w.T, cov18), msr_w)\n",
        "\n",
        "port_sd = port_var ** .5\n",
        "\n",
        "# annualized portfolio vol\n",
        "port_sd * (12**0.5)\n",
        "# 21.98"
      ],
      "execution_count": 19,
      "outputs": [
        {
          "output_type": "execute_result",
          "data": {
            "text/plain": [
              "0.21983988181484201"
            ]
          },
          "metadata": {
            "tags": []
          },
          "execution_count": 19
        }
      ]
    },
    {
      "cell_type": "code",
      "metadata": {
        "id": "AglglYvs7dRr",
        "colab_type": "code",
        "colab": {
          "base_uri": "https://localhost:8080/",
          "height": 34
        },
        "outputId": "0b869030-02dc-49aa-8465-999d292d64ca"
      },
      "source": [
        "# 12.\n",
        "port_var2 = df_w.gmv.values.T @ cov18 @ df_w.gmv.values\n",
        "\n",
        "\n",
        "port_sd2 = port_var2 ** .5\n",
        "port_sd2 * (12**0.5) \n",
        "# 18.9\n",
        "\n",
        "#%% ."
      ],
      "execution_count": 20,
      "outputs": [
        {
          "output_type": "execute_result",
          "data": {
            "text/plain": [
              "0.18973734554913554"
            ]
          },
          "metadata": {
            "tags": []
          },
          "execution_count": 20
        }
      ]
    }
  ]
}