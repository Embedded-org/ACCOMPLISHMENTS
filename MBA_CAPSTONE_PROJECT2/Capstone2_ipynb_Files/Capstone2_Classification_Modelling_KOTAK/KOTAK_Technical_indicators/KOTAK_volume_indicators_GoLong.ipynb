{
  "cells": [
    {
      "cell_type": "code",
      "execution_count": 1,
      "metadata": {
        "id": "rTIpccjOs_VF"
      },
      "outputs": [],
      "source": [
        "#Importing the Libraries\n",
        "import matplotlib. pyplot as plt\n",
        "import matplotlib\n",
        "from sklearn.preprocessing import MinMaxScaler\n",
        "import numpy as np\n",
        "import pandas as pd\n",
        "import sklearn\n",
        "import sklearn.linear_model as lm\n",
        "from sklearn import preprocessing\n",
        "import seaborn as sns\n",
        "from sklearn.model_selection import train_test_split\n",
        "from sklearn import metrics\n",
        "from sklearn.metrics import roc_curve,auc,recall_score,precision_score,accuracy_score,f1_score\n",
        "from sklearn.metrics import confusion_matrix,average_precision_score,recall_score\n",
        "import matplotlib.pyplot as plt\n",
        "%matplotlib inline\n",
        "from IPython.core.interactiveshell import InteractiveShell\n",
        "InteractiveShell.ast_node_interactivity = \"all\""
      ]
    },
    {
      "cell_type": "code",
      "execution_count": 2,
      "metadata": {
        "colab": {
          "base_uri": "https://localhost:8080/",
          "height": 206
        },
        "id": "zgECclAAuO1V",
        "outputId": "faca80ce-9634-4c5a-c2e8-997c0d9f8251"
      },
      "outputs": [
        {
          "output_type": "execute_result",
          "data": {
            "text/plain": [
              "         Date  Prev Close   Open    High     Low    Last   Close    VWAP  \\\n",
              "0  2000-01-03      212.35  220.0  229.35  220.00  229.35  229.35  229.13   \n",
              "1  2000-01-04      229.35  247.7  247.70  225.25  247.70  246.95  244.12   \n",
              "2  2000-01-05      246.95  229.0  240.00  227.20  228.00  228.40  233.75   \n",
              "3  2000-01-06      228.40  235.1  239.00  217.00  224.95  225.90  226.84   \n",
              "4  2000-01-07      225.90  213.0  219.00  207.85  207.85  208.85  209.94   \n",
              "\n",
              "   Volume      Turnover  \n",
              "0    7086  1.623640e+11  \n",
              "1   73681  1.798729e+12  \n",
              "2  105799  2.473093e+12  \n",
              "3   40202  9.119546e+11  \n",
              "4   24463  5.135747e+11  "
            ],
            "text/html": [
              "\n",
              "  <div id=\"df-2168090e-83c4-4afe-bc5d-f21c48a8a1c9\">\n",
              "    <div class=\"colab-df-container\">\n",
              "      <div>\n",
              "<style scoped>\n",
              "    .dataframe tbody tr th:only-of-type {\n",
              "        vertical-align: middle;\n",
              "    }\n",
              "\n",
              "    .dataframe tbody tr th {\n",
              "        vertical-align: top;\n",
              "    }\n",
              "\n",
              "    .dataframe thead th {\n",
              "        text-align: right;\n",
              "    }\n",
              "</style>\n",
              "<table border=\"1\" class=\"dataframe\">\n",
              "  <thead>\n",
              "    <tr style=\"text-align: right;\">\n",
              "      <th></th>\n",
              "      <th>Date</th>\n",
              "      <th>Prev Close</th>\n",
              "      <th>Open</th>\n",
              "      <th>High</th>\n",
              "      <th>Low</th>\n",
              "      <th>Last</th>\n",
              "      <th>Close</th>\n",
              "      <th>VWAP</th>\n",
              "      <th>Volume</th>\n",
              "      <th>Turnover</th>\n",
              "    </tr>\n",
              "  </thead>\n",
              "  <tbody>\n",
              "    <tr>\n",
              "      <th>0</th>\n",
              "      <td>2000-01-03</td>\n",
              "      <td>212.35</td>\n",
              "      <td>220.0</td>\n",
              "      <td>229.35</td>\n",
              "      <td>220.00</td>\n",
              "      <td>229.35</td>\n",
              "      <td>229.35</td>\n",
              "      <td>229.13</td>\n",
              "      <td>7086</td>\n",
              "      <td>1.623640e+11</td>\n",
              "    </tr>\n",
              "    <tr>\n",
              "      <th>1</th>\n",
              "      <td>2000-01-04</td>\n",
              "      <td>229.35</td>\n",
              "      <td>247.7</td>\n",
              "      <td>247.70</td>\n",
              "      <td>225.25</td>\n",
              "      <td>247.70</td>\n",
              "      <td>246.95</td>\n",
              "      <td>244.12</td>\n",
              "      <td>73681</td>\n",
              "      <td>1.798729e+12</td>\n",
              "    </tr>\n",
              "    <tr>\n",
              "      <th>2</th>\n",
              "      <td>2000-01-05</td>\n",
              "      <td>246.95</td>\n",
              "      <td>229.0</td>\n",
              "      <td>240.00</td>\n",
              "      <td>227.20</td>\n",
              "      <td>228.00</td>\n",
              "      <td>228.40</td>\n",
              "      <td>233.75</td>\n",
              "      <td>105799</td>\n",
              "      <td>2.473093e+12</td>\n",
              "    </tr>\n",
              "    <tr>\n",
              "      <th>3</th>\n",
              "      <td>2000-01-06</td>\n",
              "      <td>228.40</td>\n",
              "      <td>235.1</td>\n",
              "      <td>239.00</td>\n",
              "      <td>217.00</td>\n",
              "      <td>224.95</td>\n",
              "      <td>225.90</td>\n",
              "      <td>226.84</td>\n",
              "      <td>40202</td>\n",
              "      <td>9.119546e+11</td>\n",
              "    </tr>\n",
              "    <tr>\n",
              "      <th>4</th>\n",
              "      <td>2000-01-07</td>\n",
              "      <td>225.90</td>\n",
              "      <td>213.0</td>\n",
              "      <td>219.00</td>\n",
              "      <td>207.85</td>\n",
              "      <td>207.85</td>\n",
              "      <td>208.85</td>\n",
              "      <td>209.94</td>\n",
              "      <td>24463</td>\n",
              "      <td>5.135747e+11</td>\n",
              "    </tr>\n",
              "  </tbody>\n",
              "</table>\n",
              "</div>\n",
              "      <button class=\"colab-df-convert\" onclick=\"convertToInteractive('df-2168090e-83c4-4afe-bc5d-f21c48a8a1c9')\"\n",
              "              title=\"Convert this dataframe to an interactive table.\"\n",
              "              style=\"display:none;\">\n",
              "        \n",
              "  <svg xmlns=\"http://www.w3.org/2000/svg\" height=\"24px\"viewBox=\"0 0 24 24\"\n",
              "       width=\"24px\">\n",
              "    <path d=\"M0 0h24v24H0V0z\" fill=\"none\"/>\n",
              "    <path d=\"M18.56 5.44l.94 2.06.94-2.06 2.06-.94-2.06-.94-.94-2.06-.94 2.06-2.06.94zm-11 1L8.5 8.5l.94-2.06 2.06-.94-2.06-.94L8.5 2.5l-.94 2.06-2.06.94zm10 10l.94 2.06.94-2.06 2.06-.94-2.06-.94-.94-2.06-.94 2.06-2.06.94z\"/><path d=\"M17.41 7.96l-1.37-1.37c-.4-.4-.92-.59-1.43-.59-.52 0-1.04.2-1.43.59L10.3 9.45l-7.72 7.72c-.78.78-.78 2.05 0 2.83L4 21.41c.39.39.9.59 1.41.59.51 0 1.02-.2 1.41-.59l7.78-7.78 2.81-2.81c.8-.78.8-2.07 0-2.86zM5.41 20L4 18.59l7.72-7.72 1.47 1.35L5.41 20z\"/>\n",
              "  </svg>\n",
              "      </button>\n",
              "      \n",
              "  <style>\n",
              "    .colab-df-container {\n",
              "      display:flex;\n",
              "      flex-wrap:wrap;\n",
              "      gap: 12px;\n",
              "    }\n",
              "\n",
              "    .colab-df-convert {\n",
              "      background-color: #E8F0FE;\n",
              "      border: none;\n",
              "      border-radius: 50%;\n",
              "      cursor: pointer;\n",
              "      display: none;\n",
              "      fill: #1967D2;\n",
              "      height: 32px;\n",
              "      padding: 0 0 0 0;\n",
              "      width: 32px;\n",
              "    }\n",
              "\n",
              "    .colab-df-convert:hover {\n",
              "      background-color: #E2EBFA;\n",
              "      box-shadow: 0px 1px 2px rgba(60, 64, 67, 0.3), 0px 1px 3px 1px rgba(60, 64, 67, 0.15);\n",
              "      fill: #174EA6;\n",
              "    }\n",
              "\n",
              "    [theme=dark] .colab-df-convert {\n",
              "      background-color: #3B4455;\n",
              "      fill: #D2E3FC;\n",
              "    }\n",
              "\n",
              "    [theme=dark] .colab-df-convert:hover {\n",
              "      background-color: #434B5C;\n",
              "      box-shadow: 0px 1px 3px 1px rgba(0, 0, 0, 0.15);\n",
              "      filter: drop-shadow(0px 1px 2px rgba(0, 0, 0, 0.3));\n",
              "      fill: #FFFFFF;\n",
              "    }\n",
              "  </style>\n",
              "\n",
              "      <script>\n",
              "        const buttonEl =\n",
              "          document.querySelector('#df-2168090e-83c4-4afe-bc5d-f21c48a8a1c9 button.colab-df-convert');\n",
              "        buttonEl.style.display =\n",
              "          google.colab.kernel.accessAllowed ? 'block' : 'none';\n",
              "\n",
              "        async function convertToInteractive(key) {\n",
              "          const element = document.querySelector('#df-2168090e-83c4-4afe-bc5d-f21c48a8a1c9');\n",
              "          const dataTable =\n",
              "            await google.colab.kernel.invokeFunction('convertToInteractive',\n",
              "                                                     [key], {});\n",
              "          if (!dataTable) return;\n",
              "\n",
              "          const docLinkHtml = 'Like what you see? Visit the ' +\n",
              "            '<a target=\"_blank\" href=https://colab.research.google.com/notebooks/data_table.ipynb>data table notebook</a>'\n",
              "            + ' to learn more about interactive tables.';\n",
              "          element.innerHTML = '';\n",
              "          dataTable['output_type'] = 'display_data';\n",
              "          await google.colab.output.renderOutput(dataTable, element);\n",
              "          const docLink = document.createElement('div');\n",
              "          docLink.innerHTML = docLinkHtml;\n",
              "          element.appendChild(docLink);\n",
              "        }\n",
              "      </script>\n",
              "    </div>\n",
              "  </div>\n",
              "  "
            ]
          },
          "metadata": {},
          "execution_count": 2
        }
      ],
      "source": [
        "all_data = pd.read_csv(\"KOTAKBANK.csv\")\n",
        "#all_data=all_data.drop(['Date','Trades','Deliverable Volume','%Deliverble','Symbol','Series'],axis=1)\n",
        "df=all_data.drop(['Trades','Deliverable Volume','%Deliverble','Symbol','Series'],axis=1)\n",
        "df.head()"
      ]
    },
    {
      "cell_type": "code",
      "execution_count": 3,
      "metadata": {
        "id": "eKyspQnPfHzg"
      },
      "outputs": [],
      "source": [
        "#!pip install nsepy"
      ]
    },
    {
      "cell_type": "code",
      "execution_count": 4,
      "metadata": {
        "colab": {
          "base_uri": "https://localhost:8080/",
          "height": 53
        },
        "id": "DopSYORXe_hD",
        "outputId": "59dea781-5d58-4098-de09-97a9b4b1dbf4"
      },
      "outputs": [
        {
          "output_type": "execute_result",
          "data": {
            "text/plain": [
              "\"\\nfrom datetime import date\\nfrom nsepy import get_history\\nimport numpy as np\\nimport pandas as pd\\nimport pickle\\n\\nplt.style.use('fivethirtyeight')\\nplt.rcParams['figure.figsize'] = (20, 10)\\n\""
            ],
            "application/vnd.google.colaboratory.intrinsic+json": {
              "type": "string"
            }
          },
          "metadata": {},
          "execution_count": 4
        }
      ],
      "source": [
        "\n",
        "'''\n",
        "from datetime import date\n",
        "from nsepy import get_history\n",
        "import numpy as np\n",
        "import pandas as pd\n",
        "import pickle\n",
        "\n",
        "plt.style.use('fivethirtyeight')\n",
        "plt.rcParams['figure.figsize'] = (20, 10)\n",
        "'''"
      ]
    },
    {
      "cell_type": "code",
      "execution_count": 5,
      "metadata": {
        "colab": {
          "base_uri": "https://localhost:8080/",
          "height": 53
        },
        "id": "LCdasd7nqt2Y",
        "outputId": "e472b6fe-b209-4143-95e9-c5e041d6cdc1"
      },
      "outputs": [
        {
          "output_type": "execute_result",
          "data": {
            "text/plain": [
              "'\\nsymbol = \"HDFC\"\\nstart = date(2000, 1, 3)\\nend = date(2022, 5, 30)\\ndata = get_history(symbol=symbol, start=start, end=end)\\ndata\\ndata.to_csv(\\'HDFCBANK.csv\\')\\n'"
            ],
            "application/vnd.google.colaboratory.intrinsic+json": {
              "type": "string"
            }
          },
          "metadata": {},
          "execution_count": 5
        }
      ],
      "source": [
        "'''\n",
        "symbol = \"HDFC\"\n",
        "start = date(2000, 1, 3)\n",
        "end = date(2022, 5, 30)\n",
        "data = get_history(symbol=symbol, start=start, end=end)\n",
        "data\n",
        "data.to_csv('HDFCBANK.csv')\n",
        "'''"
      ]
    },
    {
      "cell_type": "code",
      "execution_count": 6,
      "metadata": {
        "colab": {
          "base_uri": "https://localhost:8080/",
          "height": 87
        },
        "id": "gLyb2T96rIf8",
        "outputId": "c7add839-d09f-4050-c64c-397e2909f116"
      },
      "outputs": [
        {
          "output_type": "execute_result",
          "data": {
            "text/plain": [
              "'\\nwith open(\\'SBIN.pickle\\', \\'wb\\') as f:\\n    pickle.dump(data, f)\\n\\nsymbol = \"SBIN\"\\nstart = date(2022, 6, 1)\\nend = date(2022, 6, 1)\\ndata = get_history(symbol=symbol, start=start, end=end)\\nwith open(\\'SBIN.pickle\\', \\'rb\\') as f:\\n    old_data = pickle.load(f)\\nnew_data = pd.concat([old_data, data])\\nwith open(\\'SBIN.pickle\\', \\'wb\\') as f:\\n    pickle.dump(new_data, f)\\n\\nnew_data.head()\\ndata.head()\\n\\n'"
            ],
            "application/vnd.google.colaboratory.intrinsic+json": {
              "type": "string"
            }
          },
          "metadata": {},
          "execution_count": 6
        }
      ],
      "source": [
        "'''\n",
        "with open('SBIN.pickle', 'wb') as f:\n",
        "    pickle.dump(data, f)\n",
        "\n",
        "symbol = \"SBIN\"\n",
        "start = date(2022, 6, 1)\n",
        "end = date(2022, 6, 1)\n",
        "data = get_history(symbol=symbol, start=start, end=end)\n",
        "with open('SBIN.pickle', 'rb') as f:\n",
        "    old_data = pickle.load(f)\n",
        "new_data = pd.concat([old_data, data])\n",
        "with open('SBIN.pickle', 'wb') as f:\n",
        "    pickle.dump(new_data, f)\n",
        "\n",
        "new_data.head()\n",
        "data.head()\n",
        "\n",
        "'''"
      ]
    },
    {
      "cell_type": "code",
      "execution_count": 7,
      "metadata": {
        "colab": {
          "base_uri": "https://localhost:8080/"
        },
        "id": "G0aWbJnM1c1i",
        "outputId": "d2fb2436-bc2f-4d16-f03e-7ea7e4131046"
      },
      "outputs": [
        {
          "output_type": "stream",
          "name": "stdout",
          "text": [
            "total is 5256\n"
          ]
        }
      ],
      "source": [
        "df['Volume'] = df['Volume'].shift(1)\n",
        "Close_list = df['Close'].tolist()\n",
        "df['SMA_3'] = df['Close'].rolling(3, min_periods=1).mean()\n",
        "df['SMA_7'] = df['Close'].rolling(7, min_periods=1).mean()\n",
        "df['SMA_13'] = df['Close'].rolling(13, min_periods=1).mean()\n",
        "df['SMA_20'] = df['Close'].rolling(20, min_periods=1).mean()\n",
        "df['EMA_3'] = df['Close'].ewm(span=3, adjust=False).mean()\n",
        "df['EMA_7'] = df['Close'].ewm(span=7, adjust=False).mean()\n",
        "df['EMA_13'] = df['Close'].ewm(span=13, adjust=False).mean()\n",
        "df['EMA_20'] = df['Close'].ewm(span=20, adjust=False).mean()\n",
        "total=len(Close_list);\n",
        "print(\"total is\",total)\n",
        "df.dropna(inplace=True)"
      ]
    },
    {
      "cell_type": "code",
      "source": [
        "# Let's make sure 'date' is actually a date in pandas\n",
        "df[\"Date\"] = pd.to_datetime(df[\"Date\"])"
      ],
      "metadata": {
        "id": "kh3SLsT0dMGm"
      },
      "execution_count": 8,
      "outputs": []
    },
    {
      "cell_type": "markdown",
      "metadata": {
        "id": "tTS_K_ZBYoIi"
      },
      "source": [
        "#The close values of KOTAKBANK stock equity"
      ]
    },
    {
      "cell_type": "code",
      "execution_count": 9,
      "metadata": {
        "colab": {
          "base_uri": "https://localhost:8080/",
          "height": 449
        },
        "id": "iDj42r9AWp-W",
        "outputId": "d3a2663c-384d-41ad-c845-fadf93dc71e5"
      },
      "outputs": [
        {
          "output_type": "execute_result",
          "data": {
            "text/plain": [
              "<Figure size 864x432 with 0 Axes>"
            ]
          },
          "metadata": {},
          "execution_count": 9
        },
        {
          "output_type": "execute_result",
          "data": {
            "text/plain": [
              "Text(0.5, 1.0, 'The close values of KOTAKBANK stock equity')"
            ]
          },
          "metadata": {},
          "execution_count": 9
        },
        {
          "output_type": "execute_result",
          "data": {
            "text/plain": [
              "Text(0.5, 0, 'Year')"
            ]
          },
          "metadata": {},
          "execution_count": 9
        },
        {
          "output_type": "execute_result",
          "data": {
            "text/plain": [
              "Text(0, 0.5, 'close values')"
            ]
          },
          "metadata": {},
          "execution_count": 9
        },
        {
          "output_type": "execute_result",
          "data": {
            "text/plain": [
              "[<matplotlib.lines.Line2D at 0x7f75cedc7fd0>]"
            ]
          },
          "metadata": {},
          "execution_count": 9
        },
        {
          "output_type": "execute_result",
          "data": {
            "text/plain": [
              "<matplotlib.legend.Legend at 0x7f75ced595e0>"
            ]
          },
          "metadata": {},
          "execution_count": 9
        },
        {
          "output_type": "display_data",
          "data": {
            "text/plain": [
              "<Figure size 864x432 with 1 Axes>"
            ],
            "image/png": "[encoded data removed]"
          },
          "metadata": {
            "needs_background": "light"
          }
        }
      ],
      "source": [
        "\n",
        "import matplotlib.pyplot as plt\n",
        "# plot lines\n",
        "plt.figure(figsize=(12, 6))\n",
        "plt.title('The close values of KOTAKBANK stock equity', fontsize=20)\n",
        "plt.xlabel('Year', fontsize=16)\n",
        "plt.ylabel('close values', fontsize=16)\n",
        "plt.plot(df[\"Date\"],df['Close'], color='green',linewidth=1.5)\n",
        "plt.legend(labels =['close values'], fontsize=14)\n",
        "plt.show()"
      ]
    },
    {
      "cell_type": "code",
      "execution_count": 10,
      "metadata": {
        "id": "RWjM1Zj15tkJ"
      },
      "outputs": [],
      "source": [
        "j=0\n",
        "j=0\n",
        "D1=[]\n",
        "D2=[]\n",
        "D3=[]\n",
        "D4=[]\n",
        "D5=[]\n",
        "D6=[]\n",
        "D7=[]\n",
        "D8=[]\n",
        "D9=[]\n",
        "D10=[]\n",
        "D11=[]\n",
        "D12=[]\n",
        "D13=[]\n",
        "D14=[]\n",
        "D15=[]\n",
        "D16=[]\n",
        "D17=[]\n",
        "D18=[]\n",
        "D19=[]\n",
        "D20=[]\n",
        "D21=[]\n",
        "D22=[]\n",
        "D23=[]\n",
        "D24=[]\n",
        "D25=[]\n",
        "D26=[]\n",
        "D27=[]\n",
        "D28=[]\n",
        "D29=[]\n",
        "D30=[]\n",
        "for i in range(0,total):\n",
        "  D1.append(Close_list[j])\n",
        "  D2.append(Close_list[j+1])\n",
        "  D3.append(Close_list[j+2])\n",
        "  D4.append(Close_list[j+3])\n",
        "  D5.append(Close_list[j+4])\n",
        "  D6.append(Close_list[j+5])\n",
        "  D7.append(Close_list[j+6])\n",
        "  D8.append(Close_list[j+7])\n",
        "  D9.append(Close_list[j+8])\n",
        "  D10.append(Close_list[j+9])\n",
        "  D11.append(Close_list[j+10])\n",
        "  D12.append(Close_list[j+11])\n",
        "  D13.append(Close_list[j+12])\n",
        "  D14.append(Close_list[j+13])\n",
        "  D15.append(Close_list[j+14])\n",
        "  D16.append(Close_list[j+15])\n",
        "  D17.append(Close_list[j+16])\n",
        "  D18.append(Close_list[j+17])\n",
        "  D19.append(Close_list[j+18])\n",
        "  D20.append(Close_list[j+19])\n",
        "  D21.append(Close_list[j+20])\n",
        "  D22.append(Close_list[j+21])\n",
        "  D23.append(Close_list[j+22])\n",
        "  D24.append(Close_list[j+23])\n",
        "  D25.append(Close_list[j+24])\n",
        "  D26.append(Close_list[j+25])\n",
        "  D27.append(Close_list[j+26])\n",
        "  D28.append(Close_list[j+27])\n",
        "  D29.append(Close_list[j+28])\n",
        "  D30.append(Close_list[j+29])\n",
        "  j=j+1;\n",
        "  if(j==total-30):\n",
        "    break"
      ]
    },
    {
      "cell_type": "code",
      "execution_count": 11,
      "metadata": {
        "id": "5kWPb2G47oWA"
      },
      "outputs": [],
      "source": [
        "\n",
        "df1=pd.DataFrame(D1)\n",
        "df2=pd.DataFrame(D2)\n",
        "df3=pd.DataFrame(D3)\n",
        "df4=pd.DataFrame(D4)\n",
        "df5=pd.DataFrame(D5)\n",
        "df6=pd.DataFrame(D6)\n",
        "df7=pd.DataFrame(D7)\n",
        "df8=pd.DataFrame(D8)\n",
        "df9=pd.DataFrame(D9)\n",
        "df10=pd.DataFrame(D10)\n",
        "df11=pd.DataFrame(D11)\n",
        "df12=pd.DataFrame(D12)\n",
        "df13=pd.DataFrame(D13)\n",
        "df14=pd.DataFrame(D14)\n",
        "df15=pd.DataFrame(D15)\n",
        "df16=pd.DataFrame(D16)\n",
        "df17=pd.DataFrame(D17)\n",
        "df18=pd.DataFrame(D18)\n",
        "df19=pd.DataFrame(D19)\n",
        "df20=pd.DataFrame(D20)\n",
        "df21=pd.DataFrame(D21)\n",
        "df22=pd.DataFrame(D22)\n",
        "df23=pd.DataFrame(D23)\n",
        "df24=pd.DataFrame(D24)\n",
        "df25=pd.DataFrame(D25)\n",
        "df26=pd.DataFrame(D26)\n",
        "df27=pd.DataFrame(D27)\n",
        "df28=pd.DataFrame(D28)\n",
        "df29=pd.DataFrame(D29)\n",
        "df30=pd.DataFrame(D30)\n",
        "dfalldays=pd.DataFrame()\n",
        "dfalldays['D1']=df1\n",
        "dfalldays['D2']=df2\n",
        "dfalldays['D3']=df3\n",
        "dfalldays['D4']=df4\n",
        "dfalldays['D5']=df5\n",
        "dfalldays['D6']=df6\n",
        "dfalldays['D7']=df7\n",
        "dfalldays['D8']=df8\n",
        "dfalldays['D9']=df9\n",
        "dfalldays['D10']=df10\n",
        "dfalldays['D11']=df11\n",
        "dfalldays['D12']=df12\n",
        "dfalldays['D13']=df13\n",
        "dfalldays['D14']=df14\n",
        "dfalldays['D15']=df15\n",
        "dfalldays['D16']=df16\n",
        "dfalldays['D17']=df17\n",
        "dfalldays['D18']=df18\n",
        "dfalldays['D19']=df19\n",
        "dfalldays['D20']=df20\n",
        "dfalldays['D21']=df21\n",
        "dfalldays['D22']=df22\n",
        "dfalldays['D23']=df23\n",
        "dfalldays['D24']=df24\n",
        "dfalldays['D25']=df25\n",
        "dfalldays['D26']=df26\n",
        "dfalldays['D27']=df27\n",
        "dfalldays['D28']=df28\n",
        "dfalldays['D29']=df29\n",
        "dfalldays['D30']=df30"
      ]
    },
    {
      "cell_type": "code",
      "execution_count": 12,
      "metadata": {
        "id": "EvkmdkNA577M"
      },
      "outputs": [],
      "source": [
        "DIFF=[]\n",
        "PERCDIFF=[]\n",
        "TARGET=[]\n",
        "counter=0\n",
        "for i in range(0,total):\n",
        "  #print(\"i is\",i)\n",
        "  diff=Close_list[i]-Close_list[i-1]\n",
        "  DIFF.append(diff)\n",
        "  percdiff=(diff*100)/Close_list[i]\n",
        "  PERCDIFF.append(percdiff)\n",
        "  if(percdiff>0.5):\n",
        "    TARGET.append('pos')\n",
        "  else:\n",
        "    TARGET.append('notpos')"
      ]
    },
    {
      "cell_type": "code",
      "execution_count": 13,
      "metadata": {
        "id": "yT7_ZgYhCr_r"
      },
      "outputs": [],
      "source": [
        "df1=pd.DataFrame(DIFF)\n",
        "df2=pd.DataFrame(PERCDIFF)\n",
        "df3=pd.DataFrame(TARGET)\n",
        "df['DIFF']=df1\n",
        "df['PERCDIFF']=df2\n",
        "df['TARGET']=df3\n",
        "df=df[1:]"
      ]
    },
    {
      "cell_type": "code",
      "execution_count": 14,
      "metadata": {
        "colab": {
          "base_uri": "https://localhost:8080/"
        },
        "id": "ekJruVQBHZ8L",
        "outputId": "9ef016d6-21a1-4772-b06e-310ae3394094"
      },
      "outputs": [
        {
          "output_type": "execute_result",
          "data": {
            "text/plain": [
              "TARGET\n",
              "0    3199\n",
              "1    2055\n",
              "dtype: int64"
            ]
          },
          "metadata": {},
          "execution_count": 14
        }
      ],
      "source": [
        "df0=df\n",
        "df0['TARGET']= np.where(df0['TARGET']=='pos','1',(np.where(df0['TARGET']=='neg','-1','0')))\n",
        "#df0.head()\n",
        "df0.groupby('TARGET').size()"
      ]
    },
    {
      "cell_type": "markdown",
      "metadata": {
        "id": "qVWaypsm0tL0"
      },
      "source": [
        "#Explore the class distribution"
      ]
    },
    {
      "cell_type": "code",
      "execution_count": 15,
      "metadata": {
        "colab": {
          "base_uri": "https://localhost:8080/",
          "height": 384
        },
        "id": "DoM6-z2FdU4P",
        "outputId": "5593df78-6005-4860-9153-5817cabc3ec6"
      },
      "outputs": [
        {
          "output_type": "stream",
          "name": "stderr",
          "text": [
            "/usr/local/lib/python3.9/dist-packages/seaborn/_decorators.py:36: FutureWarning: Pass the following variable as a keyword arg: x. From version 0.12, the only valid positional argument will be `data`, and passing other arguments without an explicit keyword will result in an error or misinterpretation.\n",
            "  warnings.warn(\n"
          ]
        },
        {
          "output_type": "execute_result",
          "data": {
            "text/plain": [
              "<AxesSubplot:xlabel='TARGET', ylabel='count'>"
            ]
          },
          "metadata": {},
          "execution_count": 15
        },
        {
          "output_type": "execute_result",
          "data": {
            "text/plain": [
              "Text(0.5, 0, 'TARGET')"
            ]
          },
          "metadata": {},
          "execution_count": 15
        },
        {
          "output_type": "execute_result",
          "data": {
            "text/plain": [
              "Text(0.5, 1.0, 'Go Long direction vs not a Go Long direction for KOTAKBANK Stock')"
            ]
          },
          "metadata": {},
          "execution_count": 15
        },
        {
          "output_type": "display_data",
          "data": {
            "text/plain": [
              "<Figure size 432x288 with 1 Axes>"
            ],
            "image/png": "[encoded data removed]"
          },
          "metadata": {
            "needs_background": "light"
          }
        }
      ],
      "source": [
        "sns.countplot(df0['TARGET'])\n",
        "plt.xlabel('TARGET')\n",
        "plt.title('Go Long direction vs not a Go Long direction for KOTAKBANK Stock')"
      ]
    },
    {
      "cell_type": "code",
      "execution_count": 16,
      "metadata": {
        "colab": {
          "base_uri": "https://localhost:8080/",
          "height": 404
        },
        "id": "wCnI0v6sDOFw",
        "outputId": "96b99c07-2359-4457-9d8e-c03feea41b09"
      },
      "outputs": [
        {
          "output_type": "execute_result",
          "data": {
            "text/plain": [
              "        Date  Prev Close   Open   High     Low    Last   Close    VWAP  \\\n",
              "2 2000-01-05      246.95  229.0  240.0  227.20  228.00  228.40  233.75   \n",
              "3 2000-01-06      228.40  235.1  239.0  217.00  224.95  225.90  226.84   \n",
              "4 2000-01-07      225.90  213.0  219.0  207.85  207.85  208.85  209.94   \n",
              "5 2000-01-10      208.85  215.0  219.0  192.15  192.15  192.15  196.47   \n",
              "6 2000-01-11      192.15  180.2  180.2  176.80  176.80  176.80  176.98   \n",
              "\n",
              "     Volume      Turnover  ...       SMA_7      SMA_13      SMA_20  \\\n",
              "2   73681.0  2.473093e+12  ...  234.900000  234.900000  234.900000   \n",
              "3  105799.0  9.119546e+11  ...  232.650000  232.650000  232.650000   \n",
              "4   40202.0  5.135747e+11  ...  227.890000  227.890000  227.890000   \n",
              "5   24463.0  2.437804e+11  ...  221.933333  221.933333  221.933333   \n",
              "6   12408.0  2.699472e+11  ...  215.485714  215.485714  215.485714   \n",
              "\n",
              "        EMA_3       EMA_7      EMA_13      EMA_20   DIFF  PERCDIFF  TARGET  \n",
              "2  233.275000  232.412500  231.369388  230.776077 -18.55 -8.121716       0  \n",
              "3  229.587500  230.784375  230.588047  230.311689  -2.50 -1.106684       0  \n",
              "4  219.218750  225.300781  227.482611  228.267718 -17.05 -8.163754       0  \n",
              "5  205.684375  217.013086  222.435095  224.827936 -16.70 -8.691127       0  \n",
              "6  191.242188  206.959814  215.915796  220.253847 -15.35 -8.682127       0  \n",
              "\n",
              "[5 rows x 21 columns]"
            ],
            "text/html": [
              "\n",
              "  <div id=\"df-a07c9364-480d-445f-aab8-32b8cfb29b3a\">\n",
              "    <div class=\"colab-df-container\">\n",
              "      <div>\n",
              "<style scoped>\n",
              "    .dataframe tbody tr th:only-of-type {\n",
              "        vertical-align: middle;\n",
              "    }\n",
              "\n",
              "    .dataframe tbody tr th {\n",
              "        vertical-align: top;\n",
              "    }\n",
              "\n",
              "    .dataframe thead th {\n",
              "        text-align: right;\n",
              "    }\n",
              "</style>\n",
              "<table border=\"1\" class=\"dataframe\">\n",
              "  <thead>\n",
              "    <tr style=\"text-align: right;\">\n",
              "      <th></th>\n",
              "      <th>Date</th>\n",
              "      <th>Prev Close</th>\n",
              "      <th>Open</th>\n",
              "      <th>High</th>\n",
              "      <th>Low</th>\n",
              "      <th>Last</th>\n",
              "      <th>Close</th>\n",
              "      <th>VWAP</th>\n",
              "      <th>Volume</th>\n",
              "      <th>Turnover</th>\n",
              "      <th>...</th>\n",
              "      <th>SMA_7</th>\n",
              "      <th>SMA_13</th>\n",
              "      <th>SMA_20</th>\n",
              "      <th>EMA_3</th>\n",
              "      <th>EMA_7</th>\n",
              "      <th>EMA_13</th>\n",
              "      <th>EMA_20</th>\n",
              "      <th>DIFF</th>\n",
              "      <th>PERCDIFF</th>\n",
              "      <th>TARGET</th>\n",
              "    </tr>\n",
              "  </thead>\n",
              "  <tbody>\n",
              "    <tr>\n",
              "      <th>2</th>\n",
              "      <td>2000-01-05</td>\n",
              "      <td>246.95</td>\n",
              "      <td>229.0</td>\n",
              "      <td>240.0</td>\n",
              "      <td>227.20</td>\n",
              "      <td>228.00</td>\n",
              "      <td>228.40</td>\n",
              "      <td>233.75</td>\n",
              "      <td>73681.0</td>\n",
              "      <td>2.473093e+12</td>\n",
              "      <td>...</td>\n",
              "      <td>234.900000</td>\n",
              "      <td>234.900000</td>\n",
              "      <td>234.900000</td>\n",
              "      <td>233.275000</td>\n",
              "      <td>232.412500</td>\n",
              "      <td>231.369388</td>\n",
              "      <td>230.776077</td>\n",
              "      <td>-18.55</td>\n",
              "      <td>-8.121716</td>\n",
              "      <td>0</td>\n",
              "    </tr>\n",
              "    <tr>\n",
              "      <th>3</th>\n",
              "      <td>2000-01-06</td>\n",
              "      <td>228.40</td>\n",
              "      <td>235.1</td>\n",
              "      <td>239.0</td>\n",
              "      <td>217.00</td>\n",
              "      <td>224.95</td>\n",
              "      <td>225.90</td>\n",
              "      <td>226.84</td>\n",
              "      <td>105799.0</td>\n",
              "      <td>9.119546e+11</td>\n",
              "      <td>...</td>\n",
              "      <td>232.650000</td>\n",
              "      <td>232.650000</td>\n",
              "      <td>232.650000</td>\n",
              "      <td>229.587500</td>\n",
              "      <td>230.784375</td>\n",
              "      <td>230.588047</td>\n",
              "      <td>230.311689</td>\n",
              "      <td>-2.50</td>\n",
              "      <td>-1.106684</td>\n",
              "      <td>0</td>\n",
              "    </tr>\n",
              "    <tr>\n",
              "      <th>4</th>\n",
              "      <td>2000-01-07</td>\n",
              "      <td>225.90</td>\n",
              "      <td>213.0</td>\n",
              "      <td>219.0</td>\n",
              "      <td>207.85</td>\n",
              "      <td>207.85</td>\n",
              "      <td>208.85</td>\n",
              "      <td>209.94</td>\n",
              "      <td>40202.0</td>\n",
              "      <td>5.135747e+11</td>\n",
              "      <td>...</td>\n",
              "      <td>227.890000</td>\n",
              "      <td>227.890000</td>\n",
              "      <td>227.890000</td>\n",
              "      <td>219.218750</td>\n",
              "      <td>225.300781</td>\n",
              "      <td>227.482611</td>\n",
              "      <td>228.267718</td>\n",
              "      <td>-17.05</td>\n",
              "      <td>-8.163754</td>\n",
              "      <td>0</td>\n",
              "    </tr>\n",
              "    <tr>\n",
              "      <th>5</th>\n",
              "      <td>2000-01-10</td>\n",
              "      <td>208.85</td>\n",
              "      <td>215.0</td>\n",
              "      <td>219.0</td>\n",
              "      <td>192.15</td>\n",
              "      <td>192.15</td>\n",
              "      <td>192.15</td>\n",
              "      <td>196.47</td>\n",
              "      <td>24463.0</td>\n",
              "      <td>2.437804e+11</td>\n",
              "      <td>...</td>\n",
              "      <td>221.933333</td>\n",
              "      <td>221.933333</td>\n",
              "      <td>221.933333</td>\n",
              "      <td>205.684375</td>\n",
              "      <td>217.013086</td>\n",
              "      <td>222.435095</td>\n",
              "      <td>224.827936</td>\n",
              "      <td>-16.70</td>\n",
              "      <td>-8.691127</td>\n",
              "      <td>0</td>\n",
              "    </tr>\n",
              "    <tr>\n",
              "      <th>6</th>\n",
              "      <td>2000-01-11</td>\n",
              "      <td>192.15</td>\n",
              "      <td>180.2</td>\n",
              "      <td>180.2</td>\n",
              "      <td>176.80</td>\n",
              "      <td>176.80</td>\n",
              "      <td>176.80</td>\n",
              "      <td>176.98</td>\n",
              "      <td>12408.0</td>\n",
              "      <td>2.699472e+11</td>\n",
              "      <td>...</td>\n",
              "      <td>215.485714</td>\n",
              "      <td>215.485714</td>\n",
              "      <td>215.485714</td>\n",
              "      <td>191.242188</td>\n",
              "      <td>206.959814</td>\n",
              "      <td>215.915796</td>\n",
              "      <td>220.253847</td>\n",
              "      <td>-15.35</td>\n",
              "      <td>-8.682127</td>\n",
              "      <td>0</td>\n",
              "    </tr>\n",
              "  </tbody>\n",
              "</table>\n",
              "<p>5 rows × 21 columns</p>\n",
              "</div>\n",
              "      <button class=\"colab-df-convert\" onclick=\"convertToInteractive('df-a07c9364-480d-445f-aab8-32b8cfb29b3a')\"\n",
              "              title=\"Convert this dataframe to an interactive table.\"\n",
              "              style=\"display:none;\">\n",
              "        \n",
              "  <svg xmlns=\"http://www.w3.org/2000/svg\" height=\"24px\"viewBox=\"0 0 24 24\"\n",
              "       width=\"24px\">\n",
              "    <path d=\"M0 0h24v24H0V0z\" fill=\"none\"/>\n",
              "    <path d=\"M18.56 5.44l.94 2.06.94-2.06 2.06-.94-2.06-.94-.94-2.06-.94 2.06-2.06.94zm-11 1L8.5 8.5l.94-2.06 2.06-.94-2.06-.94L8.5 2.5l-.94 2.06-2.06.94zm10 10l.94 2.06.94-2.06 2.06-.94-2.06-.94-.94-2.06-.94 2.06-2.06.94z\"/><path d=\"M17.41 7.96l-1.37-1.37c-.4-.4-.92-.59-1.43-.59-.52 0-1.04.2-1.43.59L10.3 9.45l-7.72 7.72c-.78.78-.78 2.05 0 2.83L4 21.41c.39.39.9.59 1.41.59.51 0 1.02-.2 1.41-.59l7.78-7.78 2.81-2.81c.8-.78.8-2.07 0-2.86zM5.41 20L4 18.59l7.72-7.72 1.47 1.35L5.41 20z\"/>\n",
              "  </svg>\n",
              "      </button>\n",
              "      \n",
              "  <style>\n",
              "    .colab-df-container {\n",
              "      display:flex;\n",
              "      flex-wrap:wrap;\n",
              "      gap: 12px;\n",
              "    }\n",
              "\n",
              "    .colab-df-convert {\n",
              "      background-color: #E8F0FE;\n",
              "      border: none;\n",
              "      border-radius: 50%;\n",
              "      cursor: pointer;\n",
              "      display: none;\n",
              "      fill: #1967D2;\n",
              "      height: 32px;\n",
              "      padding: 0 0 0 0;\n",
              "      width: 32px;\n",
              "    }\n",
              "\n",
              "    .colab-df-convert:hover {\n",
              "      background-color: #E2EBFA;\n",
              "      box-shadow: 0px 1px 2px rgba(60, 64, 67, 0.3), 0px 1px 3px 1px rgba(60, 64, 67, 0.15);\n",
              "      fill: #174EA6;\n",
              "    }\n",
              "\n",
              "    [theme=dark] .colab-df-convert {\n",
              "      background-color: #3B4455;\n",
              "      fill: #D2E3FC;\n",
              "    }\n",
              "\n",
              "    [theme=dark] .colab-df-convert:hover {\n",
              "      background-color: #434B5C;\n",
              "      box-shadow: 0px 1px 3px 1px rgba(0, 0, 0, 0.15);\n",
              "      filter: drop-shadow(0px 1px 2px rgba(0, 0, 0, 0.3));\n",
              "      fill: #FFFFFF;\n",
              "    }\n",
              "  </style>\n",
              "\n",
              "      <script>\n",
              "        const buttonEl =\n",
              "          document.querySelector('#df-a07c9364-480d-445f-aab8-32b8cfb29b3a button.colab-df-convert');\n",
              "        buttonEl.style.display =\n",
              "          google.colab.kernel.accessAllowed ? 'block' : 'none';\n",
              "\n",
              "        async function convertToInteractive(key) {\n",
              "          const element = document.querySelector('#df-a07c9364-480d-445f-aab8-32b8cfb29b3a');\n",
              "          const dataTable =\n",
              "            await google.colab.kernel.invokeFunction('convertToInteractive',\n",
              "                                                     [key], {});\n",
              "          if (!dataTable) return;\n",
              "\n",
              "          const docLinkHtml = 'Like what you see? Visit the ' +\n",
              "            '<a target=\"_blank\" href=https://colab.research.google.com/notebooks/data_table.ipynb>data table notebook</a>'\n",
              "            + ' to learn more about interactive tables.';\n",
              "          element.innerHTML = '';\n",
              "          dataTable['output_type'] = 'display_data';\n",
              "          await google.colab.output.renderOutput(dataTable, element);\n",
              "          const docLink = document.createElement('div');\n",
              "          docLink.innerHTML = docLinkHtml;\n",
              "          element.appendChild(docLink);\n",
              "        }\n",
              "      </script>\n",
              "    </div>\n",
              "  </div>\n",
              "  "
            ]
          },
          "metadata": {},
          "execution_count": 16
        }
      ],
      "source": [
        "#DUMMY CODING USING THE LOOP STRUCTURE\n",
        "for col in df.columns:\n",
        "  if df[col].dtype=='object':\n",
        "    df[col]=pd.Categorical(df[col]).codes\n",
        "df.head(5)"
      ]
    },
    {
      "cell_type": "code",
      "execution_count": 17,
      "metadata": {
        "colab": {
          "base_uri": "https://localhost:8080/",
          "height": 414
        },
        "id": "x9qLUQN22ux5",
        "outputId": "69c3a452-21a9-4a05-baa7-2cd635792a75"
      },
      "outputs": [
        {
          "output_type": "stream",
          "name": "stdout",
          "text": [
            "<class 'pandas.core.frame.DataFrame'>\n",
            "Int64Index: 5254 entries, 2 to 5255\n",
            "Data columns (total 5 columns):\n",
            " #   Column  Non-Null Count  Dtype  \n",
            "---  ------  --------------  -----  \n",
            " 0   Open    5254 non-null   float64\n",
            " 1   High    5254 non-null   float64\n",
            " 2   Low     5254 non-null   float64\n",
            " 3   Volume  5254 non-null   float64\n",
            " 4   Close   5254 non-null   float64\n",
            "dtypes: float64(5)\n",
            "memory usage: 246.3 KB\n"
          ]
        },
        {
          "output_type": "execute_result",
          "data": {
            "text/plain": [
              "    Open   High     Low    Volume   Close\n",
              "2  229.0  240.0  227.20   73681.0  228.40\n",
              "3  235.1  239.0  217.00  105799.0  225.90\n",
              "4  213.0  219.0  207.85   40202.0  208.85\n",
              "5  215.0  219.0  192.15   24463.0  192.15\n",
              "6  180.2  180.2  176.80   12408.0  176.80"
            ],
            "text/html": [
              "\n",
              "  <div id=\"df-b22d6e6a-5d3e-48e3-a1f8-5d657e569c24\">\n",
              "    <div class=\"colab-df-container\">\n",
              "      <div>\n",
              "<style scoped>\n",
              "    .dataframe tbody tr th:only-of-type {\n",
              "        vertical-align: middle;\n",
              "    }\n",
              "\n",
              "    .dataframe tbody tr th {\n",
              "        vertical-align: top;\n",
              "    }\n",
              "\n",
              "    .dataframe thead th {\n",
              "        text-align: right;\n",
              "    }\n",
              "</style>\n",
              "<table border=\"1\" class=\"dataframe\">\n",
              "  <thead>\n",
              "    <tr style=\"text-align: right;\">\n",
              "      <th></th>\n",
              "      <th>Open</th>\n",
              "      <th>High</th>\n",
              "      <th>Low</th>\n",
              "      <th>Volume</th>\n",
              "      <th>Close</th>\n",
              "    </tr>\n",
              "  </thead>\n",
              "  <tbody>\n",
              "    <tr>\n",
              "      <th>2</th>\n",
              "      <td>229.0</td>\n",
              "      <td>240.0</td>\n",
              "      <td>227.20</td>\n",
              "      <td>73681.0</td>\n",
              "      <td>228.40</td>\n",
              "    </tr>\n",
              "    <tr>\n",
              "      <th>3</th>\n",
              "      <td>235.1</td>\n",
              "      <td>239.0</td>\n",
              "      <td>217.00</td>\n",
              "      <td>105799.0</td>\n",
              "      <td>225.90</td>\n",
              "    </tr>\n",
              "    <tr>\n",
              "      <th>4</th>\n",
              "      <td>213.0</td>\n",
              "      <td>219.0</td>\n",
              "      <td>207.85</td>\n",
              "      <td>40202.0</td>\n",
              "      <td>208.85</td>\n",
              "    </tr>\n",
              "    <tr>\n",
              "      <th>5</th>\n",
              "      <td>215.0</td>\n",
              "      <td>219.0</td>\n",
              "      <td>192.15</td>\n",
              "      <td>24463.0</td>\n",
              "      <td>192.15</td>\n",
              "    </tr>\n",
              "    <tr>\n",
              "      <th>6</th>\n",
              "      <td>180.2</td>\n",
              "      <td>180.2</td>\n",
              "      <td>176.80</td>\n",
              "      <td>12408.0</td>\n",
              "      <td>176.80</td>\n",
              "    </tr>\n",
              "  </tbody>\n",
              "</table>\n",
              "</div>\n",
              "      <button class=\"colab-df-convert\" onclick=\"convertToInteractive('df-b22d6e6a-5d3e-48e3-a1f8-5d657e569c24')\"\n",
              "              title=\"Convert this dataframe to an interactive table.\"\n",
              "              style=\"display:none;\">\n",
              "        \n",
              "  <svg xmlns=\"http://www.w3.org/2000/svg\" height=\"24px\"viewBox=\"0 0 24 24\"\n",
              "       width=\"24px\">\n",
              "    <path d=\"M0 0h24v24H0V0z\" fill=\"none\"/>\n",
              "    <path d=\"M18.56 5.44l.94 2.06.94-2.06 2.06-.94-2.06-.94-.94-2.06-.94 2.06-2.06.94zm-11 1L8.5 8.5l.94-2.06 2.06-.94-2.06-.94L8.5 2.5l-.94 2.06-2.06.94zm10 10l.94 2.06.94-2.06 2.06-.94-2.06-.94-.94-2.06-.94 2.06-2.06.94z\"/><path d=\"M17.41 7.96l-1.37-1.37c-.4-.4-.92-.59-1.43-.59-.52 0-1.04.2-1.43.59L10.3 9.45l-7.72 7.72c-.78.78-.78 2.05 0 2.83L4 21.41c.39.39.9.59 1.41.59.51 0 1.02-.2 1.41-.59l7.78-7.78 2.81-2.81c.8-.78.8-2.07 0-2.86zM5.41 20L4 18.59l7.72-7.72 1.47 1.35L5.41 20z\"/>\n",
              "  </svg>\n",
              "      </button>\n",
              "      \n",
              "  <style>\n",
              "    .colab-df-container {\n",
              "      display:flex;\n",
              "      flex-wrap:wrap;\n",
              "      gap: 12px;\n",
              "    }\n",
              "\n",
              "    .colab-df-convert {\n",
              "      background-color: #E8F0FE;\n",
              "      border: none;\n",
              "      border-radius: 50%;\n",
              "      cursor: pointer;\n",
              "      display: none;\n",
              "      fill: #1967D2;\n",
              "      height: 32px;\n",
              "      padding: 0 0 0 0;\n",
              "      width: 32px;\n",
              "    }\n",
              "\n",
              "    .colab-df-convert:hover {\n",
              "      background-color: #E2EBFA;\n",
              "      box-shadow: 0px 1px 2px rgba(60, 64, 67, 0.3), 0px 1px 3px 1px rgba(60, 64, 67, 0.15);\n",
              "      fill: #174EA6;\n",
              "    }\n",
              "\n",
              "    [theme=dark] .colab-df-convert {\n",
              "      background-color: #3B4455;\n",
              "      fill: #D2E3FC;\n",
              "    }\n",
              "\n",
              "    [theme=dark] .colab-df-convert:hover {\n",
              "      background-color: #434B5C;\n",
              "      box-shadow: 0px 1px 3px 1px rgba(0, 0, 0, 0.15);\n",
              "      filter: drop-shadow(0px 1px 2px rgba(0, 0, 0, 0.3));\n",
              "      fill: #FFFFFF;\n",
              "    }\n",
              "  </style>\n",
              "\n",
              "      <script>\n",
              "        const buttonEl =\n",
              "          document.querySelector('#df-b22d6e6a-5d3e-48e3-a1f8-5d657e569c24 button.colab-df-convert');\n",
              "        buttonEl.style.display =\n",
              "          google.colab.kernel.accessAllowed ? 'block' : 'none';\n",
              "\n",
              "        async function convertToInteractive(key) {\n",
              "          const element = document.querySelector('#df-b22d6e6a-5d3e-48e3-a1f8-5d657e569c24');\n",
              "          const dataTable =\n",
              "            await google.colab.kernel.invokeFunction('convertToInteractive',\n",
              "                                                     [key], {});\n",
              "          if (!dataTable) return;\n",
              "\n",
              "          const docLinkHtml = 'Like what you see? Visit the ' +\n",
              "            '<a target=\"_blank\" href=https://colab.research.google.com/notebooks/data_table.ipynb>data table notebook</a>'\n",
              "            + ' to learn more about interactive tables.';\n",
              "          element.innerHTML = '';\n",
              "          dataTable['output_type'] = 'display_data';\n",
              "          await google.colab.output.renderOutput(dataTable, element);\n",
              "          const docLink = document.createElement('div');\n",
              "          docLink.innerHTML = docLinkHtml;\n",
              "          element.appendChild(docLink);\n",
              "        }\n",
              "      </script>\n",
              "    </div>\n",
              "  </div>\n",
              "  "
            ]
          },
          "metadata": {},
          "execution_count": 17
        }
      ],
      "source": [
        "features = ['Open','High','Low','Volume','Close']\n",
        "df.dropna(inplace=True)\n",
        "output_var = df['TARGET']\n",
        "df[features].info()\n",
        "df[features].head()"
      ]
    },
    {
      "cell_type": "code",
      "execution_count": 18,
      "metadata": {
        "id": "yx68E6wyZtEF",
        "colab": {
          "base_uri": "https://localhost:8080/"
        },
        "outputId": "746d09da-d3f4-4d23-8e27-6edd34a4ba4b"
      },
      "outputs": [
        {
          "output_type": "stream",
          "name": "stdout",
          "text": [
            "Looking in indexes: https://pypi.org/simple, https://us-python.pkg.dev/colab-wheels/public/simple/\n",
            "Collecting ta\n",
            "  Downloading ta-0.10.2.tar.gz (25 kB)\n",
            "  Preparing metadata (setup.py) ... \u001b[?25l\u001b[?25hdone\n",
            "Requirement already satisfied: numpy in /usr/local/lib/python3.9/dist-packages (from ta) (1.22.4)\n",
            "Requirement already satisfied: pandas in /usr/local/lib/python3.9/dist-packages (from ta) (1.3.5)\n",
            "Requirement already satisfied: python-dateutil>=2.7.3 in /usr/local/lib/python3.9/dist-packages (from pandas->ta) (2.8.2)\n",
            "Requirement already satisfied: pytz>=2017.3 in /usr/local/lib/python3.9/dist-packages (from pandas->ta) (2022.7.1)\n",
            "Requirement already satisfied: six>=1.5 in /usr/local/lib/python3.9/dist-packages (from python-dateutil>=2.7.3->pandas->ta) (1.15.0)\n",
            "Building wheels for collected packages: ta\n",
            "  Building wheel for ta (setup.py) ... \u001b[?25l\u001b[?25hdone\n",
            "  Created wheel for ta: filename=ta-0.10.2-py3-none-any.whl size=29106 sha256=0a496110fcf06ddaf4d20e8486b71ae9885f9475fa2671d5261eff466e0bb923\n",
            "  Stored in directory: /root/.cache/pip/wheels/6a/76/03/7f785aaa50b9c6ec7e3fd105a62c1b2c45a034512d51e024a9\n",
            "Successfully built ta\n",
            "Installing collected packages: ta\n",
            "Successfully installed ta-0.10.2\n"
          ]
        }
      ],
      "source": [
        "!pip install ta\n",
        "import ta\n",
        "from ta import add_all_ta_features"
      ]
    },
    {
      "cell_type": "code",
      "execution_count": 19,
      "metadata": {
        "colab": {
          "base_uri": "https://localhost:8080/"
        },
        "id": "7HtmH8H8a5lP",
        "outputId": "ae5d113e-e1e4-43fe-89f9-2167dd898331"
      },
      "outputs": [
        {
          "output_type": "stream",
          "name": "stderr",
          "text": [
            "/usr/local/lib/python3.9/dist-packages/ta/trend.py:780: RuntimeWarning: invalid value encountered in double_scalars\n",
            "  dip[idx] = 100 * (self._dip[idx] / value)\n",
            "/usr/local/lib/python3.9/dist-packages/ta/trend.py:785: RuntimeWarning: invalid value encountered in double_scalars\n",
            "  din[idx] = 100 * (self._din[idx] / value)\n"
          ]
        }
      ],
      "source": [
        "# add technical analysis features\n",
        "data = add_all_ta_features(\n",
        "    df, open=\"Open\", high=\"High\", low=\"Low\", close=\"Close\", volume=\"Volume\")\n"
      ]
    },
    {
      "cell_type": "code",
      "source": [
        "from ta.volume import AccDistIndexIndicator,ChaikinMoneyFlowIndicator,EaseOfMovementIndicator\n",
        "from ta.volume import ForceIndexIndicator,MFIIndicator,OnBalanceVolumeIndicator\n",
        "from ta.volume import VolumePriceTrendIndicator,VolumeWeightedAveragePrice,NegativeVolumeIndexIndicator\n",
        "from ta.others import DailyLogReturnIndicator\n",
        " \n",
        "adi=AccDistIndexIndicator(close = data.Close,high=data.High,low=data.Low,volume=data.Volume)\n",
        "data[\"adi\"] = adi.acc_dist_index()\n",
        "Chaikin=ChaikinMoneyFlowIndicator(close = data.Close,high=data.High,low=data.Low,volume=data.Volume)\n",
        "data[\"Chaikin\"] = Chaikin.chaikin_money_flow()\n",
        "eom=EaseOfMovementIndicator(high=data.High,low=data.Low,volume=data.Volume)\n",
        "data[\"eom\"] = eom.ease_of_movement()\n",
        "fi=ForceIndexIndicator(close = data.Close,volume=data.Volume)\n",
        "data[\"fi\"] = fi.force_index()\n",
        "mfi=MFIIndicator(high=data.High,low=data.Low,close = data.Close,volume=data.Volume)\n",
        "data[\"mfi\"] = mfi.money_flow_index()\n",
        "obv=OnBalanceVolumeIndicator(close = data.Close,volume=data.Volume)\n",
        "data[\"obv\"] = obv.on_balance_volume()\n",
        "vpt=VolumePriceTrendIndicator(close = data.Close,volume=data.Volume)\n",
        "data[\"vpt\"] = vpt.volume_price_trend()\n",
        "vwap=VolumeWeightedAveragePrice(close = data.Close,high=data.High,low=data.Low,volume=data.Volume)\n",
        "data[\"vwap\"] = vwap.volume_weighted_average_price()\n",
        "nvi=NegativeVolumeIndexIndicator(close = data.Close,volume=data.Volume)\n",
        "data[\"nvi\"] = nvi.negative_volume_index()\n",
        "dlr=DailyLogReturnIndicator(close = data.Close)\n",
        "data[\"dlr\"] = dlr.daily_log_return()"
      ],
      "metadata": {
        "id": "Y8Q8E68AZ0vw"
      },
      "execution_count": 20,
      "outputs": []
    },
    {
      "cell_type": "code",
      "execution_count": 21,
      "metadata": {
        "colab": {
          "base_uri": "https://localhost:8080/"
        },
        "id": "M56gT8EKgFQH",
        "outputId": "b77cea22-44be-4104-fff9-6485c061d9af"
      },
      "outputs": [
        {
          "output_type": "stream",
          "name": "stderr",
          "text": [
            "<ipython-input-21-3bb25b05f6a5>:4: SettingWithCopyWarning: \n",
            "A value is trying to be set on a copy of a slice from a DataFrame.\n",
            "Try using .loc[row_indexer,col_indexer] = value instead\n",
            "\n",
            "See the caveats in the documentation: https://pandas.pydata.org/pandas-docs/stable/user_guide/indexing.html#returning-a-view-versus-a-copy\n",
            "  df[\"output_var\"]=output_var\n",
            "/usr/local/lib/python3.9/dist-packages/pandas/util/_decorators.py:311: SettingWithCopyWarning: \n",
            "A value is trying to be set on a copy of a slice from a DataFrame\n",
            "\n",
            "See the caveats in the documentation: https://pandas.pydata.org/pandas-docs/stable/user_guide/indexing.html#returning-a-view-versus-a-copy\n",
            "  return func(*args, **kwargs)\n"
          ]
        }
      ],
      "source": [
        "features = ['adi','Chaikin','eom','fi','mfi','obv','vpt','vwap','nvi','dlr','SMA_3','SMA_7','SMA_13','SMA_20','EMA_3','EMA_7','EMA_13','EMA_20']\n",
        "features_30days=['D1','D2','D3','D4','D5','D6','D7','D8','D9','D10','D11','D12','D13','D14','D15','D16','D17','D18','D19','D20','D21','D22','D23','D24','D25','D26','D27','D28','D29','D30']\n",
        "df=df[features]\n",
        "df[\"output_var\"]=output_var\n",
        "total=len(features_30days)\n",
        "\n",
        "df.dropna(inplace=True)\n",
        "dfalldays=dfalldays[:df.shape[0]]\n",
        "df=df.reset_index()\n",
        "dfalldays=dfalldays.reset_index()\n",
        "for i in range(0,total):\n",
        "  df[features_30days[i]]=dfalldays[features_30days[i]]\n",
        "df=df.drop(['index'],axis=1)"
      ]
    },
    {
      "cell_type": "code",
      "execution_count": 22,
      "metadata": {
        "colab": {
          "base_uri": "https://localhost:8080/"
        },
        "id": "fJoIDsrRtvCC",
        "outputId": "1036eb21-c03a-4d0b-8f1d-81e5089bad2a"
      },
      "outputs": [
        {
          "output_type": "stream",
          "name": "stdout",
          "text": [
            "<class 'pandas.core.frame.DataFrame'>\n",
            "Int64Index: 5226 entries, 0 to 5225\n",
            "Data columns (total 49 columns):\n",
            " #   Column      Non-Null Count  Dtype  \n",
            "---  ------      --------------  -----  \n",
            " 0   adi         5226 non-null   float64\n",
            " 1   Chaikin     5226 non-null   float64\n",
            " 2   eom         5226 non-null   float64\n",
            " 3   fi          5226 non-null   float64\n",
            " 4   mfi         5226 non-null   float64\n",
            " 5   obv         5226 non-null   float64\n",
            " 6   vpt         5226 non-null   float64\n",
            " 7   vwap        5226 non-null   float64\n",
            " 8   nvi         5226 non-null   float64\n",
            " 9   dlr         5226 non-null   float64\n",
            " 10  SMA_3       5226 non-null   float64\n",
            " 11  SMA_7       5226 non-null   float64\n",
            " 12  SMA_13      5226 non-null   float64\n",
            " 13  SMA_20      5226 non-null   float64\n",
            " 14  EMA_3       5226 non-null   float64\n",
            " 15  EMA_7       5226 non-null   float64\n",
            " 16  EMA_13      5226 non-null   float64\n",
            " 17  EMA_20      5226 non-null   float64\n",
            " 18  output_var  5226 non-null   int8   \n",
            " 19  D1          5226 non-null   float64\n",
            " 20  D2          5226 non-null   float64\n",
            " 21  D3          5226 non-null   float64\n",
            " 22  D4          5226 non-null   float64\n",
            " 23  D5          5226 non-null   float64\n",
            " 24  D6          5226 non-null   float64\n",
            " 25  D7          5226 non-null   float64\n",
            " 26  D8          5226 non-null   float64\n",
            " 27  D9          5226 non-null   float64\n",
            " 28  D10         5226 non-null   float64\n",
            " 29  D11         5226 non-null   float64\n",
            " 30  D12         5226 non-null   float64\n",
            " 31  D13         5226 non-null   float64\n",
            " 32  D14         5226 non-null   float64\n",
            " 33  D15         5226 non-null   float64\n",
            " 34  D16         5226 non-null   float64\n",
            " 35  D17         5226 non-null   float64\n",
            " 36  D18         5226 non-null   float64\n",
            " 37  D19         5226 non-null   float64\n",
            " 38  D20         5226 non-null   float64\n",
            " 39  D21         5226 non-null   float64\n",
            " 40  D22         5226 non-null   float64\n",
            " 41  D23         5226 non-null   float64\n",
            " 42  D24         5226 non-null   float64\n",
            " 43  D25         5226 non-null   float64\n",
            " 44  D26         5226 non-null   float64\n",
            " 45  D27         5226 non-null   float64\n",
            " 46  D28         5226 non-null   float64\n",
            " 47  D29         5226 non-null   float64\n",
            " 48  D30         5226 non-null   float64\n",
            "dtypes: float64(48), int8(1)\n",
            "memory usage: 2.0 MB\n"
          ]
        }
      ],
      "source": [
        "df.dropna(inplace=True)\n",
        "df.info()"
      ]
    },
    {
      "cell_type": "code",
      "execution_count": 23,
      "metadata": {
        "colab": {
          "base_uri": "https://localhost:8080/",
          "height": 300
        },
        "id": "svvFg8gpOLfQ",
        "outputId": "cc42340c-21b2-4710-9793-0e33b1ed31b4"
      },
      "outputs": [
        {
          "output_type": "execute_result",
          "data": {
            "text/plain": [
              "        adi   Chaikin       eom        fi       mfi       obv       vpt  \\\n",
              "0  0.917885  0.426154  0.206440  0.604303  0.733987  0.030743  0.592075   \n",
              "1  0.917562  0.440534  0.202528  0.604072  0.666897  0.030578  0.590272   \n",
              "2  0.917409  0.432940  0.205154  0.604080  0.550045  0.030415  0.591744   \n",
              "3  0.917170  0.434625  0.203672  0.604019  0.536476  0.030321  0.592485   \n",
              "4  0.917348  0.480009  0.203968  0.604077  0.518184  0.030217  0.592740   \n",
              "\n",
              "       vwap       nvi       dlr  ...       D21       D22       D23       D24  \\\n",
              "0  0.076090  0.022682  0.804425  ...  0.093101  0.089163  0.082477  0.080920   \n",
              "1  0.077235  0.019677  0.777794  ...  0.089163  0.082477  0.080920  0.075264   \n",
              "2  0.080066  0.018978  0.823478  ...  0.082477  0.080920  0.075264  0.074508   \n",
              "3  0.080794  0.016436  0.782743  ...  0.080920  0.075264  0.074508  0.069952   \n",
              "4  0.081205  0.016436  0.830471  ...  0.075264  0.074508  0.069952  0.066494   \n",
              "\n",
              "        D25       D26       D27       D28       D29       D30  \n",
              "0  0.075264  0.074508  0.069952  0.066494  0.065876  0.059625  \n",
              "1  0.074508  0.069952  0.066494  0.065876  0.059625  0.056007  \n",
              "2  0.069952  0.066494  0.065876  0.059625  0.056007  0.061503  \n",
              "3  0.066494  0.065876  0.059625  0.056007  0.061503  0.067433  \n",
              "4  0.065876  0.059625  0.056007  0.061503  0.067433  0.067570  \n",
              "\n",
              "[5 rows x 48 columns]"
            ],
            "text/html": [
              "\n",
              "  <div id=\"df-780535f2-9985-45e9-b82d-87eb211fd80d\">\n",
              "    <div class=\"colab-df-container\">\n",
              "      <div>\n",
              "<style scoped>\n",
              "    .dataframe tbody tr th:only-of-type {\n",
              "        vertical-align: middle;\n",
              "    }\n",
              "\n",
              "    .dataframe tbody tr th {\n",
              "        vertical-align: top;\n",
              "    }\n",
              "\n",
              "    .dataframe thead th {\n",
              "        text-align: right;\n",
              "    }\n",
              "</style>\n",
              "<table border=\"1\" class=\"dataframe\">\n",
              "  <thead>\n",
              "    <tr style=\"text-align: right;\">\n",
              "      <th></th>\n",
              "      <th>adi</th>\n",
              "      <th>Chaikin</th>\n",
              "      <th>eom</th>\n",
              "      <th>fi</th>\n",
              "      <th>mfi</th>\n",
              "      <th>obv</th>\n",
              "      <th>vpt</th>\n",
              "      <th>vwap</th>\n",
              "      <th>nvi</th>\n",
              "      <th>dlr</th>\n",
              "      <th>...</th>\n",
              "      <th>D21</th>\n",
              "      <th>D22</th>\n",
              "      <th>D23</th>\n",
              "      <th>D24</th>\n",
              "      <th>D25</th>\n",
              "      <th>D26</th>\n",
              "      <th>D27</th>\n",
              "      <th>D28</th>\n",
              "      <th>D29</th>\n",
              "      <th>D30</th>\n",
              "    </tr>\n",
              "  </thead>\n",
              "  <tbody>\n",
              "    <tr>\n",
              "      <th>0</th>\n",
              "      <td>0.917885</td>\n",
              "      <td>0.426154</td>\n",
              "      <td>0.206440</td>\n",
              "      <td>0.604303</td>\n",
              "      <td>0.733987</td>\n",
              "      <td>0.030743</td>\n",
              "      <td>0.592075</td>\n",
              "      <td>0.076090</td>\n",
              "      <td>0.022682</td>\n",
              "      <td>0.804425</td>\n",
              "      <td>...</td>\n",
              "      <td>0.093101</td>\n",
              "      <td>0.089163</td>\n",
              "      <td>0.082477</td>\n",
              "      <td>0.080920</td>\n",
              "      <td>0.075264</td>\n",
              "      <td>0.074508</td>\n",
              "      <td>0.069952</td>\n",
              "      <td>0.066494</td>\n",
              "      <td>0.065876</td>\n",
              "      <td>0.059625</td>\n",
              "    </tr>\n",
              "    <tr>\n",
              "      <th>1</th>\n",
              "      <td>0.917562</td>\n",
              "      <td>0.440534</td>\n",
              "      <td>0.202528</td>\n",
              "      <td>0.604072</td>\n",
              "      <td>0.666897</td>\n",
              "      <td>0.030578</td>\n",
              "      <td>0.590272</td>\n",
              "      <td>0.077235</td>\n",
              "      <td>0.019677</td>\n",
              "      <td>0.777794</td>\n",
              "      <td>...</td>\n",
              "      <td>0.089163</td>\n",
              "      <td>0.082477</td>\n",
              "      <td>0.080920</td>\n",
              "      <td>0.075264</td>\n",
              "      <td>0.074508</td>\n",
              "      <td>0.069952</td>\n",
              "      <td>0.066494</td>\n",
              "      <td>0.065876</td>\n",
              "      <td>0.059625</td>\n",
              "      <td>0.056007</td>\n",
              "    </tr>\n",
              "    <tr>\n",
              "      <th>2</th>\n",
              "      <td>0.917409</td>\n",
              "      <td>0.432940</td>\n",
              "      <td>0.205154</td>\n",
              "      <td>0.604080</td>\n",
              "      <td>0.550045</td>\n",
              "      <td>0.030415</td>\n",
              "      <td>0.591744</td>\n",
              "      <td>0.080066</td>\n",
              "      <td>0.018978</td>\n",
              "      <td>0.823478</td>\n",
              "      <td>...</td>\n",
              "      <td>0.082477</td>\n",
              "      <td>0.080920</td>\n",
              "      <td>0.075264</td>\n",
              "      <td>0.074508</td>\n",
              "      <td>0.069952</td>\n",
              "      <td>0.066494</td>\n",
              "      <td>0.065876</td>\n",
              "      <td>0.059625</td>\n",
              "      <td>0.056007</td>\n",
              "      <td>0.061503</td>\n",
              "    </tr>\n",
              "    <tr>\n",
              "      <th>3</th>\n",
              "      <td>0.917170</td>\n",
              "      <td>0.434625</td>\n",
              "      <td>0.203672</td>\n",
              "      <td>0.604019</td>\n",
              "      <td>0.536476</td>\n",
              "      <td>0.030321</td>\n",
              "      <td>0.592485</td>\n",
              "      <td>0.080794</td>\n",
              "      <td>0.016436</td>\n",
              "      <td>0.782743</td>\n",
              "      <td>...</td>\n",
              "      <td>0.080920</td>\n",
              "      <td>0.075264</td>\n",
              "      <td>0.074508</td>\n",
              "      <td>0.069952</td>\n",
              "      <td>0.066494</td>\n",
              "      <td>0.065876</td>\n",
              "      <td>0.059625</td>\n",
              "      <td>0.056007</td>\n",
              "      <td>0.061503</td>\n",
              "      <td>0.067433</td>\n",
              "    </tr>\n",
              "    <tr>\n",
              "      <th>4</th>\n",
              "      <td>0.917348</td>\n",
              "      <td>0.480009</td>\n",
              "      <td>0.203968</td>\n",
              "      <td>0.604077</td>\n",
              "      <td>0.518184</td>\n",
              "      <td>0.030217</td>\n",
              "      <td>0.592740</td>\n",
              "      <td>0.081205</td>\n",
              "      <td>0.016436</td>\n",
              "      <td>0.830471</td>\n",
              "      <td>...</td>\n",
              "      <td>0.075264</td>\n",
              "      <td>0.074508</td>\n",
              "      <td>0.069952</td>\n",
              "      <td>0.066494</td>\n",
              "      <td>0.065876</td>\n",
              "      <td>0.059625</td>\n",
              "      <td>0.056007</td>\n",
              "      <td>0.061503</td>\n",
              "      <td>0.067433</td>\n",
              "      <td>0.067570</td>\n",
              "    </tr>\n",
              "  </tbody>\n",
              "</table>\n",
              "<p>5 rows × 48 columns</p>\n",
              "</div>\n",
              "      <button class=\"colab-df-convert\" onclick=\"convertToInteractive('df-780535f2-9985-45e9-b82d-87eb211fd80d')\"\n",
              "              title=\"Convert this dataframe to an interactive table.\"\n",
              "              style=\"display:none;\">\n",
              "        \n",
              "  <svg xmlns=\"http://www.w3.org/2000/svg\" height=\"24px\"viewBox=\"0 0 24 24\"\n",
              "       width=\"24px\">\n",
              "    <path d=\"M0 0h24v24H0V0z\" fill=\"none\"/>\n",
              "    <path d=\"M18.56 5.44l.94 2.06.94-2.06 2.06-.94-2.06-.94-.94-2.06-.94 2.06-2.06.94zm-11 1L8.5 8.5l.94-2.06 2.06-.94-2.06-.94L8.5 2.5l-.94 2.06-2.06.94zm10 10l.94 2.06.94-2.06 2.06-.94-2.06-.94-.94-2.06-.94 2.06-2.06.94z\"/><path d=\"M17.41 7.96l-1.37-1.37c-.4-.4-.92-.59-1.43-.59-.52 0-1.04.2-1.43.59L10.3 9.45l-7.72 7.72c-.78.78-.78 2.05 0 2.83L4 21.41c.39.39.9.59 1.41.59.51 0 1.02-.2 1.41-.59l7.78-7.78 2.81-2.81c.8-.78.8-2.07 0-2.86zM5.41 20L4 18.59l7.72-7.72 1.47 1.35L5.41 20z\"/>\n",
              "  </svg>\n",
              "      </button>\n",
              "      \n",
              "  <style>\n",
              "    .colab-df-container {\n",
              "      display:flex;\n",
              "      flex-wrap:wrap;\n",
              "      gap: 12px;\n",
              "    }\n",
              "\n",
              "    .colab-df-convert {\n",
              "      background-color: #E8F0FE;\n",
              "      border: none;\n",
              "      border-radius: 50%;\n",
              "      cursor: pointer;\n",
              "      display: none;\n",
              "      fill: #1967D2;\n",
              "      height: 32px;\n",
              "      padding: 0 0 0 0;\n",
              "      width: 32px;\n",
              "    }\n",
              "\n",
              "    .colab-df-convert:hover {\n",
              "      background-color: #E2EBFA;\n",
              "      box-shadow: 0px 1px 2px rgba(60, 64, 67, 0.3), 0px 1px 3px 1px rgba(60, 64, 67, 0.15);\n",
              "      fill: #174EA6;\n",
              "    }\n",
              "\n",
              "    [theme=dark] .colab-df-convert {\n",
              "      background-color: #3B4455;\n",
              "      fill: #D2E3FC;\n",
              "    }\n",
              "\n",
              "    [theme=dark] .colab-df-convert:hover {\n",
              "      background-color: #434B5C;\n",
              "      box-shadow: 0px 1px 3px 1px rgba(0, 0, 0, 0.15);\n",
              "      filter: drop-shadow(0px 1px 2px rgba(0, 0, 0, 0.3));\n",
              "      fill: #FFFFFF;\n",
              "    }\n",
              "  </style>\n",
              "\n",
              "      <script>\n",
              "        const buttonEl =\n",
              "          document.querySelector('#df-780535f2-9985-45e9-b82d-87eb211fd80d button.colab-df-convert');\n",
              "        buttonEl.style.display =\n",
              "          google.colab.kernel.accessAllowed ? 'block' : 'none';\n",
              "\n",
              "        async function convertToInteractive(key) {\n",
              "          const element = document.querySelector('#df-780535f2-9985-45e9-b82d-87eb211fd80d');\n",
              "          const dataTable =\n",
              "            await google.colab.kernel.invokeFunction('convertToInteractive',\n",
              "                                                     [key], {});\n",
              "          if (!dataTable) return;\n",
              "\n",
              "          const docLinkHtml = 'Like what you see? Visit the ' +\n",
              "            '<a target=\"_blank\" href=https://colab.research.google.com/notebooks/data_table.ipynb>data table notebook</a>'\n",
              "            + ' to learn more about interactive tables.';\n",
              "          element.innerHTML = '';\n",
              "          dataTable['output_type'] = 'display_data';\n",
              "          await google.colab.output.renderOutput(dataTable, element);\n",
              "          const docLink = document.createElement('div');\n",
              "          docLink.innerHTML = docLinkHtml;\n",
              "          element.appendChild(docLink);\n",
              "        }\n",
              "      </script>\n",
              "    </div>\n",
              "  </div>\n",
              "  "
            ]
          },
          "metadata": {},
          "execution_count": 23
        }
      ],
      "source": [
        "scaler = MinMaxScaler()\n",
        "feature_transform = scaler.fit_transform(df[features+features_30days])\n",
        "feature_transform= pd.DataFrame(columns=features+features_30days, data=feature_transform)\n",
        "feature_transform.head()"
      ]
    },
    {
      "cell_type": "code",
      "execution_count": 24,
      "metadata": {
        "colab": {
          "base_uri": "https://localhost:8080/",
          "height": 35
        },
        "id": "yHX0fqyrL5U1",
        "outputId": "64343c4f-de56-474c-b2ca-43480ebff49b"
      },
      "outputs": [
        {
          "output_type": "execute_result",
          "data": {
            "text/plain": [
              "\"\\nx=feature_transform\\nx.head()\\ny=df['output_var']\\ny.head()\\n\""
            ],
            "application/vnd.google.colaboratory.intrinsic+json": {
              "type": "string"
            }
          },
          "metadata": {},
          "execution_count": 24
        }
      ],
      "source": [
        "'''\n",
        "x=feature_transform\n",
        "x.head()\n",
        "y=df['output_var']\n",
        "y.head()\n",
        "'''"
      ]
    },
    {
      "cell_type": "code",
      "execution_count": 25,
      "metadata": {
        "colab": {
          "base_uri": "https://localhost:8080/",
          "height": 53
        },
        "id": "DcD1qC3iMvdq",
        "outputId": "2e1acf8d-bbab-42ac-ccb3-95f2ec8fc5fd"
      },
      "outputs": [
        {
          "output_type": "execute_result",
          "data": {
            "text/plain": [
              "'\\n#create test and train data 70% and 30% split\\ntrain_x,test_x,train_y,test_y=train_test_split(x,y,test_size=0.3)\\ntrain_x.shape\\ntest_x.shape\\ntrain_x.shape\\ntrain_y.shape\\n'"
            ],
            "application/vnd.google.colaboratory.intrinsic+json": {
              "type": "string"
            }
          },
          "metadata": {},
          "execution_count": 25
        }
      ],
      "source": [
        "'''\n",
        "#create test and train data 70% and 30% split\n",
        "train_x,test_x,train_y,test_y=train_test_split(x,y,test_size=0.3)\n",
        "train_x.shape\n",
        "test_x.shape\n",
        "train_x.shape\n",
        "train_y.shape\n",
        "'''"
      ]
    },
    {
      "cell_type": "code",
      "execution_count": 26,
      "metadata": {
        "colab": {
          "base_uri": "https://localhost:8080/",
          "height": 335
        },
        "id": "9ksRxVM4tysS",
        "outputId": "1dd77f6a-c523-41fe-87da-269cc40b7f8c"
      },
      "outputs": [
        {
          "output_type": "execute_result",
          "data": {
            "text/plain": [
              "'0.9999969424022478'"
            ],
            "application/vnd.google.colaboratory.intrinsic+json": {
              "type": "string"
            }
          },
          "metadata": {},
          "execution_count": 26
        },
        {
          "output_type": "execute_result",
          "data": {
            "text/plain": [
              "         P1        P2        P3        P4        P5        P6        P7  \\\n",
              "0 -1.665877  0.296720  0.214409  0.047800  0.135687 -0.091876  0.098686   \n",
              "1 -1.672812  0.301255  0.158831  0.030852  0.110471 -0.073572  0.079571   \n",
              "2 -1.680918  0.312301  0.054333  0.005695  0.083179 -0.069223  0.043615   \n",
              "3 -1.686762  0.314332  0.042036  0.003720  0.078370 -0.065222  0.038689   \n",
              "4 -1.690746  0.307647  0.041746 -0.013624  0.046180 -0.034283  0.023216   \n",
              "\n",
              "         P8        P9       P10  ...       P31       P32       P33       P34  \\\n",
              "0  0.016488 -0.009913 -0.055903  ...  0.000987 -0.003348  0.002093 -0.000996   \n",
              "1  0.036731 -0.009472 -0.064494  ... -0.002222  0.002680 -0.003180  0.002177   \n",
              "2  0.037265 -0.022939 -0.038850  ...  0.000519 -0.000786  0.000623  0.001105   \n",
              "3  0.056423 -0.013456 -0.038944  ... -0.000786  0.000895  0.000271 -0.000572   \n",
              "4  0.048394 -0.017236 -0.006831  ... -0.000127 -0.000321 -0.002433  0.001589   \n",
              "\n",
              "        P35       P36       P37       P38       P39       P40  \n",
              "0 -0.002968  0.000916  0.001181 -0.000666 -0.003314 -0.001979  \n",
              "1  0.002110  0.000904 -0.000487  0.000791 -0.004158 -0.002446  \n",
              "2  0.000107 -0.000268 -0.000557 -0.001269 -0.001670 -0.003272  \n",
              "3  0.001237  0.001311  0.001080  0.000727 -0.003006 -0.003814  \n",
              "4 -0.000051 -0.000515 -0.001799 -0.001042 -0.000810 -0.002574  \n",
              "\n",
              "[5 rows x 40 columns]"
            ],
            "text/html": [
              "\n",
              "  <div id=\"df-289821c8-7c49-4f5a-84f0-48f17279b1ab\">\n",
              "    <div class=\"colab-df-container\">\n",
              "      <div>\n",
              "<style scoped>\n",
              "    .dataframe tbody tr th:only-of-type {\n",
              "        vertical-align: middle;\n",
              "    }\n",
              "\n",
              "    .dataframe tbody tr th {\n",
              "        vertical-align: top;\n",
              "    }\n",
              "\n",
              "    .dataframe thead th {\n",
              "        text-align: right;\n",
              "    }\n",
              "</style>\n",
              "<table border=\"1\" class=\"dataframe\">\n",
              "  <thead>\n",
              "    <tr style=\"text-align: right;\">\n",
              "      <th></th>\n",
              "      <th>P1</th>\n",
              "      <th>P2</th>\n",
              "      <th>P3</th>\n",
              "      <th>P4</th>\n",
              "      <th>P5</th>\n",
              "      <th>P6</th>\n",
              "      <th>P7</th>\n",
              "      <th>P8</th>\n",
              "      <th>P9</th>\n",
              "      <th>P10</th>\n",
              "      <th>...</th>\n",
              "      <th>P31</th>\n",
              "      <th>P32</th>\n",
              "      <th>P33</th>\n",
              "      <th>P34</th>\n",
              "      <th>P35</th>\n",
              "      <th>P36</th>\n",
              "      <th>P37</th>\n",
              "      <th>P38</th>\n",
              "      <th>P39</th>\n",
              "      <th>P40</th>\n",
              "    </tr>\n",
              "  </thead>\n",
              "  <tbody>\n",
              "    <tr>\n",
              "      <th>0</th>\n",
              "      <td>-1.665877</td>\n",
              "      <td>0.296720</td>\n",
              "      <td>0.214409</td>\n",
              "      <td>0.047800</td>\n",
              "      <td>0.135687</td>\n",
              "      <td>-0.091876</td>\n",
              "      <td>0.098686</td>\n",
              "      <td>0.016488</td>\n",
              "      <td>-0.009913</td>\n",
              "      <td>-0.055903</td>\n",
              "      <td>...</td>\n",
              "      <td>0.000987</td>\n",
              "      <td>-0.003348</td>\n",
              "      <td>0.002093</td>\n",
              "      <td>-0.000996</td>\n",
              "      <td>-0.002968</td>\n",
              "      <td>0.000916</td>\n",
              "      <td>0.001181</td>\n",
              "      <td>-0.000666</td>\n",
              "      <td>-0.003314</td>\n",
              "      <td>-0.001979</td>\n",
              "    </tr>\n",
              "    <tr>\n",
              "      <th>1</th>\n",
              "      <td>-1.672812</td>\n",
              "      <td>0.301255</td>\n",
              "      <td>0.158831</td>\n",
              "      <td>0.030852</td>\n",
              "      <td>0.110471</td>\n",
              "      <td>-0.073572</td>\n",
              "      <td>0.079571</td>\n",
              "      <td>0.036731</td>\n",
              "      <td>-0.009472</td>\n",
              "      <td>-0.064494</td>\n",
              "      <td>...</td>\n",
              "      <td>-0.002222</td>\n",
              "      <td>0.002680</td>\n",
              "      <td>-0.003180</td>\n",
              "      <td>0.002177</td>\n",
              "      <td>0.002110</td>\n",
              "      <td>0.000904</td>\n",
              "      <td>-0.000487</td>\n",
              "      <td>0.000791</td>\n",
              "      <td>-0.004158</td>\n",
              "      <td>-0.002446</td>\n",
              "    </tr>\n",
              "    <tr>\n",
              "      <th>2</th>\n",
              "      <td>-1.680918</td>\n",
              "      <td>0.312301</td>\n",
              "      <td>0.054333</td>\n",
              "      <td>0.005695</td>\n",
              "      <td>0.083179</td>\n",
              "      <td>-0.069223</td>\n",
              "      <td>0.043615</td>\n",
              "      <td>0.037265</td>\n",
              "      <td>-0.022939</td>\n",
              "      <td>-0.038850</td>\n",
              "      <td>...</td>\n",
              "      <td>0.000519</td>\n",
              "      <td>-0.000786</td>\n",
              "      <td>0.000623</td>\n",
              "      <td>0.001105</td>\n",
              "      <td>0.000107</td>\n",
              "      <td>-0.000268</td>\n",
              "      <td>-0.000557</td>\n",
              "      <td>-0.001269</td>\n",
              "      <td>-0.001670</td>\n",
              "      <td>-0.003272</td>\n",
              "    </tr>\n",
              "    <tr>\n",
              "      <th>3</th>\n",
              "      <td>-1.686762</td>\n",
              "      <td>0.314332</td>\n",
              "      <td>0.042036</td>\n",
              "      <td>0.003720</td>\n",
              "      <td>0.078370</td>\n",
              "      <td>-0.065222</td>\n",
              "      <td>0.038689</td>\n",
              "      <td>0.056423</td>\n",
              "      <td>-0.013456</td>\n",
              "      <td>-0.038944</td>\n",
              "      <td>...</td>\n",
              "      <td>-0.000786</td>\n",
              "      <td>0.000895</td>\n",
              "      <td>0.000271</td>\n",
              "      <td>-0.000572</td>\n",
              "      <td>0.001237</td>\n",
              "      <td>0.001311</td>\n",
              "      <td>0.001080</td>\n",
              "      <td>0.000727</td>\n",
              "      <td>-0.003006</td>\n",
              "      <td>-0.003814</td>\n",
              "    </tr>\n",
              "    <tr>\n",
              "      <th>4</th>\n",
              "      <td>-1.690746</td>\n",
              "      <td>0.307647</td>\n",
              "      <td>0.041746</td>\n",
              "      <td>-0.013624</td>\n",
              "      <td>0.046180</td>\n",
              "      <td>-0.034283</td>\n",
              "      <td>0.023216</td>\n",
              "      <td>0.048394</td>\n",
              "      <td>-0.017236</td>\n",
              "      <td>-0.006831</td>\n",
              "      <td>...</td>\n",
              "      <td>-0.000127</td>\n",
              "      <td>-0.000321</td>\n",
              "      <td>-0.002433</td>\n",
              "      <td>0.001589</td>\n",
              "      <td>-0.000051</td>\n",
              "      <td>-0.000515</td>\n",
              "      <td>-0.001799</td>\n",
              "      <td>-0.001042</td>\n",
              "      <td>-0.000810</td>\n",
              "      <td>-0.002574</td>\n",
              "    </tr>\n",
              "  </tbody>\n",
              "</table>\n",
              "<p>5 rows × 40 columns</p>\n",
              "</div>\n",
              "      <button class=\"colab-df-convert\" onclick=\"convertToInteractive('df-289821c8-7c49-4f5a-84f0-48f17279b1ab')\"\n",
              "              title=\"Convert this dataframe to an interactive table.\"\n",
              "              style=\"display:none;\">\n",
              "        \n",
              "  <svg xmlns=\"http://www.w3.org/2000/svg\" height=\"24px\"viewBox=\"0 0 24 24\"\n",
              "       width=\"24px\">\n",
              "    <path d=\"M0 0h24v24H0V0z\" fill=\"none\"/>\n",
              "    <path d=\"M18.56 5.44l.94 2.06.94-2.06 2.06-.94-2.06-.94-.94-2.06-.94 2.06-2.06.94zm-11 1L8.5 8.5l.94-2.06 2.06-.94-2.06-.94L8.5 2.5l-.94 2.06-2.06.94zm10 10l.94 2.06.94-2.06 2.06-.94-2.06-.94-.94-2.06-.94 2.06-2.06.94z\"/><path d=\"M17.41 7.96l-1.37-1.37c-.4-.4-.92-.59-1.43-.59-.52 0-1.04.2-1.43.59L10.3 9.45l-7.72 7.72c-.78.78-.78 2.05 0 2.83L4 21.41c.39.39.9.59 1.41.59.51 0 1.02-.2 1.41-.59l7.78-7.78 2.81-2.81c.8-.78.8-2.07 0-2.86zM5.41 20L4 18.59l7.72-7.72 1.47 1.35L5.41 20z\"/>\n",
              "  </svg>\n",
              "      </button>\n",
              "      \n",
              "  <style>\n",
              "    .colab-df-container {\n",
              "      display:flex;\n",
              "      flex-wrap:wrap;\n",
              "      gap: 12px;\n",
              "    }\n",
              "\n",
              "    .colab-df-convert {\n",
              "      background-color: #E8F0FE;\n",
              "      border: none;\n",
              "      border-radius: 50%;\n",
              "      cursor: pointer;\n",
              "      display: none;\n",
              "      fill: #1967D2;\n",
              "      height: 32px;\n",
              "      padding: 0 0 0 0;\n",
              "      width: 32px;\n",
              "    }\n",
              "\n",
              "    .colab-df-convert:hover {\n",
              "      background-color: #E2EBFA;\n",
              "      box-shadow: 0px 1px 2px rgba(60, 64, 67, 0.3), 0px 1px 3px 1px rgba(60, 64, 67, 0.15);\n",
              "      fill: #174EA6;\n",
              "    }\n",
              "\n",
              "    [theme=dark] .colab-df-convert {\n",
              "      background-color: #3B4455;\n",
              "      fill: #D2E3FC;\n",
              "    }\n",
              "\n",
              "    [theme=dark] .colab-df-convert:hover {\n",
              "      background-color: #434B5C;\n",
              "      box-shadow: 0px 1px 3px 1px rgba(0, 0, 0, 0.15);\n",
              "      filter: drop-shadow(0px 1px 2px rgba(0, 0, 0, 0.3));\n",
              "      fill: #FFFFFF;\n",
              "    }\n",
              "  </style>\n",
              "\n",
              "      <script>\n",
              "        const buttonEl =\n",
              "          document.querySelector('#df-289821c8-7c49-4f5a-84f0-48f17279b1ab button.colab-df-convert');\n",
              "        buttonEl.style.display =\n",
              "          google.colab.kernel.accessAllowed ? 'block' : 'none';\n",
              "\n",
              "        async function convertToInteractive(key) {\n",
              "          const element = document.querySelector('#df-289821c8-7c49-4f5a-84f0-48f17279b1ab');\n",
              "          const dataTable =\n",
              "            await google.colab.kernel.invokeFunction('convertToInteractive',\n",
              "                                                     [key], {});\n",
              "          if (!dataTable) return;\n",
              "\n",
              "          const docLinkHtml = 'Like what you see? Visit the ' +\n",
              "            '<a target=\"_blank\" href=https://colab.research.google.com/notebooks/data_table.ipynb>data table notebook</a>'\n",
              "            + ' to learn more about interactive tables.';\n",
              "          element.innerHTML = '';\n",
              "          dataTable['output_type'] = 'display_data';\n",
              "          await google.colab.output.renderOutput(dataTable, element);\n",
              "          const docLink = document.createElement('div');\n",
              "          docLink.innerHTML = docLinkHtml;\n",
              "          element.appendChild(docLink);\n",
              "        }\n",
              "      </script>\n",
              "    </div>\n",
              "  </div>\n",
              "  "
            ]
          },
          "metadata": {},
          "execution_count": 26
        },
        {
          "output_type": "stream",
          "name": "stdout",
          "text": [
            "(4180, 40) (1046, 40) (4180,) (1046,)\n"
          ]
        }
      ],
      "source": [
        "from sklearn.decomposition import PCA\n",
        "pca=PCA(40).fit(feature_transform)\n",
        "str(pca.explained_variance_ratio_.sum())\n",
        "pca_df=pd.DataFrame(pca.components_,columns=feature_transform.columns)\n",
        "#transformed features,instead of having 8,we have 5 now.this can now be plugged into any further modelling work\n",
        "x_scaled_transf=pca.fit_transform(feature_transform)\n",
        "x_scaled_transf=pd.DataFrame(x_scaled_transf,columns=('P1','P2','P3','P4','P5','P6','P7','P8','P9','P10','P11','P12','P13','P14','P15','P16','P17','P18','P19','P20','P21','P22','P23','P24','P25','P26','P27','P28','P29','P30','P31','P32','P33','P34','P35','P36','P37','P38','P39','P40'))\n",
        "x_scaled_transf.head()\n",
        "y=df['output_var']\n",
        "# separate into train and test sets\n",
        "train_x,test_x,train_y,test_y=train_test_split(x_scaled_transf,y,test_size=0.20,random_state=1)\n",
        "print(train_x.shape, test_x.shape, train_y.shape, test_y.shape)\n"
      ]
    },
    {
      "cell_type": "code",
      "execution_count": 27,
      "metadata": {
        "id": "V0EG4-WCDXYW"
      },
      "outputs": [],
      "source": [
        "#BUILD A LOGISTIC REGRESSION MODEL\n",
        "from sklearn.linear_model import LogisticRegression\n",
        "log = lm.LogisticRegression(penalty='l1',fit_intercept=True,max_iter=500,solver='saga',tol=1e-5,multi_class='ovr',class_weight=None)\n"
      ]
    },
    {
      "cell_type": "code",
      "execution_count": 28,
      "metadata": {
        "colab": {
          "base_uri": "https://localhost:8080/",
          "height": 147
        },
        "id": "G10updCQDjLv",
        "outputId": "1bb883b7-f8d1-4883-b465-f8f995399f59"
      },
      "outputs": [
        {
          "output_type": "stream",
          "name": "stderr",
          "text": [
            "/usr/local/lib/python3.9/dist-packages/sklearn/linear_model/_sag.py:350: ConvergenceWarning: The max_iter was reached which means the coef_ did not converge\n",
            "  warnings.warn(\n"
          ]
        },
        {
          "output_type": "execute_result",
          "data": {
            "text/plain": [
              "LogisticRegression(max_iter=500, multi_class='ovr', penalty='l1', solver='saga',\n",
              "                   tol=1e-05)"
            ],
            "text/html": [
              "<style>#sk-container-id-1 {color: black;background-color: white;}#sk-container-id-1 pre{padding: 0;}#sk-container-id-1 div.sk-toggleable {background-color: white;}#sk-container-id-1 label.sk-toggleable__label {cursor: pointer;display: block;width: 100%;margin-bottom: 0;padding: 0.3em;box-sizing: border-box;text-align: center;}#sk-container-id-1 label.sk-toggleable__label-arrow:before {content: \"▸\";float: left;margin-right: 0.25em;color: #696969;}#sk-container-id-1 label.sk-toggleable__label-arrow:hover:before {color: black;}#sk-container-id-1 div.sk-estimator:hover label.sk-toggleable__label-arrow:before {color: black;}#sk-container-id-1 div.sk-toggleable__content {max-height: 0;max-width: 0;overflow: hidden;text-align: left;background-color: #f0f8ff;}#sk-container-id-1 div.sk-toggleable__content pre {margin: 0.2em;color: black;border-radius: 0.25em;background-color: #f0f8ff;}#sk-container-id-1 input.sk-toggleable__control:checked~div.sk-toggleable__content {max-height: 200px;max-width: 100%;overflow: auto;}#sk-container-id-1 input.sk-toggleable__control:checked~label.sk-toggleable__label-arrow:before {content: \"▾\";}#sk-container-id-1 div.sk-estimator input.sk-toggleable__control:checked~label.sk-toggleable__label {background-color: #d4ebff;}#sk-container-id-1 div.sk-label input.sk-toggleable__control:checked~label.sk-toggleable__label {background-color: #d4ebff;}#sk-container-id-1 input.sk-hidden--visually {border: 0;clip: rect(1px 1px 1px 1px);clip: rect(1px, 1px, 1px, 1px);height: 1px;margin: -1px;overflow: hidden;padding: 0;position: absolute;width: 1px;}#sk-container-id-1 div.sk-estimator {font-family: monospace;background-color: #f0f8ff;border: 1px dotted black;border-radius: 0.25em;box-sizing: border-box;margin-bottom: 0.5em;}#sk-container-id-1 div.sk-estimator:hover {background-color: #d4ebff;}#sk-container-id-1 div.sk-parallel-item::after {content: \"\";width: 100%;border-bottom: 1px solid gray;flex-grow: 1;}#sk-container-id-1 div.sk-label:hover label.sk-toggleable__label {background-color: #d4ebff;}#sk-container-id-1 div.sk-serial::before {content: \"\";position: absolute;border-left: 1px solid gray;box-sizing: border-box;top: 0;bottom: 0;left: 50%;z-index: 0;}#sk-container-id-1 div.sk-serial {display: flex;flex-direction: column;align-items: center;background-color: white;padding-right: 0.2em;padding-left: 0.2em;position: relative;}#sk-container-id-1 div.sk-item {position: relative;z-index: 1;}#sk-container-id-1 div.sk-parallel {display: flex;align-items: stretch;justify-content: center;background-color: white;position: relative;}#sk-container-id-1 div.sk-item::before, #sk-container-id-1 div.sk-parallel-item::before {content: \"\";position: absolute;border-left: 1px solid gray;box-sizing: border-box;top: 0;bottom: 0;left: 50%;z-index: -1;}#sk-container-id-1 div.sk-parallel-item {display: flex;flex-direction: column;z-index: 1;position: relative;background-color: white;}#sk-container-id-1 div.sk-parallel-item:first-child::after {align-self: flex-end;width: 50%;}#sk-container-id-1 div.sk-parallel-item:last-child::after {align-self: flex-start;width: 50%;}#sk-container-id-1 div.sk-parallel-item:only-child::after {width: 0;}#sk-container-id-1 div.sk-dashed-wrapped {border: 1px dashed gray;margin: 0 0.4em 0.5em 0.4em;box-sizing: border-box;padding-bottom: 0.4em;background-color: white;}#sk-container-id-1 div.sk-label label {font-family: monospace;font-weight: bold;display: inline-block;line-height: 1.2em;}#sk-container-id-1 div.sk-label-container {text-align: center;}#sk-container-id-1 div.sk-container {/* jupyter's `normalize.less` sets `[hidden] { display: none; }` but bootstrap.min.css set `[hidden] { display: none !important; }` so we also need the `!important` here to be able to override the default hidden behavior on the sphinx rendered scikit-learn.org. See: https://github.com/scikit-learn/scikit-learn/issues/21755 */display: inline-block !important;position: relative;}#sk-container-id-1 div.sk-text-repr-fallback {display: none;}</style><div id=\"sk-container-id-1\" class=\"sk-top-container\"><div class=\"sk-text-repr-fallback\"><pre>LogisticRegression(max_iter=500, multi_class=&#x27;ovr&#x27;, penalty=&#x27;l1&#x27;, solver=&#x27;saga&#x27;,\n",
              "                   tol=1e-05)</pre><b>In a Jupyter environment, please rerun this cell to show the HTML representation or trust the notebook. <br />On GitHub, the HTML representation is unable to render, please try loading this page with nbviewer.org.</b></div><div class=\"sk-container\" hidden><div class=\"sk-item\"><div class=\"sk-estimator sk-toggleable\"><input class=\"sk-toggleable__control sk-hidden--visually\" id=\"sk-estimator-id-1\" type=\"checkbox\" checked><label for=\"sk-estimator-id-1\" class=\"sk-toggleable__label sk-toggleable__label-arrow\">LogisticRegression</label><div class=\"sk-toggleable__content\"><pre>LogisticRegression(max_iter=500, multi_class=&#x27;ovr&#x27;, penalty=&#x27;l1&#x27;, solver=&#x27;saga&#x27;,\n",
              "                   tol=1e-05)</pre></div></div></div></div></div>"
            ]
          },
          "metadata": {},
          "execution_count": 28
        }
      ],
      "source": [
        "log.fit(train_x,train_y)"
      ]
    },
    {
      "cell_type": "code",
      "execution_count": 29,
      "metadata": {
        "colab": {
          "base_uri": "https://localhost:8080/"
        },
        "id": "aWbn2O4uDnVj",
        "outputId": "8884fd42-a9ea-4463-97eb-0957735153e1"
      },
      "outputs": [
        {
          "output_type": "stream",
          "name": "stdout",
          "text": [
            "1046\n"
          ]
        }
      ],
      "source": [
        "#GENERATE MODEL DIAGNOSTICS\n",
        "classes=log.predict(test_x)\n",
        "print(classes.size)"
      ]
    },
    {
      "cell_type": "markdown",
      "metadata": {
        "id": "L0hsw_cfJFwm"
      },
      "source": [
        "#LOGISTIC REGRESSION MODEL"
      ]
    },
    {
      "cell_type": "code",
      "execution_count": 30,
      "metadata": {
        "colab": {
          "base_uri": "https://localhost:8080/"
        },
        "id": "zV8JvNFHDqGp",
        "outputId": "c0a07b2c-924d-4363-890e-95bf9d7e52e5"
      },
      "outputs": [
        {
          "output_type": "stream",
          "name": "stdout",
          "text": [
            "ACCUIRACY SCORE\n",
            "0.9694072657743786\n"
          ]
        }
      ],
      "source": [
        "#PRECISION AND RECALL\n",
        "print(\"ACCUIRACY SCORE\")\n",
        "print(metrics.accuracy_score(test_y,classes))"
      ]
    },
    {
      "cell_type": "code",
      "execution_count": 31,
      "metadata": {
        "colab": {
          "base_uri": "https://localhost:8080/"
        },
        "id": "DAw0ad-KDsmI",
        "outputId": "319db745-0cda-44f1-bafa-dbab15e0efc9"
      },
      "outputs": [
        {
          "output_type": "stream",
          "name": "stdout",
          "text": [
            "precision/recall Metrics\n",
            "              precision    recall  f1-score   support\n",
            "\n",
            "           0       0.96      0.99      0.98       632\n",
            "           1       0.99      0.93      0.96       414\n",
            "\n",
            "    accuracy                           0.97      1046\n",
            "   macro avg       0.97      0.96      0.97      1046\n",
            "weighted avg       0.97      0.97      0.97      1046\n",
            "\n"
          ]
        }
      ],
      "source": [
        "#PRECISION RECALL MATRIX\n",
        "print(\"precision/recall Metrics\")\n",
        "print(metrics.classification_report(test_y,classes))"
      ]
    },
    {
      "cell_type": "code",
      "execution_count": 32,
      "metadata": {
        "colab": {
          "base_uri": "https://localhost:8080/",
          "height": 300
        },
        "id": "nyOFpw3HDxln",
        "outputId": "c726c5fe-f6a3-4791-c1bf-d73c7e996f95"
      },
      "outputs": [
        {
          "output_type": "stream",
          "name": "stdout",
          "text": [
            "CONFUSION MATRIX\n"
          ]
        },
        {
          "output_type": "execute_result",
          "data": {
            "text/plain": [
              "<AxesSubplot:>"
            ]
          },
          "metadata": {},
          "execution_count": 32
        },
        {
          "output_type": "display_data",
          "data": {
            "text/plain": [
              "<Figure size 432x288 with 2 Axes>"
            ],
            "image/png": "[encoded data removed]"
          },
          "metadata": {
            "needs_background": "light"
          }
        }
      ],
      "source": [
        "#CONFUSION MATRIX\n",
        "print(\"CONFUSION MATRIX\")\n",
        "cf=metrics.confusion_matrix(test_y,classes)\n",
        "lbl1=[\"Predicted 0\",\"Predicted 1\"]\n",
        "lbl2=[\"True 0\",\"True 1\"]\n",
        "sns.heatmap(cf,annot=True,cmap=\"Greens\",fmt=\"d\",xticklabels=lbl1,yticklabels=lbl2)\n",
        "plt.show()"
      ]
    },
    {
      "cell_type": "code",
      "source": [
        "#AUC\n",
        "print(\"AUC\")\n",
        "auc=metrics.roc_auc_score(test_y,classes)\n",
        "auc"
      ],
      "metadata": {
        "colab": {
          "base_uri": "https://localhost:8080/"
        },
        "id": "0CkJTrAcuR9T",
        "outputId": "49fb3d31-c297-4056-ea95-05560a04f03a"
      },
      "execution_count": 33,
      "outputs": [
        {
          "output_type": "stream",
          "name": "stdout",
          "text": [
            "AUC\n"
          ]
        },
        {
          "output_type": "execute_result",
          "data": {
            "text/plain": [
              "0.9630190179172018"
            ]
          },
          "metadata": {},
          "execution_count": 33
        }
      ]
    },
    {
      "cell_type": "code",
      "source": [
        "#ROC CHART\n",
        "fpr,tpr,th=roc_curve(test_y,classes)\n",
        "roc_auc=metrics.auc(fpr,tpr)\n",
        "import matplotlib.pyplot as plt\n",
        "plt.title(\"ROCR CHART\")\n",
        "plt.plot(fpr,tpr,'b',label=\"AUC=%0.2F\"%roc_auc)\n",
        "plt.legend(loc=\"lower right\")\n",
        "plt.plot([0,1],[0,1],\"o--\")\n",
        "plt.xlim([0,1])\n",
        "plt.ylim([0,1])\n",
        "plt.ylabel(\"TRUE POSITIVE RATE\")\n",
        "plt.xlabel(\"FALSE POSITIVE RATE\")\n",
        "plt.show();"
      ],
      "metadata": {
        "colab": {
          "base_uri": "https://localhost:8080/",
          "height": 295
        },
        "id": "GHvYO3IbuzxY",
        "outputId": "b539aa4e-9e7e-42e6-d1c9-abcffb1313dd"
      },
      "execution_count": 34,
      "outputs": [
        {
          "output_type": "display_data",
          "data": {
            "text/plain": [
              "<Figure size 432x288 with 1 Axes>"
            ],
            "image/png": "[encoded data removed]"
          },
          "metadata": {
            "needs_background": "light"
          }
        }
      ]
    },
    {
      "cell_type": "code",
      "execution_count": 35,
      "metadata": {
        "colab": {
          "base_uri": "https://localhost:8080/",
          "height": 92
        },
        "id": "vaF4oyC17g0t",
        "outputId": "a0bf3f8b-e80a-478f-f655-0f451f58d3a0"
      },
      "outputs": [
        {
          "output_type": "execute_result",
          "data": {
            "text/plain": [
              "DecisionTreeClassifier(max_depth=2, max_features=5, min_samples_leaf=5,\n",
              "                       random_state=0)"
            ],
            "text/html": [
              "<style>#sk-container-id-2 {color: black;background-color: white;}#sk-container-id-2 pre{padding: 0;}#sk-container-id-2 div.sk-toggleable {background-color: white;}#sk-container-id-2 label.sk-toggleable__label {cursor: pointer;display: block;width: 100%;margin-bottom: 0;padding: 0.3em;box-sizing: border-box;text-align: center;}#sk-container-id-2 label.sk-toggleable__label-arrow:before {content: \"▸\";float: left;margin-right: 0.25em;color: #696969;}#sk-container-id-2 label.sk-toggleable__label-arrow:hover:before {color: black;}#sk-container-id-2 div.sk-estimator:hover label.sk-toggleable__label-arrow:before {color: black;}#sk-container-id-2 div.sk-toggleable__content {max-height: 0;max-width: 0;overflow: hidden;text-align: left;background-color: #f0f8ff;}#sk-container-id-2 div.sk-toggleable__content pre {margin: 0.2em;color: black;border-radius: 0.25em;background-color: #f0f8ff;}#sk-container-id-2 input.sk-toggleable__control:checked~div.sk-toggleable__content {max-height: 200px;max-width: 100%;overflow: auto;}#sk-container-id-2 input.sk-toggleable__control:checked~label.sk-toggleable__label-arrow:before {content: \"▾\";}#sk-container-id-2 div.sk-estimator input.sk-toggleable__control:checked~label.sk-toggleable__label {background-color: #d4ebff;}#sk-container-id-2 div.sk-label input.sk-toggleable__control:checked~label.sk-toggleable__label {background-color: #d4ebff;}#sk-container-id-2 input.sk-hidden--visually {border: 0;clip: rect(1px 1px 1px 1px);clip: rect(1px, 1px, 1px, 1px);height: 1px;margin: -1px;overflow: hidden;padding: 0;position: absolute;width: 1px;}#sk-container-id-2 div.sk-estimator {font-family: monospace;background-color: #f0f8ff;border: 1px dotted black;border-radius: 0.25em;box-sizing: border-box;margin-bottom: 0.5em;}#sk-container-id-2 div.sk-estimator:hover {background-color: #d4ebff;}#sk-container-id-2 div.sk-parallel-item::after {content: \"\";width: 100%;border-bottom: 1px solid gray;flex-grow: 1;}#sk-container-id-2 div.sk-label:hover label.sk-toggleable__label {background-color: #d4ebff;}#sk-container-id-2 div.sk-serial::before {content: \"\";position: absolute;border-left: 1px solid gray;box-sizing: border-box;top: 0;bottom: 0;left: 50%;z-index: 0;}#sk-container-id-2 div.sk-serial {display: flex;flex-direction: column;align-items: center;background-color: white;padding-right: 0.2em;padding-left: 0.2em;position: relative;}#sk-container-id-2 div.sk-item {position: relative;z-index: 1;}#sk-container-id-2 div.sk-parallel {display: flex;align-items: stretch;justify-content: center;background-color: white;position: relative;}#sk-container-id-2 div.sk-item::before, #sk-container-id-2 div.sk-parallel-item::before {content: \"\";position: absolute;border-left: 1px solid gray;box-sizing: border-box;top: 0;bottom: 0;left: 50%;z-index: -1;}#sk-container-id-2 div.sk-parallel-item {display: flex;flex-direction: column;z-index: 1;position: relative;background-color: white;}#sk-container-id-2 div.sk-parallel-item:first-child::after {align-self: flex-end;width: 50%;}#sk-container-id-2 div.sk-parallel-item:last-child::after {align-self: flex-start;width: 50%;}#sk-container-id-2 div.sk-parallel-item:only-child::after {width: 0;}#sk-container-id-2 div.sk-dashed-wrapped {border: 1px dashed gray;margin: 0 0.4em 0.5em 0.4em;box-sizing: border-box;padding-bottom: 0.4em;background-color: white;}#sk-container-id-2 div.sk-label label {font-family: monospace;font-weight: bold;display: inline-block;line-height: 1.2em;}#sk-container-id-2 div.sk-label-container {text-align: center;}#sk-container-id-2 div.sk-container {/* jupyter's `normalize.less` sets `[hidden] { display: none; }` but bootstrap.min.css set `[hidden] { display: none !important; }` so we also need the `!important` here to be able to override the default hidden behavior on the sphinx rendered scikit-learn.org. See: https://github.com/scikit-learn/scikit-learn/issues/21755 */display: inline-block !important;position: relative;}#sk-container-id-2 div.sk-text-repr-fallback {display: none;}</style><div id=\"sk-container-id-2\" class=\"sk-top-container\"><div class=\"sk-text-repr-fallback\"><pre>DecisionTreeClassifier(max_depth=2, max_features=5, min_samples_leaf=5,\n",
              "                       random_state=0)</pre><b>In a Jupyter environment, please rerun this cell to show the HTML representation or trust the notebook. <br />On GitHub, the HTML representation is unable to render, please try loading this page with nbviewer.org.</b></div><div class=\"sk-container\" hidden><div class=\"sk-item\"><div class=\"sk-estimator sk-toggleable\"><input class=\"sk-toggleable__control sk-hidden--visually\" id=\"sk-estimator-id-2\" type=\"checkbox\" checked><label for=\"sk-estimator-id-2\" class=\"sk-toggleable__label sk-toggleable__label-arrow\">DecisionTreeClassifier</label><div class=\"sk-toggleable__content\"><pre>DecisionTreeClassifier(max_depth=2, max_features=5, min_samples_leaf=5,\n",
              "                       random_state=0)</pre></div></div></div></div></div>"
            ]
          },
          "metadata": {},
          "execution_count": 35
        }
      ],
      "source": [
        "from sklearn.tree import DecisionTreeClassifier\n",
        "from sklearn import tree\n",
        "import pydotplus\n",
        "\n",
        "#CREATE DECISION TREE CLASSIFIER OBJECT\n",
        "decisiontree1=DecisionTreeClassifier(criterion=\"gini\",random_state=0,max_depth=2,min_samples_leaf=5,max_features=5)\n",
        "#TRAIN MODEL\n",
        "model=decisiontree1.fit(train_x,train_y)\n",
        "model\n",
        "classes=decisiontree1.predict(test_x)"
      ]
    },
    {
      "cell_type": "markdown",
      "metadata": {
        "id": "0TcHsEufJMsW"
      },
      "source": [
        "#DECISION TREE CLASSIFIER"
      ]
    },
    {
      "cell_type": "code",
      "execution_count": 36,
      "metadata": {
        "colab": {
          "base_uri": "https://localhost:8080/"
        },
        "id": "P6tM2O1uP9xb",
        "outputId": "a75aa116-de40-413e-be8a-ed42eec5131f"
      },
      "outputs": [
        {
          "output_type": "stream",
          "name": "stdout",
          "text": [
            "ACCUIRACY SCORE\n",
            "0.6845124282982792\n"
          ]
        }
      ],
      "source": [
        "#PRECISION AND RECALL\n",
        "print(\"ACCUIRACY SCORE\")\n",
        "print(metrics.accuracy_score(test_y,classes))"
      ]
    },
    {
      "cell_type": "code",
      "execution_count": 37,
      "metadata": {
        "colab": {
          "base_uri": "https://localhost:8080/"
        },
        "id": "KE4llBX-QBVt",
        "outputId": "07696b19-df14-49ec-b0fc-27a73f3a26c6"
      },
      "outputs": [
        {
          "output_type": "stream",
          "name": "stdout",
          "text": [
            "precision/recall Metrics\n",
            "              precision    recall  f1-score   support\n",
            "\n",
            "           0       0.73      0.76      0.74       632\n",
            "           1       0.61      0.57      0.59       414\n",
            "\n",
            "    accuracy                           0.68      1046\n",
            "   macro avg       0.67      0.67      0.67      1046\n",
            "weighted avg       0.68      0.68      0.68      1046\n",
            "\n"
          ]
        }
      ],
      "source": [
        "#PRECISION RECALL MATRIX\n",
        "print(\"precision/recall Metrics\")\n",
        "print(metrics.classification_report(test_y,classes))"
      ]
    },
    {
      "cell_type": "code",
      "execution_count": 38,
      "metadata": {
        "colab": {
          "base_uri": "https://localhost:8080/",
          "height": 300
        },
        "id": "2oWYGuYFQeyH",
        "outputId": "58f6ff84-245c-43bc-c651-86dd52c4abc9"
      },
      "outputs": [
        {
          "output_type": "stream",
          "name": "stdout",
          "text": [
            "CONFUSION MATRIX\n"
          ]
        },
        {
          "output_type": "execute_result",
          "data": {
            "text/plain": [
              "<AxesSubplot:>"
            ]
          },
          "metadata": {},
          "execution_count": 38
        },
        {
          "output_type": "display_data",
          "data": {
            "text/plain": [
              "<Figure size 432x288 with 2 Axes>"
            ],
            "image/png": "[encoded data removed]"
          },
          "metadata": {
            "needs_background": "light"
          }
        }
      ],
      "source": [
        "#CONFUSION MATRIX\n",
        "print(\"CONFUSION MATRIX\")\n",
        "cf=metrics.confusion_matrix(test_y,classes)\n",
        "lbl1=[\"Predicted 0\",\"Predicted 1\"]\n",
        "lbl2=[\"True 0\",\"True 1\"]\n",
        "sns.heatmap(cf,annot=True,cmap=\"Greens\",fmt=\"d\",xticklabels=lbl1,yticklabels=lbl2)\n",
        "plt.show()"
      ]
    },
    {
      "cell_type": "code",
      "source": [
        "#AUC\n",
        "print(\"AUC\")\n",
        "auc=metrics.roc_auc_score(test_y,classes)\n",
        "auc"
      ],
      "metadata": {
        "colab": {
          "base_uri": "https://localhost:8080/"
        },
        "outputId": "40bd86ce-977f-4bda-ca81-f09e409e883f",
        "id": "I2dFmo-ywJRE"
      },
      "execution_count": 39,
      "outputs": [
        {
          "output_type": "stream",
          "name": "stdout",
          "text": [
            "AUC\n"
          ]
        },
        {
          "output_type": "execute_result",
          "data": {
            "text/plain": [
              "0.6651875802605027"
            ]
          },
          "metadata": {},
          "execution_count": 39
        }
      ]
    },
    {
      "cell_type": "code",
      "source": [
        "#ROC CHART\n",
        "fpr,tpr,th=roc_curve(test_y,classes)\n",
        "roc_auc=metrics.auc(fpr,tpr)\n",
        "import matplotlib.pyplot as plt\n",
        "plt.title(\"ROCR CHART\")\n",
        "plt.plot(fpr,tpr,'b',label=\"AUC=%0.2F\"%roc_auc)\n",
        "plt.legend(loc=\"lower right\")\n",
        "plt.plot([0,1],[0,1],\"o--\")\n",
        "plt.xlim([0,1])\n",
        "plt.ylim([0,1])\n",
        "plt.ylabel(\"TRUE POSITIVE RATE\")\n",
        "plt.xlabel(\"FALSE POSITIVE RATE\")\n",
        "plt.show();"
      ],
      "metadata": {
        "colab": {
          "base_uri": "https://localhost:8080/",
          "height": 295
        },
        "outputId": "d077ff05-89cc-4279-90b1-a4ff678bb9a3",
        "id": "t4FfRhwtwJRH"
      },
      "execution_count": 40,
      "outputs": [
        {
          "output_type": "display_data",
          "data": {
            "text/plain": [
              "<Figure size 432x288 with 1 Axes>"
            ],
            "image/png": "[encoded data removed]"
          },
          "metadata": {
            "needs_background": "light"
          }
        }
      ]
    },
    {
      "cell_type": "code",
      "execution_count": 41,
      "metadata": {
        "id": "sga6HxEw9a4N"
      },
      "outputs": [],
      "source": [
        "from scipy.stats import randint\n",
        "from sklearn.tree import DecisionTreeClassifier\n",
        "from sklearn.model_selection import RandomizedSearchCV\n",
        "from sklearn.ensemble import RandomForestClassifier\n",
        "from sklearn import tree\n",
        "from sklearn.model_selection import GridSearchCV"
      ]
    },
    {
      "cell_type": "code",
      "execution_count": 42,
      "metadata": {
        "id": "bTCns2_c9LmE"
      },
      "outputs": [],
      "source": [
        "param_dist = {\"max_depth\": [20,50,100,150,200,250],\n",
        "              \"max_features\": randint(3,15),\n",
        "              \"min_samples_leaf\": randint(3,6),\n",
        "              \"criterion\": [\"gini\",\"entropy\"]}"
      ]
    },
    {
      "cell_type": "code",
      "execution_count": 43,
      "metadata": {
        "id": "fCbR5pix9iBN"
      },
      "outputs": [],
      "source": [
        "# Instantiate the RandomizedSearchCV object: tree_cv\n",
        "tree_cv = RandomizedSearchCV(decisiontree1, param_dist, cv=5)"
      ]
    },
    {
      "cell_type": "code",
      "execution_count": 44,
      "metadata": {
        "colab": {
          "base_uri": "https://localhost:8080/",
          "height": 152
        },
        "id": "T4Q4Z0jp9r7w",
        "outputId": "4898d5a3-2d38-48ac-afd8-5a1e41b07c3b"
      },
      "outputs": [
        {
          "output_type": "execute_result",
          "data": {
            "text/plain": [
              "RandomizedSearchCV(cv=5,\n",
              "                   estimator=DecisionTreeClassifier(max_depth=2, max_features=5,\n",
              "                                                    min_samples_leaf=5,\n",
              "                                                    random_state=0),\n",
              "                   param_distributions={'criterion': ['gini', 'entropy'],\n",
              "                                        'max_depth': [20, 50, 100, 150, 200,\n",
              "                                                      250],\n",
              "                                        'max_features': <scipy.stats._distn_infrastructure.rv_discrete_frozen object at 0x7f75cc0b0ee0>,\n",
              "                                        'min_samples_leaf': <scipy.stats._distn_infrastructure.rv_discrete_frozen object at 0x7f75c958b0d0>})"
            ],
            "text/html": [
              "<style>#sk-container-id-3 {color: black;background-color: white;}#sk-container-id-3 pre{padding: 0;}#sk-container-id-3 div.sk-toggleable {background-color: white;}#sk-container-id-3 label.sk-toggleable__label {cursor: pointer;display: block;width: 100%;margin-bottom: 0;padding: 0.3em;box-sizing: border-box;text-align: center;}#sk-container-id-3 label.sk-toggleable__label-arrow:before {content: \"▸\";float: left;margin-right: 0.25em;color: #696969;}#sk-container-id-3 label.sk-toggleable__label-arrow:hover:before {color: black;}#sk-container-id-3 div.sk-estimator:hover label.sk-toggleable__label-arrow:before {color: black;}#sk-container-id-3 div.sk-toggleable__content {max-height: 0;max-width: 0;overflow: hidden;text-align: left;background-color: #f0f8ff;}#sk-container-id-3 div.sk-toggleable__content pre {margin: 0.2em;color: black;border-radius: 0.25em;background-color: #f0f8ff;}#sk-container-id-3 input.sk-toggleable__control:checked~div.sk-toggleable__content {max-height: 200px;max-width: 100%;overflow: auto;}#sk-container-id-3 input.sk-toggleable__control:checked~label.sk-toggleable__label-arrow:before {content: \"▾\";}#sk-container-id-3 div.sk-estimator input.sk-toggleable__control:checked~label.sk-toggleable__label {background-color: #d4ebff;}#sk-container-id-3 div.sk-label input.sk-toggleable__control:checked~label.sk-toggleable__label {background-color: #d4ebff;}#sk-container-id-3 input.sk-hidden--visually {border: 0;clip: rect(1px 1px 1px 1px);clip: rect(1px, 1px, 1px, 1px);height: 1px;margin: -1px;overflow: hidden;padding: 0;position: absolute;width: 1px;}#sk-container-id-3 div.sk-estimator {font-family: monospace;background-color: #f0f8ff;border: 1px dotted black;border-radius: 0.25em;box-sizing: border-box;margin-bottom: 0.5em;}#sk-container-id-3 div.sk-estimator:hover {background-color: #d4ebff;}#sk-container-id-3 div.sk-parallel-item::after {content: \"\";width: 100%;border-bottom: 1px solid gray;flex-grow: 1;}#sk-container-id-3 div.sk-label:hover label.sk-toggleable__label {background-color: #d4ebff;}#sk-container-id-3 div.sk-serial::before {content: \"\";position: absolute;border-left: 1px solid gray;box-sizing: border-box;top: 0;bottom: 0;left: 50%;z-index: 0;}#sk-container-id-3 div.sk-serial {display: flex;flex-direction: column;align-items: center;background-color: white;padding-right: 0.2em;padding-left: 0.2em;position: relative;}#sk-container-id-3 div.sk-item {position: relative;z-index: 1;}#sk-container-id-3 div.sk-parallel {display: flex;align-items: stretch;justify-content: center;background-color: white;position: relative;}#sk-container-id-3 div.sk-item::before, #sk-container-id-3 div.sk-parallel-item::before {content: \"\";position: absolute;border-left: 1px solid gray;box-sizing: border-box;top: 0;bottom: 0;left: 50%;z-index: -1;}#sk-container-id-3 div.sk-parallel-item {display: flex;flex-direction: column;z-index: 1;position: relative;background-color: white;}#sk-container-id-3 div.sk-parallel-item:first-child::after {align-self: flex-end;width: 50%;}#sk-container-id-3 div.sk-parallel-item:last-child::after {align-self: flex-start;width: 50%;}#sk-container-id-3 div.sk-parallel-item:only-child::after {width: 0;}#sk-container-id-3 div.sk-dashed-wrapped {border: 1px dashed gray;margin: 0 0.4em 0.5em 0.4em;box-sizing: border-box;padding-bottom: 0.4em;background-color: white;}#sk-container-id-3 div.sk-label label {font-family: monospace;font-weight: bold;display: inline-block;line-height: 1.2em;}#sk-container-id-3 div.sk-label-container {text-align: center;}#sk-container-id-3 div.sk-container {/* jupyter's `normalize.less` sets `[hidden] { display: none; }` but bootstrap.min.css set `[hidden] { display: none !important; }` so we also need the `!important` here to be able to override the default hidden behavior on the sphinx rendered scikit-learn.org. See: https://github.com/scikit-learn/scikit-learn/issues/21755 */display: inline-block !important;position: relative;}#sk-container-id-3 div.sk-text-repr-fallback {display: none;}</style><div id=\"sk-container-id-3\" class=\"sk-top-container\"><div class=\"sk-text-repr-fallback\"><pre>RandomizedSearchCV(cv=5,\n",
              "                   estimator=DecisionTreeClassifier(max_depth=2, max_features=5,\n",
              "                                                    min_samples_leaf=5,\n",
              "                                                    random_state=0),\n",
              "                   param_distributions={&#x27;criterion&#x27;: [&#x27;gini&#x27;, &#x27;entropy&#x27;],\n",
              "                                        &#x27;max_depth&#x27;: [20, 50, 100, 150, 200,\n",
              "                                                      250],\n",
              "                                        &#x27;max_features&#x27;: &lt;scipy.stats._distn_infrastructure.rv_discrete_frozen object at 0x7f75cc0b0ee0&gt;,\n",
              "                                        &#x27;min_samples_leaf&#x27;: &lt;scipy.stats._distn_infrastructure.rv_discrete_frozen object at 0x7f75c958b0d0&gt;})</pre><b>In a Jupyter environment, please rerun this cell to show the HTML representation or trust the notebook. <br />On GitHub, the HTML representation is unable to render, please try loading this page with nbviewer.org.</b></div><div class=\"sk-container\" hidden><div class=\"sk-item sk-dashed-wrapped\"><div class=\"sk-label-container\"><div class=\"sk-label sk-toggleable\"><input class=\"sk-toggleable__control sk-hidden--visually\" id=\"sk-estimator-id-3\" type=\"checkbox\" ><label for=\"sk-estimator-id-3\" class=\"sk-toggleable__label sk-toggleable__label-arrow\">RandomizedSearchCV</label><div class=\"sk-toggleable__content\"><pre>RandomizedSearchCV(cv=5,\n",
              "                   estimator=DecisionTreeClassifier(max_depth=2, max_features=5,\n",
              "                                                    min_samples_leaf=5,\n",
              "                                                    random_state=0),\n",
              "                   param_distributions={&#x27;criterion&#x27;: [&#x27;gini&#x27;, &#x27;entropy&#x27;],\n",
              "                                        &#x27;max_depth&#x27;: [20, 50, 100, 150, 200,\n",
              "                                                      250],\n",
              "                                        &#x27;max_features&#x27;: &lt;scipy.stats._distn_infrastructure.rv_discrete_frozen object at 0x7f75cc0b0ee0&gt;,\n",
              "                                        &#x27;min_samples_leaf&#x27;: &lt;scipy.stats._distn_infrastructure.rv_discrete_frozen object at 0x7f75c958b0d0&gt;})</pre></div></div></div><div class=\"sk-parallel\"><div class=\"sk-parallel-item\"><div class=\"sk-item\"><div class=\"sk-label-container\"><div class=\"sk-label sk-toggleable\"><input class=\"sk-toggleable__control sk-hidden--visually\" id=\"sk-estimator-id-4\" type=\"checkbox\" ><label for=\"sk-estimator-id-4\" class=\"sk-toggleable__label sk-toggleable__label-arrow\">estimator: DecisionTreeClassifier</label><div class=\"sk-toggleable__content\"><pre>DecisionTreeClassifier(max_depth=2, max_features=5, min_samples_leaf=5,\n",
              "                       random_state=0)</pre></div></div></div><div class=\"sk-serial\"><div class=\"sk-item\"><div class=\"sk-estimator sk-toggleable\"><input class=\"sk-toggleable__control sk-hidden--visually\" id=\"sk-estimator-id-5\" type=\"checkbox\" ><label for=\"sk-estimator-id-5\" class=\"sk-toggleable__label sk-toggleable__label-arrow\">DecisionTreeClassifier</label><div class=\"sk-toggleable__content\"><pre>DecisionTreeClassifier(max_depth=2, max_features=5, min_samples_leaf=5,\n",
              "                       random_state=0)</pre></div></div></div></div></div></div></div></div></div></div>"
            ]
          },
          "metadata": {},
          "execution_count": 44
        },
        {
          "output_type": "stream",
          "name": "stdout",
          "text": [
            "Tuned Decision Tree Parameters: {'criterion': 'gini', 'max_depth': 200, 'max_features': 14, 'min_samples_leaf': 3}\n",
            "Best score is 0.8188995215311005\n"
          ]
        }
      ],
      "source": [
        "# Fit it to the data\n",
        "tree_cv.fit(train_x,train_y)\n",
        "# Print the tuned parameters and score\n",
        "print(\"Tuned Decision Tree Parameters: {}\".format(tree_cv.best_params_))\n",
        "print(\"Best score is {}\".format(tree_cv.best_score_))\n",
        "classes=tree_cv.predict(test_x)"
      ]
    },
    {
      "cell_type": "markdown",
      "metadata": {
        "id": "ctUJjm9RJZOP"
      },
      "source": [
        "#RandomizedSearchCV"
      ]
    },
    {
      "cell_type": "code",
      "execution_count": 45,
      "metadata": {
        "colab": {
          "base_uri": "https://localhost:8080/"
        },
        "id": "WN7B0ECQ97dx",
        "outputId": "175accf9-99c9-4f4e-e52e-ba28f1102be7"
      },
      "outputs": [
        {
          "output_type": "stream",
          "name": "stdout",
          "text": [
            "ACCUIRACY SCORE\n",
            "0.8011472275334608\n"
          ]
        }
      ],
      "source": [
        "\n",
        "#PRECISION AND RECALL\n",
        "print(\"ACCUIRACY SCORE\")\n",
        "print(metrics.accuracy_score(test_y,classes))"
      ]
    },
    {
      "cell_type": "code",
      "execution_count": 46,
      "metadata": {
        "colab": {
          "base_uri": "https://localhost:8080/"
        },
        "id": "QYLPYOXU97dz",
        "outputId": "463e71cf-f896-4be2-8798-6cc45ee7b6db"
      },
      "outputs": [
        {
          "output_type": "stream",
          "name": "stdout",
          "text": [
            "precision/recall Metrics\n",
            "              precision    recall  f1-score   support\n",
            "\n",
            "           0       0.83      0.84      0.84       632\n",
            "           1       0.75      0.74      0.75       414\n",
            "\n",
            "    accuracy                           0.80      1046\n",
            "   macro avg       0.79      0.79      0.79      1046\n",
            "weighted avg       0.80      0.80      0.80      1046\n",
            "\n"
          ]
        }
      ],
      "source": [
        "#PRECISION RECALL MATRIX\n",
        "print(\"precision/recall Metrics\")\n",
        "print(metrics.classification_report(test_y,classes))"
      ]
    },
    {
      "cell_type": "code",
      "execution_count": 47,
      "metadata": {
        "colab": {
          "base_uri": "https://localhost:8080/",
          "height": 300
        },
        "id": "OhHmNgSf97d0",
        "outputId": "fe9297a4-8beb-46aa-bd2b-ec3f6c3e3d63"
      },
      "outputs": [
        {
          "output_type": "stream",
          "name": "stdout",
          "text": [
            "CONFUSION MATRIX\n"
          ]
        },
        {
          "output_type": "execute_result",
          "data": {
            "text/plain": [
              "<AxesSubplot:>"
            ]
          },
          "metadata": {},
          "execution_count": 47
        },
        {
          "output_type": "display_data",
          "data": {
            "text/plain": [
              "<Figure size 432x288 with 2 Axes>"
            ],
            "image/png": "[encoded data removed]"
          },
          "metadata": {
            "needs_background": "light"
          }
        }
      ],
      "source": [
        "#CONFUSION MATRIX\n",
        "print(\"CONFUSION MATRIX\")\n",
        "cf=metrics.confusion_matrix(test_y,classes)\n",
        "lbl1=[\"Predicted 0\",\"Predicted 1\"]\n",
        "lbl2=[\"True 0\",\"True 1\"]\n",
        "sns.heatmap(cf,annot=True,cmap=\"Greens\",fmt=\"d\",xticklabels=lbl1,yticklabels=lbl2)\n",
        "plt.show()"
      ]
    },
    {
      "cell_type": "code",
      "source": [
        "#AUC\n",
        "print(\"AUC\")\n",
        "auc=metrics.roc_auc_score(test_y,classes)\n",
        "auc"
      ],
      "metadata": {
        "colab": {
          "base_uri": "https://localhost:8080/"
        },
        "outputId": "e6c55821-0d75-415d-e6cb-8a8eb84c39cd",
        "id": "aDFjjwZ4wMUC"
      },
      "execution_count": 48,
      "outputs": [
        {
          "output_type": "stream",
          "name": "stdout",
          "text": [
            "AUC\n"
          ]
        },
        {
          "output_type": "execute_result",
          "data": {
            "text/plain": [
              "0.7912844737968568"
            ]
          },
          "metadata": {},
          "execution_count": 48
        }
      ]
    },
    {
      "cell_type": "code",
      "source": [
        "\n",
        "#ROC CHART\n",
        "fpr,tpr,th=roc_curve(test_y,classes)\n",
        "roc_auc=metrics.auc(fpr,tpr)\n",
        "import matplotlib.pyplot as plt\n",
        "plt.title(\"ROCR CHART\")\n",
        "plt.plot(fpr,tpr,'b',label=\"AUC=%0.2F\"%roc_auc)\n",
        "plt.legend(loc=\"lower right\")\n",
        "plt.plot([0,1],[0,1],\"o--\")\n",
        "plt.xlim([0,1])\n",
        "plt.ylim([0,1])\n",
        "plt.ylabel(\"TRUE POSITIVE RATE\")\n",
        "plt.xlabel(\"FALSE POSITIVE RATE\")\n",
        "plt.show();"
      ],
      "metadata": {
        "colab": {
          "base_uri": "https://localhost:8080/",
          "height": 295
        },
        "outputId": "00255c62-c360-4188-90b8-724228402014",
        "id": "l-ZEmxjjwMUE"
      },
      "execution_count": 49,
      "outputs": [
        {
          "output_type": "display_data",
          "data": {
            "text/plain": [
              "<Figure size 432x288 with 1 Axes>"
            ],
            "image/png": "[encoded data removed]"
          },
          "metadata": {
            "needs_background": "light"
          }
        }
      ]
    },
    {
      "cell_type": "code",
      "execution_count": 50,
      "metadata": {
        "colab": {
          "base_uri": "https://localhost:8080/",
          "height": 118
        },
        "id": "1_hGRTRR_VU-",
        "outputId": "9268d312-73ec-4504-9d4c-4460666cd6ff"
      },
      "outputs": [
        {
          "output_type": "execute_result",
          "data": {
            "text/plain": [
              "GridSearchCV(cv=3, estimator=DecisionTreeClassifier(),\n",
              "             param_grid={'criterion': ['gini', 'entropy'],\n",
              "                         'max_depth': [2, 5, 20, 30, 45, 50]})"
            ],
            "text/html": [
              "<style>#sk-container-id-4 {color: black;background-color: white;}#sk-container-id-4 pre{padding: 0;}#sk-container-id-4 div.sk-toggleable {background-color: white;}#sk-container-id-4 label.sk-toggleable__label {cursor: pointer;display: block;width: 100%;margin-bottom: 0;padding: 0.3em;box-sizing: border-box;text-align: center;}#sk-container-id-4 label.sk-toggleable__label-arrow:before {content: \"▸\";float: left;margin-right: 0.25em;color: #696969;}#sk-container-id-4 label.sk-toggleable__label-arrow:hover:before {color: black;}#sk-container-id-4 div.sk-estimator:hover label.sk-toggleable__label-arrow:before {color: black;}#sk-container-id-4 div.sk-toggleable__content {max-height: 0;max-width: 0;overflow: hidden;text-align: left;background-color: #f0f8ff;}#sk-container-id-4 div.sk-toggleable__content pre {margin: 0.2em;color: black;border-radius: 0.25em;background-color: #f0f8ff;}#sk-container-id-4 input.sk-toggleable__control:checked~div.sk-toggleable__content {max-height: 200px;max-width: 100%;overflow: auto;}#sk-container-id-4 input.sk-toggleable__control:checked~label.sk-toggleable__label-arrow:before {content: \"▾\";}#sk-container-id-4 div.sk-estimator input.sk-toggleable__control:checked~label.sk-toggleable__label {background-color: #d4ebff;}#sk-container-id-4 div.sk-label input.sk-toggleable__control:checked~label.sk-toggleable__label {background-color: #d4ebff;}#sk-container-id-4 input.sk-hidden--visually {border: 0;clip: rect(1px 1px 1px 1px);clip: rect(1px, 1px, 1px, 1px);height: 1px;margin: -1px;overflow: hidden;padding: 0;position: absolute;width: 1px;}#sk-container-id-4 div.sk-estimator {font-family: monospace;background-color: #f0f8ff;border: 1px dotted black;border-radius: 0.25em;box-sizing: border-box;margin-bottom: 0.5em;}#sk-container-id-4 div.sk-estimator:hover {background-color: #d4ebff;}#sk-container-id-4 div.sk-parallel-item::after {content: \"\";width: 100%;border-bottom: 1px solid gray;flex-grow: 1;}#sk-container-id-4 div.sk-label:hover label.sk-toggleable__label {background-color: #d4ebff;}#sk-container-id-4 div.sk-serial::before {content: \"\";position: absolute;border-left: 1px solid gray;box-sizing: border-box;top: 0;bottom: 0;left: 50%;z-index: 0;}#sk-container-id-4 div.sk-serial {display: flex;flex-direction: column;align-items: center;background-color: white;padding-right: 0.2em;padding-left: 0.2em;position: relative;}#sk-container-id-4 div.sk-item {position: relative;z-index: 1;}#sk-container-id-4 div.sk-parallel {display: flex;align-items: stretch;justify-content: center;background-color: white;position: relative;}#sk-container-id-4 div.sk-item::before, #sk-container-id-4 div.sk-parallel-item::before {content: \"\";position: absolute;border-left: 1px solid gray;box-sizing: border-box;top: 0;bottom: 0;left: 50%;z-index: -1;}#sk-container-id-4 div.sk-parallel-item {display: flex;flex-direction: column;z-index: 1;position: relative;background-color: white;}#sk-container-id-4 div.sk-parallel-item:first-child::after {align-self: flex-end;width: 50%;}#sk-container-id-4 div.sk-parallel-item:last-child::after {align-self: flex-start;width: 50%;}#sk-container-id-4 div.sk-parallel-item:only-child::after {width: 0;}#sk-container-id-4 div.sk-dashed-wrapped {border: 1px dashed gray;margin: 0 0.4em 0.5em 0.4em;box-sizing: border-box;padding-bottom: 0.4em;background-color: white;}#sk-container-id-4 div.sk-label label {font-family: monospace;font-weight: bold;display: inline-block;line-height: 1.2em;}#sk-container-id-4 div.sk-label-container {text-align: center;}#sk-container-id-4 div.sk-container {/* jupyter's `normalize.less` sets `[hidden] { display: none; }` but bootstrap.min.css set `[hidden] { display: none !important; }` so we also need the `!important` here to be able to override the default hidden behavior on the sphinx rendered scikit-learn.org. See: https://github.com/scikit-learn/scikit-learn/issues/21755 */display: inline-block !important;position: relative;}#sk-container-id-4 div.sk-text-repr-fallback {display: none;}</style><div id=\"sk-container-id-4\" class=\"sk-top-container\"><div class=\"sk-text-repr-fallback\"><pre>GridSearchCV(cv=3, estimator=DecisionTreeClassifier(),\n",
              "             param_grid={&#x27;criterion&#x27;: [&#x27;gini&#x27;, &#x27;entropy&#x27;],\n",
              "                         &#x27;max_depth&#x27;: [2, 5, 20, 30, 45, 50]})</pre><b>In a Jupyter environment, please rerun this cell to show the HTML representation or trust the notebook. <br />On GitHub, the HTML representation is unable to render, please try loading this page with nbviewer.org.</b></div><div class=\"sk-container\" hidden><div class=\"sk-item sk-dashed-wrapped\"><div class=\"sk-label-container\"><div class=\"sk-label sk-toggleable\"><input class=\"sk-toggleable__control sk-hidden--visually\" id=\"sk-estimator-id-6\" type=\"checkbox\" ><label for=\"sk-estimator-id-6\" class=\"sk-toggleable__label sk-toggleable__label-arrow\">GridSearchCV</label><div class=\"sk-toggleable__content\"><pre>GridSearchCV(cv=3, estimator=DecisionTreeClassifier(),\n",
              "             param_grid={&#x27;criterion&#x27;: [&#x27;gini&#x27;, &#x27;entropy&#x27;],\n",
              "                         &#x27;max_depth&#x27;: [2, 5, 20, 30, 45, 50]})</pre></div></div></div><div class=\"sk-parallel\"><div class=\"sk-parallel-item\"><div class=\"sk-item\"><div class=\"sk-label-container\"><div class=\"sk-label sk-toggleable\"><input class=\"sk-toggleable__control sk-hidden--visually\" id=\"sk-estimator-id-7\" type=\"checkbox\" ><label for=\"sk-estimator-id-7\" class=\"sk-toggleable__label sk-toggleable__label-arrow\">estimator: DecisionTreeClassifier</label><div class=\"sk-toggleable__content\"><pre>DecisionTreeClassifier()</pre></div></div></div><div class=\"sk-serial\"><div class=\"sk-item\"><div class=\"sk-estimator sk-toggleable\"><input class=\"sk-toggleable__control sk-hidden--visually\" id=\"sk-estimator-id-8\" type=\"checkbox\" ><label for=\"sk-estimator-id-8\" class=\"sk-toggleable__label sk-toggleable__label-arrow\">DecisionTreeClassifier</label><div class=\"sk-toggleable__content\"><pre>DecisionTreeClassifier()</pre></div></div></div></div></div></div></div></div></div></div>"
            ]
          },
          "metadata": {},
          "execution_count": 50
        }
      ],
      "source": [
        "my_max_depth=[2,5,20,30,45,50]\n",
        "my_criterion=['gini','entropy']\n",
        "#BUILDING THE MODEL\n",
        "mytreeone=DecisionTreeClassifier()\n",
        "#CROSS VALIDATION TELLS HOW A MODEL PERFORMS ON A DATASET USING MULTIPLE SAMPLES OF TRAIN DATA\n",
        "grid=GridSearchCV(estimator=mytreeone,cv=3,param_grid=dict(max_depth=my_max_depth,criterion=my_criterion))\n",
        "grid.fit(train_x,train_y)\n",
        "classes=grid.predict(test_x)"
      ]
    },
    {
      "cell_type": "markdown",
      "metadata": {
        "id": "Wk8PQXO2JgP3"
      },
      "source": [
        "#GridSearchCV"
      ]
    },
    {
      "cell_type": "code",
      "execution_count": 51,
      "metadata": {
        "colab": {
          "base_uri": "https://localhost:8080/"
        },
        "id": "crOus8iEAK3R",
        "outputId": "94e36b38-62e2-46b2-96a4-31d13c1eec3a"
      },
      "outputs": [
        {
          "output_type": "stream",
          "name": "stdout",
          "text": [
            "ACCUIRACY SCORE\n",
            "0.8537284894837476\n"
          ]
        }
      ],
      "source": [
        "#PRECISION AND RECALL\n",
        "print(\"ACCUIRACY SCORE\")\n",
        "print(metrics.accuracy_score(test_y,classes))"
      ]
    },
    {
      "cell_type": "code",
      "execution_count": 52,
      "metadata": {
        "colab": {
          "base_uri": "https://localhost:8080/"
        },
        "id": "tWwbLMwkAK3T",
        "outputId": "c6bbb312-8a5a-4348-fb75-058f0a4d7333"
      },
      "outputs": [
        {
          "output_type": "stream",
          "name": "stdout",
          "text": [
            "precision/recall Metrics\n",
            "              precision    recall  f1-score   support\n",
            "\n",
            "           0       0.85      0.93      0.88       632\n",
            "           1       0.87      0.74      0.80       414\n",
            "\n",
            "    accuracy                           0.85      1046\n",
            "   macro avg       0.86      0.83      0.84      1046\n",
            "weighted avg       0.85      0.85      0.85      1046\n",
            "\n"
          ]
        }
      ],
      "source": [
        "#PRECISION RECALL MATRIX\n",
        "print(\"precision/recall Metrics\")\n",
        "print(metrics.classification_report(test_y,classes))"
      ]
    },
    {
      "cell_type": "code",
      "execution_count": 53,
      "metadata": {
        "colab": {
          "base_uri": "https://localhost:8080/",
          "height": 300
        },
        "id": "9q8UQS4hAK3U",
        "outputId": "c137e9d9-afaf-4a50-e0b7-10108dbff99f"
      },
      "outputs": [
        {
          "output_type": "stream",
          "name": "stdout",
          "text": [
            "CONFUSION MATRIX\n"
          ]
        },
        {
          "output_type": "execute_result",
          "data": {
            "text/plain": [
              "<AxesSubplot:>"
            ]
          },
          "metadata": {},
          "execution_count": 53
        },
        {
          "output_type": "display_data",
          "data": {
            "text/plain": [
              "<Figure size 432x288 with 2 Axes>"
            ],
            "image/png": "[encoded data removed]"
          },
          "metadata": {
            "needs_background": "light"
          }
        }
      ],
      "source": [
        "#CONFUSION MATRIX\n",
        "print(\"CONFUSION MATRIX\")\n",
        "cf=metrics.confusion_matrix(test_y,classes)\n",
        "lbl1=[\"Predicted 0\",\"Predicted 1\"]\n",
        "lbl2=[\"True 0\",\"True 1\"]\n",
        "sns.heatmap(cf,annot=True,cmap=\"Greens\",fmt=\"d\",xticklabels=lbl1,yticklabels=lbl2)\n",
        "plt.show()"
      ]
    },
    {
      "cell_type": "code",
      "source": [
        "#AUC\n",
        "print(\"AUC\")\n",
        "auc=metrics.roc_auc_score(test_y,classes)\n",
        "auc"
      ],
      "metadata": {
        "colab": {
          "base_uri": "https://localhost:8080/"
        },
        "outputId": "e7405d63-d0f8-480a-f66d-01deac4c41cf",
        "id": "eNwJHX-vwPZn"
      },
      "execution_count": 54,
      "outputs": [
        {
          "output_type": "stream",
          "name": "stdout",
          "text": [
            "AUC\n"
          ]
        },
        {
          "output_type": "execute_result",
          "data": {
            "text/plain": [
              "0.834797132024705"
            ]
          },
          "metadata": {},
          "execution_count": 54
        }
      ]
    },
    {
      "cell_type": "code",
      "source": [
        "#ROC CHART\n",
        "fpr,tpr,th=roc_curve(test_y,classes)\n",
        "roc_auc=metrics.auc(fpr,tpr)\n",
        "import matplotlib.pyplot as plt\n",
        "plt.title(\"ROCR CHART\")\n",
        "plt.plot(fpr,tpr,'b',label=\"AUC=%0.2F\"%roc_auc)\n",
        "plt.legend(loc=\"lower right\")\n",
        "plt.plot([0,1],[0,1],\"o--\")\n",
        "plt.xlim([0,1])\n",
        "plt.ylim([0,1])\n",
        "plt.ylabel(\"TRUE POSITIVE RATE\")\n",
        "plt.xlabel(\"FALSE POSITIVE RATE\")\n",
        "plt.show();"
      ],
      "metadata": {
        "colab": {
          "base_uri": "https://localhost:8080/",
          "height": 295
        },
        "outputId": "1ef6c7a1-536a-46b2-eaa6-bef25b870f1f",
        "id": "uCbTBmu1wPZp"
      },
      "execution_count": 55,
      "outputs": [
        {
          "output_type": "display_data",
          "data": {
            "text/plain": [
              "<Figure size 432x288 with 1 Axes>"
            ],
            "image/png": "[encoded data removed]"
          },
          "metadata": {
            "needs_background": "light"
          }
        }
      ]
    },
    {
      "cell_type": "code",
      "execution_count": 56,
      "metadata": {
        "id": "67Xyd1VtAPmi"
      },
      "outputs": [],
      "source": [
        "n_estimators=[10,500,100,2000]\n",
        "criterion=['gini','entropy']\n",
        "min_samples_split=[2,100,20,50,100]\n",
        "max_depth=[20,30,40,50,None]"
      ]
    },
    {
      "cell_type": "code",
      "execution_count": 57,
      "metadata": {
        "colab": {
          "base_uri": "https://localhost:8080/",
          "height": 135
        },
        "id": "ErDeNj2XBsZ3",
        "outputId": "dd230ffd-cd94-4d0d-c34d-2f72f448a7a6"
      },
      "outputs": [
        {
          "output_type": "stream",
          "name": "stdout",
          "text": [
            "Fitting 5 folds for each of 10 candidates, totalling 50 fits\n"
          ]
        },
        {
          "output_type": "execute_result",
          "data": {
            "text/plain": [
              "RandomizedSearchCV(cv=5, estimator=RandomForestClassifier(), n_jobs=-1,\n",
              "                   param_distributions={'criterion': ['gini', 'entropy'],\n",
              "                                        'max_depth': [20, 30, 40, 50, None],\n",
              "                                        'min_samples_split': [2, 100, 20, 50,\n",
              "                                                              100],\n",
              "                                        'n_estimators': [10, 500, 100, 2000]},\n",
              "                   verbose=2)"
            ],
            "text/html": [
              "<style>#sk-container-id-5 {color: black;background-color: white;}#sk-container-id-5 pre{padding: 0;}#sk-container-id-5 div.sk-toggleable {background-color: white;}#sk-container-id-5 label.sk-toggleable__label {cursor: pointer;display: block;width: 100%;margin-bottom: 0;padding: 0.3em;box-sizing: border-box;text-align: center;}#sk-container-id-5 label.sk-toggleable__label-arrow:before {content: \"▸\";float: left;margin-right: 0.25em;color: #696969;}#sk-container-id-5 label.sk-toggleable__label-arrow:hover:before {color: black;}#sk-container-id-5 div.sk-estimator:hover label.sk-toggleable__label-arrow:before {color: black;}#sk-container-id-5 div.sk-toggleable__content {max-height: 0;max-width: 0;overflow: hidden;text-align: left;background-color: #f0f8ff;}#sk-container-id-5 div.sk-toggleable__content pre {margin: 0.2em;color: black;border-radius: 0.25em;background-color: #f0f8ff;}#sk-container-id-5 input.sk-toggleable__control:checked~div.sk-toggleable__content {max-height: 200px;max-width: 100%;overflow: auto;}#sk-container-id-5 input.sk-toggleable__control:checked~label.sk-toggleable__label-arrow:before {content: \"▾\";}#sk-container-id-5 div.sk-estimator input.sk-toggleable__control:checked~label.sk-toggleable__label {background-color: #d4ebff;}#sk-container-id-5 div.sk-label input.sk-toggleable__control:checked~label.sk-toggleable__label {background-color: #d4ebff;}#sk-container-id-5 input.sk-hidden--visually {border: 0;clip: rect(1px 1px 1px 1px);clip: rect(1px, 1px, 1px, 1px);height: 1px;margin: -1px;overflow: hidden;padding: 0;position: absolute;width: 1px;}#sk-container-id-5 div.sk-estimator {font-family: monospace;background-color: #f0f8ff;border: 1px dotted black;border-radius: 0.25em;box-sizing: border-box;margin-bottom: 0.5em;}#sk-container-id-5 div.sk-estimator:hover {background-color: #d4ebff;}#sk-container-id-5 div.sk-parallel-item::after {content: \"\";width: 100%;border-bottom: 1px solid gray;flex-grow: 1;}#sk-container-id-5 div.sk-label:hover label.sk-toggleable__label {background-color: #d4ebff;}#sk-container-id-5 div.sk-serial::before {content: \"\";position: absolute;border-left: 1px solid gray;box-sizing: border-box;top: 0;bottom: 0;left: 50%;z-index: 0;}#sk-container-id-5 div.sk-serial {display: flex;flex-direction: column;align-items: center;background-color: white;padding-right: 0.2em;padding-left: 0.2em;position: relative;}#sk-container-id-5 div.sk-item {position: relative;z-index: 1;}#sk-container-id-5 div.sk-parallel {display: flex;align-items: stretch;justify-content: center;background-color: white;position: relative;}#sk-container-id-5 div.sk-item::before, #sk-container-id-5 div.sk-parallel-item::before {content: \"\";position: absolute;border-left: 1px solid gray;box-sizing: border-box;top: 0;bottom: 0;left: 50%;z-index: -1;}#sk-container-id-5 div.sk-parallel-item {display: flex;flex-direction: column;z-index: 1;position: relative;background-color: white;}#sk-container-id-5 div.sk-parallel-item:first-child::after {align-self: flex-end;width: 50%;}#sk-container-id-5 div.sk-parallel-item:last-child::after {align-self: flex-start;width: 50%;}#sk-container-id-5 div.sk-parallel-item:only-child::after {width: 0;}#sk-container-id-5 div.sk-dashed-wrapped {border: 1px dashed gray;margin: 0 0.4em 0.5em 0.4em;box-sizing: border-box;padding-bottom: 0.4em;background-color: white;}#sk-container-id-5 div.sk-label label {font-family: monospace;font-weight: bold;display: inline-block;line-height: 1.2em;}#sk-container-id-5 div.sk-label-container {text-align: center;}#sk-container-id-5 div.sk-container {/* jupyter's `normalize.less` sets `[hidden] { display: none; }` but bootstrap.min.css set `[hidden] { display: none !important; }` so we also need the `!important` here to be able to override the default hidden behavior on the sphinx rendered scikit-learn.org. See: https://github.com/scikit-learn/scikit-learn/issues/21755 */display: inline-block !important;position: relative;}#sk-container-id-5 div.sk-text-repr-fallback {display: none;}</style><div id=\"sk-container-id-5\" class=\"sk-top-container\"><div class=\"sk-text-repr-fallback\"><pre>RandomizedSearchCV(cv=5, estimator=RandomForestClassifier(), n_jobs=-1,\n",
              "                   param_distributions={&#x27;criterion&#x27;: [&#x27;gini&#x27;, &#x27;entropy&#x27;],\n",
              "                                        &#x27;max_depth&#x27;: [20, 30, 40, 50, None],\n",
              "                                        &#x27;min_samples_split&#x27;: [2, 100, 20, 50,\n",
              "                                                              100],\n",
              "                                        &#x27;n_estimators&#x27;: [10, 500, 100, 2000]},\n",
              "                   verbose=2)</pre><b>In a Jupyter environment, please rerun this cell to show the HTML representation or trust the notebook. <br />On GitHub, the HTML representation is unable to render, please try loading this page with nbviewer.org.</b></div><div class=\"sk-container\" hidden><div class=\"sk-item sk-dashed-wrapped\"><div class=\"sk-label-container\"><div class=\"sk-label sk-toggleable\"><input class=\"sk-toggleable__control sk-hidden--visually\" id=\"sk-estimator-id-9\" type=\"checkbox\" ><label for=\"sk-estimator-id-9\" class=\"sk-toggleable__label sk-toggleable__label-arrow\">RandomizedSearchCV</label><div class=\"sk-toggleable__content\"><pre>RandomizedSearchCV(cv=5, estimator=RandomForestClassifier(), n_jobs=-1,\n",
              "                   param_distributions={&#x27;criterion&#x27;: [&#x27;gini&#x27;, &#x27;entropy&#x27;],\n",
              "                                        &#x27;max_depth&#x27;: [20, 30, 40, 50, None],\n",
              "                                        &#x27;min_samples_split&#x27;: [2, 100, 20, 50,\n",
              "                                                              100],\n",
              "                                        &#x27;n_estimators&#x27;: [10, 500, 100, 2000]},\n",
              "                   verbose=2)</pre></div></div></div><div class=\"sk-parallel\"><div class=\"sk-parallel-item\"><div class=\"sk-item\"><div class=\"sk-label-container\"><div class=\"sk-label sk-toggleable\"><input class=\"sk-toggleable__control sk-hidden--visually\" id=\"sk-estimator-id-10\" type=\"checkbox\" ><label for=\"sk-estimator-id-10\" class=\"sk-toggleable__label sk-toggleable__label-arrow\">estimator: RandomForestClassifier</label><div class=\"sk-toggleable__content\"><pre>RandomForestClassifier()</pre></div></div></div><div class=\"sk-serial\"><div class=\"sk-item\"><div class=\"sk-estimator sk-toggleable\"><input class=\"sk-toggleable__control sk-hidden--visually\" id=\"sk-estimator-id-11\" type=\"checkbox\" ><label for=\"sk-estimator-id-11\" class=\"sk-toggleable__label sk-toggleable__label-arrow\">RandomForestClassifier</label><div class=\"sk-toggleable__content\"><pre>RandomForestClassifier()</pre></div></div></div></div></div></div></div></div></div></div>"
            ]
          },
          "metadata": {},
          "execution_count": 57
        }
      ],
      "source": [
        "param_grid={'n_estimators':n_estimators,'criterion':criterion,'min_samples_split':min_samples_split,'max_depth':max_depth}\n",
        "rf=RandomForestClassifier()\n",
        "rf_g=RandomizedSearchCV(rf,param_grid,cv=5,verbose=2,n_jobs=-1)\n",
        "rf_g.fit(train_x,train_y)"
      ]
    },
    {
      "cell_type": "code",
      "execution_count": 58,
      "metadata": {
        "id": "yizF4dUuCa8P"
      },
      "outputs": [],
      "source": [
        "#PREDICT USING THE TRAINED MODEL\n",
        "classes=rf_g.predict(test_x)"
      ]
    },
    {
      "cell_type": "markdown",
      "metadata": {
        "id": "H9lEBWfCJmLx"
      },
      "source": [
        "#RandomForestClassifier with RandomizedSearchCV"
      ]
    },
    {
      "cell_type": "code",
      "execution_count": 59,
      "metadata": {
        "colab": {
          "base_uri": "https://localhost:8080/"
        },
        "id": "URA1_7dqDHol",
        "outputId": "08457a66-5fb6-4521-9373-572d7097cea6"
      },
      "outputs": [
        {
          "output_type": "stream",
          "name": "stdout",
          "text": [
            "ACCUIRACY SCORE\n",
            "0.8967495219885278\n"
          ]
        }
      ],
      "source": [
        "#PRECISION AND RECALL\n",
        "print(\"ACCUIRACY SCORE\")\n",
        "print(metrics.accuracy_score(test_y,classes))"
      ]
    },
    {
      "cell_type": "code",
      "execution_count": 60,
      "metadata": {
        "colab": {
          "base_uri": "https://localhost:8080/"
        },
        "id": "UWrl0Qf-DHon",
        "outputId": "ecdbd13b-6b87-47dc-8e2e-41abb8284954"
      },
      "outputs": [
        {
          "output_type": "stream",
          "name": "stdout",
          "text": [
            "precision/recall Metrics\n",
            "              precision    recall  f1-score   support\n",
            "\n",
            "           0       0.89      0.95      0.92       632\n",
            "           1       0.91      0.82      0.86       414\n",
            "\n",
            "    accuracy                           0.90      1046\n",
            "   macro avg       0.90      0.88      0.89      1046\n",
            "weighted avg       0.90      0.90      0.90      1046\n",
            "\n"
          ]
        }
      ],
      "source": [
        "#PRECISION RECALL MATRIX\n",
        "print(\"precision/recall Metrics\")\n",
        "print(metrics.classification_report(test_y,classes))"
      ]
    },
    {
      "cell_type": "code",
      "execution_count": 61,
      "metadata": {
        "colab": {
          "base_uri": "https://localhost:8080/",
          "height": 300
        },
        "id": "LpZ9U3nZDHoo",
        "outputId": "afcc82de-6bb9-45c4-b893-1a8e0e6c49c4"
      },
      "outputs": [
        {
          "output_type": "stream",
          "name": "stdout",
          "text": [
            "CONFUSION MATRIX\n"
          ]
        },
        {
          "output_type": "execute_result",
          "data": {
            "text/plain": [
              "<AxesSubplot:>"
            ]
          },
          "metadata": {},
          "execution_count": 61
        },
        {
          "output_type": "display_data",
          "data": {
            "text/plain": [
              "<Figure size 432x288 with 2 Axes>"
            ],
            "image/png": "[encoded data removed]"
          },
          "metadata": {
            "needs_background": "light"
          }
        }
      ],
      "source": [
        "#CONFUSION MATRIX\n",
        "print(\"CONFUSION MATRIX\")\n",
        "cf=metrics.confusion_matrix(test_y,classes)\n",
        "lbl1=[\"Predicted 0\",\"Predicted 1\"]\n",
        "lbl2=[\"True 0\",\"True 1\"]\n",
        "sns.heatmap(cf,annot=True,cmap=\"Greens\",fmt=\"d\",xticklabels=lbl1,yticklabels=lbl2)\n",
        "plt.show()"
      ]
    },
    {
      "cell_type": "code",
      "source": [
        "#AUC\n",
        "print(\"AUC\")\n",
        "auc=metrics.roc_auc_score(test_y,classes)\n",
        "auc"
      ],
      "metadata": {
        "colab": {
          "base_uri": "https://localhost:8080/"
        },
        "outputId": "5bb2deff-0e00-4122-f71c-7ceca393dde5",
        "id": "ek0r2kQ6wSXS"
      },
      "execution_count": 62,
      "outputs": [
        {
          "output_type": "stream",
          "name": "stdout",
          "text": [
            "AUC\n"
          ]
        },
        {
          "output_type": "execute_result",
          "data": {
            "text/plain": [
              "0.8833126949183635"
            ]
          },
          "metadata": {},
          "execution_count": 62
        }
      ]
    },
    {
      "cell_type": "code",
      "source": [
        "#ROC CHART\n",
        "fpr,tpr,th=roc_curve(test_y,classes)\n",
        "roc_auc=metrics.auc(fpr,tpr)\n",
        "import matplotlib.pyplot as plt\n",
        "plt.title(\"ROCR CHART\")\n",
        "plt.plot(fpr,tpr,'b',label=\"AUC=%0.2F\"%roc_auc)\n",
        "plt.legend(loc=\"lower right\")\n",
        "plt.plot([0,1],[0,1],\"o--\")\n",
        "plt.xlim([0,1])\n",
        "plt.ylim([0,1])\n",
        "plt.ylabel(\"TRUE POSITIVE RATE\")\n",
        "plt.xlabel(\"FALSE POSITIVE RATE\")\n",
        "plt.show();"
      ],
      "metadata": {
        "colab": {
          "base_uri": "https://localhost:8080/",
          "height": 295
        },
        "outputId": "15d5ca16-51ef-476e-fe3d-676dfb960485",
        "id": "TbAz8HEbwSXU"
      },
      "execution_count": 63,
      "outputs": [
        {
          "output_type": "display_data",
          "data": {
            "text/plain": [
              "<Figure size 432x288 with 1 Axes>"
            ],
            "image/png": "[encoded data removed]"
          },
          "metadata": {
            "needs_background": "light"
          }
        }
      ]
    },
    {
      "cell_type": "code",
      "execution_count": 64,
      "metadata": {
        "id": "OpzwlXIJHQjr"
      },
      "outputs": [],
      "source": [
        "from sklearn.neighbors import KNeighborsClassifier\n",
        "from xgboost import XGBClassifier"
      ]
    },
    {
      "cell_type": "code",
      "execution_count": 65,
      "metadata": {
        "colab": {
          "base_uri": "https://localhost:8080/",
          "height": 92
        },
        "id": "d0I5aMJ9HTCR",
        "outputId": "c2053bfe-5845-414c-c65a-be3dbdecfc97"
      },
      "outputs": [
        {
          "output_type": "execute_result",
          "data": {
            "text/plain": [
              "KNeighborsClassifier(n_neighbors=8)"
            ],
            "text/html": [
              "<style>#sk-container-id-6 {color: black;background-color: white;}#sk-container-id-6 pre{padding: 0;}#sk-container-id-6 div.sk-toggleable {background-color: white;}#sk-container-id-6 label.sk-toggleable__label {cursor: pointer;display: block;width: 100%;margin-bottom: 0;padding: 0.3em;box-sizing: border-box;text-align: center;}#sk-container-id-6 label.sk-toggleable__label-arrow:before {content: \"▸\";float: left;margin-right: 0.25em;color: #696969;}#sk-container-id-6 label.sk-toggleable__label-arrow:hover:before {color: black;}#sk-container-id-6 div.sk-estimator:hover label.sk-toggleable__label-arrow:before {color: black;}#sk-container-id-6 div.sk-toggleable__content {max-height: 0;max-width: 0;overflow: hidden;text-align: left;background-color: #f0f8ff;}#sk-container-id-6 div.sk-toggleable__content pre {margin: 0.2em;color: black;border-radius: 0.25em;background-color: #f0f8ff;}#sk-container-id-6 input.sk-toggleable__control:checked~div.sk-toggleable__content {max-height: 200px;max-width: 100%;overflow: auto;}#sk-container-id-6 input.sk-toggleable__control:checked~label.sk-toggleable__label-arrow:before {content: \"▾\";}#sk-container-id-6 div.sk-estimator input.sk-toggleable__control:checked~label.sk-toggleable__label {background-color: #d4ebff;}#sk-container-id-6 div.sk-label input.sk-toggleable__control:checked~label.sk-toggleable__label {background-color: #d4ebff;}#sk-container-id-6 input.sk-hidden--visually {border: 0;clip: rect(1px 1px 1px 1px);clip: rect(1px, 1px, 1px, 1px);height: 1px;margin: -1px;overflow: hidden;padding: 0;position: absolute;width: 1px;}#sk-container-id-6 div.sk-estimator {font-family: monospace;background-color: #f0f8ff;border: 1px dotted black;border-radius: 0.25em;box-sizing: border-box;margin-bottom: 0.5em;}#sk-container-id-6 div.sk-estimator:hover {background-color: #d4ebff;}#sk-container-id-6 div.sk-parallel-item::after {content: \"\";width: 100%;border-bottom: 1px solid gray;flex-grow: 1;}#sk-container-id-6 div.sk-label:hover label.sk-toggleable__label {background-color: #d4ebff;}#sk-container-id-6 div.sk-serial::before {content: \"\";position: absolute;border-left: 1px solid gray;box-sizing: border-box;top: 0;bottom: 0;left: 50%;z-index: 0;}#sk-container-id-6 div.sk-serial {display: flex;flex-direction: column;align-items: center;background-color: white;padding-right: 0.2em;padding-left: 0.2em;position: relative;}#sk-container-id-6 div.sk-item {position: relative;z-index: 1;}#sk-container-id-6 div.sk-parallel {display: flex;align-items: stretch;justify-content: center;background-color: white;position: relative;}#sk-container-id-6 div.sk-item::before, #sk-container-id-6 div.sk-parallel-item::before {content: \"\";position: absolute;border-left: 1px solid gray;box-sizing: border-box;top: 0;bottom: 0;left: 50%;z-index: -1;}#sk-container-id-6 div.sk-parallel-item {display: flex;flex-direction: column;z-index: 1;position: relative;background-color: white;}#sk-container-id-6 div.sk-parallel-item:first-child::after {align-self: flex-end;width: 50%;}#sk-container-id-6 div.sk-parallel-item:last-child::after {align-self: flex-start;width: 50%;}#sk-container-id-6 div.sk-parallel-item:only-child::after {width: 0;}#sk-container-id-6 div.sk-dashed-wrapped {border: 1px dashed gray;margin: 0 0.4em 0.5em 0.4em;box-sizing: border-box;padding-bottom: 0.4em;background-color: white;}#sk-container-id-6 div.sk-label label {font-family: monospace;font-weight: bold;display: inline-block;line-height: 1.2em;}#sk-container-id-6 div.sk-label-container {text-align: center;}#sk-container-id-6 div.sk-container {/* jupyter's `normalize.less` sets `[hidden] { display: none; }` but bootstrap.min.css set `[hidden] { display: none !important; }` so we also need the `!important` here to be able to override the default hidden behavior on the sphinx rendered scikit-learn.org. See: https://github.com/scikit-learn/scikit-learn/issues/21755 */display: inline-block !important;position: relative;}#sk-container-id-6 div.sk-text-repr-fallback {display: none;}</style><div id=\"sk-container-id-6\" class=\"sk-top-container\"><div class=\"sk-text-repr-fallback\"><pre>KNeighborsClassifier(n_neighbors=8)</pre><b>In a Jupyter environment, please rerun this cell to show the HTML representation or trust the notebook. <br />On GitHub, the HTML representation is unable to render, please try loading this page with nbviewer.org.</b></div><div class=\"sk-container\" hidden><div class=\"sk-item\"><div class=\"sk-estimator sk-toggleable\"><input class=\"sk-toggleable__control sk-hidden--visually\" id=\"sk-estimator-id-12\" type=\"checkbox\" checked><label for=\"sk-estimator-id-12\" class=\"sk-toggleable__label sk-toggleable__label-arrow\">KNeighborsClassifier</label><div class=\"sk-toggleable__content\"><pre>KNeighborsClassifier(n_neighbors=8)</pre></div></div></div></div></div>"
            ]
          },
          "metadata": {},
          "execution_count": 65
        },
        {
          "output_type": "execute_result",
          "data": {
            "text/plain": [
              "array([0, 0, 0, ..., 0, 0, 0], dtype=int8)"
            ]
          },
          "metadata": {},
          "execution_count": 65
        }
      ],
      "source": [
        "model = KNeighborsClassifier(n_neighbors=8)\n",
        "model.fit(train_x,train_y)\n",
        "predicted_values=model.predict(test_x)\n",
        "predicted_values"
      ]
    },
    {
      "cell_type": "markdown",
      "metadata": {
        "id": "RDfLD0gHJ0TD"
      },
      "source": [
        "#KNeighborsClassifier"
      ]
    },
    {
      "cell_type": "code",
      "execution_count": 66,
      "metadata": {
        "colab": {
          "base_uri": "https://localhost:8080/"
        },
        "id": "AZ4u62HVHZhq",
        "outputId": "ca3a3ce5-c416-4452-b7ff-181af75088e0"
      },
      "outputs": [
        {
          "output_type": "stream",
          "name": "stdout",
          "text": [
            "ACCUIRACY SCORE\n",
            "0.6328871892925431\n"
          ]
        }
      ],
      "source": [
        "#PRECISION AND RECALL\n",
        "print(\"ACCUIRACY SCORE\")\n",
        "print(metrics.accuracy_score(test_y,predicted_values))"
      ]
    },
    {
      "cell_type": "code",
      "execution_count": 67,
      "metadata": {
        "colab": {
          "base_uri": "https://localhost:8080/"
        },
        "id": "7QF0ucDYIGzl",
        "outputId": "da2b2068-f4e9-4299-a02f-82914c795a9a"
      },
      "outputs": [
        {
          "output_type": "stream",
          "name": "stdout",
          "text": [
            "precision/recall Metrics\n",
            "              precision    recall  f1-score   support\n",
            "\n",
            "           0       0.64      0.88      0.74       632\n",
            "           1       0.59      0.25      0.35       414\n",
            "\n",
            "    accuracy                           0.63      1046\n",
            "   macro avg       0.61      0.57      0.55      1046\n",
            "weighted avg       0.62      0.63      0.59      1046\n",
            "\n"
          ]
        }
      ],
      "source": [
        "#PRECISION RECALL MATRIX\n",
        "print(\"precision/recall Metrics\")\n",
        "print(metrics.classification_report(test_y,predicted_values))"
      ]
    },
    {
      "cell_type": "code",
      "execution_count": 68,
      "metadata": {
        "colab": {
          "base_uri": "https://localhost:8080/",
          "height": 300
        },
        "id": "cMj3u-EBIJf3",
        "outputId": "8173c6c7-3e47-4218-88dd-1f2cc3e08eb1"
      },
      "outputs": [
        {
          "output_type": "stream",
          "name": "stdout",
          "text": [
            "CONFUSION MATRIX\n"
          ]
        },
        {
          "output_type": "execute_result",
          "data": {
            "text/plain": [
              "<AxesSubplot:>"
            ]
          },
          "metadata": {},
          "execution_count": 68
        },
        {
          "output_type": "display_data",
          "data": {
            "text/plain": [
              "<Figure size 432x288 with 2 Axes>"
            ],
            "image/png": "[encoded data removed]"
          },
          "metadata": {
            "needs_background": "light"
          }
        }
      ],
      "source": [
        "#CONFUSION MATRIX\n",
        "print(\"CONFUSION MATRIX\")\n",
        "cf=metrics.confusion_matrix(test_y,predicted_values)\n",
        "lbl1=[\"Predicted 0\",\"Predicted 1\"]\n",
        "lbl2=[\"True 0\",\"True 1\"]\n",
        "sns.heatmap(cf,annot=True,cmap=\"Greens\",fmt=\"d\",xticklabels=lbl1,yticklabels=lbl2)\n",
        "plt.show()"
      ]
    },
    {
      "cell_type": "code",
      "source": [
        "#AUC\n",
        "print(\"AUC\")\n",
        "auc=metrics.roc_auc_score(test_y,classes)\n",
        "auc"
      ],
      "metadata": {
        "colab": {
          "base_uri": "https://localhost:8080/"
        },
        "outputId": "805cc1f4-22cb-4767-cdd6-0a212bdcc516",
        "id": "Qhp6OKJOwVrb"
      },
      "execution_count": 69,
      "outputs": [
        {
          "output_type": "stream",
          "name": "stdout",
          "text": [
            "AUC\n"
          ]
        },
        {
          "output_type": "execute_result",
          "data": {
            "text/plain": [
              "0.8833126949183635"
            ]
          },
          "metadata": {},
          "execution_count": 69
        }
      ]
    },
    {
      "cell_type": "code",
      "source": [
        "#ROC CHART\n",
        "fpr,tpr,th=roc_curve(test_y,classes)\n",
        "roc_auc=metrics.auc(fpr,tpr)\n",
        "import matplotlib.pyplot as plt\n",
        "plt.title(\"ROCR CHART\")\n",
        "plt.plot(fpr,tpr,'b',label=\"AUC=%0.2F\"%roc_auc)\n",
        "plt.legend(loc=\"lower right\")\n",
        "plt.plot([0,1],[0,1],\"o--\")\n",
        "plt.xlim([0,1])\n",
        "plt.ylim([0,1])\n",
        "plt.ylabel(\"TRUE POSITIVE RATE\")\n",
        "plt.xlabel(\"FALSE POSITIVE RATE\")\n",
        "plt.show();"
      ],
      "metadata": {
        "colab": {
          "base_uri": "https://localhost:8080/",
          "height": 295
        },
        "outputId": "56461b93-7f13-4d03-f000-444b81dc5f2b",
        "id": "V_9mL97KwVrd"
      },
      "execution_count": 70,
      "outputs": [
        {
          "output_type": "display_data",
          "data": {
            "text/plain": [
              "<Figure size 432x288 with 1 Axes>"
            ],
            "image/png": "[encoded data removed]"
          },
          "metadata": {
            "needs_background": "light"
          }
        }
      ]
    },
    {
      "cell_type": "code",
      "execution_count": 71,
      "metadata": {
        "colab": {
          "base_uri": "https://localhost:8080/",
          "height": 248
        },
        "id": "SnAxTs08IOpt",
        "outputId": "0a0abd3a-995b-4910-b5de-6443d9033085"
      },
      "outputs": [
        {
          "output_type": "execute_result",
          "data": {
            "text/plain": [
              "XGBClassifier(base_score=None, booster=None, callbacks=None,\n",
              "              colsample_bylevel=None, colsample_bynode=None,\n",
              "              colsample_bytree=None, early_stopping_rounds=None,\n",
              "              enable_categorical=False, eval_metric=None, feature_types=None,\n",
              "              gamma=None, gpu_id=None, grow_policy=None, importance_type=None,\n",
              "              interaction_constraints=None, learning_rate=None, max_bin=None,\n",
              "              max_cat_threshold=None, max_cat_to_onehot=None,\n",
              "              max_delta_step=None, max_depth=None, max_leaves=None,\n",
              "              min_child_weight=None, missing=nan, monotone_constraints=None,\n",
              "              n_estimators=100, n_jobs=None, num_parallel_tree=None,\n",
              "              predictor=None, random_state=None, ...)"
            ],
            "text/html": [
              "<style>#sk-container-id-7 {color: black;background-color: white;}#sk-container-id-7 pre{padding: 0;}#sk-container-id-7 div.sk-toggleable {background-color: white;}#sk-container-id-7 label.sk-toggleable__label {cursor: pointer;display: block;width: 100%;margin-bottom: 0;padding: 0.3em;box-sizing: border-box;text-align: center;}#sk-container-id-7 label.sk-toggleable__label-arrow:before {content: \"▸\";float: left;margin-right: 0.25em;color: #696969;}#sk-container-id-7 label.sk-toggleable__label-arrow:hover:before {color: black;}#sk-container-id-7 div.sk-estimator:hover label.sk-toggleable__label-arrow:before {color: black;}#sk-container-id-7 div.sk-toggleable__content {max-height: 0;max-width: 0;overflow: hidden;text-align: left;background-color: #f0f8ff;}#sk-container-id-7 div.sk-toggleable__content pre {margin: 0.2em;color: black;border-radius: 0.25em;background-color: #f0f8ff;}#sk-container-id-7 input.sk-toggleable__control:checked~div.sk-toggleable__content {max-height: 200px;max-width: 100%;overflow: auto;}#sk-container-id-7 input.sk-toggleable__control:checked~label.sk-toggleable__label-arrow:before {content: \"▾\";}#sk-container-id-7 div.sk-estimator input.sk-toggleable__control:checked~label.sk-toggleable__label {background-color: #d4ebff;}#sk-container-id-7 div.sk-label input.sk-toggleable__control:checked~label.sk-toggleable__label {background-color: #d4ebff;}#sk-container-id-7 input.sk-hidden--visually {border: 0;clip: rect(1px 1px 1px 1px);clip: rect(1px, 1px, 1px, 1px);height: 1px;margin: -1px;overflow: hidden;padding: 0;position: absolute;width: 1px;}#sk-container-id-7 div.sk-estimator {font-family: monospace;background-color: #f0f8ff;border: 1px dotted black;border-radius: 0.25em;box-sizing: border-box;margin-bottom: 0.5em;}#sk-container-id-7 div.sk-estimator:hover {background-color: #d4ebff;}#sk-container-id-7 div.sk-parallel-item::after {content: \"\";width: 100%;border-bottom: 1px solid gray;flex-grow: 1;}#sk-container-id-7 div.sk-label:hover label.sk-toggleable__label {background-color: #d4ebff;}#sk-container-id-7 div.sk-serial::before {content: \"\";position: absolute;border-left: 1px solid gray;box-sizing: border-box;top: 0;bottom: 0;left: 50%;z-index: 0;}#sk-container-id-7 div.sk-serial {display: flex;flex-direction: column;align-items: center;background-color: white;padding-right: 0.2em;padding-left: 0.2em;position: relative;}#sk-container-id-7 div.sk-item {position: relative;z-index: 1;}#sk-container-id-7 div.sk-parallel {display: flex;align-items: stretch;justify-content: center;background-color: white;position: relative;}#sk-container-id-7 div.sk-item::before, #sk-container-id-7 div.sk-parallel-item::before {content: \"\";position: absolute;border-left: 1px solid gray;box-sizing: border-box;top: 0;bottom: 0;left: 50%;z-index: -1;}#sk-container-id-7 div.sk-parallel-item {display: flex;flex-direction: column;z-index: 1;position: relative;background-color: white;}#sk-container-id-7 div.sk-parallel-item:first-child::after {align-self: flex-end;width: 50%;}#sk-container-id-7 div.sk-parallel-item:last-child::after {align-self: flex-start;width: 50%;}#sk-container-id-7 div.sk-parallel-item:only-child::after {width: 0;}#sk-container-id-7 div.sk-dashed-wrapped {border: 1px dashed gray;margin: 0 0.4em 0.5em 0.4em;box-sizing: border-box;padding-bottom: 0.4em;background-color: white;}#sk-container-id-7 div.sk-label label {font-family: monospace;font-weight: bold;display: inline-block;line-height: 1.2em;}#sk-container-id-7 div.sk-label-container {text-align: center;}#sk-container-id-7 div.sk-container {/* jupyter's `normalize.less` sets `[hidden] { display: none; }` but bootstrap.min.css set `[hidden] { display: none !important; }` so we also need the `!important` here to be able to override the default hidden behavior on the sphinx rendered scikit-learn.org. See: https://github.com/scikit-learn/scikit-learn/issues/21755 */display: inline-block !important;position: relative;}#sk-container-id-7 div.sk-text-repr-fallback {display: none;}</style><div id=\"sk-container-id-7\" class=\"sk-top-container\"><div class=\"sk-text-repr-fallback\"><pre>XGBClassifier(base_score=None, booster=None, callbacks=None,\n",
              "              colsample_bylevel=None, colsample_bynode=None,\n",
              "              colsample_bytree=None, early_stopping_rounds=None,\n",
              "              enable_categorical=False, eval_metric=None, feature_types=None,\n",
              "              gamma=None, gpu_id=None, grow_policy=None, importance_type=None,\n",
              "              interaction_constraints=None, learning_rate=None, max_bin=None,\n",
              "              max_cat_threshold=None, max_cat_to_onehot=None,\n",
              "              max_delta_step=None, max_depth=None, max_leaves=None,\n",
              "              min_child_weight=None, missing=nan, monotone_constraints=None,\n",
              "              n_estimators=100, n_jobs=None, num_parallel_tree=None,\n",
              "              predictor=None, random_state=None, ...)</pre><b>In a Jupyter environment, please rerun this cell to show the HTML representation or trust the notebook. <br />On GitHub, the HTML representation is unable to render, please try loading this page with nbviewer.org.</b></div><div class=\"sk-container\" hidden><div class=\"sk-item\"><div class=\"sk-estimator sk-toggleable\"><input class=\"sk-toggleable__control sk-hidden--visually\" id=\"sk-estimator-id-13\" type=\"checkbox\" checked><label for=\"sk-estimator-id-13\" class=\"sk-toggleable__label sk-toggleable__label-arrow\">XGBClassifier</label><div class=\"sk-toggleable__content\"><pre>XGBClassifier(base_score=None, booster=None, callbacks=None,\n",
              "              colsample_bylevel=None, colsample_bynode=None,\n",
              "              colsample_bytree=None, early_stopping_rounds=None,\n",
              "              enable_categorical=False, eval_metric=None, feature_types=None,\n",
              "              gamma=None, gpu_id=None, grow_policy=None, importance_type=None,\n",
              "              interaction_constraints=None, learning_rate=None, max_bin=None,\n",
              "              max_cat_threshold=None, max_cat_to_onehot=None,\n",
              "              max_delta_step=None, max_depth=None, max_leaves=None,\n",
              "              min_child_weight=None, missing=nan, monotone_constraints=None,\n",
              "              n_estimators=100, n_jobs=None, num_parallel_tree=None,\n",
              "              predictor=None, random_state=None, ...)</pre></div></div></div></div></div>"
            ]
          },
          "metadata": {},
          "execution_count": 71
        }
      ],
      "source": [
        "# fit model no training data\n",
        "model = XGBClassifier()\n",
        "model.fit(train_x, train_y)"
      ]
    },
    {
      "cell_type": "code",
      "execution_count": 72,
      "metadata": {
        "id": "sfRS-AbIIRSI"
      },
      "outputs": [],
      "source": [
        "# make predictions for test data\n",
        "y_pred = model.predict(test_x)\n",
        "predictions = [round(value) for value in y_pred]"
      ]
    },
    {
      "cell_type": "markdown",
      "metadata": {
        "id": "ZrCR0GaMJ6wM"
      },
      "source": [
        "#XGBClassifier"
      ]
    },
    {
      "cell_type": "code",
      "execution_count": 73,
      "metadata": {
        "colab": {
          "base_uri": "https://localhost:8080/"
        },
        "id": "xvPY9PZuIVf4",
        "outputId": "3b004fc9-2b70-4eda-defd-a6d708a93b18"
      },
      "outputs": [
        {
          "output_type": "stream",
          "name": "stdout",
          "text": [
            "ACCUIRACY SCORE\n",
            "0.9302103250478011\n"
          ]
        }
      ],
      "source": [
        "#PRECISION AND RECALL\n",
        "print(\"ACCUIRACY SCORE\")\n",
        "print(metrics.accuracy_score(test_y,predictions))"
      ]
    },
    {
      "cell_type": "code",
      "execution_count": 74,
      "metadata": {
        "colab": {
          "base_uri": "https://localhost:8080/"
        },
        "id": "TDd71soeIZI-",
        "outputId": "886fba5d-a895-42fa-fae5-a70837e8348e"
      },
      "outputs": [
        {
          "output_type": "stream",
          "name": "stdout",
          "text": [
            "precision/recall Metrics\n",
            "              precision    recall  f1-score   support\n",
            "\n",
            "           0       0.93      0.95      0.94       632\n",
            "           1       0.92      0.90      0.91       414\n",
            "\n",
            "    accuracy                           0.93      1046\n",
            "   macro avg       0.93      0.92      0.93      1046\n",
            "weighted avg       0.93      0.93      0.93      1046\n",
            "\n"
          ]
        }
      ],
      "source": [
        "#PRECISION RECALL MATRIX\n",
        "print(\"precision/recall Metrics\")\n",
        "print(metrics.classification_report(test_y,predictions))"
      ]
    },
    {
      "cell_type": "code",
      "execution_count": 75,
      "metadata": {
        "colab": {
          "base_uri": "https://localhost:8080/",
          "height": 304
        },
        "id": "tc2UT2whIcMe",
        "outputId": "3de5d426-96ec-4dd5-9c83-addb8577f8d6"
      },
      "outputs": [
        {
          "output_type": "stream",
          "name": "stdout",
          "text": [
            "CONFUSION MATRIX\n"
          ]
        },
        {
          "output_type": "execute_result",
          "data": {
            "text/plain": [
              "<AxesSubplot:>"
            ]
          },
          "metadata": {},
          "execution_count": 75
        },
        {
          "output_type": "display_data",
          "data": {
            "text/plain": [
              "<Figure size 432x288 with 2 Axes>"
            ],
            "image/png": "[encoded data removed]"
          },
          "metadata": {
            "needs_background": "light"
          }
        }
      ],
      "source": [
        "#CONFUSION MATRIX\n",
        "print(\"CONFUSION MATRIX\")\n",
        "cf=metrics.confusion_matrix(test_y,predictions)\n",
        "lbl1=[\"Predicted 0\",\"Predicted 1\"]\n",
        "lbl2=[\"True 0\",\"True 1\"]\n",
        "sns.heatmap(cf,annot=True,cmap=\"Greens\",fmt=\"d\",xticklabels=lbl1,yticklabels=lbl2)\n",
        "plt.show()"
      ]
    },
    {
      "cell_type": "code",
      "source": [
        "#AUC\n",
        "print(\"AUC\")\n",
        "auc=metrics.roc_auc_score(test_y,classes)\n",
        "auc"
      ],
      "metadata": {
        "colab": {
          "base_uri": "https://localhost:8080/"
        },
        "outputId": "18fbc243-4cfd-4d1a-f6b7-973742a7f944",
        "id": "-lOMW47uwYs5"
      },
      "execution_count": 76,
      "outputs": [
        {
          "output_type": "stream",
          "name": "stdout",
          "text": [
            "AUC\n"
          ]
        },
        {
          "output_type": "execute_result",
          "data": {
            "text/plain": [
              "0.8833126949183635"
            ]
          },
          "metadata": {},
          "execution_count": 76
        }
      ]
    },
    {
      "cell_type": "code",
      "source": [
        "#ROC CHART\n",
        "fpr,tpr,th=roc_curve(test_y,classes)\n",
        "roc_auc=metrics.auc(fpr,tpr)\n",
        "import matplotlib.pyplot as plt\n",
        "plt.title(\"ROCR CHART\")\n",
        "plt.plot(fpr,tpr,'b',label=\"AUC=%0.2F\"%roc_auc)\n",
        "plt.legend(loc=\"lower right\")\n",
        "plt.plot([0,1],[0,1],\"o--\")\n",
        "plt.xlim([0,1])\n",
        "plt.ylim([0,1])\n",
        "plt.ylabel(\"TRUE POSITIVE RATE\")\n",
        "plt.xlabel(\"FALSE POSITIVE RATE\")\n",
        "plt.show();"
      ],
      "metadata": {
        "colab": {
          "base_uri": "https://localhost:8080/",
          "height": 295
        },
        "outputId": "c03183a0-9ba3-4769-bafe-4875d2eac0bc",
        "id": "3NkajzthwYs7"
      },
      "execution_count": 77,
      "outputs": [
        {
          "output_type": "display_data",
          "data": {
            "text/plain": [
              "<Figure size 432x288 with 1 Axes>"
            ],
            "image/png": "[encoded data removed]"
          },
          "metadata": {
            "needs_background": "light"
          }
        }
      ]
    },
    {
      "cell_type": "code",
      "source": [
        "!jupyter nbconvert --to html KOTAK_volume_indicators_GoLong.ipynb"
      ],
      "metadata": {
        "id": "-pprVmXuzeHk"
      },
      "execution_count": null,
      "outputs": []
    }
  ],
  "metadata": {
    "colab": {
      "provenance": []
    },
    "gpuClass": "standard",
    "kernelspec": {
      "display_name": "Python 3",
      "name": "python3"
    },
    "language_info": {
      "name": "python"
    }
  },
  "nbformat": 4,
  "nbformat_minor": 0
}