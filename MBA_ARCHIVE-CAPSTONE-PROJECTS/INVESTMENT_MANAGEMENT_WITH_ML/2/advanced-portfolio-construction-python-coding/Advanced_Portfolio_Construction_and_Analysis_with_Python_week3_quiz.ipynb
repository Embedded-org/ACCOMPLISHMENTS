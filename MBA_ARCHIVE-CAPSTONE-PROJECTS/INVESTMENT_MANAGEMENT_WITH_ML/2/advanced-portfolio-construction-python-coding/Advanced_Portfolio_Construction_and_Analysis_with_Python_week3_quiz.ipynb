{
  "nbformat": 4,
  "nbformat_minor": 0,
  "metadata": {
    "colab": {
      "name": "Advanced Portfolio Construction and Analysis with Python_week3_quiz.ipynb",
      "provenance": [],
      "collapsed_sections": []
    },
    "kernelspec": {
      "name": "python3",
      "display_name": "Python 3"
    }
  },
  "cells": [
    {
      "cell_type": "markdown",
      "metadata": {
        "id": "4LF56IqBe9XU",
        "colab_type": "text"
      },
      "source": [
        "Load the 49 industries Value weighted returns and cap weights, and use the period 2013-2018 both included. For the period, use the starting cap weights of the period. Limit yourself to the following 5 industry sectors: 'Hlth', 'Fin', 'Whlsl', 'Rtail', 'Food'."
      ]
    },
    {
      "cell_type": "code",
      "metadata": {
        "id": "UcnRn8nmfS3T",
        "colab_type": "code",
        "colab": {
          "base_uri": "https://localhost:8080/",
          "height": 34
        },
        "outputId": "060fb879-1f0e-4fa4-e6b2-72bfa7c60237"
      },
      "source": [
        "from google.colab import drive\n",
        "drive.mount('/content/gdrive/')\n",
        "import sys\n",
        "sys.path.append('/content/gdrive/My Drive/import')"
      ],
      "execution_count": 13,
      "outputs": [
        {
          "output_type": "stream",
          "text": [
            "Drive already mounted at /content/gdrive/; to attempt to forcibly remount, call drive.mount(\"/content/gdrive/\", force_remount=True).\n"
          ],
          "name": "stdout"
        }
      ]
    },
    {
      "cell_type": "code",
      "metadata": {
        "id": "sUgJY6mYfALJ",
        "colab_type": "code",
        "colab": {
          "base_uri": "https://localhost:8080/",
          "height": 51
        },
        "outputId": "d907a7c8-dd0c-4390-ea69-0afcc1c0f2d5"
      },
      "source": [
        "%load_ext autoreload\n",
        "%autoreload 2\n",
        "%matplotlib inline\n",
        "\n",
        "import edhec_risk_kit_206 as erk\n",
        "import matplotlib\n",
        "import pandas as pd\n",
        "import numpy as np\n",
        "\n",
        "ind49_rets = erk.get_ind_returns(weighting=\"vw\", n_inds=49)[\"2013\":]\n",
        "ind49_mcap = erk.get_ind_market_caps(49, weights=True)[\"2013\":]"
      ],
      "execution_count": 34,
      "outputs": [
        {
          "output_type": "stream",
          "text": [
            "The autoreload extension is already loaded. To reload it, use:\n",
            "  %reload_ext autoreload\n"
          ],
          "name": "stdout"
        }
      ]
    },
    {
      "cell_type": "markdown",
      "metadata": {
        "id": "KjJE5ModgJp4",
        "colab_type": "text"
      },
      "source": [
        "Industry sector has the highest capweight\n",
        "\n"
      ]
    },
    {
      "cell_type": "code",
      "metadata": {
        "id": "t5bk5BuFfnmY",
        "colab_type": "code",
        "colab": {
          "base_uri": "https://localhost:8080/",
          "height": 119
        },
        "outputId": "7993c011-19ef-49f0-db32-2d69a34b5e12"
      },
      "source": [
        "fiveind_rets = ind49_rets[['Hlth', 'Fin', 'Whlsl', 'Rtail', 'Food']]\n",
        "fiveind_mcap = ind49_mcap[['Hlth', 'Fin', 'Whlsl', 'Rtail', 'Food']]\n",
        "cap_w = fiveind_mcap.sum()\n",
        "cap_w\n"
      ],
      "execution_count": 35,
      "outputs": [
        {
          "output_type": "execute_result",
          "data": {
            "text/plain": [
              "Hlth     0.396624\n",
              "Fin      1.751218\n",
              "Whlsl    0.937026\n",
              "Rtail    5.057213\n",
              "Food     1.241093\n",
              "dtype: float64"
            ]
          },
          "metadata": {
            "tags": []
          },
          "execution_count": 35
        }
      ]
    },
    {
      "cell_type": "code",
      "metadata": {
        "id": "dWja-GNJg3XI",
        "colab_type": "code",
        "colab": {}
      },
      "source": [
        "def implied_returns(delta, sigma, w):\n",
        "    \"\"\"\n",
        "Obtain the implied expected returns by reverse engineering the weights\n",
        "Inputs:\n",
        "delta: Risk Aversion Coefficient (scalar)\n",
        "sigma: Variance-Covariance Matrix (N x N) as DataFrame\n",
        "    w: Portfolio weights (N x 1) as Series\n",
        "Returns an N x 1 vector of Returns as Series\n",
        "    \"\"\"\n",
        "    ir = delta * sigma.dot(w).squeeze() # to get a series from a 1-column dataframe\n",
        "    ir.name = 'Implied Returns'\n",
        "    return ir\n"
      ],
      "execution_count": 36,
      "outputs": []
    },
    {
      "cell_type": "markdown",
      "metadata": {
        "id": "LeULGNNUgUEF",
        "colab_type": "text"
      },
      "source": [
        "which industry sector has the highest implied return?"
      ]
    },
    {
      "cell_type": "code",
      "metadata": {
        "id": "aA-yGgFpgPla",
        "colab_type": "code",
        "colab": {
          "base_uri": "https://localhost:8080/",
          "height": 119
        },
        "outputId": "5f6946d5-4741-4c4d-c06f-ba4d96bb73c2"
      },
      "source": [
        "# The 7 countries ...\n",
        "countries  = ['Hlth', 'Fin', 'Whlsl', 'Rtail', 'Food']\n",
        "# Table 1 of the He-Litterman paper\n",
        "# Correlation Matrix\n",
        "rho = fiveind_rets.corr()\n",
        "\n",
        "# Table 2 of the He-Litterman paper: volatilities\n",
        "vols = erk.annualize_vol(fiveind_rets, 1) \n",
        "# Table 2 of the He-Litterman paper: cap-weights\n",
        "w_eq = cap_w\n",
        "# Compute the Covariance Matrix\n",
        "sigma_prior = vols.dot(vols.T) * rho\n",
        "# Compute Pi and compare:\n",
        "pi = implied_returns(delta=2.5, sigma=sigma_prior, w=w_eq)\n",
        "(pi*100).round(1)"
      ],
      "execution_count": 37,
      "outputs": [
        {
          "output_type": "execute_result",
          "data": {
            "text/plain": [
              "Hlth     12.0\n",
              "Fin      13.9\n",
              "Whlsl    15.8\n",
              "Rtail    17.5\n",
              "Food     12.2\n",
              "Name: Implied Returns, dtype: float64"
            ]
          },
          "metadata": {
            "tags": []
          },
          "execution_count": 37
        }
      ]
    },
    {
      "cell_type": "code",
      "metadata": {
        "id": "P8TPZoICgk3Z",
        "colab_type": "code",
        "colab": {
          "base_uri": "https://localhost:8080/",
          "height": 119
        },
        "outputId": "d2cc0758-1545-429f-fc4d-c85747e33662"
      },
      "source": [
        "inds  = ['Hlth', 'Fin', 'Whlsl', 'Rtail', 'Food']\n",
        "rho = fiveind_rets.corr()\n",
        "# Table 2 of the He-Litterman paper: volatilities\n",
        "vols = pd.DataFrame(erk.annualize_vol(fiveind_rets, 1),index=inds, columns=[\"vol\"]) \n",
        "# Table 2 of the He-Litterman paper: cap-weights\n",
        "w_eq = pd.DataFrame(cap_w, index=inds, columns=[\"CapWeight\"])\n",
        "# Compute the Covariance Matrix\n",
        "sigma_prior = vols.dot(vols.T) * rho\n",
        "# Compute Pi and compare:\n",
        "pi = implied_returns(delta=2.5, sigma=sigma_prior, w=w_eq)\n",
        "(pi*100).round(1)"
      ],
      "execution_count": 38,
      "outputs": [
        {
          "output_type": "execute_result",
          "data": {
            "text/plain": [
              "Hlth     2.6\n",
              "Fin      3.2\n",
              "Whlsl    2.9\n",
              "Rtail    3.3\n",
              "Food     2.0\n",
              "Name: Implied Returns, dtype: float64"
            ]
          },
          "metadata": {
            "tags": []
          },
          "execution_count": 38
        }
      ]
    },
    {
      "cell_type": "markdown",
      "metadata": {
        "id": "gmYoM79EhTZN",
        "colab_type": "text"
      },
      "source": [
        "Impose the subjective relative view that Hlth will outperform Rtail and Whlsl by 3% (Hint: Use the same logic as View 1 in the He-Litterman paper)\n",
        "\n",
        "What is the entry you will use for the Pick Matrix P for Whlsl.\n"
      ]
    },
    {
      "cell_type": "code",
      "metadata": {
        "id": "PvzQ1HVQhVnA",
        "colab_type": "code",
        "colab": {
          "base_uri": "https://localhost:8080/",
          "height": 80
        },
        "outputId": "f9969867-5449-43da-bed4-0db87896fb9b"
      },
      "source": [
        "\n",
        "q = pd.Series([.03]) # just one view\n",
        "# start with a single view, all zeros and overwrite the specific view\n",
        "p = pd.DataFrame([0.]*len(inds), index=inds).T\n",
        "# find the relative market caps of retail and wholesale to split the\n",
        "# relative outperformance of health ...\n",
        "w_Whlsl =  w_eq.loc[\"Whlsl\"]/(w_eq.loc[\"Whlsl\"]+w_eq.loc[\"Rtail\"])\n",
        "w_Rtail =  w_eq.loc[\"Rtail\"]/(w_eq.loc[\"Whlsl\"]+w_eq.loc[\"Rtail\"])\n",
        "p.iloc[0]['Hlth'] = 1.\n",
        "p.iloc[0]['Whlsl'] = -w_Whlsl\n",
        "p.iloc[0]['Rtail'] = -w_Rtail\n",
        "(p*100).round(2)"
      ],
      "execution_count": 39,
      "outputs": [
        {
          "output_type": "execute_result",
          "data": {
            "text/html": [
              "<div>\n",
              "<style scoped>\n",
              "    .dataframe tbody tr th:only-of-type {\n",
              "        vertical-align: middle;\n",
              "    }\n",
              "\n",
              "    .dataframe tbody tr th {\n",
              "        vertical-align: top;\n",
              "    }\n",
              "\n",
              "    .dataframe thead th {\n",
              "        text-align: right;\n",
              "    }\n",
              "</style>\n",
              "<table border=\"1\" class=\"dataframe\">\n",
              "  <thead>\n",
              "    <tr style=\"text-align: right;\">\n",
              "      <th></th>\n",
              "      <th>Hlth</th>\n",
              "      <th>Fin</th>\n",
              "      <th>Whlsl</th>\n",
              "      <th>Rtail</th>\n",
              "      <th>Food</th>\n",
              "    </tr>\n",
              "  </thead>\n",
              "  <tbody>\n",
              "    <tr>\n",
              "      <th>0</th>\n",
              "      <td>100.0</td>\n",
              "      <td>0.0</td>\n",
              "      <td>-15.63</td>\n",
              "      <td>-84.37</td>\n",
              "      <td>0.0</td>\n",
              "    </tr>\n",
              "  </tbody>\n",
              "</table>\n",
              "</div>"
            ],
            "text/plain": [
              "    Hlth  Fin  Whlsl  Rtail  Food\n",
              "0  100.0  0.0 -15.63 -84.37   0.0"
            ]
          },
          "metadata": {
            "tags": []
          },
          "execution_count": 39
        }
      ]
    },
    {
      "cell_type": "markdown",
      "metadata": {
        "id": "DfjrVnk4iakZ",
        "colab_type": "text"
      },
      "source": [
        "Once you impose this view (use delta = 2.5 and tau = 0.05 as in the paper), which sector has the lowest implied return?"
      ]
    },
    {
      "cell_type": "code",
      "metadata": {
        "id": "Y56fTBMRkoHL",
        "colab_type": "code",
        "colab": {}
      },
      "source": [
        "# Assumes that Omega is proportional to the variance of the prior\n",
        "def proportional_prior(sigma, tau, p):\n",
        "    \"\"\"\n",
        "    Returns the He-Litterman simplified Omega\n",
        "    Inputs:\n",
        "    sigma: N x N Covariance Matrix as DataFrame\n",
        "    tau: a scalar\n",
        "    p: a K x N DataFrame linking Q and Assets\n",
        "    returns a P x P DataFrame, a Matrix representing Prior Uncertainties\n",
        "    \"\"\"\n",
        "    helit_omega = p.dot(tau * sigma).dot(p.T)\n",
        "    # Make a diag matrix from the diag elements of Omega\n",
        "    return pd.DataFrame(np.diag(np.diag(helit_omega.values)),index=p.index, columns=p.index)"
      ],
      "execution_count": 40,
      "outputs": []
    },
    {
      "cell_type": "code",
      "metadata": {
        "id": "Jc2WIjLXlEJ5",
        "colab_type": "code",
        "colab": {}
      },
      "source": [
        "from numpy.linalg import inv\n",
        "\n",
        "def bl(w_prior, sigma_prior, p, q,\n",
        "                omega=None,\n",
        "                delta=2.5, tau=.02):\n",
        "    \"\"\"\n",
        "# Computes the posterior expected returns based on \n",
        "# the original black litterman reference model\n",
        "#\n",
        "# W.prior must be an N x 1 vector of weights, a Series\n",
        "# Sigma.prior is an N x N covariance matrix, a DataFrame\n",
        "# P must be a K x N matrix linking Q and the Assets, a DataFrame\n",
        "# Q must be an K x 1 vector of views, a Series\n",
        "# Omega must be a K x K matrix a DataFrame, or None\n",
        "# if Omega is None, we assume it is\n",
        "#    proportional to variance of the prior\n",
        "# delta and tau are scalars\n",
        "    \"\"\"\n",
        "    if omega is None:\n",
        "        omega = proportional_prior(sigma_prior, tau, p)\n",
        "    # Force w.prior and Q to be column vectors\n",
        "    # How many assets do we have?\n",
        "    N = w_prior.shape[0]\n",
        "    # And how many views?\n",
        "    K = q.shape[0]\n",
        "    # First, reverse-engineer the weights to get pi\n",
        "    pi = implied_returns(delta, sigma_prior,  w_prior)\n",
        "    # Adjust (scale) Sigma by the uncertainty scaling factor\n",
        "    sigma_prior_scaled = tau * sigma_prior  \n",
        "    # posterior estimate of the mean, use the \"Master Formula\"\n",
        "    # we use the versions that do not require\n",
        "    # Omega to be inverted (see previous section)\n",
        "    # this is easier to read if we use '@' for matrixmult instead of .dot()\n",
        "  #     mu_bl = pi + sigma_prior_scaled @ p.T @ inv(p @ sigma_prior_scaled @ p.T + omega) @ (q - p @ pi)\n",
        "    mu_bl = pi + sigma_prior_scaled.dot(p.T).dot(inv(p.dot(sigma_prior_scaled).dot(p.T) + omega).dot(q - p.dot(pi).values))\n",
        "    # posterior estimate of uncertainty of mu.bl\n",
        "#     sigma_bl = sigma_prior + sigma_prior_scaled - sigma_prior_scaled @ p.T @ inv(p @ sigma_prior_scaled @ p.T + omega) @ p @ sigma_prior_scaled\n",
        "    sigma_bl = sigma_prior + sigma_prior_scaled - sigma_prior_scaled.dot(p.T).dot(inv(p.dot(sigma_prior_scaled).dot(p.T) + omega)).dot(p).dot(sigma_prior_scaled)\n",
        "    return (mu_bl, sigma_bl)"
      ],
      "execution_count": 41,
      "outputs": []
    },
    {
      "cell_type": "code",
      "metadata": {
        "id": "fZtiM98NhZkV",
        "colab_type": "code",
        "colab": {
          "base_uri": "https://localhost:8080/",
          "height": 119
        },
        "outputId": "ce1bf52c-d948-47ab-ad73-be2e2958f290"
      },
      "source": [
        "delta = 2.5\n",
        "tau = 0.05 # from Footnote 8\n",
        "# Find the Black Litterman Expected Returns\n",
        "bl_mu, bl_sigma = bl(w_eq, sigma_prior, p, q, tau = tau)\n",
        "(bl_mu*100).round(1)\n"
      ],
      "execution_count": 42,
      "outputs": [
        {
          "output_type": "execute_result",
          "data": {
            "text/plain": [
              "Hlth     3.9\n",
              "Fin      3.1\n",
              "Whlsl    2.8\n",
              "Rtail    2.7\n",
              "Food     1.7\n",
              "dtype: float64"
            ]
          },
          "metadata": {
            "tags": []
          },
          "execution_count": 42
        }
      ]
    },
    {
      "cell_type": "markdown",
      "metadata": {
        "id": "FK6aiNXIlkqN",
        "colab_type": "text"
      },
      "source": [
        "Which sector now has the highest weight in the MSR portfolio using the Black-Litterman model?"
      ]
    },
    {
      "cell_type": "code",
      "metadata": {
        "id": "Btf8EPg2l2p4",
        "colab_type": "code",
        "colab": {}
      },
      "source": [
        "# for convenience and readability, define the inverse of a dataframe\n",
        "def inverse(d):\n",
        "    \"\"\"\n",
        "    Invert the dataframe by inverting the underlying matrix\n",
        "    \"\"\"\n",
        "    return pd.DataFrame(inv(d.values), index=d.columns, columns=d.index)\n",
        "\n",
        "def w_msr(sigma, mu, scale=True):\n",
        "    \"\"\"\n",
        "    Optimal (Tangent/Max Sharpe Ratio) Portfolio weights\n",
        "    by using the Markowitz Optimization Procedure\n",
        "    Mu is the vector of Excess expected Returns\n",
        "    Sigma must be an N x N matrix as a DataFrame and Mu a column vector as a Series\n",
        "    This implements page 188 Equation 5.2.28 of\n",
        "    \"The econometrics of financial markets\" Campbell, Lo and Mackinlay.\n",
        "    \"\"\"\n",
        "    w = inverse(sigma).dot(mu)\n",
        "    if scale:\n",
        "        w = w/sum(w) # fix: this assumes all w is +ve\n",
        "    return w"
      ],
      "execution_count": 25,
      "outputs": []
    },
    {
      "cell_type": "code",
      "metadata": {
        "id": "6rzEz7MlkVnA",
        "colab_type": "code",
        "colab": {
          "base_uri": "https://localhost:8080/",
          "height": 119
        },
        "outputId": "e73b8001-4927-4809-dcee-618967771f01"
      },
      "source": [
        "\n",
        "# Use the Black Litterman expected returns and covariance matrix\n",
        "w_msr(bl_sigma, bl_mu)"
      ],
      "execution_count": 44,
      "outputs": [
        {
          "output_type": "execute_result",
          "data": {
            "text/plain": [
              "Hlth     0.846251\n",
              "Fin      0.186634\n",
              "Whlsl   -0.025817\n",
              "Rtail   -0.139336\n",
              "Food     0.132268\n",
              "dtype: float64"
            ]
          },
          "metadata": {
            "tags": []
          },
          "execution_count": 44
        }
      ]
    },
    {
      "cell_type": "markdown",
      "metadata": {
        "id": "jTGx5rJQl9Oh",
        "colab_type": "text"
      },
      "source": [
        "Now, let’s assume you change the relative view. You still think that it Hlth will outperform Rtail and Whlsl but you think that the outperformance will be 5% not the 3% you originally anticipated.\n",
        "\n",
        "Under this new view which sector has the highest expected return?\n"
      ]
    },
    {
      "cell_type": "code",
      "metadata": {
        "id": "KiXc0NCelp7h",
        "colab_type": "code",
        "colab": {
          "base_uri": "https://localhost:8080/",
          "height": 119
        },
        "outputId": "223224cd-77f1-432a-f28c-bc7761421404"
      },
      "source": [
        "q = pd.Series([.05]) # just one view\n",
        "# start with a single view, all zeros and overwrite the specific view\n",
        "p = pd.DataFrame([0.]*len(inds), index=inds).T\n",
        "# find the relative market caps of Whlsl and Rtail to split the\n",
        "# relative outperformance of Hlth ...\n",
        "w_Whlsl =  w_eq.loc[\"Whlsl\"]/(w_eq.loc[\"Whlsl\"]+w_eq.loc[\"Rtail\"])\n",
        "w_Rtail =  w_eq.loc[\"Rtail\"]/(w_eq.loc[\"Whlsl\"]+w_eq.loc[\"Rtail\"])\n",
        "p.iloc[0]['Hlth'] = 1.\n",
        "p.iloc[0]['Whlsl'] = -w_Whlsl\n",
        "p.iloc[0]['Rtail'] = -w_Rtail\n",
        "(p*100).round(1)\n",
        "# Find the Black Litterman Expected Returns\n",
        "bl_mu, bl_sigma = bl(w_eq, sigma_prior, p, q, tau = tau)\n",
        "(bl_mu*100).round(3)\n",
        "\n",
        "pi = implied_returns(delta=2.5, sigma=bl_sigma, w=w_eq)\n",
        "(pi*100).round(1)"
      ],
      "execution_count": 43,
      "outputs": [
        {
          "output_type": "execute_result",
          "data": {
            "text/plain": [
              "Hlth     2.8\n",
              "Fin      3.3\n",
              "Whlsl    3.0\n",
              "Rtail    3.4\n",
              "Food     2.1\n",
              "Name: Implied Returns, dtype: float64"
            ]
          },
          "metadata": {
            "tags": []
          },
          "execution_count": 43
        }
      ]
    },
    {
      "cell_type": "markdown",
      "metadata": {
        "id": "qr7dD1_1mJE1",
        "colab_type": "text"
      },
      "source": [
        "Under this new view which sector does the Black-Litterman model assign the highest weight?"
      ]
    },
    {
      "cell_type": "code",
      "metadata": {
        "id": "K5BYlZz1muDc",
        "colab_type": "code",
        "colab": {
          "base_uri": "https://localhost:8080/",
          "height": 119
        },
        "outputId": "b9d080cf-21f6-47e3-d4b7-d95090c122b2"
      },
      "source": [
        "def w_star(delta, sigma, mu):\n",
        "    return (inverse(sigma).dot(mu))/delta\n",
        "\n",
        "wstar = w_star(delta=2.5, sigma=bl_sigma, mu=bl_mu)\n",
        "# display w*\n",
        "(wstar*100).round(1)"
      ],
      "execution_count": 29,
      "outputs": [
        {
          "output_type": "execute_result",
          "data": {
            "text/plain": [
              "Hlth     756.2\n",
              "Fin      166.8\n",
              "Whlsl    -23.1\n",
              "Rtail   -124.5\n",
              "Food     118.2\n",
              "dtype: float64"
            ]
          },
          "metadata": {
            "tags": []
          },
          "execution_count": 29
        }
      ]
    },
    {
      "cell_type": "code",
      "metadata": {
        "id": "KMLQ9krXmE4Z",
        "colab_type": "code",
        "colab": {
          "base_uri": "https://localhost:8080/",
          "height": 119
        },
        "outputId": "2c6f1999-c4b3-469a-93ae-06785023ac16"
      },
      "source": [
        "wstar = w_star(delta=2.5, sigma=bl_sigma, mu=bl_mu)\n",
        "# display w*\n",
        "wstar\n"
      ],
      "execution_count": 30,
      "outputs": [
        {
          "output_type": "execute_result",
          "data": {
            "text/plain": [
              "Hlth     7.562402\n",
              "Fin      1.667826\n",
              "Whlsl   -0.230709\n",
              "Rtail   -1.245157\n",
              "Food     1.181993\n",
              "dtype: float64"
            ]
          },
          "metadata": {
            "tags": []
          },
          "execution_count": 30
        }
      ]
    },
    {
      "cell_type": "code",
      "metadata": {
        "id": "Q36998CGmONa",
        "colab_type": "code",
        "colab": {
          "base_uri": "https://localhost:8080/",
          "height": 119
        },
        "outputId": "3a5f2d0b-89b2-41c5-f0eb-b5b992c6912f"
      },
      "source": [
        "(wstar*100).round(1)\n",
        "w_eq  = w_msr(delta*sigma_prior, pi, scale=False)\n",
        "# Display the difference in Posterior and Prior weights\n",
        "np.round(wstar - w_eq/(1+tau), 3)*100"
      ],
      "execution_count": 31,
      "outputs": [
        {
          "output_type": "execute_result",
          "data": {
            "text/plain": [
              "Hlth     712.8\n",
              "Fin       -8.3\n",
              "Whlsl   -116.2\n",
              "Rtail   -627.1\n",
              "Food      -5.9\n",
              "dtype: float64"
            ]
          },
          "metadata": {
            "tags": []
          },
          "execution_count": 31
        }
      ]
    },
    {
      "cell_type": "code",
      "metadata": {
        "id": "t2PtpQj_nChA",
        "colab_type": "code",
        "colab": {
          "base_uri": "https://localhost:8080/",
          "height": 484
        },
        "outputId": "7698e0da-b782-4519-8941-801688e1c783"
      },
      "source": [
        "\n",
        "ewr = erk.backtest_ws(fiveind_rets, estimation_window=36, weighting=erk.weight_ew)\n",
        "cwr = erk.backtest_ws(fiveind_rets, estimation_window=36, weighting=erk.weight_cw, cap_weights=fiveind_mcap)\n",
        "btr = pd.DataFrame({\"EW\": ewr, \"CW\": cwr})\n",
        "(1+btr).cumprod().plot(figsize=(12,6), title=\"Industry Portfolios - CW vs EW\")\n",
        "erk.summary_stats(btr.dropna())"
      ],
      "execution_count": 45,
      "outputs": [
        {
          "output_type": "execute_result",
          "data": {
            "text/html": [
              "<div>\n",
              "<style scoped>\n",
              "    .dataframe tbody tr th:only-of-type {\n",
              "        vertical-align: middle;\n",
              "    }\n",
              "\n",
              "    .dataframe tbody tr th {\n",
              "        vertical-align: top;\n",
              "    }\n",
              "\n",
              "    .dataframe thead th {\n",
              "        text-align: right;\n",
              "    }\n",
              "</style>\n",
              "<table border=\"1\" class=\"dataframe\">\n",
              "  <thead>\n",
              "    <tr style=\"text-align: right;\">\n",
              "      <th></th>\n",
              "      <th>Annualized Return</th>\n",
              "      <th>Annualized Vol</th>\n",
              "      <th>Skewness</th>\n",
              "      <th>Kurtosis</th>\n",
              "      <th>Cornish-Fisher VaR (5%)</th>\n",
              "      <th>Historic CVaR (5%)</th>\n",
              "      <th>Sharpe Ratio</th>\n",
              "      <th>Max Drawdown</th>\n",
              "    </tr>\n",
              "  </thead>\n",
              "  <tbody>\n",
              "    <tr>\n",
              "      <th>EW</th>\n",
              "      <td>0.051441</td>\n",
              "      <td>0.12464</td>\n",
              "      <td>-0.964406</td>\n",
              "      <td>4.528749</td>\n",
              "      <td>0.061535</td>\n",
              "      <td>0.085260</td>\n",
              "      <td>0.167273</td>\n",
              "      <td>-0.158588</td>\n",
              "    </tr>\n",
              "    <tr>\n",
              "      <th>CW</th>\n",
              "      <td>0.079618</td>\n",
              "      <td>0.12945</td>\n",
              "      <td>-0.616326</td>\n",
              "      <td>3.897139</td>\n",
              "      <td>0.059042</td>\n",
              "      <td>0.086189</td>\n",
              "      <td>0.372910</td>\n",
              "      <td>-0.159448</td>\n",
              "    </tr>\n",
              "  </tbody>\n",
              "</table>\n",
              "</div>"
            ],
            "text/plain": [
              "    Annualized Return  Annualized Vol  ...  Sharpe Ratio  Max Drawdown\n",
              "EW           0.051441         0.12464  ...      0.167273     -0.158588\n",
              "CW           0.079618         0.12945  ...      0.372910     -0.159448\n",
              "\n",
              "[2 rows x 8 columns]"
            ]
          },
          "metadata": {
            "tags": []
          },
          "execution_count": 45
        },
        {
          "output_type": "display_data",
          "data": {
            "image/png": "[encoded data removed]",
            "text/plain": [
              "<Figure size 864x432 with 1 Axes>"
            ]
          },
          "metadata": {
            "tags": [],
            "needs_background": "light"
          }
        }
      ]
    }
  ]
}