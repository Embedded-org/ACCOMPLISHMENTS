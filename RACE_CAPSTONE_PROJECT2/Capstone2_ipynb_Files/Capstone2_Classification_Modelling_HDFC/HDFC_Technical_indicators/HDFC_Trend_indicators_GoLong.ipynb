{
  "cells": [
    {
      "cell_type": "code",
      "execution_count": 1,
      "metadata": {
        "id": "rTIpccjOs_VF"
      },
      "outputs": [],
      "source": [
        "#Importing the Libraries\n",
        "import matplotlib. pyplot as plt\n",
        "import matplotlib\n",
        "from sklearn.preprocessing import MinMaxScaler\n",
        "import numpy as np\n",
        "import pandas as pd\n",
        "import sklearn\n",
        "import sklearn.linear_model as lm\n",
        "from sklearn import preprocessing\n",
        "import seaborn as sns\n",
        "from sklearn.model_selection import train_test_split\n",
        "from sklearn import metrics\n",
        "from sklearn.metrics import roc_curve,auc,recall_score,precision_score,accuracy_score,f1_score\n",
        "from sklearn.metrics import confusion_matrix,average_precision_score,recall_score\n",
        "import matplotlib.pyplot as plt\n",
        "%matplotlib inline\n",
        "from IPython.core.interactiveshell import InteractiveShell\n",
        "InteractiveShell.ast_node_interactivity = \"all\""
      ]
    },
    {
      "cell_type": "code",
      "execution_count": 2,
      "metadata": {
        "colab": {
          "base_uri": "https://localhost:8080/",
          "height": 206
        },
        "id": "zgECclAAuO1V",
        "outputId": "c71fa76f-ca3c-46f9-8f34-8437943112cb"
      },
      "outputs": [
        {
          "output_type": "execute_result",
          "data": {
            "text/plain": [
              "         Date  Prev Close   Open    High    Low   Last   Close    VWAP  \\\n",
              "0  2000-01-03      271.75  293.5  293.50  293.5  293.5  293.50  293.50   \n",
              "1  2000-01-04      293.50  317.0  317.00  297.0  304.0  304.05  303.62   \n",
              "2  2000-01-05      304.05  290.0  303.90  285.0  295.0  292.80  294.53   \n",
              "3  2000-01-06      292.80  301.0  314.00  295.0  296.0  296.45  300.14   \n",
              "4  2000-01-07      296.45  290.0  296.35  281.0  287.1  286.55  288.80   \n",
              "\n",
              "   Volume      Turnover  \n",
              "0   22744  6.675364e+11  \n",
              "1  255251  7.749972e+12  \n",
              "2  269087  7.925368e+12  \n",
              "3  305916  9.181669e+12  \n",
              "4  197039  5.690480e+12  "
            ],
            "text/html": [
              "\n",
              "  <div id=\"df-6ff28f92-f2a4-4b1c-8e95-525e9cdde120\">\n",
              "    <div class=\"colab-df-container\">\n",
              "      <div>\n",
              "<style scoped>\n",
              "    .dataframe tbody tr th:only-of-type {\n",
              "        vertical-align: middle;\n",
              "    }\n",
              "\n",
              "    .dataframe tbody tr th {\n",
              "        vertical-align: top;\n",
              "    }\n",
              "\n",
              "    .dataframe thead th {\n",
              "        text-align: right;\n",
              "    }\n",
              "</style>\n",
              "<table border=\"1\" class=\"dataframe\">\n",
              "  <thead>\n",
              "    <tr style=\"text-align: right;\">\n",
              "      <th></th>\n",
              "      <th>Date</th>\n",
              "      <th>Prev Close</th>\n",
              "      <th>Open</th>\n",
              "      <th>High</th>\n",
              "      <th>Low</th>\n",
              "      <th>Last</th>\n",
              "      <th>Close</th>\n",
              "      <th>VWAP</th>\n",
              "      <th>Volume</th>\n",
              "      <th>Turnover</th>\n",
              "    </tr>\n",
              "  </thead>\n",
              "  <tbody>\n",
              "    <tr>\n",
              "      <th>0</th>\n",
              "      <td>2000-01-03</td>\n",
              "      <td>271.75</td>\n",
              "      <td>293.5</td>\n",
              "      <td>293.50</td>\n",
              "      <td>293.5</td>\n",
              "      <td>293.5</td>\n",
              "      <td>293.50</td>\n",
              "      <td>293.50</td>\n",
              "      <td>22744</td>\n",
              "      <td>6.675364e+11</td>\n",
              "    </tr>\n",
              "    <tr>\n",
              "      <th>1</th>\n",
              "      <td>2000-01-04</td>\n",
              "      <td>293.50</td>\n",
              "      <td>317.0</td>\n",
              "      <td>317.00</td>\n",
              "      <td>297.0</td>\n",
              "      <td>304.0</td>\n",
              "      <td>304.05</td>\n",
              "      <td>303.62</td>\n",
              "      <td>255251</td>\n",
              "      <td>7.749972e+12</td>\n",
              "    </tr>\n",
              "    <tr>\n",
              "      <th>2</th>\n",
              "      <td>2000-01-05</td>\n",
              "      <td>304.05</td>\n",
              "      <td>290.0</td>\n",
              "      <td>303.90</td>\n",
              "      <td>285.0</td>\n",
              "      <td>295.0</td>\n",
              "      <td>292.80</td>\n",
              "      <td>294.53</td>\n",
              "      <td>269087</td>\n",
              "      <td>7.925368e+12</td>\n",
              "    </tr>\n",
              "    <tr>\n",
              "      <th>3</th>\n",
              "      <td>2000-01-06</td>\n",
              "      <td>292.80</td>\n",
              "      <td>301.0</td>\n",
              "      <td>314.00</td>\n",
              "      <td>295.0</td>\n",
              "      <td>296.0</td>\n",
              "      <td>296.45</td>\n",
              "      <td>300.14</td>\n",
              "      <td>305916</td>\n",
              "      <td>9.181669e+12</td>\n",
              "    </tr>\n",
              "    <tr>\n",
              "      <th>4</th>\n",
              "      <td>2000-01-07</td>\n",
              "      <td>296.45</td>\n",
              "      <td>290.0</td>\n",
              "      <td>296.35</td>\n",
              "      <td>281.0</td>\n",
              "      <td>287.1</td>\n",
              "      <td>286.55</td>\n",
              "      <td>288.80</td>\n",
              "      <td>197039</td>\n",
              "      <td>5.690480e+12</td>\n",
              "    </tr>\n",
              "  </tbody>\n",
              "</table>\n",
              "</div>\n",
              "      <button class=\"colab-df-convert\" onclick=\"convertToInteractive('df-6ff28f92-f2a4-4b1c-8e95-525e9cdde120')\"\n",
              "              title=\"Convert this dataframe to an interactive table.\"\n",
              "              style=\"display:none;\">\n",
              "        \n",
              "  <svg xmlns=\"http://www.w3.org/2000/svg\" height=\"24px\"viewBox=\"0 0 24 24\"\n",
              "       width=\"24px\">\n",
              "    <path d=\"M0 0h24v24H0V0z\" fill=\"none\"/>\n",
              "    <path d=\"M18.56 5.44l.94 2.06.94-2.06 2.06-.94-2.06-.94-.94-2.06-.94 2.06-2.06.94zm-11 1L8.5 8.5l.94-2.06 2.06-.94-2.06-.94L8.5 2.5l-.94 2.06-2.06.94zm10 10l.94 2.06.94-2.06 2.06-.94-2.06-.94-.94-2.06-.94 2.06-2.06.94z\"/><path d=\"M17.41 7.96l-1.37-1.37c-.4-.4-.92-.59-1.43-.59-.52 0-1.04.2-1.43.59L10.3 9.45l-7.72 7.72c-.78.78-.78 2.05 0 2.83L4 21.41c.39.39.9.59 1.41.59.51 0 1.02-.2 1.41-.59l7.78-7.78 2.81-2.81c.8-.78.8-2.07 0-2.86zM5.41 20L4 18.59l7.72-7.72 1.47 1.35L5.41 20z\"/>\n",
              "  </svg>\n",
              "      </button>\n",
              "      \n",
              "  <style>\n",
              "    .colab-df-container {\n",
              "      display:flex;\n",
              "      flex-wrap:wrap;\n",
              "      gap: 12px;\n",
              "    }\n",
              "\n",
              "    .colab-df-convert {\n",
              "      background-color: #E8F0FE;\n",
              "      border: none;\n",
              "      border-radius: 50%;\n",
              "      cursor: pointer;\n",
              "      display: none;\n",
              "      fill: #1967D2;\n",
              "      height: 32px;\n",
              "      padding: 0 0 0 0;\n",
              "      width: 32px;\n",
              "    }\n",
              "\n",
              "    .colab-df-convert:hover {\n",
              "      background-color: #E2EBFA;\n",
              "      box-shadow: 0px 1px 2px rgba(60, 64, 67, 0.3), 0px 1px 3px 1px rgba(60, 64, 67, 0.15);\n",
              "      fill: #174EA6;\n",
              "    }\n",
              "\n",
              "    [theme=dark] .colab-df-convert {\n",
              "      background-color: #3B4455;\n",
              "      fill: #D2E3FC;\n",
              "    }\n",
              "\n",
              "    [theme=dark] .colab-df-convert:hover {\n",
              "      background-color: #434B5C;\n",
              "      box-shadow: 0px 1px 3px 1px rgba(0, 0, 0, 0.15);\n",
              "      filter: drop-shadow(0px 1px 2px rgba(0, 0, 0, 0.3));\n",
              "      fill: #FFFFFF;\n",
              "    }\n",
              "  </style>\n",
              "\n",
              "      <script>\n",
              "        const buttonEl =\n",
              "          document.querySelector('#df-6ff28f92-f2a4-4b1c-8e95-525e9cdde120 button.colab-df-convert');\n",
              "        buttonEl.style.display =\n",
              "          google.colab.kernel.accessAllowed ? 'block' : 'none';\n",
              "\n",
              "        async function convertToInteractive(key) {\n",
              "          const element = document.querySelector('#df-6ff28f92-f2a4-4b1c-8e95-525e9cdde120');\n",
              "          const dataTable =\n",
              "            await google.colab.kernel.invokeFunction('convertToInteractive',\n",
              "                                                     [key], {});\n",
              "          if (!dataTable) return;\n",
              "\n",
              "          const docLinkHtml = 'Like what you see? Visit the ' +\n",
              "            '<a target=\"_blank\" href=https://colab.research.google.com/notebooks/data_table.ipynb>data table notebook</a>'\n",
              "            + ' to learn more about interactive tables.';\n",
              "          element.innerHTML = '';\n",
              "          dataTable['output_type'] = 'display_data';\n",
              "          await google.colab.output.renderOutput(dataTable, element);\n",
              "          const docLink = document.createElement('div');\n",
              "          docLink.innerHTML = docLinkHtml;\n",
              "          element.appendChild(docLink);\n",
              "        }\n",
              "      </script>\n",
              "    </div>\n",
              "  </div>\n",
              "  "
            ]
          },
          "metadata": {},
          "execution_count": 2
        }
      ],
      "source": [
        "all_data = pd.read_csv(\"HDFCBANK.csv\")\n",
        "#all_data=all_data.drop(['Date','Trades','Deliverable Volume','%Deliverble','Symbol','Series'],axis=1)\n",
        "df=all_data.drop(['Trades','Deliverable Volume','%Deliverble','Symbol','Series'],axis=1)\n",
        "df.head()"
      ]
    },
    {
      "cell_type": "code",
      "execution_count": 3,
      "metadata": {
        "id": "eKyspQnPfHzg"
      },
      "outputs": [],
      "source": [
        "#!pip install nsepy"
      ]
    },
    {
      "cell_type": "code",
      "execution_count": 4,
      "metadata": {
        "id": "DopSYORXe_hD",
        "colab": {
          "base_uri": "https://localhost:8080/",
          "height": 53
        },
        "outputId": "4f70d7c7-1ab3-4110-be82-2fd2702a3412"
      },
      "outputs": [
        {
          "output_type": "execute_result",
          "data": {
            "text/plain": [
              "\"\\nfrom datetime import date\\nfrom nsepy import get_history\\nimport numpy as np\\nimport pandas as pd\\nimport pickle\\n\\nplt.style.use('fivethirtyeight')\\nplt.rcParams['figure.figsize'] = (20, 10)\\n\""
            ],
            "application/vnd.google.colaboratory.intrinsic+json": {
              "type": "string"
            }
          },
          "metadata": {},
          "execution_count": 4
        }
      ],
      "source": [
        "\n",
        "'''\n",
        "from datetime import date\n",
        "from nsepy import get_history\n",
        "import numpy as np\n",
        "import pandas as pd\n",
        "import pickle\n",
        "\n",
        "plt.style.use('fivethirtyeight')\n",
        "plt.rcParams['figure.figsize'] = (20, 10)\n",
        "'''"
      ]
    },
    {
      "cell_type": "code",
      "execution_count": 5,
      "metadata": {
        "colab": {
          "base_uri": "https://localhost:8080/",
          "height": 53
        },
        "id": "LCdasd7nqt2Y",
        "outputId": "019e8314-ea84-4e02-992b-0dfc8d580520"
      },
      "outputs": [
        {
          "output_type": "execute_result",
          "data": {
            "text/plain": [
              "'\\nsymbol = \"HDFC\"\\nstart = date(2000, 1, 3)\\nend = date(2022, 5, 30)\\ndata = get_history(symbol=symbol, start=start, end=end)\\ndata\\ndata.to_csv(\\'HDFCBANK.csv\\')\\n'"
            ],
            "application/vnd.google.colaboratory.intrinsic+json": {
              "type": "string"
            }
          },
          "metadata": {},
          "execution_count": 5
        }
      ],
      "source": [
        "'''\n",
        "symbol = \"HDFC\"\n",
        "start = date(2000, 1, 3)\n",
        "end = date(2022, 5, 30)\n",
        "data = get_history(symbol=symbol, start=start, end=end)\n",
        "data\n",
        "data.to_csv('HDFCBANK.csv')\n",
        "'''"
      ]
    },
    {
      "cell_type": "code",
      "execution_count": 6,
      "metadata": {
        "colab": {
          "base_uri": "https://localhost:8080/",
          "height": 87
        },
        "id": "gLyb2T96rIf8",
        "outputId": "a74c9a4f-9adb-4853-8429-a83dea2dcccb"
      },
      "outputs": [
        {
          "output_type": "execute_result",
          "data": {
            "text/plain": [
              "'\\nwith open(\\'SBIN.pickle\\', \\'wb\\') as f:\\n    pickle.dump(data, f)\\n\\nsymbol = \"SBIN\"\\nstart = date(2022, 6, 1)\\nend = date(2022, 6, 1)\\ndata = get_history(symbol=symbol, start=start, end=end)\\nwith open(\\'SBIN.pickle\\', \\'rb\\') as f:\\n    old_data = pickle.load(f)\\nnew_data = pd.concat([old_data, data])\\nwith open(\\'SBIN.pickle\\', \\'wb\\') as f:\\n    pickle.dump(new_data, f)\\n\\nnew_data.head()\\ndata.head()\\n\\n'"
            ],
            "application/vnd.google.colaboratory.intrinsic+json": {
              "type": "string"
            }
          },
          "metadata": {},
          "execution_count": 6
        }
      ],
      "source": [
        "'''\n",
        "with open('SBIN.pickle', 'wb') as f:\n",
        "    pickle.dump(data, f)\n",
        "\n",
        "symbol = \"SBIN\"\n",
        "start = date(2022, 6, 1)\n",
        "end = date(2022, 6, 1)\n",
        "data = get_history(symbol=symbol, start=start, end=end)\n",
        "with open('SBIN.pickle', 'rb') as f:\n",
        "    old_data = pickle.load(f)\n",
        "new_data = pd.concat([old_data, data])\n",
        "with open('SBIN.pickle', 'wb') as f:\n",
        "    pickle.dump(new_data, f)\n",
        "\n",
        "new_data.head()\n",
        "data.head()\n",
        "\n",
        "'''"
      ]
    },
    {
      "cell_type": "code",
      "source": [
        "df['Volume'] = df['Volume'].shift(1)\n",
        "Close_list = df['Close'].tolist()\n",
        "df['SMA_3'] = df['Close'].rolling(3, min_periods=1).mean()\n",
        "df['SMA_7'] = df['Close'].rolling(7, min_periods=1).mean()\n",
        "df['SMA_13'] = df['Close'].rolling(13, min_periods=1).mean()\n",
        "df['SMA_20'] = df['Close'].rolling(20, min_periods=1).mean()\n",
        "df['EMA_3'] = df['Close'].ewm(span=3, adjust=False).mean()\n",
        "df['EMA_7'] = df['Close'].ewm(span=7, adjust=False).mean()\n",
        "df['EMA_13'] = df['Close'].ewm(span=13, adjust=False).mean()\n",
        "df['EMA_20'] = df['Close'].ewm(span=20, adjust=False).mean()\n",
        "total=len(Close_list);\n",
        "print(\"total is\",total)\n",
        "df.dropna(inplace=True)"
      ],
      "metadata": {
        "id": "G0aWbJnM1c1i",
        "colab": {
          "base_uri": "https://localhost:8080/"
        },
        "outputId": "ac682eaa-2004-4fb8-8bf3-1280f082870b"
      },
      "execution_count": 7,
      "outputs": [
        {
          "output_type": "stream",
          "name": "stdout",
          "text": [
            "total is 5577\n"
          ]
        }
      ]
    },
    {
      "cell_type": "markdown",
      "source": [
        "#The close values of HDFCBANK stock equity"
      ],
      "metadata": {
        "id": "tTS_K_ZBYoIi"
      }
    },
    {
      "cell_type": "code",
      "source": [
        "import matplotlib.pyplot as plt\n",
        "# plot lines\n",
        "plt.figure(figsize=(12, 6))\n",
        "plt.title('The close values of HDFCBANK stock equity', fontsize=20)\n",
        "plt.xlabel('Year', fontsize=16)\n",
        "plt.ylabel('close values', fontsize=16)\n",
        "plt.plot(df.index,df['Close'], color='green',linewidth=1.5)\n",
        "plt.legend(labels =['close values'], fontsize=14)\n",
        "plt.show()"
      ],
      "metadata": {
        "colab": {
          "base_uri": "https://localhost:8080/",
          "height": 449
        },
        "id": "iDj42r9AWp-W",
        "outputId": "0dabb327-2cf4-49c5-f19f-4485686976b4"
      },
      "execution_count": 8,
      "outputs": [
        {
          "output_type": "execute_result",
          "data": {
            "text/plain": [
              "<Figure size 864x432 with 0 Axes>"
            ]
          },
          "metadata": {},
          "execution_count": 8
        },
        {
          "output_type": "execute_result",
          "data": {
            "text/plain": [
              "Text(0.5, 1.0, 'The close values of HDFCBANK stock equity')"
            ]
          },
          "metadata": {},
          "execution_count": 8
        },
        {
          "output_type": "execute_result",
          "data": {
            "text/plain": [
              "Text(0.5, 0, 'Year')"
            ]
          },
          "metadata": {},
          "execution_count": 8
        },
        {
          "output_type": "execute_result",
          "data": {
            "text/plain": [
              "Text(0, 0.5, 'close values')"
            ]
          },
          "metadata": {},
          "execution_count": 8
        },
        {
          "output_type": "execute_result",
          "data": {
            "text/plain": [
              "[<matplotlib.lines.Line2D at 0x7f40d403a3d0>]"
            ]
          },
          "metadata": {},
          "execution_count": 8
        },
        {
          "output_type": "execute_result",
          "data": {
            "text/plain": [
              "<matplotlib.legend.Legend at 0x7f40d4094d60>"
            ]
          },
          "metadata": {},
          "execution_count": 8
        },
        {
          "output_type": "display_data",
          "data": {
            "text/plain": [
              "<Figure size 864x432 with 1 Axes>"
            ],
            "image/png": "[encoded data removed]"
          },
          "metadata": {
            "needs_background": "light"
          }
        }
      ]
    },
    {
      "cell_type": "code",
      "source": [
        "j=0\n",
        "j=0\n",
        "D1=[]\n",
        "D2=[]\n",
        "D3=[]\n",
        "D4=[]\n",
        "D5=[]\n",
        "D6=[]\n",
        "D7=[]\n",
        "D8=[]\n",
        "D9=[]\n",
        "D10=[]\n",
        "D11=[]\n",
        "D12=[]\n",
        "D13=[]\n",
        "D14=[]\n",
        "D15=[]\n",
        "D16=[]\n",
        "D17=[]\n",
        "D18=[]\n",
        "D19=[]\n",
        "D20=[]\n",
        "D21=[]\n",
        "D22=[]\n",
        "D23=[]\n",
        "D24=[]\n",
        "D25=[]\n",
        "D26=[]\n",
        "D27=[]\n",
        "D28=[]\n",
        "D29=[]\n",
        "D30=[]\n",
        "for i in range(0,total):\n",
        "  D1.append(Close_list[j])\n",
        "  D2.append(Close_list[j+1])\n",
        "  D3.append(Close_list[j+2])\n",
        "  D4.append(Close_list[j+3])\n",
        "  D5.append(Close_list[j+4])\n",
        "  D6.append(Close_list[j+5])\n",
        "  D7.append(Close_list[j+6])\n",
        "  D8.append(Close_list[j+7])\n",
        "  D9.append(Close_list[j+8])\n",
        "  D10.append(Close_list[j+9])\n",
        "  D11.append(Close_list[j+10])\n",
        "  D12.append(Close_list[j+11])\n",
        "  D13.append(Close_list[j+12])\n",
        "  D14.append(Close_list[j+13])\n",
        "  D15.append(Close_list[j+14])\n",
        "  D16.append(Close_list[j+15])\n",
        "  D17.append(Close_list[j+16])\n",
        "  D18.append(Close_list[j+17])\n",
        "  D19.append(Close_list[j+18])\n",
        "  D20.append(Close_list[j+19])\n",
        "  D21.append(Close_list[j+20])\n",
        "  D22.append(Close_list[j+21])\n",
        "  D23.append(Close_list[j+22])\n",
        "  D24.append(Close_list[j+23])\n",
        "  D25.append(Close_list[j+24])\n",
        "  D26.append(Close_list[j+25])\n",
        "  D27.append(Close_list[j+26])\n",
        "  D28.append(Close_list[j+27])\n",
        "  D29.append(Close_list[j+28])\n",
        "  D30.append(Close_list[j+29])\n",
        "  j=j+1;\n",
        "  if(j==total-30):\n",
        "    break"
      ],
      "metadata": {
        "id": "RWjM1Zj15tkJ"
      },
      "execution_count": 9,
      "outputs": []
    },
    {
      "cell_type": "code",
      "source": [
        "df1=pd.DataFrame(D1)\n",
        "df2=pd.DataFrame(D2)\n",
        "df3=pd.DataFrame(D3)\n",
        "df4=pd.DataFrame(D4)\n",
        "df5=pd.DataFrame(D5)\n",
        "df6=pd.DataFrame(D6)\n",
        "df7=pd.DataFrame(D7)\n",
        "df8=pd.DataFrame(D8)\n",
        "df9=pd.DataFrame(D9)\n",
        "df10=pd.DataFrame(D10)\n",
        "df11=pd.DataFrame(D11)\n",
        "df12=pd.DataFrame(D12)\n",
        "df13=pd.DataFrame(D13)\n",
        "df14=pd.DataFrame(D14)\n",
        "df15=pd.DataFrame(D15)\n",
        "df16=pd.DataFrame(D16)\n",
        "df17=pd.DataFrame(D17)\n",
        "df18=pd.DataFrame(D18)\n",
        "df19=pd.DataFrame(D19)\n",
        "df20=pd.DataFrame(D20)\n",
        "df21=pd.DataFrame(D21)\n",
        "df22=pd.DataFrame(D22)\n",
        "df23=pd.DataFrame(D23)\n",
        "df24=pd.DataFrame(D24)\n",
        "df25=pd.DataFrame(D25)\n",
        "df26=pd.DataFrame(D26)\n",
        "df27=pd.DataFrame(D27)\n",
        "df28=pd.DataFrame(D28)\n",
        "df29=pd.DataFrame(D29)\n",
        "df30=pd.DataFrame(D30)\n",
        "dfalldays=pd.DataFrame()\n",
        "dfalldays['D1']=df1\n",
        "dfalldays['D2']=df2\n",
        "dfalldays['D3']=df3\n",
        "dfalldays['D4']=df4\n",
        "dfalldays['D5']=df5\n",
        "dfalldays['D6']=df6\n",
        "dfalldays['D7']=df7\n",
        "dfalldays['D8']=df8\n",
        "dfalldays['D9']=df9\n",
        "dfalldays['D10']=df10\n",
        "dfalldays['D11']=df11\n",
        "dfalldays['D12']=df12\n",
        "dfalldays['D13']=df13\n",
        "dfalldays['D14']=df14\n",
        "dfalldays['D15']=df15\n",
        "dfalldays['D16']=df16\n",
        "dfalldays['D17']=df17\n",
        "dfalldays['D18']=df18\n",
        "dfalldays['D19']=df19\n",
        "dfalldays['D20']=df20\n",
        "dfalldays['D21']=df21\n",
        "dfalldays['D22']=df22\n",
        "dfalldays['D23']=df23\n",
        "dfalldays['D24']=df24\n",
        "dfalldays['D25']=df25\n",
        "dfalldays['D26']=df26\n",
        "dfalldays['D27']=df27\n",
        "dfalldays['D28']=df28\n",
        "dfalldays['D29']=df29\n",
        "dfalldays['D30']=df30"
      ],
      "metadata": {
        "id": "5kWPb2G47oWA"
      },
      "execution_count": 10,
      "outputs": []
    },
    {
      "cell_type": "code",
      "execution_count": 11,
      "metadata": {
        "id": "EvkmdkNA577M"
      },
      "outputs": [],
      "source": [
        "DIFF=[]\n",
        "PERCDIFF=[]\n",
        "TARGET=[]\n",
        "counter=0\n",
        "for i in range(0,total):\n",
        "  #print(\"i is\",i)\n",
        "  diff=Close_list[i]-Close_list[i-1]\n",
        "  DIFF.append(diff)\n",
        "  percdiff=(diff*100)/Close_list[i]\n",
        "  PERCDIFF.append(percdiff)\n",
        "  if(percdiff>0.5):\n",
        "    TARGET.append('pos')\n",
        "  else:\n",
        "    TARGET.append('notpos')"
      ]
    },
    {
      "cell_type": "code",
      "source": [
        "df1=pd.DataFrame(DIFF)\n",
        "df2=pd.DataFrame(PERCDIFF)\n",
        "df3=pd.DataFrame(TARGET)\n",
        "df['DIFF']=df1\n",
        "df['PERCDIFF']=df2\n",
        "df['TARGET']=df3\n",
        "df=df[1:]"
      ],
      "metadata": {
        "id": "yT7_ZgYhCr_r"
      },
      "execution_count": 12,
      "outputs": []
    },
    {
      "cell_type": "code",
      "source": [
        "df0=df\n",
        "df0['TARGET']= np.where(df0['TARGET']=='pos','1',(np.where(df0['TARGET']=='neg','-1','0')))\n",
        "#df0.head()\n",
        "df0.groupby('TARGET').size()"
      ],
      "metadata": {
        "colab": {
          "base_uri": "https://localhost:8080/"
        },
        "outputId": "75a79c88-eec9-4939-8a9f-02c47d485e1d",
        "id": "ekJruVQBHZ8L"
      },
      "execution_count": 13,
      "outputs": [
        {
          "output_type": "execute_result",
          "data": {
            "text/plain": [
              "TARGET\n",
              "0    3435\n",
              "1    2140\n",
              "dtype: int64"
            ]
          },
          "metadata": {},
          "execution_count": 13
        }
      ]
    },
    {
      "cell_type": "markdown",
      "source": [
        "#Explore the class distribution"
      ],
      "metadata": {
        "id": "qVWaypsm0tL0"
      }
    },
    {
      "cell_type": "code",
      "execution_count": 14,
      "metadata": {
        "colab": {
          "base_uri": "https://localhost:8080/",
          "height": 384
        },
        "id": "DoM6-z2FdU4P",
        "outputId": "aebc50f6-5d79-4f12-f0a2-e1097314958f"
      },
      "outputs": [
        {
          "output_type": "stream",
          "name": "stderr",
          "text": [
            "/usr/local/lib/python3.9/dist-packages/seaborn/_decorators.py:36: FutureWarning: Pass the following variable as a keyword arg: x. From version 0.12, the only valid positional argument will be `data`, and passing other arguments without an explicit keyword will result in an error or misinterpretation.\n",
            "  warnings.warn(\n"
          ]
        },
        {
          "output_type": "execute_result",
          "data": {
            "text/plain": [
              "<AxesSubplot:xlabel='TARGET', ylabel='count'>"
            ]
          },
          "metadata": {},
          "execution_count": 14
        },
        {
          "output_type": "execute_result",
          "data": {
            "text/plain": [
              "Text(0.5, 0, 'TARGET')"
            ]
          },
          "metadata": {},
          "execution_count": 14
        },
        {
          "output_type": "execute_result",
          "data": {
            "text/plain": [
              "Text(0.5, 1.0, 'Number of positive negative and neutral messages')"
            ]
          },
          "metadata": {},
          "execution_count": 14
        },
        {
          "output_type": "display_data",
          "data": {
            "text/plain": [
              "<Figure size 432x288 with 1 Axes>"
            ],
            "image/png": "[encoded data removed]"
          },
          "metadata": {
            "needs_background": "light"
          }
        }
      ],
      "source": [
        "sns.countplot(df0['TARGET'])\n",
        "plt.xlabel('TARGET')\n",
        "plt.title('Number of positive negative and neutral messages')"
      ]
    },
    {
      "cell_type": "code",
      "source": [
        "#DUMMY CODING USING THE LOOP STRUCTURE\n",
        "for col in df.columns:\n",
        "  if df[col].dtype=='object':\n",
        "    df[col]=pd.Categorical(df[col]).codes\n",
        "df.head(5)"
      ],
      "metadata": {
        "colab": {
          "base_uri": "https://localhost:8080/",
          "height": 317
        },
        "id": "wCnI0v6sDOFw",
        "outputId": "6e0a7e51-8dbf-4dcf-c637-94757d0b5478"
      },
      "execution_count": 15,
      "outputs": [
        {
          "output_type": "execute_result",
          "data": {
            "text/plain": [
              "   Date  Prev Close   Open    High     Low    Last   Close    VWAP    Volume  \\\n",
              "2     0      304.05  290.0  303.90  285.00  295.00  292.80  294.53  255251.0   \n",
              "3     1      292.80  301.0  314.00  295.00  296.00  296.45  300.14  269087.0   \n",
              "4     2      296.45  290.0  296.35  281.00  287.10  286.55  288.80  305916.0   \n",
              "5     3      286.55  292.0  296.00  285.00  288.40  287.20  289.42  197039.0   \n",
              "6     4      287.20  290.0  292.00  273.25  282.85  283.85  284.54  133363.0   \n",
              "\n",
              "       Turnover  ...       SMA_7      SMA_13      SMA_20       EMA_3  \\\n",
              "2  7.925368e+12  ...  296.783333  296.783333  296.783333  295.787500   \n",
              "3  9.181669e+12  ...  296.700000  296.700000  296.700000  296.118750   \n",
              "4  5.690480e+12  ...  294.670000  294.670000  294.670000  291.334375   \n",
              "5  3.859779e+12  ...  293.425000  293.425000  293.425000  289.267187   \n",
              "6  9.600617e+12  ...  292.057143  292.057143  292.057143  286.558594   \n",
              "\n",
              "        EMA_7      EMA_13      EMA_20   DIFF  PERCDIFF  TARGET  \n",
              "2  295.303125  294.691837  294.342404 -11.25 -3.842213       0  \n",
              "3  295.589844  294.943003  294.543127   3.65  1.231236       1  \n",
              "4  293.329883  293.744002  293.781877  -9.90 -3.454894       0  \n",
              "5  291.797412  292.809145  293.155031   0.65  0.226323       0  \n",
              "6  289.810559  291.529267  292.268838  -3.35 -1.180201       0  \n",
              "\n",
              "[5 rows x 21 columns]"
            ],
            "text/html": [
              "\n",
              "  <div id=\"df-f2386291-6ca1-49f3-8359-73b34972080e\">\n",
              "    <div class=\"colab-df-container\">\n",
              "      <div>\n",
              "<style scoped>\n",
              "    .dataframe tbody tr th:only-of-type {\n",
              "        vertical-align: middle;\n",
              "    }\n",
              "\n",
              "    .dataframe tbody tr th {\n",
              "        vertical-align: top;\n",
              "    }\n",
              "\n",
              "    .dataframe thead th {\n",
              "        text-align: right;\n",
              "    }\n",
              "</style>\n",
              "<table border=\"1\" class=\"dataframe\">\n",
              "  <thead>\n",
              "    <tr style=\"text-align: right;\">\n",
              "      <th></th>\n",
              "      <th>Date</th>\n",
              "      <th>Prev Close</th>\n",
              "      <th>Open</th>\n",
              "      <th>High</th>\n",
              "      <th>Low</th>\n",
              "      <th>Last</th>\n",
              "      <th>Close</th>\n",
              "      <th>VWAP</th>\n",
              "      <th>Volume</th>\n",
              "      <th>Turnover</th>\n",
              "      <th>...</th>\n",
              "      <th>SMA_7</th>\n",
              "      <th>SMA_13</th>\n",
              "      <th>SMA_20</th>\n",
              "      <th>EMA_3</th>\n",
              "      <th>EMA_7</th>\n",
              "      <th>EMA_13</th>\n",
              "      <th>EMA_20</th>\n",
              "      <th>DIFF</th>\n",
              "      <th>PERCDIFF</th>\n",
              "      <th>TARGET</th>\n",
              "    </tr>\n",
              "  </thead>\n",
              "  <tbody>\n",
              "    <tr>\n",
              "      <th>2</th>\n",
              "      <td>0</td>\n",
              "      <td>304.05</td>\n",
              "      <td>290.0</td>\n",
              "      <td>303.90</td>\n",
              "      <td>285.00</td>\n",
              "      <td>295.00</td>\n",
              "      <td>292.80</td>\n",
              "      <td>294.53</td>\n",
              "      <td>255251.0</td>\n",
              "      <td>7.925368e+12</td>\n",
              "      <td>...</td>\n",
              "      <td>296.783333</td>\n",
              "      <td>296.783333</td>\n",
              "      <td>296.783333</td>\n",
              "      <td>295.787500</td>\n",
              "      <td>295.303125</td>\n",
              "      <td>294.691837</td>\n",
              "      <td>294.342404</td>\n",
              "      <td>-11.25</td>\n",
              "      <td>-3.842213</td>\n",
              "      <td>0</td>\n",
              "    </tr>\n",
              "    <tr>\n",
              "      <th>3</th>\n",
              "      <td>1</td>\n",
              "      <td>292.80</td>\n",
              "      <td>301.0</td>\n",
              "      <td>314.00</td>\n",
              "      <td>295.00</td>\n",
              "      <td>296.00</td>\n",
              "      <td>296.45</td>\n",
              "      <td>300.14</td>\n",
              "      <td>269087.0</td>\n",
              "      <td>9.181669e+12</td>\n",
              "      <td>...</td>\n",
              "      <td>296.700000</td>\n",
              "      <td>296.700000</td>\n",
              "      <td>296.700000</td>\n",
              "      <td>296.118750</td>\n",
              "      <td>295.589844</td>\n",
              "      <td>294.943003</td>\n",
              "      <td>294.543127</td>\n",
              "      <td>3.65</td>\n",
              "      <td>1.231236</td>\n",
              "      <td>1</td>\n",
              "    </tr>\n",
              "    <tr>\n",
              "      <th>4</th>\n",
              "      <td>2</td>\n",
              "      <td>296.45</td>\n",
              "      <td>290.0</td>\n",
              "      <td>296.35</td>\n",
              "      <td>281.00</td>\n",
              "      <td>287.10</td>\n",
              "      <td>286.55</td>\n",
              "      <td>288.80</td>\n",
              "      <td>305916.0</td>\n",
              "      <td>5.690480e+12</td>\n",
              "      <td>...</td>\n",
              "      <td>294.670000</td>\n",
              "      <td>294.670000</td>\n",
              "      <td>294.670000</td>\n",
              "      <td>291.334375</td>\n",
              "      <td>293.329883</td>\n",
              "      <td>293.744002</td>\n",
              "      <td>293.781877</td>\n",
              "      <td>-9.90</td>\n",
              "      <td>-3.454894</td>\n",
              "      <td>0</td>\n",
              "    </tr>\n",
              "    <tr>\n",
              "      <th>5</th>\n",
              "      <td>3</td>\n",
              "      <td>286.55</td>\n",
              "      <td>292.0</td>\n",
              "      <td>296.00</td>\n",
              "      <td>285.00</td>\n",
              "      <td>288.40</td>\n",
              "      <td>287.20</td>\n",
              "      <td>289.42</td>\n",
              "      <td>197039.0</td>\n",
              "      <td>3.859779e+12</td>\n",
              "      <td>...</td>\n",
              "      <td>293.425000</td>\n",
              "      <td>293.425000</td>\n",
              "      <td>293.425000</td>\n",
              "      <td>289.267187</td>\n",
              "      <td>291.797412</td>\n",
              "      <td>292.809145</td>\n",
              "      <td>293.155031</td>\n",
              "      <td>0.65</td>\n",
              "      <td>0.226323</td>\n",
              "      <td>0</td>\n",
              "    </tr>\n",
              "    <tr>\n",
              "      <th>6</th>\n",
              "      <td>4</td>\n",
              "      <td>287.20</td>\n",
              "      <td>290.0</td>\n",
              "      <td>292.00</td>\n",
              "      <td>273.25</td>\n",
              "      <td>282.85</td>\n",
              "      <td>283.85</td>\n",
              "      <td>284.54</td>\n",
              "      <td>133363.0</td>\n",
              "      <td>9.600617e+12</td>\n",
              "      <td>...</td>\n",
              "      <td>292.057143</td>\n",
              "      <td>292.057143</td>\n",
              "      <td>292.057143</td>\n",
              "      <td>286.558594</td>\n",
              "      <td>289.810559</td>\n",
              "      <td>291.529267</td>\n",
              "      <td>292.268838</td>\n",
              "      <td>-3.35</td>\n",
              "      <td>-1.180201</td>\n",
              "      <td>0</td>\n",
              "    </tr>\n",
              "  </tbody>\n",
              "</table>\n",
              "<p>5 rows × 21 columns</p>\n",
              "</div>\n",
              "      <button class=\"colab-df-convert\" onclick=\"convertToInteractive('df-f2386291-6ca1-49f3-8359-73b34972080e')\"\n",
              "              title=\"Convert this dataframe to an interactive table.\"\n",
              "              style=\"display:none;\">\n",
              "        \n",
              "  <svg xmlns=\"http://www.w3.org/2000/svg\" height=\"24px\"viewBox=\"0 0 24 24\"\n",
              "       width=\"24px\">\n",
              "    <path d=\"M0 0h24v24H0V0z\" fill=\"none\"/>\n",
              "    <path d=\"M18.56 5.44l.94 2.06.94-2.06 2.06-.94-2.06-.94-.94-2.06-.94 2.06-2.06.94zm-11 1L8.5 8.5l.94-2.06 2.06-.94-2.06-.94L8.5 2.5l-.94 2.06-2.06.94zm10 10l.94 2.06.94-2.06 2.06-.94-2.06-.94-.94-2.06-.94 2.06-2.06.94z\"/><path d=\"M17.41 7.96l-1.37-1.37c-.4-.4-.92-.59-1.43-.59-.52 0-1.04.2-1.43.59L10.3 9.45l-7.72 7.72c-.78.78-.78 2.05 0 2.83L4 21.41c.39.39.9.59 1.41.59.51 0 1.02-.2 1.41-.59l7.78-7.78 2.81-2.81c.8-.78.8-2.07 0-2.86zM5.41 20L4 18.59l7.72-7.72 1.47 1.35L5.41 20z\"/>\n",
              "  </svg>\n",
              "      </button>\n",
              "      \n",
              "  <style>\n",
              "    .colab-df-container {\n",
              "      display:flex;\n",
              "      flex-wrap:wrap;\n",
              "      gap: 12px;\n",
              "    }\n",
              "\n",
              "    .colab-df-convert {\n",
              "      background-color: #E8F0FE;\n",
              "      border: none;\n",
              "      border-radius: 50%;\n",
              "      cursor: pointer;\n",
              "      display: none;\n",
              "      fill: #1967D2;\n",
              "      height: 32px;\n",
              "      padding: 0 0 0 0;\n",
              "      width: 32px;\n",
              "    }\n",
              "\n",
              "    .colab-df-convert:hover {\n",
              "      background-color: #E2EBFA;\n",
              "      box-shadow: 0px 1px 2px rgba(60, 64, 67, 0.3), 0px 1px 3px 1px rgba(60, 64, 67, 0.15);\n",
              "      fill: #174EA6;\n",
              "    }\n",
              "\n",
              "    [theme=dark] .colab-df-convert {\n",
              "      background-color: #3B4455;\n",
              "      fill: #D2E3FC;\n",
              "    }\n",
              "\n",
              "    [theme=dark] .colab-df-convert:hover {\n",
              "      background-color: #434B5C;\n",
              "      box-shadow: 0px 1px 3px 1px rgba(0, 0, 0, 0.15);\n",
              "      filter: drop-shadow(0px 1px 2px rgba(0, 0, 0, 0.3));\n",
              "      fill: #FFFFFF;\n",
              "    }\n",
              "  </style>\n",
              "\n",
              "      <script>\n",
              "        const buttonEl =\n",
              "          document.querySelector('#df-f2386291-6ca1-49f3-8359-73b34972080e button.colab-df-convert');\n",
              "        buttonEl.style.display =\n",
              "          google.colab.kernel.accessAllowed ? 'block' : 'none';\n",
              "\n",
              "        async function convertToInteractive(key) {\n",
              "          const element = document.querySelector('#df-f2386291-6ca1-49f3-8359-73b34972080e');\n",
              "          const dataTable =\n",
              "            await google.colab.kernel.invokeFunction('convertToInteractive',\n",
              "                                                     [key], {});\n",
              "          if (!dataTable) return;\n",
              "\n",
              "          const docLinkHtml = 'Like what you see? Visit the ' +\n",
              "            '<a target=\"_blank\" href=https://colab.research.google.com/notebooks/data_table.ipynb>data table notebook</a>'\n",
              "            + ' to learn more about interactive tables.';\n",
              "          element.innerHTML = '';\n",
              "          dataTable['output_type'] = 'display_data';\n",
              "          await google.colab.output.renderOutput(dataTable, element);\n",
              "          const docLink = document.createElement('div');\n",
              "          docLink.innerHTML = docLinkHtml;\n",
              "          element.appendChild(docLink);\n",
              "        }\n",
              "      </script>\n",
              "    </div>\n",
              "  </div>\n",
              "  "
            ]
          },
          "metadata": {},
          "execution_count": 15
        }
      ]
    },
    {
      "cell_type": "code",
      "source": [
        "features = ['Open','High','Low','Volume','Close']\n",
        "df.dropna(inplace=True)\n",
        "output_var = df['TARGET']\n",
        "df[features].info()\n",
        "df[features].head()"
      ],
      "metadata": {
        "colab": {
          "base_uri": "https://localhost:8080/",
          "height": 414
        },
        "id": "x9qLUQN22ux5",
        "outputId": "c16e5d33-0d3f-4c10-9cf3-589e6797b7e7"
      },
      "execution_count": 16,
      "outputs": [
        {
          "output_type": "stream",
          "name": "stdout",
          "text": [
            "<class 'pandas.core.frame.DataFrame'>\n",
            "Int64Index: 5575 entries, 2 to 5576\n",
            "Data columns (total 5 columns):\n",
            " #   Column  Non-Null Count  Dtype  \n",
            "---  ------  --------------  -----  \n",
            " 0   Open    5575 non-null   float64\n",
            " 1   High    5575 non-null   float64\n",
            " 2   Low     5575 non-null   float64\n",
            " 3   Volume  5575 non-null   float64\n",
            " 4   Close   5575 non-null   float64\n",
            "dtypes: float64(5)\n",
            "memory usage: 261.3 KB\n"
          ]
        },
        {
          "output_type": "execute_result",
          "data": {
            "text/plain": [
              "    Open    High     Low    Volume   Close\n",
              "2  290.0  303.90  285.00  255251.0  292.80\n",
              "3  301.0  314.00  295.00  269087.0  296.45\n",
              "4  290.0  296.35  281.00  305916.0  286.55\n",
              "5  292.0  296.00  285.00  197039.0  287.20\n",
              "6  290.0  292.00  273.25  133363.0  283.85"
            ],
            "text/html": [
              "\n",
              "  <div id=\"df-69ff4a30-7077-432a-9c8e-aa01eb28a76a\">\n",
              "    <div class=\"colab-df-container\">\n",
              "      <div>\n",
              "<style scoped>\n",
              "    .dataframe tbody tr th:only-of-type {\n",
              "        vertical-align: middle;\n",
              "    }\n",
              "\n",
              "    .dataframe tbody tr th {\n",
              "        vertical-align: top;\n",
              "    }\n",
              "\n",
              "    .dataframe thead th {\n",
              "        text-align: right;\n",
              "    }\n",
              "</style>\n",
              "<table border=\"1\" class=\"dataframe\">\n",
              "  <thead>\n",
              "    <tr style=\"text-align: right;\">\n",
              "      <th></th>\n",
              "      <th>Open</th>\n",
              "      <th>High</th>\n",
              "      <th>Low</th>\n",
              "      <th>Volume</th>\n",
              "      <th>Close</th>\n",
              "    </tr>\n",
              "  </thead>\n",
              "  <tbody>\n",
              "    <tr>\n",
              "      <th>2</th>\n",
              "      <td>290.0</td>\n",
              "      <td>303.90</td>\n",
              "      <td>285.00</td>\n",
              "      <td>255251.0</td>\n",
              "      <td>292.80</td>\n",
              "    </tr>\n",
              "    <tr>\n",
              "      <th>3</th>\n",
              "      <td>301.0</td>\n",
              "      <td>314.00</td>\n",
              "      <td>295.00</td>\n",
              "      <td>269087.0</td>\n",
              "      <td>296.45</td>\n",
              "    </tr>\n",
              "    <tr>\n",
              "      <th>4</th>\n",
              "      <td>290.0</td>\n",
              "      <td>296.35</td>\n",
              "      <td>281.00</td>\n",
              "      <td>305916.0</td>\n",
              "      <td>286.55</td>\n",
              "    </tr>\n",
              "    <tr>\n",
              "      <th>5</th>\n",
              "      <td>292.0</td>\n",
              "      <td>296.00</td>\n",
              "      <td>285.00</td>\n",
              "      <td>197039.0</td>\n",
              "      <td>287.20</td>\n",
              "    </tr>\n",
              "    <tr>\n",
              "      <th>6</th>\n",
              "      <td>290.0</td>\n",
              "      <td>292.00</td>\n",
              "      <td>273.25</td>\n",
              "      <td>133363.0</td>\n",
              "      <td>283.85</td>\n",
              "    </tr>\n",
              "  </tbody>\n",
              "</table>\n",
              "</div>\n",
              "      <button class=\"colab-df-convert\" onclick=\"convertToInteractive('df-69ff4a30-7077-432a-9c8e-aa01eb28a76a')\"\n",
              "              title=\"Convert this dataframe to an interactive table.\"\n",
              "              style=\"display:none;\">\n",
              "        \n",
              "  <svg xmlns=\"http://www.w3.org/2000/svg\" height=\"24px\"viewBox=\"0 0 24 24\"\n",
              "       width=\"24px\">\n",
              "    <path d=\"M0 0h24v24H0V0z\" fill=\"none\"/>\n",
              "    <path d=\"M18.56 5.44l.94 2.06.94-2.06 2.06-.94-2.06-.94-.94-2.06-.94 2.06-2.06.94zm-11 1L8.5 8.5l.94-2.06 2.06-.94-2.06-.94L8.5 2.5l-.94 2.06-2.06.94zm10 10l.94 2.06.94-2.06 2.06-.94-2.06-.94-.94-2.06-.94 2.06-2.06.94z\"/><path d=\"M17.41 7.96l-1.37-1.37c-.4-.4-.92-.59-1.43-.59-.52 0-1.04.2-1.43.59L10.3 9.45l-7.72 7.72c-.78.78-.78 2.05 0 2.83L4 21.41c.39.39.9.59 1.41.59.51 0 1.02-.2 1.41-.59l7.78-7.78 2.81-2.81c.8-.78.8-2.07 0-2.86zM5.41 20L4 18.59l7.72-7.72 1.47 1.35L5.41 20z\"/>\n",
              "  </svg>\n",
              "      </button>\n",
              "      \n",
              "  <style>\n",
              "    .colab-df-container {\n",
              "      display:flex;\n",
              "      flex-wrap:wrap;\n",
              "      gap: 12px;\n",
              "    }\n",
              "\n",
              "    .colab-df-convert {\n",
              "      background-color: #E8F0FE;\n",
              "      border: none;\n",
              "      border-radius: 50%;\n",
              "      cursor: pointer;\n",
              "      display: none;\n",
              "      fill: #1967D2;\n",
              "      height: 32px;\n",
              "      padding: 0 0 0 0;\n",
              "      width: 32px;\n",
              "    }\n",
              "\n",
              "    .colab-df-convert:hover {\n",
              "      background-color: #E2EBFA;\n",
              "      box-shadow: 0px 1px 2px rgba(60, 64, 67, 0.3), 0px 1px 3px 1px rgba(60, 64, 67, 0.15);\n",
              "      fill: #174EA6;\n",
              "    }\n",
              "\n",
              "    [theme=dark] .colab-df-convert {\n",
              "      background-color: #3B4455;\n",
              "      fill: #D2E3FC;\n",
              "    }\n",
              "\n",
              "    [theme=dark] .colab-df-convert:hover {\n",
              "      background-color: #434B5C;\n",
              "      box-shadow: 0px 1px 3px 1px rgba(0, 0, 0, 0.15);\n",
              "      filter: drop-shadow(0px 1px 2px rgba(0, 0, 0, 0.3));\n",
              "      fill: #FFFFFF;\n",
              "    }\n",
              "  </style>\n",
              "\n",
              "      <script>\n",
              "        const buttonEl =\n",
              "          document.querySelector('#df-69ff4a30-7077-432a-9c8e-aa01eb28a76a button.colab-df-convert');\n",
              "        buttonEl.style.display =\n",
              "          google.colab.kernel.accessAllowed ? 'block' : 'none';\n",
              "\n",
              "        async function convertToInteractive(key) {\n",
              "          const element = document.querySelector('#df-69ff4a30-7077-432a-9c8e-aa01eb28a76a');\n",
              "          const dataTable =\n",
              "            await google.colab.kernel.invokeFunction('convertToInteractive',\n",
              "                                                     [key], {});\n",
              "          if (!dataTable) return;\n",
              "\n",
              "          const docLinkHtml = 'Like what you see? Visit the ' +\n",
              "            '<a target=\"_blank\" href=https://colab.research.google.com/notebooks/data_table.ipynb>data table notebook</a>'\n",
              "            + ' to learn more about interactive tables.';\n",
              "          element.innerHTML = '';\n",
              "          dataTable['output_type'] = 'display_data';\n",
              "          await google.colab.output.renderOutput(dataTable, element);\n",
              "          const docLink = document.createElement('div');\n",
              "          docLink.innerHTML = docLinkHtml;\n",
              "          element.appendChild(docLink);\n",
              "        }\n",
              "      </script>\n",
              "    </div>\n",
              "  </div>\n",
              "  "
            ]
          },
          "metadata": {},
          "execution_count": 16
        }
      ]
    },
    {
      "cell_type": "code",
      "source": [
        "!pip install ta\n",
        "import ta\n",
        "from ta import add_all_ta_features"
      ],
      "metadata": {
        "id": "yx68E6wyZtEF",
        "colab": {
          "base_uri": "https://localhost:8080/"
        },
        "outputId": "0f4259ac-e418-4139-e516-e02fa7a9c69a"
      },
      "execution_count": 18,
      "outputs": [
        {
          "output_type": "stream",
          "name": "stdout",
          "text": [
            "Looking in indexes: https://pypi.org/simple, https://us-python.pkg.dev/colab-wheels/public/simple/\n",
            "Requirement already satisfied: ta in /usr/local/lib/python3.9/dist-packages (0.10.2)\n",
            "Requirement already satisfied: pandas in /usr/local/lib/python3.9/dist-packages (from ta) (1.3.5)\n",
            "Requirement already satisfied: numpy in /usr/local/lib/python3.9/dist-packages (from ta) (1.22.4)\n",
            "Requirement already satisfied: python-dateutil>=2.7.3 in /usr/local/lib/python3.9/dist-packages (from pandas->ta) (2.8.2)\n",
            "Requirement already satisfied: pytz>=2017.3 in /usr/local/lib/python3.9/dist-packages (from pandas->ta) (2022.7.1)\n",
            "Requirement already satisfied: six>=1.5 in /usr/local/lib/python3.9/dist-packages (from python-dateutil>=2.7.3->pandas->ta) (1.15.0)\n"
          ]
        }
      ]
    },
    {
      "cell_type": "code",
      "source": [
        "# add technical analysis features\n",
        "data = add_all_ta_features(\n",
        "    df, open=\"Open\", high=\"High\", low=\"Low\", close=\"Close\", volume=\"Volume\")\n"
      ],
      "metadata": {
        "id": "7HtmH8H8a5lP",
        "colab": {
          "base_uri": "https://localhost:8080/"
        },
        "outputId": "1f0b6d53-4838-4b31-fa1b-276569720d33"
      },
      "execution_count": 19,
      "outputs": [
        {
          "output_type": "stream",
          "name": "stderr",
          "text": [
            "/usr/local/lib/python3.9/dist-packages/ta/trend.py:780: RuntimeWarning: invalid value encountered in double_scalars\n",
            "  dip[idx] = 100 * (self._dip[idx] / value)\n",
            "/usr/local/lib/python3.9/dist-packages/ta/trend.py:785: RuntimeWarning: invalid value encountered in double_scalars\n",
            "  din[idx] = 100 * (self._din[idx] / value)\n"
          ]
        }
      ]
    },
    {
      "cell_type": "code",
      "source": [
        "from ta.trend import ADXIndicator,AroonIndicator,CCIIndicator\n",
        "from ta.trend import IchimokuIndicator,KSTIndicator,MACD\n",
        "from ta.trend import PSARIndicator,EMAIndicator,WMAIndicator,VortexIndicator\n",
        " \n",
        "adx=ADXIndicator(close = data.Close,high=data.High,low=data.Low)\n",
        "data[\"adx\"] = adx.adx()\n",
        "aroon=AroonIndicator(close = data.Close)\n",
        "data[\"aroon\"] = aroon.aroon_indicator()\n",
        "cci=CCIIndicator(close = data.Close,high=data.High,low=data.Low)\n",
        "data[\"cci\"] = cci.cci()\n",
        "ichmoku=IchimokuIndicator(high=data.High,low=data.Low)\n",
        "data[\"ichmoku\"] = ichmoku.ichimoku_base_line()\n",
        "kst=KSTIndicator(close = data.Close)\n",
        "data[\"kst\"] = kst.kst()\n",
        "macd=MACD(close = data.Close)\n",
        "data[\"macd\"] = macd.macd()\n",
        "psar=PSARIndicator(close = data.Close,high=data.High,low=data.Low)\n",
        "data[\"psar\"] = psar.psar()\n",
        "ema=EMAIndicator(close = data.Close)\n",
        "data[\"ema\"] = ema.ema_indicator()\n",
        "wma=WMAIndicator(close = data.Close)\n",
        "data[\"wma\"] = wma.wma()\n",
        "vortex=VortexIndicator(close = data.Close,high=data.High,low=data.Low)\n",
        "data[\"vortex\"] = vortex.vortex_indicator_diff()"
      ],
      "metadata": {
        "id": "Y8Q8E68AZ0vw"
      },
      "execution_count": 20,
      "outputs": []
    },
    {
      "cell_type": "code",
      "source": [
        "features = ['adx','aroon','cci','ichmoku','kst','macd','psar','ema','wma','vortex','SMA_3','SMA_7','SMA_13','SMA_20','EMA_3','EMA_7','EMA_13','EMA_20']\n",
        "features_30days=['D1','D2','D3','D4','D5','D6','D7','D8','D9','D10','D11','D12','D13','D14','D15','D16','D17','D18','D19','D20','D21','D22','D23','D24','D25','D26','D27','D28','D29','D30']\n",
        "df=df[features]\n",
        "df[\"output_var\"]=output_var\n",
        "total=len(features_30days)\n",
        "\n",
        "df.dropna(inplace=True)\n",
        "dfalldays=dfalldays[:df.shape[0]]\n",
        "df=df.reset_index()\n",
        "dfalldays=dfalldays.reset_index()\n",
        "for i in range(0,total):\n",
        "  df[features_30days[i]]=dfalldays[features_30days[i]]\n",
        "df=df.drop(['index'],axis=1)"
      ],
      "metadata": {
        "colab": {
          "base_uri": "https://localhost:8080/"
        },
        "id": "M56gT8EKgFQH",
        "outputId": "a94e30ec-7039-470a-bef3-ec2f3be13a3a"
      },
      "execution_count": 21,
      "outputs": [
        {
          "output_type": "stream",
          "name": "stderr",
          "text": [
            "<ipython-input-21-f0da20c347e6>:4: SettingWithCopyWarning: \n",
            "A value is trying to be set on a copy of a slice from a DataFrame.\n",
            "Try using .loc[row_indexer,col_indexer] = value instead\n",
            "\n",
            "See the caveats in the documentation: https://pandas.pydata.org/pandas-docs/stable/user_guide/indexing.html#returning-a-view-versus-a-copy\n",
            "  df[\"output_var\"]=output_var\n",
            "/usr/local/lib/python3.9/dist-packages/pandas/util/_decorators.py:311: SettingWithCopyWarning: \n",
            "A value is trying to be set on a copy of a slice from a DataFrame\n",
            "\n",
            "See the caveats in the documentation: https://pandas.pydata.org/pandas-docs/stable/user_guide/indexing.html#returning-a-view-versus-a-copy\n",
            "  return func(*args, **kwargs)\n"
          ]
        }
      ]
    },
    {
      "cell_type": "code",
      "source": [
        "df.dropna(inplace=True)\n",
        "df.info()"
      ],
      "metadata": {
        "colab": {
          "base_uri": "https://localhost:8080/"
        },
        "id": "fJoIDsrRtvCC",
        "outputId": "ad730800-747e-48b9-fb78-c753ad617c69"
      },
      "execution_count": 22,
      "outputs": [
        {
          "output_type": "stream",
          "name": "stdout",
          "text": [
            "<class 'pandas.core.frame.DataFrame'>\n",
            "Int64Index: 5547 entries, 0 to 5546\n",
            "Data columns (total 49 columns):\n",
            " #   Column      Non-Null Count  Dtype  \n",
            "---  ------      --------------  -----  \n",
            " 0   adx         5547 non-null   float64\n",
            " 1   aroon       5547 non-null   float64\n",
            " 2   cci         5547 non-null   float64\n",
            " 3   ichmoku     5547 non-null   float64\n",
            " 4   kst         5547 non-null   float64\n",
            " 5   macd        5547 non-null   float64\n",
            " 6   psar        5547 non-null   float64\n",
            " 7   ema         5547 non-null   float64\n",
            " 8   wma         5547 non-null   float64\n",
            " 9   vortex      5547 non-null   float64\n",
            " 10  SMA_3       5547 non-null   float64\n",
            " 11  SMA_7       5547 non-null   float64\n",
            " 12  SMA_13      5547 non-null   float64\n",
            " 13  SMA_20      5547 non-null   float64\n",
            " 14  EMA_3       5547 non-null   float64\n",
            " 15  EMA_7       5547 non-null   float64\n",
            " 16  EMA_13      5547 non-null   float64\n",
            " 17  EMA_20      5547 non-null   float64\n",
            " 18  output_var  5547 non-null   int8   \n",
            " 19  D1          5547 non-null   float64\n",
            " 20  D2          5547 non-null   float64\n",
            " 21  D3          5547 non-null   float64\n",
            " 22  D4          5547 non-null   float64\n",
            " 23  D5          5547 non-null   float64\n",
            " 24  D6          5547 non-null   float64\n",
            " 25  D7          5547 non-null   float64\n",
            " 26  D8          5547 non-null   float64\n",
            " 27  D9          5547 non-null   float64\n",
            " 28  D10         5547 non-null   float64\n",
            " 29  D11         5547 non-null   float64\n",
            " 30  D12         5547 non-null   float64\n",
            " 31  D13         5547 non-null   float64\n",
            " 32  D14         5547 non-null   float64\n",
            " 33  D15         5547 non-null   float64\n",
            " 34  D16         5547 non-null   float64\n",
            " 35  D17         5547 non-null   float64\n",
            " 36  D18         5547 non-null   float64\n",
            " 37  D19         5547 non-null   float64\n",
            " 38  D20         5547 non-null   float64\n",
            " 39  D21         5547 non-null   float64\n",
            " 40  D22         5547 non-null   float64\n",
            " 41  D23         5547 non-null   float64\n",
            " 42  D24         5547 non-null   float64\n",
            " 43  D25         5547 non-null   float64\n",
            " 44  D26         5547 non-null   float64\n",
            " 45  D27         5547 non-null   float64\n",
            " 46  D28         5547 non-null   float64\n",
            " 47  D29         5547 non-null   float64\n",
            " 48  D30         5547 non-null   float64\n",
            "dtypes: float64(48), int8(1)\n",
            "memory usage: 2.1 MB\n"
          ]
        }
      ]
    },
    {
      "cell_type": "code",
      "execution_count": 23,
      "metadata": {
        "colab": {
          "base_uri": "https://localhost:8080/",
          "height": 300
        },
        "id": "svvFg8gpOLfQ",
        "outputId": "496da2bd-5250-45c8-d2ed-7cb4099473e0"
      },
      "outputs": [
        {
          "output_type": "execute_result",
          "data": {
            "text/plain": [
              "        adx     aroon       cci   ichmoku       kst      macd      psar  \\\n",
              "0  0.000000  0.854167  0.607412  0.000000  0.425920  0.820976  0.023343   \n",
              "1  0.000000  0.854167  0.642192  0.000000  0.455819  0.820976  0.023000   \n",
              "2  0.242610  0.979167  0.703000  0.001206  0.485898  0.822324  0.006198   \n",
              "3  0.233185  0.979167  0.641232  0.001206  0.507277  0.820594  0.006584   \n",
              "4  0.225370  0.937500  0.655725  0.001206  0.528934  0.819954  0.006963   \n",
              "\n",
              "        ema       wma    vortex  ...       D21       D22       D23       D24  \\\n",
              "0  0.001509  0.008150  0.612376  ...  0.017824  0.018119  0.014821  0.020132   \n",
              "1  0.002167  0.008172  0.638019  ...  0.018119  0.014821  0.020132  0.019525   \n",
              "2  0.003500  0.009228  0.740854  ...  0.014821  0.020132  0.019525  0.017807   \n",
              "3  0.003348  0.008307  0.695579  ...  0.020132  0.019525  0.017807  0.010396   \n",
              "4  0.003659  0.008183  0.641871  ...  0.019525  0.017807  0.010396  0.007341   \n",
              "\n",
              "        D25       D26       D27       D28       D29       D30  \n",
              "0  0.019525  0.017807  0.010396  0.007341  0.015429  0.020809  \n",
              "1  0.017807  0.010396  0.007341  0.015429  0.020809  0.011593  \n",
              "2  0.010396  0.007341  0.015429  0.020809  0.011593  0.014717  \n",
              "3  0.007341  0.015429  0.020809  0.011593  0.014717  0.013884  \n",
              "4  0.015429  0.020809  0.011593  0.014717  0.013884  0.009962  \n",
              "\n",
              "[5 rows x 48 columns]"
            ],
            "text/html": [
              "\n",
              "  <div id=\"df-47ae4171-4734-45a8-89f5-046fae0563a5\">\n",
              "    <div class=\"colab-df-container\">\n",
              "      <div>\n",
              "<style scoped>\n",
              "    .dataframe tbody tr th:only-of-type {\n",
              "        vertical-align: middle;\n",
              "    }\n",
              "\n",
              "    .dataframe tbody tr th {\n",
              "        vertical-align: top;\n",
              "    }\n",
              "\n",
              "    .dataframe thead th {\n",
              "        text-align: right;\n",
              "    }\n",
              "</style>\n",
              "<table border=\"1\" class=\"dataframe\">\n",
              "  <thead>\n",
              "    <tr style=\"text-align: right;\">\n",
              "      <th></th>\n",
              "      <th>adx</th>\n",
              "      <th>aroon</th>\n",
              "      <th>cci</th>\n",
              "      <th>ichmoku</th>\n",
              "      <th>kst</th>\n",
              "      <th>macd</th>\n",
              "      <th>psar</th>\n",
              "      <th>ema</th>\n",
              "      <th>wma</th>\n",
              "      <th>vortex</th>\n",
              "      <th>...</th>\n",
              "      <th>D21</th>\n",
              "      <th>D22</th>\n",
              "      <th>D23</th>\n",
              "      <th>D24</th>\n",
              "      <th>D25</th>\n",
              "      <th>D26</th>\n",
              "      <th>D27</th>\n",
              "      <th>D28</th>\n",
              "      <th>D29</th>\n",
              "      <th>D30</th>\n",
              "    </tr>\n",
              "  </thead>\n",
              "  <tbody>\n",
              "    <tr>\n",
              "      <th>0</th>\n",
              "      <td>0.000000</td>\n",
              "      <td>0.854167</td>\n",
              "      <td>0.607412</td>\n",
              "      <td>0.000000</td>\n",
              "      <td>0.425920</td>\n",
              "      <td>0.820976</td>\n",
              "      <td>0.023343</td>\n",
              "      <td>0.001509</td>\n",
              "      <td>0.008150</td>\n",
              "      <td>0.612376</td>\n",
              "      <td>...</td>\n",
              "      <td>0.017824</td>\n",
              "      <td>0.018119</td>\n",
              "      <td>0.014821</td>\n",
              "      <td>0.020132</td>\n",
              "      <td>0.019525</td>\n",
              "      <td>0.017807</td>\n",
              "      <td>0.010396</td>\n",
              "      <td>0.007341</td>\n",
              "      <td>0.015429</td>\n",
              "      <td>0.020809</td>\n",
              "    </tr>\n",
              "    <tr>\n",
              "      <th>1</th>\n",
              "      <td>0.000000</td>\n",
              "      <td>0.854167</td>\n",
              "      <td>0.642192</td>\n",
              "      <td>0.000000</td>\n",
              "      <td>0.455819</td>\n",
              "      <td>0.820976</td>\n",
              "      <td>0.023000</td>\n",
              "      <td>0.002167</td>\n",
              "      <td>0.008172</td>\n",
              "      <td>0.638019</td>\n",
              "      <td>...</td>\n",
              "      <td>0.018119</td>\n",
              "      <td>0.014821</td>\n",
              "      <td>0.020132</td>\n",
              "      <td>0.019525</td>\n",
              "      <td>0.017807</td>\n",
              "      <td>0.010396</td>\n",
              "      <td>0.007341</td>\n",
              "      <td>0.015429</td>\n",
              "      <td>0.020809</td>\n",
              "      <td>0.011593</td>\n",
              "    </tr>\n",
              "    <tr>\n",
              "      <th>2</th>\n",
              "      <td>0.242610</td>\n",
              "      <td>0.979167</td>\n",
              "      <td>0.703000</td>\n",
              "      <td>0.001206</td>\n",
              "      <td>0.485898</td>\n",
              "      <td>0.822324</td>\n",
              "      <td>0.006198</td>\n",
              "      <td>0.003500</td>\n",
              "      <td>0.009228</td>\n",
              "      <td>0.740854</td>\n",
              "      <td>...</td>\n",
              "      <td>0.014821</td>\n",
              "      <td>0.020132</td>\n",
              "      <td>0.019525</td>\n",
              "      <td>0.017807</td>\n",
              "      <td>0.010396</td>\n",
              "      <td>0.007341</td>\n",
              "      <td>0.015429</td>\n",
              "      <td>0.020809</td>\n",
              "      <td>0.011593</td>\n",
              "      <td>0.014717</td>\n",
              "    </tr>\n",
              "    <tr>\n",
              "      <th>3</th>\n",
              "      <td>0.233185</td>\n",
              "      <td>0.979167</td>\n",
              "      <td>0.641232</td>\n",
              "      <td>0.001206</td>\n",
              "      <td>0.507277</td>\n",
              "      <td>0.820594</td>\n",
              "      <td>0.006584</td>\n",
              "      <td>0.003348</td>\n",
              "      <td>0.008307</td>\n",
              "      <td>0.695579</td>\n",
              "      <td>...</td>\n",
              "      <td>0.020132</td>\n",
              "      <td>0.019525</td>\n",
              "      <td>0.017807</td>\n",
              "      <td>0.010396</td>\n",
              "      <td>0.007341</td>\n",
              "      <td>0.015429</td>\n",
              "      <td>0.020809</td>\n",
              "      <td>0.011593</td>\n",
              "      <td>0.014717</td>\n",
              "      <td>0.013884</td>\n",
              "    </tr>\n",
              "    <tr>\n",
              "      <th>4</th>\n",
              "      <td>0.225370</td>\n",
              "      <td>0.937500</td>\n",
              "      <td>0.655725</td>\n",
              "      <td>0.001206</td>\n",
              "      <td>0.528934</td>\n",
              "      <td>0.819954</td>\n",
              "      <td>0.006963</td>\n",
              "      <td>0.003659</td>\n",
              "      <td>0.008183</td>\n",
              "      <td>0.641871</td>\n",
              "      <td>...</td>\n",
              "      <td>0.019525</td>\n",
              "      <td>0.017807</td>\n",
              "      <td>0.010396</td>\n",
              "      <td>0.007341</td>\n",
              "      <td>0.015429</td>\n",
              "      <td>0.020809</td>\n",
              "      <td>0.011593</td>\n",
              "      <td>0.014717</td>\n",
              "      <td>0.013884</td>\n",
              "      <td>0.009962</td>\n",
              "    </tr>\n",
              "  </tbody>\n",
              "</table>\n",
              "<p>5 rows × 48 columns</p>\n",
              "</div>\n",
              "      <button class=\"colab-df-convert\" onclick=\"convertToInteractive('df-47ae4171-4734-45a8-89f5-046fae0563a5')\"\n",
              "              title=\"Convert this dataframe to an interactive table.\"\n",
              "              style=\"display:none;\">\n",
              "        \n",
              "  <svg xmlns=\"http://www.w3.org/2000/svg\" height=\"24px\"viewBox=\"0 0 24 24\"\n",
              "       width=\"24px\">\n",
              "    <path d=\"M0 0h24v24H0V0z\" fill=\"none\"/>\n",
              "    <path d=\"M18.56 5.44l.94 2.06.94-2.06 2.06-.94-2.06-.94-.94-2.06-.94 2.06-2.06.94zm-11 1L8.5 8.5l.94-2.06 2.06-.94-2.06-.94L8.5 2.5l-.94 2.06-2.06.94zm10 10l.94 2.06.94-2.06 2.06-.94-2.06-.94-.94-2.06-.94 2.06-2.06.94z\"/><path d=\"M17.41 7.96l-1.37-1.37c-.4-.4-.92-.59-1.43-.59-.52 0-1.04.2-1.43.59L10.3 9.45l-7.72 7.72c-.78.78-.78 2.05 0 2.83L4 21.41c.39.39.9.59 1.41.59.51 0 1.02-.2 1.41-.59l7.78-7.78 2.81-2.81c.8-.78.8-2.07 0-2.86zM5.41 20L4 18.59l7.72-7.72 1.47 1.35L5.41 20z\"/>\n",
              "  </svg>\n",
              "      </button>\n",
              "      \n",
              "  <style>\n",
              "    .colab-df-container {\n",
              "      display:flex;\n",
              "      flex-wrap:wrap;\n",
              "      gap: 12px;\n",
              "    }\n",
              "\n",
              "    .colab-df-convert {\n",
              "      background-color: #E8F0FE;\n",
              "      border: none;\n",
              "      border-radius: 50%;\n",
              "      cursor: pointer;\n",
              "      display: none;\n",
              "      fill: #1967D2;\n",
              "      height: 32px;\n",
              "      padding: 0 0 0 0;\n",
              "      width: 32px;\n",
              "    }\n",
              "\n",
              "    .colab-df-convert:hover {\n",
              "      background-color: #E2EBFA;\n",
              "      box-shadow: 0px 1px 2px rgba(60, 64, 67, 0.3), 0px 1px 3px 1px rgba(60, 64, 67, 0.15);\n",
              "      fill: #174EA6;\n",
              "    }\n",
              "\n",
              "    [theme=dark] .colab-df-convert {\n",
              "      background-color: #3B4455;\n",
              "      fill: #D2E3FC;\n",
              "    }\n",
              "\n",
              "    [theme=dark] .colab-df-convert:hover {\n",
              "      background-color: #434B5C;\n",
              "      box-shadow: 0px 1px 3px 1px rgba(0, 0, 0, 0.15);\n",
              "      filter: drop-shadow(0px 1px 2px rgba(0, 0, 0, 0.3));\n",
              "      fill: #FFFFFF;\n",
              "    }\n",
              "  </style>\n",
              "\n",
              "      <script>\n",
              "        const buttonEl =\n",
              "          document.querySelector('#df-47ae4171-4734-45a8-89f5-046fae0563a5 button.colab-df-convert');\n",
              "        buttonEl.style.display =\n",
              "          google.colab.kernel.accessAllowed ? 'block' : 'none';\n",
              "\n",
              "        async function convertToInteractive(key) {\n",
              "          const element = document.querySelector('#df-47ae4171-4734-45a8-89f5-046fae0563a5');\n",
              "          const dataTable =\n",
              "            await google.colab.kernel.invokeFunction('convertToInteractive',\n",
              "                                                     [key], {});\n",
              "          if (!dataTable) return;\n",
              "\n",
              "          const docLinkHtml = 'Like what you see? Visit the ' +\n",
              "            '<a target=\"_blank\" href=https://colab.research.google.com/notebooks/data_table.ipynb>data table notebook</a>'\n",
              "            + ' to learn more about interactive tables.';\n",
              "          element.innerHTML = '';\n",
              "          dataTable['output_type'] = 'display_data';\n",
              "          await google.colab.output.renderOutput(dataTable, element);\n",
              "          const docLink = document.createElement('div');\n",
              "          docLink.innerHTML = docLinkHtml;\n",
              "          element.appendChild(docLink);\n",
              "        }\n",
              "      </script>\n",
              "    </div>\n",
              "  </div>\n",
              "  "
            ]
          },
          "metadata": {},
          "execution_count": 23
        }
      ],
      "source": [
        "scaler = MinMaxScaler()\n",
        "feature_transform = scaler.fit_transform(df[features+features_30days])\n",
        "feature_transform= pd.DataFrame(columns=features+features_30days, data=feature_transform)\n",
        "feature_transform.head()"
      ]
    },
    {
      "cell_type": "code",
      "execution_count": 24,
      "metadata": {
        "colab": {
          "base_uri": "https://localhost:8080/",
          "height": 35
        },
        "id": "yHX0fqyrL5U1",
        "outputId": "a5dc2aca-77a9-4284-b1ba-b686494fefe4"
      },
      "outputs": [
        {
          "output_type": "execute_result",
          "data": {
            "text/plain": [
              "\"\\nx=feature_transform\\nx.head()\\ny=df['output_var']\\ny.head()\\n\""
            ],
            "application/vnd.google.colaboratory.intrinsic+json": {
              "type": "string"
            }
          },
          "metadata": {},
          "execution_count": 24
        }
      ],
      "source": [
        "'''\n",
        "x=feature_transform\n",
        "x.head()\n",
        "y=df['output_var']\n",
        "y.head()\n",
        "'''"
      ]
    },
    {
      "cell_type": "code",
      "execution_count": 25,
      "metadata": {
        "colab": {
          "base_uri": "https://localhost:8080/",
          "height": 53
        },
        "id": "DcD1qC3iMvdq",
        "outputId": "e8e97354-9bb3-4e8a-a31c-8d1f5bc8bd45"
      },
      "outputs": [
        {
          "output_type": "execute_result",
          "data": {
            "text/plain": [
              "'\\n#create test and train data 70% and 30% split\\ntrain_x,test_x,train_y,test_y=train_test_split(x,y,test_size=0.3)\\ntrain_x.shape\\ntest_x.shape\\ntrain_x.shape\\ntrain_y.shape\\n'"
            ],
            "application/vnd.google.colaboratory.intrinsic+json": {
              "type": "string"
            }
          },
          "metadata": {},
          "execution_count": 25
        }
      ],
      "source": [
        "'''\n",
        "#create test and train data 70% and 30% split\n",
        "train_x,test_x,train_y,test_y=train_test_split(x,y,test_size=0.3)\n",
        "train_x.shape\n",
        "test_x.shape\n",
        "train_x.shape\n",
        "train_y.shape\n",
        "'''"
      ]
    },
    {
      "cell_type": "code",
      "source": [
        "from sklearn.decomposition import PCA\n",
        "pca=PCA(40).fit(feature_transform)\n",
        "str(pca.explained_variance_ratio_.sum())\n",
        "pca_df=pd.DataFrame(pca.components_,columns=feature_transform.columns)\n",
        "#transformed features,instead of having 8,we have 5 now.this can now be plugged into any further modelling work\n",
        "x_scaled_transf=pca.fit_transform(feature_transform)\n",
        "x_scaled_transf=pd.DataFrame(x_scaled_transf,columns=('P1','P2','P3','P4','P5','P6','P7','P8','P9','P10','P11','P12','P13','P14','P15','P16','P17','P18','P19','P20','P21','P22','P23','P24','P25','P26','P27','P28','P29','P30','P31','P32','P33','P34','P35','P36','P37','P38','P39','P40'))\n",
        "x_scaled_transf.head()\n",
        "y=df['output_var']\n",
        "# separate into train and test sets\n",
        "train_x,test_x,train_y,test_y=train_test_split(x_scaled_transf,y,test_size=0.20,random_state=1)\n",
        "print(train_x.shape, test_x.shape, train_y.shape, test_y.shape)\n"
      ],
      "metadata": {
        "colab": {
          "base_uri": "https://localhost:8080/",
          "height": 335
        },
        "id": "9ksRxVM4tysS",
        "outputId": "574a65bb-de69-4c8f-d7d3-155cff0dd89a"
      },
      "execution_count": 26,
      "outputs": [
        {
          "output_type": "execute_result",
          "data": {
            "text/plain": [
              "'0.9999999999995873'"
            ],
            "application/vnd.google.colaboratory.intrinsic+json": {
              "type": "string"
            }
          },
          "metadata": {},
          "execution_count": 26
        },
        {
          "output_type": "execute_result",
          "data": {
            "text/plain": [
              "         P1        P2        P3        P4        P5        P6        P7  \\\n",
              "0 -2.332303 -0.193805 -0.146275 -0.064773  0.384826 -0.071786  0.090323   \n",
              "1 -2.329340 -0.213662 -0.148367 -0.035584  0.386406 -0.054321  0.069887   \n",
              "2 -2.330730 -0.387731  0.036100  0.013807  0.241531 -0.029172  0.039615   \n",
              "3 -2.328461 -0.362294  0.017018 -0.047018  0.232663 -0.029602  0.063311   \n",
              "4 -2.325964 -0.313548 -0.005095 -0.065230  0.221445 -0.043585  0.039607   \n",
              "\n",
              "         P8        P9       P10  ...       P31       P32       P33       P34  \\\n",
              "0 -0.044321 -0.264922  0.094823  ...  0.004340 -0.000998  0.000318  0.004004   \n",
              "1 -0.049284 -0.238504  0.094869  ...  0.003444  0.002088 -0.001327  0.001402   \n",
              "2 -0.046299 -0.222573  0.092051  ...  0.003928 -0.003519  0.000775  0.000430   \n",
              "3 -0.028847 -0.218112  0.064465  ...  0.004578  0.001946  0.001789  0.004818   \n",
              "4 -0.041129 -0.185485  0.069317  ...  0.003071 -0.000261 -0.003363  0.000442   \n",
              "\n",
              "        P35       P36       P37       P38       P39       P40  \n",
              "0  0.000188 -0.002878  0.000420  0.006498 -0.000593 -0.000015  \n",
              "1 -0.000199 -0.003596 -0.000813 -0.001559 -0.000585 -0.000017  \n",
              "2 -0.000065 -0.001000 -0.001002  0.004682 -0.000500 -0.000009  \n",
              "3  0.000591 -0.006040 -0.000106  0.000834 -0.000463 -0.000010  \n",
              "4 -0.000573 -0.000059 -0.001918  0.003453 -0.000369 -0.000006  \n",
              "\n",
              "[5 rows x 40 columns]"
            ],
            "text/html": [
              "\n",
              "  <div id=\"df-16e88779-aa84-49c5-9300-038c7518fd83\">\n",
              "    <div class=\"colab-df-container\">\n",
              "      <div>\n",
              "<style scoped>\n",
              "    .dataframe tbody tr th:only-of-type {\n",
              "        vertical-align: middle;\n",
              "    }\n",
              "\n",
              "    .dataframe tbody tr th {\n",
              "        vertical-align: top;\n",
              "    }\n",
              "\n",
              "    .dataframe thead th {\n",
              "        text-align: right;\n",
              "    }\n",
              "</style>\n",
              "<table border=\"1\" class=\"dataframe\">\n",
              "  <thead>\n",
              "    <tr style=\"text-align: right;\">\n",
              "      <th></th>\n",
              "      <th>P1</th>\n",
              "      <th>P2</th>\n",
              "      <th>P3</th>\n",
              "      <th>P4</th>\n",
              "      <th>P5</th>\n",
              "      <th>P6</th>\n",
              "      <th>P7</th>\n",
              "      <th>P8</th>\n",
              "      <th>P9</th>\n",
              "      <th>P10</th>\n",
              "      <th>...</th>\n",
              "      <th>P31</th>\n",
              "      <th>P32</th>\n",
              "      <th>P33</th>\n",
              "      <th>P34</th>\n",
              "      <th>P35</th>\n",
              "      <th>P36</th>\n",
              "      <th>P37</th>\n",
              "      <th>P38</th>\n",
              "      <th>P39</th>\n",
              "      <th>P40</th>\n",
              "    </tr>\n",
              "  </thead>\n",
              "  <tbody>\n",
              "    <tr>\n",
              "      <th>0</th>\n",
              "      <td>-2.332303</td>\n",
              "      <td>-0.193805</td>\n",
              "      <td>-0.146275</td>\n",
              "      <td>-0.064773</td>\n",
              "      <td>0.384826</td>\n",
              "      <td>-0.071786</td>\n",
              "      <td>0.090323</td>\n",
              "      <td>-0.044321</td>\n",
              "      <td>-0.264922</td>\n",
              "      <td>0.094823</td>\n",
              "      <td>...</td>\n",
              "      <td>0.004340</td>\n",
              "      <td>-0.000998</td>\n",
              "      <td>0.000318</td>\n",
              "      <td>0.004004</td>\n",
              "      <td>0.000188</td>\n",
              "      <td>-0.002878</td>\n",
              "      <td>0.000420</td>\n",
              "      <td>0.006498</td>\n",
              "      <td>-0.000593</td>\n",
              "      <td>-0.000015</td>\n",
              "    </tr>\n",
              "    <tr>\n",
              "      <th>1</th>\n",
              "      <td>-2.329340</td>\n",
              "      <td>-0.213662</td>\n",
              "      <td>-0.148367</td>\n",
              "      <td>-0.035584</td>\n",
              "      <td>0.386406</td>\n",
              "      <td>-0.054321</td>\n",
              "      <td>0.069887</td>\n",
              "      <td>-0.049284</td>\n",
              "      <td>-0.238504</td>\n",
              "      <td>0.094869</td>\n",
              "      <td>...</td>\n",
              "      <td>0.003444</td>\n",
              "      <td>0.002088</td>\n",
              "      <td>-0.001327</td>\n",
              "      <td>0.001402</td>\n",
              "      <td>-0.000199</td>\n",
              "      <td>-0.003596</td>\n",
              "      <td>-0.000813</td>\n",
              "      <td>-0.001559</td>\n",
              "      <td>-0.000585</td>\n",
              "      <td>-0.000017</td>\n",
              "    </tr>\n",
              "    <tr>\n",
              "      <th>2</th>\n",
              "      <td>-2.330730</td>\n",
              "      <td>-0.387731</td>\n",
              "      <td>0.036100</td>\n",
              "      <td>0.013807</td>\n",
              "      <td>0.241531</td>\n",
              "      <td>-0.029172</td>\n",
              "      <td>0.039615</td>\n",
              "      <td>-0.046299</td>\n",
              "      <td>-0.222573</td>\n",
              "      <td>0.092051</td>\n",
              "      <td>...</td>\n",
              "      <td>0.003928</td>\n",
              "      <td>-0.003519</td>\n",
              "      <td>0.000775</td>\n",
              "      <td>0.000430</td>\n",
              "      <td>-0.000065</td>\n",
              "      <td>-0.001000</td>\n",
              "      <td>-0.001002</td>\n",
              "      <td>0.004682</td>\n",
              "      <td>-0.000500</td>\n",
              "      <td>-0.000009</td>\n",
              "    </tr>\n",
              "    <tr>\n",
              "      <th>3</th>\n",
              "      <td>-2.328461</td>\n",
              "      <td>-0.362294</td>\n",
              "      <td>0.017018</td>\n",
              "      <td>-0.047018</td>\n",
              "      <td>0.232663</td>\n",
              "      <td>-0.029602</td>\n",
              "      <td>0.063311</td>\n",
              "      <td>-0.028847</td>\n",
              "      <td>-0.218112</td>\n",
              "      <td>0.064465</td>\n",
              "      <td>...</td>\n",
              "      <td>0.004578</td>\n",
              "      <td>0.001946</td>\n",
              "      <td>0.001789</td>\n",
              "      <td>0.004818</td>\n",
              "      <td>0.000591</td>\n",
              "      <td>-0.006040</td>\n",
              "      <td>-0.000106</td>\n",
              "      <td>0.000834</td>\n",
              "      <td>-0.000463</td>\n",
              "      <td>-0.000010</td>\n",
              "    </tr>\n",
              "    <tr>\n",
              "      <th>4</th>\n",
              "      <td>-2.325964</td>\n",
              "      <td>-0.313548</td>\n",
              "      <td>-0.005095</td>\n",
              "      <td>-0.065230</td>\n",
              "      <td>0.221445</td>\n",
              "      <td>-0.043585</td>\n",
              "      <td>0.039607</td>\n",
              "      <td>-0.041129</td>\n",
              "      <td>-0.185485</td>\n",
              "      <td>0.069317</td>\n",
              "      <td>...</td>\n",
              "      <td>0.003071</td>\n",
              "      <td>-0.000261</td>\n",
              "      <td>-0.003363</td>\n",
              "      <td>0.000442</td>\n",
              "      <td>-0.000573</td>\n",
              "      <td>-0.000059</td>\n",
              "      <td>-0.001918</td>\n",
              "      <td>0.003453</td>\n",
              "      <td>-0.000369</td>\n",
              "      <td>-0.000006</td>\n",
              "    </tr>\n",
              "  </tbody>\n",
              "</table>\n",
              "<p>5 rows × 40 columns</p>\n",
              "</div>\n",
              "      <button class=\"colab-df-convert\" onclick=\"convertToInteractive('df-16e88779-aa84-49c5-9300-038c7518fd83')\"\n",
              "              title=\"Convert this dataframe to an interactive table.\"\n",
              "              style=\"display:none;\">\n",
              "        \n",
              "  <svg xmlns=\"http://www.w3.org/2000/svg\" height=\"24px\"viewBox=\"0 0 24 24\"\n",
              "       width=\"24px\">\n",
              "    <path d=\"M0 0h24v24H0V0z\" fill=\"none\"/>\n",
              "    <path d=\"M18.56 5.44l.94 2.06.94-2.06 2.06-.94-2.06-.94-.94-2.06-.94 2.06-2.06.94zm-11 1L8.5 8.5l.94-2.06 2.06-.94-2.06-.94L8.5 2.5l-.94 2.06-2.06.94zm10 10l.94 2.06.94-2.06 2.06-.94-2.06-.94-.94-2.06-.94 2.06-2.06.94z\"/><path d=\"M17.41 7.96l-1.37-1.37c-.4-.4-.92-.59-1.43-.59-.52 0-1.04.2-1.43.59L10.3 9.45l-7.72 7.72c-.78.78-.78 2.05 0 2.83L4 21.41c.39.39.9.59 1.41.59.51 0 1.02-.2 1.41-.59l7.78-7.78 2.81-2.81c.8-.78.8-2.07 0-2.86zM5.41 20L4 18.59l7.72-7.72 1.47 1.35L5.41 20z\"/>\n",
              "  </svg>\n",
              "      </button>\n",
              "      \n",
              "  <style>\n",
              "    .colab-df-container {\n",
              "      display:flex;\n",
              "      flex-wrap:wrap;\n",
              "      gap: 12px;\n",
              "    }\n",
              "\n",
              "    .colab-df-convert {\n",
              "      background-color: #E8F0FE;\n",
              "      border: none;\n",
              "      border-radius: 50%;\n",
              "      cursor: pointer;\n",
              "      display: none;\n",
              "      fill: #1967D2;\n",
              "      height: 32px;\n",
              "      padding: 0 0 0 0;\n",
              "      width: 32px;\n",
              "    }\n",
              "\n",
              "    .colab-df-convert:hover {\n",
              "      background-color: #E2EBFA;\n",
              "      box-shadow: 0px 1px 2px rgba(60, 64, 67, 0.3), 0px 1px 3px 1px rgba(60, 64, 67, 0.15);\n",
              "      fill: #174EA6;\n",
              "    }\n",
              "\n",
              "    [theme=dark] .colab-df-convert {\n",
              "      background-color: #3B4455;\n",
              "      fill: #D2E3FC;\n",
              "    }\n",
              "\n",
              "    [theme=dark] .colab-df-convert:hover {\n",
              "      background-color: #434B5C;\n",
              "      box-shadow: 0px 1px 3px 1px rgba(0, 0, 0, 0.15);\n",
              "      filter: drop-shadow(0px 1px 2px rgba(0, 0, 0, 0.3));\n",
              "      fill: #FFFFFF;\n",
              "    }\n",
              "  </style>\n",
              "\n",
              "      <script>\n",
              "        const buttonEl =\n",
              "          document.querySelector('#df-16e88779-aa84-49c5-9300-038c7518fd83 button.colab-df-convert');\n",
              "        buttonEl.style.display =\n",
              "          google.colab.kernel.accessAllowed ? 'block' : 'none';\n",
              "\n",
              "        async function convertToInteractive(key) {\n",
              "          const element = document.querySelector('#df-16e88779-aa84-49c5-9300-038c7518fd83');\n",
              "          const dataTable =\n",
              "            await google.colab.kernel.invokeFunction('convertToInteractive',\n",
              "                                                     [key], {});\n",
              "          if (!dataTable) return;\n",
              "\n",
              "          const docLinkHtml = 'Like what you see? Visit the ' +\n",
              "            '<a target=\"_blank\" href=https://colab.research.google.com/notebooks/data_table.ipynb>data table notebook</a>'\n",
              "            + ' to learn more about interactive tables.';\n",
              "          element.innerHTML = '';\n",
              "          dataTable['output_type'] = 'display_data';\n",
              "          await google.colab.output.renderOutput(dataTable, element);\n",
              "          const docLink = document.createElement('div');\n",
              "          docLink.innerHTML = docLinkHtml;\n",
              "          element.appendChild(docLink);\n",
              "        }\n",
              "      </script>\n",
              "    </div>\n",
              "  </div>\n",
              "  "
            ]
          },
          "metadata": {},
          "execution_count": 26
        },
        {
          "output_type": "stream",
          "name": "stdout",
          "text": [
            "(4437, 40) (1110, 40) (4437,) (1110,)\n"
          ]
        }
      ]
    },
    {
      "cell_type": "code",
      "source": [
        "#BUILD A LOGISTIC REGRESSION MODEL\n",
        "from sklearn.linear_model import LogisticRegression\n",
        "log = lm.LogisticRegression(penalty='l1',fit_intercept=True,max_iter=500,solver='saga',tol=1e-5,multi_class='ovr',class_weight=None)\n"
      ],
      "metadata": {
        "id": "V0EG4-WCDXYW"
      },
      "execution_count": 27,
      "outputs": []
    },
    {
      "cell_type": "code",
      "source": [
        "log.fit(train_x,train_y)"
      ],
      "metadata": {
        "colab": {
          "base_uri": "https://localhost:8080/",
          "height": 147
        },
        "id": "G10updCQDjLv",
        "outputId": "90aa672b-81a4-4aef-e2e7-ad91215256b5"
      },
      "execution_count": 28,
      "outputs": [
        {
          "output_type": "stream",
          "name": "stderr",
          "text": [
            "/usr/local/lib/python3.9/dist-packages/sklearn/linear_model/_sag.py:350: ConvergenceWarning: The max_iter was reached which means the coef_ did not converge\n",
            "  warnings.warn(\n"
          ]
        },
        {
          "output_type": "execute_result",
          "data": {
            "text/plain": [
              "LogisticRegression(max_iter=500, multi_class='ovr', penalty='l1', solver='saga',\n",
              "                   tol=1e-05)"
            ],
            "text/html": [
              "<style>#sk-container-id-1 {color: black;background-color: white;}#sk-container-id-1 pre{padding: 0;}#sk-container-id-1 div.sk-toggleable {background-color: white;}#sk-container-id-1 label.sk-toggleable__label {cursor: pointer;display: block;width: 100%;margin-bottom: 0;padding: 0.3em;box-sizing: border-box;text-align: center;}#sk-container-id-1 label.sk-toggleable__label-arrow:before {content: \"▸\";float: left;margin-right: 0.25em;color: #696969;}#sk-container-id-1 label.sk-toggleable__label-arrow:hover:before {color: black;}#sk-container-id-1 div.sk-estimator:hover label.sk-toggleable__label-arrow:before {color: black;}#sk-container-id-1 div.sk-toggleable__content {max-height: 0;max-width: 0;overflow: hidden;text-align: left;background-color: #f0f8ff;}#sk-container-id-1 div.sk-toggleable__content pre {margin: 0.2em;color: black;border-radius: 0.25em;background-color: #f0f8ff;}#sk-container-id-1 input.sk-toggleable__control:checked~div.sk-toggleable__content {max-height: 200px;max-width: 100%;overflow: auto;}#sk-container-id-1 input.sk-toggleable__control:checked~label.sk-toggleable__label-arrow:before {content: \"▾\";}#sk-container-id-1 div.sk-estimator input.sk-toggleable__control:checked~label.sk-toggleable__label {background-color: #d4ebff;}#sk-container-id-1 div.sk-label input.sk-toggleable__control:checked~label.sk-toggleable__label {background-color: #d4ebff;}#sk-container-id-1 input.sk-hidden--visually {border: 0;clip: rect(1px 1px 1px 1px);clip: rect(1px, 1px, 1px, 1px);height: 1px;margin: -1px;overflow: hidden;padding: 0;position: absolute;width: 1px;}#sk-container-id-1 div.sk-estimator {font-family: monospace;background-color: #f0f8ff;border: 1px dotted black;border-radius: 0.25em;box-sizing: border-box;margin-bottom: 0.5em;}#sk-container-id-1 div.sk-estimator:hover {background-color: #d4ebff;}#sk-container-id-1 div.sk-parallel-item::after {content: \"\";width: 100%;border-bottom: 1px solid gray;flex-grow: 1;}#sk-container-id-1 div.sk-label:hover label.sk-toggleable__label {background-color: #d4ebff;}#sk-container-id-1 div.sk-serial::before {content: \"\";position: absolute;border-left: 1px solid gray;box-sizing: border-box;top: 0;bottom: 0;left: 50%;z-index: 0;}#sk-container-id-1 div.sk-serial {display: flex;flex-direction: column;align-items: center;background-color: white;padding-right: 0.2em;padding-left: 0.2em;position: relative;}#sk-container-id-1 div.sk-item {position: relative;z-index: 1;}#sk-container-id-1 div.sk-parallel {display: flex;align-items: stretch;justify-content: center;background-color: white;position: relative;}#sk-container-id-1 div.sk-item::before, #sk-container-id-1 div.sk-parallel-item::before {content: \"\";position: absolute;border-left: 1px solid gray;box-sizing: border-box;top: 0;bottom: 0;left: 50%;z-index: -1;}#sk-container-id-1 div.sk-parallel-item {display: flex;flex-direction: column;z-index: 1;position: relative;background-color: white;}#sk-container-id-1 div.sk-parallel-item:first-child::after {align-self: flex-end;width: 50%;}#sk-container-id-1 div.sk-parallel-item:last-child::after {align-self: flex-start;width: 50%;}#sk-container-id-1 div.sk-parallel-item:only-child::after {width: 0;}#sk-container-id-1 div.sk-dashed-wrapped {border: 1px dashed gray;margin: 0 0.4em 0.5em 0.4em;box-sizing: border-box;padding-bottom: 0.4em;background-color: white;}#sk-container-id-1 div.sk-label label {font-family: monospace;font-weight: bold;display: inline-block;line-height: 1.2em;}#sk-container-id-1 div.sk-label-container {text-align: center;}#sk-container-id-1 div.sk-container {/* jupyter's `normalize.less` sets `[hidden] { display: none; }` but bootstrap.min.css set `[hidden] { display: none !important; }` so we also need the `!important` here to be able to override the default hidden behavior on the sphinx rendered scikit-learn.org. See: https://github.com/scikit-learn/scikit-learn/issues/21755 */display: inline-block !important;position: relative;}#sk-container-id-1 div.sk-text-repr-fallback {display: none;}</style><div id=\"sk-container-id-1\" class=\"sk-top-container\"><div class=\"sk-text-repr-fallback\"><pre>LogisticRegression(max_iter=500, multi_class=&#x27;ovr&#x27;, penalty=&#x27;l1&#x27;, solver=&#x27;saga&#x27;,\n",
              "                   tol=1e-05)</pre><b>In a Jupyter environment, please rerun this cell to show the HTML representation or trust the notebook. <br />On GitHub, the HTML representation is unable to render, please try loading this page with nbviewer.org.</b></div><div class=\"sk-container\" hidden><div class=\"sk-item\"><div class=\"sk-estimator sk-toggleable\"><input class=\"sk-toggleable__control sk-hidden--visually\" id=\"sk-estimator-id-1\" type=\"checkbox\" checked><label for=\"sk-estimator-id-1\" class=\"sk-toggleable__label sk-toggleable__label-arrow\">LogisticRegression</label><div class=\"sk-toggleable__content\"><pre>LogisticRegression(max_iter=500, multi_class=&#x27;ovr&#x27;, penalty=&#x27;l1&#x27;, solver=&#x27;saga&#x27;,\n",
              "                   tol=1e-05)</pre></div></div></div></div></div>"
            ]
          },
          "metadata": {},
          "execution_count": 28
        }
      ]
    },
    {
      "cell_type": "code",
      "source": [
        "#GENERATE MODEL DIAGNOSTICS\n",
        "classes=log.predict(test_x)\n",
        "print(classes.size)"
      ],
      "metadata": {
        "colab": {
          "base_uri": "https://localhost:8080/"
        },
        "id": "aWbn2O4uDnVj",
        "outputId": "eb61944c-2089-4331-94c5-020644ba04bf"
      },
      "execution_count": 29,
      "outputs": [
        {
          "output_type": "stream",
          "name": "stdout",
          "text": [
            "1110\n"
          ]
        }
      ]
    },
    {
      "cell_type": "markdown",
      "source": [
        "#LOGISTIC REGRESSION MODEL"
      ],
      "metadata": {
        "id": "L0hsw_cfJFwm"
      }
    },
    {
      "cell_type": "code",
      "source": [
        "#PRECISION AND RECALL\n",
        "print(\"ACCUIRACY SCORE\")\n",
        "print(metrics.accuracy_score(test_y,classes))"
      ],
      "metadata": {
        "colab": {
          "base_uri": "https://localhost:8080/"
        },
        "id": "zV8JvNFHDqGp",
        "outputId": "c88ee4c8-b2ae-4845-bc6d-ca389cb51855"
      },
      "execution_count": 30,
      "outputs": [
        {
          "output_type": "stream",
          "name": "stdout",
          "text": [
            "ACCUIRACY SCORE\n",
            "0.7954954954954955\n"
          ]
        }
      ]
    },
    {
      "cell_type": "code",
      "source": [
        "#PRECISION RECALL MATRIX\n",
        "print(\"precision/recall Metrics\")\n",
        "print(metrics.classification_report(test_y,classes))"
      ],
      "metadata": {
        "colab": {
          "base_uri": "https://localhost:8080/"
        },
        "id": "DAw0ad-KDsmI",
        "outputId": "cab37b29-1a7f-4e1f-d7e6-6ca91cfd7f94"
      },
      "execution_count": 31,
      "outputs": [
        {
          "output_type": "stream",
          "name": "stdout",
          "text": [
            "precision/recall Metrics\n",
            "              precision    recall  f1-score   support\n",
            "\n",
            "           0       0.78      0.92      0.85       679\n",
            "           1       0.83      0.59      0.69       431\n",
            "\n",
            "    accuracy                           0.80      1110\n",
            "   macro avg       0.81      0.76      0.77      1110\n",
            "weighted avg       0.80      0.80      0.79      1110\n",
            "\n"
          ]
        }
      ]
    },
    {
      "cell_type": "code",
      "source": [
        "#CONFUSION MATRIX\n",
        "print(\"CONFUSION MATRIX\")\n",
        "cf=metrics.confusion_matrix(test_y,classes)\n",
        "lbl1=[\"Predicted 0\",\"Predicted 1\"]\n",
        "lbl2=[\"True 0\",\"True 1\"]\n",
        "sns.heatmap(cf,annot=True,cmap=\"Greens\",fmt=\"d\",xticklabels=lbl1,yticklabels=lbl2)\n",
        "plt.show()"
      ],
      "metadata": {
        "colab": {
          "base_uri": "https://localhost:8080/",
          "height": 300
        },
        "id": "nyOFpw3HDxln",
        "outputId": "5e45dd08-7aa5-4444-9f44-f2a035d14088"
      },
      "execution_count": 32,
      "outputs": [
        {
          "output_type": "stream",
          "name": "stdout",
          "text": [
            "CONFUSION MATRIX\n"
          ]
        },
        {
          "output_type": "execute_result",
          "data": {
            "text/plain": [
              "<AxesSubplot:>"
            ]
          },
          "metadata": {},
          "execution_count": 32
        },
        {
          "output_type": "display_data",
          "data": {
            "text/plain": [
              "<Figure size 432x288 with 2 Axes>"
            ],
            "image/png": "[encoded data removed]"
          },
          "metadata": {
            "needs_background": "light"
          }
        }
      ]
    },
    {
      "cell_type": "code",
      "source": [
        "#AUC\n",
        "print(\"AUC\")\n",
        "auc=metrics.roc_auc_score(test_y,classes)\n",
        "auc"
      ],
      "metadata": {
        "colab": {
          "base_uri": "https://localhost:8080/"
        },
        "id": "0CkJTrAcuR9T",
        "outputId": "d0c1882b-3e7e-4566-cedc-1f58c2eb9ead"
      },
      "execution_count": 33,
      "outputs": [
        {
          "output_type": "stream",
          "name": "stdout",
          "text": [
            "AUC\n"
          ]
        },
        {
          "output_type": "execute_result",
          "data": {
            "text/plain": [
              "0.7582684376163937"
            ]
          },
          "metadata": {},
          "execution_count": 33
        }
      ]
    },
    {
      "cell_type": "code",
      "source": [
        "#ROC CHART\n",
        "fpr,tpr,th=roc_curve(test_y,classes)\n",
        "roc_auc=metrics.auc(fpr,tpr)\n",
        "import matplotlib.pyplot as plt\n",
        "plt.title(\"ROCR CHART\")\n",
        "plt.plot(fpr,tpr,'b',label=\"AUC=%0.2F\"%roc_auc)\n",
        "plt.legend(loc=\"lower right\")\n",
        "plt.plot([0,1],[0,1],\"o--\")\n",
        "plt.xlim([0,1])\n",
        "plt.ylim([0,1])\n",
        "plt.ylabel(\"TRUE POSITIVE RATE\")\n",
        "plt.xlabel(\"FALSE POSITIVE RATE\")\n",
        "plt.show();"
      ],
      "metadata": {
        "colab": {
          "base_uri": "https://localhost:8080/",
          "height": 295
        },
        "id": "GHvYO3IbuzxY",
        "outputId": "e9e938b7-3474-4740-8be7-2de69aa9a35a"
      },
      "execution_count": 34,
      "outputs": [
        {
          "output_type": "display_data",
          "data": {
            "text/plain": [
              "<Figure size 432x288 with 1 Axes>"
            ],
            "image/png": "[encoded data removed]"
          },
          "metadata": {
            "needs_background": "light"
          }
        }
      ]
    },
    {
      "cell_type": "code",
      "execution_count": 35,
      "metadata": {
        "colab": {
          "base_uri": "https://localhost:8080/",
          "height": 92
        },
        "id": "vaF4oyC17g0t",
        "outputId": "187d8d38-461e-4052-bfde-9ecdc13bb2ae"
      },
      "outputs": [
        {
          "output_type": "execute_result",
          "data": {
            "text/plain": [
              "DecisionTreeClassifier(max_depth=2, max_features=5, min_samples_leaf=5,\n",
              "                       random_state=0)"
            ],
            "text/html": [
              "<style>#sk-container-id-2 {color: black;background-color: white;}#sk-container-id-2 pre{padding: 0;}#sk-container-id-2 div.sk-toggleable {background-color: white;}#sk-container-id-2 label.sk-toggleable__label {cursor: pointer;display: block;width: 100%;margin-bottom: 0;padding: 0.3em;box-sizing: border-box;text-align: center;}#sk-container-id-2 label.sk-toggleable__label-arrow:before {content: \"▸\";float: left;margin-right: 0.25em;color: #696969;}#sk-container-id-2 label.sk-toggleable__label-arrow:hover:before {color: black;}#sk-container-id-2 div.sk-estimator:hover label.sk-toggleable__label-arrow:before {color: black;}#sk-container-id-2 div.sk-toggleable__content {max-height: 0;max-width: 0;overflow: hidden;text-align: left;background-color: #f0f8ff;}#sk-container-id-2 div.sk-toggleable__content pre {margin: 0.2em;color: black;border-radius: 0.25em;background-color: #f0f8ff;}#sk-container-id-2 input.sk-toggleable__control:checked~div.sk-toggleable__content {max-height: 200px;max-width: 100%;overflow: auto;}#sk-container-id-2 input.sk-toggleable__control:checked~label.sk-toggleable__label-arrow:before {content: \"▾\";}#sk-container-id-2 div.sk-estimator input.sk-toggleable__control:checked~label.sk-toggleable__label {background-color: #d4ebff;}#sk-container-id-2 div.sk-label input.sk-toggleable__control:checked~label.sk-toggleable__label {background-color: #d4ebff;}#sk-container-id-2 input.sk-hidden--visually {border: 0;clip: rect(1px 1px 1px 1px);clip: rect(1px, 1px, 1px, 1px);height: 1px;margin: -1px;overflow: hidden;padding: 0;position: absolute;width: 1px;}#sk-container-id-2 div.sk-estimator {font-family: monospace;background-color: #f0f8ff;border: 1px dotted black;border-radius: 0.25em;box-sizing: border-box;margin-bottom: 0.5em;}#sk-container-id-2 div.sk-estimator:hover {background-color: #d4ebff;}#sk-container-id-2 div.sk-parallel-item::after {content: \"\";width: 100%;border-bottom: 1px solid gray;flex-grow: 1;}#sk-container-id-2 div.sk-label:hover label.sk-toggleable__label {background-color: #d4ebff;}#sk-container-id-2 div.sk-serial::before {content: \"\";position: absolute;border-left: 1px solid gray;box-sizing: border-box;top: 0;bottom: 0;left: 50%;z-index: 0;}#sk-container-id-2 div.sk-serial {display: flex;flex-direction: column;align-items: center;background-color: white;padding-right: 0.2em;padding-left: 0.2em;position: relative;}#sk-container-id-2 div.sk-item {position: relative;z-index: 1;}#sk-container-id-2 div.sk-parallel {display: flex;align-items: stretch;justify-content: center;background-color: white;position: relative;}#sk-container-id-2 div.sk-item::before, #sk-container-id-2 div.sk-parallel-item::before {content: \"\";position: absolute;border-left: 1px solid gray;box-sizing: border-box;top: 0;bottom: 0;left: 50%;z-index: -1;}#sk-container-id-2 div.sk-parallel-item {display: flex;flex-direction: column;z-index: 1;position: relative;background-color: white;}#sk-container-id-2 div.sk-parallel-item:first-child::after {align-self: flex-end;width: 50%;}#sk-container-id-2 div.sk-parallel-item:last-child::after {align-self: flex-start;width: 50%;}#sk-container-id-2 div.sk-parallel-item:only-child::after {width: 0;}#sk-container-id-2 div.sk-dashed-wrapped {border: 1px dashed gray;margin: 0 0.4em 0.5em 0.4em;box-sizing: border-box;padding-bottom: 0.4em;background-color: white;}#sk-container-id-2 div.sk-label label {font-family: monospace;font-weight: bold;display: inline-block;line-height: 1.2em;}#sk-container-id-2 div.sk-label-container {text-align: center;}#sk-container-id-2 div.sk-container {/* jupyter's `normalize.less` sets `[hidden] { display: none; }` but bootstrap.min.css set `[hidden] { display: none !important; }` so we also need the `!important` here to be able to override the default hidden behavior on the sphinx rendered scikit-learn.org. See: https://github.com/scikit-learn/scikit-learn/issues/21755 */display: inline-block !important;position: relative;}#sk-container-id-2 div.sk-text-repr-fallback {display: none;}</style><div id=\"sk-container-id-2\" class=\"sk-top-container\"><div class=\"sk-text-repr-fallback\"><pre>DecisionTreeClassifier(max_depth=2, max_features=5, min_samples_leaf=5,\n",
              "                       random_state=0)</pre><b>In a Jupyter environment, please rerun this cell to show the HTML representation or trust the notebook. <br />On GitHub, the HTML representation is unable to render, please try loading this page with nbviewer.org.</b></div><div class=\"sk-container\" hidden><div class=\"sk-item\"><div class=\"sk-estimator sk-toggleable\"><input class=\"sk-toggleable__control sk-hidden--visually\" id=\"sk-estimator-id-2\" type=\"checkbox\" checked><label for=\"sk-estimator-id-2\" class=\"sk-toggleable__label sk-toggleable__label-arrow\">DecisionTreeClassifier</label><div class=\"sk-toggleable__content\"><pre>DecisionTreeClassifier(max_depth=2, max_features=5, min_samples_leaf=5,\n",
              "                       random_state=0)</pre></div></div></div></div></div>"
            ]
          },
          "metadata": {},
          "execution_count": 35
        }
      ],
      "source": [
        "from sklearn.tree import DecisionTreeClassifier\n",
        "from sklearn import tree\n",
        "import pydotplus\n",
        "\n",
        "#CREATE DECISION TREE CLASSIFIER OBJECT\n",
        "decisiontree1=DecisionTreeClassifier(criterion=\"gini\",random_state=0,max_depth=2,min_samples_leaf=5,max_features=5)\n",
        "#TRAIN MODEL\n",
        "model=decisiontree1.fit(train_x,train_y)\n",
        "model\n",
        "classes=decisiontree1.predict(test_x)"
      ]
    },
    {
      "cell_type": "markdown",
      "source": [
        "#DECISION TREE CLASSIFIER"
      ],
      "metadata": {
        "id": "0TcHsEufJMsW"
      }
    },
    {
      "cell_type": "code",
      "execution_count": 36,
      "metadata": {
        "colab": {
          "base_uri": "https://localhost:8080/"
        },
        "id": "P6tM2O1uP9xb",
        "outputId": "482de03d-a92f-42f2-a0ca-569dd06a2ae2"
      },
      "outputs": [
        {
          "output_type": "stream",
          "name": "stdout",
          "text": [
            "ACCUIRACY SCORE\n",
            "0.6297297297297297\n"
          ]
        }
      ],
      "source": [
        "#PRECISION AND RECALL\n",
        "print(\"ACCUIRACY SCORE\")\n",
        "print(metrics.accuracy_score(test_y,classes))"
      ]
    },
    {
      "cell_type": "code",
      "execution_count": 37,
      "metadata": {
        "colab": {
          "base_uri": "https://localhost:8080/"
        },
        "id": "KE4llBX-QBVt",
        "outputId": "31b44095-9c6d-4d71-a02e-f5f6c32bd36c"
      },
      "outputs": [
        {
          "output_type": "stream",
          "name": "stdout",
          "text": [
            "precision/recall Metrics\n",
            "              precision    recall  f1-score   support\n",
            "\n",
            "           0       0.63      0.94      0.76       679\n",
            "           1       0.59      0.15      0.23       431\n",
            "\n",
            "    accuracy                           0.63      1110\n",
            "   macro avg       0.61      0.54      0.50      1110\n",
            "weighted avg       0.62      0.63      0.55      1110\n",
            "\n"
          ]
        }
      ],
      "source": [
        "#PRECISION RECALL MATRIX\n",
        "print(\"precision/recall Metrics\")\n",
        "print(metrics.classification_report(test_y,classes))"
      ]
    },
    {
      "cell_type": "code",
      "execution_count": 38,
      "metadata": {
        "colab": {
          "base_uri": "https://localhost:8080/",
          "height": 300
        },
        "id": "2oWYGuYFQeyH",
        "outputId": "835ed634-0577-4a14-d40c-83b3cc47f6f9"
      },
      "outputs": [
        {
          "output_type": "stream",
          "name": "stdout",
          "text": [
            "CONFUSION MATRIX\n"
          ]
        },
        {
          "output_type": "execute_result",
          "data": {
            "text/plain": [
              "<AxesSubplot:>"
            ]
          },
          "metadata": {},
          "execution_count": 38
        },
        {
          "output_type": "display_data",
          "data": {
            "text/plain": [
              "<Figure size 432x288 with 2 Axes>"
            ],
            "image/png": "[encoded data removed]"
          },
          "metadata": {
            "needs_background": "light"
          }
        }
      ],
      "source": [
        "#CONFUSION MATRIX\n",
        "print(\"CONFUSION MATRIX\")\n",
        "cf=metrics.confusion_matrix(test_y,classes)\n",
        "lbl1=[\"Predicted 0\",\"Predicted 1\"]\n",
        "lbl2=[\"True 0\",\"True 1\"]\n",
        "sns.heatmap(cf,annot=True,cmap=\"Greens\",fmt=\"d\",xticklabels=lbl1,yticklabels=lbl2)\n",
        "plt.show()"
      ]
    },
    {
      "cell_type": "code",
      "source": [
        "#AUC\n",
        "print(\"AUC\")\n",
        "auc=metrics.roc_auc_score(test_y,classes)\n",
        "auc"
      ],
      "metadata": {
        "colab": {
          "base_uri": "https://localhost:8080/"
        },
        "outputId": "c1764ee0-a646-4526-e7ce-3036146bf056",
        "id": "T1fcZACAxYqm"
      },
      "execution_count": 39,
      "outputs": [
        {
          "output_type": "stream",
          "name": "stdout",
          "text": [
            "AUC\n"
          ]
        },
        {
          "output_type": "execute_result",
          "data": {
            "text/plain": [
              "0.5414216347911662"
            ]
          },
          "metadata": {},
          "execution_count": 39
        }
      ]
    },
    {
      "cell_type": "code",
      "source": [
        "#ROC CHART\n",
        "fpr,tpr,th=roc_curve(test_y,classes)\n",
        "roc_auc=metrics.auc(fpr,tpr)\n",
        "import matplotlib.pyplot as plt\n",
        "plt.title(\"ROCR CHART\")\n",
        "plt.plot(fpr,tpr,'b',label=\"AUC=%0.2F\"%roc_auc)\n",
        "plt.legend(loc=\"lower right\")\n",
        "plt.plot([0,1],[0,1],\"o--\")\n",
        "plt.xlim([0,1])\n",
        "plt.ylim([0,1])\n",
        "plt.ylabel(\"TRUE POSITIVE RATE\")\n",
        "plt.xlabel(\"FALSE POSITIVE RATE\")\n",
        "plt.show();"
      ],
      "metadata": {
        "colab": {
          "base_uri": "https://localhost:8080/",
          "height": 295
        },
        "outputId": "ca086cf4-d65c-4bf4-e9cb-ef8a97aaa15b",
        "id": "Z4sJjbI3xYqo"
      },
      "execution_count": 40,
      "outputs": [
        {
          "output_type": "display_data",
          "data": {
            "text/plain": [
              "<Figure size 432x288 with 1 Axes>"
            ],
            "image/png": "[encoded data removed]"
          },
          "metadata": {
            "needs_background": "light"
          }
        }
      ]
    },
    {
      "cell_type": "code",
      "execution_count": 41,
      "metadata": {
        "id": "sga6HxEw9a4N"
      },
      "outputs": [],
      "source": [
        "from scipy.stats import randint\n",
        "from sklearn.tree import DecisionTreeClassifier\n",
        "from sklearn.model_selection import RandomizedSearchCV\n",
        "from sklearn.ensemble import RandomForestClassifier\n",
        "from sklearn import tree\n",
        "from sklearn.model_selection import GridSearchCV"
      ]
    },
    {
      "cell_type": "code",
      "execution_count": 42,
      "metadata": {
        "id": "bTCns2_c9LmE"
      },
      "outputs": [],
      "source": [
        "\n",
        "param_dist = {\"max_depth\": [20,50,100,150,200,250],\n",
        "              \"max_features\": randint(3,15),\n",
        "              \"min_samples_leaf\": randint(3,6),\n",
        "              \"criterion\": [\"gini\",\"entropy\"]}"
      ]
    },
    {
      "cell_type": "code",
      "execution_count": 43,
      "metadata": {
        "id": "fCbR5pix9iBN"
      },
      "outputs": [],
      "source": [
        "# Instantiate the RandomizedSearchCV object: tree_cv\n",
        "tree_cv = RandomizedSearchCV(decisiontree1, param_dist, cv=5)"
      ]
    },
    {
      "cell_type": "code",
      "execution_count": 44,
      "metadata": {
        "colab": {
          "base_uri": "https://localhost:8080/",
          "height": 152
        },
        "id": "T4Q4Z0jp9r7w",
        "outputId": "6ed6384d-97d8-42a8-be6e-ca294b2eed26"
      },
      "outputs": [
        {
          "output_type": "execute_result",
          "data": {
            "text/plain": [
              "RandomizedSearchCV(cv=5,\n",
              "                   estimator=DecisionTreeClassifier(max_depth=2, max_features=5,\n",
              "                                                    min_samples_leaf=5,\n",
              "                                                    random_state=0),\n",
              "                   param_distributions={'criterion': ['gini', 'entropy'],\n",
              "                                        'max_depth': [20, 50, 100, 150, 200,\n",
              "                                                      250],\n",
              "                                        'max_features': <scipy.stats._distn_infrastructure.rv_discrete_frozen object at 0x7f40d106b6d0>,\n",
              "                                        'min_samples_leaf': <scipy.stats._distn_infrastructure.rv_discrete_frozen object at 0x7f40ce93d400>})"
            ],
            "text/html": [
              "<style>#sk-container-id-3 {color: black;background-color: white;}#sk-container-id-3 pre{padding: 0;}#sk-container-id-3 div.sk-toggleable {background-color: white;}#sk-container-id-3 label.sk-toggleable__label {cursor: pointer;display: block;width: 100%;margin-bottom: 0;padding: 0.3em;box-sizing: border-box;text-align: center;}#sk-container-id-3 label.sk-toggleable__label-arrow:before {content: \"▸\";float: left;margin-right: 0.25em;color: #696969;}#sk-container-id-3 label.sk-toggleable__label-arrow:hover:before {color: black;}#sk-container-id-3 div.sk-estimator:hover label.sk-toggleable__label-arrow:before {color: black;}#sk-container-id-3 div.sk-toggleable__content {max-height: 0;max-width: 0;overflow: hidden;text-align: left;background-color: #f0f8ff;}#sk-container-id-3 div.sk-toggleable__content pre {margin: 0.2em;color: black;border-radius: 0.25em;background-color: #f0f8ff;}#sk-container-id-3 input.sk-toggleable__control:checked~div.sk-toggleable__content {max-height: 200px;max-width: 100%;overflow: auto;}#sk-container-id-3 input.sk-toggleable__control:checked~label.sk-toggleable__label-arrow:before {content: \"▾\";}#sk-container-id-3 div.sk-estimator input.sk-toggleable__control:checked~label.sk-toggleable__label {background-color: #d4ebff;}#sk-container-id-3 div.sk-label input.sk-toggleable__control:checked~label.sk-toggleable__label {background-color: #d4ebff;}#sk-container-id-3 input.sk-hidden--visually {border: 0;clip: rect(1px 1px 1px 1px);clip: rect(1px, 1px, 1px, 1px);height: 1px;margin: -1px;overflow: hidden;padding: 0;position: absolute;width: 1px;}#sk-container-id-3 div.sk-estimator {font-family: monospace;background-color: #f0f8ff;border: 1px dotted black;border-radius: 0.25em;box-sizing: border-box;margin-bottom: 0.5em;}#sk-container-id-3 div.sk-estimator:hover {background-color: #d4ebff;}#sk-container-id-3 div.sk-parallel-item::after {content: \"\";width: 100%;border-bottom: 1px solid gray;flex-grow: 1;}#sk-container-id-3 div.sk-label:hover label.sk-toggleable__label {background-color: #d4ebff;}#sk-container-id-3 div.sk-serial::before {content: \"\";position: absolute;border-left: 1px solid gray;box-sizing: border-box;top: 0;bottom: 0;left: 50%;z-index: 0;}#sk-container-id-3 div.sk-serial {display: flex;flex-direction: column;align-items: center;background-color: white;padding-right: 0.2em;padding-left: 0.2em;position: relative;}#sk-container-id-3 div.sk-item {position: relative;z-index: 1;}#sk-container-id-3 div.sk-parallel {display: flex;align-items: stretch;justify-content: center;background-color: white;position: relative;}#sk-container-id-3 div.sk-item::before, #sk-container-id-3 div.sk-parallel-item::before {content: \"\";position: absolute;border-left: 1px solid gray;box-sizing: border-box;top: 0;bottom: 0;left: 50%;z-index: -1;}#sk-container-id-3 div.sk-parallel-item {display: flex;flex-direction: column;z-index: 1;position: relative;background-color: white;}#sk-container-id-3 div.sk-parallel-item:first-child::after {align-self: flex-end;width: 50%;}#sk-container-id-3 div.sk-parallel-item:last-child::after {align-self: flex-start;width: 50%;}#sk-container-id-3 div.sk-parallel-item:only-child::after {width: 0;}#sk-container-id-3 div.sk-dashed-wrapped {border: 1px dashed gray;margin: 0 0.4em 0.5em 0.4em;box-sizing: border-box;padding-bottom: 0.4em;background-color: white;}#sk-container-id-3 div.sk-label label {font-family: monospace;font-weight: bold;display: inline-block;line-height: 1.2em;}#sk-container-id-3 div.sk-label-container {text-align: center;}#sk-container-id-3 div.sk-container {/* jupyter's `normalize.less` sets `[hidden] { display: none; }` but bootstrap.min.css set `[hidden] { display: none !important; }` so we also need the `!important` here to be able to override the default hidden behavior on the sphinx rendered scikit-learn.org. See: https://github.com/scikit-learn/scikit-learn/issues/21755 */display: inline-block !important;position: relative;}#sk-container-id-3 div.sk-text-repr-fallback {display: none;}</style><div id=\"sk-container-id-3\" class=\"sk-top-container\"><div class=\"sk-text-repr-fallback\"><pre>RandomizedSearchCV(cv=5,\n",
              "                   estimator=DecisionTreeClassifier(max_depth=2, max_features=5,\n",
              "                                                    min_samples_leaf=5,\n",
              "                                                    random_state=0),\n",
              "                   param_distributions={&#x27;criterion&#x27;: [&#x27;gini&#x27;, &#x27;entropy&#x27;],\n",
              "                                        &#x27;max_depth&#x27;: [20, 50, 100, 150, 200,\n",
              "                                                      250],\n",
              "                                        &#x27;max_features&#x27;: &lt;scipy.stats._distn_infrastructure.rv_discrete_frozen object at 0x7f40d106b6d0&gt;,\n",
              "                                        &#x27;min_samples_leaf&#x27;: &lt;scipy.stats._distn_infrastructure.rv_discrete_frozen object at 0x7f40ce93d400&gt;})</pre><b>In a Jupyter environment, please rerun this cell to show the HTML representation or trust the notebook. <br />On GitHub, the HTML representation is unable to render, please try loading this page with nbviewer.org.</b></div><div class=\"sk-container\" hidden><div class=\"sk-item sk-dashed-wrapped\"><div class=\"sk-label-container\"><div class=\"sk-label sk-toggleable\"><input class=\"sk-toggleable__control sk-hidden--visually\" id=\"sk-estimator-id-3\" type=\"checkbox\" ><label for=\"sk-estimator-id-3\" class=\"sk-toggleable__label sk-toggleable__label-arrow\">RandomizedSearchCV</label><div class=\"sk-toggleable__content\"><pre>RandomizedSearchCV(cv=5,\n",
              "                   estimator=DecisionTreeClassifier(max_depth=2, max_features=5,\n",
              "                                                    min_samples_leaf=5,\n",
              "                                                    random_state=0),\n",
              "                   param_distributions={&#x27;criterion&#x27;: [&#x27;gini&#x27;, &#x27;entropy&#x27;],\n",
              "                                        &#x27;max_depth&#x27;: [20, 50, 100, 150, 200,\n",
              "                                                      250],\n",
              "                                        &#x27;max_features&#x27;: &lt;scipy.stats._distn_infrastructure.rv_discrete_frozen object at 0x7f40d106b6d0&gt;,\n",
              "                                        &#x27;min_samples_leaf&#x27;: &lt;scipy.stats._distn_infrastructure.rv_discrete_frozen object at 0x7f40ce93d400&gt;})</pre></div></div></div><div class=\"sk-parallel\"><div class=\"sk-parallel-item\"><div class=\"sk-item\"><div class=\"sk-label-container\"><div class=\"sk-label sk-toggleable\"><input class=\"sk-toggleable__control sk-hidden--visually\" id=\"sk-estimator-id-4\" type=\"checkbox\" ><label for=\"sk-estimator-id-4\" class=\"sk-toggleable__label sk-toggleable__label-arrow\">estimator: DecisionTreeClassifier</label><div class=\"sk-toggleable__content\"><pre>DecisionTreeClassifier(max_depth=2, max_features=5, min_samples_leaf=5,\n",
              "                       random_state=0)</pre></div></div></div><div class=\"sk-serial\"><div class=\"sk-item\"><div class=\"sk-estimator sk-toggleable\"><input class=\"sk-toggleable__control sk-hidden--visually\" id=\"sk-estimator-id-5\" type=\"checkbox\" ><label for=\"sk-estimator-id-5\" class=\"sk-toggleable__label sk-toggleable__label-arrow\">DecisionTreeClassifier</label><div class=\"sk-toggleable__content\"><pre>DecisionTreeClassifier(max_depth=2, max_features=5, min_samples_leaf=5,\n",
              "                       random_state=0)</pre></div></div></div></div></div></div></div></div></div></div>"
            ]
          },
          "metadata": {},
          "execution_count": 44
        },
        {
          "output_type": "stream",
          "name": "stdout",
          "text": [
            "Tuned Decision Tree Parameters: {'criterion': 'entropy', 'max_depth': 50, 'max_features': 11, 'min_samples_leaf': 5}\n",
            "Best score is 0.661937952608753\n"
          ]
        }
      ],
      "source": [
        "# Fit it to the data\n",
        "tree_cv.fit(train_x,train_y)\n",
        "# Print the tuned parameters and score\n",
        "print(\"Tuned Decision Tree Parameters: {}\".format(tree_cv.best_params_))\n",
        "print(\"Best score is {}\".format(tree_cv.best_score_))\n",
        "classes=tree_cv.predict(test_x)"
      ]
    },
    {
      "cell_type": "markdown",
      "source": [
        "#RandomizedSearchCV"
      ],
      "metadata": {
        "id": "ctUJjm9RJZOP"
      }
    },
    {
      "cell_type": "code",
      "execution_count": 45,
      "metadata": {
        "colab": {
          "base_uri": "https://localhost:8080/"
        },
        "id": "WN7B0ECQ97dx",
        "outputId": "02f4d0d9-4747-4845-f010-7729b7ed98a7"
      },
      "outputs": [
        {
          "output_type": "stream",
          "name": "stdout",
          "text": [
            "ACCUIRACY SCORE\n",
            "0.6684684684684684\n"
          ]
        }
      ],
      "source": [
        "#PRECISION AND RECALL\n",
        "print(\"ACCUIRACY SCORE\")\n",
        "print(metrics.accuracy_score(test_y,classes))"
      ]
    },
    {
      "cell_type": "code",
      "execution_count": 46,
      "metadata": {
        "colab": {
          "base_uri": "https://localhost:8080/"
        },
        "id": "QYLPYOXU97dz",
        "outputId": "b4f17a15-5ec6-4f63-f7e0-bd2441e4e2d6"
      },
      "outputs": [
        {
          "output_type": "stream",
          "name": "stdout",
          "text": [
            "precision/recall Metrics\n",
            "              precision    recall  f1-score   support\n",
            "\n",
            "           0       0.72      0.75      0.73       679\n",
            "           1       0.58      0.55      0.56       431\n",
            "\n",
            "    accuracy                           0.67      1110\n",
            "   macro avg       0.65      0.65      0.65      1110\n",
            "weighted avg       0.67      0.67      0.67      1110\n",
            "\n"
          ]
        }
      ],
      "source": [
        "#PRECISION RECALL MATRIX\n",
        "print(\"precision/recall Metrics\")\n",
        "print(metrics.classification_report(test_y,classes))"
      ]
    },
    {
      "cell_type": "code",
      "execution_count": 47,
      "metadata": {
        "colab": {
          "base_uri": "https://localhost:8080/",
          "height": 300
        },
        "id": "OhHmNgSf97d0",
        "outputId": "974a29e7-be8e-4e7b-fcd1-922b927dddec"
      },
      "outputs": [
        {
          "output_type": "stream",
          "name": "stdout",
          "text": [
            "CONFUSION MATRIX\n"
          ]
        },
        {
          "output_type": "execute_result",
          "data": {
            "text/plain": [
              "<AxesSubplot:>"
            ]
          },
          "metadata": {},
          "execution_count": 47
        },
        {
          "output_type": "display_data",
          "data": {
            "text/plain": [
              "<Figure size 432x288 with 2 Axes>"
            ],
            "image/png": "[encoded data removed]"
          },
          "metadata": {
            "needs_background": "light"
          }
        }
      ],
      "source": [
        "#CONFUSION MATRIX\n",
        "print(\"CONFUSION MATRIX\")\n",
        "cf=metrics.confusion_matrix(test_y,classes)\n",
        "lbl1=[\"Predicted 0\",\"Predicted 1\"]\n",
        "lbl2=[\"True 0\",\"True 1\"]\n",
        "sns.heatmap(cf,annot=True,cmap=\"Greens\",fmt=\"d\",xticklabels=lbl1,yticklabels=lbl2)\n",
        "plt.show()"
      ]
    },
    {
      "cell_type": "code",
      "source": [
        "#AUC\n",
        "print(\"AUC\")\n",
        "auc=metrics.roc_auc_score(test_y,classes)\n",
        "auc"
      ],
      "metadata": {
        "colab": {
          "base_uri": "https://localhost:8080/"
        },
        "outputId": "3f5d3426-a8c5-49b2-9067-66a4cc9f9a78",
        "id": "eq-Wu_o6xcYj"
      },
      "execution_count": 48,
      "outputs": [
        {
          "output_type": "stream",
          "name": "stdout",
          "text": [
            "AUC\n"
          ]
        },
        {
          "output_type": "execute_result",
          "data": {
            "text/plain": [
              "0.6459649614384467"
            ]
          },
          "metadata": {},
          "execution_count": 48
        }
      ]
    },
    {
      "cell_type": "code",
      "source": [
        "#ROC CHART\n",
        "fpr,tpr,th=roc_curve(test_y,classes)\n",
        "roc_auc=metrics.auc(fpr,tpr)\n",
        "import matplotlib.pyplot as plt\n",
        "plt.title(\"ROCR CHART\")\n",
        "plt.plot(fpr,tpr,'b',label=\"AUC=%0.2F\"%roc_auc)\n",
        "plt.legend(loc=\"lower right\")\n",
        "plt.plot([0,1],[0,1],\"o--\")\n",
        "plt.xlim([0,1])\n",
        "plt.ylim([0,1])\n",
        "plt.ylabel(\"TRUE POSITIVE RATE\")\n",
        "plt.xlabel(\"FALSE POSITIVE RATE\")\n",
        "plt.show();"
      ],
      "metadata": {
        "colab": {
          "base_uri": "https://localhost:8080/",
          "height": 295
        },
        "outputId": "55556585-315f-47b2-d7f9-cf9e7fdabce3",
        "id": "wKX9h4gNxcYl"
      },
      "execution_count": 49,
      "outputs": [
        {
          "output_type": "display_data",
          "data": {
            "text/plain": [
              "<Figure size 432x288 with 1 Axes>"
            ],
            "image/png": "[encoded data removed]"
          },
          "metadata": {
            "needs_background": "light"
          }
        }
      ]
    },
    {
      "cell_type": "code",
      "execution_count": 50,
      "metadata": {
        "colab": {
          "base_uri": "https://localhost:8080/",
          "height": 118
        },
        "id": "1_hGRTRR_VU-",
        "outputId": "ff652539-c280-4e0e-d28e-8cbd8b10d42c"
      },
      "outputs": [
        {
          "output_type": "execute_result",
          "data": {
            "text/plain": [
              "GridSearchCV(cv=3, estimator=DecisionTreeClassifier(),\n",
              "             param_grid={'criterion': ['gini', 'entropy'],\n",
              "                         'max_depth': [2, 5, 20, 30, 45, 50]})"
            ],
            "text/html": [
              "<style>#sk-container-id-4 {color: black;background-color: white;}#sk-container-id-4 pre{padding: 0;}#sk-container-id-4 div.sk-toggleable {background-color: white;}#sk-container-id-4 label.sk-toggleable__label {cursor: pointer;display: block;width: 100%;margin-bottom: 0;padding: 0.3em;box-sizing: border-box;text-align: center;}#sk-container-id-4 label.sk-toggleable__label-arrow:before {content: \"▸\";float: left;margin-right: 0.25em;color: #696969;}#sk-container-id-4 label.sk-toggleable__label-arrow:hover:before {color: black;}#sk-container-id-4 div.sk-estimator:hover label.sk-toggleable__label-arrow:before {color: black;}#sk-container-id-4 div.sk-toggleable__content {max-height: 0;max-width: 0;overflow: hidden;text-align: left;background-color: #f0f8ff;}#sk-container-id-4 div.sk-toggleable__content pre {margin: 0.2em;color: black;border-radius: 0.25em;background-color: #f0f8ff;}#sk-container-id-4 input.sk-toggleable__control:checked~div.sk-toggleable__content {max-height: 200px;max-width: 100%;overflow: auto;}#sk-container-id-4 input.sk-toggleable__control:checked~label.sk-toggleable__label-arrow:before {content: \"▾\";}#sk-container-id-4 div.sk-estimator input.sk-toggleable__control:checked~label.sk-toggleable__label {background-color: #d4ebff;}#sk-container-id-4 div.sk-label input.sk-toggleable__control:checked~label.sk-toggleable__label {background-color: #d4ebff;}#sk-container-id-4 input.sk-hidden--visually {border: 0;clip: rect(1px 1px 1px 1px);clip: rect(1px, 1px, 1px, 1px);height: 1px;margin: -1px;overflow: hidden;padding: 0;position: absolute;width: 1px;}#sk-container-id-4 div.sk-estimator {font-family: monospace;background-color: #f0f8ff;border: 1px dotted black;border-radius: 0.25em;box-sizing: border-box;margin-bottom: 0.5em;}#sk-container-id-4 div.sk-estimator:hover {background-color: #d4ebff;}#sk-container-id-4 div.sk-parallel-item::after {content: \"\";width: 100%;border-bottom: 1px solid gray;flex-grow: 1;}#sk-container-id-4 div.sk-label:hover label.sk-toggleable__label {background-color: #d4ebff;}#sk-container-id-4 div.sk-serial::before {content: \"\";position: absolute;border-left: 1px solid gray;box-sizing: border-box;top: 0;bottom: 0;left: 50%;z-index: 0;}#sk-container-id-4 div.sk-serial {display: flex;flex-direction: column;align-items: center;background-color: white;padding-right: 0.2em;padding-left: 0.2em;position: relative;}#sk-container-id-4 div.sk-item {position: relative;z-index: 1;}#sk-container-id-4 div.sk-parallel {display: flex;align-items: stretch;justify-content: center;background-color: white;position: relative;}#sk-container-id-4 div.sk-item::before, #sk-container-id-4 div.sk-parallel-item::before {content: \"\";position: absolute;border-left: 1px solid gray;box-sizing: border-box;top: 0;bottom: 0;left: 50%;z-index: -1;}#sk-container-id-4 div.sk-parallel-item {display: flex;flex-direction: column;z-index: 1;position: relative;background-color: white;}#sk-container-id-4 div.sk-parallel-item:first-child::after {align-self: flex-end;width: 50%;}#sk-container-id-4 div.sk-parallel-item:last-child::after {align-self: flex-start;width: 50%;}#sk-container-id-4 div.sk-parallel-item:only-child::after {width: 0;}#sk-container-id-4 div.sk-dashed-wrapped {border: 1px dashed gray;margin: 0 0.4em 0.5em 0.4em;box-sizing: border-box;padding-bottom: 0.4em;background-color: white;}#sk-container-id-4 div.sk-label label {font-family: monospace;font-weight: bold;display: inline-block;line-height: 1.2em;}#sk-container-id-4 div.sk-label-container {text-align: center;}#sk-container-id-4 div.sk-container {/* jupyter's `normalize.less` sets `[hidden] { display: none; }` but bootstrap.min.css set `[hidden] { display: none !important; }` so we also need the `!important` here to be able to override the default hidden behavior on the sphinx rendered scikit-learn.org. See: https://github.com/scikit-learn/scikit-learn/issues/21755 */display: inline-block !important;position: relative;}#sk-container-id-4 div.sk-text-repr-fallback {display: none;}</style><div id=\"sk-container-id-4\" class=\"sk-top-container\"><div class=\"sk-text-repr-fallback\"><pre>GridSearchCV(cv=3, estimator=DecisionTreeClassifier(),\n",
              "             param_grid={&#x27;criterion&#x27;: [&#x27;gini&#x27;, &#x27;entropy&#x27;],\n",
              "                         &#x27;max_depth&#x27;: [2, 5, 20, 30, 45, 50]})</pre><b>In a Jupyter environment, please rerun this cell to show the HTML representation or trust the notebook. <br />On GitHub, the HTML representation is unable to render, please try loading this page with nbviewer.org.</b></div><div class=\"sk-container\" hidden><div class=\"sk-item sk-dashed-wrapped\"><div class=\"sk-label-container\"><div class=\"sk-label sk-toggleable\"><input class=\"sk-toggleable__control sk-hidden--visually\" id=\"sk-estimator-id-6\" type=\"checkbox\" ><label for=\"sk-estimator-id-6\" class=\"sk-toggleable__label sk-toggleable__label-arrow\">GridSearchCV</label><div class=\"sk-toggleable__content\"><pre>GridSearchCV(cv=3, estimator=DecisionTreeClassifier(),\n",
              "             param_grid={&#x27;criterion&#x27;: [&#x27;gini&#x27;, &#x27;entropy&#x27;],\n",
              "                         &#x27;max_depth&#x27;: [2, 5, 20, 30, 45, 50]})</pre></div></div></div><div class=\"sk-parallel\"><div class=\"sk-parallel-item\"><div class=\"sk-item\"><div class=\"sk-label-container\"><div class=\"sk-label sk-toggleable\"><input class=\"sk-toggleable__control sk-hidden--visually\" id=\"sk-estimator-id-7\" type=\"checkbox\" ><label for=\"sk-estimator-id-7\" class=\"sk-toggleable__label sk-toggleable__label-arrow\">estimator: DecisionTreeClassifier</label><div class=\"sk-toggleable__content\"><pre>DecisionTreeClassifier()</pre></div></div></div><div class=\"sk-serial\"><div class=\"sk-item\"><div class=\"sk-estimator sk-toggleable\"><input class=\"sk-toggleable__control sk-hidden--visually\" id=\"sk-estimator-id-8\" type=\"checkbox\" ><label for=\"sk-estimator-id-8\" class=\"sk-toggleable__label sk-toggleable__label-arrow\">DecisionTreeClassifier</label><div class=\"sk-toggleable__content\"><pre>DecisionTreeClassifier()</pre></div></div></div></div></div></div></div></div></div></div>"
            ]
          },
          "metadata": {},
          "execution_count": 50
        }
      ],
      "source": [
        "my_max_depth=[2,5,20,30,45,50]\n",
        "my_criterion=['gini','entropy']\n",
        "#BUILDING THE MODEL\n",
        "mytreeone=DecisionTreeClassifier()\n",
        "#CROSS VALIDATION TELLS HOW A MODEL PERFORMS ON A DATASET USING MULTIPLE SAMPLES OF TRAIN DATA\n",
        "grid=GridSearchCV(estimator=mytreeone,cv=3,param_grid=dict(max_depth=my_max_depth,criterion=my_criterion))\n",
        "grid.fit(train_x,train_y)\n",
        "classes=grid.predict(test_x)"
      ]
    },
    {
      "cell_type": "markdown",
      "source": [
        "#GridSearchCV"
      ],
      "metadata": {
        "id": "Wk8PQXO2JgP3"
      }
    },
    {
      "cell_type": "code",
      "execution_count": 51,
      "metadata": {
        "colab": {
          "base_uri": "https://localhost:8080/"
        },
        "id": "crOus8iEAK3R",
        "outputId": "32a13215-2625-48b1-cb56-fdf76cc10e7e"
      },
      "outputs": [
        {
          "output_type": "stream",
          "name": "stdout",
          "text": [
            "ACCUIRACY SCORE\n",
            "0.6621621621621622\n"
          ]
        }
      ],
      "source": [
        "#PRECISION AND RECALL\n",
        "print(\"ACCUIRACY SCORE\")\n",
        "print(metrics.accuracy_score(test_y,classes))"
      ]
    },
    {
      "cell_type": "code",
      "execution_count": 52,
      "metadata": {
        "colab": {
          "base_uri": "https://localhost:8080/"
        },
        "id": "tWwbLMwkAK3T",
        "outputId": "a216eabe-5af6-4084-f58e-573309f24ed9"
      },
      "outputs": [
        {
          "output_type": "stream",
          "name": "stdout",
          "text": [
            "precision/recall Metrics\n",
            "              precision    recall  f1-score   support\n",
            "\n",
            "           0       0.71      0.75      0.73       679\n",
            "           1       0.57      0.53      0.55       431\n",
            "\n",
            "    accuracy                           0.66      1110\n",
            "   macro avg       0.64      0.64      0.64      1110\n",
            "weighted avg       0.66      0.66      0.66      1110\n",
            "\n"
          ]
        }
      ],
      "source": [
        "#PRECISION RECALL MATRIX\n",
        "print(\"precision/recall Metrics\")\n",
        "print(metrics.classification_report(test_y,classes))"
      ]
    },
    {
      "cell_type": "code",
      "execution_count": 53,
      "metadata": {
        "colab": {
          "base_uri": "https://localhost:8080/",
          "height": 300
        },
        "id": "9q8UQS4hAK3U",
        "outputId": "67213e6a-31b3-41d7-e482-91a3d37d1a2d"
      },
      "outputs": [
        {
          "output_type": "stream",
          "name": "stdout",
          "text": [
            "CONFUSION MATRIX\n"
          ]
        },
        {
          "output_type": "execute_result",
          "data": {
            "text/plain": [
              "<AxesSubplot:>"
            ]
          },
          "metadata": {},
          "execution_count": 53
        },
        {
          "output_type": "display_data",
          "data": {
            "text/plain": [
              "<Figure size 432x288 with 2 Axes>"
            ],
            "image/png": "[encoded data removed]"
          },
          "metadata": {
            "needs_background": "light"
          }
        }
      ],
      "source": [
        "#CONFUSION MATRIX\n",
        "print(\"CONFUSION MATRIX\")\n",
        "cf=metrics.confusion_matrix(test_y,classes)\n",
        "lbl1=[\"Predicted 0\",\"Predicted 1\"]\n",
        "lbl2=[\"True 0\",\"True 1\"]\n",
        "sns.heatmap(cf,annot=True,cmap=\"Greens\",fmt=\"d\",xticklabels=lbl1,yticklabels=lbl2)\n",
        "plt.show()"
      ]
    },
    {
      "cell_type": "code",
      "source": [
        "#AUC\n",
        "print(\"AUC\")\n",
        "auc=metrics.roc_auc_score(test_y,classes)\n",
        "auc"
      ],
      "metadata": {
        "colab": {
          "base_uri": "https://localhost:8080/"
        },
        "outputId": "fed9c1ae-14d7-44d5-9c1a-e7ca8a14fe7d",
        "id": "PT7rK6M0xfrH"
      },
      "execution_count": 54,
      "outputs": [
        {
          "output_type": "stream",
          "name": "stdout",
          "text": [
            "AUC\n"
          ]
        },
        {
          "output_type": "execute_result",
          "data": {
            "text/plain": [
              "0.6382680275688624"
            ]
          },
          "metadata": {},
          "execution_count": 54
        }
      ]
    },
    {
      "cell_type": "code",
      "source": [
        "#ROC CHART\n",
        "fpr,tpr,th=roc_curve(test_y,classes)\n",
        "roc_auc=metrics.auc(fpr,tpr)\n",
        "import matplotlib.pyplot as plt\n",
        "plt.title(\"ROCR CHART\")\n",
        "plt.plot(fpr,tpr,'b',label=\"AUC=%0.2F\"%roc_auc)\n",
        "plt.legend(loc=\"lower right\")\n",
        "plt.plot([0,1],[0,1],\"o--\")\n",
        "plt.xlim([0,1])\n",
        "plt.ylim([0,1])\n",
        "plt.ylabel(\"TRUE POSITIVE RATE\")\n",
        "plt.xlabel(\"FALSE POSITIVE RATE\")\n",
        "plt.show();"
      ],
      "metadata": {
        "colab": {
          "base_uri": "https://localhost:8080/",
          "height": 295
        },
        "outputId": "83a017d8-963f-4a99-bd0e-15b21a3aa631",
        "id": "fjvD7F98xfrJ"
      },
      "execution_count": 55,
      "outputs": [
        {
          "output_type": "display_data",
          "data": {
            "text/plain": [
              "<Figure size 432x288 with 1 Axes>"
            ],
            "image/png": "[encoded data removed]"
          },
          "metadata": {
            "needs_background": "light"
          }
        }
      ]
    },
    {
      "cell_type": "code",
      "execution_count": 56,
      "metadata": {
        "id": "67Xyd1VtAPmi"
      },
      "outputs": [],
      "source": [
        "n_estimators=[10,500,100,2000]\n",
        "criterion=['gini','entropy']\n",
        "min_samples_split=[2,100,20,50,100]\n",
        "max_depth=[20,30,40,50,None]"
      ]
    },
    {
      "cell_type": "code",
      "execution_count": 57,
      "metadata": {
        "colab": {
          "base_uri": "https://localhost:8080/",
          "height": 135
        },
        "id": "ErDeNj2XBsZ3",
        "outputId": "cfac8789-4c25-43a9-a23b-2e5e1478ace5"
      },
      "outputs": [
        {
          "output_type": "stream",
          "name": "stdout",
          "text": [
            "Fitting 5 folds for each of 10 candidates, totalling 50 fits\n"
          ]
        },
        {
          "output_type": "execute_result",
          "data": {
            "text/plain": [
              "RandomizedSearchCV(cv=5, estimator=RandomForestClassifier(), n_jobs=-1,\n",
              "                   param_distributions={'criterion': ['gini', 'entropy'],\n",
              "                                        'max_depth': [20, 30, 40, 50, None],\n",
              "                                        'min_samples_split': [2, 100, 20, 50,\n",
              "                                                              100],\n",
              "                                        'n_estimators': [10, 500, 100, 2000]},\n",
              "                   verbose=2)"
            ],
            "text/html": [
              "<style>#sk-container-id-5 {color: black;background-color: white;}#sk-container-id-5 pre{padding: 0;}#sk-container-id-5 div.sk-toggleable {background-color: white;}#sk-container-id-5 label.sk-toggleable__label {cursor: pointer;display: block;width: 100%;margin-bottom: 0;padding: 0.3em;box-sizing: border-box;text-align: center;}#sk-container-id-5 label.sk-toggleable__label-arrow:before {content: \"▸\";float: left;margin-right: 0.25em;color: #696969;}#sk-container-id-5 label.sk-toggleable__label-arrow:hover:before {color: black;}#sk-container-id-5 div.sk-estimator:hover label.sk-toggleable__label-arrow:before {color: black;}#sk-container-id-5 div.sk-toggleable__content {max-height: 0;max-width: 0;overflow: hidden;text-align: left;background-color: #f0f8ff;}#sk-container-id-5 div.sk-toggleable__content pre {margin: 0.2em;color: black;border-radius: 0.25em;background-color: #f0f8ff;}#sk-container-id-5 input.sk-toggleable__control:checked~div.sk-toggleable__content {max-height: 200px;max-width: 100%;overflow: auto;}#sk-container-id-5 input.sk-toggleable__control:checked~label.sk-toggleable__label-arrow:before {content: \"▾\";}#sk-container-id-5 div.sk-estimator input.sk-toggleable__control:checked~label.sk-toggleable__label {background-color: #d4ebff;}#sk-container-id-5 div.sk-label input.sk-toggleable__control:checked~label.sk-toggleable__label {background-color: #d4ebff;}#sk-container-id-5 input.sk-hidden--visually {border: 0;clip: rect(1px 1px 1px 1px);clip: rect(1px, 1px, 1px, 1px);height: 1px;margin: -1px;overflow: hidden;padding: 0;position: absolute;width: 1px;}#sk-container-id-5 div.sk-estimator {font-family: monospace;background-color: #f0f8ff;border: 1px dotted black;border-radius: 0.25em;box-sizing: border-box;margin-bottom: 0.5em;}#sk-container-id-5 div.sk-estimator:hover {background-color: #d4ebff;}#sk-container-id-5 div.sk-parallel-item::after {content: \"\";width: 100%;border-bottom: 1px solid gray;flex-grow: 1;}#sk-container-id-5 div.sk-label:hover label.sk-toggleable__label {background-color: #d4ebff;}#sk-container-id-5 div.sk-serial::before {content: \"\";position: absolute;border-left: 1px solid gray;box-sizing: border-box;top: 0;bottom: 0;left: 50%;z-index: 0;}#sk-container-id-5 div.sk-serial {display: flex;flex-direction: column;align-items: center;background-color: white;padding-right: 0.2em;padding-left: 0.2em;position: relative;}#sk-container-id-5 div.sk-item {position: relative;z-index: 1;}#sk-container-id-5 div.sk-parallel {display: flex;align-items: stretch;justify-content: center;background-color: white;position: relative;}#sk-container-id-5 div.sk-item::before, #sk-container-id-5 div.sk-parallel-item::before {content: \"\";position: absolute;border-left: 1px solid gray;box-sizing: border-box;top: 0;bottom: 0;left: 50%;z-index: -1;}#sk-container-id-5 div.sk-parallel-item {display: flex;flex-direction: column;z-index: 1;position: relative;background-color: white;}#sk-container-id-5 div.sk-parallel-item:first-child::after {align-self: flex-end;width: 50%;}#sk-container-id-5 div.sk-parallel-item:last-child::after {align-self: flex-start;width: 50%;}#sk-container-id-5 div.sk-parallel-item:only-child::after {width: 0;}#sk-container-id-5 div.sk-dashed-wrapped {border: 1px dashed gray;margin: 0 0.4em 0.5em 0.4em;box-sizing: border-box;padding-bottom: 0.4em;background-color: white;}#sk-container-id-5 div.sk-label label {font-family: monospace;font-weight: bold;display: inline-block;line-height: 1.2em;}#sk-container-id-5 div.sk-label-container {text-align: center;}#sk-container-id-5 div.sk-container {/* jupyter's `normalize.less` sets `[hidden] { display: none; }` but bootstrap.min.css set `[hidden] { display: none !important; }` so we also need the `!important` here to be able to override the default hidden behavior on the sphinx rendered scikit-learn.org. See: https://github.com/scikit-learn/scikit-learn/issues/21755 */display: inline-block !important;position: relative;}#sk-container-id-5 div.sk-text-repr-fallback {display: none;}</style><div id=\"sk-container-id-5\" class=\"sk-top-container\"><div class=\"sk-text-repr-fallback\"><pre>RandomizedSearchCV(cv=5, estimator=RandomForestClassifier(), n_jobs=-1,\n",
              "                   param_distributions={&#x27;criterion&#x27;: [&#x27;gini&#x27;, &#x27;entropy&#x27;],\n",
              "                                        &#x27;max_depth&#x27;: [20, 30, 40, 50, None],\n",
              "                                        &#x27;min_samples_split&#x27;: [2, 100, 20, 50,\n",
              "                                                              100],\n",
              "                                        &#x27;n_estimators&#x27;: [10, 500, 100, 2000]},\n",
              "                   verbose=2)</pre><b>In a Jupyter environment, please rerun this cell to show the HTML representation or trust the notebook. <br />On GitHub, the HTML representation is unable to render, please try loading this page with nbviewer.org.</b></div><div class=\"sk-container\" hidden><div class=\"sk-item sk-dashed-wrapped\"><div class=\"sk-label-container\"><div class=\"sk-label sk-toggleable\"><input class=\"sk-toggleable__control sk-hidden--visually\" id=\"sk-estimator-id-9\" type=\"checkbox\" ><label for=\"sk-estimator-id-9\" class=\"sk-toggleable__label sk-toggleable__label-arrow\">RandomizedSearchCV</label><div class=\"sk-toggleable__content\"><pre>RandomizedSearchCV(cv=5, estimator=RandomForestClassifier(), n_jobs=-1,\n",
              "                   param_distributions={&#x27;criterion&#x27;: [&#x27;gini&#x27;, &#x27;entropy&#x27;],\n",
              "                                        &#x27;max_depth&#x27;: [20, 30, 40, 50, None],\n",
              "                                        &#x27;min_samples_split&#x27;: [2, 100, 20, 50,\n",
              "                                                              100],\n",
              "                                        &#x27;n_estimators&#x27;: [10, 500, 100, 2000]},\n",
              "                   verbose=2)</pre></div></div></div><div class=\"sk-parallel\"><div class=\"sk-parallel-item\"><div class=\"sk-item\"><div class=\"sk-label-container\"><div class=\"sk-label sk-toggleable\"><input class=\"sk-toggleable__control sk-hidden--visually\" id=\"sk-estimator-id-10\" type=\"checkbox\" ><label for=\"sk-estimator-id-10\" class=\"sk-toggleable__label sk-toggleable__label-arrow\">estimator: RandomForestClassifier</label><div class=\"sk-toggleable__content\"><pre>RandomForestClassifier()</pre></div></div></div><div class=\"sk-serial\"><div class=\"sk-item\"><div class=\"sk-estimator sk-toggleable\"><input class=\"sk-toggleable__control sk-hidden--visually\" id=\"sk-estimator-id-11\" type=\"checkbox\" ><label for=\"sk-estimator-id-11\" class=\"sk-toggleable__label sk-toggleable__label-arrow\">RandomForestClassifier</label><div class=\"sk-toggleable__content\"><pre>RandomForestClassifier()</pre></div></div></div></div></div></div></div></div></div></div>"
            ]
          },
          "metadata": {},
          "execution_count": 57
        }
      ],
      "source": [
        "param_grid={'n_estimators':n_estimators,'criterion':criterion,'min_samples_split':min_samples_split,'max_depth':max_depth}\n",
        "rf=RandomForestClassifier()\n",
        "rf_g=RandomizedSearchCV(rf,param_grid,cv=5,verbose=2,n_jobs=-1)\n",
        "rf_g.fit(train_x,train_y)"
      ]
    },
    {
      "cell_type": "code",
      "execution_count": 58,
      "metadata": {
        "id": "yizF4dUuCa8P"
      },
      "outputs": [],
      "source": [
        "#PREDICT USING THE TRAINED MODEL\n",
        "classes=rf_g.predict(test_x)"
      ]
    },
    {
      "cell_type": "markdown",
      "source": [
        "#RandomForestClassifier with RandomizedSearchCV"
      ],
      "metadata": {
        "id": "H9lEBWfCJmLx"
      }
    },
    {
      "cell_type": "code",
      "execution_count": 59,
      "metadata": {
        "id": "URA1_7dqDHol",
        "colab": {
          "base_uri": "https://localhost:8080/"
        },
        "outputId": "7d02ec08-e6e7-45f6-e5bf-b816250ad696"
      },
      "outputs": [
        {
          "output_type": "stream",
          "name": "stdout",
          "text": [
            "ACCUIRACY SCORE\n",
            "0.7927927927927928\n"
          ]
        }
      ],
      "source": [
        "#PRECISION AND RECALL\n",
        "print(\"ACCUIRACY SCORE\")\n",
        "print(metrics.accuracy_score(test_y,classes))"
      ]
    },
    {
      "cell_type": "code",
      "execution_count": 60,
      "metadata": {
        "colab": {
          "base_uri": "https://localhost:8080/"
        },
        "id": "UWrl0Qf-DHon",
        "outputId": "b266cdb0-fba0-41d6-8c06-0f45ae3ae85b"
      },
      "outputs": [
        {
          "output_type": "stream",
          "name": "stdout",
          "text": [
            "precision/recall Metrics\n",
            "              precision    recall  f1-score   support\n",
            "\n",
            "           0       0.77      0.95      0.85       679\n",
            "           1       0.87      0.55      0.67       431\n",
            "\n",
            "    accuracy                           0.79      1110\n",
            "   macro avg       0.82      0.75      0.76      1110\n",
            "weighted avg       0.81      0.79      0.78      1110\n",
            "\n"
          ]
        }
      ],
      "source": [
        "#PRECISION RECALL MATRIX\n",
        "print(\"precision/recall Metrics\")\n",
        "print(metrics.classification_report(test_y,classes))"
      ]
    },
    {
      "cell_type": "code",
      "execution_count": 61,
      "metadata": {
        "colab": {
          "base_uri": "https://localhost:8080/",
          "height": 300
        },
        "id": "LpZ9U3nZDHoo",
        "outputId": "50919cc1-16c9-4e4b-99ce-effcb120c091"
      },
      "outputs": [
        {
          "output_type": "stream",
          "name": "stdout",
          "text": [
            "CONFUSION MATRIX\n"
          ]
        },
        {
          "output_type": "execute_result",
          "data": {
            "text/plain": [
              "<AxesSubplot:>"
            ]
          },
          "metadata": {},
          "execution_count": 61
        },
        {
          "output_type": "display_data",
          "data": {
            "text/plain": [
              "<Figure size 432x288 with 2 Axes>"
            ],
            "image/png": "[encoded data removed]"
          },
          "metadata": {
            "needs_background": "light"
          }
        }
      ],
      "source": [
        "#CONFUSION MATRIX\n",
        "print(\"CONFUSION MATRIX\")\n",
        "cf=metrics.confusion_matrix(test_y,classes)\n",
        "lbl1=[\"Predicted 0\",\"Predicted 1\"]\n",
        "lbl2=[\"True 0\",\"True 1\"]\n",
        "sns.heatmap(cf,annot=True,cmap=\"Greens\",fmt=\"d\",xticklabels=lbl1,yticklabels=lbl2)\n",
        "plt.show()"
      ]
    },
    {
      "cell_type": "code",
      "source": [
        "#AUC\n",
        "print(\"AUC\")\n",
        "auc=metrics.roc_auc_score(test_y,classes)\n",
        "auc"
      ],
      "metadata": {
        "colab": {
          "base_uri": "https://localhost:8080/"
        },
        "outputId": "887249ef-ceaf-4e57-e22a-6671c2f8b385",
        "id": "d5UxDPtoxigc"
      },
      "execution_count": 62,
      "outputs": [
        {
          "output_type": "stream",
          "name": "stdout",
          "text": [
            "AUC\n"
          ]
        },
        {
          "output_type": "execute_result",
          "data": {
            "text/plain": [
              "0.748856138240691"
            ]
          },
          "metadata": {},
          "execution_count": 62
        }
      ]
    },
    {
      "cell_type": "code",
      "source": [
        "#ROC CHART\n",
        "fpr,tpr,th=roc_curve(test_y,classes)\n",
        "roc_auc=metrics.auc(fpr,tpr)\n",
        "import matplotlib.pyplot as plt\n",
        "plt.title(\"ROCR CHART\")\n",
        "plt.plot(fpr,tpr,'b',label=\"AUC=%0.2F\"%roc_auc)\n",
        "plt.legend(loc=\"lower right\")\n",
        "plt.plot([0,1],[0,1],\"o--\")\n",
        "plt.xlim([0,1])\n",
        "plt.ylim([0,1])\n",
        "plt.ylabel(\"TRUE POSITIVE RATE\")\n",
        "plt.xlabel(\"FALSE POSITIVE RATE\")\n",
        "plt.show();"
      ],
      "metadata": {
        "colab": {
          "base_uri": "https://localhost:8080/",
          "height": 295
        },
        "outputId": "6185a226-af4a-4922-96ea-34820a44c770",
        "id": "iGMrTqjTxige"
      },
      "execution_count": 63,
      "outputs": [
        {
          "output_type": "display_data",
          "data": {
            "text/plain": [
              "<Figure size 432x288 with 1 Axes>"
            ],
            "image/png": "[encoded data removed]"
          },
          "metadata": {
            "needs_background": "light"
          }
        }
      ]
    },
    {
      "cell_type": "code",
      "source": [
        "from sklearn.neighbors import KNeighborsClassifier\n",
        "from xgboost import XGBClassifier"
      ],
      "metadata": {
        "id": "OpzwlXIJHQjr"
      },
      "execution_count": 64,
      "outputs": []
    },
    {
      "cell_type": "code",
      "source": [
        "model = KNeighborsClassifier(n_neighbors=8)\n",
        "model.fit(train_x,train_y)\n",
        "predicted_values=model.predict(test_x)\n",
        "predicted_values"
      ],
      "metadata": {
        "colab": {
          "base_uri": "https://localhost:8080/",
          "height": 92
        },
        "id": "d0I5aMJ9HTCR",
        "outputId": "5496e4e6-c310-4485-c202-5c248b680190"
      },
      "execution_count": 65,
      "outputs": [
        {
          "output_type": "execute_result",
          "data": {
            "text/plain": [
              "KNeighborsClassifier(n_neighbors=8)"
            ],
            "text/html": [
              "<style>#sk-container-id-6 {color: black;background-color: white;}#sk-container-id-6 pre{padding: 0;}#sk-container-id-6 div.sk-toggleable {background-color: white;}#sk-container-id-6 label.sk-toggleable__label {cursor: pointer;display: block;width: 100%;margin-bottom: 0;padding: 0.3em;box-sizing: border-box;text-align: center;}#sk-container-id-6 label.sk-toggleable__label-arrow:before {content: \"▸\";float: left;margin-right: 0.25em;color: #696969;}#sk-container-id-6 label.sk-toggleable__label-arrow:hover:before {color: black;}#sk-container-id-6 div.sk-estimator:hover label.sk-toggleable__label-arrow:before {color: black;}#sk-container-id-6 div.sk-toggleable__content {max-height: 0;max-width: 0;overflow: hidden;text-align: left;background-color: #f0f8ff;}#sk-container-id-6 div.sk-toggleable__content pre {margin: 0.2em;color: black;border-radius: 0.25em;background-color: #f0f8ff;}#sk-container-id-6 input.sk-toggleable__control:checked~div.sk-toggleable__content {max-height: 200px;max-width: 100%;overflow: auto;}#sk-container-id-6 input.sk-toggleable__control:checked~label.sk-toggleable__label-arrow:before {content: \"▾\";}#sk-container-id-6 div.sk-estimator input.sk-toggleable__control:checked~label.sk-toggleable__label {background-color: #d4ebff;}#sk-container-id-6 div.sk-label input.sk-toggleable__control:checked~label.sk-toggleable__label {background-color: #d4ebff;}#sk-container-id-6 input.sk-hidden--visually {border: 0;clip: rect(1px 1px 1px 1px);clip: rect(1px, 1px, 1px, 1px);height: 1px;margin: -1px;overflow: hidden;padding: 0;position: absolute;width: 1px;}#sk-container-id-6 div.sk-estimator {font-family: monospace;background-color: #f0f8ff;border: 1px dotted black;border-radius: 0.25em;box-sizing: border-box;margin-bottom: 0.5em;}#sk-container-id-6 div.sk-estimator:hover {background-color: #d4ebff;}#sk-container-id-6 div.sk-parallel-item::after {content: \"\";width: 100%;border-bottom: 1px solid gray;flex-grow: 1;}#sk-container-id-6 div.sk-label:hover label.sk-toggleable__label {background-color: #d4ebff;}#sk-container-id-6 div.sk-serial::before {content: \"\";position: absolute;border-left: 1px solid gray;box-sizing: border-box;top: 0;bottom: 0;left: 50%;z-index: 0;}#sk-container-id-6 div.sk-serial {display: flex;flex-direction: column;align-items: center;background-color: white;padding-right: 0.2em;padding-left: 0.2em;position: relative;}#sk-container-id-6 div.sk-item {position: relative;z-index: 1;}#sk-container-id-6 div.sk-parallel {display: flex;align-items: stretch;justify-content: center;background-color: white;position: relative;}#sk-container-id-6 div.sk-item::before, #sk-container-id-6 div.sk-parallel-item::before {content: \"\";position: absolute;border-left: 1px solid gray;box-sizing: border-box;top: 0;bottom: 0;left: 50%;z-index: -1;}#sk-container-id-6 div.sk-parallel-item {display: flex;flex-direction: column;z-index: 1;position: relative;background-color: white;}#sk-container-id-6 div.sk-parallel-item:first-child::after {align-self: flex-end;width: 50%;}#sk-container-id-6 div.sk-parallel-item:last-child::after {align-self: flex-start;width: 50%;}#sk-container-id-6 div.sk-parallel-item:only-child::after {width: 0;}#sk-container-id-6 div.sk-dashed-wrapped {border: 1px dashed gray;margin: 0 0.4em 0.5em 0.4em;box-sizing: border-box;padding-bottom: 0.4em;background-color: white;}#sk-container-id-6 div.sk-label label {font-family: monospace;font-weight: bold;display: inline-block;line-height: 1.2em;}#sk-container-id-6 div.sk-label-container {text-align: center;}#sk-container-id-6 div.sk-container {/* jupyter's `normalize.less` sets `[hidden] { display: none; }` but bootstrap.min.css set `[hidden] { display: none !important; }` so we also need the `!important` here to be able to override the default hidden behavior on the sphinx rendered scikit-learn.org. See: https://github.com/scikit-learn/scikit-learn/issues/21755 */display: inline-block !important;position: relative;}#sk-container-id-6 div.sk-text-repr-fallback {display: none;}</style><div id=\"sk-container-id-6\" class=\"sk-top-container\"><div class=\"sk-text-repr-fallback\"><pre>KNeighborsClassifier(n_neighbors=8)</pre><b>In a Jupyter environment, please rerun this cell to show the HTML representation or trust the notebook. <br />On GitHub, the HTML representation is unable to render, please try loading this page with nbviewer.org.</b></div><div class=\"sk-container\" hidden><div class=\"sk-item\"><div class=\"sk-estimator sk-toggleable\"><input class=\"sk-toggleable__control sk-hidden--visually\" id=\"sk-estimator-id-12\" type=\"checkbox\" checked><label for=\"sk-estimator-id-12\" class=\"sk-toggleable__label sk-toggleable__label-arrow\">KNeighborsClassifier</label><div class=\"sk-toggleable__content\"><pre>KNeighborsClassifier(n_neighbors=8)</pre></div></div></div></div></div>"
            ]
          },
          "metadata": {},
          "execution_count": 65
        },
        {
          "output_type": "execute_result",
          "data": {
            "text/plain": [
              "array([0, 0, 0, ..., 0, 0, 0], dtype=int8)"
            ]
          },
          "metadata": {},
          "execution_count": 65
        }
      ]
    },
    {
      "cell_type": "markdown",
      "source": [
        "#KNeighborsClassifier"
      ],
      "metadata": {
        "id": "RDfLD0gHJ0TD"
      }
    },
    {
      "cell_type": "code",
      "source": [
        "#PRECISION AND RECALL\n",
        "print(\"ACCUIRACY SCORE\")\n",
        "print(metrics.accuracy_score(test_y,predicted_values))"
      ],
      "metadata": {
        "colab": {
          "base_uri": "https://localhost:8080/"
        },
        "id": "AZ4u62HVHZhq",
        "outputId": "89c74aa7-c613-4d5e-d390-e2ad47c2fbf6"
      },
      "execution_count": 66,
      "outputs": [
        {
          "output_type": "stream",
          "name": "stdout",
          "text": [
            "ACCUIRACY SCORE\n",
            "0.5972972972972973\n"
          ]
        }
      ]
    },
    {
      "cell_type": "code",
      "source": [
        "#PRECISION RECALL MATRIX\n",
        "print(\"precision/recall Metrics\")\n",
        "print(metrics.classification_report(test_y,predicted_values))"
      ],
      "metadata": {
        "colab": {
          "base_uri": "https://localhost:8080/"
        },
        "id": "7QF0ucDYIGzl",
        "outputId": "cb45de0b-29c2-4852-c229-0e7baacd9f62"
      },
      "execution_count": 67,
      "outputs": [
        {
          "output_type": "stream",
          "name": "stdout",
          "text": [
            "precision/recall Metrics\n",
            "              precision    recall  f1-score   support\n",
            "\n",
            "           0       0.62      0.87      0.73       679\n",
            "           1       0.45      0.16      0.24       431\n",
            "\n",
            "    accuracy                           0.60      1110\n",
            "   macro avg       0.53      0.52      0.48      1110\n",
            "weighted avg       0.55      0.60      0.54      1110\n",
            "\n"
          ]
        }
      ]
    },
    {
      "cell_type": "code",
      "source": [
        "#CONFUSION MATRIX\n",
        "print(\"CONFUSION MATRIX\")\n",
        "cf=metrics.confusion_matrix(test_y,predicted_values)\n",
        "lbl1=[\"Predicted 0\",\"Predicted 1\"]\n",
        "lbl2=[\"True 0\",\"True 1\"]\n",
        "sns.heatmap(cf,annot=True,cmap=\"Greens\",fmt=\"d\",xticklabels=lbl1,yticklabels=lbl2)\n",
        "plt.show()"
      ],
      "metadata": {
        "colab": {
          "base_uri": "https://localhost:8080/",
          "height": 300
        },
        "id": "cMj3u-EBIJf3",
        "outputId": "9661b8ec-ecfc-4344-f46e-7e86ffb614d1"
      },
      "execution_count": 68,
      "outputs": [
        {
          "output_type": "stream",
          "name": "stdout",
          "text": [
            "CONFUSION MATRIX\n"
          ]
        },
        {
          "output_type": "execute_result",
          "data": {
            "text/plain": [
              "<AxesSubplot:>"
            ]
          },
          "metadata": {},
          "execution_count": 68
        },
        {
          "output_type": "display_data",
          "data": {
            "text/plain": [
              "<Figure size 432x288 with 2 Axes>"
            ],
            "image/png": "[encoded data removed]"
          },
          "metadata": {
            "needs_background": "light"
          }
        }
      ]
    },
    {
      "cell_type": "code",
      "source": [
        "#AUC\n",
        "print(\"AUC\")\n",
        "auc=metrics.roc_auc_score(test_y,classes)\n",
        "auc"
      ],
      "metadata": {
        "colab": {
          "base_uri": "https://localhost:8080/"
        },
        "outputId": "f204902a-dd01-4a47-cc4e-7da2894fc898",
        "id": "5mK3B6WSxlWp"
      },
      "execution_count": 69,
      "outputs": [
        {
          "output_type": "stream",
          "name": "stdout",
          "text": [
            "AUC\n"
          ]
        },
        {
          "output_type": "execute_result",
          "data": {
            "text/plain": [
              "0.748856138240691"
            ]
          },
          "metadata": {},
          "execution_count": 69
        }
      ]
    },
    {
      "cell_type": "code",
      "source": [
        "#ROC CHART\n",
        "fpr,tpr,th=roc_curve(test_y,classes)\n",
        "roc_auc=metrics.auc(fpr,tpr)\n",
        "import matplotlib.pyplot as plt\n",
        "plt.title(\"ROCR CHART\")\n",
        "plt.plot(fpr,tpr,'b',label=\"AUC=%0.2F\"%roc_auc)\n",
        "plt.legend(loc=\"lower right\")\n",
        "plt.plot([0,1],[0,1],\"o--\")\n",
        "plt.xlim([0,1])\n",
        "plt.ylim([0,1])\n",
        "plt.ylabel(\"TRUE POSITIVE RATE\")\n",
        "plt.xlabel(\"FALSE POSITIVE RATE\")\n",
        "plt.show();"
      ],
      "metadata": {
        "colab": {
          "base_uri": "https://localhost:8080/",
          "height": 295
        },
        "outputId": "49cfddc8-7294-4faf-e43d-6806e2813096",
        "id": "SButassuxlWr"
      },
      "execution_count": 70,
      "outputs": [
        {
          "output_type": "display_data",
          "data": {
            "text/plain": [
              "<Figure size 432x288 with 1 Axes>"
            ],
            "image/png": "[encoded data removed]"
          },
          "metadata": {
            "needs_background": "light"
          }
        }
      ]
    },
    {
      "cell_type": "code",
      "source": [
        "# fit model no training data\n",
        "model = XGBClassifier()\n",
        "model.fit(train_x, train_y)"
      ],
      "metadata": {
        "colab": {
          "base_uri": "https://localhost:8080/",
          "height": 248
        },
        "id": "SnAxTs08IOpt",
        "outputId": "1400a3bc-7b84-4512-db64-44db985e30bf"
      },
      "execution_count": 71,
      "outputs": [
        {
          "output_type": "execute_result",
          "data": {
            "text/plain": [
              "XGBClassifier(base_score=None, booster=None, callbacks=None,\n",
              "              colsample_bylevel=None, colsample_bynode=None,\n",
              "              colsample_bytree=None, early_stopping_rounds=None,\n",
              "              enable_categorical=False, eval_metric=None, feature_types=None,\n",
              "              gamma=None, gpu_id=None, grow_policy=None, importance_type=None,\n",
              "              interaction_constraints=None, learning_rate=None, max_bin=None,\n",
              "              max_cat_threshold=None, max_cat_to_onehot=None,\n",
              "              max_delta_step=None, max_depth=None, max_leaves=None,\n",
              "              min_child_weight=None, missing=nan, monotone_constraints=None,\n",
              "              n_estimators=100, n_jobs=None, num_parallel_tree=None,\n",
              "              predictor=None, random_state=None, ...)"
            ],
            "text/html": [
              "<style>#sk-container-id-7 {color: black;background-color: white;}#sk-container-id-7 pre{padding: 0;}#sk-container-id-7 div.sk-toggleable {background-color: white;}#sk-container-id-7 label.sk-toggleable__label {cursor: pointer;display: block;width: 100%;margin-bottom: 0;padding: 0.3em;box-sizing: border-box;text-align: center;}#sk-container-id-7 label.sk-toggleable__label-arrow:before {content: \"▸\";float: left;margin-right: 0.25em;color: #696969;}#sk-container-id-7 label.sk-toggleable__label-arrow:hover:before {color: black;}#sk-container-id-7 div.sk-estimator:hover label.sk-toggleable__label-arrow:before {color: black;}#sk-container-id-7 div.sk-toggleable__content {max-height: 0;max-width: 0;overflow: hidden;text-align: left;background-color: #f0f8ff;}#sk-container-id-7 div.sk-toggleable__content pre {margin: 0.2em;color: black;border-radius: 0.25em;background-color: #f0f8ff;}#sk-container-id-7 input.sk-toggleable__control:checked~div.sk-toggleable__content {max-height: 200px;max-width: 100%;overflow: auto;}#sk-container-id-7 input.sk-toggleable__control:checked~label.sk-toggleable__label-arrow:before {content: \"▾\";}#sk-container-id-7 div.sk-estimator input.sk-toggleable__control:checked~label.sk-toggleable__label {background-color: #d4ebff;}#sk-container-id-7 div.sk-label input.sk-toggleable__control:checked~label.sk-toggleable__label {background-color: #d4ebff;}#sk-container-id-7 input.sk-hidden--visually {border: 0;clip: rect(1px 1px 1px 1px);clip: rect(1px, 1px, 1px, 1px);height: 1px;margin: -1px;overflow: hidden;padding: 0;position: absolute;width: 1px;}#sk-container-id-7 div.sk-estimator {font-family: monospace;background-color: #f0f8ff;border: 1px dotted black;border-radius: 0.25em;box-sizing: border-box;margin-bottom: 0.5em;}#sk-container-id-7 div.sk-estimator:hover {background-color: #d4ebff;}#sk-container-id-7 div.sk-parallel-item::after {content: \"\";width: 100%;border-bottom: 1px solid gray;flex-grow: 1;}#sk-container-id-7 div.sk-label:hover label.sk-toggleable__label {background-color: #d4ebff;}#sk-container-id-7 div.sk-serial::before {content: \"\";position: absolute;border-left: 1px solid gray;box-sizing: border-box;top: 0;bottom: 0;left: 50%;z-index: 0;}#sk-container-id-7 div.sk-serial {display: flex;flex-direction: column;align-items: center;background-color: white;padding-right: 0.2em;padding-left: 0.2em;position: relative;}#sk-container-id-7 div.sk-item {position: relative;z-index: 1;}#sk-container-id-7 div.sk-parallel {display: flex;align-items: stretch;justify-content: center;background-color: white;position: relative;}#sk-container-id-7 div.sk-item::before, #sk-container-id-7 div.sk-parallel-item::before {content: \"\";position: absolute;border-left: 1px solid gray;box-sizing: border-box;top: 0;bottom: 0;left: 50%;z-index: -1;}#sk-container-id-7 div.sk-parallel-item {display: flex;flex-direction: column;z-index: 1;position: relative;background-color: white;}#sk-container-id-7 div.sk-parallel-item:first-child::after {align-self: flex-end;width: 50%;}#sk-container-id-7 div.sk-parallel-item:last-child::after {align-self: flex-start;width: 50%;}#sk-container-id-7 div.sk-parallel-item:only-child::after {width: 0;}#sk-container-id-7 div.sk-dashed-wrapped {border: 1px dashed gray;margin: 0 0.4em 0.5em 0.4em;box-sizing: border-box;padding-bottom: 0.4em;background-color: white;}#sk-container-id-7 div.sk-label label {font-family: monospace;font-weight: bold;display: inline-block;line-height: 1.2em;}#sk-container-id-7 div.sk-label-container {text-align: center;}#sk-container-id-7 div.sk-container {/* jupyter's `normalize.less` sets `[hidden] { display: none; }` but bootstrap.min.css set `[hidden] { display: none !important; }` so we also need the `!important` here to be able to override the default hidden behavior on the sphinx rendered scikit-learn.org. See: https://github.com/scikit-learn/scikit-learn/issues/21755 */display: inline-block !important;position: relative;}#sk-container-id-7 div.sk-text-repr-fallback {display: none;}</style><div id=\"sk-container-id-7\" class=\"sk-top-container\"><div class=\"sk-text-repr-fallback\"><pre>XGBClassifier(base_score=None, booster=None, callbacks=None,\n",
              "              colsample_bylevel=None, colsample_bynode=None,\n",
              "              colsample_bytree=None, early_stopping_rounds=None,\n",
              "              enable_categorical=False, eval_metric=None, feature_types=None,\n",
              "              gamma=None, gpu_id=None, grow_policy=None, importance_type=None,\n",
              "              interaction_constraints=None, learning_rate=None, max_bin=None,\n",
              "              max_cat_threshold=None, max_cat_to_onehot=None,\n",
              "              max_delta_step=None, max_depth=None, max_leaves=None,\n",
              "              min_child_weight=None, missing=nan, monotone_constraints=None,\n",
              "              n_estimators=100, n_jobs=None, num_parallel_tree=None,\n",
              "              predictor=None, random_state=None, ...)</pre><b>In a Jupyter environment, please rerun this cell to show the HTML representation or trust the notebook. <br />On GitHub, the HTML representation is unable to render, please try loading this page with nbviewer.org.</b></div><div class=\"sk-container\" hidden><div class=\"sk-item\"><div class=\"sk-estimator sk-toggleable\"><input class=\"sk-toggleable__control sk-hidden--visually\" id=\"sk-estimator-id-13\" type=\"checkbox\" checked><label for=\"sk-estimator-id-13\" class=\"sk-toggleable__label sk-toggleable__label-arrow\">XGBClassifier</label><div class=\"sk-toggleable__content\"><pre>XGBClassifier(base_score=None, booster=None, callbacks=None,\n",
              "              colsample_bylevel=None, colsample_bynode=None,\n",
              "              colsample_bytree=None, early_stopping_rounds=None,\n",
              "              enable_categorical=False, eval_metric=None, feature_types=None,\n",
              "              gamma=None, gpu_id=None, grow_policy=None, importance_type=None,\n",
              "              interaction_constraints=None, learning_rate=None, max_bin=None,\n",
              "              max_cat_threshold=None, max_cat_to_onehot=None,\n",
              "              max_delta_step=None, max_depth=None, max_leaves=None,\n",
              "              min_child_weight=None, missing=nan, monotone_constraints=None,\n",
              "              n_estimators=100, n_jobs=None, num_parallel_tree=None,\n",
              "              predictor=None, random_state=None, ...)</pre></div></div></div></div></div>"
            ]
          },
          "metadata": {},
          "execution_count": 71
        }
      ]
    },
    {
      "cell_type": "code",
      "source": [
        "# make predictions for test data\n",
        "y_pred = model.predict(test_x)\n",
        "predictions = [round(value) for value in y_pred]"
      ],
      "metadata": {
        "id": "sfRS-AbIIRSI"
      },
      "execution_count": 72,
      "outputs": []
    },
    {
      "cell_type": "markdown",
      "source": [
        "#XGBClassifier"
      ],
      "metadata": {
        "id": "ZrCR0GaMJ6wM"
      }
    },
    {
      "cell_type": "code",
      "source": [
        "#PRECISION AND RECALL\n",
        "print(\"ACCUIRACY SCORE\")\n",
        "print(metrics.accuracy_score(test_y,predictions))"
      ],
      "metadata": {
        "colab": {
          "base_uri": "https://localhost:8080/"
        },
        "id": "xvPY9PZuIVf4",
        "outputId": "530e13a9-d719-45d2-d957-345a024638b8"
      },
      "execution_count": 73,
      "outputs": [
        {
          "output_type": "stream",
          "name": "stdout",
          "text": [
            "ACCUIRACY SCORE\n",
            "0.8486486486486486\n"
          ]
        }
      ]
    },
    {
      "cell_type": "code",
      "source": [
        "#PRECISION RECALL MATRIX\n",
        "print(\"precision/recall Metrics\")\n",
        "print(metrics.classification_report(test_y,predictions))"
      ],
      "metadata": {
        "colab": {
          "base_uri": "https://localhost:8080/"
        },
        "id": "TDd71soeIZI-",
        "outputId": "9d239efa-2b60-4a33-f638-4307aee0d4f1"
      },
      "execution_count": 74,
      "outputs": [
        {
          "output_type": "stream",
          "name": "stdout",
          "text": [
            "precision/recall Metrics\n",
            "              precision    recall  f1-score   support\n",
            "\n",
            "           0       0.85      0.92      0.88       679\n",
            "           1       0.85      0.74      0.79       431\n",
            "\n",
            "    accuracy                           0.85      1110\n",
            "   macro avg       0.85      0.83      0.84      1110\n",
            "weighted avg       0.85      0.85      0.85      1110\n",
            "\n"
          ]
        }
      ]
    },
    {
      "cell_type": "code",
      "source": [
        "#CONFUSION MATRIX\n",
        "print(\"CONFUSION MATRIX\")\n",
        "cf=metrics.confusion_matrix(test_y,predictions)\n",
        "lbl1=[\"Predicted 0\",\"Predicted 1\"]\n",
        "lbl2=[\"True 0\",\"True 1\"]\n",
        "sns.heatmap(cf,annot=True,cmap=\"Greens\",fmt=\"d\",xticklabels=lbl1,yticklabels=lbl2)\n",
        "plt.show()"
      ],
      "metadata": {
        "colab": {
          "base_uri": "https://localhost:8080/",
          "height": 300
        },
        "id": "tc2UT2whIcMe",
        "outputId": "4b6a22fc-d129-4ad8-a8c0-b99ce369f13c"
      },
      "execution_count": 75,
      "outputs": [
        {
          "output_type": "stream",
          "name": "stdout",
          "text": [
            "CONFUSION MATRIX\n"
          ]
        },
        {
          "output_type": "execute_result",
          "data": {
            "text/plain": [
              "<AxesSubplot:>"
            ]
          },
          "metadata": {},
          "execution_count": 75
        },
        {
          "output_type": "display_data",
          "data": {
            "text/plain": [
              "<Figure size 432x288 with 2 Axes>"
            ],
            "image/png": "[encoded data removed]"
          },
          "metadata": {
            "needs_background": "light"
          }
        }
      ]
    },
    {
      "cell_type": "code",
      "source": [
        "#AUC\n",
        "print(\"AUC\")\n",
        "auc=metrics.roc_auc_score(test_y,classes)\n",
        "auc"
      ],
      "metadata": {
        "colab": {
          "base_uri": "https://localhost:8080/"
        },
        "outputId": "52338dff-313e-44e4-f0f6-274a6d28958e",
        "id": "ojepwC2YxoNt"
      },
      "execution_count": 76,
      "outputs": [
        {
          "output_type": "stream",
          "name": "stdout",
          "text": [
            "AUC\n"
          ]
        },
        {
          "output_type": "execute_result",
          "data": {
            "text/plain": [
              "0.748856138240691"
            ]
          },
          "metadata": {},
          "execution_count": 76
        }
      ]
    },
    {
      "cell_type": "code",
      "source": [
        "#ROC CHART\n",
        "fpr,tpr,th=roc_curve(test_y,classes)\n",
        "roc_auc=metrics.auc(fpr,tpr)\n",
        "import matplotlib.pyplot as plt\n",
        "plt.title(\"ROCR CHART\")\n",
        "plt.plot(fpr,tpr,'b',label=\"AUC=%0.2F\"%roc_auc)\n",
        "plt.legend(loc=\"lower right\")\n",
        "plt.plot([0,1],[0,1],\"o--\")\n",
        "plt.xlim([0,1])\n",
        "plt.ylim([0,1])\n",
        "plt.ylabel(\"TRUE POSITIVE RATE\")\n",
        "plt.xlabel(\"FALSE POSITIVE RATE\")\n",
        "plt.show();"
      ],
      "metadata": {
        "colab": {
          "base_uri": "https://localhost:8080/",
          "height": 295
        },
        "outputId": "c85e0a13-9d3b-4196-b243-84e1d8c4189b",
        "id": "07XNvBGvxoNu"
      },
      "execution_count": 77,
      "outputs": [
        {
          "output_type": "display_data",
          "data": {
            "text/plain": [
              "<Figure size 432x288 with 1 Axes>"
            ],
            "image/png": "[encoded data removed]"
          },
          "metadata": {
            "needs_background": "light"
          }
        }
      ]
    },
    {
      "cell_type": "code",
      "source": [
        "!jupyter nbconvert --to 'html' HDFC_Trend_indicators_GoLong.ipynb"
      ],
      "metadata": {
        "id": "k12x-s5pklZg",
        "colab": {
          "base_uri": "https://localhost:8080/"
        },
        "outputId": "59123739-bf54-4bc6-a752-72aaacfb9581"
      },
      "execution_count": 81,
      "outputs": [
        {
          "output_type": "stream",
          "name": "stdout",
          "text": [
            "[NbConvertApp] Converting notebook HDFC_Trend_indicators_GoLong.ipynb to html\n",
            "[NbConvertApp] Writing 1119859 bytes to HDFC_Trend_indicators_GoLong.html\n"
          ]
        }
      ]
    }
  ],
  "metadata": {
    "colab": {
      "provenance": []
    },
    "gpuClass": "standard",
    "kernelspec": {
      "display_name": "Python 3",
      "name": "python3"
    },
    "language_info": {
      "name": "python"
    }
  },
  "nbformat": 4,
  "nbformat_minor": 0
}