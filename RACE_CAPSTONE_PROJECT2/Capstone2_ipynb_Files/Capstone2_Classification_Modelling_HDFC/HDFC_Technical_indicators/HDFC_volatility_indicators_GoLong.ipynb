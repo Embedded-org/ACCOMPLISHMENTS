{
  "cells": [
    {
      "cell_type": "code",
      "execution_count": 2,
      "metadata": {
        "id": "rTIpccjOs_VF"
      },
      "outputs": [],
      "source": [
        "#Importing the Libraries\n",
        "import matplotlib. pyplot as plt\n",
        "import matplotlib\n",
        "from sklearn.preprocessing import MinMaxScaler\n",
        "import numpy as np\n",
        "import pandas as pd\n",
        "import sklearn\n",
        "import sklearn.linear_model as lm\n",
        "from sklearn import preprocessing\n",
        "import seaborn as sns\n",
        "from sklearn.model_selection import train_test_split\n",
        "from sklearn import metrics\n",
        "from sklearn.metrics import roc_curve,auc,recall_score,precision_score,accuracy_score,f1_score\n",
        "from sklearn.metrics import confusion_matrix,average_precision_score,recall_score\n",
        "import matplotlib.pyplot as plt\n",
        "%matplotlib inline\n",
        "from IPython.core.interactiveshell import InteractiveShell\n",
        "InteractiveShell.ast_node_interactivity = \"all\""
      ]
    },
    {
      "cell_type": "code",
      "execution_count": 3,
      "metadata": {
        "colab": {
          "base_uri": "https://localhost:8080/",
          "height": 206
        },
        "id": "zgECclAAuO1V",
        "outputId": "8a0159fa-8c64-4a2d-ec02-b202d5cb1f70"
      },
      "outputs": [
        {
          "output_type": "execute_result",
          "data": {
            "text/plain": [
              "         Date  Prev Close   Open    High    Low   Last   Close    VWAP  \\\n",
              "0  2000-01-03      271.75  293.5  293.50  293.5  293.5  293.50  293.50   \n",
              "1  2000-01-04      293.50  317.0  317.00  297.0  304.0  304.05  303.62   \n",
              "2  2000-01-05      304.05  290.0  303.90  285.0  295.0  292.80  294.53   \n",
              "3  2000-01-06      292.80  301.0  314.00  295.0  296.0  296.45  300.14   \n",
              "4  2000-01-07      296.45  290.0  296.35  281.0  287.1  286.55  288.80   \n",
              "\n",
              "   Volume      Turnover  \n",
              "0   22744  6.675364e+11  \n",
              "1  255251  7.749972e+12  \n",
              "2  269087  7.925368e+12  \n",
              "3  305916  9.181669e+12  \n",
              "4  197039  5.690480e+12  "
            ],
            "text/html": [
              "\n",
              "  <div id=\"df-dbb7e9cc-8697-4cff-abf1-22f18d9c5288\">\n",
              "    <div class=\"colab-df-container\">\n",
              "      <div>\n",
              "<style scoped>\n",
              "    .dataframe tbody tr th:only-of-type {\n",
              "        vertical-align: middle;\n",
              "    }\n",
              "\n",
              "    .dataframe tbody tr th {\n",
              "        vertical-align: top;\n",
              "    }\n",
              "\n",
              "    .dataframe thead th {\n",
              "        text-align: right;\n",
              "    }\n",
              "</style>\n",
              "<table border=\"1\" class=\"dataframe\">\n",
              "  <thead>\n",
              "    <tr style=\"text-align: right;\">\n",
              "      <th></th>\n",
              "      <th>Date</th>\n",
              "      <th>Prev Close</th>\n",
              "      <th>Open</th>\n",
              "      <th>High</th>\n",
              "      <th>Low</th>\n",
              "      <th>Last</th>\n",
              "      <th>Close</th>\n",
              "      <th>VWAP</th>\n",
              "      <th>Volume</th>\n",
              "      <th>Turnover</th>\n",
              "    </tr>\n",
              "  </thead>\n",
              "  <tbody>\n",
              "    <tr>\n",
              "      <th>0</th>\n",
              "      <td>2000-01-03</td>\n",
              "      <td>271.75</td>\n",
              "      <td>293.5</td>\n",
              "      <td>293.50</td>\n",
              "      <td>293.5</td>\n",
              "      <td>293.5</td>\n",
              "      <td>293.50</td>\n",
              "      <td>293.50</td>\n",
              "      <td>22744</td>\n",
              "      <td>6.675364e+11</td>\n",
              "    </tr>\n",
              "    <tr>\n",
              "      <th>1</th>\n",
              "      <td>2000-01-04</td>\n",
              "      <td>293.50</td>\n",
              "      <td>317.0</td>\n",
              "      <td>317.00</td>\n",
              "      <td>297.0</td>\n",
              "      <td>304.0</td>\n",
              "      <td>304.05</td>\n",
              "      <td>303.62</td>\n",
              "      <td>255251</td>\n",
              "      <td>7.749972e+12</td>\n",
              "    </tr>\n",
              "    <tr>\n",
              "      <th>2</th>\n",
              "      <td>2000-01-05</td>\n",
              "      <td>304.05</td>\n",
              "      <td>290.0</td>\n",
              "      <td>303.90</td>\n",
              "      <td>285.0</td>\n",
              "      <td>295.0</td>\n",
              "      <td>292.80</td>\n",
              "      <td>294.53</td>\n",
              "      <td>269087</td>\n",
              "      <td>7.925368e+12</td>\n",
              "    </tr>\n",
              "    <tr>\n",
              "      <th>3</th>\n",
              "      <td>2000-01-06</td>\n",
              "      <td>292.80</td>\n",
              "      <td>301.0</td>\n",
              "      <td>314.00</td>\n",
              "      <td>295.0</td>\n",
              "      <td>296.0</td>\n",
              "      <td>296.45</td>\n",
              "      <td>300.14</td>\n",
              "      <td>305916</td>\n",
              "      <td>9.181669e+12</td>\n",
              "    </tr>\n",
              "    <tr>\n",
              "      <th>4</th>\n",
              "      <td>2000-01-07</td>\n",
              "      <td>296.45</td>\n",
              "      <td>290.0</td>\n",
              "      <td>296.35</td>\n",
              "      <td>281.0</td>\n",
              "      <td>287.1</td>\n",
              "      <td>286.55</td>\n",
              "      <td>288.80</td>\n",
              "      <td>197039</td>\n",
              "      <td>5.690480e+12</td>\n",
              "    </tr>\n",
              "  </tbody>\n",
              "</table>\n",
              "</div>\n",
              "      <button class=\"colab-df-convert\" onclick=\"convertToInteractive('df-dbb7e9cc-8697-4cff-abf1-22f18d9c5288')\"\n",
              "              title=\"Convert this dataframe to an interactive table.\"\n",
              "              style=\"display:none;\">\n",
              "        \n",
              "  <svg xmlns=\"http://www.w3.org/2000/svg\" height=\"24px\"viewBox=\"0 0 24 24\"\n",
              "       width=\"24px\">\n",
              "    <path d=\"M0 0h24v24H0V0z\" fill=\"none\"/>\n",
              "    <path d=\"M18.56 5.44l.94 2.06.94-2.06 2.06-.94-2.06-.94-.94-2.06-.94 2.06-2.06.94zm-11 1L8.5 8.5l.94-2.06 2.06-.94-2.06-.94L8.5 2.5l-.94 2.06-2.06.94zm10 10l.94 2.06.94-2.06 2.06-.94-2.06-.94-.94-2.06-.94 2.06-2.06.94z\"/><path d=\"M17.41 7.96l-1.37-1.37c-.4-.4-.92-.59-1.43-.59-.52 0-1.04.2-1.43.59L10.3 9.45l-7.72 7.72c-.78.78-.78 2.05 0 2.83L4 21.41c.39.39.9.59 1.41.59.51 0 1.02-.2 1.41-.59l7.78-7.78 2.81-2.81c.8-.78.8-2.07 0-2.86zM5.41 20L4 18.59l7.72-7.72 1.47 1.35L5.41 20z\"/>\n",
              "  </svg>\n",
              "      </button>\n",
              "      \n",
              "  <style>\n",
              "    .colab-df-container {\n",
              "      display:flex;\n",
              "      flex-wrap:wrap;\n",
              "      gap: 12px;\n",
              "    }\n",
              "\n",
              "    .colab-df-convert {\n",
              "      background-color: #E8F0FE;\n",
              "      border: none;\n",
              "      border-radius: 50%;\n",
              "      cursor: pointer;\n",
              "      display: none;\n",
              "      fill: #1967D2;\n",
              "      height: 32px;\n",
              "      padding: 0 0 0 0;\n",
              "      width: 32px;\n",
              "    }\n",
              "\n",
              "    .colab-df-convert:hover {\n",
              "      background-color: #E2EBFA;\n",
              "      box-shadow: 0px 1px 2px rgba(60, 64, 67, 0.3), 0px 1px 3px 1px rgba(60, 64, 67, 0.15);\n",
              "      fill: #174EA6;\n",
              "    }\n",
              "\n",
              "    [theme=dark] .colab-df-convert {\n",
              "      background-color: #3B4455;\n",
              "      fill: #D2E3FC;\n",
              "    }\n",
              "\n",
              "    [theme=dark] .colab-df-convert:hover {\n",
              "      background-color: #434B5C;\n",
              "      box-shadow: 0px 1px 3px 1px rgba(0, 0, 0, 0.15);\n",
              "      filter: drop-shadow(0px 1px 2px rgba(0, 0, 0, 0.3));\n",
              "      fill: #FFFFFF;\n",
              "    }\n",
              "  </style>\n",
              "\n",
              "      <script>\n",
              "        const buttonEl =\n",
              "          document.querySelector('#df-dbb7e9cc-8697-4cff-abf1-22f18d9c5288 button.colab-df-convert');\n",
              "        buttonEl.style.display =\n",
              "          google.colab.kernel.accessAllowed ? 'block' : 'none';\n",
              "\n",
              "        async function convertToInteractive(key) {\n",
              "          const element = document.querySelector('#df-dbb7e9cc-8697-4cff-abf1-22f18d9c5288');\n",
              "          const dataTable =\n",
              "            await google.colab.kernel.invokeFunction('convertToInteractive',\n",
              "                                                     [key], {});\n",
              "          if (!dataTable) return;\n",
              "\n",
              "          const docLinkHtml = 'Like what you see? Visit the ' +\n",
              "            '<a target=\"_blank\" href=https://colab.research.google.com/notebooks/data_table.ipynb>data table notebook</a>'\n",
              "            + ' to learn more about interactive tables.';\n",
              "          element.innerHTML = '';\n",
              "          dataTable['output_type'] = 'display_data';\n",
              "          await google.colab.output.renderOutput(dataTable, element);\n",
              "          const docLink = document.createElement('div');\n",
              "          docLink.innerHTML = docLinkHtml;\n",
              "          element.appendChild(docLink);\n",
              "        }\n",
              "      </script>\n",
              "    </div>\n",
              "  </div>\n",
              "  "
            ]
          },
          "metadata": {},
          "execution_count": 3
        }
      ],
      "source": [
        "all_data = pd.read_csv(\"HDFCBANK.csv\")\n",
        "#all_data=all_data.drop(['Date','Trades','Deliverable Volume','%Deliverble','Symbol','Series'],axis=1)\n",
        "df=all_data.drop(['Trades','Deliverable Volume','%Deliverble','Symbol','Series'],axis=1)\n",
        "df.head()"
      ]
    },
    {
      "cell_type": "code",
      "execution_count": 4,
      "metadata": {
        "id": "eKyspQnPfHzg"
      },
      "outputs": [],
      "source": [
        "#!pip install nsepy"
      ]
    },
    {
      "cell_type": "code",
      "execution_count": 5,
      "metadata": {
        "colab": {
          "base_uri": "https://localhost:8080/",
          "height": 53
        },
        "id": "DopSYORXe_hD",
        "outputId": "7a8b6bd6-6873-414f-ab48-529c9daffed9"
      },
      "outputs": [
        {
          "output_type": "execute_result",
          "data": {
            "text/plain": [
              "\"\\nfrom datetime import date\\nfrom nsepy import get_history\\nimport numpy as np\\nimport pandas as pd\\nimport pickle\\n\\nplt.style.use('fivethirtyeight')\\nplt.rcParams['figure.figsize'] = (20, 10)\\n\""
            ],
            "application/vnd.google.colaboratory.intrinsic+json": {
              "type": "string"
            }
          },
          "metadata": {},
          "execution_count": 5
        }
      ],
      "source": [
        "\n",
        "'''\n",
        "from datetime import date\n",
        "from nsepy import get_history\n",
        "import numpy as np\n",
        "import pandas as pd\n",
        "import pickle\n",
        "\n",
        "plt.style.use('fivethirtyeight')\n",
        "plt.rcParams['figure.figsize'] = (20, 10)\n",
        "'''"
      ]
    },
    {
      "cell_type": "code",
      "execution_count": 6,
      "metadata": {
        "colab": {
          "base_uri": "https://localhost:8080/",
          "height": 53
        },
        "id": "LCdasd7nqt2Y",
        "outputId": "e224b787-96b4-4685-e217-f88459d0890c"
      },
      "outputs": [
        {
          "output_type": "execute_result",
          "data": {
            "text/plain": [
              "'\\nsymbol = \"HDFC\"\\nstart = date(2000, 1, 3)\\nend = date(2022, 5, 30)\\ndata = get_history(symbol=symbol, start=start, end=end)\\ndata\\ndata.to_csv(\\'HDFCBANK.csv\\')\\n'"
            ],
            "application/vnd.google.colaboratory.intrinsic+json": {
              "type": "string"
            }
          },
          "metadata": {},
          "execution_count": 6
        }
      ],
      "source": [
        "'''\n",
        "symbol = \"HDFC\"\n",
        "start = date(2000, 1, 3)\n",
        "end = date(2022, 5, 30)\n",
        "data = get_history(symbol=symbol, start=start, end=end)\n",
        "data\n",
        "data.to_csv('HDFCBANK.csv')\n",
        "'''"
      ]
    },
    {
      "cell_type": "code",
      "execution_count": 7,
      "metadata": {
        "colab": {
          "base_uri": "https://localhost:8080/",
          "height": 87
        },
        "id": "gLyb2T96rIf8",
        "outputId": "fa5bec0b-d2fa-46b1-b329-be9f7155b83b"
      },
      "outputs": [
        {
          "output_type": "execute_result",
          "data": {
            "text/plain": [
              "'\\nwith open(\\'SBIN.pickle\\', \\'wb\\') as f:\\n    pickle.dump(data, f)\\n\\nsymbol = \"SBIN\"\\nstart = date(2022, 6, 1)\\nend = date(2022, 6, 1)\\ndata = get_history(symbol=symbol, start=start, end=end)\\nwith open(\\'SBIN.pickle\\', \\'rb\\') as f:\\n    old_data = pickle.load(f)\\nnew_data = pd.concat([old_data, data])\\nwith open(\\'SBIN.pickle\\', \\'wb\\') as f:\\n    pickle.dump(new_data, f)\\n\\nnew_data.head()\\ndata.head()\\n\\n'"
            ],
            "application/vnd.google.colaboratory.intrinsic+json": {
              "type": "string"
            }
          },
          "metadata": {},
          "execution_count": 7
        }
      ],
      "source": [
        "'''\n",
        "with open('SBIN.pickle', 'wb') as f:\n",
        "    pickle.dump(data, f)\n",
        "\n",
        "symbol = \"SBIN\"\n",
        "start = date(2022, 6, 1)\n",
        "end = date(2022, 6, 1)\n",
        "data = get_history(symbol=symbol, start=start, end=end)\n",
        "with open('SBIN.pickle', 'rb') as f:\n",
        "    old_data = pickle.load(f)\n",
        "new_data = pd.concat([old_data, data])\n",
        "with open('SBIN.pickle', 'wb') as f:\n",
        "    pickle.dump(new_data, f)\n",
        "\n",
        "new_data.head()\n",
        "data.head()\n",
        "\n",
        "'''"
      ]
    },
    {
      "cell_type": "code",
      "execution_count": 8,
      "metadata": {
        "colab": {
          "base_uri": "https://localhost:8080/"
        },
        "id": "G0aWbJnM1c1i",
        "outputId": "4e531910-5fa3-40a5-e57f-eab1f7788e2a"
      },
      "outputs": [
        {
          "output_type": "stream",
          "name": "stdout",
          "text": [
            "total is 5577\n"
          ]
        }
      ],
      "source": [
        "df['Volume'] = df['Volume'].shift(1)\n",
        "Close_list = df['Close'].tolist()\n",
        "df['SMA_3'] = df['Close'].rolling(3, min_periods=1).mean()\n",
        "df['SMA_7'] = df['Close'].rolling(7, min_periods=1).mean()\n",
        "df['SMA_13'] = df['Close'].rolling(13, min_periods=1).mean()\n",
        "df['SMA_20'] = df['Close'].rolling(20, min_periods=1).mean()\n",
        "df['EMA_3'] = df['Close'].ewm(span=3, adjust=False).mean()\n",
        "df['EMA_7'] = df['Close'].ewm(span=7, adjust=False).mean()\n",
        "df['EMA_13'] = df['Close'].ewm(span=13, adjust=False).mean()\n",
        "df['EMA_20'] = df['Close'].ewm(span=20, adjust=False).mean()\n",
        "total=len(Close_list);\n",
        "print(\"total is\",total)\n",
        "df.dropna(inplace=True)"
      ]
    },
    {
      "cell_type": "markdown",
      "metadata": {
        "id": "tTS_K_ZBYoIi"
      },
      "source": [
        "#The close values of HDFCBANK stock equity"
      ]
    },
    {
      "cell_type": "code",
      "execution_count": 9,
      "metadata": {
        "colab": {
          "base_uri": "https://localhost:8080/",
          "height": 449
        },
        "id": "iDj42r9AWp-W",
        "outputId": "4851f40b-4f3f-495a-e59b-329fab001d0d"
      },
      "outputs": [
        {
          "output_type": "execute_result",
          "data": {
            "text/plain": [
              "<Figure size 864x432 with 0 Axes>"
            ]
          },
          "metadata": {},
          "execution_count": 9
        },
        {
          "output_type": "execute_result",
          "data": {
            "text/plain": [
              "Text(0.5, 1.0, 'The close values of HDFCBANK stock equity')"
            ]
          },
          "metadata": {},
          "execution_count": 9
        },
        {
          "output_type": "execute_result",
          "data": {
            "text/plain": [
              "Text(0.5, 0, 'Year')"
            ]
          },
          "metadata": {},
          "execution_count": 9
        },
        {
          "output_type": "execute_result",
          "data": {
            "text/plain": [
              "Text(0, 0.5, 'close values')"
            ]
          },
          "metadata": {},
          "execution_count": 9
        },
        {
          "output_type": "execute_result",
          "data": {
            "text/plain": [
              "[<matplotlib.lines.Line2D at 0x7f56a0356d90>]"
            ]
          },
          "metadata": {},
          "execution_count": 9
        },
        {
          "output_type": "execute_result",
          "data": {
            "text/plain": [
              "<matplotlib.legend.Legend at 0x7f56a0356fd0>"
            ]
          },
          "metadata": {},
          "execution_count": 9
        },
        {
          "output_type": "display_data",
          "data": {
            "text/plain": [
              "<Figure size 864x432 with 1 Axes>"
            ],
            "image/png": "[encoded data removed]"
          },
          "metadata": {
            "needs_background": "light"
          }
        }
      ],
      "source": [
        "import matplotlib.pyplot as plt\n",
        "# plot lines\n",
        "plt.figure(figsize=(12, 6))\n",
        "plt.title('The close values of HDFCBANK stock equity', fontsize=20)\n",
        "plt.xlabel('Year', fontsize=16)\n",
        "plt.ylabel('close values', fontsize=16)\n",
        "plt.plot(df.index,df['Close'], color='green',linewidth=1.5)\n",
        "plt.legend(labels =['close values'], fontsize=14)\n",
        "plt.show()"
      ]
    },
    {
      "cell_type": "code",
      "execution_count": 10,
      "metadata": {
        "id": "RWjM1Zj15tkJ"
      },
      "outputs": [],
      "source": [
        "j=0\n",
        "j=0\n",
        "D1=[]\n",
        "D2=[]\n",
        "D3=[]\n",
        "D4=[]\n",
        "D5=[]\n",
        "D6=[]\n",
        "D7=[]\n",
        "D8=[]\n",
        "D9=[]\n",
        "D10=[]\n",
        "D11=[]\n",
        "D12=[]\n",
        "D13=[]\n",
        "D14=[]\n",
        "D15=[]\n",
        "D16=[]\n",
        "D17=[]\n",
        "D18=[]\n",
        "D19=[]\n",
        "D20=[]\n",
        "D21=[]\n",
        "D22=[]\n",
        "D23=[]\n",
        "D24=[]\n",
        "D25=[]\n",
        "D26=[]\n",
        "D27=[]\n",
        "D28=[]\n",
        "D29=[]\n",
        "D30=[]\n",
        "for i in range(0,total):\n",
        "  D1.append(Close_list[j])\n",
        "  D2.append(Close_list[j+1])\n",
        "  D3.append(Close_list[j+2])\n",
        "  D4.append(Close_list[j+3])\n",
        "  D5.append(Close_list[j+4])\n",
        "  D6.append(Close_list[j+5])\n",
        "  D7.append(Close_list[j+6])\n",
        "  D8.append(Close_list[j+7])\n",
        "  D9.append(Close_list[j+8])\n",
        "  D10.append(Close_list[j+9])\n",
        "  D11.append(Close_list[j+10])\n",
        "  D12.append(Close_list[j+11])\n",
        "  D13.append(Close_list[j+12])\n",
        "  D14.append(Close_list[j+13])\n",
        "  D15.append(Close_list[j+14])\n",
        "  D16.append(Close_list[j+15])\n",
        "  D17.append(Close_list[j+16])\n",
        "  D18.append(Close_list[j+17])\n",
        "  D19.append(Close_list[j+18])\n",
        "  D20.append(Close_list[j+19])\n",
        "  D21.append(Close_list[j+20])\n",
        "  D22.append(Close_list[j+21])\n",
        "  D23.append(Close_list[j+22])\n",
        "  D24.append(Close_list[j+23])\n",
        "  D25.append(Close_list[j+24])\n",
        "  D26.append(Close_list[j+25])\n",
        "  D27.append(Close_list[j+26])\n",
        "  D28.append(Close_list[j+27])\n",
        "  D29.append(Close_list[j+28])\n",
        "  D30.append(Close_list[j+29])\n",
        "  j=j+1;\n",
        "  if(j==total-30):\n",
        "    break"
      ]
    },
    {
      "cell_type": "code",
      "execution_count": 11,
      "metadata": {
        "id": "5kWPb2G47oWA"
      },
      "outputs": [],
      "source": [
        "df1=pd.DataFrame(D1)\n",
        "df2=pd.DataFrame(D2)\n",
        "df3=pd.DataFrame(D3)\n",
        "df4=pd.DataFrame(D4)\n",
        "df5=pd.DataFrame(D5)\n",
        "df6=pd.DataFrame(D6)\n",
        "df7=pd.DataFrame(D7)\n",
        "df8=pd.DataFrame(D8)\n",
        "df9=pd.DataFrame(D9)\n",
        "df10=pd.DataFrame(D10)\n",
        "df11=pd.DataFrame(D11)\n",
        "df12=pd.DataFrame(D12)\n",
        "df13=pd.DataFrame(D13)\n",
        "df14=pd.DataFrame(D14)\n",
        "df15=pd.DataFrame(D15)\n",
        "df16=pd.DataFrame(D16)\n",
        "df17=pd.DataFrame(D17)\n",
        "df18=pd.DataFrame(D18)\n",
        "df19=pd.DataFrame(D19)\n",
        "df20=pd.DataFrame(D20)\n",
        "df21=pd.DataFrame(D21)\n",
        "df22=pd.DataFrame(D22)\n",
        "df23=pd.DataFrame(D23)\n",
        "df24=pd.DataFrame(D24)\n",
        "df25=pd.DataFrame(D25)\n",
        "df26=pd.DataFrame(D26)\n",
        "df27=pd.DataFrame(D27)\n",
        "df28=pd.DataFrame(D28)\n",
        "df29=pd.DataFrame(D29)\n",
        "df30=pd.DataFrame(D30)\n",
        "dfalldays=pd.DataFrame()\n",
        "dfalldays['D1']=df1\n",
        "dfalldays['D2']=df2\n",
        "dfalldays['D3']=df3\n",
        "dfalldays['D4']=df4\n",
        "dfalldays['D5']=df5\n",
        "dfalldays['D6']=df6\n",
        "dfalldays['D7']=df7\n",
        "dfalldays['D8']=df8\n",
        "dfalldays['D9']=df9\n",
        "dfalldays['D10']=df10\n",
        "dfalldays['D11']=df11\n",
        "dfalldays['D12']=df12\n",
        "dfalldays['D13']=df13\n",
        "dfalldays['D14']=df14\n",
        "dfalldays['D15']=df15\n",
        "dfalldays['D16']=df16\n",
        "dfalldays['D17']=df17\n",
        "dfalldays['D18']=df18\n",
        "dfalldays['D19']=df19\n",
        "dfalldays['D20']=df20\n",
        "dfalldays['D21']=df21\n",
        "dfalldays['D22']=df22\n",
        "dfalldays['D23']=df23\n",
        "dfalldays['D24']=df24\n",
        "dfalldays['D25']=df25\n",
        "dfalldays['D26']=df26\n",
        "dfalldays['D27']=df27\n",
        "dfalldays['D28']=df28\n",
        "dfalldays['D29']=df29\n",
        "dfalldays['D30']=df30"
      ]
    },
    {
      "cell_type": "code",
      "execution_count": 12,
      "metadata": {
        "id": "EvkmdkNA577M"
      },
      "outputs": [],
      "source": [
        "DIFF=[]\n",
        "PERCDIFF=[]\n",
        "TARGET=[]\n",
        "counter=0\n",
        "for i in range(0,total):\n",
        "  #print(\"i is\",i)\n",
        "  diff=Close_list[i]-Close_list[i-1]\n",
        "  DIFF.append(diff)\n",
        "  percdiff=(diff*100)/Close_list[i]\n",
        "  PERCDIFF.append(percdiff)\n",
        "  if(percdiff>0.5):\n",
        "    TARGET.append('pos')\n",
        "  else:\n",
        "    TARGET.append('notpos')"
      ]
    },
    {
      "cell_type": "code",
      "execution_count": 13,
      "metadata": {
        "id": "yT7_ZgYhCr_r"
      },
      "outputs": [],
      "source": [
        "df1=pd.DataFrame(DIFF)\n",
        "df2=pd.DataFrame(PERCDIFF)\n",
        "df3=pd.DataFrame(TARGET)\n",
        "df['DIFF']=df1\n",
        "df['PERCDIFF']=df2\n",
        "df['TARGET']=df3\n",
        "df=df[1:]"
      ]
    },
    {
      "cell_type": "code",
      "execution_count": 14,
      "metadata": {
        "colab": {
          "base_uri": "https://localhost:8080/"
        },
        "id": "ekJruVQBHZ8L",
        "outputId": "0e1c2b96-044a-415e-a2b4-804b4507d5c5"
      },
      "outputs": [
        {
          "output_type": "execute_result",
          "data": {
            "text/plain": [
              "TARGET\n",
              "0    3435\n",
              "1    2140\n",
              "dtype: int64"
            ]
          },
          "metadata": {},
          "execution_count": 14
        }
      ],
      "source": [
        "df0=df\n",
        "df0['TARGET']= np.where(df0['TARGET']=='pos','1',(np.where(df0['TARGET']=='neg','-1','0')))\n",
        "#df0.head()\n",
        "df0.groupby('TARGET').size()"
      ]
    },
    {
      "cell_type": "markdown",
      "metadata": {
        "id": "qVWaypsm0tL0"
      },
      "source": [
        "#Explore the class distribution"
      ]
    },
    {
      "cell_type": "code",
      "execution_count": 15,
      "metadata": {
        "colab": {
          "base_uri": "https://localhost:8080/",
          "height": 384
        },
        "id": "DoM6-z2FdU4P",
        "outputId": "f119ad7a-a9f6-4a03-c17a-54b87d18f6aa"
      },
      "outputs": [
        {
          "output_type": "stream",
          "name": "stderr",
          "text": [
            "/usr/local/lib/python3.9/dist-packages/seaborn/_decorators.py:36: FutureWarning: Pass the following variable as a keyword arg: x. From version 0.12, the only valid positional argument will be `data`, and passing other arguments without an explicit keyword will result in an error or misinterpretation.\n",
            "  warnings.warn(\n"
          ]
        },
        {
          "output_type": "execute_result",
          "data": {
            "text/plain": [
              "<AxesSubplot:xlabel='TARGET', ylabel='count'>"
            ]
          },
          "metadata": {},
          "execution_count": 15
        },
        {
          "output_type": "execute_result",
          "data": {
            "text/plain": [
              "Text(0.5, 0, 'TARGET')"
            ]
          },
          "metadata": {},
          "execution_count": 15
        },
        {
          "output_type": "execute_result",
          "data": {
            "text/plain": [
              "Text(0.5, 1.0, 'Number of positive negative and neutral messages')"
            ]
          },
          "metadata": {},
          "execution_count": 15
        },
        {
          "output_type": "display_data",
          "data": {
            "text/plain": [
              "<Figure size 432x288 with 1 Axes>"
            ],
            "image/png": "[encoded data removed]"
          },
          "metadata": {
            "needs_background": "light"
          }
        }
      ],
      "source": [
        "sns.countplot(df0['TARGET'])\n",
        "plt.xlabel('TARGET')\n",
        "plt.title('Number of positive negative and neutral messages')"
      ]
    },
    {
      "cell_type": "code",
      "execution_count": 16,
      "metadata": {
        "colab": {
          "base_uri": "https://localhost:8080/",
          "height": 317
        },
        "id": "wCnI0v6sDOFw",
        "outputId": "affdde93-8a76-4e26-a9e0-910b44fb7dc3"
      },
      "outputs": [
        {
          "output_type": "execute_result",
          "data": {
            "text/plain": [
              "   Date  Prev Close   Open    High     Low    Last   Close    VWAP    Volume  \\\n",
              "2     0      304.05  290.0  303.90  285.00  295.00  292.80  294.53  255251.0   \n",
              "3     1      292.80  301.0  314.00  295.00  296.00  296.45  300.14  269087.0   \n",
              "4     2      296.45  290.0  296.35  281.00  287.10  286.55  288.80  305916.0   \n",
              "5     3      286.55  292.0  296.00  285.00  288.40  287.20  289.42  197039.0   \n",
              "6     4      287.20  290.0  292.00  273.25  282.85  283.85  284.54  133363.0   \n",
              "\n",
              "       Turnover  ...       SMA_7      SMA_13      SMA_20       EMA_3  \\\n",
              "2  7.925368e+12  ...  296.783333  296.783333  296.783333  295.787500   \n",
              "3  9.181669e+12  ...  296.700000  296.700000  296.700000  296.118750   \n",
              "4  5.690480e+12  ...  294.670000  294.670000  294.670000  291.334375   \n",
              "5  3.859779e+12  ...  293.425000  293.425000  293.425000  289.267187   \n",
              "6  9.600617e+12  ...  292.057143  292.057143  292.057143  286.558594   \n",
              "\n",
              "        EMA_7      EMA_13      EMA_20   DIFF  PERCDIFF  TARGET  \n",
              "2  295.303125  294.691837  294.342404 -11.25 -3.842213       0  \n",
              "3  295.589844  294.943003  294.543127   3.65  1.231236       1  \n",
              "4  293.329883  293.744002  293.781877  -9.90 -3.454894       0  \n",
              "5  291.797412  292.809145  293.155031   0.65  0.226323       0  \n",
              "6  289.810559  291.529267  292.268838  -3.35 -1.180201       0  \n",
              "\n",
              "[5 rows x 21 columns]"
            ],
            "text/html": [
              "\n",
              "  <div id=\"df-80d4fa11-22e0-48d1-93ba-b4549a77e16d\">\n",
              "    <div class=\"colab-df-container\">\n",
              "      <div>\n",
              "<style scoped>\n",
              "    .dataframe tbody tr th:only-of-type {\n",
              "        vertical-align: middle;\n",
              "    }\n",
              "\n",
              "    .dataframe tbody tr th {\n",
              "        vertical-align: top;\n",
              "    }\n",
              "\n",
              "    .dataframe thead th {\n",
              "        text-align: right;\n",
              "    }\n",
              "</style>\n",
              "<table border=\"1\" class=\"dataframe\">\n",
              "  <thead>\n",
              "    <tr style=\"text-align: right;\">\n",
              "      <th></th>\n",
              "      <th>Date</th>\n",
              "      <th>Prev Close</th>\n",
              "      <th>Open</th>\n",
              "      <th>High</th>\n",
              "      <th>Low</th>\n",
              "      <th>Last</th>\n",
              "      <th>Close</th>\n",
              "      <th>VWAP</th>\n",
              "      <th>Volume</th>\n",
              "      <th>Turnover</th>\n",
              "      <th>...</th>\n",
              "      <th>SMA_7</th>\n",
              "      <th>SMA_13</th>\n",
              "      <th>SMA_20</th>\n",
              "      <th>EMA_3</th>\n",
              "      <th>EMA_7</th>\n",
              "      <th>EMA_13</th>\n",
              "      <th>EMA_20</th>\n",
              "      <th>DIFF</th>\n",
              "      <th>PERCDIFF</th>\n",
              "      <th>TARGET</th>\n",
              "    </tr>\n",
              "  </thead>\n",
              "  <tbody>\n",
              "    <tr>\n",
              "      <th>2</th>\n",
              "      <td>0</td>\n",
              "      <td>304.05</td>\n",
              "      <td>290.0</td>\n",
              "      <td>303.90</td>\n",
              "      <td>285.00</td>\n",
              "      <td>295.00</td>\n",
              "      <td>292.80</td>\n",
              "      <td>294.53</td>\n",
              "      <td>255251.0</td>\n",
              "      <td>7.925368e+12</td>\n",
              "      <td>...</td>\n",
              "      <td>296.783333</td>\n",
              "      <td>296.783333</td>\n",
              "      <td>296.783333</td>\n",
              "      <td>295.787500</td>\n",
              "      <td>295.303125</td>\n",
              "      <td>294.691837</td>\n",
              "      <td>294.342404</td>\n",
              "      <td>-11.25</td>\n",
              "      <td>-3.842213</td>\n",
              "      <td>0</td>\n",
              "    </tr>\n",
              "    <tr>\n",
              "      <th>3</th>\n",
              "      <td>1</td>\n",
              "      <td>292.80</td>\n",
              "      <td>301.0</td>\n",
              "      <td>314.00</td>\n",
              "      <td>295.00</td>\n",
              "      <td>296.00</td>\n",
              "      <td>296.45</td>\n",
              "      <td>300.14</td>\n",
              "      <td>269087.0</td>\n",
              "      <td>9.181669e+12</td>\n",
              "      <td>...</td>\n",
              "      <td>296.700000</td>\n",
              "      <td>296.700000</td>\n",
              "      <td>296.700000</td>\n",
              "      <td>296.118750</td>\n",
              "      <td>295.589844</td>\n",
              "      <td>294.943003</td>\n",
              "      <td>294.543127</td>\n",
              "      <td>3.65</td>\n",
              "      <td>1.231236</td>\n",
              "      <td>1</td>\n",
              "    </tr>\n",
              "    <tr>\n",
              "      <th>4</th>\n",
              "      <td>2</td>\n",
              "      <td>296.45</td>\n",
              "      <td>290.0</td>\n",
              "      <td>296.35</td>\n",
              "      <td>281.00</td>\n",
              "      <td>287.10</td>\n",
              "      <td>286.55</td>\n",
              "      <td>288.80</td>\n",
              "      <td>305916.0</td>\n",
              "      <td>5.690480e+12</td>\n",
              "      <td>...</td>\n",
              "      <td>294.670000</td>\n",
              "      <td>294.670000</td>\n",
              "      <td>294.670000</td>\n",
              "      <td>291.334375</td>\n",
              "      <td>293.329883</td>\n",
              "      <td>293.744002</td>\n",
              "      <td>293.781877</td>\n",
              "      <td>-9.90</td>\n",
              "      <td>-3.454894</td>\n",
              "      <td>0</td>\n",
              "    </tr>\n",
              "    <tr>\n",
              "      <th>5</th>\n",
              "      <td>3</td>\n",
              "      <td>286.55</td>\n",
              "      <td>292.0</td>\n",
              "      <td>296.00</td>\n",
              "      <td>285.00</td>\n",
              "      <td>288.40</td>\n",
              "      <td>287.20</td>\n",
              "      <td>289.42</td>\n",
              "      <td>197039.0</td>\n",
              "      <td>3.859779e+12</td>\n",
              "      <td>...</td>\n",
              "      <td>293.425000</td>\n",
              "      <td>293.425000</td>\n",
              "      <td>293.425000</td>\n",
              "      <td>289.267187</td>\n",
              "      <td>291.797412</td>\n",
              "      <td>292.809145</td>\n",
              "      <td>293.155031</td>\n",
              "      <td>0.65</td>\n",
              "      <td>0.226323</td>\n",
              "      <td>0</td>\n",
              "    </tr>\n",
              "    <tr>\n",
              "      <th>6</th>\n",
              "      <td>4</td>\n",
              "      <td>287.20</td>\n",
              "      <td>290.0</td>\n",
              "      <td>292.00</td>\n",
              "      <td>273.25</td>\n",
              "      <td>282.85</td>\n",
              "      <td>283.85</td>\n",
              "      <td>284.54</td>\n",
              "      <td>133363.0</td>\n",
              "      <td>9.600617e+12</td>\n",
              "      <td>...</td>\n",
              "      <td>292.057143</td>\n",
              "      <td>292.057143</td>\n",
              "      <td>292.057143</td>\n",
              "      <td>286.558594</td>\n",
              "      <td>289.810559</td>\n",
              "      <td>291.529267</td>\n",
              "      <td>292.268838</td>\n",
              "      <td>-3.35</td>\n",
              "      <td>-1.180201</td>\n",
              "      <td>0</td>\n",
              "    </tr>\n",
              "  </tbody>\n",
              "</table>\n",
              "<p>5 rows × 21 columns</p>\n",
              "</div>\n",
              "      <button class=\"colab-df-convert\" onclick=\"convertToInteractive('df-80d4fa11-22e0-48d1-93ba-b4549a77e16d')\"\n",
              "              title=\"Convert this dataframe to an interactive table.\"\n",
              "              style=\"display:none;\">\n",
              "        \n",
              "  <svg xmlns=\"http://www.w3.org/2000/svg\" height=\"24px\"viewBox=\"0 0 24 24\"\n",
              "       width=\"24px\">\n",
              "    <path d=\"M0 0h24v24H0V0z\" fill=\"none\"/>\n",
              "    <path d=\"M18.56 5.44l.94 2.06.94-2.06 2.06-.94-2.06-.94-.94-2.06-.94 2.06-2.06.94zm-11 1L8.5 8.5l.94-2.06 2.06-.94-2.06-.94L8.5 2.5l-.94 2.06-2.06.94zm10 10l.94 2.06.94-2.06 2.06-.94-2.06-.94-.94-2.06-.94 2.06-2.06.94z\"/><path d=\"M17.41 7.96l-1.37-1.37c-.4-.4-.92-.59-1.43-.59-.52 0-1.04.2-1.43.59L10.3 9.45l-7.72 7.72c-.78.78-.78 2.05 0 2.83L4 21.41c.39.39.9.59 1.41.59.51 0 1.02-.2 1.41-.59l7.78-7.78 2.81-2.81c.8-.78.8-2.07 0-2.86zM5.41 20L4 18.59l7.72-7.72 1.47 1.35L5.41 20z\"/>\n",
              "  </svg>\n",
              "      </button>\n",
              "      \n",
              "  <style>\n",
              "    .colab-df-container {\n",
              "      display:flex;\n",
              "      flex-wrap:wrap;\n",
              "      gap: 12px;\n",
              "    }\n",
              "\n",
              "    .colab-df-convert {\n",
              "      background-color: #E8F0FE;\n",
              "      border: none;\n",
              "      border-radius: 50%;\n",
              "      cursor: pointer;\n",
              "      display: none;\n",
              "      fill: #1967D2;\n",
              "      height: 32px;\n",
              "      padding: 0 0 0 0;\n",
              "      width: 32px;\n",
              "    }\n",
              "\n",
              "    .colab-df-convert:hover {\n",
              "      background-color: #E2EBFA;\n",
              "      box-shadow: 0px 1px 2px rgba(60, 64, 67, 0.3), 0px 1px 3px 1px rgba(60, 64, 67, 0.15);\n",
              "      fill: #174EA6;\n",
              "    }\n",
              "\n",
              "    [theme=dark] .colab-df-convert {\n",
              "      background-color: #3B4455;\n",
              "      fill: #D2E3FC;\n",
              "    }\n",
              "\n",
              "    [theme=dark] .colab-df-convert:hover {\n",
              "      background-color: #434B5C;\n",
              "      box-shadow: 0px 1px 3px 1px rgba(0, 0, 0, 0.15);\n",
              "      filter: drop-shadow(0px 1px 2px rgba(0, 0, 0, 0.3));\n",
              "      fill: #FFFFFF;\n",
              "    }\n",
              "  </style>\n",
              "\n",
              "      <script>\n",
              "        const buttonEl =\n",
              "          document.querySelector('#df-80d4fa11-22e0-48d1-93ba-b4549a77e16d button.colab-df-convert');\n",
              "        buttonEl.style.display =\n",
              "          google.colab.kernel.accessAllowed ? 'block' : 'none';\n",
              "\n",
              "        async function convertToInteractive(key) {\n",
              "          const element = document.querySelector('#df-80d4fa11-22e0-48d1-93ba-b4549a77e16d');\n",
              "          const dataTable =\n",
              "            await google.colab.kernel.invokeFunction('convertToInteractive',\n",
              "                                                     [key], {});\n",
              "          if (!dataTable) return;\n",
              "\n",
              "          const docLinkHtml = 'Like what you see? Visit the ' +\n",
              "            '<a target=\"_blank\" href=https://colab.research.google.com/notebooks/data_table.ipynb>data table notebook</a>'\n",
              "            + ' to learn more about interactive tables.';\n",
              "          element.innerHTML = '';\n",
              "          dataTable['output_type'] = 'display_data';\n",
              "          await google.colab.output.renderOutput(dataTable, element);\n",
              "          const docLink = document.createElement('div');\n",
              "          docLink.innerHTML = docLinkHtml;\n",
              "          element.appendChild(docLink);\n",
              "        }\n",
              "      </script>\n",
              "    </div>\n",
              "  </div>\n",
              "  "
            ]
          },
          "metadata": {},
          "execution_count": 16
        }
      ],
      "source": [
        "#DUMMY CODING USING THE LOOP STRUCTURE\n",
        "for col in df.columns:\n",
        "  if df[col].dtype=='object':\n",
        "    df[col]=pd.Categorical(df[col]).codes\n",
        "df.head(5)"
      ]
    },
    {
      "cell_type": "code",
      "execution_count": 17,
      "metadata": {
        "colab": {
          "base_uri": "https://localhost:8080/",
          "height": 414
        },
        "id": "x9qLUQN22ux5",
        "outputId": "26d50230-6c00-4432-ae34-ca861f9ef42e"
      },
      "outputs": [
        {
          "output_type": "stream",
          "name": "stdout",
          "text": [
            "<class 'pandas.core.frame.DataFrame'>\n",
            "Int64Index: 5575 entries, 2 to 5576\n",
            "Data columns (total 5 columns):\n",
            " #   Column  Non-Null Count  Dtype  \n",
            "---  ------  --------------  -----  \n",
            " 0   Open    5575 non-null   float64\n",
            " 1   High    5575 non-null   float64\n",
            " 2   Low     5575 non-null   float64\n",
            " 3   Volume  5575 non-null   float64\n",
            " 4   Close   5575 non-null   float64\n",
            "dtypes: float64(5)\n",
            "memory usage: 261.3 KB\n"
          ]
        },
        {
          "output_type": "execute_result",
          "data": {
            "text/plain": [
              "    Open    High     Low    Volume   Close\n",
              "2  290.0  303.90  285.00  255251.0  292.80\n",
              "3  301.0  314.00  295.00  269087.0  296.45\n",
              "4  290.0  296.35  281.00  305916.0  286.55\n",
              "5  292.0  296.00  285.00  197039.0  287.20\n",
              "6  290.0  292.00  273.25  133363.0  283.85"
            ],
            "text/html": [
              "\n",
              "  <div id=\"df-99717042-4c36-4a1a-88a6-a9d17314b139\">\n",
              "    <div class=\"colab-df-container\">\n",
              "      <div>\n",
              "<style scoped>\n",
              "    .dataframe tbody tr th:only-of-type {\n",
              "        vertical-align: middle;\n",
              "    }\n",
              "\n",
              "    .dataframe tbody tr th {\n",
              "        vertical-align: top;\n",
              "    }\n",
              "\n",
              "    .dataframe thead th {\n",
              "        text-align: right;\n",
              "    }\n",
              "</style>\n",
              "<table border=\"1\" class=\"dataframe\">\n",
              "  <thead>\n",
              "    <tr style=\"text-align: right;\">\n",
              "      <th></th>\n",
              "      <th>Open</th>\n",
              "      <th>High</th>\n",
              "      <th>Low</th>\n",
              "      <th>Volume</th>\n",
              "      <th>Close</th>\n",
              "    </tr>\n",
              "  </thead>\n",
              "  <tbody>\n",
              "    <tr>\n",
              "      <th>2</th>\n",
              "      <td>290.0</td>\n",
              "      <td>303.90</td>\n",
              "      <td>285.00</td>\n",
              "      <td>255251.0</td>\n",
              "      <td>292.80</td>\n",
              "    </tr>\n",
              "    <tr>\n",
              "      <th>3</th>\n",
              "      <td>301.0</td>\n",
              "      <td>314.00</td>\n",
              "      <td>295.00</td>\n",
              "      <td>269087.0</td>\n",
              "      <td>296.45</td>\n",
              "    </tr>\n",
              "    <tr>\n",
              "      <th>4</th>\n",
              "      <td>290.0</td>\n",
              "      <td>296.35</td>\n",
              "      <td>281.00</td>\n",
              "      <td>305916.0</td>\n",
              "      <td>286.55</td>\n",
              "    </tr>\n",
              "    <tr>\n",
              "      <th>5</th>\n",
              "      <td>292.0</td>\n",
              "      <td>296.00</td>\n",
              "      <td>285.00</td>\n",
              "      <td>197039.0</td>\n",
              "      <td>287.20</td>\n",
              "    </tr>\n",
              "    <tr>\n",
              "      <th>6</th>\n",
              "      <td>290.0</td>\n",
              "      <td>292.00</td>\n",
              "      <td>273.25</td>\n",
              "      <td>133363.0</td>\n",
              "      <td>283.85</td>\n",
              "    </tr>\n",
              "  </tbody>\n",
              "</table>\n",
              "</div>\n",
              "      <button class=\"colab-df-convert\" onclick=\"convertToInteractive('df-99717042-4c36-4a1a-88a6-a9d17314b139')\"\n",
              "              title=\"Convert this dataframe to an interactive table.\"\n",
              "              style=\"display:none;\">\n",
              "        \n",
              "  <svg xmlns=\"http://www.w3.org/2000/svg\" height=\"24px\"viewBox=\"0 0 24 24\"\n",
              "       width=\"24px\">\n",
              "    <path d=\"M0 0h24v24H0V0z\" fill=\"none\"/>\n",
              "    <path d=\"M18.56 5.44l.94 2.06.94-2.06 2.06-.94-2.06-.94-.94-2.06-.94 2.06-2.06.94zm-11 1L8.5 8.5l.94-2.06 2.06-.94-2.06-.94L8.5 2.5l-.94 2.06-2.06.94zm10 10l.94 2.06.94-2.06 2.06-.94-2.06-.94-.94-2.06-.94 2.06-2.06.94z\"/><path d=\"M17.41 7.96l-1.37-1.37c-.4-.4-.92-.59-1.43-.59-.52 0-1.04.2-1.43.59L10.3 9.45l-7.72 7.72c-.78.78-.78 2.05 0 2.83L4 21.41c.39.39.9.59 1.41.59.51 0 1.02-.2 1.41-.59l7.78-7.78 2.81-2.81c.8-.78.8-2.07 0-2.86zM5.41 20L4 18.59l7.72-7.72 1.47 1.35L5.41 20z\"/>\n",
              "  </svg>\n",
              "      </button>\n",
              "      \n",
              "  <style>\n",
              "    .colab-df-container {\n",
              "      display:flex;\n",
              "      flex-wrap:wrap;\n",
              "      gap: 12px;\n",
              "    }\n",
              "\n",
              "    .colab-df-convert {\n",
              "      background-color: #E8F0FE;\n",
              "      border: none;\n",
              "      border-radius: 50%;\n",
              "      cursor: pointer;\n",
              "      display: none;\n",
              "      fill: #1967D2;\n",
              "      height: 32px;\n",
              "      padding: 0 0 0 0;\n",
              "      width: 32px;\n",
              "    }\n",
              "\n",
              "    .colab-df-convert:hover {\n",
              "      background-color: #E2EBFA;\n",
              "      box-shadow: 0px 1px 2px rgba(60, 64, 67, 0.3), 0px 1px 3px 1px rgba(60, 64, 67, 0.15);\n",
              "      fill: #174EA6;\n",
              "    }\n",
              "\n",
              "    [theme=dark] .colab-df-convert {\n",
              "      background-color: #3B4455;\n",
              "      fill: #D2E3FC;\n",
              "    }\n",
              "\n",
              "    [theme=dark] .colab-df-convert:hover {\n",
              "      background-color: #434B5C;\n",
              "      box-shadow: 0px 1px 3px 1px rgba(0, 0, 0, 0.15);\n",
              "      filter: drop-shadow(0px 1px 2px rgba(0, 0, 0, 0.3));\n",
              "      fill: #FFFFFF;\n",
              "    }\n",
              "  </style>\n",
              "\n",
              "      <script>\n",
              "        const buttonEl =\n",
              "          document.querySelector('#df-99717042-4c36-4a1a-88a6-a9d17314b139 button.colab-df-convert');\n",
              "        buttonEl.style.display =\n",
              "          google.colab.kernel.accessAllowed ? 'block' : 'none';\n",
              "\n",
              "        async function convertToInteractive(key) {\n",
              "          const element = document.querySelector('#df-99717042-4c36-4a1a-88a6-a9d17314b139');\n",
              "          const dataTable =\n",
              "            await google.colab.kernel.invokeFunction('convertToInteractive',\n",
              "                                                     [key], {});\n",
              "          if (!dataTable) return;\n",
              "\n",
              "          const docLinkHtml = 'Like what you see? Visit the ' +\n",
              "            '<a target=\"_blank\" href=https://colab.research.google.com/notebooks/data_table.ipynb>data table notebook</a>'\n",
              "            + ' to learn more about interactive tables.';\n",
              "          element.innerHTML = '';\n",
              "          dataTable['output_type'] = 'display_data';\n",
              "          await google.colab.output.renderOutput(dataTable, element);\n",
              "          const docLink = document.createElement('div');\n",
              "          docLink.innerHTML = docLinkHtml;\n",
              "          element.appendChild(docLink);\n",
              "        }\n",
              "      </script>\n",
              "    </div>\n",
              "  </div>\n",
              "  "
            ]
          },
          "metadata": {},
          "execution_count": 17
        }
      ],
      "source": [
        "features = ['Open','High','Low','Volume','Close']\n",
        "df.dropna(inplace=True)\n",
        "output_var = df['TARGET']\n",
        "df[features].info()\n",
        "df[features].head()"
      ]
    },
    {
      "cell_type": "code",
      "execution_count": 18,
      "metadata": {
        "id": "yx68E6wyZtEF",
        "colab": {
          "base_uri": "https://localhost:8080/"
        },
        "outputId": "e853e707-a6c6-4bb1-ed07-8f84b9e57e49"
      },
      "outputs": [
        {
          "output_type": "stream",
          "name": "stdout",
          "text": [
            "Looking in indexes: https://pypi.org/simple, https://us-python.pkg.dev/colab-wheels/public/simple/\n",
            "Collecting ta\n",
            "  Downloading ta-0.10.2.tar.gz (25 kB)\n",
            "  Preparing metadata (setup.py) ... \u001b[?25l\u001b[?25hdone\n",
            "Requirement already satisfied: numpy in /usr/local/lib/python3.9/dist-packages (from ta) (1.22.4)\n",
            "Requirement already satisfied: pandas in /usr/local/lib/python3.9/dist-packages (from ta) (1.3.5)\n",
            "Requirement already satisfied: python-dateutil>=2.7.3 in /usr/local/lib/python3.9/dist-packages (from pandas->ta) (2.8.2)\n",
            "Requirement already satisfied: pytz>=2017.3 in /usr/local/lib/python3.9/dist-packages (from pandas->ta) (2022.7.1)\n",
            "Requirement already satisfied: six>=1.5 in /usr/local/lib/python3.9/dist-packages (from python-dateutil>=2.7.3->pandas->ta) (1.15.0)\n",
            "Building wheels for collected packages: ta\n",
            "  Building wheel for ta (setup.py) ... \u001b[?25l\u001b[?25hdone\n",
            "  Created wheel for ta: filename=ta-0.10.2-py3-none-any.whl size=29106 sha256=b0b2934d8899139fe3bcf0ec361adfed57be6ea33cea89fe98ce2f761c5c8b2d\n",
            "  Stored in directory: /root/.cache/pip/wheels/6a/76/03/7f785aaa50b9c6ec7e3fd105a62c1b2c45a034512d51e024a9\n",
            "Successfully built ta\n",
            "Installing collected packages: ta\n",
            "Successfully installed ta-0.10.2\n"
          ]
        }
      ],
      "source": [
        "!pip install ta\n",
        "import ta\n",
        "from ta import add_all_ta_features"
      ]
    },
    {
      "cell_type": "code",
      "execution_count": 19,
      "metadata": {
        "colab": {
          "base_uri": "https://localhost:8080/"
        },
        "id": "7HtmH8H8a5lP",
        "outputId": "8628ed2d-ae76-454c-e3a0-7336142b6d72"
      },
      "outputs": [
        {
          "output_type": "stream",
          "name": "stderr",
          "text": [
            "/usr/local/lib/python3.9/dist-packages/ta/trend.py:780: RuntimeWarning: invalid value encountered in double_scalars\n",
            "  dip[idx] = 100 * (self._dip[idx] / value)\n",
            "/usr/local/lib/python3.9/dist-packages/ta/trend.py:785: RuntimeWarning: invalid value encountered in double_scalars\n",
            "  din[idx] = 100 * (self._din[idx] / value)\n"
          ]
        }
      ],
      "source": [
        "# add technical analysis features\n",
        "data = add_all_ta_features(\n",
        "    df, open=\"Open\", high=\"High\", low=\"Low\", close=\"Close\", volume=\"Volume\")\n"
      ]
    },
    {
      "cell_type": "code",
      "execution_count": 19,
      "metadata": {
        "id": "k2UQKE8y5Jvd"
      },
      "outputs": [],
      "source": []
    },
    {
      "cell_type": "code",
      "execution_count": 20,
      "metadata": {
        "id": "vvDaDWfxl3vx"
      },
      "outputs": [],
      "source": [
        "from ta.volatility import AverageTrueRange,BollingerBands\n",
        "from ta.volatility import DonchianChannel\n",
        "from ta.volatility import KeltnerChannel,UlcerIndex\n",
        " \n",
        "atr=AverageTrueRange(close = data.Close,high=data.High,low=data.Low)\n",
        "data[\"atr\"] = atr.average_true_range()\n",
        "bol_hband=BollingerBands(close = data.Close)\n",
        "data[\"bol_hband\"] = bol_hband.bollinger_hband()\n",
        "bol_lband=BollingerBands(close = data.Close)\n",
        "data[\"bol_lband\"] = bol_lband.bollinger_lband()\n",
        "bol_mband=BollingerBands(close = data.Close)\n",
        "data[\"bol_mband\"] = bol_mband.bollinger_mavg()\n",
        "donchi_hband=DonchianChannel(high=data.High,low=data.Low,close = data.Close)\n",
        "data[\"donchi_hband\"] = donchi_hband.donchian_channel_hband()\n",
        "donchi_lband=DonchianChannel(high=data.High,low=data.Low,close = data.Close)\n",
        "data[\"donchi_lband\"] = donchi_lband.donchian_channel_lband()\n",
        "donchi_mband=DonchianChannel(high=data.High,low=data.Low,close = data.Close)\n",
        "data[\"donchi_mband\"] = donchi_mband.donchian_channel_mband()\n",
        "Kelt_hband=KeltnerChannel(close = data.Close,high=data.High,low=data.Low)\n",
        "data[\"Kelt_hband\"] = Kelt_hband.keltner_channel_hband()\n",
        "Kelt_lband=KeltnerChannel(close = data.Close,high=data.High,low=data.Low)\n",
        "data[\"Kelt_lband\"] = Kelt_lband.keltner_channel_lband()\n",
        "Kelt_mband=KeltnerChannel(close = data.Close,high=data.High,low=data.Low)\n",
        "data[\"Kelt_mband\"] = Kelt_mband.keltner_channel_mband()\n",
        "ulindex=UlcerIndex(close = data.Close)\n",
        "data[\"ulindex\"] = ulindex.ulcer_index()"
      ]
    },
    {
      "cell_type": "code",
      "execution_count": 21,
      "metadata": {
        "colab": {
          "base_uri": "https://localhost:8080/"
        },
        "id": "M56gT8EKgFQH",
        "outputId": "7585646b-70dd-40f8-dccc-e6df44466d1b"
      },
      "outputs": [
        {
          "output_type": "stream",
          "name": "stderr",
          "text": [
            "<ipython-input-21-71cb60a887d2>:4: SettingWithCopyWarning: \n",
            "A value is trying to be set on a copy of a slice from a DataFrame.\n",
            "Try using .loc[row_indexer,col_indexer] = value instead\n",
            "\n",
            "See the caveats in the documentation: https://pandas.pydata.org/pandas-docs/stable/user_guide/indexing.html#returning-a-view-versus-a-copy\n",
            "  df[\"output_var\"]=output_var\n",
            "/usr/local/lib/python3.9/dist-packages/pandas/util/_decorators.py:311: SettingWithCopyWarning: \n",
            "A value is trying to be set on a copy of a slice from a DataFrame\n",
            "\n",
            "See the caveats in the documentation: https://pandas.pydata.org/pandas-docs/stable/user_guide/indexing.html#returning-a-view-versus-a-copy\n",
            "  return func(*args, **kwargs)\n"
          ]
        }
      ],
      "source": [
        "features = ['atr','bol_hband','bol_lband','bol_mband','donchi_hband','donchi_lband','donchi_mband','Kelt_hband','Kelt_lband','Kelt_mband','ulindex','SMA_3','SMA_7','SMA_13','SMA_20','EMA_3','EMA_7','EMA_13','EMA_20']\n",
        "features_30days=['D1','D2','D3','D4','D5','D6','D7','D8','D9','D10','D11','D12','D13','D14','D15','D16','D17','D18','D19','D20','D21','D22','D23','D24','D25','D26','D27','D28','D29','D30']\n",
        "df=df[features]\n",
        "df[\"output_var\"]=output_var\n",
        "total=len(features_30days)\n",
        "\n",
        "df.dropna(inplace=True)\n",
        "dfalldays=dfalldays[:df.shape[0]]\n",
        "df=df.reset_index()\n",
        "dfalldays=dfalldays.reset_index()\n",
        "for i in range(0,total):\n",
        "  df[features_30days[i]]=dfalldays[features_30days[i]]\n",
        "df=df.drop(['index'],axis=1)"
      ]
    },
    {
      "cell_type": "code",
      "execution_count": 22,
      "metadata": {
        "colab": {
          "base_uri": "https://localhost:8080/"
        },
        "id": "fJoIDsrRtvCC",
        "outputId": "e9b4883b-09a8-4ff7-ffd5-03d0878d4d94"
      },
      "outputs": [
        {
          "output_type": "stream",
          "name": "stdout",
          "text": [
            "<class 'pandas.core.frame.DataFrame'>\n",
            "Int64Index: 5547 entries, 0 to 5546\n",
            "Data columns (total 50 columns):\n",
            " #   Column        Non-Null Count  Dtype  \n",
            "---  ------        --------------  -----  \n",
            " 0   atr           5547 non-null   float64\n",
            " 1   bol_hband     5547 non-null   float64\n",
            " 2   bol_lband     5547 non-null   float64\n",
            " 3   bol_mband     5547 non-null   float64\n",
            " 4   donchi_hband  5547 non-null   float64\n",
            " 5   donchi_lband  5547 non-null   float64\n",
            " 6   donchi_mband  5547 non-null   float64\n",
            " 7   Kelt_hband    5547 non-null   float64\n",
            " 8   Kelt_lband    5547 non-null   float64\n",
            " 9   Kelt_mband    5547 non-null   float64\n",
            " 10  ulindex       5547 non-null   float64\n",
            " 11  SMA_3         5547 non-null   float64\n",
            " 12  SMA_7         5547 non-null   float64\n",
            " 13  SMA_13        5547 non-null   float64\n",
            " 14  SMA_20        5547 non-null   float64\n",
            " 15  EMA_3         5547 non-null   float64\n",
            " 16  EMA_7         5547 non-null   float64\n",
            " 17  EMA_13        5547 non-null   float64\n",
            " 18  EMA_20        5547 non-null   float64\n",
            " 19  output_var    5547 non-null   int8   \n",
            " 20  D1            5547 non-null   float64\n",
            " 21  D2            5547 non-null   float64\n",
            " 22  D3            5547 non-null   float64\n",
            " 23  D4            5547 non-null   float64\n",
            " 24  D5            5547 non-null   float64\n",
            " 25  D6            5547 non-null   float64\n",
            " 26  D7            5547 non-null   float64\n",
            " 27  D8            5547 non-null   float64\n",
            " 28  D9            5547 non-null   float64\n",
            " 29  D10           5547 non-null   float64\n",
            " 30  D11           5547 non-null   float64\n",
            " 31  D12           5547 non-null   float64\n",
            " 32  D13           5547 non-null   float64\n",
            " 33  D14           5547 non-null   float64\n",
            " 34  D15           5547 non-null   float64\n",
            " 35  D16           5547 non-null   float64\n",
            " 36  D17           5547 non-null   float64\n",
            " 37  D18           5547 non-null   float64\n",
            " 38  D19           5547 non-null   float64\n",
            " 39  D20           5547 non-null   float64\n",
            " 40  D21           5547 non-null   float64\n",
            " 41  D22           5547 non-null   float64\n",
            " 42  D23           5547 non-null   float64\n",
            " 43  D24           5547 non-null   float64\n",
            " 44  D25           5547 non-null   float64\n",
            " 45  D26           5547 non-null   float64\n",
            " 46  D27           5547 non-null   float64\n",
            " 47  D28           5547 non-null   float64\n",
            " 48  D29           5547 non-null   float64\n",
            " 49  D30           5547 non-null   float64\n",
            "dtypes: float64(49), int8(1)\n",
            "memory usage: 2.1 MB\n"
          ]
        }
      ],
      "source": [
        "df.dropna(inplace=True)\n",
        "df.info()"
      ]
    },
    {
      "cell_type": "code",
      "execution_count": 23,
      "metadata": {
        "colab": {
          "base_uri": "https://localhost:8080/",
          "height": 300
        },
        "id": "svvFg8gpOLfQ",
        "outputId": "a7ae3724-3f22-40ce-9b9d-318203e65b69"
      },
      "outputs": [
        {
          "output_type": "execute_result",
          "data": {
            "text/plain": [
              "        atr  bol_hband  bol_lband  bol_mband  donchi_hband  donchi_lband  \\\n",
              "0  0.047226   0.000000   0.292797   0.000000      0.000000           0.0   \n",
              "1  0.045980   0.001268   0.292701   0.000904      0.000000           0.0   \n",
              "2  0.047368   0.003191   0.292190   0.002023      0.001859           0.0   \n",
              "3  0.046428   0.004668   0.292389   0.003293      0.001893           0.0   \n",
              "4  0.045254   0.005685   0.292950   0.004459      0.001893           0.0   \n",
              "\n",
              "   donchi_mband  Kelt_hband  Kelt_lband  Kelt_mband  ...       D21       D22  \\\n",
              "0      0.000000    0.000000    0.000000    0.000000  ...  0.017824  0.018119   \n",
              "1      0.000000    0.000792    0.001042    0.000920  ...  0.018119  0.014821   \n",
              "2      0.001001    0.001758    0.001969    0.001872  ...  0.014821  0.020132   \n",
              "3      0.001020    0.002942    0.003253    0.003113  ...  0.020132  0.019525   \n",
              "4      0.001020    0.004096    0.004378    0.004260  ...  0.019525  0.017807   \n",
              "\n",
              "        D23       D24       D25       D26       D27       D28       D29  \\\n",
              "0  0.014821  0.020132  0.019525  0.017807  0.010396  0.007341  0.015429   \n",
              "1  0.020132  0.019525  0.017807  0.010396  0.007341  0.015429  0.020809   \n",
              "2  0.019525  0.017807  0.010396  0.007341  0.015429  0.020809  0.011593   \n",
              "3  0.017807  0.010396  0.007341  0.015429  0.020809  0.011593  0.014717   \n",
              "4  0.010396  0.007341  0.015429  0.020809  0.011593  0.014717  0.013884   \n",
              "\n",
              "        D30  \n",
              "0  0.020809  \n",
              "1  0.011593  \n",
              "2  0.014717  \n",
              "3  0.013884  \n",
              "4  0.009962  \n",
              "\n",
              "[5 rows x 49 columns]"
            ],
            "text/html": [
              "\n",
              "  <div id=\"df-3fd6635a-3975-4701-9725-2c54fec2ed34\">\n",
              "    <div class=\"colab-df-container\">\n",
              "      <div>\n",
              "<style scoped>\n",
              "    .dataframe tbody tr th:only-of-type {\n",
              "        vertical-align: middle;\n",
              "    }\n",
              "\n",
              "    .dataframe tbody tr th {\n",
              "        vertical-align: top;\n",
              "    }\n",
              "\n",
              "    .dataframe thead th {\n",
              "        text-align: right;\n",
              "    }\n",
              "</style>\n",
              "<table border=\"1\" class=\"dataframe\">\n",
              "  <thead>\n",
              "    <tr style=\"text-align: right;\">\n",
              "      <th></th>\n",
              "      <th>atr</th>\n",
              "      <th>bol_hband</th>\n",
              "      <th>bol_lband</th>\n",
              "      <th>bol_mband</th>\n",
              "      <th>donchi_hband</th>\n",
              "      <th>donchi_lband</th>\n",
              "      <th>donchi_mband</th>\n",
              "      <th>Kelt_hband</th>\n",
              "      <th>Kelt_lband</th>\n",
              "      <th>Kelt_mband</th>\n",
              "      <th>...</th>\n",
              "      <th>D21</th>\n",
              "      <th>D22</th>\n",
              "      <th>D23</th>\n",
              "      <th>D24</th>\n",
              "      <th>D25</th>\n",
              "      <th>D26</th>\n",
              "      <th>D27</th>\n",
              "      <th>D28</th>\n",
              "      <th>D29</th>\n",
              "      <th>D30</th>\n",
              "    </tr>\n",
              "  </thead>\n",
              "  <tbody>\n",
              "    <tr>\n",
              "      <th>0</th>\n",
              "      <td>0.047226</td>\n",
              "      <td>0.000000</td>\n",
              "      <td>0.292797</td>\n",
              "      <td>0.000000</td>\n",
              "      <td>0.000000</td>\n",
              "      <td>0.0</td>\n",
              "      <td>0.000000</td>\n",
              "      <td>0.000000</td>\n",
              "      <td>0.000000</td>\n",
              "      <td>0.000000</td>\n",
              "      <td>...</td>\n",
              "      <td>0.017824</td>\n",
              "      <td>0.018119</td>\n",
              "      <td>0.014821</td>\n",
              "      <td>0.020132</td>\n",
              "      <td>0.019525</td>\n",
              "      <td>0.017807</td>\n",
              "      <td>0.010396</td>\n",
              "      <td>0.007341</td>\n",
              "      <td>0.015429</td>\n",
              "      <td>0.020809</td>\n",
              "    </tr>\n",
              "    <tr>\n",
              "      <th>1</th>\n",
              "      <td>0.045980</td>\n",
              "      <td>0.001268</td>\n",
              "      <td>0.292701</td>\n",
              "      <td>0.000904</td>\n",
              "      <td>0.000000</td>\n",
              "      <td>0.0</td>\n",
              "      <td>0.000000</td>\n",
              "      <td>0.000792</td>\n",
              "      <td>0.001042</td>\n",
              "      <td>0.000920</td>\n",
              "      <td>...</td>\n",
              "      <td>0.018119</td>\n",
              "      <td>0.014821</td>\n",
              "      <td>0.020132</td>\n",
              "      <td>0.019525</td>\n",
              "      <td>0.017807</td>\n",
              "      <td>0.010396</td>\n",
              "      <td>0.007341</td>\n",
              "      <td>0.015429</td>\n",
              "      <td>0.020809</td>\n",
              "      <td>0.011593</td>\n",
              "    </tr>\n",
              "    <tr>\n",
              "      <th>2</th>\n",
              "      <td>0.047368</td>\n",
              "      <td>0.003191</td>\n",
              "      <td>0.292190</td>\n",
              "      <td>0.002023</td>\n",
              "      <td>0.001859</td>\n",
              "      <td>0.0</td>\n",
              "      <td>0.001001</td>\n",
              "      <td>0.001758</td>\n",
              "      <td>0.001969</td>\n",
              "      <td>0.001872</td>\n",
              "      <td>...</td>\n",
              "      <td>0.014821</td>\n",
              "      <td>0.020132</td>\n",
              "      <td>0.019525</td>\n",
              "      <td>0.017807</td>\n",
              "      <td>0.010396</td>\n",
              "      <td>0.007341</td>\n",
              "      <td>0.015429</td>\n",
              "      <td>0.020809</td>\n",
              "      <td>0.011593</td>\n",
              "      <td>0.014717</td>\n",
              "    </tr>\n",
              "    <tr>\n",
              "      <th>3</th>\n",
              "      <td>0.046428</td>\n",
              "      <td>0.004668</td>\n",
              "      <td>0.292389</td>\n",
              "      <td>0.003293</td>\n",
              "      <td>0.001893</td>\n",
              "      <td>0.0</td>\n",
              "      <td>0.001020</td>\n",
              "      <td>0.002942</td>\n",
              "      <td>0.003253</td>\n",
              "      <td>0.003113</td>\n",
              "      <td>...</td>\n",
              "      <td>0.020132</td>\n",
              "      <td>0.019525</td>\n",
              "      <td>0.017807</td>\n",
              "      <td>0.010396</td>\n",
              "      <td>0.007341</td>\n",
              "      <td>0.015429</td>\n",
              "      <td>0.020809</td>\n",
              "      <td>0.011593</td>\n",
              "      <td>0.014717</td>\n",
              "      <td>0.013884</td>\n",
              "    </tr>\n",
              "    <tr>\n",
              "      <th>4</th>\n",
              "      <td>0.045254</td>\n",
              "      <td>0.005685</td>\n",
              "      <td>0.292950</td>\n",
              "      <td>0.004459</td>\n",
              "      <td>0.001893</td>\n",
              "      <td>0.0</td>\n",
              "      <td>0.001020</td>\n",
              "      <td>0.004096</td>\n",
              "      <td>0.004378</td>\n",
              "      <td>0.004260</td>\n",
              "      <td>...</td>\n",
              "      <td>0.019525</td>\n",
              "      <td>0.017807</td>\n",
              "      <td>0.010396</td>\n",
              "      <td>0.007341</td>\n",
              "      <td>0.015429</td>\n",
              "      <td>0.020809</td>\n",
              "      <td>0.011593</td>\n",
              "      <td>0.014717</td>\n",
              "      <td>0.013884</td>\n",
              "      <td>0.009962</td>\n",
              "    </tr>\n",
              "  </tbody>\n",
              "</table>\n",
              "<p>5 rows × 49 columns</p>\n",
              "</div>\n",
              "      <button class=\"colab-df-convert\" onclick=\"convertToInteractive('df-3fd6635a-3975-4701-9725-2c54fec2ed34')\"\n",
              "              title=\"Convert this dataframe to an interactive table.\"\n",
              "              style=\"display:none;\">\n",
              "        \n",
              "  <svg xmlns=\"http://www.w3.org/2000/svg\" height=\"24px\"viewBox=\"0 0 24 24\"\n",
              "       width=\"24px\">\n",
              "    <path d=\"M0 0h24v24H0V0z\" fill=\"none\"/>\n",
              "    <path d=\"M18.56 5.44l.94 2.06.94-2.06 2.06-.94-2.06-.94-.94-2.06-.94 2.06-2.06.94zm-11 1L8.5 8.5l.94-2.06 2.06-.94-2.06-.94L8.5 2.5l-.94 2.06-2.06.94zm10 10l.94 2.06.94-2.06 2.06-.94-2.06-.94-.94-2.06-.94 2.06-2.06.94z\"/><path d=\"M17.41 7.96l-1.37-1.37c-.4-.4-.92-.59-1.43-.59-.52 0-1.04.2-1.43.59L10.3 9.45l-7.72 7.72c-.78.78-.78 2.05 0 2.83L4 21.41c.39.39.9.59 1.41.59.51 0 1.02-.2 1.41-.59l7.78-7.78 2.81-2.81c.8-.78.8-2.07 0-2.86zM5.41 20L4 18.59l7.72-7.72 1.47 1.35L5.41 20z\"/>\n",
              "  </svg>\n",
              "      </button>\n",
              "      \n",
              "  <style>\n",
              "    .colab-df-container {\n",
              "      display:flex;\n",
              "      flex-wrap:wrap;\n",
              "      gap: 12px;\n",
              "    }\n",
              "\n",
              "    .colab-df-convert {\n",
              "      background-color: #E8F0FE;\n",
              "      border: none;\n",
              "      border-radius: 50%;\n",
              "      cursor: pointer;\n",
              "      display: none;\n",
              "      fill: #1967D2;\n",
              "      height: 32px;\n",
              "      padding: 0 0 0 0;\n",
              "      width: 32px;\n",
              "    }\n",
              "\n",
              "    .colab-df-convert:hover {\n",
              "      background-color: #E2EBFA;\n",
              "      box-shadow: 0px 1px 2px rgba(60, 64, 67, 0.3), 0px 1px 3px 1px rgba(60, 64, 67, 0.15);\n",
              "      fill: #174EA6;\n",
              "    }\n",
              "\n",
              "    [theme=dark] .colab-df-convert {\n",
              "      background-color: #3B4455;\n",
              "      fill: #D2E3FC;\n",
              "    }\n",
              "\n",
              "    [theme=dark] .colab-df-convert:hover {\n",
              "      background-color: #434B5C;\n",
              "      box-shadow: 0px 1px 3px 1px rgba(0, 0, 0, 0.15);\n",
              "      filter: drop-shadow(0px 1px 2px rgba(0, 0, 0, 0.3));\n",
              "      fill: #FFFFFF;\n",
              "    }\n",
              "  </style>\n",
              "\n",
              "      <script>\n",
              "        const buttonEl =\n",
              "          document.querySelector('#df-3fd6635a-3975-4701-9725-2c54fec2ed34 button.colab-df-convert');\n",
              "        buttonEl.style.display =\n",
              "          google.colab.kernel.accessAllowed ? 'block' : 'none';\n",
              "\n",
              "        async function convertToInteractive(key) {\n",
              "          const element = document.querySelector('#df-3fd6635a-3975-4701-9725-2c54fec2ed34');\n",
              "          const dataTable =\n",
              "            await google.colab.kernel.invokeFunction('convertToInteractive',\n",
              "                                                     [key], {});\n",
              "          if (!dataTable) return;\n",
              "\n",
              "          const docLinkHtml = 'Like what you see? Visit the ' +\n",
              "            '<a target=\"_blank\" href=https://colab.research.google.com/notebooks/data_table.ipynb>data table notebook</a>'\n",
              "            + ' to learn more about interactive tables.';\n",
              "          element.innerHTML = '';\n",
              "          dataTable['output_type'] = 'display_data';\n",
              "          await google.colab.output.renderOutput(dataTable, element);\n",
              "          const docLink = document.createElement('div');\n",
              "          docLink.innerHTML = docLinkHtml;\n",
              "          element.appendChild(docLink);\n",
              "        }\n",
              "      </script>\n",
              "    </div>\n",
              "  </div>\n",
              "  "
            ]
          },
          "metadata": {},
          "execution_count": 23
        }
      ],
      "source": [
        "scaler = MinMaxScaler()\n",
        "feature_transform = scaler.fit_transform(df[features+features_30days])\n",
        "feature_transform= pd.DataFrame(columns=features+features_30days, data=feature_transform)\n",
        "feature_transform.head()"
      ]
    },
    {
      "cell_type": "code",
      "execution_count": 24,
      "metadata": {
        "colab": {
          "base_uri": "https://localhost:8080/",
          "height": 35
        },
        "id": "yHX0fqyrL5U1",
        "outputId": "2d7c3127-a69e-42fd-ba21-9b095dfeb1cb"
      },
      "outputs": [
        {
          "output_type": "execute_result",
          "data": {
            "text/plain": [
              "\"\\nx=feature_transform\\nx.head()\\ny=df['output_var']\\ny.head()\\n\""
            ],
            "application/vnd.google.colaboratory.intrinsic+json": {
              "type": "string"
            }
          },
          "metadata": {},
          "execution_count": 24
        }
      ],
      "source": [
        "'''\n",
        "x=feature_transform\n",
        "x.head()\n",
        "y=df['output_var']\n",
        "y.head()\n",
        "'''"
      ]
    },
    {
      "cell_type": "code",
      "execution_count": 25,
      "metadata": {
        "colab": {
          "base_uri": "https://localhost:8080/",
          "height": 53
        },
        "id": "DcD1qC3iMvdq",
        "outputId": "0369162a-319d-4e9b-ec1d-a5df30ca6a7f"
      },
      "outputs": [
        {
          "output_type": "execute_result",
          "data": {
            "text/plain": [
              "'\\n#create test and train data 70% and 30% split\\ntrain_x,test_x,train_y,test_y=train_test_split(x,y,test_size=0.3)\\ntrain_x.shape\\ntest_x.shape\\ntrain_x.shape\\ntrain_y.shape\\n'"
            ],
            "application/vnd.google.colaboratory.intrinsic+json": {
              "type": "string"
            }
          },
          "metadata": {},
          "execution_count": 25
        }
      ],
      "source": [
        "'''\n",
        "#create test and train data 70% and 30% split\n",
        "train_x,test_x,train_y,test_y=train_test_split(x,y,test_size=0.3)\n",
        "train_x.shape\n",
        "test_x.shape\n",
        "train_x.shape\n",
        "train_y.shape\n",
        "'''"
      ]
    },
    {
      "cell_type": "code",
      "execution_count": 26,
      "metadata": {
        "colab": {
          "base_uri": "https://localhost:8080/",
          "height": 422
        },
        "id": "9ksRxVM4tysS",
        "outputId": "49658d33-5c4d-4566-9528-fa8f71d9e32f"
      },
      "outputs": [
        {
          "output_type": "execute_result",
          "data": {
            "text/plain": [
              "'1.0000000000000002'"
            ],
            "application/vnd.google.colaboratory.intrinsic+json": {
              "type": "string"
            }
          },
          "metadata": {},
          "execution_count": 26
        },
        {
          "output_type": "execute_result",
          "data": {
            "text/plain": [
              "         P1        P2        P3        P4        P5        P6        P7  \\\n",
              "0 -2.465975 -0.029294 -0.041517  0.015746  0.011925 -0.012208  0.001567   \n",
              "1 -2.462042 -0.030766 -0.038933  0.021220  0.013667 -0.010961  0.003052   \n",
              "2 -2.456701 -0.032366 -0.039303  0.027834  0.013644 -0.009418  0.005017   \n",
              "3 -2.451901 -0.032549 -0.037256  0.032274  0.012718 -0.005823  0.006066   \n",
              "4 -2.448431 -0.031595 -0.034312  0.037159  0.011015 -0.002793  0.007319   \n",
              "\n",
              "         P8        P9       P10  ...       P31       P32       P33       P34  \\\n",
              "0 -0.000919 -0.022562 -0.021741  ...  0.000953 -0.000730  0.000216 -0.001226   \n",
              "1  0.003220 -0.020555 -0.022742  ...  0.000510 -0.000104  0.000311  0.002112   \n",
              "2  0.010008 -0.020470 -0.021872  ... -0.001374  0.000177 -0.001641 -0.001637   \n",
              "3  0.014105 -0.020282 -0.017099  ...  0.000569 -0.001370  0.001765  0.002424   \n",
              "4  0.015252 -0.022496 -0.009825  ...  0.001067  0.001000 -0.002265 -0.001951   \n",
              "\n",
              "        P35       P36       P37       P38       P39           P40  \n",
              "0  0.003723  0.000369  0.000339 -0.000711  0.000099 -3.240959e-07  \n",
              "1 -0.003312 -0.000132  0.000066 -0.000747  0.000075 -9.693554e-07  \n",
              "2  0.001805  0.000399  0.000210 -0.000580  0.000104  2.984115e-07  \n",
              "3 -0.001837  0.000066 -0.000087 -0.000601  0.000091 -7.680779e-08  \n",
              "4  0.000303  0.000286 -0.000438 -0.000530  0.000104  6.952182e-07  \n",
              "\n",
              "[5 rows x 40 columns]"
            ],
            "text/html": [
              "\n",
              "  <div id=\"df-c501fc4f-fff5-4ea0-91f6-19b3c1d6ccb0\">\n",
              "    <div class=\"colab-df-container\">\n",
              "      <div>\n",
              "<style scoped>\n",
              "    .dataframe tbody tr th:only-of-type {\n",
              "        vertical-align: middle;\n",
              "    }\n",
              "\n",
              "    .dataframe tbody tr th {\n",
              "        vertical-align: top;\n",
              "    }\n",
              "\n",
              "    .dataframe thead th {\n",
              "        text-align: right;\n",
              "    }\n",
              "</style>\n",
              "<table border=\"1\" class=\"dataframe\">\n",
              "  <thead>\n",
              "    <tr style=\"text-align: right;\">\n",
              "      <th></th>\n",
              "      <th>P1</th>\n",
              "      <th>P2</th>\n",
              "      <th>P3</th>\n",
              "      <th>P4</th>\n",
              "      <th>P5</th>\n",
              "      <th>P6</th>\n",
              "      <th>P7</th>\n",
              "      <th>P8</th>\n",
              "      <th>P9</th>\n",
              "      <th>P10</th>\n",
              "      <th>...</th>\n",
              "      <th>P31</th>\n",
              "      <th>P32</th>\n",
              "      <th>P33</th>\n",
              "      <th>P34</th>\n",
              "      <th>P35</th>\n",
              "      <th>P36</th>\n",
              "      <th>P37</th>\n",
              "      <th>P38</th>\n",
              "      <th>P39</th>\n",
              "      <th>P40</th>\n",
              "    </tr>\n",
              "  </thead>\n",
              "  <tbody>\n",
              "    <tr>\n",
              "      <th>0</th>\n",
              "      <td>-2.465975</td>\n",
              "      <td>-0.029294</td>\n",
              "      <td>-0.041517</td>\n",
              "      <td>0.015746</td>\n",
              "      <td>0.011925</td>\n",
              "      <td>-0.012208</td>\n",
              "      <td>0.001567</td>\n",
              "      <td>-0.000919</td>\n",
              "      <td>-0.022562</td>\n",
              "      <td>-0.021741</td>\n",
              "      <td>...</td>\n",
              "      <td>0.000953</td>\n",
              "      <td>-0.000730</td>\n",
              "      <td>0.000216</td>\n",
              "      <td>-0.001226</td>\n",
              "      <td>0.003723</td>\n",
              "      <td>0.000369</td>\n",
              "      <td>0.000339</td>\n",
              "      <td>-0.000711</td>\n",
              "      <td>0.000099</td>\n",
              "      <td>-3.240959e-07</td>\n",
              "    </tr>\n",
              "    <tr>\n",
              "      <th>1</th>\n",
              "      <td>-2.462042</td>\n",
              "      <td>-0.030766</td>\n",
              "      <td>-0.038933</td>\n",
              "      <td>0.021220</td>\n",
              "      <td>0.013667</td>\n",
              "      <td>-0.010961</td>\n",
              "      <td>0.003052</td>\n",
              "      <td>0.003220</td>\n",
              "      <td>-0.020555</td>\n",
              "      <td>-0.022742</td>\n",
              "      <td>...</td>\n",
              "      <td>0.000510</td>\n",
              "      <td>-0.000104</td>\n",
              "      <td>0.000311</td>\n",
              "      <td>0.002112</td>\n",
              "      <td>-0.003312</td>\n",
              "      <td>-0.000132</td>\n",
              "      <td>0.000066</td>\n",
              "      <td>-0.000747</td>\n",
              "      <td>0.000075</td>\n",
              "      <td>-9.693554e-07</td>\n",
              "    </tr>\n",
              "    <tr>\n",
              "      <th>2</th>\n",
              "      <td>-2.456701</td>\n",
              "      <td>-0.032366</td>\n",
              "      <td>-0.039303</td>\n",
              "      <td>0.027834</td>\n",
              "      <td>0.013644</td>\n",
              "      <td>-0.009418</td>\n",
              "      <td>0.005017</td>\n",
              "      <td>0.010008</td>\n",
              "      <td>-0.020470</td>\n",
              "      <td>-0.021872</td>\n",
              "      <td>...</td>\n",
              "      <td>-0.001374</td>\n",
              "      <td>0.000177</td>\n",
              "      <td>-0.001641</td>\n",
              "      <td>-0.001637</td>\n",
              "      <td>0.001805</td>\n",
              "      <td>0.000399</td>\n",
              "      <td>0.000210</td>\n",
              "      <td>-0.000580</td>\n",
              "      <td>0.000104</td>\n",
              "      <td>2.984115e-07</td>\n",
              "    </tr>\n",
              "    <tr>\n",
              "      <th>3</th>\n",
              "      <td>-2.451901</td>\n",
              "      <td>-0.032549</td>\n",
              "      <td>-0.037256</td>\n",
              "      <td>0.032274</td>\n",
              "      <td>0.012718</td>\n",
              "      <td>-0.005823</td>\n",
              "      <td>0.006066</td>\n",
              "      <td>0.014105</td>\n",
              "      <td>-0.020282</td>\n",
              "      <td>-0.017099</td>\n",
              "      <td>...</td>\n",
              "      <td>0.000569</td>\n",
              "      <td>-0.001370</td>\n",
              "      <td>0.001765</td>\n",
              "      <td>0.002424</td>\n",
              "      <td>-0.001837</td>\n",
              "      <td>0.000066</td>\n",
              "      <td>-0.000087</td>\n",
              "      <td>-0.000601</td>\n",
              "      <td>0.000091</td>\n",
              "      <td>-7.680779e-08</td>\n",
              "    </tr>\n",
              "    <tr>\n",
              "      <th>4</th>\n",
              "      <td>-2.448431</td>\n",
              "      <td>-0.031595</td>\n",
              "      <td>-0.034312</td>\n",
              "      <td>0.037159</td>\n",
              "      <td>0.011015</td>\n",
              "      <td>-0.002793</td>\n",
              "      <td>0.007319</td>\n",
              "      <td>0.015252</td>\n",
              "      <td>-0.022496</td>\n",
              "      <td>-0.009825</td>\n",
              "      <td>...</td>\n",
              "      <td>0.001067</td>\n",
              "      <td>0.001000</td>\n",
              "      <td>-0.002265</td>\n",
              "      <td>-0.001951</td>\n",
              "      <td>0.000303</td>\n",
              "      <td>0.000286</td>\n",
              "      <td>-0.000438</td>\n",
              "      <td>-0.000530</td>\n",
              "      <td>0.000104</td>\n",
              "      <td>6.952182e-07</td>\n",
              "    </tr>\n",
              "  </tbody>\n",
              "</table>\n",
              "<p>5 rows × 40 columns</p>\n",
              "</div>\n",
              "      <button class=\"colab-df-convert\" onclick=\"convertToInteractive('df-c501fc4f-fff5-4ea0-91f6-19b3c1d6ccb0')\"\n",
              "              title=\"Convert this dataframe to an interactive table.\"\n",
              "              style=\"display:none;\">\n",
              "        \n",
              "  <svg xmlns=\"http://www.w3.org/2000/svg\" height=\"24px\"viewBox=\"0 0 24 24\"\n",
              "       width=\"24px\">\n",
              "    <path d=\"M0 0h24v24H0V0z\" fill=\"none\"/>\n",
              "    <path d=\"M18.56 5.44l.94 2.06.94-2.06 2.06-.94-2.06-.94-.94-2.06-.94 2.06-2.06.94zm-11 1L8.5 8.5l.94-2.06 2.06-.94-2.06-.94L8.5 2.5l-.94 2.06-2.06.94zm10 10l.94 2.06.94-2.06 2.06-.94-2.06-.94-.94-2.06-.94 2.06-2.06.94z\"/><path d=\"M17.41 7.96l-1.37-1.37c-.4-.4-.92-.59-1.43-.59-.52 0-1.04.2-1.43.59L10.3 9.45l-7.72 7.72c-.78.78-.78 2.05 0 2.83L4 21.41c.39.39.9.59 1.41.59.51 0 1.02-.2 1.41-.59l7.78-7.78 2.81-2.81c.8-.78.8-2.07 0-2.86zM5.41 20L4 18.59l7.72-7.72 1.47 1.35L5.41 20z\"/>\n",
              "  </svg>\n",
              "      </button>\n",
              "      \n",
              "  <style>\n",
              "    .colab-df-container {\n",
              "      display:flex;\n",
              "      flex-wrap:wrap;\n",
              "      gap: 12px;\n",
              "    }\n",
              "\n",
              "    .colab-df-convert {\n",
              "      background-color: #E8F0FE;\n",
              "      border: none;\n",
              "      border-radius: 50%;\n",
              "      cursor: pointer;\n",
              "      display: none;\n",
              "      fill: #1967D2;\n",
              "      height: 32px;\n",
              "      padding: 0 0 0 0;\n",
              "      width: 32px;\n",
              "    }\n",
              "\n",
              "    .colab-df-convert:hover {\n",
              "      background-color: #E2EBFA;\n",
              "      box-shadow: 0px 1px 2px rgba(60, 64, 67, 0.3), 0px 1px 3px 1px rgba(60, 64, 67, 0.15);\n",
              "      fill: #174EA6;\n",
              "    }\n",
              "\n",
              "    [theme=dark] .colab-df-convert {\n",
              "      background-color: #3B4455;\n",
              "      fill: #D2E3FC;\n",
              "    }\n",
              "\n",
              "    [theme=dark] .colab-df-convert:hover {\n",
              "      background-color: #434B5C;\n",
              "      box-shadow: 0px 1px 3px 1px rgba(0, 0, 0, 0.15);\n",
              "      filter: drop-shadow(0px 1px 2px rgba(0, 0, 0, 0.3));\n",
              "      fill: #FFFFFF;\n",
              "    }\n",
              "  </style>\n",
              "\n",
              "      <script>\n",
              "        const buttonEl =\n",
              "          document.querySelector('#df-c501fc4f-fff5-4ea0-91f6-19b3c1d6ccb0 button.colab-df-convert');\n",
              "        buttonEl.style.display =\n",
              "          google.colab.kernel.accessAllowed ? 'block' : 'none';\n",
              "\n",
              "        async function convertToInteractive(key) {\n",
              "          const element = document.querySelector('#df-c501fc4f-fff5-4ea0-91f6-19b3c1d6ccb0');\n",
              "          const dataTable =\n",
              "            await google.colab.kernel.invokeFunction('convertToInteractive',\n",
              "                                                     [key], {});\n",
              "          if (!dataTable) return;\n",
              "\n",
              "          const docLinkHtml = 'Like what you see? Visit the ' +\n",
              "            '<a target=\"_blank\" href=https://colab.research.google.com/notebooks/data_table.ipynb>data table notebook</a>'\n",
              "            + ' to learn more about interactive tables.';\n",
              "          element.innerHTML = '';\n",
              "          dataTable['output_type'] = 'display_data';\n",
              "          await google.colab.output.renderOutput(dataTable, element);\n",
              "          const docLink = document.createElement('div');\n",
              "          docLink.innerHTML = docLinkHtml;\n",
              "          element.appendChild(docLink);\n",
              "        }\n",
              "      </script>\n",
              "    </div>\n",
              "  </div>\n",
              "  "
            ]
          },
          "metadata": {},
          "execution_count": 26
        },
        {
          "output_type": "stream",
          "name": "stdout",
          "text": [
            "(4437, 40) (1110, 40) (4437,) (1110,)\n"
          ]
        }
      ],
      "source": [
        "from sklearn.decomposition import PCA\n",
        "pca=PCA(40).fit(feature_transform)\n",
        "str(pca.explained_variance_ratio_.sum())\n",
        "pca_df=pd.DataFrame(pca.components_,columns=feature_transform.columns)\n",
        "#transformed features,instead of having 8,we have 5 now.this can now be plugged into any further modelling work\n",
        "x_scaled_transf=pca.fit_transform(feature_transform)\n",
        "x_scaled_transf=pd.DataFrame(x_scaled_transf,columns=('P1','P2','P3','P4','P5','P6','P7','P8','P9','P10','P11','P12','P13','P14','P15','P16','P17','P18','P19','P20','P21','P22','P23','P24','P25','P26','P27','P28','P29','P30','P31','P32','P33','P34','P35','P36','P37','P38','P39','P40'))\n",
        "x_scaled_transf.head()\n",
        "y=df['output_var']\n",
        "# separate into train and test sets\n",
        "train_x,test_x,train_y,test_y=train_test_split(x_scaled_transf,y,test_size=0.20,random_state=1)\n",
        "print(train_x.shape, test_x.shape, train_y.shape, test_y.shape)\n"
      ]
    },
    {
      "cell_type": "code",
      "execution_count": 27,
      "metadata": {
        "id": "V0EG4-WCDXYW"
      },
      "outputs": [],
      "source": [
        "#BUILD A LOGISTIC REGRESSION MODEL\n",
        "from sklearn.linear_model import LogisticRegression\n",
        "log = lm.LogisticRegression(penalty='l1',fit_intercept=True,max_iter=500,solver='saga',tol=1e-5,multi_class='ovr',class_weight=None)\n"
      ]
    },
    {
      "cell_type": "code",
      "execution_count": 28,
      "metadata": {
        "colab": {
          "base_uri": "https://localhost:8080/",
          "height": 147
        },
        "id": "G10updCQDjLv",
        "outputId": "b3ed4041-2919-4b6c-84d0-7c1c55058cca"
      },
      "outputs": [
        {
          "output_type": "stream",
          "name": "stderr",
          "text": [
            "/usr/local/lib/python3.9/dist-packages/sklearn/linear_model/_sag.py:350: ConvergenceWarning: The max_iter was reached which means the coef_ did not converge\n",
            "  warnings.warn(\n"
          ]
        },
        {
          "output_type": "execute_result",
          "data": {
            "text/plain": [
              "LogisticRegression(max_iter=500, multi_class='ovr', penalty='l1', solver='saga',\n",
              "                   tol=1e-05)"
            ],
            "text/html": [
              "<style>#sk-container-id-1 {color: black;background-color: white;}#sk-container-id-1 pre{padding: 0;}#sk-container-id-1 div.sk-toggleable {background-color: white;}#sk-container-id-1 label.sk-toggleable__label {cursor: pointer;display: block;width: 100%;margin-bottom: 0;padding: 0.3em;box-sizing: border-box;text-align: center;}#sk-container-id-1 label.sk-toggleable__label-arrow:before {content: \"▸\";float: left;margin-right: 0.25em;color: #696969;}#sk-container-id-1 label.sk-toggleable__label-arrow:hover:before {color: black;}#sk-container-id-1 div.sk-estimator:hover label.sk-toggleable__label-arrow:before {color: black;}#sk-container-id-1 div.sk-toggleable__content {max-height: 0;max-width: 0;overflow: hidden;text-align: left;background-color: #f0f8ff;}#sk-container-id-1 div.sk-toggleable__content pre {margin: 0.2em;color: black;border-radius: 0.25em;background-color: #f0f8ff;}#sk-container-id-1 input.sk-toggleable__control:checked~div.sk-toggleable__content {max-height: 200px;max-width: 100%;overflow: auto;}#sk-container-id-1 input.sk-toggleable__control:checked~label.sk-toggleable__label-arrow:before {content: \"▾\";}#sk-container-id-1 div.sk-estimator input.sk-toggleable__control:checked~label.sk-toggleable__label {background-color: #d4ebff;}#sk-container-id-1 div.sk-label input.sk-toggleable__control:checked~label.sk-toggleable__label {background-color: #d4ebff;}#sk-container-id-1 input.sk-hidden--visually {border: 0;clip: rect(1px 1px 1px 1px);clip: rect(1px, 1px, 1px, 1px);height: 1px;margin: -1px;overflow: hidden;padding: 0;position: absolute;width: 1px;}#sk-container-id-1 div.sk-estimator {font-family: monospace;background-color: #f0f8ff;border: 1px dotted black;border-radius: 0.25em;box-sizing: border-box;margin-bottom: 0.5em;}#sk-container-id-1 div.sk-estimator:hover {background-color: #d4ebff;}#sk-container-id-1 div.sk-parallel-item::after {content: \"\";width: 100%;border-bottom: 1px solid gray;flex-grow: 1;}#sk-container-id-1 div.sk-label:hover label.sk-toggleable__label {background-color: #d4ebff;}#sk-container-id-1 div.sk-serial::before {content: \"\";position: absolute;border-left: 1px solid gray;box-sizing: border-box;top: 0;bottom: 0;left: 50%;z-index: 0;}#sk-container-id-1 div.sk-serial {display: flex;flex-direction: column;align-items: center;background-color: white;padding-right: 0.2em;padding-left: 0.2em;position: relative;}#sk-container-id-1 div.sk-item {position: relative;z-index: 1;}#sk-container-id-1 div.sk-parallel {display: flex;align-items: stretch;justify-content: center;background-color: white;position: relative;}#sk-container-id-1 div.sk-item::before, #sk-container-id-1 div.sk-parallel-item::before {content: \"\";position: absolute;border-left: 1px solid gray;box-sizing: border-box;top: 0;bottom: 0;left: 50%;z-index: -1;}#sk-container-id-1 div.sk-parallel-item {display: flex;flex-direction: column;z-index: 1;position: relative;background-color: white;}#sk-container-id-1 div.sk-parallel-item:first-child::after {align-self: flex-end;width: 50%;}#sk-container-id-1 div.sk-parallel-item:last-child::after {align-self: flex-start;width: 50%;}#sk-container-id-1 div.sk-parallel-item:only-child::after {width: 0;}#sk-container-id-1 div.sk-dashed-wrapped {border: 1px dashed gray;margin: 0 0.4em 0.5em 0.4em;box-sizing: border-box;padding-bottom: 0.4em;background-color: white;}#sk-container-id-1 div.sk-label label {font-family: monospace;font-weight: bold;display: inline-block;line-height: 1.2em;}#sk-container-id-1 div.sk-label-container {text-align: center;}#sk-container-id-1 div.sk-container {/* jupyter's `normalize.less` sets `[hidden] { display: none; }` but bootstrap.min.css set `[hidden] { display: none !important; }` so we also need the `!important` here to be able to override the default hidden behavior on the sphinx rendered scikit-learn.org. See: https://github.com/scikit-learn/scikit-learn/issues/21755 */display: inline-block !important;position: relative;}#sk-container-id-1 div.sk-text-repr-fallback {display: none;}</style><div id=\"sk-container-id-1\" class=\"sk-top-container\"><div class=\"sk-text-repr-fallback\"><pre>LogisticRegression(max_iter=500, multi_class=&#x27;ovr&#x27;, penalty=&#x27;l1&#x27;, solver=&#x27;saga&#x27;,\n",
              "                   tol=1e-05)</pre><b>In a Jupyter environment, please rerun this cell to show the HTML representation or trust the notebook. <br />On GitHub, the HTML representation is unable to render, please try loading this page with nbviewer.org.</b></div><div class=\"sk-container\" hidden><div class=\"sk-item\"><div class=\"sk-estimator sk-toggleable\"><input class=\"sk-toggleable__control sk-hidden--visually\" id=\"sk-estimator-id-1\" type=\"checkbox\" checked><label for=\"sk-estimator-id-1\" class=\"sk-toggleable__label sk-toggleable__label-arrow\">LogisticRegression</label><div class=\"sk-toggleable__content\"><pre>LogisticRegression(max_iter=500, multi_class=&#x27;ovr&#x27;, penalty=&#x27;l1&#x27;, solver=&#x27;saga&#x27;,\n",
              "                   tol=1e-05)</pre></div></div></div></div></div>"
            ]
          },
          "metadata": {},
          "execution_count": 28
        }
      ],
      "source": [
        "log.fit(train_x,train_y)"
      ]
    },
    {
      "cell_type": "code",
      "execution_count": 29,
      "metadata": {
        "colab": {
          "base_uri": "https://localhost:8080/"
        },
        "id": "aWbn2O4uDnVj",
        "outputId": "b4ba985d-d353-443c-c0c8-07e8b583d876"
      },
      "outputs": [
        {
          "output_type": "stream",
          "name": "stdout",
          "text": [
            "1110\n"
          ]
        }
      ],
      "source": [
        "#GENERATE MODEL DIAGNOSTICS\n",
        "classes=log.predict(test_x)\n",
        "print(classes.size)"
      ]
    },
    {
      "cell_type": "markdown",
      "metadata": {
        "id": "L0hsw_cfJFwm"
      },
      "source": [
        "#LOGISTIC REGRESSION MODEL"
      ]
    },
    {
      "cell_type": "code",
      "execution_count": 30,
      "metadata": {
        "colab": {
          "base_uri": "https://localhost:8080/"
        },
        "id": "zV8JvNFHDqGp",
        "outputId": "05b3d788-4e65-4a87-e5d6-7beae97896af"
      },
      "outputs": [
        {
          "output_type": "stream",
          "name": "stdout",
          "text": [
            "ACCUIRACY SCORE\n",
            "0.7720720720720721\n"
          ]
        }
      ],
      "source": [
        "#PRECISION AND RECALL\n",
        "print(\"ACCUIRACY SCORE\")\n",
        "print(metrics.accuracy_score(test_y,classes))"
      ]
    },
    {
      "cell_type": "code",
      "execution_count": 31,
      "metadata": {
        "colab": {
          "base_uri": "https://localhost:8080/"
        },
        "id": "DAw0ad-KDsmI",
        "outputId": "4d158348-2e1f-4e8a-c51b-135318f7d6a5"
      },
      "outputs": [
        {
          "output_type": "stream",
          "name": "stdout",
          "text": [
            "precision/recall Metrics\n",
            "              precision    recall  f1-score   support\n",
            "\n",
            "           0       0.73      0.98      0.84       658\n",
            "           1       0.93      0.47      0.63       452\n",
            "\n",
            "    accuracy                           0.77      1110\n",
            "   macro avg       0.83      0.73      0.73      1110\n",
            "weighted avg       0.81      0.77      0.75      1110\n",
            "\n"
          ]
        }
      ],
      "source": [
        "#PRECISION RECALL MATRIX\n",
        "print(\"precision/recall Metrics\")\n",
        "print(metrics.classification_report(test_y,classes))"
      ]
    },
    {
      "cell_type": "code",
      "execution_count": 33,
      "metadata": {
        "colab": {
          "base_uri": "https://localhost:8080/",
          "height": 300
        },
        "id": "nyOFpw3HDxln",
        "outputId": "aa2f1762-dbf8-4a90-8250-603471016378"
      },
      "outputs": [
        {
          "output_type": "stream",
          "name": "stdout",
          "text": [
            "CONFUSION MATRIX\n"
          ]
        },
        {
          "output_type": "execute_result",
          "data": {
            "text/plain": [
              "<AxesSubplot:>"
            ]
          },
          "metadata": {},
          "execution_count": 33
        },
        {
          "output_type": "display_data",
          "data": {
            "text/plain": [
              "<Figure size 432x288 with 2 Axes>"
            ],
            "image/png": "[encoded data removed]"
          },
          "metadata": {
            "needs_background": "light"
          }
        }
      ],
      "source": [
        "#CONFUSION MATRIX\n",
        "print(\"CONFUSION MATRIX\")\n",
        "cf=metrics.confusion_matrix(test_y,classes)\n",
        "lbl1=[\"Predicted 0\",\"Predicted 1\"]\n",
        "lbl2=[\"True 0\",\"True 1\"]\n",
        "sns.heatmap(cf,annot=True,cmap=\"Greens\",fmt=\"d\",xticklabels=lbl1,yticklabels=lbl2)\n",
        "plt.show()"
      ]
    },
    {
      "cell_type": "code",
      "source": [
        "#AUC\n",
        "print(\"AUC\")\n",
        "auc=metrics.roc_auc_score(test_y,classes)\n",
        "auc"
      ],
      "metadata": {
        "colab": {
          "base_uri": "https://localhost:8080/"
        },
        "id": "0CkJTrAcuR9T",
        "outputId": "57568017-40a7-49ba-d182-d197d89cce33"
      },
      "execution_count": 34,
      "outputs": [
        {
          "output_type": "stream",
          "name": "stdout",
          "text": [
            "AUC\n"
          ]
        },
        {
          "output_type": "execute_result",
          "data": {
            "text/plain": [
              "0.7253274874250208"
            ]
          },
          "metadata": {},
          "execution_count": 34
        }
      ]
    },
    {
      "cell_type": "code",
      "source": [
        "#ROC CHART\n",
        "fpr,tpr,th=roc_curve(test_y,classes)\n",
        "roc_auc=metrics.auc(fpr,tpr)\n",
        "import matplotlib.pyplot as plt\n",
        "plt.title(\"ROCR CHART\")\n",
        "plt.plot(fpr,tpr,'b',label=\"AUC=%0.2F\"%roc_auc)\n",
        "plt.legend(loc=\"lower right\")\n",
        "plt.plot([0,1],[0,1],\"o--\")\n",
        "plt.xlim([0,1])\n",
        "plt.ylim([0,1])\n",
        "plt.ylabel(\"TRUE POSITIVE RATE\")\n",
        "plt.xlabel(\"FALSE POSITIVE RATE\")\n",
        "plt.show();"
      ],
      "metadata": {
        "colab": {
          "base_uri": "https://localhost:8080/",
          "height": 295
        },
        "id": "GHvYO3IbuzxY",
        "outputId": "acd402b2-e68b-4f79-e4c9-07bfefc40e0f"
      },
      "execution_count": 35,
      "outputs": [
        {
          "output_type": "display_data",
          "data": {
            "text/plain": [
              "<Figure size 432x288 with 1 Axes>"
            ],
            "image/png": "[encoded data removed]"
          },
          "metadata": {
            "needs_background": "light"
          }
        }
      ]
    },
    {
      "cell_type": "code",
      "execution_count": 36,
      "metadata": {
        "colab": {
          "base_uri": "https://localhost:8080/",
          "height": 92
        },
        "id": "vaF4oyC17g0t",
        "outputId": "e7107350-15ad-4214-cd24-d84879dcae22"
      },
      "outputs": [
        {
          "output_type": "execute_result",
          "data": {
            "text/plain": [
              "DecisionTreeClassifier(max_depth=2, max_features=5, min_samples_leaf=5,\n",
              "                       random_state=0)"
            ],
            "text/html": [
              "<style>#sk-container-id-2 {color: black;background-color: white;}#sk-container-id-2 pre{padding: 0;}#sk-container-id-2 div.sk-toggleable {background-color: white;}#sk-container-id-2 label.sk-toggleable__label {cursor: pointer;display: block;width: 100%;margin-bottom: 0;padding: 0.3em;box-sizing: border-box;text-align: center;}#sk-container-id-2 label.sk-toggleable__label-arrow:before {content: \"▸\";float: left;margin-right: 0.25em;color: #696969;}#sk-container-id-2 label.sk-toggleable__label-arrow:hover:before {color: black;}#sk-container-id-2 div.sk-estimator:hover label.sk-toggleable__label-arrow:before {color: black;}#sk-container-id-2 div.sk-toggleable__content {max-height: 0;max-width: 0;overflow: hidden;text-align: left;background-color: #f0f8ff;}#sk-container-id-2 div.sk-toggleable__content pre {margin: 0.2em;color: black;border-radius: 0.25em;background-color: #f0f8ff;}#sk-container-id-2 input.sk-toggleable__control:checked~div.sk-toggleable__content {max-height: 200px;max-width: 100%;overflow: auto;}#sk-container-id-2 input.sk-toggleable__control:checked~label.sk-toggleable__label-arrow:before {content: \"▾\";}#sk-container-id-2 div.sk-estimator input.sk-toggleable__control:checked~label.sk-toggleable__label {background-color: #d4ebff;}#sk-container-id-2 div.sk-label input.sk-toggleable__control:checked~label.sk-toggleable__label {background-color: #d4ebff;}#sk-container-id-2 input.sk-hidden--visually {border: 0;clip: rect(1px 1px 1px 1px);clip: rect(1px, 1px, 1px, 1px);height: 1px;margin: -1px;overflow: hidden;padding: 0;position: absolute;width: 1px;}#sk-container-id-2 div.sk-estimator {font-family: monospace;background-color: #f0f8ff;border: 1px dotted black;border-radius: 0.25em;box-sizing: border-box;margin-bottom: 0.5em;}#sk-container-id-2 div.sk-estimator:hover {background-color: #d4ebff;}#sk-container-id-2 div.sk-parallel-item::after {content: \"\";width: 100%;border-bottom: 1px solid gray;flex-grow: 1;}#sk-container-id-2 div.sk-label:hover label.sk-toggleable__label {background-color: #d4ebff;}#sk-container-id-2 div.sk-serial::before {content: \"\";position: absolute;border-left: 1px solid gray;box-sizing: border-box;top: 0;bottom: 0;left: 50%;z-index: 0;}#sk-container-id-2 div.sk-serial {display: flex;flex-direction: column;align-items: center;background-color: white;padding-right: 0.2em;padding-left: 0.2em;position: relative;}#sk-container-id-2 div.sk-item {position: relative;z-index: 1;}#sk-container-id-2 div.sk-parallel {display: flex;align-items: stretch;justify-content: center;background-color: white;position: relative;}#sk-container-id-2 div.sk-item::before, #sk-container-id-2 div.sk-parallel-item::before {content: \"\";position: absolute;border-left: 1px solid gray;box-sizing: border-box;top: 0;bottom: 0;left: 50%;z-index: -1;}#sk-container-id-2 div.sk-parallel-item {display: flex;flex-direction: column;z-index: 1;position: relative;background-color: white;}#sk-container-id-2 div.sk-parallel-item:first-child::after {align-self: flex-end;width: 50%;}#sk-container-id-2 div.sk-parallel-item:last-child::after {align-self: flex-start;width: 50%;}#sk-container-id-2 div.sk-parallel-item:only-child::after {width: 0;}#sk-container-id-2 div.sk-dashed-wrapped {border: 1px dashed gray;margin: 0 0.4em 0.5em 0.4em;box-sizing: border-box;padding-bottom: 0.4em;background-color: white;}#sk-container-id-2 div.sk-label label {font-family: monospace;font-weight: bold;display: inline-block;line-height: 1.2em;}#sk-container-id-2 div.sk-label-container {text-align: center;}#sk-container-id-2 div.sk-container {/* jupyter's `normalize.less` sets `[hidden] { display: none; }` but bootstrap.min.css set `[hidden] { display: none !important; }` so we also need the `!important` here to be able to override the default hidden behavior on the sphinx rendered scikit-learn.org. See: https://github.com/scikit-learn/scikit-learn/issues/21755 */display: inline-block !important;position: relative;}#sk-container-id-2 div.sk-text-repr-fallback {display: none;}</style><div id=\"sk-container-id-2\" class=\"sk-top-container\"><div class=\"sk-text-repr-fallback\"><pre>DecisionTreeClassifier(max_depth=2, max_features=5, min_samples_leaf=5,\n",
              "                       random_state=0)</pre><b>In a Jupyter environment, please rerun this cell to show the HTML representation or trust the notebook. <br />On GitHub, the HTML representation is unable to render, please try loading this page with nbviewer.org.</b></div><div class=\"sk-container\" hidden><div class=\"sk-item\"><div class=\"sk-estimator sk-toggleable\"><input class=\"sk-toggleable__control sk-hidden--visually\" id=\"sk-estimator-id-2\" type=\"checkbox\" checked><label for=\"sk-estimator-id-2\" class=\"sk-toggleable__label sk-toggleable__label-arrow\">DecisionTreeClassifier</label><div class=\"sk-toggleable__content\"><pre>DecisionTreeClassifier(max_depth=2, max_features=5, min_samples_leaf=5,\n",
              "                       random_state=0)</pre></div></div></div></div></div>"
            ]
          },
          "metadata": {},
          "execution_count": 36
        }
      ],
      "source": [
        "from sklearn.tree import DecisionTreeClassifier\n",
        "from sklearn import tree\n",
        "import pydotplus\n",
        "\n",
        "#CREATE DECISION TREE CLASSIFIER OBJECT\n",
        "decisiontree1=DecisionTreeClassifier(criterion=\"gini\",random_state=0,max_depth=2,min_samples_leaf=5,max_features=5)\n",
        "#TRAIN MODEL\n",
        "model=decisiontree1.fit(train_x,train_y)\n",
        "model\n",
        "classes=decisiontree1.predict(test_x)"
      ]
    },
    {
      "cell_type": "markdown",
      "metadata": {
        "id": "0TcHsEufJMsW"
      },
      "source": [
        "#DECISION TREE CLASSIFIER"
      ]
    },
    {
      "cell_type": "code",
      "execution_count": 37,
      "metadata": {
        "colab": {
          "base_uri": "https://localhost:8080/"
        },
        "id": "P6tM2O1uP9xb",
        "outputId": "71c38848-6fcd-4d3a-e78a-3a914b55863a"
      },
      "outputs": [
        {
          "output_type": "stream",
          "name": "stdout",
          "text": [
            "ACCUIRACY SCORE\n",
            "0.6486486486486487\n"
          ]
        }
      ],
      "source": [
        "#PRECISION AND RECALL\n",
        "print(\"ACCUIRACY SCORE\")\n",
        "print(metrics.accuracy_score(test_y,classes))"
      ]
    },
    {
      "cell_type": "code",
      "execution_count": 38,
      "metadata": {
        "colab": {
          "base_uri": "https://localhost:8080/"
        },
        "id": "KE4llBX-QBVt",
        "outputId": "024f34d9-151b-432e-85db-ab97ae84a621"
      },
      "outputs": [
        {
          "output_type": "stream",
          "name": "stdout",
          "text": [
            "precision/recall Metrics\n",
            "              precision    recall  f1-score   support\n",
            "\n",
            "           0       0.65      0.87      0.75       658\n",
            "           1       0.64      0.32      0.43       452\n",
            "\n",
            "    accuracy                           0.65      1110\n",
            "   macro avg       0.64      0.60      0.59      1110\n",
            "weighted avg       0.65      0.65      0.62      1110\n",
            "\n"
          ]
        }
      ],
      "source": [
        "#PRECISION RECALL MATRIX\n",
        "print(\"precision/recall Metrics\")\n",
        "print(metrics.classification_report(test_y,classes))"
      ]
    },
    {
      "cell_type": "code",
      "execution_count": 40,
      "metadata": {
        "colab": {
          "base_uri": "https://localhost:8080/",
          "height": 300
        },
        "id": "2oWYGuYFQeyH",
        "outputId": "10549f90-2683-4312-be5f-fbcd66793f2c"
      },
      "outputs": [
        {
          "output_type": "stream",
          "name": "stdout",
          "text": [
            "CONFUSION MATRIX\n"
          ]
        },
        {
          "output_type": "execute_result",
          "data": {
            "text/plain": [
              "<AxesSubplot:>"
            ]
          },
          "metadata": {},
          "execution_count": 40
        },
        {
          "output_type": "display_data",
          "data": {
            "text/plain": [
              "<Figure size 432x288 with 2 Axes>"
            ],
            "image/png": "[encoded data removed]"
          },
          "metadata": {
            "needs_background": "light"
          }
        }
      ],
      "source": [
        "#CONFUSION MATRIX\n",
        "print(\"CONFUSION MATRIX\")\n",
        "cf=metrics.confusion_matrix(test_y,classes)\n",
        "lbl1=[\"Predicted 0\",\"Predicted 1\"]\n",
        "lbl2=[\"True 0\",\"True 1\"]\n",
        "sns.heatmap(cf,annot=True,cmap=\"Greens\",fmt=\"d\",xticklabels=lbl1,yticklabels=lbl2)\n",
        "plt.show()"
      ]
    },
    {
      "cell_type": "code",
      "source": [
        "#AUC\n",
        "print(\"AUC\")\n",
        "auc=metrics.roc_auc_score(test_y,classes)\n",
        "auc"
      ],
      "metadata": {
        "colab": {
          "base_uri": "https://localhost:8080/"
        },
        "outputId": "3a2e2d83-0d1f-449b-863c-28691be3dfba",
        "id": "HP7AMZsKwqcK"
      },
      "execution_count": 41,
      "outputs": [
        {
          "output_type": "stream",
          "name": "stdout",
          "text": [
            "AUC\n"
          ]
        },
        {
          "output_type": "execute_result",
          "data": {
            "text/plain": [
              "0.5973283212739059"
            ]
          },
          "metadata": {},
          "execution_count": 41
        }
      ]
    },
    {
      "cell_type": "code",
      "source": [
        "#ROC CHART\n",
        "fpr,tpr,th=roc_curve(test_y,classes)\n",
        "roc_auc=metrics.auc(fpr,tpr)\n",
        "import matplotlib.pyplot as plt\n",
        "plt.title(\"ROCR CHART\")\n",
        "plt.plot(fpr,tpr,'b',label=\"AUC=%0.2F\"%roc_auc)\n",
        "plt.legend(loc=\"lower right\")\n",
        "plt.plot([0,1],[0,1],\"o--\")\n",
        "plt.xlim([0,1])\n",
        "plt.ylim([0,1])\n",
        "plt.ylabel(\"TRUE POSITIVE RATE\")\n",
        "plt.xlabel(\"FALSE POSITIVE RATE\")\n",
        "plt.show();"
      ],
      "metadata": {
        "colab": {
          "base_uri": "https://localhost:8080/",
          "height": 295
        },
        "outputId": "2f024ec9-d088-4820-8322-04f8c52b5856",
        "id": "BCzPJCYgwqcM"
      },
      "execution_count": 42,
      "outputs": [
        {
          "output_type": "display_data",
          "data": {
            "text/plain": [
              "<Figure size 432x288 with 1 Axes>"
            ],
            "image/png": "[encoded data removed]"
          },
          "metadata": {
            "needs_background": "light"
          }
        }
      ]
    },
    {
      "cell_type": "code",
      "execution_count": 43,
      "metadata": {
        "id": "sga6HxEw9a4N"
      },
      "outputs": [],
      "source": [
        "from scipy.stats import randint\n",
        "from sklearn.tree import DecisionTreeClassifier\n",
        "from sklearn.model_selection import RandomizedSearchCV\n",
        "from sklearn.ensemble import RandomForestClassifier\n",
        "from sklearn import tree\n",
        "from sklearn.model_selection import GridSearchCV"
      ]
    },
    {
      "cell_type": "code",
      "execution_count": 44,
      "metadata": {
        "id": "bTCns2_c9LmE"
      },
      "outputs": [],
      "source": [
        "param_dist = {\"max_depth\": [20,50,100,150,200,250],\n",
        "              \"max_features\": randint(3,15),\n",
        "              \"min_samples_leaf\": randint(3,6),\n",
        "              \"criterion\": [\"gini\",\"entropy\"]}"
      ]
    },
    {
      "cell_type": "code",
      "execution_count": 45,
      "metadata": {
        "id": "fCbR5pix9iBN"
      },
      "outputs": [],
      "source": [
        "# Instantiate the RandomizedSearchCV object: tree_cv\n",
        "tree_cv = RandomizedSearchCV(decisiontree1, param_dist, cv=5)"
      ]
    },
    {
      "cell_type": "code",
      "execution_count": 46,
      "metadata": {
        "colab": {
          "base_uri": "https://localhost:8080/",
          "height": 152
        },
        "id": "T4Q4Z0jp9r7w",
        "outputId": "f3f9c860-0e05-4fc9-abe6-4ad861d48b53"
      },
      "outputs": [
        {
          "output_type": "execute_result",
          "data": {
            "text/plain": [
              "RandomizedSearchCV(cv=5,\n",
              "                   estimator=DecisionTreeClassifier(max_depth=2, max_features=5,\n",
              "                                                    min_samples_leaf=5,\n",
              "                                                    random_state=0),\n",
              "                   param_distributions={'criterion': ['gini', 'entropy'],\n",
              "                                        'max_depth': [20, 50, 100, 150, 200,\n",
              "                                                      250],\n",
              "                                        'max_features': <scipy.stats._distn_infrastructure.rv_discrete_frozen object at 0x7f569ac77640>,\n",
              "                                        'min_samples_leaf': <scipy.stats._distn_infrastructure.rv_discrete_frozen object at 0x7f569ab4d0d0>})"
            ],
            "text/html": [
              "<style>#sk-container-id-3 {color: black;background-color: white;}#sk-container-id-3 pre{padding: 0;}#sk-container-id-3 div.sk-toggleable {background-color: white;}#sk-container-id-3 label.sk-toggleable__label {cursor: pointer;display: block;width: 100%;margin-bottom: 0;padding: 0.3em;box-sizing: border-box;text-align: center;}#sk-container-id-3 label.sk-toggleable__label-arrow:before {content: \"▸\";float: left;margin-right: 0.25em;color: #696969;}#sk-container-id-3 label.sk-toggleable__label-arrow:hover:before {color: black;}#sk-container-id-3 div.sk-estimator:hover label.sk-toggleable__label-arrow:before {color: black;}#sk-container-id-3 div.sk-toggleable__content {max-height: 0;max-width: 0;overflow: hidden;text-align: left;background-color: #f0f8ff;}#sk-container-id-3 div.sk-toggleable__content pre {margin: 0.2em;color: black;border-radius: 0.25em;background-color: #f0f8ff;}#sk-container-id-3 input.sk-toggleable__control:checked~div.sk-toggleable__content {max-height: 200px;max-width: 100%;overflow: auto;}#sk-container-id-3 input.sk-toggleable__control:checked~label.sk-toggleable__label-arrow:before {content: \"▾\";}#sk-container-id-3 div.sk-estimator input.sk-toggleable__control:checked~label.sk-toggleable__label {background-color: #d4ebff;}#sk-container-id-3 div.sk-label input.sk-toggleable__control:checked~label.sk-toggleable__label {background-color: #d4ebff;}#sk-container-id-3 input.sk-hidden--visually {border: 0;clip: rect(1px 1px 1px 1px);clip: rect(1px, 1px, 1px, 1px);height: 1px;margin: -1px;overflow: hidden;padding: 0;position: absolute;width: 1px;}#sk-container-id-3 div.sk-estimator {font-family: monospace;background-color: #f0f8ff;border: 1px dotted black;border-radius: 0.25em;box-sizing: border-box;margin-bottom: 0.5em;}#sk-container-id-3 div.sk-estimator:hover {background-color: #d4ebff;}#sk-container-id-3 div.sk-parallel-item::after {content: \"\";width: 100%;border-bottom: 1px solid gray;flex-grow: 1;}#sk-container-id-3 div.sk-label:hover label.sk-toggleable__label {background-color: #d4ebff;}#sk-container-id-3 div.sk-serial::before {content: \"\";position: absolute;border-left: 1px solid gray;box-sizing: border-box;top: 0;bottom: 0;left: 50%;z-index: 0;}#sk-container-id-3 div.sk-serial {display: flex;flex-direction: column;align-items: center;background-color: white;padding-right: 0.2em;padding-left: 0.2em;position: relative;}#sk-container-id-3 div.sk-item {position: relative;z-index: 1;}#sk-container-id-3 div.sk-parallel {display: flex;align-items: stretch;justify-content: center;background-color: white;position: relative;}#sk-container-id-3 div.sk-item::before, #sk-container-id-3 div.sk-parallel-item::before {content: \"\";position: absolute;border-left: 1px solid gray;box-sizing: border-box;top: 0;bottom: 0;left: 50%;z-index: -1;}#sk-container-id-3 div.sk-parallel-item {display: flex;flex-direction: column;z-index: 1;position: relative;background-color: white;}#sk-container-id-3 div.sk-parallel-item:first-child::after {align-self: flex-end;width: 50%;}#sk-container-id-3 div.sk-parallel-item:last-child::after {align-self: flex-start;width: 50%;}#sk-container-id-3 div.sk-parallel-item:only-child::after {width: 0;}#sk-container-id-3 div.sk-dashed-wrapped {border: 1px dashed gray;margin: 0 0.4em 0.5em 0.4em;box-sizing: border-box;padding-bottom: 0.4em;background-color: white;}#sk-container-id-3 div.sk-label label {font-family: monospace;font-weight: bold;display: inline-block;line-height: 1.2em;}#sk-container-id-3 div.sk-label-container {text-align: center;}#sk-container-id-3 div.sk-container {/* jupyter's `normalize.less` sets `[hidden] { display: none; }` but bootstrap.min.css set `[hidden] { display: none !important; }` so we also need the `!important` here to be able to override the default hidden behavior on the sphinx rendered scikit-learn.org. See: https://github.com/scikit-learn/scikit-learn/issues/21755 */display: inline-block !important;position: relative;}#sk-container-id-3 div.sk-text-repr-fallback {display: none;}</style><div id=\"sk-container-id-3\" class=\"sk-top-container\"><div class=\"sk-text-repr-fallback\"><pre>RandomizedSearchCV(cv=5,\n",
              "                   estimator=DecisionTreeClassifier(max_depth=2, max_features=5,\n",
              "                                                    min_samples_leaf=5,\n",
              "                                                    random_state=0),\n",
              "                   param_distributions={&#x27;criterion&#x27;: [&#x27;gini&#x27;, &#x27;entropy&#x27;],\n",
              "                                        &#x27;max_depth&#x27;: [20, 50, 100, 150, 200,\n",
              "                                                      250],\n",
              "                                        &#x27;max_features&#x27;: &lt;scipy.stats._distn_infrastructure.rv_discrete_frozen object at 0x7f569ac77640&gt;,\n",
              "                                        &#x27;min_samples_leaf&#x27;: &lt;scipy.stats._distn_infrastructure.rv_discrete_frozen object at 0x7f569ab4d0d0&gt;})</pre><b>In a Jupyter environment, please rerun this cell to show the HTML representation or trust the notebook. <br />On GitHub, the HTML representation is unable to render, please try loading this page with nbviewer.org.</b></div><div class=\"sk-container\" hidden><div class=\"sk-item sk-dashed-wrapped\"><div class=\"sk-label-container\"><div class=\"sk-label sk-toggleable\"><input class=\"sk-toggleable__control sk-hidden--visually\" id=\"sk-estimator-id-3\" type=\"checkbox\" ><label for=\"sk-estimator-id-3\" class=\"sk-toggleable__label sk-toggleable__label-arrow\">RandomizedSearchCV</label><div class=\"sk-toggleable__content\"><pre>RandomizedSearchCV(cv=5,\n",
              "                   estimator=DecisionTreeClassifier(max_depth=2, max_features=5,\n",
              "                                                    min_samples_leaf=5,\n",
              "                                                    random_state=0),\n",
              "                   param_distributions={&#x27;criterion&#x27;: [&#x27;gini&#x27;, &#x27;entropy&#x27;],\n",
              "                                        &#x27;max_depth&#x27;: [20, 50, 100, 150, 200,\n",
              "                                                      250],\n",
              "                                        &#x27;max_features&#x27;: &lt;scipy.stats._distn_infrastructure.rv_discrete_frozen object at 0x7f569ac77640&gt;,\n",
              "                                        &#x27;min_samples_leaf&#x27;: &lt;scipy.stats._distn_infrastructure.rv_discrete_frozen object at 0x7f569ab4d0d0&gt;})</pre></div></div></div><div class=\"sk-parallel\"><div class=\"sk-parallel-item\"><div class=\"sk-item\"><div class=\"sk-label-container\"><div class=\"sk-label sk-toggleable\"><input class=\"sk-toggleable__control sk-hidden--visually\" id=\"sk-estimator-id-4\" type=\"checkbox\" ><label for=\"sk-estimator-id-4\" class=\"sk-toggleable__label sk-toggleable__label-arrow\">estimator: DecisionTreeClassifier</label><div class=\"sk-toggleable__content\"><pre>DecisionTreeClassifier(max_depth=2, max_features=5, min_samples_leaf=5,\n",
              "                       random_state=0)</pre></div></div></div><div class=\"sk-serial\"><div class=\"sk-item\"><div class=\"sk-estimator sk-toggleable\"><input class=\"sk-toggleable__control sk-hidden--visually\" id=\"sk-estimator-id-5\" type=\"checkbox\" ><label for=\"sk-estimator-id-5\" class=\"sk-toggleable__label sk-toggleable__label-arrow\">DecisionTreeClassifier</label><div class=\"sk-toggleable__content\"><pre>DecisionTreeClassifier(max_depth=2, max_features=5, min_samples_leaf=5,\n",
              "                       random_state=0)</pre></div></div></div></div></div></div></div></div></div></div>"
            ]
          },
          "metadata": {},
          "execution_count": 46
        },
        {
          "output_type": "stream",
          "name": "stdout",
          "text": [
            "Tuned Decision Tree Parameters: {'criterion': 'entropy', 'max_depth': 20, 'max_features': 13, 'min_samples_leaf': 4}\n",
            "Best score is 0.6763594767258804\n"
          ]
        }
      ],
      "source": [
        "# Fit it to the data\n",
        "tree_cv.fit(train_x,train_y)\n",
        "# Print the tuned parameters and score\n",
        "print(\"Tuned Decision Tree Parameters: {}\".format(tree_cv.best_params_))\n",
        "print(\"Best score is {}\".format(tree_cv.best_score_))\n",
        "classes=tree_cv.predict(test_x)"
      ]
    },
    {
      "cell_type": "markdown",
      "metadata": {
        "id": "ctUJjm9RJZOP"
      },
      "source": [
        "#RandomizedSearchCV"
      ]
    },
    {
      "cell_type": "code",
      "execution_count": 47,
      "metadata": {
        "colab": {
          "base_uri": "https://localhost:8080/"
        },
        "id": "WN7B0ECQ97dx",
        "outputId": "968cb4e9-df25-4cf6-93d7-d982d7fcb94c"
      },
      "outputs": [
        {
          "output_type": "stream",
          "name": "stdout",
          "text": [
            "ACCUIRACY SCORE\n",
            "0.6882882882882883\n"
          ]
        }
      ],
      "source": [
        "#PRECISION AND RECALL\n",
        "print(\"ACCUIRACY SCORE\")\n",
        "print(metrics.accuracy_score(test_y,classes))"
      ]
    },
    {
      "cell_type": "code",
      "execution_count": 48,
      "metadata": {
        "colab": {
          "base_uri": "https://localhost:8080/"
        },
        "id": "QYLPYOXU97dz",
        "outputId": "c5a97f6d-f0f9-46d4-faed-9b57874108f3"
      },
      "outputs": [
        {
          "output_type": "stream",
          "name": "stdout",
          "text": [
            "precision/recall Metrics\n",
            "              precision    recall  f1-score   support\n",
            "\n",
            "           0       0.73      0.75      0.74       658\n",
            "           1       0.62      0.60      0.61       452\n",
            "\n",
            "    accuracy                           0.69      1110\n",
            "   macro avg       0.68      0.67      0.68      1110\n",
            "weighted avg       0.69      0.69      0.69      1110\n",
            "\n"
          ]
        }
      ],
      "source": [
        "#PRECISION RECALL MATRIX\n",
        "print(\"precision/recall Metrics\")\n",
        "print(metrics.classification_report(test_y,classes))"
      ]
    },
    {
      "cell_type": "code",
      "execution_count": 50,
      "metadata": {
        "colab": {
          "base_uri": "https://localhost:8080/",
          "height": 300
        },
        "id": "OhHmNgSf97d0",
        "outputId": "f13df0b0-5332-4be4-cda1-3aae0f3bc664"
      },
      "outputs": [
        {
          "output_type": "stream",
          "name": "stdout",
          "text": [
            "CONFUSION MATRIX\n"
          ]
        },
        {
          "output_type": "execute_result",
          "data": {
            "text/plain": [
              "<AxesSubplot:>"
            ]
          },
          "metadata": {},
          "execution_count": 50
        },
        {
          "output_type": "display_data",
          "data": {
            "text/plain": [
              "<Figure size 432x288 with 2 Axes>"
            ],
            "image/png": "[encoded data removed]"
          },
          "metadata": {
            "needs_background": "light"
          }
        }
      ],
      "source": [
        "#CONFUSION MATRIX\n",
        "print(\"CONFUSION MATRIX\")\n",
        "cf=metrics.confusion_matrix(test_y,classes)\n",
        "lbl1=[\"Predicted 0\",\"Predicted 1\"]\n",
        "lbl2=[\"True 0\",\"True 1\"]\n",
        "sns.heatmap(cf,annot=True,cmap=\"Greens\",fmt=\"d\",xticklabels=lbl1,yticklabels=lbl2)\n",
        "plt.show()"
      ]
    },
    {
      "cell_type": "code",
      "source": [
        "#AUC\n",
        "print(\"AUC\")\n",
        "auc=metrics.roc_auc_score(test_y,classes)\n",
        "auc"
      ],
      "metadata": {
        "colab": {
          "base_uri": "https://localhost:8080/"
        },
        "outputId": "95c35c7a-bb54-43dc-ca31-1353590c714f",
        "id": "faiGmZ0iwuQv"
      },
      "execution_count": 51,
      "outputs": [
        {
          "output_type": "stream",
          "name": "stdout",
          "text": [
            "AUC\n"
          ]
        },
        {
          "output_type": "execute_result",
          "data": {
            "text/plain": [
              "0.6743988218522204"
            ]
          },
          "metadata": {},
          "execution_count": 51
        }
      ]
    },
    {
      "cell_type": "code",
      "source": [
        "#ROC CHART\n",
        "fpr,tpr,th=roc_curve(test_y,classes)\n",
        "roc_auc=metrics.auc(fpr,tpr)\n",
        "import matplotlib.pyplot as plt\n",
        "plt.title(\"ROCR CHART\")\n",
        "plt.plot(fpr,tpr,'b',label=\"AUC=%0.2F\"%roc_auc)\n",
        "plt.legend(loc=\"lower right\")\n",
        "plt.plot([0,1],[0,1],\"o--\")\n",
        "plt.xlim([0,1])\n",
        "plt.ylim([0,1])\n",
        "plt.ylabel(\"TRUE POSITIVE RATE\")\n",
        "plt.xlabel(\"FALSE POSITIVE RATE\")\n",
        "plt.show();"
      ],
      "metadata": {
        "colab": {
          "base_uri": "https://localhost:8080/",
          "height": 295
        },
        "outputId": "dbb5a1e8-7985-443c-c10e-7b9a86bf0e9a",
        "id": "sYyDN0I4wuQx"
      },
      "execution_count": 52,
      "outputs": [
        {
          "output_type": "display_data",
          "data": {
            "text/plain": [
              "<Figure size 432x288 with 1 Axes>"
            ],
            "image/png": "[encoded data removed]"
          },
          "metadata": {
            "needs_background": "light"
          }
        }
      ]
    },
    {
      "cell_type": "code",
      "execution_count": 53,
      "metadata": {
        "colab": {
          "base_uri": "https://localhost:8080/",
          "height": 118
        },
        "id": "1_hGRTRR_VU-",
        "outputId": "3260168f-3bee-4ac4-f7cb-a9f4b3fc70ea"
      },
      "outputs": [
        {
          "output_type": "execute_result",
          "data": {
            "text/plain": [
              "GridSearchCV(cv=3, estimator=DecisionTreeClassifier(),\n",
              "             param_grid={'criterion': ['gini', 'entropy'],\n",
              "                         'max_depth': [2, 5, 20, 30, 45, 50]})"
            ],
            "text/html": [
              "<style>#sk-container-id-4 {color: black;background-color: white;}#sk-container-id-4 pre{padding: 0;}#sk-container-id-4 div.sk-toggleable {background-color: white;}#sk-container-id-4 label.sk-toggleable__label {cursor: pointer;display: block;width: 100%;margin-bottom: 0;padding: 0.3em;box-sizing: border-box;text-align: center;}#sk-container-id-4 label.sk-toggleable__label-arrow:before {content: \"▸\";float: left;margin-right: 0.25em;color: #696969;}#sk-container-id-4 label.sk-toggleable__label-arrow:hover:before {color: black;}#sk-container-id-4 div.sk-estimator:hover label.sk-toggleable__label-arrow:before {color: black;}#sk-container-id-4 div.sk-toggleable__content {max-height: 0;max-width: 0;overflow: hidden;text-align: left;background-color: #f0f8ff;}#sk-container-id-4 div.sk-toggleable__content pre {margin: 0.2em;color: black;border-radius: 0.25em;background-color: #f0f8ff;}#sk-container-id-4 input.sk-toggleable__control:checked~div.sk-toggleable__content {max-height: 200px;max-width: 100%;overflow: auto;}#sk-container-id-4 input.sk-toggleable__control:checked~label.sk-toggleable__label-arrow:before {content: \"▾\";}#sk-container-id-4 div.sk-estimator input.sk-toggleable__control:checked~label.sk-toggleable__label {background-color: #d4ebff;}#sk-container-id-4 div.sk-label input.sk-toggleable__control:checked~label.sk-toggleable__label {background-color: #d4ebff;}#sk-container-id-4 input.sk-hidden--visually {border: 0;clip: rect(1px 1px 1px 1px);clip: rect(1px, 1px, 1px, 1px);height: 1px;margin: -1px;overflow: hidden;padding: 0;position: absolute;width: 1px;}#sk-container-id-4 div.sk-estimator {font-family: monospace;background-color: #f0f8ff;border: 1px dotted black;border-radius: 0.25em;box-sizing: border-box;margin-bottom: 0.5em;}#sk-container-id-4 div.sk-estimator:hover {background-color: #d4ebff;}#sk-container-id-4 div.sk-parallel-item::after {content: \"\";width: 100%;border-bottom: 1px solid gray;flex-grow: 1;}#sk-container-id-4 div.sk-label:hover label.sk-toggleable__label {background-color: #d4ebff;}#sk-container-id-4 div.sk-serial::before {content: \"\";position: absolute;border-left: 1px solid gray;box-sizing: border-box;top: 0;bottom: 0;left: 50%;z-index: 0;}#sk-container-id-4 div.sk-serial {display: flex;flex-direction: column;align-items: center;background-color: white;padding-right: 0.2em;padding-left: 0.2em;position: relative;}#sk-container-id-4 div.sk-item {position: relative;z-index: 1;}#sk-container-id-4 div.sk-parallel {display: flex;align-items: stretch;justify-content: center;background-color: white;position: relative;}#sk-container-id-4 div.sk-item::before, #sk-container-id-4 div.sk-parallel-item::before {content: \"\";position: absolute;border-left: 1px solid gray;box-sizing: border-box;top: 0;bottom: 0;left: 50%;z-index: -1;}#sk-container-id-4 div.sk-parallel-item {display: flex;flex-direction: column;z-index: 1;position: relative;background-color: white;}#sk-container-id-4 div.sk-parallel-item:first-child::after {align-self: flex-end;width: 50%;}#sk-container-id-4 div.sk-parallel-item:last-child::after {align-self: flex-start;width: 50%;}#sk-container-id-4 div.sk-parallel-item:only-child::after {width: 0;}#sk-container-id-4 div.sk-dashed-wrapped {border: 1px dashed gray;margin: 0 0.4em 0.5em 0.4em;box-sizing: border-box;padding-bottom: 0.4em;background-color: white;}#sk-container-id-4 div.sk-label label {font-family: monospace;font-weight: bold;display: inline-block;line-height: 1.2em;}#sk-container-id-4 div.sk-label-container {text-align: center;}#sk-container-id-4 div.sk-container {/* jupyter's `normalize.less` sets `[hidden] { display: none; }` but bootstrap.min.css set `[hidden] { display: none !important; }` so we also need the `!important` here to be able to override the default hidden behavior on the sphinx rendered scikit-learn.org. See: https://github.com/scikit-learn/scikit-learn/issues/21755 */display: inline-block !important;position: relative;}#sk-container-id-4 div.sk-text-repr-fallback {display: none;}</style><div id=\"sk-container-id-4\" class=\"sk-top-container\"><div class=\"sk-text-repr-fallback\"><pre>GridSearchCV(cv=3, estimator=DecisionTreeClassifier(),\n",
              "             param_grid={&#x27;criterion&#x27;: [&#x27;gini&#x27;, &#x27;entropy&#x27;],\n",
              "                         &#x27;max_depth&#x27;: [2, 5, 20, 30, 45, 50]})</pre><b>In a Jupyter environment, please rerun this cell to show the HTML representation or trust the notebook. <br />On GitHub, the HTML representation is unable to render, please try loading this page with nbviewer.org.</b></div><div class=\"sk-container\" hidden><div class=\"sk-item sk-dashed-wrapped\"><div class=\"sk-label-container\"><div class=\"sk-label sk-toggleable\"><input class=\"sk-toggleable__control sk-hidden--visually\" id=\"sk-estimator-id-6\" type=\"checkbox\" ><label for=\"sk-estimator-id-6\" class=\"sk-toggleable__label sk-toggleable__label-arrow\">GridSearchCV</label><div class=\"sk-toggleable__content\"><pre>GridSearchCV(cv=3, estimator=DecisionTreeClassifier(),\n",
              "             param_grid={&#x27;criterion&#x27;: [&#x27;gini&#x27;, &#x27;entropy&#x27;],\n",
              "                         &#x27;max_depth&#x27;: [2, 5, 20, 30, 45, 50]})</pre></div></div></div><div class=\"sk-parallel\"><div class=\"sk-parallel-item\"><div class=\"sk-item\"><div class=\"sk-label-container\"><div class=\"sk-label sk-toggleable\"><input class=\"sk-toggleable__control sk-hidden--visually\" id=\"sk-estimator-id-7\" type=\"checkbox\" ><label for=\"sk-estimator-id-7\" class=\"sk-toggleable__label sk-toggleable__label-arrow\">estimator: DecisionTreeClassifier</label><div class=\"sk-toggleable__content\"><pre>DecisionTreeClassifier()</pre></div></div></div><div class=\"sk-serial\"><div class=\"sk-item\"><div class=\"sk-estimator sk-toggleable\"><input class=\"sk-toggleable__control sk-hidden--visually\" id=\"sk-estimator-id-8\" type=\"checkbox\" ><label for=\"sk-estimator-id-8\" class=\"sk-toggleable__label sk-toggleable__label-arrow\">DecisionTreeClassifier</label><div class=\"sk-toggleable__content\"><pre>DecisionTreeClassifier()</pre></div></div></div></div></div></div></div></div></div></div>"
            ]
          },
          "metadata": {},
          "execution_count": 53
        }
      ],
      "source": [
        "my_max_depth=[2,5,20,30,45,50]\n",
        "my_criterion=['gini','entropy']\n",
        "#BUILDING THE MODEL\n",
        "mytreeone=DecisionTreeClassifier()\n",
        "#CROSS VALIDATION TELLS HOW A MODEL PERFORMS ON A DATASET USING MULTIPLE SAMPLES OF TRAIN DATA\n",
        "grid=GridSearchCV(estimator=mytreeone,cv=3,param_grid=dict(max_depth=my_max_depth,criterion=my_criterion))\n",
        "grid.fit(train_x,train_y)\n",
        "classes=grid.predict(test_x)"
      ]
    },
    {
      "cell_type": "markdown",
      "metadata": {
        "id": "Wk8PQXO2JgP3"
      },
      "source": [
        "#GridSearchCV"
      ]
    },
    {
      "cell_type": "code",
      "execution_count": 54,
      "metadata": {
        "colab": {
          "base_uri": "https://localhost:8080/"
        },
        "id": "crOus8iEAK3R",
        "outputId": "4a3e6965-a99f-44a0-b586-8343d37b1365"
      },
      "outputs": [
        {
          "output_type": "stream",
          "name": "stdout",
          "text": [
            "ACCUIRACY SCORE\n",
            "0.6801801801801802\n"
          ]
        }
      ],
      "source": [
        "#PRECISION AND RECALL\n",
        "print(\"ACCUIRACY SCORE\")\n",
        "print(metrics.accuracy_score(test_y,classes))"
      ]
    },
    {
      "cell_type": "code",
      "execution_count": 55,
      "metadata": {
        "colab": {
          "base_uri": "https://localhost:8080/"
        },
        "id": "tWwbLMwkAK3T",
        "outputId": "8d3bd035-6e31-4692-a792-275c3757317b"
      },
      "outputs": [
        {
          "output_type": "stream",
          "name": "stdout",
          "text": [
            "precision/recall Metrics\n",
            "              precision    recall  f1-score   support\n",
            "\n",
            "           0       0.70      0.80      0.75       658\n",
            "           1       0.63      0.51      0.56       452\n",
            "\n",
            "    accuracy                           0.68      1110\n",
            "   macro avg       0.67      0.65      0.66      1110\n",
            "weighted avg       0.67      0.68      0.67      1110\n",
            "\n"
          ]
        }
      ],
      "source": [
        "#PRECISION RECALL MATRIX\n",
        "print(\"precision/recall Metrics\")\n",
        "print(metrics.classification_report(test_y,classes))"
      ]
    },
    {
      "cell_type": "code",
      "execution_count": 56,
      "metadata": {
        "colab": {
          "base_uri": "https://localhost:8080/",
          "height": 300
        },
        "id": "9q8UQS4hAK3U",
        "outputId": "6fa5f6ec-ab40-4e7c-a6dd-aed3a1361e0b"
      },
      "outputs": [
        {
          "output_type": "stream",
          "name": "stdout",
          "text": [
            "CONFUSION MATRIX\n"
          ]
        },
        {
          "output_type": "execute_result",
          "data": {
            "text/plain": [
              "<AxesSubplot:>"
            ]
          },
          "metadata": {},
          "execution_count": 56
        },
        {
          "output_type": "display_data",
          "data": {
            "text/plain": [
              "<Figure size 432x288 with 2 Axes>"
            ],
            "image/png": "[encoded data removed]"
          },
          "metadata": {
            "needs_background": "light"
          }
        }
      ],
      "source": [
        "#CONFUSION MATRIX\n",
        "print(\"CONFUSION MATRIX\")\n",
        "cf=metrics.confusion_matrix(test_y,classes)\n",
        "lbl1=[\"Predicted 0\",\"Predicted 1\"]\n",
        "lbl2=[\"True 0\",\"True 1\"]\n",
        "sns.heatmap(cf,annot=True,cmap=\"Greens\",fmt=\"d\",xticklabels=lbl1,yticklabels=lbl2)\n",
        "plt.show()"
      ]
    },
    {
      "cell_type": "code",
      "source": [
        "#AUC\n",
        "print(\"AUC\")\n",
        "auc=metrics.roc_auc_score(test_y,classes)\n",
        "auc"
      ],
      "metadata": {
        "colab": {
          "base_uri": "https://localhost:8080/"
        },
        "outputId": "37e5675e-e0b0-434b-8a11-b95dd2f8cae3",
        "id": "iKiDI_l5ww-s"
      },
      "execution_count": 57,
      "outputs": [
        {
          "output_type": "stream",
          "name": "stdout",
          "text": [
            "AUC\n"
          ]
        },
        {
          "output_type": "execute_result",
          "data": {
            "text/plain": [
              "0.6533609489738279"
            ]
          },
          "metadata": {},
          "execution_count": 57
        }
      ]
    },
    {
      "cell_type": "code",
      "source": [
        "#ROC CHART\n",
        "fpr,tpr,th=roc_curve(test_y,classes)\n",
        "roc_auc=metrics.auc(fpr,tpr)\n",
        "import matplotlib.pyplot as plt\n",
        "plt.title(\"ROCR CHART\")\n",
        "plt.plot(fpr,tpr,'b',label=\"AUC=%0.2F\"%roc_auc)\n",
        "plt.legend(loc=\"lower right\")\n",
        "plt.plot([0,1],[0,1],\"o--\")\n",
        "plt.xlim([0,1])\n",
        "plt.ylim([0,1])\n",
        "plt.ylabel(\"TRUE POSITIVE RATE\")\n",
        "plt.xlabel(\"FALSE POSITIVE RATE\")\n",
        "plt.show();"
      ],
      "metadata": {
        "colab": {
          "base_uri": "https://localhost:8080/",
          "height": 295
        },
        "outputId": "7728202b-2afe-4c89-fc6c-791b6ae5b69d",
        "id": "jSZQIwDDww-u"
      },
      "execution_count": 58,
      "outputs": [
        {
          "output_type": "display_data",
          "data": {
            "text/plain": [
              "<Figure size 432x288 with 1 Axes>"
            ],
            "image/png": "[encoded data removed]"
          },
          "metadata": {
            "needs_background": "light"
          }
        }
      ]
    },
    {
      "cell_type": "code",
      "execution_count": 59,
      "metadata": {
        "id": "67Xyd1VtAPmi"
      },
      "outputs": [],
      "source": [
        "n_estimators=[10,500,100,2000]\n",
        "criterion=['gini','entropy']\n",
        "min_samples_split=[2,100,20,50,100]\n",
        "max_depth=[20,30,40,50,None]"
      ]
    },
    {
      "cell_type": "code",
      "execution_count": 60,
      "metadata": {
        "colab": {
          "base_uri": "https://localhost:8080/",
          "height": 135
        },
        "id": "ErDeNj2XBsZ3",
        "outputId": "a982b8d0-23fe-4008-af8c-88156cb61a67"
      },
      "outputs": [
        {
          "output_type": "stream",
          "name": "stdout",
          "text": [
            "Fitting 5 folds for each of 10 candidates, totalling 50 fits\n"
          ]
        },
        {
          "output_type": "execute_result",
          "data": {
            "text/plain": [
              "RandomizedSearchCV(cv=5, estimator=RandomForestClassifier(), n_jobs=-1,\n",
              "                   param_distributions={'criterion': ['gini', 'entropy'],\n",
              "                                        'max_depth': [20, 30, 40, 50, None],\n",
              "                                        'min_samples_split': [2, 100, 20, 50,\n",
              "                                                              100],\n",
              "                                        'n_estimators': [10, 500, 100, 2000]},\n",
              "                   verbose=2)"
            ],
            "text/html": [
              "<style>#sk-container-id-5 {color: black;background-color: white;}#sk-container-id-5 pre{padding: 0;}#sk-container-id-5 div.sk-toggleable {background-color: white;}#sk-container-id-5 label.sk-toggleable__label {cursor: pointer;display: block;width: 100%;margin-bottom: 0;padding: 0.3em;box-sizing: border-box;text-align: center;}#sk-container-id-5 label.sk-toggleable__label-arrow:before {content: \"▸\";float: left;margin-right: 0.25em;color: #696969;}#sk-container-id-5 label.sk-toggleable__label-arrow:hover:before {color: black;}#sk-container-id-5 div.sk-estimator:hover label.sk-toggleable__label-arrow:before {color: black;}#sk-container-id-5 div.sk-toggleable__content {max-height: 0;max-width: 0;overflow: hidden;text-align: left;background-color: #f0f8ff;}#sk-container-id-5 div.sk-toggleable__content pre {margin: 0.2em;color: black;border-radius: 0.25em;background-color: #f0f8ff;}#sk-container-id-5 input.sk-toggleable__control:checked~div.sk-toggleable__content {max-height: 200px;max-width: 100%;overflow: auto;}#sk-container-id-5 input.sk-toggleable__control:checked~label.sk-toggleable__label-arrow:before {content: \"▾\";}#sk-container-id-5 div.sk-estimator input.sk-toggleable__control:checked~label.sk-toggleable__label {background-color: #d4ebff;}#sk-container-id-5 div.sk-label input.sk-toggleable__control:checked~label.sk-toggleable__label {background-color: #d4ebff;}#sk-container-id-5 input.sk-hidden--visually {border: 0;clip: rect(1px 1px 1px 1px);clip: rect(1px, 1px, 1px, 1px);height: 1px;margin: -1px;overflow: hidden;padding: 0;position: absolute;width: 1px;}#sk-container-id-5 div.sk-estimator {font-family: monospace;background-color: #f0f8ff;border: 1px dotted black;border-radius: 0.25em;box-sizing: border-box;margin-bottom: 0.5em;}#sk-container-id-5 div.sk-estimator:hover {background-color: #d4ebff;}#sk-container-id-5 div.sk-parallel-item::after {content: \"\";width: 100%;border-bottom: 1px solid gray;flex-grow: 1;}#sk-container-id-5 div.sk-label:hover label.sk-toggleable__label {background-color: #d4ebff;}#sk-container-id-5 div.sk-serial::before {content: \"\";position: absolute;border-left: 1px solid gray;box-sizing: border-box;top: 0;bottom: 0;left: 50%;z-index: 0;}#sk-container-id-5 div.sk-serial {display: flex;flex-direction: column;align-items: center;background-color: white;padding-right: 0.2em;padding-left: 0.2em;position: relative;}#sk-container-id-5 div.sk-item {position: relative;z-index: 1;}#sk-container-id-5 div.sk-parallel {display: flex;align-items: stretch;justify-content: center;background-color: white;position: relative;}#sk-container-id-5 div.sk-item::before, #sk-container-id-5 div.sk-parallel-item::before {content: \"\";position: absolute;border-left: 1px solid gray;box-sizing: border-box;top: 0;bottom: 0;left: 50%;z-index: -1;}#sk-container-id-5 div.sk-parallel-item {display: flex;flex-direction: column;z-index: 1;position: relative;background-color: white;}#sk-container-id-5 div.sk-parallel-item:first-child::after {align-self: flex-end;width: 50%;}#sk-container-id-5 div.sk-parallel-item:last-child::after {align-self: flex-start;width: 50%;}#sk-container-id-5 div.sk-parallel-item:only-child::after {width: 0;}#sk-container-id-5 div.sk-dashed-wrapped {border: 1px dashed gray;margin: 0 0.4em 0.5em 0.4em;box-sizing: border-box;padding-bottom: 0.4em;background-color: white;}#sk-container-id-5 div.sk-label label {font-family: monospace;font-weight: bold;display: inline-block;line-height: 1.2em;}#sk-container-id-5 div.sk-label-container {text-align: center;}#sk-container-id-5 div.sk-container {/* jupyter's `normalize.less` sets `[hidden] { display: none; }` but bootstrap.min.css set `[hidden] { display: none !important; }` so we also need the `!important` here to be able to override the default hidden behavior on the sphinx rendered scikit-learn.org. See: https://github.com/scikit-learn/scikit-learn/issues/21755 */display: inline-block !important;position: relative;}#sk-container-id-5 div.sk-text-repr-fallback {display: none;}</style><div id=\"sk-container-id-5\" class=\"sk-top-container\"><div class=\"sk-text-repr-fallback\"><pre>RandomizedSearchCV(cv=5, estimator=RandomForestClassifier(), n_jobs=-1,\n",
              "                   param_distributions={&#x27;criterion&#x27;: [&#x27;gini&#x27;, &#x27;entropy&#x27;],\n",
              "                                        &#x27;max_depth&#x27;: [20, 30, 40, 50, None],\n",
              "                                        &#x27;min_samples_split&#x27;: [2, 100, 20, 50,\n",
              "                                                              100],\n",
              "                                        &#x27;n_estimators&#x27;: [10, 500, 100, 2000]},\n",
              "                   verbose=2)</pre><b>In a Jupyter environment, please rerun this cell to show the HTML representation or trust the notebook. <br />On GitHub, the HTML representation is unable to render, please try loading this page with nbviewer.org.</b></div><div class=\"sk-container\" hidden><div class=\"sk-item sk-dashed-wrapped\"><div class=\"sk-label-container\"><div class=\"sk-label sk-toggleable\"><input class=\"sk-toggleable__control sk-hidden--visually\" id=\"sk-estimator-id-9\" type=\"checkbox\" ><label for=\"sk-estimator-id-9\" class=\"sk-toggleable__label sk-toggleable__label-arrow\">RandomizedSearchCV</label><div class=\"sk-toggleable__content\"><pre>RandomizedSearchCV(cv=5, estimator=RandomForestClassifier(), n_jobs=-1,\n",
              "                   param_distributions={&#x27;criterion&#x27;: [&#x27;gini&#x27;, &#x27;entropy&#x27;],\n",
              "                                        &#x27;max_depth&#x27;: [20, 30, 40, 50, None],\n",
              "                                        &#x27;min_samples_split&#x27;: [2, 100, 20, 50,\n",
              "                                                              100],\n",
              "                                        &#x27;n_estimators&#x27;: [10, 500, 100, 2000]},\n",
              "                   verbose=2)</pre></div></div></div><div class=\"sk-parallel\"><div class=\"sk-parallel-item\"><div class=\"sk-item\"><div class=\"sk-label-container\"><div class=\"sk-label sk-toggleable\"><input class=\"sk-toggleable__control sk-hidden--visually\" id=\"sk-estimator-id-10\" type=\"checkbox\" ><label for=\"sk-estimator-id-10\" class=\"sk-toggleable__label sk-toggleable__label-arrow\">estimator: RandomForestClassifier</label><div class=\"sk-toggleable__content\"><pre>RandomForestClassifier()</pre></div></div></div><div class=\"sk-serial\"><div class=\"sk-item\"><div class=\"sk-estimator sk-toggleable\"><input class=\"sk-toggleable__control sk-hidden--visually\" id=\"sk-estimator-id-11\" type=\"checkbox\" ><label for=\"sk-estimator-id-11\" class=\"sk-toggleable__label sk-toggleable__label-arrow\">RandomForestClassifier</label><div class=\"sk-toggleable__content\"><pre>RandomForestClassifier()</pre></div></div></div></div></div></div></div></div></div></div>"
            ]
          },
          "metadata": {},
          "execution_count": 60
        }
      ],
      "source": [
        "param_grid={'n_estimators':n_estimators,'criterion':criterion,'min_samples_split':min_samples_split,'max_depth':max_depth}\n",
        "rf=RandomForestClassifier()\n",
        "rf_g=RandomizedSearchCV(rf,param_grid,cv=5,verbose=2,n_jobs=-1)\n",
        "rf_g.fit(train_x,train_y)"
      ]
    },
    {
      "cell_type": "code",
      "execution_count": 61,
      "metadata": {
        "id": "yizF4dUuCa8P"
      },
      "outputs": [],
      "source": [
        "#PREDICT USING THE TRAINED MODEL\n",
        "classes=rf_g.predict(test_x)"
      ]
    },
    {
      "cell_type": "markdown",
      "metadata": {
        "id": "H9lEBWfCJmLx"
      },
      "source": [
        "#RandomForestClassifier with RandomizedSearchCV"
      ]
    },
    {
      "cell_type": "code",
      "execution_count": 62,
      "metadata": {
        "colab": {
          "base_uri": "https://localhost:8080/"
        },
        "id": "URA1_7dqDHol",
        "outputId": "22e9ba48-3428-43ff-dd87-d28b78053715"
      },
      "outputs": [
        {
          "output_type": "stream",
          "name": "stdout",
          "text": [
            "ACCUIRACY SCORE\n",
            "0.7693693693693694\n"
          ]
        }
      ],
      "source": [
        "#PRECISION AND RECALL\n",
        "print(\"ACCUIRACY SCORE\")\n",
        "print(metrics.accuracy_score(test_y,classes))"
      ]
    },
    {
      "cell_type": "code",
      "execution_count": 63,
      "metadata": {
        "colab": {
          "base_uri": "https://localhost:8080/"
        },
        "id": "UWrl0Qf-DHon",
        "outputId": "fe241e72-c839-4a1c-d9df-cbde633a8ed7"
      },
      "outputs": [
        {
          "output_type": "stream",
          "name": "stdout",
          "text": [
            "precision/recall Metrics\n",
            "              precision    recall  f1-score   support\n",
            "\n",
            "           0       0.73      0.96      0.83       658\n",
            "           1       0.89      0.50      0.64       452\n",
            "\n",
            "    accuracy                           0.77      1110\n",
            "   macro avg       0.81      0.73      0.73      1110\n",
            "weighted avg       0.80      0.77      0.75      1110\n",
            "\n"
          ]
        }
      ],
      "source": [
        "#PRECISION RECALL MATRIX\n",
        "print(\"precision/recall Metrics\")\n",
        "print(metrics.classification_report(test_y,classes))"
      ]
    },
    {
      "cell_type": "code",
      "execution_count": 64,
      "metadata": {
        "colab": {
          "base_uri": "https://localhost:8080/",
          "height": 300
        },
        "id": "LpZ9U3nZDHoo",
        "outputId": "376cfd43-5996-46dd-f2a0-35794ef3ee6c"
      },
      "outputs": [
        {
          "output_type": "stream",
          "name": "stdout",
          "text": [
            "CONFUSION MATRIX\n"
          ]
        },
        {
          "output_type": "execute_result",
          "data": {
            "text/plain": [
              "<AxesSubplot:>"
            ]
          },
          "metadata": {},
          "execution_count": 64
        },
        {
          "output_type": "display_data",
          "data": {
            "text/plain": [
              "<Figure size 432x288 with 2 Axes>"
            ],
            "image/png": "[encoded data removed]"
          },
          "metadata": {
            "needs_background": "light"
          }
        }
      ],
      "source": [
        "#CONFUSION MATRIX\n",
        "print(\"CONFUSION MATRIX\")\n",
        "cf=metrics.confusion_matrix(test_y,classes)\n",
        "lbl1=[\"Predicted 0\",\"Predicted 1\"]\n",
        "lbl2=[\"True 0\",\"True 1\"]\n",
        "sns.heatmap(cf,annot=True,cmap=\"Greens\",fmt=\"d\",xticklabels=lbl1,yticklabels=lbl2)\n",
        "plt.show()"
      ]
    },
    {
      "cell_type": "code",
      "source": [
        "#AUC\n",
        "print(\"AUC\")\n",
        "auc=metrics.roc_auc_score(test_y,classes)\n",
        "auc"
      ],
      "metadata": {
        "colab": {
          "base_uri": "https://localhost:8080/"
        },
        "outputId": "9552a320-f40b-4734-d411-4bceba432a0f",
        "id": "Pil4HTIzw0BD"
      },
      "execution_count": 65,
      "outputs": [
        {
          "output_type": "stream",
          "name": "stdout",
          "text": [
            "AUC\n"
          ]
        },
        {
          "output_type": "execute_result",
          "data": {
            "text/plain": [
              "0.7268573311456007"
            ]
          },
          "metadata": {},
          "execution_count": 65
        }
      ]
    },
    {
      "cell_type": "code",
      "source": [
        "#ROC CHART\n",
        "fpr,tpr,th=roc_curve(test_y,classes)\n",
        "roc_auc=metrics.auc(fpr,tpr)\n",
        "import matplotlib.pyplot as plt\n",
        "plt.title(\"ROCR CHART\")\n",
        "plt.plot(fpr,tpr,'b',label=\"AUC=%0.2F\"%roc_auc)\n",
        "plt.legend(loc=\"lower right\")\n",
        "plt.plot([0,1],[0,1],\"o--\")\n",
        "plt.xlim([0,1])\n",
        "plt.ylim([0,1])\n",
        "plt.ylabel(\"TRUE POSITIVE RATE\")\n",
        "plt.xlabel(\"FALSE POSITIVE RATE\")\n",
        "plt.show();"
      ],
      "metadata": {
        "colab": {
          "base_uri": "https://localhost:8080/",
          "height": 295
        },
        "outputId": "3f0bab85-e518-4321-ec52-39f8f2d2e08d",
        "id": "mVyEoCF3w0BF"
      },
      "execution_count": 66,
      "outputs": [
        {
          "output_type": "display_data",
          "data": {
            "text/plain": [
              "<Figure size 432x288 with 1 Axes>"
            ],
            "image/png": "[encoded data removed]"
          },
          "metadata": {
            "needs_background": "light"
          }
        }
      ]
    },
    {
      "cell_type": "code",
      "execution_count": 67,
      "metadata": {
        "id": "OpzwlXIJHQjr"
      },
      "outputs": [],
      "source": [
        "from sklearn.neighbors import KNeighborsClassifier\n",
        "from xgboost import XGBClassifier"
      ]
    },
    {
      "cell_type": "code",
      "execution_count": 68,
      "metadata": {
        "colab": {
          "base_uri": "https://localhost:8080/",
          "height": 92
        },
        "id": "d0I5aMJ9HTCR",
        "outputId": "3cfb57f7-bf30-4c4e-814c-6b2bbc0aec0b"
      },
      "outputs": [
        {
          "output_type": "execute_result",
          "data": {
            "text/plain": [
              "KNeighborsClassifier(n_neighbors=8)"
            ],
            "text/html": [
              "<style>#sk-container-id-6 {color: black;background-color: white;}#sk-container-id-6 pre{padding: 0;}#sk-container-id-6 div.sk-toggleable {background-color: white;}#sk-container-id-6 label.sk-toggleable__label {cursor: pointer;display: block;width: 100%;margin-bottom: 0;padding: 0.3em;box-sizing: border-box;text-align: center;}#sk-container-id-6 label.sk-toggleable__label-arrow:before {content: \"▸\";float: left;margin-right: 0.25em;color: #696969;}#sk-container-id-6 label.sk-toggleable__label-arrow:hover:before {color: black;}#sk-container-id-6 div.sk-estimator:hover label.sk-toggleable__label-arrow:before {color: black;}#sk-container-id-6 div.sk-toggleable__content {max-height: 0;max-width: 0;overflow: hidden;text-align: left;background-color: #f0f8ff;}#sk-container-id-6 div.sk-toggleable__content pre {margin: 0.2em;color: black;border-radius: 0.25em;background-color: #f0f8ff;}#sk-container-id-6 input.sk-toggleable__control:checked~div.sk-toggleable__content {max-height: 200px;max-width: 100%;overflow: auto;}#sk-container-id-6 input.sk-toggleable__control:checked~label.sk-toggleable__label-arrow:before {content: \"▾\";}#sk-container-id-6 div.sk-estimator input.sk-toggleable__control:checked~label.sk-toggleable__label {background-color: #d4ebff;}#sk-container-id-6 div.sk-label input.sk-toggleable__control:checked~label.sk-toggleable__label {background-color: #d4ebff;}#sk-container-id-6 input.sk-hidden--visually {border: 0;clip: rect(1px 1px 1px 1px);clip: rect(1px, 1px, 1px, 1px);height: 1px;margin: -1px;overflow: hidden;padding: 0;position: absolute;width: 1px;}#sk-container-id-6 div.sk-estimator {font-family: monospace;background-color: #f0f8ff;border: 1px dotted black;border-radius: 0.25em;box-sizing: border-box;margin-bottom: 0.5em;}#sk-container-id-6 div.sk-estimator:hover {background-color: #d4ebff;}#sk-container-id-6 div.sk-parallel-item::after {content: \"\";width: 100%;border-bottom: 1px solid gray;flex-grow: 1;}#sk-container-id-6 div.sk-label:hover label.sk-toggleable__label {background-color: #d4ebff;}#sk-container-id-6 div.sk-serial::before {content: \"\";position: absolute;border-left: 1px solid gray;box-sizing: border-box;top: 0;bottom: 0;left: 50%;z-index: 0;}#sk-container-id-6 div.sk-serial {display: flex;flex-direction: column;align-items: center;background-color: white;padding-right: 0.2em;padding-left: 0.2em;position: relative;}#sk-container-id-6 div.sk-item {position: relative;z-index: 1;}#sk-container-id-6 div.sk-parallel {display: flex;align-items: stretch;justify-content: center;background-color: white;position: relative;}#sk-container-id-6 div.sk-item::before, #sk-container-id-6 div.sk-parallel-item::before {content: \"\";position: absolute;border-left: 1px solid gray;box-sizing: border-box;top: 0;bottom: 0;left: 50%;z-index: -1;}#sk-container-id-6 div.sk-parallel-item {display: flex;flex-direction: column;z-index: 1;position: relative;background-color: white;}#sk-container-id-6 div.sk-parallel-item:first-child::after {align-self: flex-end;width: 50%;}#sk-container-id-6 div.sk-parallel-item:last-child::after {align-self: flex-start;width: 50%;}#sk-container-id-6 div.sk-parallel-item:only-child::after {width: 0;}#sk-container-id-6 div.sk-dashed-wrapped {border: 1px dashed gray;margin: 0 0.4em 0.5em 0.4em;box-sizing: border-box;padding-bottom: 0.4em;background-color: white;}#sk-container-id-6 div.sk-label label {font-family: monospace;font-weight: bold;display: inline-block;line-height: 1.2em;}#sk-container-id-6 div.sk-label-container {text-align: center;}#sk-container-id-6 div.sk-container {/* jupyter's `normalize.less` sets `[hidden] { display: none; }` but bootstrap.min.css set `[hidden] { display: none !important; }` so we also need the `!important` here to be able to override the default hidden behavior on the sphinx rendered scikit-learn.org. See: https://github.com/scikit-learn/scikit-learn/issues/21755 */display: inline-block !important;position: relative;}#sk-container-id-6 div.sk-text-repr-fallback {display: none;}</style><div id=\"sk-container-id-6\" class=\"sk-top-container\"><div class=\"sk-text-repr-fallback\"><pre>KNeighborsClassifier(n_neighbors=8)</pre><b>In a Jupyter environment, please rerun this cell to show the HTML representation or trust the notebook. <br />On GitHub, the HTML representation is unable to render, please try loading this page with nbviewer.org.</b></div><div class=\"sk-container\" hidden><div class=\"sk-item\"><div class=\"sk-estimator sk-toggleable\"><input class=\"sk-toggleable__control sk-hidden--visually\" id=\"sk-estimator-id-12\" type=\"checkbox\" checked><label for=\"sk-estimator-id-12\" class=\"sk-toggleable__label sk-toggleable__label-arrow\">KNeighborsClassifier</label><div class=\"sk-toggleable__content\"><pre>KNeighborsClassifier(n_neighbors=8)</pre></div></div></div></div></div>"
            ]
          },
          "metadata": {},
          "execution_count": 68
        },
        {
          "output_type": "execute_result",
          "data": {
            "text/plain": [
              "array([1, 0, 0, ..., 1, 0, 0], dtype=int8)"
            ]
          },
          "metadata": {},
          "execution_count": 68
        }
      ],
      "source": [
        "model = KNeighborsClassifier(n_neighbors=8)\n",
        "model.fit(train_x,train_y)\n",
        "predicted_values=model.predict(test_x)\n",
        "predicted_values"
      ]
    },
    {
      "cell_type": "markdown",
      "metadata": {
        "id": "RDfLD0gHJ0TD"
      },
      "source": [
        "#KNeighborsClassifier"
      ]
    },
    {
      "cell_type": "code",
      "execution_count": 69,
      "metadata": {
        "colab": {
          "base_uri": "https://localhost:8080/"
        },
        "id": "AZ4u62HVHZhq",
        "outputId": "70016d99-494b-49cb-f526-d3cede48deb0"
      },
      "outputs": [
        {
          "output_type": "stream",
          "name": "stdout",
          "text": [
            "ACCUIRACY SCORE\n",
            "0.5855855855855856\n"
          ]
        }
      ],
      "source": [
        "#PRECISION AND RECALL\n",
        "print(\"ACCUIRACY SCORE\")\n",
        "print(metrics.accuracy_score(test_y,predicted_values))"
      ]
    },
    {
      "cell_type": "code",
      "execution_count": 70,
      "metadata": {
        "colab": {
          "base_uri": "https://localhost:8080/"
        },
        "id": "7QF0ucDYIGzl",
        "outputId": "16373dfe-00d4-4d49-eb7c-c97e42f530a2"
      },
      "outputs": [
        {
          "output_type": "stream",
          "name": "stdout",
          "text": [
            "precision/recall Metrics\n",
            "              precision    recall  f1-score   support\n",
            "\n",
            "           0       0.60      0.88      0.71       658\n",
            "           1       0.47      0.16      0.24       452\n",
            "\n",
            "    accuracy                           0.59      1110\n",
            "   macro avg       0.54      0.52      0.48      1110\n",
            "weighted avg       0.55      0.59      0.52      1110\n",
            "\n"
          ]
        }
      ],
      "source": [
        "#PRECISION RECALL MATRIX\n",
        "print(\"precision/recall Metrics\")\n",
        "print(metrics.classification_report(test_y,predicted_values))"
      ]
    },
    {
      "cell_type": "code",
      "execution_count": 71,
      "metadata": {
        "colab": {
          "base_uri": "https://localhost:8080/",
          "height": 300
        },
        "id": "cMj3u-EBIJf3",
        "outputId": "d9b7b1fd-f203-4f74-ba12-4f4bab52b1c7"
      },
      "outputs": [
        {
          "output_type": "stream",
          "name": "stdout",
          "text": [
            "CONFUSION MATRIX\n"
          ]
        },
        {
          "output_type": "execute_result",
          "data": {
            "text/plain": [
              "<AxesSubplot:>"
            ]
          },
          "metadata": {},
          "execution_count": 71
        },
        {
          "output_type": "display_data",
          "data": {
            "text/plain": [
              "<Figure size 432x288 with 2 Axes>"
            ],
            "image/png": "[encoded data removed]"
          },
          "metadata": {
            "needs_background": "light"
          }
        }
      ],
      "source": [
        "#CONFUSION MATRIX\n",
        "print(\"CONFUSION MATRIX\")\n",
        "cf=metrics.confusion_matrix(test_y,predicted_values)\n",
        "lbl1=[\"Predicted 0\",\"Predicted 1\"]\n",
        "lbl2=[\"True 0\",\"True 1\"]\n",
        "sns.heatmap(cf,annot=True,cmap=\"Greens\",fmt=\"d\",xticklabels=lbl1,yticklabels=lbl2)\n",
        "plt.show()"
      ]
    },
    {
      "cell_type": "code",
      "source": [
        "#AUC\n",
        "print(\"AUC\")\n",
        "auc=metrics.roc_auc_score(test_y,classes)\n",
        "auc"
      ],
      "metadata": {
        "colab": {
          "base_uri": "https://localhost:8080/"
        },
        "outputId": "98319ba5-52c9-4dcb-f390-75795ef6c1f5",
        "id": "LUE2H_8aw33D"
      },
      "execution_count": 72,
      "outputs": [
        {
          "output_type": "stream",
          "name": "stdout",
          "text": [
            "AUC\n"
          ]
        },
        {
          "output_type": "execute_result",
          "data": {
            "text/plain": [
              "0.7268573311456007"
            ]
          },
          "metadata": {},
          "execution_count": 72
        }
      ]
    },
    {
      "cell_type": "code",
      "source": [
        "#ROC CHART\n",
        "fpr,tpr,th=roc_curve(test_y,classes)\n",
        "roc_auc=metrics.auc(fpr,tpr)\n",
        "import matplotlib.pyplot as plt\n",
        "plt.title(\"ROCR CHART\")\n",
        "plt.plot(fpr,tpr,'b',label=\"AUC=%0.2F\"%roc_auc)\n",
        "plt.legend(loc=\"lower right\")\n",
        "plt.plot([0,1],[0,1],\"o--\")\n",
        "plt.xlim([0,1])\n",
        "plt.ylim([0,1])\n",
        "plt.ylabel(\"TRUE POSITIVE RATE\")\n",
        "plt.xlabel(\"FALSE POSITIVE RATE\")\n",
        "plt.show();"
      ],
      "metadata": {
        "colab": {
          "base_uri": "https://localhost:8080/",
          "height": 295
        },
        "outputId": "d29da95c-6961-4237-afe0-bfaff3495f12",
        "id": "2SVKoWmvw33G"
      },
      "execution_count": 73,
      "outputs": [
        {
          "output_type": "display_data",
          "data": {
            "text/plain": [
              "<Figure size 432x288 with 1 Axes>"
            ],
            "image/png": "[encoded data removed]"
          },
          "metadata": {
            "needs_background": "light"
          }
        }
      ]
    },
    {
      "cell_type": "code",
      "execution_count": 74,
      "metadata": {
        "colab": {
          "base_uri": "https://localhost:8080/",
          "height": 248
        },
        "id": "SnAxTs08IOpt",
        "outputId": "2a24d08a-dd26-4fdc-f1f7-1b397334e5ac"
      },
      "outputs": [
        {
          "output_type": "execute_result",
          "data": {
            "text/plain": [
              "XGBClassifier(base_score=None, booster=None, callbacks=None,\n",
              "              colsample_bylevel=None, colsample_bynode=None,\n",
              "              colsample_bytree=None, early_stopping_rounds=None,\n",
              "              enable_categorical=False, eval_metric=None, feature_types=None,\n",
              "              gamma=None, gpu_id=None, grow_policy=None, importance_type=None,\n",
              "              interaction_constraints=None, learning_rate=None, max_bin=None,\n",
              "              max_cat_threshold=None, max_cat_to_onehot=None,\n",
              "              max_delta_step=None, max_depth=None, max_leaves=None,\n",
              "              min_child_weight=None, missing=nan, monotone_constraints=None,\n",
              "              n_estimators=100, n_jobs=None, num_parallel_tree=None,\n",
              "              predictor=None, random_state=None, ...)"
            ],
            "text/html": [
              "<style>#sk-container-id-7 {color: black;background-color: white;}#sk-container-id-7 pre{padding: 0;}#sk-container-id-7 div.sk-toggleable {background-color: white;}#sk-container-id-7 label.sk-toggleable__label {cursor: pointer;display: block;width: 100%;margin-bottom: 0;padding: 0.3em;box-sizing: border-box;text-align: center;}#sk-container-id-7 label.sk-toggleable__label-arrow:before {content: \"▸\";float: left;margin-right: 0.25em;color: #696969;}#sk-container-id-7 label.sk-toggleable__label-arrow:hover:before {color: black;}#sk-container-id-7 div.sk-estimator:hover label.sk-toggleable__label-arrow:before {color: black;}#sk-container-id-7 div.sk-toggleable__content {max-height: 0;max-width: 0;overflow: hidden;text-align: left;background-color: #f0f8ff;}#sk-container-id-7 div.sk-toggleable__content pre {margin: 0.2em;color: black;border-radius: 0.25em;background-color: #f0f8ff;}#sk-container-id-7 input.sk-toggleable__control:checked~div.sk-toggleable__content {max-height: 200px;max-width: 100%;overflow: auto;}#sk-container-id-7 input.sk-toggleable__control:checked~label.sk-toggleable__label-arrow:before {content: \"▾\";}#sk-container-id-7 div.sk-estimator input.sk-toggleable__control:checked~label.sk-toggleable__label {background-color: #d4ebff;}#sk-container-id-7 div.sk-label input.sk-toggleable__control:checked~label.sk-toggleable__label {background-color: #d4ebff;}#sk-container-id-7 input.sk-hidden--visually {border: 0;clip: rect(1px 1px 1px 1px);clip: rect(1px, 1px, 1px, 1px);height: 1px;margin: -1px;overflow: hidden;padding: 0;position: absolute;width: 1px;}#sk-container-id-7 div.sk-estimator {font-family: monospace;background-color: #f0f8ff;border: 1px dotted black;border-radius: 0.25em;box-sizing: border-box;margin-bottom: 0.5em;}#sk-container-id-7 div.sk-estimator:hover {background-color: #d4ebff;}#sk-container-id-7 div.sk-parallel-item::after {content: \"\";width: 100%;border-bottom: 1px solid gray;flex-grow: 1;}#sk-container-id-7 div.sk-label:hover label.sk-toggleable__label {background-color: #d4ebff;}#sk-container-id-7 div.sk-serial::before {content: \"\";position: absolute;border-left: 1px solid gray;box-sizing: border-box;top: 0;bottom: 0;left: 50%;z-index: 0;}#sk-container-id-7 div.sk-serial {display: flex;flex-direction: column;align-items: center;background-color: white;padding-right: 0.2em;padding-left: 0.2em;position: relative;}#sk-container-id-7 div.sk-item {position: relative;z-index: 1;}#sk-container-id-7 div.sk-parallel {display: flex;align-items: stretch;justify-content: center;background-color: white;position: relative;}#sk-container-id-7 div.sk-item::before, #sk-container-id-7 div.sk-parallel-item::before {content: \"\";position: absolute;border-left: 1px solid gray;box-sizing: border-box;top: 0;bottom: 0;left: 50%;z-index: -1;}#sk-container-id-7 div.sk-parallel-item {display: flex;flex-direction: column;z-index: 1;position: relative;background-color: white;}#sk-container-id-7 div.sk-parallel-item:first-child::after {align-self: flex-end;width: 50%;}#sk-container-id-7 div.sk-parallel-item:last-child::after {align-self: flex-start;width: 50%;}#sk-container-id-7 div.sk-parallel-item:only-child::after {width: 0;}#sk-container-id-7 div.sk-dashed-wrapped {border: 1px dashed gray;margin: 0 0.4em 0.5em 0.4em;box-sizing: border-box;padding-bottom: 0.4em;background-color: white;}#sk-container-id-7 div.sk-label label {font-family: monospace;font-weight: bold;display: inline-block;line-height: 1.2em;}#sk-container-id-7 div.sk-label-container {text-align: center;}#sk-container-id-7 div.sk-container {/* jupyter's `normalize.less` sets `[hidden] { display: none; }` but bootstrap.min.css set `[hidden] { display: none !important; }` so we also need the `!important` here to be able to override the default hidden behavior on the sphinx rendered scikit-learn.org. See: https://github.com/scikit-learn/scikit-learn/issues/21755 */display: inline-block !important;position: relative;}#sk-container-id-7 div.sk-text-repr-fallback {display: none;}</style><div id=\"sk-container-id-7\" class=\"sk-top-container\"><div class=\"sk-text-repr-fallback\"><pre>XGBClassifier(base_score=None, booster=None, callbacks=None,\n",
              "              colsample_bylevel=None, colsample_bynode=None,\n",
              "              colsample_bytree=None, early_stopping_rounds=None,\n",
              "              enable_categorical=False, eval_metric=None, feature_types=None,\n",
              "              gamma=None, gpu_id=None, grow_policy=None, importance_type=None,\n",
              "              interaction_constraints=None, learning_rate=None, max_bin=None,\n",
              "              max_cat_threshold=None, max_cat_to_onehot=None,\n",
              "              max_delta_step=None, max_depth=None, max_leaves=None,\n",
              "              min_child_weight=None, missing=nan, monotone_constraints=None,\n",
              "              n_estimators=100, n_jobs=None, num_parallel_tree=None,\n",
              "              predictor=None, random_state=None, ...)</pre><b>In a Jupyter environment, please rerun this cell to show the HTML representation or trust the notebook. <br />On GitHub, the HTML representation is unable to render, please try loading this page with nbviewer.org.</b></div><div class=\"sk-container\" hidden><div class=\"sk-item\"><div class=\"sk-estimator sk-toggleable\"><input class=\"sk-toggleable__control sk-hidden--visually\" id=\"sk-estimator-id-13\" type=\"checkbox\" checked><label for=\"sk-estimator-id-13\" class=\"sk-toggleable__label sk-toggleable__label-arrow\">XGBClassifier</label><div class=\"sk-toggleable__content\"><pre>XGBClassifier(base_score=None, booster=None, callbacks=None,\n",
              "              colsample_bylevel=None, colsample_bynode=None,\n",
              "              colsample_bytree=None, early_stopping_rounds=None,\n",
              "              enable_categorical=False, eval_metric=None, feature_types=None,\n",
              "              gamma=None, gpu_id=None, grow_policy=None, importance_type=None,\n",
              "              interaction_constraints=None, learning_rate=None, max_bin=None,\n",
              "              max_cat_threshold=None, max_cat_to_onehot=None,\n",
              "              max_delta_step=None, max_depth=None, max_leaves=None,\n",
              "              min_child_weight=None, missing=nan, monotone_constraints=None,\n",
              "              n_estimators=100, n_jobs=None, num_parallel_tree=None,\n",
              "              predictor=None, random_state=None, ...)</pre></div></div></div></div></div>"
            ]
          },
          "metadata": {},
          "execution_count": 74
        }
      ],
      "source": [
        "# fit model no training data\n",
        "model = XGBClassifier()\n",
        "model.fit(train_x, train_y)"
      ]
    },
    {
      "cell_type": "code",
      "execution_count": 75,
      "metadata": {
        "id": "sfRS-AbIIRSI"
      },
      "outputs": [],
      "source": [
        "# make predictions for test data\n",
        "y_pred = model.predict(test_x)\n",
        "predictions = [round(value) for value in y_pred]"
      ]
    },
    {
      "cell_type": "markdown",
      "metadata": {
        "id": "ZrCR0GaMJ6wM"
      },
      "source": [
        "#XGBClassifier"
      ]
    },
    {
      "cell_type": "code",
      "execution_count": 76,
      "metadata": {
        "colab": {
          "base_uri": "https://localhost:8080/"
        },
        "id": "xvPY9PZuIVf4",
        "outputId": "c6a85377-c505-43f3-f4a0-752ace1aab34"
      },
      "outputs": [
        {
          "output_type": "stream",
          "name": "stdout",
          "text": [
            "ACCUIRACY SCORE\n",
            "0.8486486486486486\n"
          ]
        }
      ],
      "source": [
        "#PRECISION AND RECALL\n",
        "print(\"ACCUIRACY SCORE\")\n",
        "print(metrics.accuracy_score(test_y,predictions))"
      ]
    },
    {
      "cell_type": "code",
      "execution_count": 77,
      "metadata": {
        "colab": {
          "base_uri": "https://localhost:8080/"
        },
        "id": "TDd71soeIZI-",
        "outputId": "6a53dd5c-c2f7-45ed-d9f9-b7ee66c0df56"
      },
      "outputs": [
        {
          "output_type": "stream",
          "name": "stdout",
          "text": [
            "precision/recall Metrics\n",
            "              precision    recall  f1-score   support\n",
            "\n",
            "           0       0.84      0.92      0.88       658\n",
            "           1       0.86      0.75      0.80       452\n",
            "\n",
            "    accuracy                           0.85      1110\n",
            "   macro avg       0.85      0.83      0.84      1110\n",
            "weighted avg       0.85      0.85      0.85      1110\n",
            "\n"
          ]
        }
      ],
      "source": [
        "#PRECISION RECALL MATRIX\n",
        "print(\"precision/recall Metrics\")\n",
        "print(metrics.classification_report(test_y,predictions))"
      ]
    },
    {
      "cell_type": "code",
      "execution_count": 78,
      "metadata": {
        "colab": {
          "base_uri": "https://localhost:8080/",
          "height": 303
        },
        "id": "tc2UT2whIcMe",
        "outputId": "05da82af-9257-4a7a-c3ad-97ed9ef15c89"
      },
      "outputs": [
        {
          "output_type": "stream",
          "name": "stdout",
          "text": [
            "CONFUSION MATRIX\n"
          ]
        },
        {
          "output_type": "execute_result",
          "data": {
            "text/plain": [
              "<AxesSubplot:>"
            ]
          },
          "metadata": {},
          "execution_count": 78
        },
        {
          "output_type": "display_data",
          "data": {
            "text/plain": [
              "<Figure size 432x288 with 2 Axes>"
            ],
            "image/png": "[encoded data removed]"
          },
          "metadata": {
            "needs_background": "light"
          }
        }
      ],
      "source": [
        "#CONFUSION MATRIX\n",
        "print(\"CONFUSION MATRIX\")\n",
        "cf=metrics.confusion_matrix(test_y,predictions)\n",
        "lbl1=[\"Predicted 0\",\"Predicted 1\"]\n",
        "lbl2=[\"True 0\",\"True 1\"]\n",
        "sns.heatmap(cf,annot=True,cmap=\"Greens\",fmt=\"d\",xticklabels=lbl1,yticklabels=lbl2)\n",
        "plt.show()"
      ]
    },
    {
      "cell_type": "code",
      "source": [
        "#AUC\n",
        "print(\"AUC\")\n",
        "auc=metrics.roc_auc_score(test_y,classes)\n",
        "auc"
      ],
      "metadata": {
        "colab": {
          "base_uri": "https://localhost:8080/"
        },
        "outputId": "541b0b3c-6311-4bcf-dde4-9bd2549e621e",
        "id": "9lc9sHZew6I8"
      },
      "execution_count": 79,
      "outputs": [
        {
          "output_type": "stream",
          "name": "stdout",
          "text": [
            "AUC\n"
          ]
        },
        {
          "output_type": "execute_result",
          "data": {
            "text/plain": [
              "0.7268573311456007"
            ]
          },
          "metadata": {},
          "execution_count": 79
        }
      ]
    },
    {
      "cell_type": "code",
      "source": [
        "#ROC CHART\n",
        "fpr,tpr,th=roc_curve(test_y,classes)\n",
        "roc_auc=metrics.auc(fpr,tpr)\n",
        "import matplotlib.pyplot as plt\n",
        "plt.title(\"ROCR CHART\")\n",
        "plt.plot(fpr,tpr,'b',label=\"AUC=%0.2F\"%roc_auc)\n",
        "plt.legend(loc=\"lower right\")\n",
        "plt.plot([0,1],[0,1],\"o--\")\n",
        "plt.xlim([0,1])\n",
        "plt.ylim([0,1])\n",
        "plt.ylabel(\"TRUE POSITIVE RATE\")\n",
        "plt.xlabel(\"FALSE POSITIVE RATE\")\n",
        "plt.show();"
      ],
      "metadata": {
        "colab": {
          "base_uri": "https://localhost:8080/",
          "height": 295
        },
        "outputId": "5e561b06-5798-43d2-969d-b8cde2b14880",
        "id": "L97Yv-rsw6I9"
      },
      "execution_count": 80,
      "outputs": [
        {
          "output_type": "display_data",
          "data": {
            "text/plain": [
              "<Figure size 432x288 with 1 Axes>"
            ],
            "image/png": "[encoded data removed]"
          },
          "metadata": {
            "needs_background": "light"
          }
        }
      ]
    },
    {
      "cell_type": "code",
      "execution_count": 82,
      "metadata": {
        "colab": {
          "base_uri": "https://localhost:8080/"
        },
        "id": "k12x-s5pklZg",
        "outputId": "c662727e-3e1d-42bb-95d4-d32ec5120176"
      },
      "outputs": [
        {
          "output_type": "stream",
          "name": "stdout",
          "text": [
            "[NbConvertApp] Converting notebook HDFC_volatility_indicators_GoLong.ipynb to html\n",
            "[NbConvertApp] Writing 1122624 bytes to HDFC_volatility_indicators_GoLong.html\n"
          ]
        }
      ],
      "source": [
        "!jupyter nbconvert --to html HDFC_volatility_indicators_GoLong.ipynb"
      ]
    }
  ],
  "metadata": {
    "colab": {
      "provenance": []
    },
    "gpuClass": "standard",
    "kernelspec": {
      "display_name": "Python 3",
      "name": "python3"
    },
    "language_info": {
      "name": "python"
    }
  },
  "nbformat": 4,
  "nbformat_minor": 0
}