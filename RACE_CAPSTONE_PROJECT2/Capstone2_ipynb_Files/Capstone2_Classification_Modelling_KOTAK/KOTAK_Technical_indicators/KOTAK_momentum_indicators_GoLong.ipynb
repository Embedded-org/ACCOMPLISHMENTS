{
  "cells": [
    {
      "cell_type": "code",
      "execution_count": 1,
      "metadata": {
        "id": "rTIpccjOs_VF"
      },
      "outputs": [],
      "source": [
        "#Importing the Libraries\n",
        "import matplotlib. pyplot as plt\n",
        "import matplotlib\n",
        "from sklearn.preprocessing import MinMaxScaler\n",
        "import numpy as np\n",
        "import pandas as pd\n",
        "import sklearn\n",
        "import sklearn.linear_model as lm\n",
        "from sklearn import preprocessing\n",
        "import seaborn as sns\n",
        "from sklearn.model_selection import train_test_split\n",
        "from sklearn import metrics\n",
        "from sklearn.metrics import roc_curve,auc,recall_score,precision_score,accuracy_score,f1_score\n",
        "from sklearn.metrics import confusion_matrix,average_precision_score,recall_score\n",
        "import matplotlib.pyplot as plt\n",
        "%matplotlib inline\n",
        "from IPython.core.interactiveshell import InteractiveShell\n",
        "InteractiveShell.ast_node_interactivity = \"all\""
      ]
    },
    {
      "cell_type": "code",
      "execution_count": 2,
      "metadata": {
        "colab": {
          "base_uri": "https://localhost:8080/",
          "height": 206
        },
        "id": "zgECclAAuO1V",
        "outputId": "8f556e75-4c35-4b1a-ee09-834c6ad151e3"
      },
      "outputs": [
        {
          "output_type": "execute_result",
          "data": {
            "text/plain": [
              "         Date  Prev Close   Open    High     Low    Last   Close    VWAP  \\\n",
              "0  2000-01-03      212.35  220.0  229.35  220.00  229.35  229.35  229.13   \n",
              "1  2000-01-04      229.35  247.7  247.70  225.25  247.70  246.95  244.12   \n",
              "2  2000-01-05      246.95  229.0  240.00  227.20  228.00  228.40  233.75   \n",
              "3  2000-01-06      228.40  235.1  239.00  217.00  224.95  225.90  226.84   \n",
              "4  2000-01-07      225.90  213.0  219.00  207.85  207.85  208.85  209.94   \n",
              "\n",
              "   Volume      Turnover  \n",
              "0    7086  1.623640e+11  \n",
              "1   73681  1.798729e+12  \n",
              "2  105799  2.473093e+12  \n",
              "3   40202  9.119546e+11  \n",
              "4   24463  5.135747e+11  "
            ],
            "text/html": [
              "\n",
              "  <div id=\"df-a5aa1a89-e9bd-4979-a7f5-b4e4aea35cc9\">\n",
              "    <div class=\"colab-df-container\">\n",
              "      <div>\n",
              "<style scoped>\n",
              "    .dataframe tbody tr th:only-of-type {\n",
              "        vertical-align: middle;\n",
              "    }\n",
              "\n",
              "    .dataframe tbody tr th {\n",
              "        vertical-align: top;\n",
              "    }\n",
              "\n",
              "    .dataframe thead th {\n",
              "        text-align: right;\n",
              "    }\n",
              "</style>\n",
              "<table border=\"1\" class=\"dataframe\">\n",
              "  <thead>\n",
              "    <tr style=\"text-align: right;\">\n",
              "      <th></th>\n",
              "      <th>Date</th>\n",
              "      <th>Prev Close</th>\n",
              "      <th>Open</th>\n",
              "      <th>High</th>\n",
              "      <th>Low</th>\n",
              "      <th>Last</th>\n",
              "      <th>Close</th>\n",
              "      <th>VWAP</th>\n",
              "      <th>Volume</th>\n",
              "      <th>Turnover</th>\n",
              "    </tr>\n",
              "  </thead>\n",
              "  <tbody>\n",
              "    <tr>\n",
              "      <th>0</th>\n",
              "      <td>2000-01-03</td>\n",
              "      <td>212.35</td>\n",
              "      <td>220.0</td>\n",
              "      <td>229.35</td>\n",
              "      <td>220.00</td>\n",
              "      <td>229.35</td>\n",
              "      <td>229.35</td>\n",
              "      <td>229.13</td>\n",
              "      <td>7086</td>\n",
              "      <td>1.623640e+11</td>\n",
              "    </tr>\n",
              "    <tr>\n",
              "      <th>1</th>\n",
              "      <td>2000-01-04</td>\n",
              "      <td>229.35</td>\n",
              "      <td>247.7</td>\n",
              "      <td>247.70</td>\n",
              "      <td>225.25</td>\n",
              "      <td>247.70</td>\n",
              "      <td>246.95</td>\n",
              "      <td>244.12</td>\n",
              "      <td>73681</td>\n",
              "      <td>1.798729e+12</td>\n",
              "    </tr>\n",
              "    <tr>\n",
              "      <th>2</th>\n",
              "      <td>2000-01-05</td>\n",
              "      <td>246.95</td>\n",
              "      <td>229.0</td>\n",
              "      <td>240.00</td>\n",
              "      <td>227.20</td>\n",
              "      <td>228.00</td>\n",
              "      <td>228.40</td>\n",
              "      <td>233.75</td>\n",
              "      <td>105799</td>\n",
              "      <td>2.473093e+12</td>\n",
              "    </tr>\n",
              "    <tr>\n",
              "      <th>3</th>\n",
              "      <td>2000-01-06</td>\n",
              "      <td>228.40</td>\n",
              "      <td>235.1</td>\n",
              "      <td>239.00</td>\n",
              "      <td>217.00</td>\n",
              "      <td>224.95</td>\n",
              "      <td>225.90</td>\n",
              "      <td>226.84</td>\n",
              "      <td>40202</td>\n",
              "      <td>9.119546e+11</td>\n",
              "    </tr>\n",
              "    <tr>\n",
              "      <th>4</th>\n",
              "      <td>2000-01-07</td>\n",
              "      <td>225.90</td>\n",
              "      <td>213.0</td>\n",
              "      <td>219.00</td>\n",
              "      <td>207.85</td>\n",
              "      <td>207.85</td>\n",
              "      <td>208.85</td>\n",
              "      <td>209.94</td>\n",
              "      <td>24463</td>\n",
              "      <td>5.135747e+11</td>\n",
              "    </tr>\n",
              "  </tbody>\n",
              "</table>\n",
              "</div>\n",
              "      <button class=\"colab-df-convert\" onclick=\"convertToInteractive('df-a5aa1a89-e9bd-4979-a7f5-b4e4aea35cc9')\"\n",
              "              title=\"Convert this dataframe to an interactive table.\"\n",
              "              style=\"display:none;\">\n",
              "        \n",
              "  <svg xmlns=\"http://www.w3.org/2000/svg\" height=\"24px\"viewBox=\"0 0 24 24\"\n",
              "       width=\"24px\">\n",
              "    <path d=\"M0 0h24v24H0V0z\" fill=\"none\"/>\n",
              "    <path d=\"M18.56 5.44l.94 2.06.94-2.06 2.06-.94-2.06-.94-.94-2.06-.94 2.06-2.06.94zm-11 1L8.5 8.5l.94-2.06 2.06-.94-2.06-.94L8.5 2.5l-.94 2.06-2.06.94zm10 10l.94 2.06.94-2.06 2.06-.94-2.06-.94-.94-2.06-.94 2.06-2.06.94z\"/><path d=\"M17.41 7.96l-1.37-1.37c-.4-.4-.92-.59-1.43-.59-.52 0-1.04.2-1.43.59L10.3 9.45l-7.72 7.72c-.78.78-.78 2.05 0 2.83L4 21.41c.39.39.9.59 1.41.59.51 0 1.02-.2 1.41-.59l7.78-7.78 2.81-2.81c.8-.78.8-2.07 0-2.86zM5.41 20L4 18.59l7.72-7.72 1.47 1.35L5.41 20z\"/>\n",
              "  </svg>\n",
              "      </button>\n",
              "      \n",
              "  <style>\n",
              "    .colab-df-container {\n",
              "      display:flex;\n",
              "      flex-wrap:wrap;\n",
              "      gap: 12px;\n",
              "    }\n",
              "\n",
              "    .colab-df-convert {\n",
              "      background-color: #E8F0FE;\n",
              "      border: none;\n",
              "      border-radius: 50%;\n",
              "      cursor: pointer;\n",
              "      display: none;\n",
              "      fill: #1967D2;\n",
              "      height: 32px;\n",
              "      padding: 0 0 0 0;\n",
              "      width: 32px;\n",
              "    }\n",
              "\n",
              "    .colab-df-convert:hover {\n",
              "      background-color: #E2EBFA;\n",
              "      box-shadow: 0px 1px 2px rgba(60, 64, 67, 0.3), 0px 1px 3px 1px rgba(60, 64, 67, 0.15);\n",
              "      fill: #174EA6;\n",
              "    }\n",
              "\n",
              "    [theme=dark] .colab-df-convert {\n",
              "      background-color: #3B4455;\n",
              "      fill: #D2E3FC;\n",
              "    }\n",
              "\n",
              "    [theme=dark] .colab-df-convert:hover {\n",
              "      background-color: #434B5C;\n",
              "      box-shadow: 0px 1px 3px 1px rgba(0, 0, 0, 0.15);\n",
              "      filter: drop-shadow(0px 1px 2px rgba(0, 0, 0, 0.3));\n",
              "      fill: #FFFFFF;\n",
              "    }\n",
              "  </style>\n",
              "\n",
              "      <script>\n",
              "        const buttonEl =\n",
              "          document.querySelector('#df-a5aa1a89-e9bd-4979-a7f5-b4e4aea35cc9 button.colab-df-convert');\n",
              "        buttonEl.style.display =\n",
              "          google.colab.kernel.accessAllowed ? 'block' : 'none';\n",
              "\n",
              "        async function convertToInteractive(key) {\n",
              "          const element = document.querySelector('#df-a5aa1a89-e9bd-4979-a7f5-b4e4aea35cc9');\n",
              "          const dataTable =\n",
              "            await google.colab.kernel.invokeFunction('convertToInteractive',\n",
              "                                                     [key], {});\n",
              "          if (!dataTable) return;\n",
              "\n",
              "          const docLinkHtml = 'Like what you see? Visit the ' +\n",
              "            '<a target=\"_blank\" href=https://colab.research.google.com/notebooks/data_table.ipynb>data table notebook</a>'\n",
              "            + ' to learn more about interactive tables.';\n",
              "          element.innerHTML = '';\n",
              "          dataTable['output_type'] = 'display_data';\n",
              "          await google.colab.output.renderOutput(dataTable, element);\n",
              "          const docLink = document.createElement('div');\n",
              "          docLink.innerHTML = docLinkHtml;\n",
              "          element.appendChild(docLink);\n",
              "        }\n",
              "      </script>\n",
              "    </div>\n",
              "  </div>\n",
              "  "
            ]
          },
          "metadata": {},
          "execution_count": 2
        }
      ],
      "source": [
        "all_data = pd.read_csv(\"KOTAKBANK.csv\")\n",
        "#all_data=all_data.drop(['Date','Trades','Deliverable Volume','%Deliverble','Symbol','Series'],axis=1)\n",
        "df=all_data.drop(['Trades','Deliverable Volume','%Deliverble','Symbol','Series'],axis=1)\n",
        "df.head()"
      ]
    },
    {
      "cell_type": "code",
      "execution_count": 3,
      "metadata": {
        "id": "eKyspQnPfHzg"
      },
      "outputs": [],
      "source": [
        "#!pip install nsepy"
      ]
    },
    {
      "cell_type": "code",
      "execution_count": 4,
      "metadata": {
        "id": "DopSYORXe_hD",
        "colab": {
          "base_uri": "https://localhost:8080/",
          "height": 53
        },
        "outputId": "3ccfca5b-af75-4b2f-ff77-d87653b91a61"
      },
      "outputs": [
        {
          "output_type": "execute_result",
          "data": {
            "text/plain": [
              "\"\\nfrom datetime import date\\nfrom nsepy import get_history\\nimport numpy as np\\nimport pandas as pd\\nimport pickle\\n\\nplt.style.use('fivethirtyeight')\\nplt.rcParams['figure.figsize'] = (20, 10)\\n\""
            ],
            "application/vnd.google.colaboratory.intrinsic+json": {
              "type": "string"
            }
          },
          "metadata": {},
          "execution_count": 4
        }
      ],
      "source": [
        "\n",
        "'''\n",
        "from datetime import date\n",
        "from nsepy import get_history\n",
        "import numpy as np\n",
        "import pandas as pd\n",
        "import pickle\n",
        "\n",
        "plt.style.use('fivethirtyeight')\n",
        "plt.rcParams['figure.figsize'] = (20, 10)\n",
        "'''"
      ]
    },
    {
      "cell_type": "code",
      "execution_count": 5,
      "metadata": {
        "colab": {
          "base_uri": "https://localhost:8080/",
          "height": 53
        },
        "id": "LCdasd7nqt2Y",
        "outputId": "65f5a511-b067-4408-cad7-b3c23ec283a5"
      },
      "outputs": [
        {
          "output_type": "execute_result",
          "data": {
            "text/plain": [
              "'\\nsymbol = \"HDFC\"\\nstart = date(2000, 1, 3)\\nend = date(2022, 5, 30)\\ndata = get_history(symbol=symbol, start=start, end=end)\\ndata\\ndata.to_csv(\\'HDFCBANK.csv\\')\\n'"
            ],
            "application/vnd.google.colaboratory.intrinsic+json": {
              "type": "string"
            }
          },
          "metadata": {},
          "execution_count": 5
        }
      ],
      "source": [
        "'''\n",
        "symbol = \"HDFC\"\n",
        "start = date(2000, 1, 3)\n",
        "end = date(2022, 5, 30)\n",
        "data = get_history(symbol=symbol, start=start, end=end)\n",
        "data\n",
        "data.to_csv('HDFCBANK.csv')\n",
        "'''"
      ]
    },
    {
      "cell_type": "code",
      "execution_count": 6,
      "metadata": {
        "colab": {
          "base_uri": "https://localhost:8080/",
          "height": 87
        },
        "id": "gLyb2T96rIf8",
        "outputId": "850a48c5-ba05-4d76-9603-1d6cd12b3c20"
      },
      "outputs": [
        {
          "output_type": "execute_result",
          "data": {
            "text/plain": [
              "'\\nwith open(\\'SBIN.pickle\\', \\'wb\\') as f:\\n    pickle.dump(data, f)\\n\\nsymbol = \"SBIN\"\\nstart = date(2022, 6, 1)\\nend = date(2022, 6, 1)\\ndata = get_history(symbol=symbol, start=start, end=end)\\nwith open(\\'SBIN.pickle\\', \\'rb\\') as f:\\n    old_data = pickle.load(f)\\nnew_data = pd.concat([old_data, data])\\nwith open(\\'SBIN.pickle\\', \\'wb\\') as f:\\n    pickle.dump(new_data, f)\\n\\nnew_data.head()\\ndata.head()\\n\\n'"
            ],
            "application/vnd.google.colaboratory.intrinsic+json": {
              "type": "string"
            }
          },
          "metadata": {},
          "execution_count": 6
        }
      ],
      "source": [
        "'''\n",
        "with open('SBIN.pickle', 'wb') as f:\n",
        "    pickle.dump(data, f)\n",
        "\n",
        "symbol = \"SBIN\"\n",
        "start = date(2022, 6, 1)\n",
        "end = date(2022, 6, 1)\n",
        "data = get_history(symbol=symbol, start=start, end=end)\n",
        "with open('SBIN.pickle', 'rb') as f:\n",
        "    old_data = pickle.load(f)\n",
        "new_data = pd.concat([old_data, data])\n",
        "with open('SBIN.pickle', 'wb') as f:\n",
        "    pickle.dump(new_data, f)\n",
        "\n",
        "new_data.head()\n",
        "data.head()\n",
        "\n",
        "'''"
      ]
    },
    {
      "cell_type": "code",
      "source": [
        "df['Volume'] = df['Volume'].shift(1)\n",
        "Close_list = df['Close'].tolist()\n",
        "df['SMA_3'] = df['Close'].rolling(3, min_periods=1).mean()\n",
        "df['SMA_7'] = df['Close'].rolling(7, min_periods=1).mean()\n",
        "df['SMA_13'] = df['Close'].rolling(13, min_periods=1).mean()\n",
        "df['SMA_20'] = df['Close'].rolling(20, min_periods=1).mean()\n",
        "df['EMA_3'] = df['Close'].ewm(span=3, adjust=False).mean()\n",
        "df['EMA_7'] = df['Close'].ewm(span=7, adjust=False).mean()\n",
        "df['EMA_13'] = df['Close'].ewm(span=13, adjust=False).mean()\n",
        "df['EMA_20'] = df['Close'].ewm(span=20, adjust=False).mean()\n",
        "total=len(Close_list);\n",
        "print(\"total is\",total)\n",
        "df.dropna(inplace=True)"
      ],
      "metadata": {
        "id": "G0aWbJnM1c1i",
        "colab": {
          "base_uri": "https://localhost:8080/"
        },
        "outputId": "b0f8326e-d416-4ee7-e8f5-7dc2777abb98"
      },
      "execution_count": 7,
      "outputs": [
        {
          "output_type": "stream",
          "name": "stdout",
          "text": [
            "total is 5256\n"
          ]
        }
      ]
    },
    {
      "cell_type": "markdown",
      "source": [
        "#The close values of KOTAKBANK stock equity"
      ],
      "metadata": {
        "id": "tTS_K_ZBYoIi"
      }
    },
    {
      "cell_type": "code",
      "source": [
        "import matplotlib.pyplot as plt\n",
        "# plot lines\n",
        "plt.figure(figsize=(12, 6))\n",
        "plt.title('The close values of KOTAKBANK stock equity', fontsize=20)\n",
        "plt.xlabel('Year', fontsize=16)\n",
        "plt.ylabel('close values', fontsize=16)\n",
        "plt.plot(df.index,df['Close'], color='green',linewidth=1.5)\n",
        "plt.legend(labels =['close values'], fontsize=14)\n",
        "plt.show()"
      ],
      "metadata": {
        "colab": {
          "base_uri": "https://localhost:8080/",
          "height": 449
        },
        "id": "iDj42r9AWp-W",
        "outputId": "096855ee-d5a6-40cc-8d14-30dba6e3ebd4"
      },
      "execution_count": 8,
      "outputs": [
        {
          "output_type": "execute_result",
          "data": {
            "text/plain": [
              "<Figure size 864x432 with 0 Axes>"
            ]
          },
          "metadata": {},
          "execution_count": 8
        },
        {
          "output_type": "execute_result",
          "data": {
            "text/plain": [
              "Text(0.5, 1.0, 'The close values of KOTAKBANK stock equity')"
            ]
          },
          "metadata": {},
          "execution_count": 8
        },
        {
          "output_type": "execute_result",
          "data": {
            "text/plain": [
              "Text(0.5, 0, 'Year')"
            ]
          },
          "metadata": {},
          "execution_count": 8
        },
        {
          "output_type": "execute_result",
          "data": {
            "text/plain": [
              "Text(0, 0.5, 'close values')"
            ]
          },
          "metadata": {},
          "execution_count": 8
        },
        {
          "output_type": "execute_result",
          "data": {
            "text/plain": [
              "[<matplotlib.lines.Line2D at 0x7f3fcf2444f0>]"
            ]
          },
          "metadata": {},
          "execution_count": 8
        },
        {
          "output_type": "execute_result",
          "data": {
            "text/plain": [
              "<matplotlib.legend.Legend at 0x7f3fcf2441c0>"
            ]
          },
          "metadata": {},
          "execution_count": 8
        },
        {
          "output_type": "display_data",
          "data": {
            "text/plain": [
              "<Figure size 864x432 with 1 Axes>"
            ],
            "image/png": "[encoded data removed]"
          },
          "metadata": {
            "needs_background": "light"
          }
        }
      ]
    },
    {
      "cell_type": "code",
      "source": [
        "j=0\n",
        "j=0\n",
        "D1=[]\n",
        "D2=[]\n",
        "D3=[]\n",
        "D4=[]\n",
        "D5=[]\n",
        "D6=[]\n",
        "D7=[]\n",
        "D8=[]\n",
        "D9=[]\n",
        "D10=[]\n",
        "D11=[]\n",
        "D12=[]\n",
        "D13=[]\n",
        "D14=[]\n",
        "D15=[]\n",
        "D16=[]\n",
        "D17=[]\n",
        "D18=[]\n",
        "D19=[]\n",
        "D20=[]\n",
        "D21=[]\n",
        "D22=[]\n",
        "D23=[]\n",
        "D24=[]\n",
        "D25=[]\n",
        "D26=[]\n",
        "D27=[]\n",
        "D28=[]\n",
        "D29=[]\n",
        "D30=[]\n",
        "for i in range(0,total):\n",
        "  D1.append(Close_list[j])\n",
        "  D2.append(Close_list[j+1])\n",
        "  D3.append(Close_list[j+2])\n",
        "  D4.append(Close_list[j+3])\n",
        "  D5.append(Close_list[j+4])\n",
        "  D6.append(Close_list[j+5])\n",
        "  D7.append(Close_list[j+6])\n",
        "  D8.append(Close_list[j+7])\n",
        "  D9.append(Close_list[j+8])\n",
        "  D10.append(Close_list[j+9])\n",
        "  D11.append(Close_list[j+10])\n",
        "  D12.append(Close_list[j+11])\n",
        "  D13.append(Close_list[j+12])\n",
        "  D14.append(Close_list[j+13])\n",
        "  D15.append(Close_list[j+14])\n",
        "  D16.append(Close_list[j+15])\n",
        "  D17.append(Close_list[j+16])\n",
        "  D18.append(Close_list[j+17])\n",
        "  D19.append(Close_list[j+18])\n",
        "  D20.append(Close_list[j+19])\n",
        "  D21.append(Close_list[j+20])\n",
        "  D22.append(Close_list[j+21])\n",
        "  D23.append(Close_list[j+22])\n",
        "  D24.append(Close_list[j+23])\n",
        "  D25.append(Close_list[j+24])\n",
        "  D26.append(Close_list[j+25])\n",
        "  D27.append(Close_list[j+26])\n",
        "  D28.append(Close_list[j+27])\n",
        "  D29.append(Close_list[j+28])\n",
        "  D30.append(Close_list[j+29])\n",
        "  j=j+1;\n",
        "  if(j==total-30):\n",
        "    break"
      ],
      "metadata": {
        "id": "RWjM1Zj15tkJ"
      },
      "execution_count": 9,
      "outputs": []
    },
    {
      "cell_type": "code",
      "source": [
        "df1=pd.DataFrame(D1)\n",
        "df2=pd.DataFrame(D2)\n",
        "df3=pd.DataFrame(D3)\n",
        "df4=pd.DataFrame(D4)\n",
        "df5=pd.DataFrame(D5)\n",
        "df6=pd.DataFrame(D6)\n",
        "df7=pd.DataFrame(D7)\n",
        "df8=pd.DataFrame(D8)\n",
        "df9=pd.DataFrame(D9)\n",
        "df10=pd.DataFrame(D10)\n",
        "df11=pd.DataFrame(D11)\n",
        "df12=pd.DataFrame(D12)\n",
        "df13=pd.DataFrame(D13)\n",
        "df14=pd.DataFrame(D14)\n",
        "df15=pd.DataFrame(D15)\n",
        "df16=pd.DataFrame(D16)\n",
        "df17=pd.DataFrame(D17)\n",
        "df18=pd.DataFrame(D18)\n",
        "df19=pd.DataFrame(D19)\n",
        "df20=pd.DataFrame(D20)\n",
        "df21=pd.DataFrame(D21)\n",
        "df22=pd.DataFrame(D22)\n",
        "df23=pd.DataFrame(D23)\n",
        "df24=pd.DataFrame(D24)\n",
        "df25=pd.DataFrame(D25)\n",
        "df26=pd.DataFrame(D26)\n",
        "df27=pd.DataFrame(D27)\n",
        "df28=pd.DataFrame(D28)\n",
        "df29=pd.DataFrame(D29)\n",
        "df30=pd.DataFrame(D30)\n",
        "dfalldays=pd.DataFrame()\n",
        "dfalldays['D1']=df1\n",
        "dfalldays['D2']=df2\n",
        "dfalldays['D3']=df3\n",
        "dfalldays['D4']=df4\n",
        "dfalldays['D5']=df5\n",
        "dfalldays['D6']=df6\n",
        "dfalldays['D7']=df7\n",
        "dfalldays['D8']=df8\n",
        "dfalldays['D9']=df9\n",
        "dfalldays['D10']=df10\n",
        "dfalldays['D11']=df11\n",
        "dfalldays['D12']=df12\n",
        "dfalldays['D13']=df13\n",
        "dfalldays['D14']=df14\n",
        "dfalldays['D15']=df15\n",
        "dfalldays['D16']=df16\n",
        "dfalldays['D17']=df17\n",
        "dfalldays['D18']=df18\n",
        "dfalldays['D19']=df19\n",
        "dfalldays['D20']=df20\n",
        "dfalldays['D21']=df21\n",
        "dfalldays['D22']=df22\n",
        "dfalldays['D23']=df23\n",
        "dfalldays['D24']=df24\n",
        "dfalldays['D25']=df25\n",
        "dfalldays['D26']=df26\n",
        "dfalldays['D27']=df27\n",
        "dfalldays['D28']=df28\n",
        "dfalldays['D29']=df29\n",
        "dfalldays['D30']=df30"
      ],
      "metadata": {
        "id": "5kWPb2G47oWA"
      },
      "execution_count": 10,
      "outputs": []
    },
    {
      "cell_type": "code",
      "execution_count": 11,
      "metadata": {
        "id": "EvkmdkNA577M"
      },
      "outputs": [],
      "source": [
        "DIFF=[]\n",
        "PERCDIFF=[]\n",
        "TARGET=[]\n",
        "counter=0\n",
        "for i in range(0,total):\n",
        "  #print(\"i is\",i)\n",
        "  diff=Close_list[i]-Close_list[i-1]\n",
        "  DIFF.append(diff)\n",
        "  percdiff=(diff*100)/Close_list[i]\n",
        "  PERCDIFF.append(percdiff)\n",
        "  if(percdiff>0.5):\n",
        "    TARGET.append('pos')\n",
        "  else:\n",
        "    TARGET.append('notpos')"
      ]
    },
    {
      "cell_type": "code",
      "source": [
        "df1=pd.DataFrame(DIFF)\n",
        "df2=pd.DataFrame(PERCDIFF)\n",
        "df3=pd.DataFrame(TARGET)\n",
        "df['DIFF']=df1\n",
        "df['PERCDIFF']=df2\n",
        "df['TARGET']=df3\n",
        "df=df[1:]"
      ],
      "metadata": {
        "id": "yT7_ZgYhCr_r"
      },
      "execution_count": 12,
      "outputs": []
    },
    {
      "cell_type": "code",
      "source": [
        "df0=df\n",
        "df0['TARGET']= np.where(df0['TARGET']=='pos','1',(np.where(df0['TARGET']=='neg','-1','0')))\n",
        "#df0.head()\n",
        "df0.groupby('TARGET').size()"
      ],
      "metadata": {
        "colab": {
          "base_uri": "https://localhost:8080/"
        },
        "outputId": "5df9c612-0bf7-4f88-a5f7-8741d3eca254",
        "id": "ekJruVQBHZ8L"
      },
      "execution_count": 13,
      "outputs": [
        {
          "output_type": "stream",
          "name": "stderr",
          "text": [
            "<ipython-input-13-4b86730b3479>:2: SettingWithCopyWarning: \n",
            "A value is trying to be set on a copy of a slice from a DataFrame.\n",
            "Try using .loc[row_indexer,col_indexer] = value instead\n",
            "\n",
            "See the caveats in the documentation: https://pandas.pydata.org/pandas-docs/stable/user_guide/indexing.html#returning-a-view-versus-a-copy\n",
            "  df0['TARGET']= np.where(df0['TARGET']=='pos','1',(np.where(df0['TARGET']=='neg','-1','0')))\n"
          ]
        },
        {
          "output_type": "execute_result",
          "data": {
            "text/plain": [
              "TARGET\n",
              "0    3199\n",
              "1    2055\n",
              "dtype: int64"
            ]
          },
          "metadata": {},
          "execution_count": 13
        }
      ]
    },
    {
      "cell_type": "markdown",
      "source": [
        "#Explore the class distribution"
      ],
      "metadata": {
        "id": "qVWaypsm0tL0"
      }
    },
    {
      "cell_type": "code",
      "execution_count": 14,
      "metadata": {
        "colab": {
          "base_uri": "https://localhost:8080/",
          "height": 384
        },
        "id": "DoM6-z2FdU4P",
        "outputId": "94ca2dd9-8124-4bfc-dc23-9237544a7991"
      },
      "outputs": [
        {
          "output_type": "stream",
          "name": "stderr",
          "text": [
            "/usr/local/lib/python3.9/dist-packages/seaborn/_decorators.py:36: FutureWarning: Pass the following variable as a keyword arg: x. From version 0.12, the only valid positional argument will be `data`, and passing other arguments without an explicit keyword will result in an error or misinterpretation.\n",
            "  warnings.warn(\n"
          ]
        },
        {
          "output_type": "execute_result",
          "data": {
            "text/plain": [
              "<AxesSubplot:xlabel='TARGET', ylabel='count'>"
            ]
          },
          "metadata": {},
          "execution_count": 14
        },
        {
          "output_type": "execute_result",
          "data": {
            "text/plain": [
              "Text(0.5, 0, 'TARGET')"
            ]
          },
          "metadata": {},
          "execution_count": 14
        },
        {
          "output_type": "execute_result",
          "data": {
            "text/plain": [
              "Text(0.5, 1.0, 'Number of positive negative and neutral messages')"
            ]
          },
          "metadata": {},
          "execution_count": 14
        },
        {
          "output_type": "display_data",
          "data": {
            "text/plain": [
              "<Figure size 432x288 with 1 Axes>"
            ],
            "image/png": "[encoded data removed]"
          },
          "metadata": {
            "needs_background": "light"
          }
        }
      ],
      "source": [
        "sns.countplot(df0['TARGET'])\n",
        "plt.xlabel('TARGET')\n",
        "plt.title('Number of positive negative and neutral messages')"
      ]
    },
    {
      "cell_type": "code",
      "source": [
        "#DUMMY CODING USING THE LOOP STRUCTURE\n",
        "for col in df.columns:\n",
        "  if df[col].dtype=='object':\n",
        "    df[col]=pd.Categorical(df[col]).codes\n",
        "df.head(5)"
      ],
      "metadata": {
        "colab": {
          "base_uri": "https://localhost:8080/",
          "height": 317
        },
        "id": "wCnI0v6sDOFw",
        "outputId": "27440c96-5cb8-48f4-8b31-9f42271d403e"
      },
      "execution_count": 15,
      "outputs": [
        {
          "output_type": "execute_result",
          "data": {
            "text/plain": [
              "   Date  Prev Close   Open   High     Low    Last   Close    VWAP    Volume  \\\n",
              "2     0      246.95  229.0  240.0  227.20  228.00  228.40  233.75   73681.0   \n",
              "3     1      228.40  235.1  239.0  217.00  224.95  225.90  226.84  105799.0   \n",
              "4     2      225.90  213.0  219.0  207.85  207.85  208.85  209.94   40202.0   \n",
              "5     3      208.85  215.0  219.0  192.15  192.15  192.15  196.47   24463.0   \n",
              "6     4      192.15  180.2  180.2  176.80  176.80  176.80  176.98   12408.0   \n",
              "\n",
              "       Turnover  ...       SMA_7      SMA_13      SMA_20       EMA_3  \\\n",
              "2  2.473093e+12  ...  234.900000  234.900000  234.900000  233.275000   \n",
              "3  9.119546e+11  ...  232.650000  232.650000  232.650000  229.587500   \n",
              "4  5.135747e+11  ...  227.890000  227.890000  227.890000  219.218750   \n",
              "5  2.437804e+11  ...  221.933333  221.933333  221.933333  205.684375   \n",
              "6  2.699472e+11  ...  215.485714  215.485714  215.485714  191.242188   \n",
              "\n",
              "        EMA_7      EMA_13      EMA_20   DIFF  PERCDIFF  TARGET  \n",
              "2  232.412500  231.369388  230.776077 -18.55 -8.121716       0  \n",
              "3  230.784375  230.588047  230.311689  -2.50 -1.106684       0  \n",
              "4  225.300781  227.482611  228.267718 -17.05 -8.163754       0  \n",
              "5  217.013086  222.435095  224.827936 -16.70 -8.691127       0  \n",
              "6  206.959814  215.915796  220.253847 -15.35 -8.682127       0  \n",
              "\n",
              "[5 rows x 21 columns]"
            ],
            "text/html": [
              "\n",
              "  <div id=\"df-1b1192fc-2563-4a22-abaf-31a1f89b0739\">\n",
              "    <div class=\"colab-df-container\">\n",
              "      <div>\n",
              "<style scoped>\n",
              "    .dataframe tbody tr th:only-of-type {\n",
              "        vertical-align: middle;\n",
              "    }\n",
              "\n",
              "    .dataframe tbody tr th {\n",
              "        vertical-align: top;\n",
              "    }\n",
              "\n",
              "    .dataframe thead th {\n",
              "        text-align: right;\n",
              "    }\n",
              "</style>\n",
              "<table border=\"1\" class=\"dataframe\">\n",
              "  <thead>\n",
              "    <tr style=\"text-align: right;\">\n",
              "      <th></th>\n",
              "      <th>Date</th>\n",
              "      <th>Prev Close</th>\n",
              "      <th>Open</th>\n",
              "      <th>High</th>\n",
              "      <th>Low</th>\n",
              "      <th>Last</th>\n",
              "      <th>Close</th>\n",
              "      <th>VWAP</th>\n",
              "      <th>Volume</th>\n",
              "      <th>Turnover</th>\n",
              "      <th>...</th>\n",
              "      <th>SMA_7</th>\n",
              "      <th>SMA_13</th>\n",
              "      <th>SMA_20</th>\n",
              "      <th>EMA_3</th>\n",
              "      <th>EMA_7</th>\n",
              "      <th>EMA_13</th>\n",
              "      <th>EMA_20</th>\n",
              "      <th>DIFF</th>\n",
              "      <th>PERCDIFF</th>\n",
              "      <th>TARGET</th>\n",
              "    </tr>\n",
              "  </thead>\n",
              "  <tbody>\n",
              "    <tr>\n",
              "      <th>2</th>\n",
              "      <td>0</td>\n",
              "      <td>246.95</td>\n",
              "      <td>229.0</td>\n",
              "      <td>240.0</td>\n",
              "      <td>227.20</td>\n",
              "      <td>228.00</td>\n",
              "      <td>228.40</td>\n",
              "      <td>233.75</td>\n",
              "      <td>73681.0</td>\n",
              "      <td>2.473093e+12</td>\n",
              "      <td>...</td>\n",
              "      <td>234.900000</td>\n",
              "      <td>234.900000</td>\n",
              "      <td>234.900000</td>\n",
              "      <td>233.275000</td>\n",
              "      <td>232.412500</td>\n",
              "      <td>231.369388</td>\n",
              "      <td>230.776077</td>\n",
              "      <td>-18.55</td>\n",
              "      <td>-8.121716</td>\n",
              "      <td>0</td>\n",
              "    </tr>\n",
              "    <tr>\n",
              "      <th>3</th>\n",
              "      <td>1</td>\n",
              "      <td>228.40</td>\n",
              "      <td>235.1</td>\n",
              "      <td>239.0</td>\n",
              "      <td>217.00</td>\n",
              "      <td>224.95</td>\n",
              "      <td>225.90</td>\n",
              "      <td>226.84</td>\n",
              "      <td>105799.0</td>\n",
              "      <td>9.119546e+11</td>\n",
              "      <td>...</td>\n",
              "      <td>232.650000</td>\n",
              "      <td>232.650000</td>\n",
              "      <td>232.650000</td>\n",
              "      <td>229.587500</td>\n",
              "      <td>230.784375</td>\n",
              "      <td>230.588047</td>\n",
              "      <td>230.311689</td>\n",
              "      <td>-2.50</td>\n",
              "      <td>-1.106684</td>\n",
              "      <td>0</td>\n",
              "    </tr>\n",
              "    <tr>\n",
              "      <th>4</th>\n",
              "      <td>2</td>\n",
              "      <td>225.90</td>\n",
              "      <td>213.0</td>\n",
              "      <td>219.0</td>\n",
              "      <td>207.85</td>\n",
              "      <td>207.85</td>\n",
              "      <td>208.85</td>\n",
              "      <td>209.94</td>\n",
              "      <td>40202.0</td>\n",
              "      <td>5.135747e+11</td>\n",
              "      <td>...</td>\n",
              "      <td>227.890000</td>\n",
              "      <td>227.890000</td>\n",
              "      <td>227.890000</td>\n",
              "      <td>219.218750</td>\n",
              "      <td>225.300781</td>\n",
              "      <td>227.482611</td>\n",
              "      <td>228.267718</td>\n",
              "      <td>-17.05</td>\n",
              "      <td>-8.163754</td>\n",
              "      <td>0</td>\n",
              "    </tr>\n",
              "    <tr>\n",
              "      <th>5</th>\n",
              "      <td>3</td>\n",
              "      <td>208.85</td>\n",
              "      <td>215.0</td>\n",
              "      <td>219.0</td>\n",
              "      <td>192.15</td>\n",
              "      <td>192.15</td>\n",
              "      <td>192.15</td>\n",
              "      <td>196.47</td>\n",
              "      <td>24463.0</td>\n",
              "      <td>2.437804e+11</td>\n",
              "      <td>...</td>\n",
              "      <td>221.933333</td>\n",
              "      <td>221.933333</td>\n",
              "      <td>221.933333</td>\n",
              "      <td>205.684375</td>\n",
              "      <td>217.013086</td>\n",
              "      <td>222.435095</td>\n",
              "      <td>224.827936</td>\n",
              "      <td>-16.70</td>\n",
              "      <td>-8.691127</td>\n",
              "      <td>0</td>\n",
              "    </tr>\n",
              "    <tr>\n",
              "      <th>6</th>\n",
              "      <td>4</td>\n",
              "      <td>192.15</td>\n",
              "      <td>180.2</td>\n",
              "      <td>180.2</td>\n",
              "      <td>176.80</td>\n",
              "      <td>176.80</td>\n",
              "      <td>176.80</td>\n",
              "      <td>176.98</td>\n",
              "      <td>12408.0</td>\n",
              "      <td>2.699472e+11</td>\n",
              "      <td>...</td>\n",
              "      <td>215.485714</td>\n",
              "      <td>215.485714</td>\n",
              "      <td>215.485714</td>\n",
              "      <td>191.242188</td>\n",
              "      <td>206.959814</td>\n",
              "      <td>215.915796</td>\n",
              "      <td>220.253847</td>\n",
              "      <td>-15.35</td>\n",
              "      <td>-8.682127</td>\n",
              "      <td>0</td>\n",
              "    </tr>\n",
              "  </tbody>\n",
              "</table>\n",
              "<p>5 rows × 21 columns</p>\n",
              "</div>\n",
              "      <button class=\"colab-df-convert\" onclick=\"convertToInteractive('df-1b1192fc-2563-4a22-abaf-31a1f89b0739')\"\n",
              "              title=\"Convert this dataframe to an interactive table.\"\n",
              "              style=\"display:none;\">\n",
              "        \n",
              "  <svg xmlns=\"http://www.w3.org/2000/svg\" height=\"24px\"viewBox=\"0 0 24 24\"\n",
              "       width=\"24px\">\n",
              "    <path d=\"M0 0h24v24H0V0z\" fill=\"none\"/>\n",
              "    <path d=\"M18.56 5.44l.94 2.06.94-2.06 2.06-.94-2.06-.94-.94-2.06-.94 2.06-2.06.94zm-11 1L8.5 8.5l.94-2.06 2.06-.94-2.06-.94L8.5 2.5l-.94 2.06-2.06.94zm10 10l.94 2.06.94-2.06 2.06-.94-2.06-.94-.94-2.06-.94 2.06-2.06.94z\"/><path d=\"M17.41 7.96l-1.37-1.37c-.4-.4-.92-.59-1.43-.59-.52 0-1.04.2-1.43.59L10.3 9.45l-7.72 7.72c-.78.78-.78 2.05 0 2.83L4 21.41c.39.39.9.59 1.41.59.51 0 1.02-.2 1.41-.59l7.78-7.78 2.81-2.81c.8-.78.8-2.07 0-2.86zM5.41 20L4 18.59l7.72-7.72 1.47 1.35L5.41 20z\"/>\n",
              "  </svg>\n",
              "      </button>\n",
              "      \n",
              "  <style>\n",
              "    .colab-df-container {\n",
              "      display:flex;\n",
              "      flex-wrap:wrap;\n",
              "      gap: 12px;\n",
              "    }\n",
              "\n",
              "    .colab-df-convert {\n",
              "      background-color: #E8F0FE;\n",
              "      border: none;\n",
              "      border-radius: 50%;\n",
              "      cursor: pointer;\n",
              "      display: none;\n",
              "      fill: #1967D2;\n",
              "      height: 32px;\n",
              "      padding: 0 0 0 0;\n",
              "      width: 32px;\n",
              "    }\n",
              "\n",
              "    .colab-df-convert:hover {\n",
              "      background-color: #E2EBFA;\n",
              "      box-shadow: 0px 1px 2px rgba(60, 64, 67, 0.3), 0px 1px 3px 1px rgba(60, 64, 67, 0.15);\n",
              "      fill: #174EA6;\n",
              "    }\n",
              "\n",
              "    [theme=dark] .colab-df-convert {\n",
              "      background-color: #3B4455;\n",
              "      fill: #D2E3FC;\n",
              "    }\n",
              "\n",
              "    [theme=dark] .colab-df-convert:hover {\n",
              "      background-color: #434B5C;\n",
              "      box-shadow: 0px 1px 3px 1px rgba(0, 0, 0, 0.15);\n",
              "      filter: drop-shadow(0px 1px 2px rgba(0, 0, 0, 0.3));\n",
              "      fill: #FFFFFF;\n",
              "    }\n",
              "  </style>\n",
              "\n",
              "      <script>\n",
              "        const buttonEl =\n",
              "          document.querySelector('#df-1b1192fc-2563-4a22-abaf-31a1f89b0739 button.colab-df-convert');\n",
              "        buttonEl.style.display =\n",
              "          google.colab.kernel.accessAllowed ? 'block' : 'none';\n",
              "\n",
              "        async function convertToInteractive(key) {\n",
              "          const element = document.querySelector('#df-1b1192fc-2563-4a22-abaf-31a1f89b0739');\n",
              "          const dataTable =\n",
              "            await google.colab.kernel.invokeFunction('convertToInteractive',\n",
              "                                                     [key], {});\n",
              "          if (!dataTable) return;\n",
              "\n",
              "          const docLinkHtml = 'Like what you see? Visit the ' +\n",
              "            '<a target=\"_blank\" href=https://colab.research.google.com/notebooks/data_table.ipynb>data table notebook</a>'\n",
              "            + ' to learn more about interactive tables.';\n",
              "          element.innerHTML = '';\n",
              "          dataTable['output_type'] = 'display_data';\n",
              "          await google.colab.output.renderOutput(dataTable, element);\n",
              "          const docLink = document.createElement('div');\n",
              "          docLink.innerHTML = docLinkHtml;\n",
              "          element.appendChild(docLink);\n",
              "        }\n",
              "      </script>\n",
              "    </div>\n",
              "  </div>\n",
              "  "
            ]
          },
          "metadata": {},
          "execution_count": 15
        }
      ]
    },
    {
      "cell_type": "code",
      "source": [
        "features = ['Open','High','Low','Volume','Close']\n",
        "df.dropna(inplace=True)\n",
        "output_var = df['TARGET']\n",
        "df[features].info()\n",
        "df[features].head()"
      ],
      "metadata": {
        "colab": {
          "base_uri": "https://localhost:8080/",
          "height": 414
        },
        "id": "x9qLUQN22ux5",
        "outputId": "13c05dd6-e3a3-4cd9-c953-77c2027ecf48"
      },
      "execution_count": 16,
      "outputs": [
        {
          "output_type": "stream",
          "name": "stdout",
          "text": [
            "<class 'pandas.core.frame.DataFrame'>\n",
            "Int64Index: 5254 entries, 2 to 5255\n",
            "Data columns (total 5 columns):\n",
            " #   Column  Non-Null Count  Dtype  \n",
            "---  ------  --------------  -----  \n",
            " 0   Open    5254 non-null   float64\n",
            " 1   High    5254 non-null   float64\n",
            " 2   Low     5254 non-null   float64\n",
            " 3   Volume  5254 non-null   float64\n",
            " 4   Close   5254 non-null   float64\n",
            "dtypes: float64(5)\n",
            "memory usage: 246.3 KB\n"
          ]
        },
        {
          "output_type": "execute_result",
          "data": {
            "text/plain": [
              "    Open   High     Low    Volume   Close\n",
              "2  229.0  240.0  227.20   73681.0  228.40\n",
              "3  235.1  239.0  217.00  105799.0  225.90\n",
              "4  213.0  219.0  207.85   40202.0  208.85\n",
              "5  215.0  219.0  192.15   24463.0  192.15\n",
              "6  180.2  180.2  176.80   12408.0  176.80"
            ],
            "text/html": [
              "\n",
              "  <div id=\"df-5d94f794-41f1-4de6-a871-3c7a02bc7664\">\n",
              "    <div class=\"colab-df-container\">\n",
              "      <div>\n",
              "<style scoped>\n",
              "    .dataframe tbody tr th:only-of-type {\n",
              "        vertical-align: middle;\n",
              "    }\n",
              "\n",
              "    .dataframe tbody tr th {\n",
              "        vertical-align: top;\n",
              "    }\n",
              "\n",
              "    .dataframe thead th {\n",
              "        text-align: right;\n",
              "    }\n",
              "</style>\n",
              "<table border=\"1\" class=\"dataframe\">\n",
              "  <thead>\n",
              "    <tr style=\"text-align: right;\">\n",
              "      <th></th>\n",
              "      <th>Open</th>\n",
              "      <th>High</th>\n",
              "      <th>Low</th>\n",
              "      <th>Volume</th>\n",
              "      <th>Close</th>\n",
              "    </tr>\n",
              "  </thead>\n",
              "  <tbody>\n",
              "    <tr>\n",
              "      <th>2</th>\n",
              "      <td>229.0</td>\n",
              "      <td>240.0</td>\n",
              "      <td>227.20</td>\n",
              "      <td>73681.0</td>\n",
              "      <td>228.40</td>\n",
              "    </tr>\n",
              "    <tr>\n",
              "      <th>3</th>\n",
              "      <td>235.1</td>\n",
              "      <td>239.0</td>\n",
              "      <td>217.00</td>\n",
              "      <td>105799.0</td>\n",
              "      <td>225.90</td>\n",
              "    </tr>\n",
              "    <tr>\n",
              "      <th>4</th>\n",
              "      <td>213.0</td>\n",
              "      <td>219.0</td>\n",
              "      <td>207.85</td>\n",
              "      <td>40202.0</td>\n",
              "      <td>208.85</td>\n",
              "    </tr>\n",
              "    <tr>\n",
              "      <th>5</th>\n",
              "      <td>215.0</td>\n",
              "      <td>219.0</td>\n",
              "      <td>192.15</td>\n",
              "      <td>24463.0</td>\n",
              "      <td>192.15</td>\n",
              "    </tr>\n",
              "    <tr>\n",
              "      <th>6</th>\n",
              "      <td>180.2</td>\n",
              "      <td>180.2</td>\n",
              "      <td>176.80</td>\n",
              "      <td>12408.0</td>\n",
              "      <td>176.80</td>\n",
              "    </tr>\n",
              "  </tbody>\n",
              "</table>\n",
              "</div>\n",
              "      <button class=\"colab-df-convert\" onclick=\"convertToInteractive('df-5d94f794-41f1-4de6-a871-3c7a02bc7664')\"\n",
              "              title=\"Convert this dataframe to an interactive table.\"\n",
              "              style=\"display:none;\">\n",
              "        \n",
              "  <svg xmlns=\"http://www.w3.org/2000/svg\" height=\"24px\"viewBox=\"0 0 24 24\"\n",
              "       width=\"24px\">\n",
              "    <path d=\"M0 0h24v24H0V0z\" fill=\"none\"/>\n",
              "    <path d=\"M18.56 5.44l.94 2.06.94-2.06 2.06-.94-2.06-.94-.94-2.06-.94 2.06-2.06.94zm-11 1L8.5 8.5l.94-2.06 2.06-.94-2.06-.94L8.5 2.5l-.94 2.06-2.06.94zm10 10l.94 2.06.94-2.06 2.06-.94-2.06-.94-.94-2.06-.94 2.06-2.06.94z\"/><path d=\"M17.41 7.96l-1.37-1.37c-.4-.4-.92-.59-1.43-.59-.52 0-1.04.2-1.43.59L10.3 9.45l-7.72 7.72c-.78.78-.78 2.05 0 2.83L4 21.41c.39.39.9.59 1.41.59.51 0 1.02-.2 1.41-.59l7.78-7.78 2.81-2.81c.8-.78.8-2.07 0-2.86zM5.41 20L4 18.59l7.72-7.72 1.47 1.35L5.41 20z\"/>\n",
              "  </svg>\n",
              "      </button>\n",
              "      \n",
              "  <style>\n",
              "    .colab-df-container {\n",
              "      display:flex;\n",
              "      flex-wrap:wrap;\n",
              "      gap: 12px;\n",
              "    }\n",
              "\n",
              "    .colab-df-convert {\n",
              "      background-color: #E8F0FE;\n",
              "      border: none;\n",
              "      border-radius: 50%;\n",
              "      cursor: pointer;\n",
              "      display: none;\n",
              "      fill: #1967D2;\n",
              "      height: 32px;\n",
              "      padding: 0 0 0 0;\n",
              "      width: 32px;\n",
              "    }\n",
              "\n",
              "    .colab-df-convert:hover {\n",
              "      background-color: #E2EBFA;\n",
              "      box-shadow: 0px 1px 2px rgba(60, 64, 67, 0.3), 0px 1px 3px 1px rgba(60, 64, 67, 0.15);\n",
              "      fill: #174EA6;\n",
              "    }\n",
              "\n",
              "    [theme=dark] .colab-df-convert {\n",
              "      background-color: #3B4455;\n",
              "      fill: #D2E3FC;\n",
              "    }\n",
              "\n",
              "    [theme=dark] .colab-df-convert:hover {\n",
              "      background-color: #434B5C;\n",
              "      box-shadow: 0px 1px 3px 1px rgba(0, 0, 0, 0.15);\n",
              "      filter: drop-shadow(0px 1px 2px rgba(0, 0, 0, 0.3));\n",
              "      fill: #FFFFFF;\n",
              "    }\n",
              "  </style>\n",
              "\n",
              "      <script>\n",
              "        const buttonEl =\n",
              "          document.querySelector('#df-5d94f794-41f1-4de6-a871-3c7a02bc7664 button.colab-df-convert');\n",
              "        buttonEl.style.display =\n",
              "          google.colab.kernel.accessAllowed ? 'block' : 'none';\n",
              "\n",
              "        async function convertToInteractive(key) {\n",
              "          const element = document.querySelector('#df-5d94f794-41f1-4de6-a871-3c7a02bc7664');\n",
              "          const dataTable =\n",
              "            await google.colab.kernel.invokeFunction('convertToInteractive',\n",
              "                                                     [key], {});\n",
              "          if (!dataTable) return;\n",
              "\n",
              "          const docLinkHtml = 'Like what you see? Visit the ' +\n",
              "            '<a target=\"_blank\" href=https://colab.research.google.com/notebooks/data_table.ipynb>data table notebook</a>'\n",
              "            + ' to learn more about interactive tables.';\n",
              "          element.innerHTML = '';\n",
              "          dataTable['output_type'] = 'display_data';\n",
              "          await google.colab.output.renderOutput(dataTable, element);\n",
              "          const docLink = document.createElement('div');\n",
              "          docLink.innerHTML = docLinkHtml;\n",
              "          element.appendChild(docLink);\n",
              "        }\n",
              "      </script>\n",
              "    </div>\n",
              "  </div>\n",
              "  "
            ]
          },
          "metadata": {},
          "execution_count": 16
        }
      ]
    },
    {
      "cell_type": "code",
      "source": [
        "!pip install ta\n",
        "import ta\n",
        "from ta import add_all_ta_features"
      ],
      "metadata": {
        "id": "yx68E6wyZtEF",
        "colab": {
          "base_uri": "https://localhost:8080/"
        },
        "outputId": "8b6ee7ef-cd3f-442d-8187-7c6cccd7984f"
      },
      "execution_count": 17,
      "outputs": [
        {
          "output_type": "stream",
          "name": "stdout",
          "text": [
            "Looking in indexes: https://pypi.org/simple, https://us-python.pkg.dev/colab-wheels/public/simple/\n",
            "Collecting ta\n",
            "  Downloading ta-0.10.2.tar.gz (25 kB)\n",
            "  Preparing metadata (setup.py) ... \u001b[?25l\u001b[?25hdone\n",
            "Requirement already satisfied: numpy in /usr/local/lib/python3.9/dist-packages (from ta) (1.22.4)\n",
            "Requirement already satisfied: pandas in /usr/local/lib/python3.9/dist-packages (from ta) (1.3.5)\n",
            "Requirement already satisfied: pytz>=2017.3 in /usr/local/lib/python3.9/dist-packages (from pandas->ta) (2022.7.1)\n",
            "Requirement already satisfied: python-dateutil>=2.7.3 in /usr/local/lib/python3.9/dist-packages (from pandas->ta) (2.8.2)\n",
            "Requirement already satisfied: six>=1.5 in /usr/local/lib/python3.9/dist-packages (from python-dateutil>=2.7.3->pandas->ta) (1.15.0)\n",
            "Building wheels for collected packages: ta\n",
            "  Building wheel for ta (setup.py) ... \u001b[?25l\u001b[?25hdone\n",
            "  Created wheel for ta: filename=ta-0.10.2-py3-none-any.whl size=29106 sha256=2477f7657f16ad548cc15148cd5f17ae849ff2eff16412c58fdcc1d9a76f251a\n",
            "  Stored in directory: /root/.cache/pip/wheels/6a/76/03/7f785aaa50b9c6ec7e3fd105a62c1b2c45a034512d51e024a9\n",
            "Successfully built ta\n",
            "Installing collected packages: ta\n",
            "Successfully installed ta-0.10.2\n"
          ]
        }
      ]
    },
    {
      "cell_type": "code",
      "source": [
        "# add technical analysis features\n",
        "data = add_all_ta_features(\n",
        "    df, open=\"Open\", high=\"High\", low=\"Low\", close=\"Close\", volume=\"Volume\")\n"
      ],
      "metadata": {
        "id": "7HtmH8H8a5lP",
        "colab": {
          "base_uri": "https://localhost:8080/"
        },
        "outputId": "026d41d2-433e-444f-89a7-8e9ee489e3be"
      },
      "execution_count": 18,
      "outputs": [
        {
          "output_type": "stream",
          "name": "stderr",
          "text": [
            "/usr/local/lib/python3.9/dist-packages/ta/trend.py:780: RuntimeWarning: invalid value encountered in double_scalars\n",
            "  dip[idx] = 100 * (self._dip[idx] / value)\n",
            "/usr/local/lib/python3.9/dist-packages/ta/trend.py:785: RuntimeWarning: invalid value encountered in double_scalars\n",
            "  din[idx] = 100 * (self._din[idx] / value)\n"
          ]
        }
      ]
    },
    {
      "cell_type": "code",
      "source": [
        "from ta.momentum import AwesomeOscillatorIndicator,KAMAIndicator,PercentagePriceOscillator\n",
        "from ta.momentum import PercentageVolumeOscillator,ROCIndicator,RSIIndicator\n",
        "from ta.momentum import StochasticOscillator,TSIIndicator,UltimateOscillator,WilliamsRIndicator\n",
        "aw_osc=AwesomeOscillatorIndicator(high=data.High,low=data.Low)\n",
        "data[\"aw_osc\"] = aw_osc.awesome_oscillator()\n",
        "kama=KAMAIndicator(close = data.Close)\n",
        "data[\"kama\"] = kama.kama()\n",
        "pp_osc=PercentagePriceOscillator(close = data.Close)\n",
        "data[\"pp_osc\"] = pp_osc.ppo()\n",
        "pv_osc=PercentageVolumeOscillator(volume=data.Volume)\n",
        "data[\"pv_osc\"] = pv_osc.pvo()\n",
        "roc=ROCIndicator(close = data.Close)\n",
        "data[\"roc\"] = roc.roc()\n",
        "rsi = RSIIndicator(close = data.Close)\n",
        "data[\"rsi\"] = rsi.rsi()\n",
        "Stoc_osc=StochasticOscillator(close = data.Close,high=data.High,low=data.Low)\n",
        "data[\"Stoc_osc\"] = Stoc_osc.stoch()\n",
        "Tsth_index =TSIIndicator(close = data.Close)\n",
        "data[\"Tsth_index\"] = Tsth_index.tsi()\n",
        "ult_osc=UltimateOscillator(close = data.Close,high=data.High,low=data.Low)\n",
        "data[\"ult_osc\"] = ult_osc.ultimate_oscillator()\n",
        "wlms=WilliamsRIndicator(close = data.Close,high=data.High,low=data.Low)\n",
        "data[\"wlms\"] = wlms.williams_r()"
      ],
      "metadata": {
        "id": "_WVt8wLtZznm"
      },
      "execution_count": 19,
      "outputs": []
    },
    {
      "cell_type": "code",
      "source": [
        "features = ['aw_osc','kama','pp_osc','pv_osc','roc','rsi','Stoc_osc','Tsth_index','ult_osc','wlms','SMA_3','SMA_7','SMA_13','SMA_20','EMA_3','EMA_7','EMA_13','EMA_20']\n",
        "features_30days=['D1','D2','D3','D4','D5','D6','D7','D8','D9','D10','D11','D12','D13','D14','D15','D16','D17','D18','D19','D20','D21','D22','D23','D24','D25','D26','D27','D28','D29','D30']\n",
        "df=df[features]\n",
        "df[\"output_var\"]=output_var\n",
        "total=len(features_30days)\n",
        "\n",
        "df.dropna(inplace=True)\n",
        "dfalldays=dfalldays[:df.shape[0]]\n",
        "df=df.reset_index()\n",
        "dfalldays=dfalldays.reset_index()\n",
        "for i in range(0,total):\n",
        "  df[features_30days[i]]=dfalldays[features_30days[i]]\n",
        "df=df.drop(['index'],axis=1)"
      ],
      "metadata": {
        "colab": {
          "base_uri": "https://localhost:8080/"
        },
        "id": "M56gT8EKgFQH",
        "outputId": "3a709cc6-b250-4512-d40f-64a09f05f26d"
      },
      "execution_count": 20,
      "outputs": [
        {
          "output_type": "stream",
          "name": "stderr",
          "text": [
            "<ipython-input-20-1880184b064e>:4: SettingWithCopyWarning: \n",
            "A value is trying to be set on a copy of a slice from a DataFrame.\n",
            "Try using .loc[row_indexer,col_indexer] = value instead\n",
            "\n",
            "See the caveats in the documentation: https://pandas.pydata.org/pandas-docs/stable/user_guide/indexing.html#returning-a-view-versus-a-copy\n",
            "  df[\"output_var\"]=output_var\n",
            "/usr/local/lib/python3.9/dist-packages/pandas/util/_decorators.py:311: SettingWithCopyWarning: \n",
            "A value is trying to be set on a copy of a slice from a DataFrame\n",
            "\n",
            "See the caveats in the documentation: https://pandas.pydata.org/pandas-docs/stable/user_guide/indexing.html#returning-a-view-versus-a-copy\n",
            "  return func(*args, **kwargs)\n"
          ]
        }
      ]
    },
    {
      "cell_type": "code",
      "source": [
        "df.dropna(inplace=True)\n",
        "df.info()"
      ],
      "metadata": {
        "colab": {
          "base_uri": "https://localhost:8080/"
        },
        "id": "fJoIDsrRtvCC",
        "outputId": "4aab7ced-d67a-4c98-d4a3-51baad5b9479"
      },
      "execution_count": 21,
      "outputs": [
        {
          "output_type": "stream",
          "name": "stdout",
          "text": [
            "<class 'pandas.core.frame.DataFrame'>\n",
            "Int64Index: 5217 entries, 0 to 5216\n",
            "Data columns (total 49 columns):\n",
            " #   Column      Non-Null Count  Dtype  \n",
            "---  ------      --------------  -----  \n",
            " 0   aw_osc      5217 non-null   float64\n",
            " 1   kama        5217 non-null   float64\n",
            " 2   pp_osc      5217 non-null   float64\n",
            " 3   pv_osc      5217 non-null   float64\n",
            " 4   roc         5217 non-null   float64\n",
            " 5   rsi         5217 non-null   float64\n",
            " 6   Stoc_osc    5217 non-null   float64\n",
            " 7   Tsth_index  5217 non-null   float64\n",
            " 8   ult_osc     5217 non-null   float64\n",
            " 9   wlms        5217 non-null   float64\n",
            " 10  SMA_3       5217 non-null   float64\n",
            " 11  SMA_7       5217 non-null   float64\n",
            " 12  SMA_13      5217 non-null   float64\n",
            " 13  SMA_20      5217 non-null   float64\n",
            " 14  EMA_3       5217 non-null   float64\n",
            " 15  EMA_7       5217 non-null   float64\n",
            " 16  EMA_13      5217 non-null   float64\n",
            " 17  EMA_20      5217 non-null   float64\n",
            " 18  output_var  5217 non-null   int8   \n",
            " 19  D1          5217 non-null   float64\n",
            " 20  D2          5217 non-null   float64\n",
            " 21  D3          5217 non-null   float64\n",
            " 22  D4          5217 non-null   float64\n",
            " 23  D5          5217 non-null   float64\n",
            " 24  D6          5217 non-null   float64\n",
            " 25  D7          5217 non-null   float64\n",
            " 26  D8          5217 non-null   float64\n",
            " 27  D9          5217 non-null   float64\n",
            " 28  D10         5217 non-null   float64\n",
            " 29  D11         5217 non-null   float64\n",
            " 30  D12         5217 non-null   float64\n",
            " 31  D13         5217 non-null   float64\n",
            " 32  D14         5217 non-null   float64\n",
            " 33  D15         5217 non-null   float64\n",
            " 34  D16         5217 non-null   float64\n",
            " 35  D17         5217 non-null   float64\n",
            " 36  D18         5217 non-null   float64\n",
            " 37  D19         5217 non-null   float64\n",
            " 38  D20         5217 non-null   float64\n",
            " 39  D21         5217 non-null   float64\n",
            " 40  D22         5217 non-null   float64\n",
            " 41  D23         5217 non-null   float64\n",
            " 42  D24         5217 non-null   float64\n",
            " 43  D25         5217 non-null   float64\n",
            " 44  D26         5217 non-null   float64\n",
            " 45  D27         5217 non-null   float64\n",
            " 46  D28         5217 non-null   float64\n",
            " 47  D29         5217 non-null   float64\n",
            " 48  D30         5217 non-null   float64\n",
            "dtypes: float64(48), int8(1)\n",
            "memory usage: 2.0 MB\n"
          ]
        }
      ]
    },
    {
      "cell_type": "code",
      "execution_count": 22,
      "metadata": {
        "colab": {
          "base_uri": "https://localhost:8080/",
          "height": 300
        },
        "id": "svvFg8gpOLfQ",
        "outputId": "d78a5fd7-8913-424f-ecb7-1c84d47d93a7"
      },
      "outputs": [
        {
          "output_type": "execute_result",
          "data": {
            "text/plain": [
              "     aw_osc      kama    pp_osc    pv_osc       roc       rsi  Stoc_osc  \\\n",
              "0  0.623829  0.062379  0.524643  0.444386  0.395783  0.307396  0.206747   \n",
              "1  0.619552  0.062118  0.514214  0.443871  0.385768  0.291482  0.147849   \n",
              "2  0.615473  0.061975  0.517990  0.470424  0.480773  0.387731  0.349462   \n",
              "3  0.616203  0.061992  0.534076  0.444463  0.568800  0.475313  0.567204   \n",
              "4  0.620062  0.062030  0.555145  0.448468  0.545114  0.522419  0.699821   \n",
              "\n",
              "   Tsth_index   ult_osc      wlms  ...       D21       D22       D23  \\\n",
              "0    0.328427  0.445957  0.206747  ...  0.093101  0.089163  0.082477   \n",
              "1    0.319032  0.399303  0.147849  ...  0.089163  0.082477  0.080920   \n",
              "2    0.326405  0.434675  0.349462  ...  0.082477  0.080920  0.075264   \n",
              "3    0.348386  0.538435  0.567204  ...  0.080920  0.075264  0.074508   \n",
              "4    0.375374  0.667462  0.699821  ...  0.075264  0.074508  0.069952   \n",
              "\n",
              "        D24       D25       D26       D27       D28       D29       D30  \n",
              "0  0.080920  0.075264  0.074508  0.069952  0.066494  0.065876  0.059625  \n",
              "1  0.075264  0.074508  0.069952  0.066494  0.065876  0.059625  0.056007  \n",
              "2  0.074508  0.069952  0.066494  0.065876  0.059625  0.056007  0.061503  \n",
              "3  0.069952  0.066494  0.065876  0.059625  0.056007  0.061503  0.067433  \n",
              "4  0.066494  0.065876  0.059625  0.056007  0.061503  0.067433  0.067570  \n",
              "\n",
              "[5 rows x 48 columns]"
            ],
            "text/html": [
              "\n",
              "  <div id=\"df-d08fc6f2-b75c-4b4d-bf8f-3b0262bfdb82\">\n",
              "    <div class=\"colab-df-container\">\n",
              "      <div>\n",
              "<style scoped>\n",
              "    .dataframe tbody tr th:only-of-type {\n",
              "        vertical-align: middle;\n",
              "    }\n",
              "\n",
              "    .dataframe tbody tr th {\n",
              "        vertical-align: top;\n",
              "    }\n",
              "\n",
              "    .dataframe thead th {\n",
              "        text-align: right;\n",
              "    }\n",
              "</style>\n",
              "<table border=\"1\" class=\"dataframe\">\n",
              "  <thead>\n",
              "    <tr style=\"text-align: right;\">\n",
              "      <th></th>\n",
              "      <th>aw_osc</th>\n",
              "      <th>kama</th>\n",
              "      <th>pp_osc</th>\n",
              "      <th>pv_osc</th>\n",
              "      <th>roc</th>\n",
              "      <th>rsi</th>\n",
              "      <th>Stoc_osc</th>\n",
              "      <th>Tsth_index</th>\n",
              "      <th>ult_osc</th>\n",
              "      <th>wlms</th>\n",
              "      <th>...</th>\n",
              "      <th>D21</th>\n",
              "      <th>D22</th>\n",
              "      <th>D23</th>\n",
              "      <th>D24</th>\n",
              "      <th>D25</th>\n",
              "      <th>D26</th>\n",
              "      <th>D27</th>\n",
              "      <th>D28</th>\n",
              "      <th>D29</th>\n",
              "      <th>D30</th>\n",
              "    </tr>\n",
              "  </thead>\n",
              "  <tbody>\n",
              "    <tr>\n",
              "      <th>0</th>\n",
              "      <td>0.623829</td>\n",
              "      <td>0.062379</td>\n",
              "      <td>0.524643</td>\n",
              "      <td>0.444386</td>\n",
              "      <td>0.395783</td>\n",
              "      <td>0.307396</td>\n",
              "      <td>0.206747</td>\n",
              "      <td>0.328427</td>\n",
              "      <td>0.445957</td>\n",
              "      <td>0.206747</td>\n",
              "      <td>...</td>\n",
              "      <td>0.093101</td>\n",
              "      <td>0.089163</td>\n",
              "      <td>0.082477</td>\n",
              "      <td>0.080920</td>\n",
              "      <td>0.075264</td>\n",
              "      <td>0.074508</td>\n",
              "      <td>0.069952</td>\n",
              "      <td>0.066494</td>\n",
              "      <td>0.065876</td>\n",
              "      <td>0.059625</td>\n",
              "    </tr>\n",
              "    <tr>\n",
              "      <th>1</th>\n",
              "      <td>0.619552</td>\n",
              "      <td>0.062118</td>\n",
              "      <td>0.514214</td>\n",
              "      <td>0.443871</td>\n",
              "      <td>0.385768</td>\n",
              "      <td>0.291482</td>\n",
              "      <td>0.147849</td>\n",
              "      <td>0.319032</td>\n",
              "      <td>0.399303</td>\n",
              "      <td>0.147849</td>\n",
              "      <td>...</td>\n",
              "      <td>0.089163</td>\n",
              "      <td>0.082477</td>\n",
              "      <td>0.080920</td>\n",
              "      <td>0.075264</td>\n",
              "      <td>0.074508</td>\n",
              "      <td>0.069952</td>\n",
              "      <td>0.066494</td>\n",
              "      <td>0.065876</td>\n",
              "      <td>0.059625</td>\n",
              "      <td>0.056007</td>\n",
              "    </tr>\n",
              "    <tr>\n",
              "      <th>2</th>\n",
              "      <td>0.615473</td>\n",
              "      <td>0.061975</td>\n",
              "      <td>0.517990</td>\n",
              "      <td>0.470424</td>\n",
              "      <td>0.480773</td>\n",
              "      <td>0.387731</td>\n",
              "      <td>0.349462</td>\n",
              "      <td>0.326405</td>\n",
              "      <td>0.434675</td>\n",
              "      <td>0.349462</td>\n",
              "      <td>...</td>\n",
              "      <td>0.082477</td>\n",
              "      <td>0.080920</td>\n",
              "      <td>0.075264</td>\n",
              "      <td>0.074508</td>\n",
              "      <td>0.069952</td>\n",
              "      <td>0.066494</td>\n",
              "      <td>0.065876</td>\n",
              "      <td>0.059625</td>\n",
              "      <td>0.056007</td>\n",
              "      <td>0.061503</td>\n",
              "    </tr>\n",
              "    <tr>\n",
              "      <th>3</th>\n",
              "      <td>0.616203</td>\n",
              "      <td>0.061992</td>\n",
              "      <td>0.534076</td>\n",
              "      <td>0.444463</td>\n",
              "      <td>0.568800</td>\n",
              "      <td>0.475313</td>\n",
              "      <td>0.567204</td>\n",
              "      <td>0.348386</td>\n",
              "      <td>0.538435</td>\n",
              "      <td>0.567204</td>\n",
              "      <td>...</td>\n",
              "      <td>0.080920</td>\n",
              "      <td>0.075264</td>\n",
              "      <td>0.074508</td>\n",
              "      <td>0.069952</td>\n",
              "      <td>0.066494</td>\n",
              "      <td>0.065876</td>\n",
              "      <td>0.059625</td>\n",
              "      <td>0.056007</td>\n",
              "      <td>0.061503</td>\n",
              "      <td>0.067433</td>\n",
              "    </tr>\n",
              "    <tr>\n",
              "      <th>4</th>\n",
              "      <td>0.620062</td>\n",
              "      <td>0.062030</td>\n",
              "      <td>0.555145</td>\n",
              "      <td>0.448468</td>\n",
              "      <td>0.545114</td>\n",
              "      <td>0.522419</td>\n",
              "      <td>0.699821</td>\n",
              "      <td>0.375374</td>\n",
              "      <td>0.667462</td>\n",
              "      <td>0.699821</td>\n",
              "      <td>...</td>\n",
              "      <td>0.075264</td>\n",
              "      <td>0.074508</td>\n",
              "      <td>0.069952</td>\n",
              "      <td>0.066494</td>\n",
              "      <td>0.065876</td>\n",
              "      <td>0.059625</td>\n",
              "      <td>0.056007</td>\n",
              "      <td>0.061503</td>\n",
              "      <td>0.067433</td>\n",
              "      <td>0.067570</td>\n",
              "    </tr>\n",
              "  </tbody>\n",
              "</table>\n",
              "<p>5 rows × 48 columns</p>\n",
              "</div>\n",
              "      <button class=\"colab-df-convert\" onclick=\"convertToInteractive('df-d08fc6f2-b75c-4b4d-bf8f-3b0262bfdb82')\"\n",
              "              title=\"Convert this dataframe to an interactive table.\"\n",
              "              style=\"display:none;\">\n",
              "        \n",
              "  <svg xmlns=\"http://www.w3.org/2000/svg\" height=\"24px\"viewBox=\"0 0 24 24\"\n",
              "       width=\"24px\">\n",
              "    <path d=\"M0 0h24v24H0V0z\" fill=\"none\"/>\n",
              "    <path d=\"M18.56 5.44l.94 2.06.94-2.06 2.06-.94-2.06-.94-.94-2.06-.94 2.06-2.06.94zm-11 1L8.5 8.5l.94-2.06 2.06-.94-2.06-.94L8.5 2.5l-.94 2.06-2.06.94zm10 10l.94 2.06.94-2.06 2.06-.94-2.06-.94-.94-2.06-.94 2.06-2.06.94z\"/><path d=\"M17.41 7.96l-1.37-1.37c-.4-.4-.92-.59-1.43-.59-.52 0-1.04.2-1.43.59L10.3 9.45l-7.72 7.72c-.78.78-.78 2.05 0 2.83L4 21.41c.39.39.9.59 1.41.59.51 0 1.02-.2 1.41-.59l7.78-7.78 2.81-2.81c.8-.78.8-2.07 0-2.86zM5.41 20L4 18.59l7.72-7.72 1.47 1.35L5.41 20z\"/>\n",
              "  </svg>\n",
              "      </button>\n",
              "      \n",
              "  <style>\n",
              "    .colab-df-container {\n",
              "      display:flex;\n",
              "      flex-wrap:wrap;\n",
              "      gap: 12px;\n",
              "    }\n",
              "\n",
              "    .colab-df-convert {\n",
              "      background-color: #E8F0FE;\n",
              "      border: none;\n",
              "      border-radius: 50%;\n",
              "      cursor: pointer;\n",
              "      display: none;\n",
              "      fill: #1967D2;\n",
              "      height: 32px;\n",
              "      padding: 0 0 0 0;\n",
              "      width: 32px;\n",
              "    }\n",
              "\n",
              "    .colab-df-convert:hover {\n",
              "      background-color: #E2EBFA;\n",
              "      box-shadow: 0px 1px 2px rgba(60, 64, 67, 0.3), 0px 1px 3px 1px rgba(60, 64, 67, 0.15);\n",
              "      fill: #174EA6;\n",
              "    }\n",
              "\n",
              "    [theme=dark] .colab-df-convert {\n",
              "      background-color: #3B4455;\n",
              "      fill: #D2E3FC;\n",
              "    }\n",
              "\n",
              "    [theme=dark] .colab-df-convert:hover {\n",
              "      background-color: #434B5C;\n",
              "      box-shadow: 0px 1px 3px 1px rgba(0, 0, 0, 0.15);\n",
              "      filter: drop-shadow(0px 1px 2px rgba(0, 0, 0, 0.3));\n",
              "      fill: #FFFFFF;\n",
              "    }\n",
              "  </style>\n",
              "\n",
              "      <script>\n",
              "        const buttonEl =\n",
              "          document.querySelector('#df-d08fc6f2-b75c-4b4d-bf8f-3b0262bfdb82 button.colab-df-convert');\n",
              "        buttonEl.style.display =\n",
              "          google.colab.kernel.accessAllowed ? 'block' : 'none';\n",
              "\n",
              "        async function convertToInteractive(key) {\n",
              "          const element = document.querySelector('#df-d08fc6f2-b75c-4b4d-bf8f-3b0262bfdb82');\n",
              "          const dataTable =\n",
              "            await google.colab.kernel.invokeFunction('convertToInteractive',\n",
              "                                                     [key], {});\n",
              "          if (!dataTable) return;\n",
              "\n",
              "          const docLinkHtml = 'Like what you see? Visit the ' +\n",
              "            '<a target=\"_blank\" href=https://colab.research.google.com/notebooks/data_table.ipynb>data table notebook</a>'\n",
              "            + ' to learn more about interactive tables.';\n",
              "          element.innerHTML = '';\n",
              "          dataTable['output_type'] = 'display_data';\n",
              "          await google.colab.output.renderOutput(dataTable, element);\n",
              "          const docLink = document.createElement('div');\n",
              "          docLink.innerHTML = docLinkHtml;\n",
              "          element.appendChild(docLink);\n",
              "        }\n",
              "      </script>\n",
              "    </div>\n",
              "  </div>\n",
              "  "
            ]
          },
          "metadata": {},
          "execution_count": 22
        }
      ],
      "source": [
        "scaler = MinMaxScaler()\n",
        "feature_transform = scaler.fit_transform(df[features+features_30days])\n",
        "feature_transform= pd.DataFrame(columns=features+features_30days, data=feature_transform)\n",
        "feature_transform.head()"
      ]
    },
    {
      "cell_type": "code",
      "execution_count": 23,
      "metadata": {
        "colab": {
          "base_uri": "https://localhost:8080/",
          "height": 35
        },
        "id": "yHX0fqyrL5U1",
        "outputId": "4c0e34e7-3d1c-497c-d4eb-f56614ad6308"
      },
      "outputs": [
        {
          "output_type": "execute_result",
          "data": {
            "text/plain": [
              "\"\\nx=feature_transform\\nx.head()\\ny=df['output_var']\\ny.head()\\n\""
            ],
            "application/vnd.google.colaboratory.intrinsic+json": {
              "type": "string"
            }
          },
          "metadata": {},
          "execution_count": 23
        }
      ],
      "source": [
        "'''\n",
        "x=feature_transform\n",
        "x.head()\n",
        "y=df['output_var']\n",
        "y.head()\n",
        "'''"
      ]
    },
    {
      "cell_type": "code",
      "execution_count": 24,
      "metadata": {
        "colab": {
          "base_uri": "https://localhost:8080/",
          "height": 53
        },
        "id": "DcD1qC3iMvdq",
        "outputId": "ab063480-2e6d-44b4-c011-499c9103633f"
      },
      "outputs": [
        {
          "output_type": "execute_result",
          "data": {
            "text/plain": [
              "'\\n#create test and train data 70% and 30% split\\ntrain_x,test_x,train_y,test_y=train_test_split(x,y,test_size=0.3)\\ntrain_x.shape\\ntest_x.shape\\ntrain_x.shape\\ntrain_y.shape\\n'"
            ],
            "application/vnd.google.colaboratory.intrinsic+json": {
              "type": "string"
            }
          },
          "metadata": {},
          "execution_count": 24
        }
      ],
      "source": [
        "'''\n",
        "#create test and train data 70% and 30% split\n",
        "train_x,test_x,train_y,test_y=train_test_split(x,y,test_size=0.3)\n",
        "train_x.shape\n",
        "test_x.shape\n",
        "train_x.shape\n",
        "train_y.shape\n",
        "'''"
      ]
    },
    {
      "cell_type": "code",
      "source": [
        "from sklearn.decomposition import PCA\n",
        "pca=PCA(40).fit(feature_transform)\n",
        "str(pca.explained_variance_ratio_.sum())\n",
        "pca_df=pd.DataFrame(pca.components_,columns=feature_transform.columns)\n",
        "#transformed features,instead of having 8,we have 5 now.this can now be plugged into any further modelling work\n",
        "x_scaled_transf=pca.fit_transform(feature_transform)\n",
        "x_scaled_transf=pd.DataFrame(x_scaled_transf,columns=('P1','P2','P3','P4','P5','P6','P7','P8','P9','P10','P11','P12','P13','P14','P15','P16','P17','P18','P19','P20','P21','P22','P23','P24','P25','P26','P27','P28','P29','P30','P31','P32','P33','P34','P35','P36','P37','P38','P39','P40'))\n",
        "x_scaled_transf.head()\n",
        "y=df['output_var']\n",
        "# separate into train and test sets\n",
        "train_x,test_x,train_y,test_y=train_test_split(x_scaled_transf,y,test_size=0.20,random_state=1)\n",
        "print(train_x.shape, test_x.shape, train_y.shape, test_y.shape)\n"
      ],
      "metadata": {
        "colab": {
          "base_uri": "https://localhost:8080/",
          "height": 335
        },
        "id": "9ksRxVM4tysS",
        "outputId": "8e46639d-770f-4bdd-ceb9-a10efd0c7304"
      },
      "execution_count": 25,
      "outputs": [
        {
          "output_type": "execute_result",
          "data": {
            "text/plain": [
              "'0.999988607531998'"
            ],
            "application/vnd.google.colaboratory.intrinsic+json": {
              "type": "string"
            }
          },
          "metadata": {},
          "execution_count": 25
        },
        {
          "output_type": "execute_result",
          "data": {
            "text/plain": [
              "         P1        P2        P3        P4        P5        P6        P7  \\\n",
              "0 -1.639985  0.600327  0.120949 -0.008923 -0.020741 -0.107191 -0.050457   \n",
              "1 -1.648509  0.693785  0.104142 -0.005847  0.002544 -0.103814 -0.046494   \n",
              "2 -1.656027  0.394464  0.167826  0.024827  0.041217 -0.096479 -0.052534   \n",
              "3 -1.658803  0.058011  0.233153  0.002696  0.020818 -0.077713 -0.050884   \n",
              "4 -1.659038 -0.157469  0.270366 -0.008003 -0.050792 -0.103851 -0.025627   \n",
              "\n",
              "         P8        P9       P10  ...       P31       P32       P33       P34  \\\n",
              "0  0.038952  0.015138  0.040025  ...  0.000530 -0.000023  0.005100 -0.001794   \n",
              "1  0.033660  0.031184  0.042343  ... -0.002144 -0.001552 -0.003387  0.000723   \n",
              "2 -0.017991  0.035799  0.077698  ...  0.002603  0.000687  0.001870  0.000735   \n",
              "3 -0.066697  0.031062  0.091954  ... -0.001708  0.002594 -0.001129 -0.002257   \n",
              "4 -0.046459  0.033126  0.058452  ... -0.000099  0.001788 -0.001148  0.002705   \n",
              "\n",
              "        P35       P36       P37       P38       P39       P40  \n",
              "0 -0.002161  0.000993 -0.001755  0.003621 -0.000324  0.001380  \n",
              "1  0.000344 -0.000276  0.002421  0.001347  0.000380 -0.002233  \n",
              "2  0.001424  0.000431  0.000192  0.000616 -0.001490  0.001404  \n",
              "3 -0.000981  0.000232  0.000057 -0.000791  0.002110 -0.000362  \n",
              "4  0.000041  0.000710  0.000467 -0.000886 -0.001871  0.000863  \n",
              "\n",
              "[5 rows x 40 columns]"
            ],
            "text/html": [
              "\n",
              "  <div id=\"df-0e192dbd-890a-4814-a82e-8abf6ad64e5d\">\n",
              "    <div class=\"colab-df-container\">\n",
              "      <div>\n",
              "<style scoped>\n",
              "    .dataframe tbody tr th:only-of-type {\n",
              "        vertical-align: middle;\n",
              "    }\n",
              "\n",
              "    .dataframe tbody tr th {\n",
              "        vertical-align: top;\n",
              "    }\n",
              "\n",
              "    .dataframe thead th {\n",
              "        text-align: right;\n",
              "    }\n",
              "</style>\n",
              "<table border=\"1\" class=\"dataframe\">\n",
              "  <thead>\n",
              "    <tr style=\"text-align: right;\">\n",
              "      <th></th>\n",
              "      <th>P1</th>\n",
              "      <th>P2</th>\n",
              "      <th>P3</th>\n",
              "      <th>P4</th>\n",
              "      <th>P5</th>\n",
              "      <th>P6</th>\n",
              "      <th>P7</th>\n",
              "      <th>P8</th>\n",
              "      <th>P9</th>\n",
              "      <th>P10</th>\n",
              "      <th>...</th>\n",
              "      <th>P31</th>\n",
              "      <th>P32</th>\n",
              "      <th>P33</th>\n",
              "      <th>P34</th>\n",
              "      <th>P35</th>\n",
              "      <th>P36</th>\n",
              "      <th>P37</th>\n",
              "      <th>P38</th>\n",
              "      <th>P39</th>\n",
              "      <th>P40</th>\n",
              "    </tr>\n",
              "  </thead>\n",
              "  <tbody>\n",
              "    <tr>\n",
              "      <th>0</th>\n",
              "      <td>-1.639985</td>\n",
              "      <td>0.600327</td>\n",
              "      <td>0.120949</td>\n",
              "      <td>-0.008923</td>\n",
              "      <td>-0.020741</td>\n",
              "      <td>-0.107191</td>\n",
              "      <td>-0.050457</td>\n",
              "      <td>0.038952</td>\n",
              "      <td>0.015138</td>\n",
              "      <td>0.040025</td>\n",
              "      <td>...</td>\n",
              "      <td>0.000530</td>\n",
              "      <td>-0.000023</td>\n",
              "      <td>0.005100</td>\n",
              "      <td>-0.001794</td>\n",
              "      <td>-0.002161</td>\n",
              "      <td>0.000993</td>\n",
              "      <td>-0.001755</td>\n",
              "      <td>0.003621</td>\n",
              "      <td>-0.000324</td>\n",
              "      <td>0.001380</td>\n",
              "    </tr>\n",
              "    <tr>\n",
              "      <th>1</th>\n",
              "      <td>-1.648509</td>\n",
              "      <td>0.693785</td>\n",
              "      <td>0.104142</td>\n",
              "      <td>-0.005847</td>\n",
              "      <td>0.002544</td>\n",
              "      <td>-0.103814</td>\n",
              "      <td>-0.046494</td>\n",
              "      <td>0.033660</td>\n",
              "      <td>0.031184</td>\n",
              "      <td>0.042343</td>\n",
              "      <td>...</td>\n",
              "      <td>-0.002144</td>\n",
              "      <td>-0.001552</td>\n",
              "      <td>-0.003387</td>\n",
              "      <td>0.000723</td>\n",
              "      <td>0.000344</td>\n",
              "      <td>-0.000276</td>\n",
              "      <td>0.002421</td>\n",
              "      <td>0.001347</td>\n",
              "      <td>0.000380</td>\n",
              "      <td>-0.002233</td>\n",
              "    </tr>\n",
              "    <tr>\n",
              "      <th>2</th>\n",
              "      <td>-1.656027</td>\n",
              "      <td>0.394464</td>\n",
              "      <td>0.167826</td>\n",
              "      <td>0.024827</td>\n",
              "      <td>0.041217</td>\n",
              "      <td>-0.096479</td>\n",
              "      <td>-0.052534</td>\n",
              "      <td>-0.017991</td>\n",
              "      <td>0.035799</td>\n",
              "      <td>0.077698</td>\n",
              "      <td>...</td>\n",
              "      <td>0.002603</td>\n",
              "      <td>0.000687</td>\n",
              "      <td>0.001870</td>\n",
              "      <td>0.000735</td>\n",
              "      <td>0.001424</td>\n",
              "      <td>0.000431</td>\n",
              "      <td>0.000192</td>\n",
              "      <td>0.000616</td>\n",
              "      <td>-0.001490</td>\n",
              "      <td>0.001404</td>\n",
              "    </tr>\n",
              "    <tr>\n",
              "      <th>3</th>\n",
              "      <td>-1.658803</td>\n",
              "      <td>0.058011</td>\n",
              "      <td>0.233153</td>\n",
              "      <td>0.002696</td>\n",
              "      <td>0.020818</td>\n",
              "      <td>-0.077713</td>\n",
              "      <td>-0.050884</td>\n",
              "      <td>-0.066697</td>\n",
              "      <td>0.031062</td>\n",
              "      <td>0.091954</td>\n",
              "      <td>...</td>\n",
              "      <td>-0.001708</td>\n",
              "      <td>0.002594</td>\n",
              "      <td>-0.001129</td>\n",
              "      <td>-0.002257</td>\n",
              "      <td>-0.000981</td>\n",
              "      <td>0.000232</td>\n",
              "      <td>0.000057</td>\n",
              "      <td>-0.000791</td>\n",
              "      <td>0.002110</td>\n",
              "      <td>-0.000362</td>\n",
              "    </tr>\n",
              "    <tr>\n",
              "      <th>4</th>\n",
              "      <td>-1.659038</td>\n",
              "      <td>-0.157469</td>\n",
              "      <td>0.270366</td>\n",
              "      <td>-0.008003</td>\n",
              "      <td>-0.050792</td>\n",
              "      <td>-0.103851</td>\n",
              "      <td>-0.025627</td>\n",
              "      <td>-0.046459</td>\n",
              "      <td>0.033126</td>\n",
              "      <td>0.058452</td>\n",
              "      <td>...</td>\n",
              "      <td>-0.000099</td>\n",
              "      <td>0.001788</td>\n",
              "      <td>-0.001148</td>\n",
              "      <td>0.002705</td>\n",
              "      <td>0.000041</td>\n",
              "      <td>0.000710</td>\n",
              "      <td>0.000467</td>\n",
              "      <td>-0.000886</td>\n",
              "      <td>-0.001871</td>\n",
              "      <td>0.000863</td>\n",
              "    </tr>\n",
              "  </tbody>\n",
              "</table>\n",
              "<p>5 rows × 40 columns</p>\n",
              "</div>\n",
              "      <button class=\"colab-df-convert\" onclick=\"convertToInteractive('df-0e192dbd-890a-4814-a82e-8abf6ad64e5d')\"\n",
              "              title=\"Convert this dataframe to an interactive table.\"\n",
              "              style=\"display:none;\">\n",
              "        \n",
              "  <svg xmlns=\"http://www.w3.org/2000/svg\" height=\"24px\"viewBox=\"0 0 24 24\"\n",
              "       width=\"24px\">\n",
              "    <path d=\"M0 0h24v24H0V0z\" fill=\"none\"/>\n",
              "    <path d=\"M18.56 5.44l.94 2.06.94-2.06 2.06-.94-2.06-.94-.94-2.06-.94 2.06-2.06.94zm-11 1L8.5 8.5l.94-2.06 2.06-.94-2.06-.94L8.5 2.5l-.94 2.06-2.06.94zm10 10l.94 2.06.94-2.06 2.06-.94-2.06-.94-.94-2.06-.94 2.06-2.06.94z\"/><path d=\"M17.41 7.96l-1.37-1.37c-.4-.4-.92-.59-1.43-.59-.52 0-1.04.2-1.43.59L10.3 9.45l-7.72 7.72c-.78.78-.78 2.05 0 2.83L4 21.41c.39.39.9.59 1.41.59.51 0 1.02-.2 1.41-.59l7.78-7.78 2.81-2.81c.8-.78.8-2.07 0-2.86zM5.41 20L4 18.59l7.72-7.72 1.47 1.35L5.41 20z\"/>\n",
              "  </svg>\n",
              "      </button>\n",
              "      \n",
              "  <style>\n",
              "    .colab-df-container {\n",
              "      display:flex;\n",
              "      flex-wrap:wrap;\n",
              "      gap: 12px;\n",
              "    }\n",
              "\n",
              "    .colab-df-convert {\n",
              "      background-color: #E8F0FE;\n",
              "      border: none;\n",
              "      border-radius: 50%;\n",
              "      cursor: pointer;\n",
              "      display: none;\n",
              "      fill: #1967D2;\n",
              "      height: 32px;\n",
              "      padding: 0 0 0 0;\n",
              "      width: 32px;\n",
              "    }\n",
              "\n",
              "    .colab-df-convert:hover {\n",
              "      background-color: #E2EBFA;\n",
              "      box-shadow: 0px 1px 2px rgba(60, 64, 67, 0.3), 0px 1px 3px 1px rgba(60, 64, 67, 0.15);\n",
              "      fill: #174EA6;\n",
              "    }\n",
              "\n",
              "    [theme=dark] .colab-df-convert {\n",
              "      background-color: #3B4455;\n",
              "      fill: #D2E3FC;\n",
              "    }\n",
              "\n",
              "    [theme=dark] .colab-df-convert:hover {\n",
              "      background-color: #434B5C;\n",
              "      box-shadow: 0px 1px 3px 1px rgba(0, 0, 0, 0.15);\n",
              "      filter: drop-shadow(0px 1px 2px rgba(0, 0, 0, 0.3));\n",
              "      fill: #FFFFFF;\n",
              "    }\n",
              "  </style>\n",
              "\n",
              "      <script>\n",
              "        const buttonEl =\n",
              "          document.querySelector('#df-0e192dbd-890a-4814-a82e-8abf6ad64e5d button.colab-df-convert');\n",
              "        buttonEl.style.display =\n",
              "          google.colab.kernel.accessAllowed ? 'block' : 'none';\n",
              "\n",
              "        async function convertToInteractive(key) {\n",
              "          const element = document.querySelector('#df-0e192dbd-890a-4814-a82e-8abf6ad64e5d');\n",
              "          const dataTable =\n",
              "            await google.colab.kernel.invokeFunction('convertToInteractive',\n",
              "                                                     [key], {});\n",
              "          if (!dataTable) return;\n",
              "\n",
              "          const docLinkHtml = 'Like what you see? Visit the ' +\n",
              "            '<a target=\"_blank\" href=https://colab.research.google.com/notebooks/data_table.ipynb>data table notebook</a>'\n",
              "            + ' to learn more about interactive tables.';\n",
              "          element.innerHTML = '';\n",
              "          dataTable['output_type'] = 'display_data';\n",
              "          await google.colab.output.renderOutput(dataTable, element);\n",
              "          const docLink = document.createElement('div');\n",
              "          docLink.innerHTML = docLinkHtml;\n",
              "          element.appendChild(docLink);\n",
              "        }\n",
              "      </script>\n",
              "    </div>\n",
              "  </div>\n",
              "  "
            ]
          },
          "metadata": {},
          "execution_count": 25
        },
        {
          "output_type": "stream",
          "name": "stdout",
          "text": [
            "(4173, 40) (1044, 40) (4173,) (1044,)\n"
          ]
        }
      ]
    },
    {
      "cell_type": "code",
      "source": [
        "#BUILD A LOGISTIC REGRESSION MODEL\n",
        "from sklearn.linear_model import LogisticRegression\n",
        "log = lm.LogisticRegression(penalty='none',fit_intercept=True,max_iter=500,solver='saga',tol=1e-5,multi_class='ovr',class_weight=None)\n"
      ],
      "metadata": {
        "id": "V0EG4-WCDXYW"
      },
      "execution_count": 26,
      "outputs": []
    },
    {
      "cell_type": "code",
      "source": [
        "log.fit(train_x,train_y)"
      ],
      "metadata": {
        "colab": {
          "base_uri": "https://localhost:8080/",
          "height": 181
        },
        "id": "G10updCQDjLv",
        "outputId": "7d75966d-d6d3-4f41-ea84-c53b428b0ef9"
      },
      "execution_count": 27,
      "outputs": [
        {
          "output_type": "stream",
          "name": "stderr",
          "text": [
            "/usr/local/lib/python3.9/dist-packages/sklearn/linear_model/_logistic.py:1173: FutureWarning: `penalty='none'`has been deprecated in 1.2 and will be removed in 1.4. To keep the past behaviour, set `penalty=None`.\n",
            "  warnings.warn(\n",
            "/usr/local/lib/python3.9/dist-packages/sklearn/linear_model/_sag.py:350: ConvergenceWarning: The max_iter was reached which means the coef_ did not converge\n",
            "  warnings.warn(\n"
          ]
        },
        {
          "output_type": "execute_result",
          "data": {
            "text/plain": [
              "LogisticRegression(max_iter=500, multi_class='ovr', penalty='none',\n",
              "                   solver='saga', tol=1e-05)"
            ],
            "text/html": [
              "<style>#sk-container-id-1 {color: black;background-color: white;}#sk-container-id-1 pre{padding: 0;}#sk-container-id-1 div.sk-toggleable {background-color: white;}#sk-container-id-1 label.sk-toggleable__label {cursor: pointer;display: block;width: 100%;margin-bottom: 0;padding: 0.3em;box-sizing: border-box;text-align: center;}#sk-container-id-1 label.sk-toggleable__label-arrow:before {content: \"▸\";float: left;margin-right: 0.25em;color: #696969;}#sk-container-id-1 label.sk-toggleable__label-arrow:hover:before {color: black;}#sk-container-id-1 div.sk-estimator:hover label.sk-toggleable__label-arrow:before {color: black;}#sk-container-id-1 div.sk-toggleable__content {max-height: 0;max-width: 0;overflow: hidden;text-align: left;background-color: #f0f8ff;}#sk-container-id-1 div.sk-toggleable__content pre {margin: 0.2em;color: black;border-radius: 0.25em;background-color: #f0f8ff;}#sk-container-id-1 input.sk-toggleable__control:checked~div.sk-toggleable__content {max-height: 200px;max-width: 100%;overflow: auto;}#sk-container-id-1 input.sk-toggleable__control:checked~label.sk-toggleable__label-arrow:before {content: \"▾\";}#sk-container-id-1 div.sk-estimator input.sk-toggleable__control:checked~label.sk-toggleable__label {background-color: #d4ebff;}#sk-container-id-1 div.sk-label input.sk-toggleable__control:checked~label.sk-toggleable__label {background-color: #d4ebff;}#sk-container-id-1 input.sk-hidden--visually {border: 0;clip: rect(1px 1px 1px 1px);clip: rect(1px, 1px, 1px, 1px);height: 1px;margin: -1px;overflow: hidden;padding: 0;position: absolute;width: 1px;}#sk-container-id-1 div.sk-estimator {font-family: monospace;background-color: #f0f8ff;border: 1px dotted black;border-radius: 0.25em;box-sizing: border-box;margin-bottom: 0.5em;}#sk-container-id-1 div.sk-estimator:hover {background-color: #d4ebff;}#sk-container-id-1 div.sk-parallel-item::after {content: \"\";width: 100%;border-bottom: 1px solid gray;flex-grow: 1;}#sk-container-id-1 div.sk-label:hover label.sk-toggleable__label {background-color: #d4ebff;}#sk-container-id-1 div.sk-serial::before {content: \"\";position: absolute;border-left: 1px solid gray;box-sizing: border-box;top: 0;bottom: 0;left: 50%;z-index: 0;}#sk-container-id-1 div.sk-serial {display: flex;flex-direction: column;align-items: center;background-color: white;padding-right: 0.2em;padding-left: 0.2em;position: relative;}#sk-container-id-1 div.sk-item {position: relative;z-index: 1;}#sk-container-id-1 div.sk-parallel {display: flex;align-items: stretch;justify-content: center;background-color: white;position: relative;}#sk-container-id-1 div.sk-item::before, #sk-container-id-1 div.sk-parallel-item::before {content: \"\";position: absolute;border-left: 1px solid gray;box-sizing: border-box;top: 0;bottom: 0;left: 50%;z-index: -1;}#sk-container-id-1 div.sk-parallel-item {display: flex;flex-direction: column;z-index: 1;position: relative;background-color: white;}#sk-container-id-1 div.sk-parallel-item:first-child::after {align-self: flex-end;width: 50%;}#sk-container-id-1 div.sk-parallel-item:last-child::after {align-self: flex-start;width: 50%;}#sk-container-id-1 div.sk-parallel-item:only-child::after {width: 0;}#sk-container-id-1 div.sk-dashed-wrapped {border: 1px dashed gray;margin: 0 0.4em 0.5em 0.4em;box-sizing: border-box;padding-bottom: 0.4em;background-color: white;}#sk-container-id-1 div.sk-label label {font-family: monospace;font-weight: bold;display: inline-block;line-height: 1.2em;}#sk-container-id-1 div.sk-label-container {text-align: center;}#sk-container-id-1 div.sk-container {/* jupyter's `normalize.less` sets `[hidden] { display: none; }` but bootstrap.min.css set `[hidden] { display: none !important; }` so we also need the `!important` here to be able to override the default hidden behavior on the sphinx rendered scikit-learn.org. See: https://github.com/scikit-learn/scikit-learn/issues/21755 */display: inline-block !important;position: relative;}#sk-container-id-1 div.sk-text-repr-fallback {display: none;}</style><div id=\"sk-container-id-1\" class=\"sk-top-container\"><div class=\"sk-text-repr-fallback\"><pre>LogisticRegression(max_iter=500, multi_class=&#x27;ovr&#x27;, penalty=&#x27;none&#x27;,\n",
              "                   solver=&#x27;saga&#x27;, tol=1e-05)</pre><b>In a Jupyter environment, please rerun this cell to show the HTML representation or trust the notebook. <br />On GitHub, the HTML representation is unable to render, please try loading this page with nbviewer.org.</b></div><div class=\"sk-container\" hidden><div class=\"sk-item\"><div class=\"sk-estimator sk-toggleable\"><input class=\"sk-toggleable__control sk-hidden--visually\" id=\"sk-estimator-id-1\" type=\"checkbox\" checked><label for=\"sk-estimator-id-1\" class=\"sk-toggleable__label sk-toggleable__label-arrow\">LogisticRegression</label><div class=\"sk-toggleable__content\"><pre>LogisticRegression(max_iter=500, multi_class=&#x27;ovr&#x27;, penalty=&#x27;none&#x27;,\n",
              "                   solver=&#x27;saga&#x27;, tol=1e-05)</pre></div></div></div></div></div>"
            ]
          },
          "metadata": {},
          "execution_count": 27
        }
      ]
    },
    {
      "cell_type": "code",
      "source": [
        "#GENERATE MODEL DIAGNOSTICS\n",
        "classes=log.predict(test_x)\n",
        "print(classes.size)"
      ],
      "metadata": {
        "colab": {
          "base_uri": "https://localhost:8080/"
        },
        "id": "aWbn2O4uDnVj",
        "outputId": "944b7435-b36e-448c-f937-f163dcd5c351"
      },
      "execution_count": 28,
      "outputs": [
        {
          "output_type": "stream",
          "name": "stdout",
          "text": [
            "1044\n"
          ]
        }
      ]
    },
    {
      "cell_type": "markdown",
      "source": [
        "#LOGISTIC REGRESSION MODEL"
      ],
      "metadata": {
        "id": "L0hsw_cfJFwm"
      }
    },
    {
      "cell_type": "code",
      "source": [
        "#PRECISION AND RECALL\n",
        "print(\"ACCUIRACY SCORE\")\n",
        "print(metrics.accuracy_score(test_y,classes))"
      ],
      "metadata": {
        "colab": {
          "base_uri": "https://localhost:8080/"
        },
        "id": "zV8JvNFHDqGp",
        "outputId": "8c37c1b4-195b-41bc-cf7b-f7d9c1173fe1"
      },
      "execution_count": 29,
      "outputs": [
        {
          "output_type": "stream",
          "name": "stdout",
          "text": [
            "ACCUIRACY SCORE\n",
            "0.7547892720306514\n"
          ]
        }
      ]
    },
    {
      "cell_type": "code",
      "source": [
        "#PRECISION RECALL MATRIX\n",
        "print(\"precision/recall Metrics\")\n",
        "print(metrics.classification_report(test_y,classes))"
      ],
      "metadata": {
        "colab": {
          "base_uri": "https://localhost:8080/"
        },
        "id": "DAw0ad-KDsmI",
        "outputId": "8cb92a3e-c3cd-4f6b-da16-531f4a68c004"
      },
      "execution_count": 30,
      "outputs": [
        {
          "output_type": "stream",
          "name": "stdout",
          "text": [
            "precision/recall Metrics\n",
            "              precision    recall  f1-score   support\n",
            "\n",
            "           0       0.77      0.85      0.81       630\n",
            "           1       0.73      0.61      0.66       414\n",
            "\n",
            "    accuracy                           0.75      1044\n",
            "   macro avg       0.75      0.73      0.73      1044\n",
            "weighted avg       0.75      0.75      0.75      1044\n",
            "\n"
          ]
        }
      ]
    },
    {
      "cell_type": "code",
      "source": [
        "#CONFUSION MATRIX\n",
        "print(\"CONFUSION MATRIX\")\n",
        "cf=metrics.confusion_matrix(test_y,classes)\n",
        "lbl1=[\"Predicted 0\",\"Predicted 1\"]\n",
        "lbl2=[\"True 0\",\"True 1\"]\n",
        "sns.heatmap(cf,annot=True,cmap=\"Greens\",fmt=\"d\",xticklabels=lbl1,yticklabels=lbl2)\n",
        "plt.show()"
      ],
      "metadata": {
        "colab": {
          "base_uri": "https://localhost:8080/",
          "height": 300
        },
        "id": "nyOFpw3HDxln",
        "outputId": "dc7f84ae-7ccc-4662-e365-6f88a1f33b03"
      },
      "execution_count": 31,
      "outputs": [
        {
          "output_type": "stream",
          "name": "stdout",
          "text": [
            "CONFUSION MATRIX\n"
          ]
        },
        {
          "output_type": "execute_result",
          "data": {
            "text/plain": [
              "<AxesSubplot:>"
            ]
          },
          "metadata": {},
          "execution_count": 31
        },
        {
          "output_type": "display_data",
          "data": {
            "text/plain": [
              "<Figure size 432x288 with 2 Axes>"
            ],
            "image/png": "[encoded data removed]"
          },
          "metadata": {
            "needs_background": "light"
          }
        }
      ]
    },
    {
      "cell_type": "code",
      "source": [
        "#AUC\n",
        "print(\"AUC\")\n",
        "auc=metrics.roc_auc_score(test_y,classes)\n",
        "auc"
      ],
      "metadata": {
        "colab": {
          "base_uri": "https://localhost:8080/"
        },
        "id": "0CkJTrAcuR9T",
        "outputId": "36cf8cf6-63ff-40f8-e946-bf3999a09255"
      },
      "execution_count": 32,
      "outputs": [
        {
          "output_type": "stream",
          "name": "stdout",
          "text": [
            "AUC\n"
          ]
        },
        {
          "output_type": "execute_result",
          "data": {
            "text/plain": [
              "0.7293305728088337"
            ]
          },
          "metadata": {},
          "execution_count": 32
        }
      ]
    },
    {
      "cell_type": "code",
      "source": [
        "#ROC CHART\n",
        "fpr,tpr,th=roc_curve(test_y,classes)\n",
        "roc_auc=metrics.auc(fpr,tpr)\n",
        "import matplotlib.pyplot as plt\n",
        "plt.title(\"ROCR CHART\")\n",
        "plt.plot(fpr,tpr,'b',label=\"AUC=%0.2F\"%roc_auc)\n",
        "plt.legend(loc=\"lower right\")\n",
        "plt.plot([0,1],[0,1],\"o--\")\n",
        "plt.xlim([0,1])\n",
        "plt.ylim([0,1])\n",
        "plt.ylabel(\"TRUE POSITIVE RATE\")\n",
        "plt.xlabel(\"FALSE POSITIVE RATE\")\n",
        "plt.show();"
      ],
      "metadata": {
        "colab": {
          "base_uri": "https://localhost:8080/",
          "height": 295
        },
        "id": "GHvYO3IbuzxY",
        "outputId": "70665b03-ac1e-4e34-ad17-5d0f2b0c39c2"
      },
      "execution_count": 33,
      "outputs": [
        {
          "output_type": "display_data",
          "data": {
            "text/plain": [
              "<Figure size 432x288 with 1 Axes>"
            ],
            "image/png": "[encoded data removed]"
          },
          "metadata": {
            "needs_background": "light"
          }
        }
      ]
    },
    {
      "cell_type": "code",
      "execution_count": 34,
      "metadata": {
        "colab": {
          "base_uri": "https://localhost:8080/",
          "height": 92
        },
        "id": "vaF4oyC17g0t",
        "outputId": "42faae8e-a640-4f32-8e80-a26e2743e82e"
      },
      "outputs": [
        {
          "output_type": "execute_result",
          "data": {
            "text/plain": [
              "DecisionTreeClassifier(max_depth=2, max_features=4, min_samples_leaf=3,\n",
              "                       random_state=0)"
            ],
            "text/html": [
              "<style>#sk-container-id-2 {color: black;background-color: white;}#sk-container-id-2 pre{padding: 0;}#sk-container-id-2 div.sk-toggleable {background-color: white;}#sk-container-id-2 label.sk-toggleable__label {cursor: pointer;display: block;width: 100%;margin-bottom: 0;padding: 0.3em;box-sizing: border-box;text-align: center;}#sk-container-id-2 label.sk-toggleable__label-arrow:before {content: \"▸\";float: left;margin-right: 0.25em;color: #696969;}#sk-container-id-2 label.sk-toggleable__label-arrow:hover:before {color: black;}#sk-container-id-2 div.sk-estimator:hover label.sk-toggleable__label-arrow:before {color: black;}#sk-container-id-2 div.sk-toggleable__content {max-height: 0;max-width: 0;overflow: hidden;text-align: left;background-color: #f0f8ff;}#sk-container-id-2 div.sk-toggleable__content pre {margin: 0.2em;color: black;border-radius: 0.25em;background-color: #f0f8ff;}#sk-container-id-2 input.sk-toggleable__control:checked~div.sk-toggleable__content {max-height: 200px;max-width: 100%;overflow: auto;}#sk-container-id-2 input.sk-toggleable__control:checked~label.sk-toggleable__label-arrow:before {content: \"▾\";}#sk-container-id-2 div.sk-estimator input.sk-toggleable__control:checked~label.sk-toggleable__label {background-color: #d4ebff;}#sk-container-id-2 div.sk-label input.sk-toggleable__control:checked~label.sk-toggleable__label {background-color: #d4ebff;}#sk-container-id-2 input.sk-hidden--visually {border: 0;clip: rect(1px 1px 1px 1px);clip: rect(1px, 1px, 1px, 1px);height: 1px;margin: -1px;overflow: hidden;padding: 0;position: absolute;width: 1px;}#sk-container-id-2 div.sk-estimator {font-family: monospace;background-color: #f0f8ff;border: 1px dotted black;border-radius: 0.25em;box-sizing: border-box;margin-bottom: 0.5em;}#sk-container-id-2 div.sk-estimator:hover {background-color: #d4ebff;}#sk-container-id-2 div.sk-parallel-item::after {content: \"\";width: 100%;border-bottom: 1px solid gray;flex-grow: 1;}#sk-container-id-2 div.sk-label:hover label.sk-toggleable__label {background-color: #d4ebff;}#sk-container-id-2 div.sk-serial::before {content: \"\";position: absolute;border-left: 1px solid gray;box-sizing: border-box;top: 0;bottom: 0;left: 50%;z-index: 0;}#sk-container-id-2 div.sk-serial {display: flex;flex-direction: column;align-items: center;background-color: white;padding-right: 0.2em;padding-left: 0.2em;position: relative;}#sk-container-id-2 div.sk-item {position: relative;z-index: 1;}#sk-container-id-2 div.sk-parallel {display: flex;align-items: stretch;justify-content: center;background-color: white;position: relative;}#sk-container-id-2 div.sk-item::before, #sk-container-id-2 div.sk-parallel-item::before {content: \"\";position: absolute;border-left: 1px solid gray;box-sizing: border-box;top: 0;bottom: 0;left: 50%;z-index: -1;}#sk-container-id-2 div.sk-parallel-item {display: flex;flex-direction: column;z-index: 1;position: relative;background-color: white;}#sk-container-id-2 div.sk-parallel-item:first-child::after {align-self: flex-end;width: 50%;}#sk-container-id-2 div.sk-parallel-item:last-child::after {align-self: flex-start;width: 50%;}#sk-container-id-2 div.sk-parallel-item:only-child::after {width: 0;}#sk-container-id-2 div.sk-dashed-wrapped {border: 1px dashed gray;margin: 0 0.4em 0.5em 0.4em;box-sizing: border-box;padding-bottom: 0.4em;background-color: white;}#sk-container-id-2 div.sk-label label {font-family: monospace;font-weight: bold;display: inline-block;line-height: 1.2em;}#sk-container-id-2 div.sk-label-container {text-align: center;}#sk-container-id-2 div.sk-container {/* jupyter's `normalize.less` sets `[hidden] { display: none; }` but bootstrap.min.css set `[hidden] { display: none !important; }` so we also need the `!important` here to be able to override the default hidden behavior on the sphinx rendered scikit-learn.org. See: https://github.com/scikit-learn/scikit-learn/issues/21755 */display: inline-block !important;position: relative;}#sk-container-id-2 div.sk-text-repr-fallback {display: none;}</style><div id=\"sk-container-id-2\" class=\"sk-top-container\"><div class=\"sk-text-repr-fallback\"><pre>DecisionTreeClassifier(max_depth=2, max_features=4, min_samples_leaf=3,\n",
              "                       random_state=0)</pre><b>In a Jupyter environment, please rerun this cell to show the HTML representation or trust the notebook. <br />On GitHub, the HTML representation is unable to render, please try loading this page with nbviewer.org.</b></div><div class=\"sk-container\" hidden><div class=\"sk-item\"><div class=\"sk-estimator sk-toggleable\"><input class=\"sk-toggleable__control sk-hidden--visually\" id=\"sk-estimator-id-2\" type=\"checkbox\" checked><label for=\"sk-estimator-id-2\" class=\"sk-toggleable__label sk-toggleable__label-arrow\">DecisionTreeClassifier</label><div class=\"sk-toggleable__content\"><pre>DecisionTreeClassifier(max_depth=2, max_features=4, min_samples_leaf=3,\n",
              "                       random_state=0)</pre></div></div></div></div></div>"
            ]
          },
          "metadata": {},
          "execution_count": 34
        }
      ],
      "source": [
        "from sklearn.tree import DecisionTreeClassifier\n",
        "from sklearn import tree\n",
        "import pydotplus\n",
        "\n",
        "#CREATE DECISION TREE CLASSIFIER OBJECT\n",
        "decisiontree1=DecisionTreeClassifier(criterion=\"gini\",random_state=0,max_depth=2,min_samples_leaf=3,max_features=4)\n",
        "#TRAIN MODEL\n",
        "model=decisiontree1.fit(train_x,train_y)\n",
        "model\n",
        "classes=decisiontree1.predict(test_x)"
      ]
    },
    {
      "cell_type": "markdown",
      "source": [
        "#DECISION TREE CLASSIFIER"
      ],
      "metadata": {
        "id": "0TcHsEufJMsW"
      }
    },
    {
      "cell_type": "code",
      "execution_count": 35,
      "metadata": {
        "colab": {
          "base_uri": "https://localhost:8080/"
        },
        "id": "P6tM2O1uP9xb",
        "outputId": "1835c11c-926b-47b0-8beb-29955aec07ed"
      },
      "outputs": [
        {
          "output_type": "stream",
          "name": "stdout",
          "text": [
            "ACCUIRACY SCORE\n",
            "0.578544061302682\n"
          ]
        }
      ],
      "source": [
        "#PRECISION AND RECALL\n",
        "print(\"ACCUIRACY SCORE\")\n",
        "print(metrics.accuracy_score(test_y,classes))"
      ]
    },
    {
      "cell_type": "code",
      "execution_count": 36,
      "metadata": {
        "colab": {
          "base_uri": "https://localhost:8080/"
        },
        "id": "KE4llBX-QBVt",
        "outputId": "4a372c5d-5dc9-4488-f53a-6bb3cffcdc9b"
      },
      "outputs": [
        {
          "output_type": "stream",
          "name": "stdout",
          "text": [
            "precision/recall Metrics\n",
            "              precision    recall  f1-score   support\n",
            "\n",
            "           0       0.62      0.77      0.69       630\n",
            "           1       0.45      0.28      0.35       414\n",
            "\n",
            "    accuracy                           0.58      1044\n",
            "   macro avg       0.54      0.53      0.52      1044\n",
            "weighted avg       0.55      0.58      0.55      1044\n",
            "\n"
          ]
        }
      ],
      "source": [
        "#PRECISION RECALL MATRIX\n",
        "print(\"precision/recall Metrics\")\n",
        "print(metrics.classification_report(test_y,classes))"
      ]
    },
    {
      "cell_type": "code",
      "execution_count": 37,
      "metadata": {
        "colab": {
          "base_uri": "https://localhost:8080/",
          "height": 300
        },
        "id": "2oWYGuYFQeyH",
        "outputId": "f7d26514-9572-4450-93b6-e9cdac793940"
      },
      "outputs": [
        {
          "output_type": "stream",
          "name": "stdout",
          "text": [
            "CONFUSION MATRIX\n"
          ]
        },
        {
          "output_type": "execute_result",
          "data": {
            "text/plain": [
              "<AxesSubplot:>"
            ]
          },
          "metadata": {},
          "execution_count": 37
        },
        {
          "output_type": "display_data",
          "data": {
            "text/plain": [
              "<Figure size 432x288 with 2 Axes>"
            ],
            "image/png": "[encoded data removed]"
          },
          "metadata": {
            "needs_background": "light"
          }
        }
      ],
      "source": [
        "#CONFUSION MATRIX\n",
        "print(\"CONFUSION MATRIX\")\n",
        "cf=metrics.confusion_matrix(test_y,classes)\n",
        "lbl1=[\"Predicted 0\",\"Predicted 1\"]\n",
        "lbl2=[\"True 0\",\"True 1\"]\n",
        "sns.heatmap(cf,annot=True,cmap=\"Greens\",fmt=\"d\",xticklabels=lbl1,yticklabels=lbl2)\n",
        "plt.show()"
      ]
    },
    {
      "cell_type": "code",
      "source": [
        "#AUC\n",
        "print(\"AUC\")\n",
        "auc=metrics.roc_auc_score(test_y,classes)\n",
        "auc"
      ],
      "metadata": {
        "colab": {
          "base_uri": "https://localhost:8080/"
        },
        "outputId": "026a748b-76dc-4fab-96bf-839ae58708f3",
        "id": "kSHwu8gQu8yy"
      },
      "execution_count": 38,
      "outputs": [
        {
          "output_type": "stream",
          "name": "stdout",
          "text": [
            "AUC\n"
          ]
        },
        {
          "output_type": "execute_result",
          "data": {
            "text/plain": [
              "0.5278122843340234"
            ]
          },
          "metadata": {},
          "execution_count": 38
        }
      ]
    },
    {
      "cell_type": "code",
      "source": [
        "#ROC CHART\n",
        "fpr,tpr,th=roc_curve(test_y,classes)\n",
        "roc_auc=metrics.auc(fpr,tpr)\n",
        "import matplotlib.pyplot as plt\n",
        "plt.title(\"ROCR CHART\")\n",
        "plt.plot(fpr,tpr,'b',label=\"AUC=%0.2F\"%roc_auc)\n",
        "plt.legend(loc=\"lower right\")\n",
        "plt.plot([0,1],[0,1],\"o--\")\n",
        "plt.xlim([0,1])\n",
        "plt.ylim([0,1])\n",
        "plt.ylabel(\"TRUE POSITIVE RATE\")\n",
        "plt.xlabel(\"FALSE POSITIVE RATE\")\n",
        "plt.show();"
      ],
      "metadata": {
        "outputId": "04728bab-5797-4912-a71c-99b46abfc643",
        "colab": {
          "base_uri": "https://localhost:8080/",
          "height": 295
        },
        "id": "36j3-OjFu8y1"
      },
      "execution_count": 39,
      "outputs": [
        {
          "output_type": "display_data",
          "data": {
            "text/plain": [
              "<Figure size 432x288 with 1 Axes>"
            ],
            "image/png": "[encoded data removed]"
          },
          "metadata": {
            "needs_background": "light"
          }
        }
      ]
    },
    {
      "cell_type": "code",
      "execution_count": 40,
      "metadata": {
        "id": "sga6HxEw9a4N"
      },
      "outputs": [],
      "source": [
        "from scipy.stats import randint\n",
        "from sklearn.tree import DecisionTreeClassifier\n",
        "from sklearn.model_selection import RandomizedSearchCV\n",
        "from sklearn.ensemble import RandomForestClassifier\n",
        "from sklearn import tree\n",
        "from sklearn.model_selection import GridSearchCV"
      ]
    },
    {
      "cell_type": "code",
      "execution_count": 41,
      "metadata": {
        "id": "bTCns2_c9LmE"
      },
      "outputs": [],
      "source": [
        "param_dist = {\"max_depth\": [20,50,100,150,200,250],\n",
        "              \"max_features\": randint(1, 3),\n",
        "              \"min_samples_leaf\": randint(3,6),\n",
        "              \"criterion\": [\"gini\",\"entropy\"]}"
      ]
    },
    {
      "cell_type": "code",
      "execution_count": 42,
      "metadata": {
        "id": "fCbR5pix9iBN"
      },
      "outputs": [],
      "source": [
        "# Instantiate the RandomizedSearchCV object: tree_cv\n",
        "tree_cv = RandomizedSearchCV(decisiontree1, param_dist, cv=5)"
      ]
    },
    {
      "cell_type": "code",
      "execution_count": 43,
      "metadata": {
        "colab": {
          "base_uri": "https://localhost:8080/",
          "height": 152
        },
        "id": "T4Q4Z0jp9r7w",
        "outputId": "493f9433-1362-485d-9221-1c34dc15278e"
      },
      "outputs": [
        {
          "output_type": "execute_result",
          "data": {
            "text/plain": [
              "RandomizedSearchCV(cv=5,\n",
              "                   estimator=DecisionTreeClassifier(max_depth=2, max_features=4,\n",
              "                                                    min_samples_leaf=3,\n",
              "                                                    random_state=0),\n",
              "                   param_distributions={'criterion': ['gini', 'entropy'],\n",
              "                                        'max_depth': [20, 50, 100, 150, 200,\n",
              "                                                      250],\n",
              "                                        'max_features': <scipy.stats._distn_infrastructure.rv_discrete_frozen object at 0x7f3fc9d02b50>,\n",
              "                                        'min_samples_leaf': <scipy.stats._distn_infrastructure.rv_discrete_frozen object at 0x7f3fc9a004c0>})"
            ],
            "text/html": [
              "<style>#sk-container-id-3 {color: black;background-color: white;}#sk-container-id-3 pre{padding: 0;}#sk-container-id-3 div.sk-toggleable {background-color: white;}#sk-container-id-3 label.sk-toggleable__label {cursor: pointer;display: block;width: 100%;margin-bottom: 0;padding: 0.3em;box-sizing: border-box;text-align: center;}#sk-container-id-3 label.sk-toggleable__label-arrow:before {content: \"▸\";float: left;margin-right: 0.25em;color: #696969;}#sk-container-id-3 label.sk-toggleable__label-arrow:hover:before {color: black;}#sk-container-id-3 div.sk-estimator:hover label.sk-toggleable__label-arrow:before {color: black;}#sk-container-id-3 div.sk-toggleable__content {max-height: 0;max-width: 0;overflow: hidden;text-align: left;background-color: #f0f8ff;}#sk-container-id-3 div.sk-toggleable__content pre {margin: 0.2em;color: black;border-radius: 0.25em;background-color: #f0f8ff;}#sk-container-id-3 input.sk-toggleable__control:checked~div.sk-toggleable__content {max-height: 200px;max-width: 100%;overflow: auto;}#sk-container-id-3 input.sk-toggleable__control:checked~label.sk-toggleable__label-arrow:before {content: \"▾\";}#sk-container-id-3 div.sk-estimator input.sk-toggleable__control:checked~label.sk-toggleable__label {background-color: #d4ebff;}#sk-container-id-3 div.sk-label input.sk-toggleable__control:checked~label.sk-toggleable__label {background-color: #d4ebff;}#sk-container-id-3 input.sk-hidden--visually {border: 0;clip: rect(1px 1px 1px 1px);clip: rect(1px, 1px, 1px, 1px);height: 1px;margin: -1px;overflow: hidden;padding: 0;position: absolute;width: 1px;}#sk-container-id-3 div.sk-estimator {font-family: monospace;background-color: #f0f8ff;border: 1px dotted black;border-radius: 0.25em;box-sizing: border-box;margin-bottom: 0.5em;}#sk-container-id-3 div.sk-estimator:hover {background-color: #d4ebff;}#sk-container-id-3 div.sk-parallel-item::after {content: \"\";width: 100%;border-bottom: 1px solid gray;flex-grow: 1;}#sk-container-id-3 div.sk-label:hover label.sk-toggleable__label {background-color: #d4ebff;}#sk-container-id-3 div.sk-serial::before {content: \"\";position: absolute;border-left: 1px solid gray;box-sizing: border-box;top: 0;bottom: 0;left: 50%;z-index: 0;}#sk-container-id-3 div.sk-serial {display: flex;flex-direction: column;align-items: center;background-color: white;padding-right: 0.2em;padding-left: 0.2em;position: relative;}#sk-container-id-3 div.sk-item {position: relative;z-index: 1;}#sk-container-id-3 div.sk-parallel {display: flex;align-items: stretch;justify-content: center;background-color: white;position: relative;}#sk-container-id-3 div.sk-item::before, #sk-container-id-3 div.sk-parallel-item::before {content: \"\";position: absolute;border-left: 1px solid gray;box-sizing: border-box;top: 0;bottom: 0;left: 50%;z-index: -1;}#sk-container-id-3 div.sk-parallel-item {display: flex;flex-direction: column;z-index: 1;position: relative;background-color: white;}#sk-container-id-3 div.sk-parallel-item:first-child::after {align-self: flex-end;width: 50%;}#sk-container-id-3 div.sk-parallel-item:last-child::after {align-self: flex-start;width: 50%;}#sk-container-id-3 div.sk-parallel-item:only-child::after {width: 0;}#sk-container-id-3 div.sk-dashed-wrapped {border: 1px dashed gray;margin: 0 0.4em 0.5em 0.4em;box-sizing: border-box;padding-bottom: 0.4em;background-color: white;}#sk-container-id-3 div.sk-label label {font-family: monospace;font-weight: bold;display: inline-block;line-height: 1.2em;}#sk-container-id-3 div.sk-label-container {text-align: center;}#sk-container-id-3 div.sk-container {/* jupyter's `normalize.less` sets `[hidden] { display: none; }` but bootstrap.min.css set `[hidden] { display: none !important; }` so we also need the `!important` here to be able to override the default hidden behavior on the sphinx rendered scikit-learn.org. See: https://github.com/scikit-learn/scikit-learn/issues/21755 */display: inline-block !important;position: relative;}#sk-container-id-3 div.sk-text-repr-fallback {display: none;}</style><div id=\"sk-container-id-3\" class=\"sk-top-container\"><div class=\"sk-text-repr-fallback\"><pre>RandomizedSearchCV(cv=5,\n",
              "                   estimator=DecisionTreeClassifier(max_depth=2, max_features=4,\n",
              "                                                    min_samples_leaf=3,\n",
              "                                                    random_state=0),\n",
              "                   param_distributions={&#x27;criterion&#x27;: [&#x27;gini&#x27;, &#x27;entropy&#x27;],\n",
              "                                        &#x27;max_depth&#x27;: [20, 50, 100, 150, 200,\n",
              "                                                      250],\n",
              "                                        &#x27;max_features&#x27;: &lt;scipy.stats._distn_infrastructure.rv_discrete_frozen object at 0x7f3fc9d02b50&gt;,\n",
              "                                        &#x27;min_samples_leaf&#x27;: &lt;scipy.stats._distn_infrastructure.rv_discrete_frozen object at 0x7f3fc9a004c0&gt;})</pre><b>In a Jupyter environment, please rerun this cell to show the HTML representation or trust the notebook. <br />On GitHub, the HTML representation is unable to render, please try loading this page with nbviewer.org.</b></div><div class=\"sk-container\" hidden><div class=\"sk-item sk-dashed-wrapped\"><div class=\"sk-label-container\"><div class=\"sk-label sk-toggleable\"><input class=\"sk-toggleable__control sk-hidden--visually\" id=\"sk-estimator-id-3\" type=\"checkbox\" ><label for=\"sk-estimator-id-3\" class=\"sk-toggleable__label sk-toggleable__label-arrow\">RandomizedSearchCV</label><div class=\"sk-toggleable__content\"><pre>RandomizedSearchCV(cv=5,\n",
              "                   estimator=DecisionTreeClassifier(max_depth=2, max_features=4,\n",
              "                                                    min_samples_leaf=3,\n",
              "                                                    random_state=0),\n",
              "                   param_distributions={&#x27;criterion&#x27;: [&#x27;gini&#x27;, &#x27;entropy&#x27;],\n",
              "                                        &#x27;max_depth&#x27;: [20, 50, 100, 150, 200,\n",
              "                                                      250],\n",
              "                                        &#x27;max_features&#x27;: &lt;scipy.stats._distn_infrastructure.rv_discrete_frozen object at 0x7f3fc9d02b50&gt;,\n",
              "                                        &#x27;min_samples_leaf&#x27;: &lt;scipy.stats._distn_infrastructure.rv_discrete_frozen object at 0x7f3fc9a004c0&gt;})</pre></div></div></div><div class=\"sk-parallel\"><div class=\"sk-parallel-item\"><div class=\"sk-item\"><div class=\"sk-label-container\"><div class=\"sk-label sk-toggleable\"><input class=\"sk-toggleable__control sk-hidden--visually\" id=\"sk-estimator-id-4\" type=\"checkbox\" ><label for=\"sk-estimator-id-4\" class=\"sk-toggleable__label sk-toggleable__label-arrow\">estimator: DecisionTreeClassifier</label><div class=\"sk-toggleable__content\"><pre>DecisionTreeClassifier(max_depth=2, max_features=4, min_samples_leaf=3,\n",
              "                       random_state=0)</pre></div></div></div><div class=\"sk-serial\"><div class=\"sk-item\"><div class=\"sk-estimator sk-toggleable\"><input class=\"sk-toggleable__control sk-hidden--visually\" id=\"sk-estimator-id-5\" type=\"checkbox\" ><label for=\"sk-estimator-id-5\" class=\"sk-toggleable__label sk-toggleable__label-arrow\">DecisionTreeClassifier</label><div class=\"sk-toggleable__content\"><pre>DecisionTreeClassifier(max_depth=2, max_features=4, min_samples_leaf=3,\n",
              "                       random_state=0)</pre></div></div></div></div></div></div></div></div></div></div>"
            ]
          },
          "metadata": {},
          "execution_count": 43
        },
        {
          "output_type": "stream",
          "name": "stdout",
          "text": [
            "Tuned Decision Tree Parameters: {'criterion': 'entropy', 'max_depth': 200, 'max_features': 2, 'min_samples_leaf': 3}\n",
            "Best score is 0.607708898749264\n"
          ]
        }
      ],
      "source": [
        "# Fit it to the data\n",
        "tree_cv.fit(train_x,train_y)\n",
        "# Print the tuned parameters and score\n",
        "print(\"Tuned Decision Tree Parameters: {}\".format(tree_cv.best_params_))\n",
        "print(\"Best score is {}\".format(tree_cv.best_score_))\n",
        "classes=tree_cv.predict(test_x)"
      ]
    },
    {
      "cell_type": "markdown",
      "source": [
        "#RandomizedSearchCV"
      ],
      "metadata": {
        "id": "ctUJjm9RJZOP"
      }
    },
    {
      "cell_type": "code",
      "execution_count": 44,
      "metadata": {
        "colab": {
          "base_uri": "https://localhost:8080/"
        },
        "id": "WN7B0ECQ97dx",
        "outputId": "299819d6-30e5-45aa-da21-9e969755c0e6"
      },
      "outputs": [
        {
          "output_type": "stream",
          "name": "stdout",
          "text": [
            "ACCUIRACY SCORE\n",
            "0.6111111111111112\n"
          ]
        }
      ],
      "source": [
        "#PRECISION AND RECALL\n",
        "print(\"ACCUIRACY SCORE\")\n",
        "print(metrics.accuracy_score(test_y,classes))"
      ]
    },
    {
      "cell_type": "code",
      "execution_count": 45,
      "metadata": {
        "colab": {
          "base_uri": "https://localhost:8080/"
        },
        "id": "QYLPYOXU97dz",
        "outputId": "c8b00b55-280e-4f45-cdd9-cd0f442478c3"
      },
      "outputs": [
        {
          "output_type": "stream",
          "name": "stdout",
          "text": [
            "precision/recall Metrics\n",
            "              precision    recall  f1-score   support\n",
            "\n",
            "           0       0.67      0.71      0.69       630\n",
            "           1       0.51      0.47      0.49       414\n",
            "\n",
            "    accuracy                           0.61      1044\n",
            "   macro avg       0.59      0.59      0.59      1044\n",
            "weighted avg       0.61      0.61      0.61      1044\n",
            "\n"
          ]
        }
      ],
      "source": [
        "#PRECISION RECALL MATRIX\n",
        "print(\"precision/recall Metrics\")\n",
        "print(metrics.classification_report(test_y,classes))"
      ]
    },
    {
      "cell_type": "code",
      "execution_count": 46,
      "metadata": {
        "colab": {
          "base_uri": "https://localhost:8080/",
          "height": 300
        },
        "id": "OhHmNgSf97d0",
        "outputId": "3328b85f-bacd-421b-a3d1-782d208acb7b"
      },
      "outputs": [
        {
          "output_type": "stream",
          "name": "stdout",
          "text": [
            "CONFUSION MATRIX\n"
          ]
        },
        {
          "output_type": "execute_result",
          "data": {
            "text/plain": [
              "<AxesSubplot:>"
            ]
          },
          "metadata": {},
          "execution_count": 46
        },
        {
          "output_type": "display_data",
          "data": {
            "text/plain": [
              "<Figure size 432x288 with 2 Axes>"
            ],
            "image/png": "[encoded data removed]"
          },
          "metadata": {
            "needs_background": "light"
          }
        }
      ],
      "source": [
        "#CONFUSION MATRIX\n",
        "print(\"CONFUSION MATRIX\")\n",
        "cf=metrics.confusion_matrix(test_y,classes)\n",
        "lbl1=[\"Predicted 0\",\"Predicted 1\"]\n",
        "lbl2=[\"True 0\",\"True 1\"]\n",
        "sns.heatmap(cf,annot=True,cmap=\"Greens\",fmt=\"d\",xticklabels=lbl1,yticklabels=lbl2)\n",
        "plt.show()"
      ]
    },
    {
      "cell_type": "code",
      "source": [
        "#AUC\n",
        "print(\"AUC\")\n",
        "auc=metrics.roc_auc_score(test_y,classes)\n",
        "auc"
      ],
      "metadata": {
        "colab": {
          "base_uri": "https://localhost:8080/"
        },
        "outputId": "edf117a3-0d94-4b1b-8692-3c708e7a8475",
        "id": "m17EMbn8u_sB"
      },
      "execution_count": 47,
      "outputs": [
        {
          "output_type": "stream",
          "name": "stdout",
          "text": [
            "AUC\n"
          ]
        },
        {
          "output_type": "execute_result",
          "data": {
            "text/plain": [
              "0.5862663906142167"
            ]
          },
          "metadata": {},
          "execution_count": 47
        }
      ]
    },
    {
      "cell_type": "code",
      "source": [
        "#ROC CHART\n",
        "fpr,tpr,th=roc_curve(test_y,classes)\n",
        "roc_auc=metrics.auc(fpr,tpr)\n",
        "import matplotlib.pyplot as plt\n",
        "plt.title(\"ROCR CHART\")\n",
        "plt.plot(fpr,tpr,'b',label=\"AUC=%0.2F\"%roc_auc)\n",
        "plt.legend(loc=\"lower right\")\n",
        "plt.plot([0,1],[0,1],\"o--\")\n",
        "plt.xlim([0,1])\n",
        "plt.ylim([0,1])\n",
        "plt.ylabel(\"TRUE POSITIVE RATE\")\n",
        "plt.xlabel(\"FALSE POSITIVE RATE\")\n",
        "plt.show();"
      ],
      "metadata": {
        "outputId": "164d9c73-1bb9-45e4-eb81-65e474d797df",
        "colab": {
          "base_uri": "https://localhost:8080/",
          "height": 295
        },
        "id": "EMRt1T0uu_sE"
      },
      "execution_count": 48,
      "outputs": [
        {
          "output_type": "display_data",
          "data": {
            "text/plain": [
              "<Figure size 432x288 with 1 Axes>"
            ],
            "image/png": "[encoded data removed]"
          },
          "metadata": {
            "needs_background": "light"
          }
        }
      ]
    },
    {
      "cell_type": "code",
      "execution_count": 49,
      "metadata": {
        "colab": {
          "base_uri": "https://localhost:8080/",
          "height": 118
        },
        "id": "1_hGRTRR_VU-",
        "outputId": "ec78d158-e6ba-4b85-8708-cfb162d8fcb4"
      },
      "outputs": [
        {
          "output_type": "execute_result",
          "data": {
            "text/plain": [
              "GridSearchCV(cv=3, estimator=DecisionTreeClassifier(),\n",
              "             param_grid={'criterion': ['gini', 'entropy'],\n",
              "                         'max_depth': [2, 5, 10, 15, 20, 25]})"
            ],
            "text/html": [
              "<style>#sk-container-id-4 {color: black;background-color: white;}#sk-container-id-4 pre{padding: 0;}#sk-container-id-4 div.sk-toggleable {background-color: white;}#sk-container-id-4 label.sk-toggleable__label {cursor: pointer;display: block;width: 100%;margin-bottom: 0;padding: 0.3em;box-sizing: border-box;text-align: center;}#sk-container-id-4 label.sk-toggleable__label-arrow:before {content: \"▸\";float: left;margin-right: 0.25em;color: #696969;}#sk-container-id-4 label.sk-toggleable__label-arrow:hover:before {color: black;}#sk-container-id-4 div.sk-estimator:hover label.sk-toggleable__label-arrow:before {color: black;}#sk-container-id-4 div.sk-toggleable__content {max-height: 0;max-width: 0;overflow: hidden;text-align: left;background-color: #f0f8ff;}#sk-container-id-4 div.sk-toggleable__content pre {margin: 0.2em;color: black;border-radius: 0.25em;background-color: #f0f8ff;}#sk-container-id-4 input.sk-toggleable__control:checked~div.sk-toggleable__content {max-height: 200px;max-width: 100%;overflow: auto;}#sk-container-id-4 input.sk-toggleable__control:checked~label.sk-toggleable__label-arrow:before {content: \"▾\";}#sk-container-id-4 div.sk-estimator input.sk-toggleable__control:checked~label.sk-toggleable__label {background-color: #d4ebff;}#sk-container-id-4 div.sk-label input.sk-toggleable__control:checked~label.sk-toggleable__label {background-color: #d4ebff;}#sk-container-id-4 input.sk-hidden--visually {border: 0;clip: rect(1px 1px 1px 1px);clip: rect(1px, 1px, 1px, 1px);height: 1px;margin: -1px;overflow: hidden;padding: 0;position: absolute;width: 1px;}#sk-container-id-4 div.sk-estimator {font-family: monospace;background-color: #f0f8ff;border: 1px dotted black;border-radius: 0.25em;box-sizing: border-box;margin-bottom: 0.5em;}#sk-container-id-4 div.sk-estimator:hover {background-color: #d4ebff;}#sk-container-id-4 div.sk-parallel-item::after {content: \"\";width: 100%;border-bottom: 1px solid gray;flex-grow: 1;}#sk-container-id-4 div.sk-label:hover label.sk-toggleable__label {background-color: #d4ebff;}#sk-container-id-4 div.sk-serial::before {content: \"\";position: absolute;border-left: 1px solid gray;box-sizing: border-box;top: 0;bottom: 0;left: 50%;z-index: 0;}#sk-container-id-4 div.sk-serial {display: flex;flex-direction: column;align-items: center;background-color: white;padding-right: 0.2em;padding-left: 0.2em;position: relative;}#sk-container-id-4 div.sk-item {position: relative;z-index: 1;}#sk-container-id-4 div.sk-parallel {display: flex;align-items: stretch;justify-content: center;background-color: white;position: relative;}#sk-container-id-4 div.sk-item::before, #sk-container-id-4 div.sk-parallel-item::before {content: \"\";position: absolute;border-left: 1px solid gray;box-sizing: border-box;top: 0;bottom: 0;left: 50%;z-index: -1;}#sk-container-id-4 div.sk-parallel-item {display: flex;flex-direction: column;z-index: 1;position: relative;background-color: white;}#sk-container-id-4 div.sk-parallel-item:first-child::after {align-self: flex-end;width: 50%;}#sk-container-id-4 div.sk-parallel-item:last-child::after {align-self: flex-start;width: 50%;}#sk-container-id-4 div.sk-parallel-item:only-child::after {width: 0;}#sk-container-id-4 div.sk-dashed-wrapped {border: 1px dashed gray;margin: 0 0.4em 0.5em 0.4em;box-sizing: border-box;padding-bottom: 0.4em;background-color: white;}#sk-container-id-4 div.sk-label label {font-family: monospace;font-weight: bold;display: inline-block;line-height: 1.2em;}#sk-container-id-4 div.sk-label-container {text-align: center;}#sk-container-id-4 div.sk-container {/* jupyter's `normalize.less` sets `[hidden] { display: none; }` but bootstrap.min.css set `[hidden] { display: none !important; }` so we also need the `!important` here to be able to override the default hidden behavior on the sphinx rendered scikit-learn.org. See: https://github.com/scikit-learn/scikit-learn/issues/21755 */display: inline-block !important;position: relative;}#sk-container-id-4 div.sk-text-repr-fallback {display: none;}</style><div id=\"sk-container-id-4\" class=\"sk-top-container\"><div class=\"sk-text-repr-fallback\"><pre>GridSearchCV(cv=3, estimator=DecisionTreeClassifier(),\n",
              "             param_grid={&#x27;criterion&#x27;: [&#x27;gini&#x27;, &#x27;entropy&#x27;],\n",
              "                         &#x27;max_depth&#x27;: [2, 5, 10, 15, 20, 25]})</pre><b>In a Jupyter environment, please rerun this cell to show the HTML representation or trust the notebook. <br />On GitHub, the HTML representation is unable to render, please try loading this page with nbviewer.org.</b></div><div class=\"sk-container\" hidden><div class=\"sk-item sk-dashed-wrapped\"><div class=\"sk-label-container\"><div class=\"sk-label sk-toggleable\"><input class=\"sk-toggleable__control sk-hidden--visually\" id=\"sk-estimator-id-6\" type=\"checkbox\" ><label for=\"sk-estimator-id-6\" class=\"sk-toggleable__label sk-toggleable__label-arrow\">GridSearchCV</label><div class=\"sk-toggleable__content\"><pre>GridSearchCV(cv=3, estimator=DecisionTreeClassifier(),\n",
              "             param_grid={&#x27;criterion&#x27;: [&#x27;gini&#x27;, &#x27;entropy&#x27;],\n",
              "                         &#x27;max_depth&#x27;: [2, 5, 10, 15, 20, 25]})</pre></div></div></div><div class=\"sk-parallel\"><div class=\"sk-parallel-item\"><div class=\"sk-item\"><div class=\"sk-label-container\"><div class=\"sk-label sk-toggleable\"><input class=\"sk-toggleable__control sk-hidden--visually\" id=\"sk-estimator-id-7\" type=\"checkbox\" ><label for=\"sk-estimator-id-7\" class=\"sk-toggleable__label sk-toggleable__label-arrow\">estimator: DecisionTreeClassifier</label><div class=\"sk-toggleable__content\"><pre>DecisionTreeClassifier()</pre></div></div></div><div class=\"sk-serial\"><div class=\"sk-item\"><div class=\"sk-estimator sk-toggleable\"><input class=\"sk-toggleable__control sk-hidden--visually\" id=\"sk-estimator-id-8\" type=\"checkbox\" ><label for=\"sk-estimator-id-8\" class=\"sk-toggleable__label sk-toggleable__label-arrow\">DecisionTreeClassifier</label><div class=\"sk-toggleable__content\"><pre>DecisionTreeClassifier()</pre></div></div></div></div></div></div></div></div></div></div>"
            ]
          },
          "metadata": {},
          "execution_count": 49
        }
      ],
      "source": [
        "my_max_depth=[2,5,10,15,20,25]\n",
        "my_criterion=['gini','entropy']\n",
        "#BUILDING THE MODEL\n",
        "mytreeone=DecisionTreeClassifier()\n",
        "#CROSS VALIDATION TELLS HOW A MODEL PERFORMS ON A DATASET USING MULTIPLE SAMPLES OF TRAIN DATA\n",
        "grid=GridSearchCV(estimator=mytreeone,cv=3,param_grid=dict(max_depth=my_max_depth,criterion=my_criterion))\n",
        "grid.fit(train_x,train_y)\n",
        "classes=grid.predict(test_x)"
      ]
    },
    {
      "cell_type": "markdown",
      "source": [
        "#GridSearchCV"
      ],
      "metadata": {
        "id": "Wk8PQXO2JgP3"
      }
    },
    {
      "cell_type": "code",
      "execution_count": 50,
      "metadata": {
        "colab": {
          "base_uri": "https://localhost:8080/"
        },
        "id": "crOus8iEAK3R",
        "outputId": "838adf7e-f39c-4062-c7ef-3829262e5249"
      },
      "outputs": [
        {
          "output_type": "stream",
          "name": "stdout",
          "text": [
            "ACCUIRACY SCORE\n",
            "0.7068965517241379\n"
          ]
        }
      ],
      "source": [
        "#PRECISION AND RECALL\n",
        "print(\"ACCUIRACY SCORE\")\n",
        "print(metrics.accuracy_score(test_y,classes))"
      ]
    },
    {
      "cell_type": "code",
      "execution_count": 51,
      "metadata": {
        "colab": {
          "base_uri": "https://localhost:8080/"
        },
        "id": "tWwbLMwkAK3T",
        "outputId": "94f71dfe-7e5c-4df3-c16b-8fad0db273ea"
      },
      "outputs": [
        {
          "output_type": "stream",
          "name": "stdout",
          "text": [
            "precision/recall Metrics\n",
            "              precision    recall  f1-score   support\n",
            "\n",
            "           0       0.70      0.92      0.79       630\n",
            "           1       0.75      0.39      0.51       414\n",
            "\n",
            "    accuracy                           0.71      1044\n",
            "   macro avg       0.72      0.65      0.65      1044\n",
            "weighted avg       0.72      0.71      0.68      1044\n",
            "\n"
          ]
        }
      ],
      "source": [
        "#PRECISION RECALL MATRIX\n",
        "print(\"precision/recall Metrics\")\n",
        "print(metrics.classification_report(test_y,classes))"
      ]
    },
    {
      "cell_type": "code",
      "execution_count": 52,
      "metadata": {
        "colab": {
          "base_uri": "https://localhost:8080/",
          "height": 300
        },
        "id": "9q8UQS4hAK3U",
        "outputId": "d947d9d4-1846-46ce-9877-750fa7a75f84"
      },
      "outputs": [
        {
          "output_type": "stream",
          "name": "stdout",
          "text": [
            "CONFUSION MATRIX\n"
          ]
        },
        {
          "output_type": "execute_result",
          "data": {
            "text/plain": [
              "<AxesSubplot:>"
            ]
          },
          "metadata": {},
          "execution_count": 52
        },
        {
          "output_type": "display_data",
          "data": {
            "text/plain": [
              "<Figure size 432x288 with 2 Axes>"
            ],
            "image/png": "[encoded data removed]"
          },
          "metadata": {
            "needs_background": "light"
          }
        }
      ],
      "source": [
        "#CONFUSION MATRIX\n",
        "print(\"CONFUSION MATRIX\")\n",
        "cf=metrics.confusion_matrix(test_y,classes)\n",
        "lbl1=[\"Predicted 0\",\"Predicted 1\"]\n",
        "lbl2=[\"True 0\",\"True 1\"]\n",
        "sns.heatmap(cf,annot=True,cmap=\"Greens\",fmt=\"d\",xticklabels=lbl1,yticklabels=lbl2)\n",
        "plt.show()"
      ]
    },
    {
      "cell_type": "code",
      "source": [
        "#AUC\n",
        "print(\"AUC\")\n",
        "auc=metrics.roc_auc_score(test_y,classes)\n",
        "auc"
      ],
      "metadata": {
        "colab": {
          "base_uri": "https://localhost:8080/"
        },
        "outputId": "061cc49e-4484-4f72-d554-e2b0b6d4a799",
        "id": "HoByU3uJvCLD"
      },
      "execution_count": 53,
      "outputs": [
        {
          "output_type": "stream",
          "name": "stdout",
          "text": [
            "AUC\n"
          ]
        },
        {
          "output_type": "execute_result",
          "data": {
            "text/plain": [
              "0.6523809523809524"
            ]
          },
          "metadata": {},
          "execution_count": 53
        }
      ]
    },
    {
      "cell_type": "code",
      "source": [
        "#ROC CHART\n",
        "fpr,tpr,th=roc_curve(test_y,classes)\n",
        "roc_auc=metrics.auc(fpr,tpr)\n",
        "import matplotlib.pyplot as plt\n",
        "plt.title(\"ROCR CHART\")\n",
        "plt.plot(fpr,tpr,'b',label=\"AUC=%0.2F\"%roc_auc)\n",
        "plt.legend(loc=\"lower right\")\n",
        "plt.plot([0,1],[0,1],\"o--\")\n",
        "plt.xlim([0,1])\n",
        "plt.ylim([0,1])\n",
        "plt.ylabel(\"TRUE POSITIVE RATE\")\n",
        "plt.xlabel(\"FALSE POSITIVE RATE\")\n",
        "plt.show();"
      ],
      "metadata": {
        "outputId": "a94a1edb-5b04-4ad8-9259-ee8b0ef7cc9f",
        "colab": {
          "base_uri": "https://localhost:8080/",
          "height": 295
        },
        "id": "c3cT0ECRvCLE"
      },
      "execution_count": 54,
      "outputs": [
        {
          "output_type": "display_data",
          "data": {
            "text/plain": [
              "<Figure size 432x288 with 1 Axes>"
            ],
            "image/png": "[encoded data removed]"
          },
          "metadata": {
            "needs_background": "light"
          }
        }
      ]
    },
    {
      "cell_type": "code",
      "execution_count": 55,
      "metadata": {
        "id": "67Xyd1VtAPmi"
      },
      "outputs": [],
      "source": [
        "n_estimators=[10,500,100,2000]\n",
        "criterion=['gini','entropy']\n",
        "min_samples_split=[2,100,20,50,100]\n",
        "max_depth=[20,30,40,50,None]"
      ]
    },
    {
      "cell_type": "code",
      "execution_count": 56,
      "metadata": {
        "colab": {
          "base_uri": "https://localhost:8080/",
          "height": 135
        },
        "id": "ErDeNj2XBsZ3",
        "outputId": "23f64cbc-19e9-424a-89cb-de1ce8d83b7c"
      },
      "outputs": [
        {
          "output_type": "stream",
          "name": "stdout",
          "text": [
            "Fitting 5 folds for each of 10 candidates, totalling 50 fits\n"
          ]
        },
        {
          "output_type": "execute_result",
          "data": {
            "text/plain": [
              "RandomizedSearchCV(cv=5, estimator=RandomForestClassifier(), n_jobs=-1,\n",
              "                   param_distributions={'criterion': ['gini', 'entropy'],\n",
              "                                        'max_depth': [20, 30, 40, 50, None],\n",
              "                                        'min_samples_split': [2, 100, 20, 50,\n",
              "                                                              100],\n",
              "                                        'n_estimators': [10, 500, 100, 2000]},\n",
              "                   verbose=2)"
            ],
            "text/html": [
              "<style>#sk-container-id-5 {color: black;background-color: white;}#sk-container-id-5 pre{padding: 0;}#sk-container-id-5 div.sk-toggleable {background-color: white;}#sk-container-id-5 label.sk-toggleable__label {cursor: pointer;display: block;width: 100%;margin-bottom: 0;padding: 0.3em;box-sizing: border-box;text-align: center;}#sk-container-id-5 label.sk-toggleable__label-arrow:before {content: \"▸\";float: left;margin-right: 0.25em;color: #696969;}#sk-container-id-5 label.sk-toggleable__label-arrow:hover:before {color: black;}#sk-container-id-5 div.sk-estimator:hover label.sk-toggleable__label-arrow:before {color: black;}#sk-container-id-5 div.sk-toggleable__content {max-height: 0;max-width: 0;overflow: hidden;text-align: left;background-color: #f0f8ff;}#sk-container-id-5 div.sk-toggleable__content pre {margin: 0.2em;color: black;border-radius: 0.25em;background-color: #f0f8ff;}#sk-container-id-5 input.sk-toggleable__control:checked~div.sk-toggleable__content {max-height: 200px;max-width: 100%;overflow: auto;}#sk-container-id-5 input.sk-toggleable__control:checked~label.sk-toggleable__label-arrow:before {content: \"▾\";}#sk-container-id-5 div.sk-estimator input.sk-toggleable__control:checked~label.sk-toggleable__label {background-color: #d4ebff;}#sk-container-id-5 div.sk-label input.sk-toggleable__control:checked~label.sk-toggleable__label {background-color: #d4ebff;}#sk-container-id-5 input.sk-hidden--visually {border: 0;clip: rect(1px 1px 1px 1px);clip: rect(1px, 1px, 1px, 1px);height: 1px;margin: -1px;overflow: hidden;padding: 0;position: absolute;width: 1px;}#sk-container-id-5 div.sk-estimator {font-family: monospace;background-color: #f0f8ff;border: 1px dotted black;border-radius: 0.25em;box-sizing: border-box;margin-bottom: 0.5em;}#sk-container-id-5 div.sk-estimator:hover {background-color: #d4ebff;}#sk-container-id-5 div.sk-parallel-item::after {content: \"\";width: 100%;border-bottom: 1px solid gray;flex-grow: 1;}#sk-container-id-5 div.sk-label:hover label.sk-toggleable__label {background-color: #d4ebff;}#sk-container-id-5 div.sk-serial::before {content: \"\";position: absolute;border-left: 1px solid gray;box-sizing: border-box;top: 0;bottom: 0;left: 50%;z-index: 0;}#sk-container-id-5 div.sk-serial {display: flex;flex-direction: column;align-items: center;background-color: white;padding-right: 0.2em;padding-left: 0.2em;position: relative;}#sk-container-id-5 div.sk-item {position: relative;z-index: 1;}#sk-container-id-5 div.sk-parallel {display: flex;align-items: stretch;justify-content: center;background-color: white;position: relative;}#sk-container-id-5 div.sk-item::before, #sk-container-id-5 div.sk-parallel-item::before {content: \"\";position: absolute;border-left: 1px solid gray;box-sizing: border-box;top: 0;bottom: 0;left: 50%;z-index: -1;}#sk-container-id-5 div.sk-parallel-item {display: flex;flex-direction: column;z-index: 1;position: relative;background-color: white;}#sk-container-id-5 div.sk-parallel-item:first-child::after {align-self: flex-end;width: 50%;}#sk-container-id-5 div.sk-parallel-item:last-child::after {align-self: flex-start;width: 50%;}#sk-container-id-5 div.sk-parallel-item:only-child::after {width: 0;}#sk-container-id-5 div.sk-dashed-wrapped {border: 1px dashed gray;margin: 0 0.4em 0.5em 0.4em;box-sizing: border-box;padding-bottom: 0.4em;background-color: white;}#sk-container-id-5 div.sk-label label {font-family: monospace;font-weight: bold;display: inline-block;line-height: 1.2em;}#sk-container-id-5 div.sk-label-container {text-align: center;}#sk-container-id-5 div.sk-container {/* jupyter's `normalize.less` sets `[hidden] { display: none; }` but bootstrap.min.css set `[hidden] { display: none !important; }` so we also need the `!important` here to be able to override the default hidden behavior on the sphinx rendered scikit-learn.org. See: https://github.com/scikit-learn/scikit-learn/issues/21755 */display: inline-block !important;position: relative;}#sk-container-id-5 div.sk-text-repr-fallback {display: none;}</style><div id=\"sk-container-id-5\" class=\"sk-top-container\"><div class=\"sk-text-repr-fallback\"><pre>RandomizedSearchCV(cv=5, estimator=RandomForestClassifier(), n_jobs=-1,\n",
              "                   param_distributions={&#x27;criterion&#x27;: [&#x27;gini&#x27;, &#x27;entropy&#x27;],\n",
              "                                        &#x27;max_depth&#x27;: [20, 30, 40, 50, None],\n",
              "                                        &#x27;min_samples_split&#x27;: [2, 100, 20, 50,\n",
              "                                                              100],\n",
              "                                        &#x27;n_estimators&#x27;: [10, 500, 100, 2000]},\n",
              "                   verbose=2)</pre><b>In a Jupyter environment, please rerun this cell to show the HTML representation or trust the notebook. <br />On GitHub, the HTML representation is unable to render, please try loading this page with nbviewer.org.</b></div><div class=\"sk-container\" hidden><div class=\"sk-item sk-dashed-wrapped\"><div class=\"sk-label-container\"><div class=\"sk-label sk-toggleable\"><input class=\"sk-toggleable__control sk-hidden--visually\" id=\"sk-estimator-id-9\" type=\"checkbox\" ><label for=\"sk-estimator-id-9\" class=\"sk-toggleable__label sk-toggleable__label-arrow\">RandomizedSearchCV</label><div class=\"sk-toggleable__content\"><pre>RandomizedSearchCV(cv=5, estimator=RandomForestClassifier(), n_jobs=-1,\n",
              "                   param_distributions={&#x27;criterion&#x27;: [&#x27;gini&#x27;, &#x27;entropy&#x27;],\n",
              "                                        &#x27;max_depth&#x27;: [20, 30, 40, 50, None],\n",
              "                                        &#x27;min_samples_split&#x27;: [2, 100, 20, 50,\n",
              "                                                              100],\n",
              "                                        &#x27;n_estimators&#x27;: [10, 500, 100, 2000]},\n",
              "                   verbose=2)</pre></div></div></div><div class=\"sk-parallel\"><div class=\"sk-parallel-item\"><div class=\"sk-item\"><div class=\"sk-label-container\"><div class=\"sk-label sk-toggleable\"><input class=\"sk-toggleable__control sk-hidden--visually\" id=\"sk-estimator-id-10\" type=\"checkbox\" ><label for=\"sk-estimator-id-10\" class=\"sk-toggleable__label sk-toggleable__label-arrow\">estimator: RandomForestClassifier</label><div class=\"sk-toggleable__content\"><pre>RandomForestClassifier()</pre></div></div></div><div class=\"sk-serial\"><div class=\"sk-item\"><div class=\"sk-estimator sk-toggleable\"><input class=\"sk-toggleable__control sk-hidden--visually\" id=\"sk-estimator-id-11\" type=\"checkbox\" ><label for=\"sk-estimator-id-11\" class=\"sk-toggleable__label sk-toggleable__label-arrow\">RandomForestClassifier</label><div class=\"sk-toggleable__content\"><pre>RandomForestClassifier()</pre></div></div></div></div></div></div></div></div></div></div>"
            ]
          },
          "metadata": {},
          "execution_count": 56
        }
      ],
      "source": [
        "param_grid={'n_estimators':n_estimators,'criterion':criterion,'min_samples_split':min_samples_split,'max_depth':max_depth}\n",
        "rf=RandomForestClassifier()\n",
        "rf_g=RandomizedSearchCV(rf,param_grid,cv=5,verbose=2,n_jobs=-1)\n",
        "rf_g.fit(train_x,train_y)"
      ]
    },
    {
      "cell_type": "code",
      "execution_count": 57,
      "metadata": {
        "id": "yizF4dUuCa8P"
      },
      "outputs": [],
      "source": [
        "#PREDICT USING THE TRAINED MODEL\n",
        "classes=rf_g.predict(test_x)"
      ]
    },
    {
      "cell_type": "markdown",
      "source": [
        "#RandomForestClassifier with RandomizedSearchCV"
      ],
      "metadata": {
        "id": "H9lEBWfCJmLx"
      }
    },
    {
      "cell_type": "code",
      "execution_count": 58,
      "metadata": {
        "id": "URA1_7dqDHol",
        "colab": {
          "base_uri": "https://localhost:8080/"
        },
        "outputId": "87845461-04d8-412e-b982-88042898e235"
      },
      "outputs": [
        {
          "output_type": "stream",
          "name": "stdout",
          "text": [
            "ACCUIRACY SCORE\n",
            "0.7365900383141762\n"
          ]
        }
      ],
      "source": [
        "#PRECISION AND RECALL\n",
        "print(\"ACCUIRACY SCORE\")\n",
        "print(metrics.accuracy_score(test_y,classes))"
      ]
    },
    {
      "cell_type": "code",
      "execution_count": 59,
      "metadata": {
        "id": "UWrl0Qf-DHon",
        "colab": {
          "base_uri": "https://localhost:8080/"
        },
        "outputId": "40b20cb9-bafe-44e9-9ed2-8c80fe02abae"
      },
      "outputs": [
        {
          "output_type": "stream",
          "name": "stdout",
          "text": [
            "precision/recall Metrics\n",
            "              precision    recall  f1-score   support\n",
            "\n",
            "           0       0.72      0.92      0.81       630\n",
            "           1       0.79      0.46      0.58       414\n",
            "\n",
            "    accuracy                           0.74      1044\n",
            "   macro avg       0.75      0.69      0.69      1044\n",
            "weighted avg       0.75      0.74      0.72      1044\n",
            "\n"
          ]
        }
      ],
      "source": [
        "#PRECISION RECALL MATRIX\n",
        "print(\"precision/recall Metrics\")\n",
        "print(metrics.classification_report(test_y,classes))"
      ]
    },
    {
      "cell_type": "code",
      "execution_count": 60,
      "metadata": {
        "id": "LpZ9U3nZDHoo",
        "colab": {
          "base_uri": "https://localhost:8080/",
          "height": 300
        },
        "outputId": "1f79680b-f2be-4f24-cb33-e45b759e4354"
      },
      "outputs": [
        {
          "output_type": "stream",
          "name": "stdout",
          "text": [
            "CONFUSION MATRIX\n"
          ]
        },
        {
          "output_type": "execute_result",
          "data": {
            "text/plain": [
              "<AxesSubplot:>"
            ]
          },
          "metadata": {},
          "execution_count": 60
        },
        {
          "output_type": "display_data",
          "data": {
            "text/plain": [
              "<Figure size 432x288 with 2 Axes>"
            ],
            "image/png": "[encoded data removed]"
          },
          "metadata": {
            "needs_background": "light"
          }
        }
      ],
      "source": [
        "#CONFUSION MATRIX\n",
        "print(\"CONFUSION MATRIX\")\n",
        "cf=metrics.confusion_matrix(test_y,classes)\n",
        "lbl1=[\"Predicted 0\",\"Predicted 1\"]\n",
        "lbl2=[\"True 0\",\"True 1\"]\n",
        "sns.heatmap(cf,annot=True,cmap=\"Greens\",fmt=\"d\",xticklabels=lbl1,yticklabels=lbl2)\n",
        "plt.show()"
      ]
    },
    {
      "cell_type": "code",
      "source": [
        "#AUC\n",
        "print(\"AUC\")\n",
        "auc=metrics.roc_auc_score(test_y,classes)\n",
        "auc"
      ],
      "metadata": {
        "id": "_mJZi7N_vFdu",
        "colab": {
          "base_uri": "https://localhost:8080/"
        },
        "outputId": "8327543e-a168-40b1-c5d8-7d2367d11a45"
      },
      "execution_count": 61,
      "outputs": [
        {
          "output_type": "stream",
          "name": "stdout",
          "text": [
            "AUC\n"
          ]
        },
        {
          "output_type": "execute_result",
          "data": {
            "text/plain": [
              "0.6889924085576259"
            ]
          },
          "metadata": {},
          "execution_count": 61
        }
      ]
    },
    {
      "cell_type": "code",
      "source": [
        "#ROC CHART\n",
        "fpr,tpr,th=roc_curve(test_y,classes)\n",
        "roc_auc=metrics.auc(fpr,tpr)\n",
        "import matplotlib.pyplot as plt\n",
        "plt.title(\"ROCR CHART\")\n",
        "plt.plot(fpr,tpr,'b',label=\"AUC=%0.2F\"%roc_auc)\n",
        "plt.legend(loc=\"lower right\")\n",
        "plt.plot([0,1],[0,1],\"o--\")\n",
        "plt.xlim([0,1])\n",
        "plt.ylim([0,1])\n",
        "plt.ylabel(\"TRUE POSITIVE RATE\")\n",
        "plt.xlabel(\"FALSE POSITIVE RATE\")\n",
        "plt.show();"
      ],
      "metadata": {
        "id": "V4T0ew61vFdw",
        "colab": {
          "base_uri": "https://localhost:8080/",
          "height": 295
        },
        "outputId": "0176d19e-d540-4bc3-e120-e91dba17f317"
      },
      "execution_count": 62,
      "outputs": [
        {
          "output_type": "display_data",
          "data": {
            "text/plain": [
              "<Figure size 432x288 with 1 Axes>"
            ],
            "image/png": "[encoded data removed]"
          },
          "metadata": {
            "needs_background": "light"
          }
        }
      ]
    },
    {
      "cell_type": "code",
      "source": [
        "from sklearn.neighbors import KNeighborsClassifier\n",
        "from xgboost import XGBClassifier"
      ],
      "metadata": {
        "id": "OpzwlXIJHQjr"
      },
      "execution_count": 63,
      "outputs": []
    },
    {
      "cell_type": "code",
      "source": [
        "model = KNeighborsClassifier(n_neighbors=8)\n",
        "model.fit(train_x,train_y)\n",
        "predicted_values=model.predict(test_x)\n",
        "predicted_values"
      ],
      "metadata": {
        "id": "d0I5aMJ9HTCR",
        "colab": {
          "base_uri": "https://localhost:8080/",
          "height": 92
        },
        "outputId": "b3cf6edc-4000-4a4e-c192-ef5ceb2197a2"
      },
      "execution_count": 64,
      "outputs": [
        {
          "output_type": "execute_result",
          "data": {
            "text/plain": [
              "KNeighborsClassifier(n_neighbors=8)"
            ],
            "text/html": [
              "<style>#sk-container-id-6 {color: black;background-color: white;}#sk-container-id-6 pre{padding: 0;}#sk-container-id-6 div.sk-toggleable {background-color: white;}#sk-container-id-6 label.sk-toggleable__label {cursor: pointer;display: block;width: 100%;margin-bottom: 0;padding: 0.3em;box-sizing: border-box;text-align: center;}#sk-container-id-6 label.sk-toggleable__label-arrow:before {content: \"▸\";float: left;margin-right: 0.25em;color: #696969;}#sk-container-id-6 label.sk-toggleable__label-arrow:hover:before {color: black;}#sk-container-id-6 div.sk-estimator:hover label.sk-toggleable__label-arrow:before {color: black;}#sk-container-id-6 div.sk-toggleable__content {max-height: 0;max-width: 0;overflow: hidden;text-align: left;background-color: #f0f8ff;}#sk-container-id-6 div.sk-toggleable__content pre {margin: 0.2em;color: black;border-radius: 0.25em;background-color: #f0f8ff;}#sk-container-id-6 input.sk-toggleable__control:checked~div.sk-toggleable__content {max-height: 200px;max-width: 100%;overflow: auto;}#sk-container-id-6 input.sk-toggleable__control:checked~label.sk-toggleable__label-arrow:before {content: \"▾\";}#sk-container-id-6 div.sk-estimator input.sk-toggleable__control:checked~label.sk-toggleable__label {background-color: #d4ebff;}#sk-container-id-6 div.sk-label input.sk-toggleable__control:checked~label.sk-toggleable__label {background-color: #d4ebff;}#sk-container-id-6 input.sk-hidden--visually {border: 0;clip: rect(1px 1px 1px 1px);clip: rect(1px, 1px, 1px, 1px);height: 1px;margin: -1px;overflow: hidden;padding: 0;position: absolute;width: 1px;}#sk-container-id-6 div.sk-estimator {font-family: monospace;background-color: #f0f8ff;border: 1px dotted black;border-radius: 0.25em;box-sizing: border-box;margin-bottom: 0.5em;}#sk-container-id-6 div.sk-estimator:hover {background-color: #d4ebff;}#sk-container-id-6 div.sk-parallel-item::after {content: \"\";width: 100%;border-bottom: 1px solid gray;flex-grow: 1;}#sk-container-id-6 div.sk-label:hover label.sk-toggleable__label {background-color: #d4ebff;}#sk-container-id-6 div.sk-serial::before {content: \"\";position: absolute;border-left: 1px solid gray;box-sizing: border-box;top: 0;bottom: 0;left: 50%;z-index: 0;}#sk-container-id-6 div.sk-serial {display: flex;flex-direction: column;align-items: center;background-color: white;padding-right: 0.2em;padding-left: 0.2em;position: relative;}#sk-container-id-6 div.sk-item {position: relative;z-index: 1;}#sk-container-id-6 div.sk-parallel {display: flex;align-items: stretch;justify-content: center;background-color: white;position: relative;}#sk-container-id-6 div.sk-item::before, #sk-container-id-6 div.sk-parallel-item::before {content: \"\";position: absolute;border-left: 1px solid gray;box-sizing: border-box;top: 0;bottom: 0;left: 50%;z-index: -1;}#sk-container-id-6 div.sk-parallel-item {display: flex;flex-direction: column;z-index: 1;position: relative;background-color: white;}#sk-container-id-6 div.sk-parallel-item:first-child::after {align-self: flex-end;width: 50%;}#sk-container-id-6 div.sk-parallel-item:last-child::after {align-self: flex-start;width: 50%;}#sk-container-id-6 div.sk-parallel-item:only-child::after {width: 0;}#sk-container-id-6 div.sk-dashed-wrapped {border: 1px dashed gray;margin: 0 0.4em 0.5em 0.4em;box-sizing: border-box;padding-bottom: 0.4em;background-color: white;}#sk-container-id-6 div.sk-label label {font-family: monospace;font-weight: bold;display: inline-block;line-height: 1.2em;}#sk-container-id-6 div.sk-label-container {text-align: center;}#sk-container-id-6 div.sk-container {/* jupyter's `normalize.less` sets `[hidden] { display: none; }` but bootstrap.min.css set `[hidden] { display: none !important; }` so we also need the `!important` here to be able to override the default hidden behavior on the sphinx rendered scikit-learn.org. See: https://github.com/scikit-learn/scikit-learn/issues/21755 */display: inline-block !important;position: relative;}#sk-container-id-6 div.sk-text-repr-fallback {display: none;}</style><div id=\"sk-container-id-6\" class=\"sk-top-container\"><div class=\"sk-text-repr-fallback\"><pre>KNeighborsClassifier(n_neighbors=8)</pre><b>In a Jupyter environment, please rerun this cell to show the HTML representation or trust the notebook. <br />On GitHub, the HTML representation is unable to render, please try loading this page with nbviewer.org.</b></div><div class=\"sk-container\" hidden><div class=\"sk-item\"><div class=\"sk-estimator sk-toggleable\"><input class=\"sk-toggleable__control sk-hidden--visually\" id=\"sk-estimator-id-12\" type=\"checkbox\" checked><label for=\"sk-estimator-id-12\" class=\"sk-toggleable__label sk-toggleable__label-arrow\">KNeighborsClassifier</label><div class=\"sk-toggleable__content\"><pre>KNeighborsClassifier(n_neighbors=8)</pre></div></div></div></div></div>"
            ]
          },
          "metadata": {},
          "execution_count": 64
        },
        {
          "output_type": "execute_result",
          "data": {
            "text/plain": [
              "array([0, 0, 0, ..., 0, 1, 0], dtype=int8)"
            ]
          },
          "metadata": {},
          "execution_count": 64
        }
      ]
    },
    {
      "cell_type": "markdown",
      "source": [
        "#KNeighborsClassifier"
      ],
      "metadata": {
        "id": "RDfLD0gHJ0TD"
      }
    },
    {
      "cell_type": "code",
      "source": [
        "#PRECISION AND RECALL\n",
        "print(\"ACCUIRACY SCORE\")\n",
        "print(metrics.accuracy_score(test_y,predicted_values))"
      ],
      "metadata": {
        "id": "AZ4u62HVHZhq",
        "colab": {
          "base_uri": "https://localhost:8080/"
        },
        "outputId": "05321da5-d6b3-49e0-a0a2-e741b97f0cb6"
      },
      "execution_count": 65,
      "outputs": [
        {
          "output_type": "stream",
          "name": "stdout",
          "text": [
            "ACCUIRACY SCORE\n",
            "0.6791187739463601\n"
          ]
        }
      ]
    },
    {
      "cell_type": "code",
      "source": [
        "#PRECISION RECALL MATRIX\n",
        "print(\"precision/recall Metrics\")\n",
        "print(metrics.classification_report(test_y,predicted_values))"
      ],
      "metadata": {
        "id": "7QF0ucDYIGzl",
        "colab": {
          "base_uri": "https://localhost:8080/"
        },
        "outputId": "9c8ae76d-1120-47c6-c44b-c68548734764"
      },
      "execution_count": 66,
      "outputs": [
        {
          "output_type": "stream",
          "name": "stdout",
          "text": [
            "precision/recall Metrics\n",
            "              precision    recall  f1-score   support\n",
            "\n",
            "           0       0.68      0.89      0.77       630\n",
            "           1       0.68      0.36      0.47       414\n",
            "\n",
            "    accuracy                           0.68      1044\n",
            "   macro avg       0.68      0.62      0.62      1044\n",
            "weighted avg       0.68      0.68      0.65      1044\n",
            "\n"
          ]
        }
      ]
    },
    {
      "cell_type": "code",
      "source": [
        "#CONFUSION MATRIX\n",
        "print(\"CONFUSION MATRIX\")\n",
        "cf=metrics.confusion_matrix(test_y,predicted_values)\n",
        "lbl1=[\"Predicted 0\",\"Predicted 1\"]\n",
        "lbl2=[\"True 0\",\"True 1\"]\n",
        "sns.heatmap(cf,annot=True,cmap=\"Greens\",fmt=\"d\",xticklabels=lbl1,yticklabels=lbl2)\n",
        "plt.show()"
      ],
      "metadata": {
        "id": "cMj3u-EBIJf3",
        "colab": {
          "base_uri": "https://localhost:8080/",
          "height": 300
        },
        "outputId": "21cf08c4-97ef-4cfe-a1f9-94861a08ef39"
      },
      "execution_count": 67,
      "outputs": [
        {
          "output_type": "stream",
          "name": "stdout",
          "text": [
            "CONFUSION MATRIX\n"
          ]
        },
        {
          "output_type": "execute_result",
          "data": {
            "text/plain": [
              "<AxesSubplot:>"
            ]
          },
          "metadata": {},
          "execution_count": 67
        },
        {
          "output_type": "display_data",
          "data": {
            "text/plain": [
              "<Figure size 432x288 with 2 Axes>"
            ],
            "image/png": "[encoded data removed]"
          },
          "metadata": {
            "needs_background": "light"
          }
        }
      ]
    },
    {
      "cell_type": "code",
      "source": [
        "#AUC\n",
        "print(\"AUC\")\n",
        "auc=metrics.roc_auc_score(test_y,classes)\n",
        "auc"
      ],
      "metadata": {
        "id": "9zywrKvyvHou",
        "colab": {
          "base_uri": "https://localhost:8080/"
        },
        "outputId": "85f7842b-e2e5-447d-a3ce-0ba08e29badb"
      },
      "execution_count": 68,
      "outputs": [
        {
          "output_type": "stream",
          "name": "stdout",
          "text": [
            "AUC\n"
          ]
        },
        {
          "output_type": "execute_result",
          "data": {
            "text/plain": [
              "0.6889924085576259"
            ]
          },
          "metadata": {},
          "execution_count": 68
        }
      ]
    },
    {
      "cell_type": "code",
      "source": [
        "#ROC CHART\n",
        "fpr,tpr,th=roc_curve(test_y,classes)\n",
        "roc_auc=metrics.auc(fpr,tpr)\n",
        "import matplotlib.pyplot as plt\n",
        "plt.title(\"ROCR CHART\")\n",
        "plt.plot(fpr,tpr,'b',label=\"AUC=%0.2F\"%roc_auc)\n",
        "plt.legend(loc=\"lower right\")\n",
        "plt.plot([0,1],[0,1],\"o--\")\n",
        "plt.xlim([0,1])\n",
        "plt.ylim([0,1])\n",
        "plt.ylabel(\"TRUE POSITIVE RATE\")\n",
        "plt.xlabel(\"FALSE POSITIVE RATE\")\n",
        "plt.show();"
      ],
      "metadata": {
        "id": "E4wDizkJvHow",
        "colab": {
          "base_uri": "https://localhost:8080/",
          "height": 295
        },
        "outputId": "c029c283-47c0-48af-d675-bae87a3f819a"
      },
      "execution_count": 69,
      "outputs": [
        {
          "output_type": "display_data",
          "data": {
            "text/plain": [
              "<Figure size 432x288 with 1 Axes>"
            ],
            "image/png": "[encoded data removed]"
          },
          "metadata": {
            "needs_background": "light"
          }
        }
      ]
    },
    {
      "cell_type": "code",
      "source": [
        "# fit model no training data\n",
        "model = XGBClassifier()\n",
        "model.fit(train_x, train_y)"
      ],
      "metadata": {
        "id": "SnAxTs08IOpt",
        "colab": {
          "base_uri": "https://localhost:8080/",
          "height": 248
        },
        "outputId": "ad2d2b32-1dcd-4e75-de9d-6e904c910ef2"
      },
      "execution_count": 70,
      "outputs": [
        {
          "output_type": "execute_result",
          "data": {
            "text/plain": [
              "XGBClassifier(base_score=None, booster=None, callbacks=None,\n",
              "              colsample_bylevel=None, colsample_bynode=None,\n",
              "              colsample_bytree=None, early_stopping_rounds=None,\n",
              "              enable_categorical=False, eval_metric=None, feature_types=None,\n",
              "              gamma=None, gpu_id=None, grow_policy=None, importance_type=None,\n",
              "              interaction_constraints=None, learning_rate=None, max_bin=None,\n",
              "              max_cat_threshold=None, max_cat_to_onehot=None,\n",
              "              max_delta_step=None, max_depth=None, max_leaves=None,\n",
              "              min_child_weight=None, missing=nan, monotone_constraints=None,\n",
              "              n_estimators=100, n_jobs=None, num_parallel_tree=None,\n",
              "              predictor=None, random_state=None, ...)"
            ],
            "text/html": [
              "<style>#sk-container-id-7 {color: black;background-color: white;}#sk-container-id-7 pre{padding: 0;}#sk-container-id-7 div.sk-toggleable {background-color: white;}#sk-container-id-7 label.sk-toggleable__label {cursor: pointer;display: block;width: 100%;margin-bottom: 0;padding: 0.3em;box-sizing: border-box;text-align: center;}#sk-container-id-7 label.sk-toggleable__label-arrow:before {content: \"▸\";float: left;margin-right: 0.25em;color: #696969;}#sk-container-id-7 label.sk-toggleable__label-arrow:hover:before {color: black;}#sk-container-id-7 div.sk-estimator:hover label.sk-toggleable__label-arrow:before {color: black;}#sk-container-id-7 div.sk-toggleable__content {max-height: 0;max-width: 0;overflow: hidden;text-align: left;background-color: #f0f8ff;}#sk-container-id-7 div.sk-toggleable__content pre {margin: 0.2em;color: black;border-radius: 0.25em;background-color: #f0f8ff;}#sk-container-id-7 input.sk-toggleable__control:checked~div.sk-toggleable__content {max-height: 200px;max-width: 100%;overflow: auto;}#sk-container-id-7 input.sk-toggleable__control:checked~label.sk-toggleable__label-arrow:before {content: \"▾\";}#sk-container-id-7 div.sk-estimator input.sk-toggleable__control:checked~label.sk-toggleable__label {background-color: #d4ebff;}#sk-container-id-7 div.sk-label input.sk-toggleable__control:checked~label.sk-toggleable__label {background-color: #d4ebff;}#sk-container-id-7 input.sk-hidden--visually {border: 0;clip: rect(1px 1px 1px 1px);clip: rect(1px, 1px, 1px, 1px);height: 1px;margin: -1px;overflow: hidden;padding: 0;position: absolute;width: 1px;}#sk-container-id-7 div.sk-estimator {font-family: monospace;background-color: #f0f8ff;border: 1px dotted black;border-radius: 0.25em;box-sizing: border-box;margin-bottom: 0.5em;}#sk-container-id-7 div.sk-estimator:hover {background-color: #d4ebff;}#sk-container-id-7 div.sk-parallel-item::after {content: \"\";width: 100%;border-bottom: 1px solid gray;flex-grow: 1;}#sk-container-id-7 div.sk-label:hover label.sk-toggleable__label {background-color: #d4ebff;}#sk-container-id-7 div.sk-serial::before {content: \"\";position: absolute;border-left: 1px solid gray;box-sizing: border-box;top: 0;bottom: 0;left: 50%;z-index: 0;}#sk-container-id-7 div.sk-serial {display: flex;flex-direction: column;align-items: center;background-color: white;padding-right: 0.2em;padding-left: 0.2em;position: relative;}#sk-container-id-7 div.sk-item {position: relative;z-index: 1;}#sk-container-id-7 div.sk-parallel {display: flex;align-items: stretch;justify-content: center;background-color: white;position: relative;}#sk-container-id-7 div.sk-item::before, #sk-container-id-7 div.sk-parallel-item::before {content: \"\";position: absolute;border-left: 1px solid gray;box-sizing: border-box;top: 0;bottom: 0;left: 50%;z-index: -1;}#sk-container-id-7 div.sk-parallel-item {display: flex;flex-direction: column;z-index: 1;position: relative;background-color: white;}#sk-container-id-7 div.sk-parallel-item:first-child::after {align-self: flex-end;width: 50%;}#sk-container-id-7 div.sk-parallel-item:last-child::after {align-self: flex-start;width: 50%;}#sk-container-id-7 div.sk-parallel-item:only-child::after {width: 0;}#sk-container-id-7 div.sk-dashed-wrapped {border: 1px dashed gray;margin: 0 0.4em 0.5em 0.4em;box-sizing: border-box;padding-bottom: 0.4em;background-color: white;}#sk-container-id-7 div.sk-label label {font-family: monospace;font-weight: bold;display: inline-block;line-height: 1.2em;}#sk-container-id-7 div.sk-label-container {text-align: center;}#sk-container-id-7 div.sk-container {/* jupyter's `normalize.less` sets `[hidden] { display: none; }` but bootstrap.min.css set `[hidden] { display: none !important; }` so we also need the `!important` here to be able to override the default hidden behavior on the sphinx rendered scikit-learn.org. See: https://github.com/scikit-learn/scikit-learn/issues/21755 */display: inline-block !important;position: relative;}#sk-container-id-7 div.sk-text-repr-fallback {display: none;}</style><div id=\"sk-container-id-7\" class=\"sk-top-container\"><div class=\"sk-text-repr-fallback\"><pre>XGBClassifier(base_score=None, booster=None, callbacks=None,\n",
              "              colsample_bylevel=None, colsample_bynode=None,\n",
              "              colsample_bytree=None, early_stopping_rounds=None,\n",
              "              enable_categorical=False, eval_metric=None, feature_types=None,\n",
              "              gamma=None, gpu_id=None, grow_policy=None, importance_type=None,\n",
              "              interaction_constraints=None, learning_rate=None, max_bin=None,\n",
              "              max_cat_threshold=None, max_cat_to_onehot=None,\n",
              "              max_delta_step=None, max_depth=None, max_leaves=None,\n",
              "              min_child_weight=None, missing=nan, monotone_constraints=None,\n",
              "              n_estimators=100, n_jobs=None, num_parallel_tree=None,\n",
              "              predictor=None, random_state=None, ...)</pre><b>In a Jupyter environment, please rerun this cell to show the HTML representation or trust the notebook. <br />On GitHub, the HTML representation is unable to render, please try loading this page with nbviewer.org.</b></div><div class=\"sk-container\" hidden><div class=\"sk-item\"><div class=\"sk-estimator sk-toggleable\"><input class=\"sk-toggleable__control sk-hidden--visually\" id=\"sk-estimator-id-13\" type=\"checkbox\" checked><label for=\"sk-estimator-id-13\" class=\"sk-toggleable__label sk-toggleable__label-arrow\">XGBClassifier</label><div class=\"sk-toggleable__content\"><pre>XGBClassifier(base_score=None, booster=None, callbacks=None,\n",
              "              colsample_bylevel=None, colsample_bynode=None,\n",
              "              colsample_bytree=None, early_stopping_rounds=None,\n",
              "              enable_categorical=False, eval_metric=None, feature_types=None,\n",
              "              gamma=None, gpu_id=None, grow_policy=None, importance_type=None,\n",
              "              interaction_constraints=None, learning_rate=None, max_bin=None,\n",
              "              max_cat_threshold=None, max_cat_to_onehot=None,\n",
              "              max_delta_step=None, max_depth=None, max_leaves=None,\n",
              "              min_child_weight=None, missing=nan, monotone_constraints=None,\n",
              "              n_estimators=100, n_jobs=None, num_parallel_tree=None,\n",
              "              predictor=None, random_state=None, ...)</pre></div></div></div></div></div>"
            ]
          },
          "metadata": {},
          "execution_count": 70
        }
      ]
    },
    {
      "cell_type": "code",
      "source": [
        "# make predictions for test data\n",
        "y_pred = model.predict(test_x)\n",
        "predictions = [round(value) for value in y_pred]"
      ],
      "metadata": {
        "id": "sfRS-AbIIRSI"
      },
      "execution_count": 71,
      "outputs": []
    },
    {
      "cell_type": "markdown",
      "source": [
        "#XGBClassifier"
      ],
      "metadata": {
        "id": "ZrCR0GaMJ6wM"
      }
    },
    {
      "cell_type": "code",
      "source": [
        "#PRECISION AND RECALL\n",
        "print(\"ACCUIRACY SCORE\")\n",
        "print(metrics.accuracy_score(test_y,predictions))"
      ],
      "metadata": {
        "id": "xvPY9PZuIVf4",
        "colab": {
          "base_uri": "https://localhost:8080/"
        },
        "outputId": "93b87d6c-7bb9-4d16-9c91-3d08f6c55081"
      },
      "execution_count": 72,
      "outputs": [
        {
          "output_type": "stream",
          "name": "stdout",
          "text": [
            "ACCUIRACY SCORE\n",
            "0.7672413793103449\n"
          ]
        }
      ]
    },
    {
      "cell_type": "code",
      "source": [
        "#PRECISION RECALL MATRIX\n",
        "print(\"precision/recall Metrics\")\n",
        "print(metrics.classification_report(test_y,predictions))"
      ],
      "metadata": {
        "id": "TDd71soeIZI-",
        "colab": {
          "base_uri": "https://localhost:8080/"
        },
        "outputId": "05b75a0e-e1f7-4f60-f61d-06d4def6fceb"
      },
      "execution_count": 73,
      "outputs": [
        {
          "output_type": "stream",
          "name": "stdout",
          "text": [
            "precision/recall Metrics\n",
            "              precision    recall  f1-score   support\n",
            "\n",
            "           0       0.78      0.86      0.82       630\n",
            "           1       0.75      0.62      0.68       414\n",
            "\n",
            "    accuracy                           0.77      1044\n",
            "   macro avg       0.76      0.74      0.75      1044\n",
            "weighted avg       0.77      0.77      0.76      1044\n",
            "\n"
          ]
        }
      ]
    },
    {
      "cell_type": "code",
      "source": [
        "#CONFUSION MATRIX\n",
        "print(\"CONFUSION MATRIX\")\n",
        "cf=metrics.confusion_matrix(test_y,predictions)\n",
        "lbl1=[\"Predicted 0\",\"Predicted 1\"]\n",
        "lbl2=[\"True 0\",\"True 1\"]\n",
        "sns.heatmap(cf,annot=True,cmap=\"Greens\",fmt=\"d\",xticklabels=lbl1,yticklabels=lbl2)\n",
        "plt.show()"
      ],
      "metadata": {
        "id": "tc2UT2whIcMe",
        "colab": {
          "base_uri": "https://localhost:8080/",
          "height": 300
        },
        "outputId": "15207d37-7773-4de2-ed72-a2344b1a741e"
      },
      "execution_count": 74,
      "outputs": [
        {
          "output_type": "stream",
          "name": "stdout",
          "text": [
            "CONFUSION MATRIX\n"
          ]
        },
        {
          "output_type": "execute_result",
          "data": {
            "text/plain": [
              "<AxesSubplot:>"
            ]
          },
          "metadata": {},
          "execution_count": 74
        },
        {
          "output_type": "display_data",
          "data": {
            "text/plain": [
              "<Figure size 432x288 with 2 Axes>"
            ],
            "image/png": "[encoded data removed]"
          },
          "metadata": {
            "needs_background": "light"
          }
        }
      ]
    },
    {
      "cell_type": "code",
      "source": [
        "#AUC\n",
        "print(\"AUC\")\n",
        "auc=metrics.roc_auc_score(test_y,classes)\n",
        "auc"
      ],
      "metadata": {
        "id": "K1hujIbkvJkw",
        "colab": {
          "base_uri": "https://localhost:8080/"
        },
        "outputId": "4c3ac3d5-963f-46eb-b43c-78e82d27f4ff"
      },
      "execution_count": 75,
      "outputs": [
        {
          "output_type": "stream",
          "name": "stdout",
          "text": [
            "AUC\n"
          ]
        },
        {
          "output_type": "execute_result",
          "data": {
            "text/plain": [
              "0.6889924085576259"
            ]
          },
          "metadata": {},
          "execution_count": 75
        }
      ]
    },
    {
      "cell_type": "code",
      "source": [
        "#ROC CHART\n",
        "fpr,tpr,th=roc_curve(test_y,classes)\n",
        "roc_auc=metrics.auc(fpr,tpr)\n",
        "import matplotlib.pyplot as plt\n",
        "plt.title(\"ROCR CHART\")\n",
        "plt.plot(fpr,tpr,'b',label=\"AUC=%0.2F\"%roc_auc)\n",
        "plt.legend(loc=\"lower right\")\n",
        "plt.plot([0,1],[0,1],\"o--\")\n",
        "plt.xlim([0,1])\n",
        "plt.ylim([0,1])\n",
        "plt.ylabel(\"TRUE POSITIVE RATE\")\n",
        "plt.xlabel(\"FALSE POSITIVE RATE\")\n",
        "plt.show();"
      ],
      "metadata": {
        "id": "z4SQ3-xcvJky",
        "colab": {
          "base_uri": "https://localhost:8080/",
          "height": 295
        },
        "outputId": "89da5716-470f-4425-c055-81605aad7e95"
      },
      "execution_count": 76,
      "outputs": [
        {
          "output_type": "display_data",
          "data": {
            "text/plain": [
              "<Figure size 432x288 with 1 Axes>"
            ],
            "image/png": "[encoded data removed]"
          },
          "metadata": {
            "needs_background": "light"
          }
        }
      ]
    },
    {
      "cell_type": "code",
      "source": [
        "!jupyter nbconvert --to html KOTAK_momentum_indicators_GoLong.ipynb"
      ],
      "metadata": {
        "id": "1r08hotupTUd",
        "colab": {
          "base_uri": "https://localhost:8080/"
        },
        "outputId": "7aa004bd-3270-414a-ae88-8003631ec8d0"
      },
      "execution_count": 78,
      "outputs": [
        {
          "output_type": "stream",
          "name": "stdout",
          "text": [
            "[NbConvertApp] Converting notebook KOTAK_momentum_indicators_GoLong.ipynb to html\n",
            "[NbConvertApp] Writing 1109551 bytes to KOTAK_momentum_indicators_GoLong.html\n"
          ]
        }
      ]
    }
  ],
  "metadata": {
    "colab": {
      "provenance": []
    },
    "gpuClass": "standard",
    "kernelspec": {
      "display_name": "Python 3",
      "name": "python3"
    },
    "language_info": {
      "name": "python"
    }
  },
  "nbformat": 4,
  "nbformat_minor": 0
}